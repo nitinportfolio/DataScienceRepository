{
 "cells": [
  {
   "cell_type": "markdown",
   "id": "e2f769dc",
   "metadata": {},
   "source": [
    "## Accuracy\n",
    "- Percentage of Correct Predictions"
   ]
  },
  {
   "cell_type": "code",
   "execution_count": 42,
   "id": "f9373ef6",
   "metadata": {},
   "outputs": [],
   "source": [
    "import numpy as np\n",
    "import pandas as pd\n",
    "\n",
    "from sklearn.ensemble import RandomForestClassifier\n",
    "from sklearn.linear_model import LogisticRegression\n",
    "\n",
    "from sklearn.model_selection import train_test_split\n",
    "\n",
    "from sklearn.metrics import (accuracy_score, \n",
    "                             precision_score, recall_score,\n",
    "                             f1_score, precision_recall_fscore_support, \n",
    "                            confusion_matrix)\n",
    "\n",
    "from yellowbrick.classifier import (ClassificationReport, \n",
    "                                   DiscriminationThreshold)"
   ]
  },
  {
   "cell_type": "code",
   "execution_count": 5,
   "id": "af96d45e",
   "metadata": {},
   "outputs": [],
   "source": [
    "data = pd.read_csv('./data/kdd2004.csv')\n",
    "data['target']=data['target'].map({-1:0,1:1})"
   ]
  },
  {
   "cell_type": "code",
   "execution_count": 6,
   "id": "4fe436ae",
   "metadata": {},
   "outputs": [
    {
     "data": {
      "text/plain": [
       "(145751, 75)"
      ]
     },
     "execution_count": 6,
     "metadata": {},
     "output_type": "execute_result"
    }
   ],
   "source": [
    "data.shape"
   ]
  },
  {
   "cell_type": "code",
   "execution_count": 7,
   "id": "7569ab9e",
   "metadata": {},
   "outputs": [
    {
     "data": {
      "text/html": [
       "<div>\n",
       "<style scoped>\n",
       "    .dataframe tbody tr th:only-of-type {\n",
       "        vertical-align: middle;\n",
       "    }\n",
       "\n",
       "    .dataframe tbody tr th {\n",
       "        vertical-align: top;\n",
       "    }\n",
       "\n",
       "    .dataframe thead th {\n",
       "        text-align: right;\n",
       "    }\n",
       "</style>\n",
       "<table border=\"1\" class=\"dataframe\">\n",
       "  <thead>\n",
       "    <tr style=\"text-align: right;\">\n",
       "      <th></th>\n",
       "      <th>0</th>\n",
       "      <th>1</th>\n",
       "      <th>2</th>\n",
       "      <th>3</th>\n",
       "      <th>4</th>\n",
       "      <th>5</th>\n",
       "      <th>6</th>\n",
       "      <th>7</th>\n",
       "      <th>8</th>\n",
       "      <th>9</th>\n",
       "      <th>10</th>\n",
       "      <th>11</th>\n",
       "      <th>12</th>\n",
       "      <th>13</th>\n",
       "      <th>14</th>\n",
       "      <th>...</th>\n",
       "      <th>60</th>\n",
       "      <th>61</th>\n",
       "      <th>62</th>\n",
       "      <th>63</th>\n",
       "      <th>64</th>\n",
       "      <th>65</th>\n",
       "      <th>66</th>\n",
       "      <th>67</th>\n",
       "      <th>68</th>\n",
       "      <th>69</th>\n",
       "      <th>70</th>\n",
       "      <th>71</th>\n",
       "      <th>72</th>\n",
       "      <th>73</th>\n",
       "      <th>target</th>\n",
       "    </tr>\n",
       "  </thead>\n",
       "  <tbody>\n",
       "    <tr>\n",
       "      <th>0</th>\n",
       "      <td>52.0</td>\n",
       "      <td>32.69</td>\n",
       "      <td>0.30</td>\n",
       "      <td>2.5</td>\n",
       "      <td>20.0</td>\n",
       "      <td>1256.8</td>\n",
       "      <td>-0.89</td>\n",
       "      <td>0.33</td>\n",
       "      <td>11.0</td>\n",
       "      <td>-55.0</td>\n",
       "      <td>267.2</td>\n",
       "      <td>0.52</td>\n",
       "      <td>0.05</td>\n",
       "      <td>-2.36</td>\n",
       "      <td>49.6</td>\n",
       "      <td>...</td>\n",
       "      <td>72.5</td>\n",
       "      <td>0.47</td>\n",
       "      <td>0.74</td>\n",
       "      <td>-11.0</td>\n",
       "      <td>-8.0</td>\n",
       "      <td>1595.1</td>\n",
       "      <td>-1.64</td>\n",
       "      <td>2.83</td>\n",
       "      <td>-2.0</td>\n",
       "      <td>-50.0</td>\n",
       "      <td>445.2</td>\n",
       "      <td>-0.35</td>\n",
       "      <td>0.26</td>\n",
       "      <td>0.76</td>\n",
       "      <td>0</td>\n",
       "    </tr>\n",
       "    <tr>\n",
       "      <th>1</th>\n",
       "      <td>58.0</td>\n",
       "      <td>33.33</td>\n",
       "      <td>0.00</td>\n",
       "      <td>16.5</td>\n",
       "      <td>9.5</td>\n",
       "      <td>608.1</td>\n",
       "      <td>0.50</td>\n",
       "      <td>0.07</td>\n",
       "      <td>20.5</td>\n",
       "      <td>-52.5</td>\n",
       "      <td>521.6</td>\n",
       "      <td>-1.08</td>\n",
       "      <td>0.58</td>\n",
       "      <td>-0.02</td>\n",
       "      <td>-3.2</td>\n",
       "      <td>...</td>\n",
       "      <td>45.0</td>\n",
       "      <td>0.58</td>\n",
       "      <td>0.41</td>\n",
       "      <td>-19.0</td>\n",
       "      <td>-6.0</td>\n",
       "      <td>762.9</td>\n",
       "      <td>0.29</td>\n",
       "      <td>0.82</td>\n",
       "      <td>-3.0</td>\n",
       "      <td>-35.0</td>\n",
       "      <td>140.3</td>\n",
       "      <td>1.16</td>\n",
       "      <td>0.39</td>\n",
       "      <td>0.73</td>\n",
       "      <td>0</td>\n",
       "    </tr>\n",
       "    <tr>\n",
       "      <th>2</th>\n",
       "      <td>77.0</td>\n",
       "      <td>27.27</td>\n",
       "      <td>-0.91</td>\n",
       "      <td>6.0</td>\n",
       "      <td>58.5</td>\n",
       "      <td>1623.6</td>\n",
       "      <td>-1.40</td>\n",
       "      <td>0.02</td>\n",
       "      <td>-6.5</td>\n",
       "      <td>-48.0</td>\n",
       "      <td>621.0</td>\n",
       "      <td>-1.20</td>\n",
       "      <td>0.14</td>\n",
       "      <td>-0.20</td>\n",
       "      <td>73.6</td>\n",
       "      <td>...</td>\n",
       "      <td>82.3</td>\n",
       "      <td>0.47</td>\n",
       "      <td>-0.19</td>\n",
       "      <td>-10.0</td>\n",
       "      <td>7.0</td>\n",
       "      <td>1491.8</td>\n",
       "      <td>0.32</td>\n",
       "      <td>-1.29</td>\n",
       "      <td>0.0</td>\n",
       "      <td>-34.0</td>\n",
       "      <td>658.2</td>\n",
       "      <td>-0.76</td>\n",
       "      <td>0.26</td>\n",
       "      <td>0.24</td>\n",
       "      <td>0</td>\n",
       "    </tr>\n",
       "    <tr>\n",
       "      <th>3</th>\n",
       "      <td>41.0</td>\n",
       "      <td>27.91</td>\n",
       "      <td>-0.35</td>\n",
       "      <td>3.0</td>\n",
       "      <td>46.0</td>\n",
       "      <td>1921.6</td>\n",
       "      <td>-1.36</td>\n",
       "      <td>-0.47</td>\n",
       "      <td>-32.0</td>\n",
       "      <td>-51.5</td>\n",
       "      <td>560.9</td>\n",
       "      <td>-0.29</td>\n",
       "      <td>-0.10</td>\n",
       "      <td>-1.11</td>\n",
       "      <td>124.3</td>\n",
       "      <td>...</td>\n",
       "      <td>255.9</td>\n",
       "      <td>-0.46</td>\n",
       "      <td>1.57</td>\n",
       "      <td>10.0</td>\n",
       "      <td>6.0</td>\n",
       "      <td>2047.7</td>\n",
       "      <td>-0.98</td>\n",
       "      <td>1.53</td>\n",
       "      <td>0.0</td>\n",
       "      <td>-49.0</td>\n",
       "      <td>554.2</td>\n",
       "      <td>-0.83</td>\n",
       "      <td>0.39</td>\n",
       "      <td>0.73</td>\n",
       "      <td>0</td>\n",
       "    </tr>\n",
       "    <tr>\n",
       "      <th>4</th>\n",
       "      <td>50.0</td>\n",
       "      <td>28.00</td>\n",
       "      <td>-1.32</td>\n",
       "      <td>-9.0</td>\n",
       "      <td>12.0</td>\n",
       "      <td>464.8</td>\n",
       "      <td>0.88</td>\n",
       "      <td>0.19</td>\n",
       "      <td>8.0</td>\n",
       "      <td>-51.5</td>\n",
       "      <td>98.1</td>\n",
       "      <td>1.09</td>\n",
       "      <td>-0.33</td>\n",
       "      <td>-2.16</td>\n",
       "      <td>-3.9</td>\n",
       "      <td>...</td>\n",
       "      <td>30.1</td>\n",
       "      <td>0.80</td>\n",
       "      <td>-0.24</td>\n",
       "      <td>5.0</td>\n",
       "      <td>-14.0</td>\n",
       "      <td>479.5</td>\n",
       "      <td>0.68</td>\n",
       "      <td>-0.59</td>\n",
       "      <td>2.0</td>\n",
       "      <td>-36.0</td>\n",
       "      <td>-6.9</td>\n",
       "      <td>2.02</td>\n",
       "      <td>0.14</td>\n",
       "      <td>-0.23</td>\n",
       "      <td>0</td>\n",
       "    </tr>\n",
       "  </tbody>\n",
       "</table>\n",
       "<p>5 rows × 75 columns</p>\n",
       "</div>"
      ],
      "text/plain": [
       "      0      1     2     3     4       5     6     7     8     9     10    11  \\\n",
       "0  52.0  32.69  0.30   2.5  20.0  1256.8 -0.89  0.33  11.0 -55.0  267.2  0.52   \n",
       "1  58.0  33.33  0.00  16.5   9.5   608.1  0.50  0.07  20.5 -52.5  521.6 -1.08   \n",
       "2  77.0  27.27 -0.91   6.0  58.5  1623.6 -1.40  0.02  -6.5 -48.0  621.0 -1.20   \n",
       "3  41.0  27.91 -0.35   3.0  46.0  1921.6 -1.36 -0.47 -32.0 -51.5  560.9 -0.29   \n",
       "4  50.0  28.00 -1.32  -9.0  12.0   464.8  0.88  0.19   8.0 -51.5   98.1  1.09   \n",
       "\n",
       "     12    13     14  ...     60    61    62    63    64      65    66    67  \\\n",
       "0  0.05 -2.36   49.6  ...   72.5  0.47  0.74 -11.0  -8.0  1595.1 -1.64  2.83   \n",
       "1  0.58 -0.02   -3.2  ...   45.0  0.58  0.41 -19.0  -6.0   762.9  0.29  0.82   \n",
       "2  0.14 -0.20   73.6  ...   82.3  0.47 -0.19 -10.0   7.0  1491.8  0.32 -1.29   \n",
       "3 -0.10 -1.11  124.3  ...  255.9 -0.46  1.57  10.0   6.0  2047.7 -0.98  1.53   \n",
       "4 -0.33 -2.16   -3.9  ...   30.1  0.80 -0.24   5.0 -14.0   479.5  0.68 -0.59   \n",
       "\n",
       "    68    69     70    71    72    73  target  \n",
       "0 -2.0 -50.0  445.2 -0.35  0.26  0.76       0  \n",
       "1 -3.0 -35.0  140.3  1.16  0.39  0.73       0  \n",
       "2  0.0 -34.0  658.2 -0.76  0.26  0.24       0  \n",
       "3  0.0 -49.0  554.2 -0.83  0.39  0.73       0  \n",
       "4  2.0 -36.0   -6.9  2.02  0.14 -0.23       0  \n",
       "\n",
       "[5 rows x 75 columns]"
      ]
     },
     "execution_count": 7,
     "metadata": {},
     "output_type": "execute_result"
    }
   ],
   "source": [
    "data.head()"
   ]
  },
  {
   "cell_type": "code",
   "execution_count": 8,
   "id": "fbbd1cb6",
   "metadata": {},
   "outputs": [
    {
     "data": {
      "text/plain": [
       "0    144455\n",
       "1      1296\n",
       "Name: target, dtype: int64"
      ]
     },
     "execution_count": 8,
     "metadata": {},
     "output_type": "execute_result"
    }
   ],
   "source": [
    "data['target'].value_counts()"
   ]
  },
  {
   "cell_type": "code",
   "execution_count": 10,
   "id": "a5061a3b",
   "metadata": {},
   "outputs": [
    {
     "data": {
      "text/plain": [
       "0    0.991108\n",
       "1    0.008892\n",
       "Name: target, dtype: float64"
      ]
     },
     "execution_count": 10,
     "metadata": {},
     "output_type": "execute_result"
    }
   ],
   "source": [
    "# Imbalanced ration\n",
    "\n",
    "data.target.value_counts()/len(data)"
   ]
  },
  {
   "cell_type": "code",
   "execution_count": 11,
   "id": "928cf9ea",
   "metadata": {},
   "outputs": [],
   "source": [
    "# Train & test data\n",
    "\n",
    "X_train, X_test, y_train, y_test = train_test_split(data.drop(labels=['target'], axis = 1), \n",
    "                                                    data['target'],test_size=0.3,random_state=0)"
   ]
  },
  {
   "cell_type": "code",
   "execution_count": 12,
   "id": "6f2088c6",
   "metadata": {},
   "outputs": [
    {
     "data": {
      "text/plain": [
       "((102025, 74), (43726, 74))"
      ]
     },
     "execution_count": 12,
     "metadata": {},
     "output_type": "execute_result"
    }
   ],
   "source": [
    "X_train.shape, X_test.shape"
   ]
  },
  {
   "cell_type": "code",
   "execution_count": 13,
   "id": "8a1b89f9",
   "metadata": {},
   "outputs": [],
   "source": [
    "# Base line model always predict zero or majority class\n",
    "\n",
    "y_train_base = pd.Series(np.zeros(len(y_train)))\n",
    "y_test_base = pd.Series(np.zeros(len(y_test)))"
   ]
  },
  {
   "cell_type": "markdown",
   "id": "bd96b52b",
   "metadata": {},
   "source": [
    "## Train ML Model "
   ]
  },
  {
   "cell_type": "markdown",
   "id": "35d057d6",
   "metadata": {},
   "source": [
    "### Random Forest"
   ]
  },
  {
   "cell_type": "code",
   "execution_count": 15,
   "id": "01613a1e",
   "metadata": {},
   "outputs": [],
   "source": [
    "rf = RandomForestClassifier(n_estimators=100, random_state=39, max_depth=2, n_jobs=-1)\n",
    "\n",
    "rf.fit(X_train, y_train)\n",
    "\n",
    "y_train_rf = rf.predict_proba(X_train)[:,1]\n",
    "y_test_rf = rf.predict_proba(X_test)[:,1]"
   ]
  },
  {
   "cell_type": "code",
   "execution_count": 20,
   "id": "818e56f3",
   "metadata": {},
   "outputs": [
    {
     "data": {
      "text/plain": [
       "array([[0.99620636, 0.00379364],\n",
       "       [0.99660927, 0.00339073],\n",
       "       [0.99660927, 0.00339073],\n",
       "       ...,\n",
       "       [0.99660927, 0.00339073],\n",
       "       [0.99660927, 0.00339073],\n",
       "       [0.99660927, 0.00339073]])"
      ]
     },
     "execution_count": 20,
     "metadata": {},
     "output_type": "execute_result"
    }
   ],
   "source": [
    "rf.predict_proba(X_train)"
   ]
  },
  {
   "cell_type": "code",
   "execution_count": 21,
   "id": "15a0ccdf",
   "metadata": {},
   "outputs": [
    {
     "data": {
      "text/plain": [
       "array([0.00379364, 0.00339073, 0.00339073, ..., 0.00339073, 0.00339073,\n",
       "       0.00339073])"
      ]
     },
     "execution_count": 21,
     "metadata": {},
     "output_type": "execute_result"
    }
   ],
   "source": [
    " rf.predict_proba(X_train)[:,1]"
   ]
  },
  {
   "cell_type": "code",
   "execution_count": 25,
   "id": "7351236a",
   "metadata": {},
   "outputs": [
    {
     "name": "stdout",
     "output_type": "stream",
     "text": [
      "BaseLine Test 0.9907377761514888\n",
      "RandomForest 0.9962951104605955\n"
     ]
    }
   ],
   "source": [
    "print('BaseLine Test', accuracy_score(y_test, y_test_base))\n",
    "print('RandomForest', accuracy_score(y_test, rf.predict(X_test)))"
   ]
  },
  {
   "cell_type": "markdown",
   "id": "65ff8f8a",
   "metadata": {},
   "source": [
    "### Baseline model that always predict the majority class hass similar accuracy compared to random forest"
   ]
  },
  {
   "cell_type": "markdown",
   "id": "aec9650b",
   "metadata": {},
   "source": [
    "# Percentage of Minority class correctly classified"
   ]
  },
  {
   "cell_type": "code",
   "execution_count": 26,
   "id": "35d445fe",
   "metadata": {},
   "outputs": [],
   "source": [
    "def return_minority_perc(y_true, y_pred):\n",
    "    minority_total = np.sum(y_true)\n",
    "    minority_correct = np.sum(np.where((y_true==1)&(y_pred==1),1,0))\n",
    "    return minority_correct / minority_total *100\n",
    "    "
   ]
  },
  {
   "cell_type": "code",
   "execution_count": 27,
   "id": "bf325513",
   "metadata": {},
   "outputs": [
    {
     "name": "stdout",
     "output_type": "stream",
     "text": [
      "% minority correctly classified, Baseline test:  0.0\n",
      "% minority correctly classified, Random Forest test: 60.24691358024692\n"
     ]
    }
   ],
   "source": [
    "print('% minority correctly classified, Baseline test: ', return_minority_perc(y_test, y_test_base))\n",
    "print('% minority correctly classified, Random Forest test:', return_minority_perc(y_test, rf.predict(X_test)))\n"
   ]
  },
  {
   "cell_type": "markdown",
   "id": "af1bf27b",
   "metadata": {},
   "source": [
    "# Precision - Recall - F1 - Support"
   ]
  },
  {
   "cell_type": "markdown",
   "id": "0d66024d",
   "metadata": {},
   "source": [
    "**Precision** - From the total samples identified as positive by \n",
    "the model, how many of them were really positives? Hence an \n",
    "increase in precision is a reduction in the number of false \n",
    "positives. Again we want to maximize the Precision.\n",
    "\n",
    "**Precision = TP/TP + FP - Of all the observations that were positive were detected positive**\n",
    "\n",
    "\n",
    "**Recall** - Total number of positive examples that were correctly \n",
    "identified as positive by the model. Hence the increase in the \n",
    "recall decreases the probability of misclassifying a sample\n",
    "from a minority class. Hence we always want to have a high \n",
    "recall rate.\n",
    "\n",
    "**Recall = TP/TP + FN - Rate of positive class**"
   ]
  },
  {
   "cell_type": "markdown",
   "id": "9e0878ad",
   "metadata": {},
   "source": [
    "## Precision "
   ]
  },
  {
   "cell_type": "code",
   "execution_count": 29,
   "id": "bfb496ca",
   "metadata": {},
   "outputs": [
    {
     "name": "stderr",
     "output_type": "stream",
     "text": [
      "C:\\ProgramData\\Anaconda3\\lib\\site-packages\\sklearn\\metrics\\_classification.py:1318: UndefinedMetricWarning: Precision is ill-defined and being set to 0.0 due to no predicted samples. Use `zero_division` parameter to control this behavior.\n",
      "  _warn_prf(average, modifier, msg_start, len(result))\n"
     ]
    },
    {
     "name": "stdout",
     "output_type": "stream",
     "text": [
      "Precision Baseline Test 0.0\n",
      "Precision RandomForest Test 0.9959183673469387\n"
     ]
    }
   ],
   "source": [
    "print('Precision Baseline Test', precision_score(y_test, y_test_base))\n",
    "print('Precision RandomForest Test', precision_score(y_test, rf.predict(X_test)))"
   ]
  },
  {
   "cell_type": "markdown",
   "id": "cb06b143",
   "metadata": {},
   "source": [
    "## Recall"
   ]
  },
  {
   "cell_type": "code",
   "execution_count": 32,
   "id": "03774d54",
   "metadata": {},
   "outputs": [
    {
     "name": "stdout",
     "output_type": "stream",
     "text": [
      "Recall Baseline Test 0.0\n",
      "Recall RandomForest Test 0.6024691358024692\n"
     ]
    }
   ],
   "source": [
    "# telling system which is the minority calss that pos_label = 1\n",
    "print('Recall Baseline Test', recall_score(y_test, y_test_base, pos_label=1))\n",
    "print('Recall RandomForest Test', recall_score(y_test, rf.predict(X_test), pos_label=1))"
   ]
  },
  {
   "cell_type": "markdown",
   "id": "138191fa",
   "metadata": {},
   "source": [
    "## F1 Score"
   ]
  },
  {
   "cell_type": "code",
   "execution_count": 33,
   "id": "65b30382",
   "metadata": {},
   "outputs": [
    {
     "name": "stdout",
     "output_type": "stream",
     "text": [
      "F1 Baseline Test 0.0\n",
      "F1 RandomForest Test 0.7507692307692309\n"
     ]
    }
   ],
   "source": [
    "# telling system which is the minority calss that pos_label = 1\n",
    "print('F1 Baseline Test', f1_score(y_test, y_test_base, pos_label=1))\n",
    "print('F1 RandomForest Test', f1_score(y_test, rf.predict(X_test), pos_label=1))"
   ]
  },
  {
   "cell_type": "markdown",
   "id": "804223fc",
   "metadata": {},
   "source": [
    "## Full classification report"
   ]
  },
  {
   "cell_type": "code",
   "execution_count": 34,
   "id": "8a8ca536",
   "metadata": {},
   "outputs": [
    {
     "name": "stderr",
     "output_type": "stream",
     "text": [
      "C:\\ProgramData\\Anaconda3\\lib\\site-packages\\sklearn\\base.py:450: UserWarning: X does not have valid feature names, but RandomForestClassifier was fitted with feature names\n",
      "  warnings.warn(\n"
     ]
    },
    {
     "data": {
      "image/png": "[encoded data removed]",
      "text/plain": [
       "<Figure size 576x396 with 2 Axes>"
      ]
     },
     "metadata": {},
     "output_type": "display_data"
    },
    {
     "data": {
      "text/plain": [
       "<AxesSubplot:title={'center':'RandomForestClassifier Classification Report'}>"
      ]
     },
     "execution_count": 34,
     "metadata": {},
     "output_type": "execute_result"
    }
   ],
   "source": [
    "visualizer  = ClassificationReport(rf)\n",
    "visualizer.fit(X_train, y_train)\n",
    "visualizer.score(X_test, y_test)\n",
    "visualizer.show()"
   ]
  },
  {
   "cell_type": "markdown",
   "id": "8cca8d48",
   "metadata": {},
   "source": [
    "- **F1** = 2 * (precision * recall) / (precision + recall)\n",
    "\n",
    "- **Support** = Number of cases on each class\n",
    "\n",
    "\n",
    "Precision, Recall and therefore F-measure depend on the probability threshold utilised to determine the class output."
   ]
  },
  {
   "cell_type": "markdown",
   "id": "a4f26f4f",
   "metadata": {},
   "source": [
    "## Logistic Regression"
   ]
  },
  {
   "cell_type": "code",
   "execution_count": 35,
   "id": "02d57ce7",
   "metadata": {},
   "outputs": [
    {
     "name": "stderr",
     "output_type": "stream",
     "text": [
      "C:\\ProgramData\\Anaconda3\\lib\\site-packages\\sklearn\\linear_model\\_logistic.py:814: ConvergenceWarning: lbfgs failed to converge (status=1):\n",
      "STOP: TOTAL NO. of ITERATIONS REACHED LIMIT.\n",
      "\n",
      "Increase the number of iterations (max_iter) or scale the data as shown in:\n",
      "    https://scikit-learn.org/stable/modules/preprocessing.html\n",
      "Please also refer to the documentation for alternative solver options:\n",
      "    https://scikit-learn.org/stable/modules/linear_model.html#logistic-regression\n",
      "  n_iter_i = _check_optimize_result(\n"
     ]
    }
   ],
   "source": [
    "logit = LogisticRegression(random_state=0,  max_iter=1000)\n",
    "\n",
    "logit.fit(X_train, y_train)\n",
    "\n",
    "y_train_logit = logit.predict_proba(X_train)[:,1]\n",
    "y_test_logit = logit.predict_proba(X_test)[:,1]"
   ]
  },
  {
   "cell_type": "code",
   "execution_count": 39,
   "id": "03631c85",
   "metadata": {},
   "outputs": [
    {
     "name": "stdout",
     "output_type": "stream",
     "text": [
      "Random Forests Precision:  [0.99629723 0.99591837]\n",
      "Random Forests Recall:  [0.99997692 0.60246914]\n",
      "Random Forests f-score:  [0.99813368 0.75076923]\n",
      "Support:  [43321   405]\n"
     ]
    }
   ],
   "source": [
    "precision, recall, fscore, support = precision_recall_fscore_support(\n",
    "    y_test, rf.predict(X_test), pos_label=1,\n",
    ")\n",
    "\n",
    "print('Random Forests Precision: ', precision)\n",
    "print('Random Forests Recall: ', recall)\n",
    "print('Random Forests f-score: ', fscore)\n",
    "print('Support: ', support)"
   ]
  },
  {
   "cell_type": "markdown",
   "id": "d9663e69",
   "metadata": {},
   "source": [
    "The first element in each list corresponds to the metrics for the majority class, the second element in each list corresponds to the metrics for the minority class (see that they coincide with those values obtained when we calculated the metrics individually).\n",
    "\n",
    "See also that they match with the values obtained with Yellobrick below:"
   ]
  },
  {
   "cell_type": "code",
   "execution_count": 40,
   "id": "d8646697",
   "metadata": {},
   "outputs": [
    {
     "name": "stderr",
     "output_type": "stream",
     "text": [
      "C:\\ProgramData\\Anaconda3\\lib\\site-packages\\sklearn\\base.py:450: UserWarning: X does not have valid feature names, but LogisticRegression was fitted with feature names\n",
      "  warnings.warn(\n"
     ]
    },
    {
     "data": {
      "image/png": "[encoded data removed]",
      "text/plain": [
       "<Figure size 576x396 with 2 Axes>"
      ]
     },
     "metadata": {},
     "output_type": "display_data"
    },
    {
     "data": {
      "text/plain": [
       "<AxesSubplot:title={'center':'LogisticRegression Classification Report'}>"
      ]
     },
     "execution_count": 40,
     "metadata": {},
     "output_type": "execute_result"
    }
   ],
   "source": [
    "visualizer = ClassificationReport(logit)\n",
    "\n",
    "visualizer.fit(X_train, y_train)        # Fit the visualizer and the model\n",
    "visualizer.score(X_test, y_test)        # Evaluate the model on the test data\n",
    "visualizer.show() "
   ]
  },
  {
   "cell_type": "markdown",
   "id": "99eb953e",
   "metadata": {},
   "source": [
    "# Precision and Recall, vs probability threshold\n"
   ]
  },
  {
   "cell_type": "code",
   "execution_count": 41,
   "id": "21e58ca5",
   "metadata": {},
   "outputs": [
    {
     "name": "stderr",
     "output_type": "stream",
     "text": [
      "C:\\ProgramData\\Anaconda3\\lib\\site-packages\\sklearn\\linear_model\\_logistic.py:814: ConvergenceWarning: lbfgs failed to converge (status=1):\n",
      "STOP: TOTAL NO. of ITERATIONS REACHED LIMIT.\n",
      "\n",
      "Increase the number of iterations (max_iter) or scale the data as shown in:\n",
      "    https://scikit-learn.org/stable/modules/preprocessing.html\n",
      "Please also refer to the documentation for alternative solver options:\n",
      "    https://scikit-learn.org/stable/modules/linear_model.html#logistic-regression\n",
      "  n_iter_i = _check_optimize_result(\n",
      "C:\\ProgramData\\Anaconda3\\lib\\site-packages\\sklearn\\base.py:450: UserWarning: X does not have valid feature names, but LogisticRegression was fitted with feature names\n",
      "  warnings.warn(\n"
     ]
    },
    {
     "data": {
      "image/png": "[encoded data removed]",
      "text/plain": [
       "<Figure size 576x396 with 1 Axes>"
      ]
     },
     "metadata": {},
     "output_type": "display_data"
    },
    {
     "data": {
      "text/plain": [
       "<AxesSubplot:title={'center':'Threshold Plot for LogisticRegression'}, xlabel='discrimination threshold', ylabel='score'>"
      ]
     },
     "execution_count": 41,
     "metadata": {},
     "output_type": "execute_result"
    }
   ],
   "source": [
    "visualizer = DiscriminationThreshold(logit,\n",
    "                                     n_trials=1,\n",
    "                                     cv=0.5,\n",
    "                                     argmax='fscore',\n",
    "                                     random_state=0,\n",
    "                                     is_fitted='auto',\n",
    "                                     exclude = \"queue_rate\")\n",
    "\n",
    "visualizer.fit(X_train, y_train)        # Fit the visualizer and the model\n",
    "visualizer.score(X_test, y_test)        # Evaluate the model on the test data\n",
    "visualizer.show()"
   ]
  },
  {
   "cell_type": "markdown",
   "id": "4556a056",
   "metadata": {},
   "source": [
    "# Confusion Matrix, False Positive & False Negative Rate\n",
    "\n",
    "\n",
    "FPR = FP/(FP + TN)\n",
    "\n",
    "FNR = FN/(TP + TN)"
   ]
  },
  {
   "cell_type": "markdown",
   "id": "c42d7f12",
   "metadata": {},
   "source": [
    "# Confusion Matrix"
   ]
  },
  {
   "cell_type": "markdown",
   "id": "54c1b9e0",
   "metadata": {},
   "source": [
    "### Baseline Model"
   ]
  },
  {
   "cell_type": "code",
   "execution_count": 43,
   "id": "1ebfe26c",
   "metadata": {},
   "outputs": [
    {
     "data": {
      "text/plain": [
       "array([[43321,     0],\n",
       "       [  405,     0]], dtype=int64)"
      ]
     },
     "execution_count": 43,
     "metadata": {},
     "output_type": "execute_result"
    }
   ],
   "source": [
    "confusion_matrix(y_test, y_test_base)"
   ]
  },
  {
   "cell_type": "markdown",
   "id": "cc8c711c",
   "metadata": {},
   "source": [
    "### Random Forest"
   ]
  },
  {
   "cell_type": "code",
   "execution_count": 45,
   "id": "72b101f1",
   "metadata": {},
   "outputs": [
    {
     "data": {
      "text/plain": [
       "array([[43320,     1],\n",
       "       [  161,   244]], dtype=int64)"
      ]
     },
     "execution_count": 45,
     "metadata": {},
     "output_type": "execute_result"
    }
   ],
   "source": [
    "confusion_matrix(y_test, rf.predict(X_test), labels=[0,1])"
   ]
  },
  {
   "cell_type": "markdown",
   "id": "89f5011f",
   "metadata": {},
   "source": [
    "### Logistic Regression"
   ]
  },
  {
   "cell_type": "code",
   "execution_count": 46,
   "id": "2575f0a4",
   "metadata": {},
   "outputs": [
    {
     "data": {
      "text/plain": [
       "array([[43302,    19],\n",
       "       [  114,   291]], dtype=int64)"
      ]
     },
     "execution_count": 46,
     "metadata": {},
     "output_type": "execute_result"
    }
   ],
   "source": [
    "confusion_matrix(y_test, logit.predict(X_test), labels=[0,1])"
   ]
  },
  {
   "cell_type": "markdown",
   "id": "8da7e84f",
   "metadata": {},
   "source": [
    "## FPR & FNR"
   ]
  },
  {
   "cell_type": "code",
   "execution_count": 47,
   "id": "5467b92f",
   "metadata": {},
   "outputs": [],
   "source": [
    "tn, fp, fn, tp = confusion_matrix(y_test, rf.predict(X_test), labels=[0,1]).ravel()"
   ]
  },
  {
   "cell_type": "code",
   "execution_count": 48,
   "id": "d6578c19",
   "metadata": {},
   "outputs": [
    {
     "name": "stdout",
     "output_type": "stream",
     "text": [
      "False Positive Rate, Random Forests:  2.3083492994159875e-05\n",
      "False Negative Rate, Random Forests:  0.39753086419753086\n"
     ]
    }
   ],
   "source": [
    "FPR = fp/(fp+tn)\n",
    "FNR = fn/(fn+tp)\n",
    "print('False Positive Rate, Random Forests: ', FPR)\n",
    "print('False Negative Rate, Random Forests: ', FNR)"
   ]
  },
  {
   "cell_type": "code",
   "execution_count": 49,
   "id": "3e28b763",
   "metadata": {},
   "outputs": [
    {
     "name": "stdout",
     "output_type": "stream",
     "text": [
      "False Positive Rate, Logistic Regression:  0.00043858636688903763\n",
      "False Negative Rate, Logistic Regression:  0.2814814814814815\n"
     ]
    }
   ],
   "source": [
    "tn, fp, fn, tp = confusion_matrix(y_test, logit.predict(X_test), labels=[0,1]).ravel()\n",
    "\n",
    "FPR = fp / (tn + fp)\n",
    "\n",
    "FNR =  fn / (tp + fn)\n",
    "\n",
    "print('False Positive Rate, Logistic Regression: ', FPR)\n",
    "print('False Negative Rate, Logistic Regression: ', FNR)"
   ]
  },
  {
   "cell_type": "code",
   "execution_count": null,
   "id": "55535c81",
   "metadata": {},
   "outputs": [],
   "source": []
  }
 ],
 "metadata": {
  "kernelspec": {
   "display_name": "Python 3 (ipykernel)",
   "language": "python",
   "name": "python3"
  },
  "language_info": {
   "codemirror_mode": {
    "name": "ipython",
    "version": 3
   },
   "file_extension": ".py",
   "mimetype": "text/x-python",
   "name": "python",
   "nbconvert_exporter": "python",
   "pygments_lexer": "ipython3",
   "version": "3.9.7"
  }
 },
 "nbformat": 4,
 "nbformat_minor": 5
}
