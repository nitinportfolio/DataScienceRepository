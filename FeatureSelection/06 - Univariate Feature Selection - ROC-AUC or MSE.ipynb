{
 "cells": [
  {
   "cell_type": "markdown",
   "id": "598aae1c",
   "metadata": {},
   "source": [
    "# Taking Decision Tree to predict the target & evaluating performace against each feature<br>\n",
    "1 - Build one decision tree per feature<br>\n",
    "2 - Predict the target using the feature<br>\n",
    "3 - Measure its performance roc-auc<br>\n",
    "4 - Rank the features based on metric - roc-auc"
   ]
  },
  {
   "cell_type": "code",
   "execution_count": 3,
   "id": "7803ea2f",
   "metadata": {},
   "outputs": [],
   "source": [
    "import pandas as pd\n",
    "import numpy as np\n",
    "\n",
    "from sklearn.model_selection import train_test_split\n",
    "\n",
    "from sklearn.tree import DecisionTreeClassifier, DecisionTreeRegressor\n",
    "from sklearn.metrics import roc_auc_score, mean_squared_error"
   ]
  },
  {
   "cell_type": "markdown",
   "id": "762b4f55",
   "metadata": {},
   "source": [
    "# Classification Tree"
   ]
  },
  {
   "cell_type": "code",
   "execution_count": 11,
   "id": "702f71a1",
   "metadata": {
    "scrolled": true
   },
   "outputs": [],
   "source": [
    "# Loading dataset\n",
    "data = pd.read_csv('..\\data\\dataset_2.csv')"
   ]
  },
  {
   "cell_type": "code",
   "execution_count": 14,
   "id": "989152f6",
   "metadata": {},
   "outputs": [
    {
     "data": {
      "text/plain": [
       "(50000, 109)"
      ]
     },
     "execution_count": 14,
     "metadata": {},
     "output_type": "execute_result"
    }
   ],
   "source": [
    "data.shape"
   ]
  },
  {
   "cell_type": "code",
   "execution_count": 16,
   "id": "3d1ec3a4",
   "metadata": {},
   "outputs": [
    {
     "data": {
      "text/html": [
       "<div>\n",
       "<style scoped>\n",
       "    .dataframe tbody tr th:only-of-type {\n",
       "        vertical-align: middle;\n",
       "    }\n",
       "\n",
       "    .dataframe tbody tr th {\n",
       "        vertical-align: top;\n",
       "    }\n",
       "\n",
       "    .dataframe thead th {\n",
       "        text-align: right;\n",
       "    }\n",
       "</style>\n",
       "<table border=\"1\" class=\"dataframe\">\n",
       "  <thead>\n",
       "    <tr style=\"text-align: right;\">\n",
       "      <th></th>\n",
       "      <th>var_1</th>\n",
       "      <th>var_2</th>\n",
       "      <th>var_3</th>\n",
       "      <th>var_4</th>\n",
       "      <th>var_5</th>\n",
       "      <th>var_6</th>\n",
       "      <th>var_7</th>\n",
       "      <th>var_8</th>\n",
       "      <th>var_9</th>\n",
       "      <th>var_10</th>\n",
       "      <th>var_11</th>\n",
       "      <th>var_12</th>\n",
       "      <th>var_13</th>\n",
       "      <th>var_14</th>\n",
       "      <th>var_15</th>\n",
       "      <th>...</th>\n",
       "      <th>var_95</th>\n",
       "      <th>var_96</th>\n",
       "      <th>var_97</th>\n",
       "      <th>var_98</th>\n",
       "      <th>var_99</th>\n",
       "      <th>var_100</th>\n",
       "      <th>var_101</th>\n",
       "      <th>var_102</th>\n",
       "      <th>var_103</th>\n",
       "      <th>var_104</th>\n",
       "      <th>var_105</th>\n",
       "      <th>var_106</th>\n",
       "      <th>var_107</th>\n",
       "      <th>var_108</th>\n",
       "      <th>var_109</th>\n",
       "    </tr>\n",
       "  </thead>\n",
       "  <tbody>\n",
       "    <tr>\n",
       "      <th>0</th>\n",
       "      <td>4.532710</td>\n",
       "      <td>3.280834</td>\n",
       "      <td>17.982476</td>\n",
       "      <td>4.404259</td>\n",
       "      <td>2.349910</td>\n",
       "      <td>0.603264</td>\n",
       "      <td>2.784655</td>\n",
       "      <td>0.323146</td>\n",
       "      <td>12.009691</td>\n",
       "      <td>0.139346</td>\n",
       "      <td>5.751633</td>\n",
       "      <td>2.808895</td>\n",
       "      <td>1.244055</td>\n",
       "      <td>11.269688</td>\n",
       "      <td>15.866550</td>\n",
       "      <td>...</td>\n",
       "      <td>0.466241</td>\n",
       "      <td>7.273476</td>\n",
       "      <td>0.623398</td>\n",
       "      <td>2.070677</td>\n",
       "      <td>1.108609</td>\n",
       "      <td>2.079066</td>\n",
       "      <td>6.748819</td>\n",
       "      <td>2.941445</td>\n",
       "      <td>18.360496</td>\n",
       "      <td>17.726613</td>\n",
       "      <td>7.774031</td>\n",
       "      <td>1.473441</td>\n",
       "      <td>1.973832</td>\n",
       "      <td>0.976806</td>\n",
       "      <td>2.541417</td>\n",
       "    </tr>\n",
       "    <tr>\n",
       "      <th>1</th>\n",
       "      <td>5.821374</td>\n",
       "      <td>12.098722</td>\n",
       "      <td>13.309151</td>\n",
       "      <td>4.125599</td>\n",
       "      <td>1.045386</td>\n",
       "      <td>1.832035</td>\n",
       "      <td>1.833494</td>\n",
       "      <td>0.709090</td>\n",
       "      <td>8.652883</td>\n",
       "      <td>0.102757</td>\n",
       "      <td>8.225109</td>\n",
       "      <td>2.001220</td>\n",
       "      <td>8.081647</td>\n",
       "      <td>3.933986</td>\n",
       "      <td>14.350374</td>\n",
       "      <td>...</td>\n",
       "      <td>0.958500</td>\n",
       "      <td>6.475936</td>\n",
       "      <td>1.230876</td>\n",
       "      <td>2.249656</td>\n",
       "      <td>0.615216</td>\n",
       "      <td>2.479789</td>\n",
       "      <td>7.795290</td>\n",
       "      <td>3.557890</td>\n",
       "      <td>17.383378</td>\n",
       "      <td>15.193423</td>\n",
       "      <td>8.263673</td>\n",
       "      <td>1.878108</td>\n",
       "      <td>0.567939</td>\n",
       "      <td>1.018818</td>\n",
       "      <td>1.416433</td>\n",
       "    </tr>\n",
       "  </tbody>\n",
       "</table>\n",
       "<p>2 rows × 109 columns</p>\n",
       "</div>"
      ],
      "text/plain": [
       "      var_1      var_2      var_3     var_4     var_5     var_6     var_7  \\\n",
       "0  4.532710   3.280834  17.982476  4.404259  2.349910  0.603264  2.784655   \n",
       "1  5.821374  12.098722  13.309151  4.125599  1.045386  1.832035  1.833494   \n",
       "\n",
       "      var_8      var_9    var_10    var_11    var_12    var_13     var_14  \\\n",
       "0  0.323146  12.009691  0.139346  5.751633  2.808895  1.244055  11.269688   \n",
       "1  0.709090   8.652883  0.102757  8.225109  2.001220  8.081647   3.933986   \n",
       "\n",
       "      var_15  ...    var_95    var_96    var_97    var_98    var_99   var_100  \\\n",
       "0  15.866550  ...  0.466241  7.273476  0.623398  2.070677  1.108609  2.079066   \n",
       "1  14.350374  ...  0.958500  6.475936  1.230876  2.249656  0.615216  2.479789   \n",
       "\n",
       "    var_101   var_102    var_103    var_104   var_105   var_106   var_107  \\\n",
       "0  6.748819  2.941445  18.360496  17.726613  7.774031  1.473441  1.973832   \n",
       "1  7.795290  3.557890  17.383378  15.193423  8.263673  1.878108  0.567939   \n",
       "\n",
       "    var_108   var_109  \n",
       "0  0.976806  2.541417  \n",
       "1  1.018818  1.416433  \n",
       "\n",
       "[2 rows x 109 columns]"
      ]
     },
     "execution_count": 16,
     "metadata": {},
     "output_type": "execute_result"
    }
   ],
   "source": [
    "data.head(2)"
   ]
  },
  {
   "cell_type": "code",
   "execution_count": 17,
   "id": "8241006c",
   "metadata": {},
   "outputs": [],
   "source": [
    "# For all feature selections, its always good to examine features using only training data. This will avoid overfit."
   ]
  },
  {
   "cell_type": "code",
   "execution_count": 22,
   "id": "9880997d",
   "metadata": {},
   "outputs": [
    {
     "data": {
      "text/plain": [
       "((35000, 108), (15000, 108))"
      ]
     },
     "execution_count": 22,
     "metadata": {},
     "output_type": "execute_result"
    }
   ],
   "source": [
    "X_train,X_test,y_train,y_test = train_test_split(\n",
    "        data.drop(labels = ['target'], axis = 1),\n",
    "        data['target'],\n",
    "        test_size = 0.3,\n",
    "        random_state = 0)\n",
    "X_train.shape, X_test.shape"
   ]
  },
  {
   "cell_type": "markdown",
   "id": "f5be6a59",
   "metadata": {},
   "source": [
    "# Determining roc-auc for each feature"
   ]
  },
  {
   "cell_type": "code",
   "execution_count": 24,
   "id": "dc74f415",
   "metadata": {},
   "outputs": [
    {
     "data": {
      "text/html": [
       "<div>\n",
       "<style scoped>\n",
       "    .dataframe tbody tr th:only-of-type {\n",
       "        vertical-align: middle;\n",
       "    }\n",
       "\n",
       "    .dataframe tbody tr th {\n",
       "        vertical-align: top;\n",
       "    }\n",
       "\n",
       "    .dataframe thead th {\n",
       "        text-align: right;\n",
       "    }\n",
       "</style>\n",
       "<table border=\"1\" class=\"dataframe\">\n",
       "  <thead>\n",
       "    <tr style=\"text-align: right;\">\n",
       "      <th></th>\n",
       "      <th>var_1</th>\n",
       "      <th>var_2</th>\n",
       "      <th>var_3</th>\n",
       "      <th>var_4</th>\n",
       "      <th>var_5</th>\n",
       "      <th>var_6</th>\n",
       "      <th>var_7</th>\n",
       "      <th>var_8</th>\n",
       "      <th>var_9</th>\n",
       "      <th>var_10</th>\n",
       "      <th>var_11</th>\n",
       "      <th>var_12</th>\n",
       "      <th>var_13</th>\n",
       "      <th>var_14</th>\n",
       "      <th>var_15</th>\n",
       "      <th>...</th>\n",
       "      <th>var_95</th>\n",
       "      <th>var_96</th>\n",
       "      <th>var_97</th>\n",
       "      <th>var_98</th>\n",
       "      <th>var_99</th>\n",
       "      <th>var_100</th>\n",
       "      <th>var_101</th>\n",
       "      <th>var_102</th>\n",
       "      <th>var_103</th>\n",
       "      <th>var_104</th>\n",
       "      <th>var_105</th>\n",
       "      <th>var_106</th>\n",
       "      <th>var_107</th>\n",
       "      <th>var_108</th>\n",
       "      <th>var_109</th>\n",
       "    </tr>\n",
       "  </thead>\n",
       "  <tbody>\n",
       "    <tr>\n",
       "      <th>17967</th>\n",
       "      <td>6.266666</td>\n",
       "      <td>1.520409</td>\n",
       "      <td>17.922689</td>\n",
       "      <td>3.866667</td>\n",
       "      <td>2.585592</td>\n",
       "      <td>0.799603</td>\n",
       "      <td>1.900000</td>\n",
       "      <td>3.203983e-01</td>\n",
       "      <td>14.445884</td>\n",
       "      <td>0.554391</td>\n",
       "      <td>9.104477</td>\n",
       "      <td>2.102856</td>\n",
       "      <td>1.992650</td>\n",
       "      <td>12.736036</td>\n",
       "      <td>15.753493</td>\n",
       "      <td>...</td>\n",
       "      <td>0.620008</td>\n",
       "      <td>5.736979</td>\n",
       "      <td>0.800001</td>\n",
       "      <td>1.536921</td>\n",
       "      <td>0.952382</td>\n",
       "      <td>1.943790</td>\n",
       "      <td>7.617142</td>\n",
       "      <td>2.817604</td>\n",
       "      <td>17.383773</td>\n",
       "      <td>17.069624</td>\n",
       "      <td>7.714285</td>\n",
       "      <td>1.053142</td>\n",
       "      <td>1.686956e+00</td>\n",
       "      <td>1.312909</td>\n",
       "      <td>2.395443</td>\n",
       "    </tr>\n",
       "    <tr>\n",
       "      <th>32391</th>\n",
       "      <td>6.533332</td>\n",
       "      <td>7.284080</td>\n",
       "      <td>18.014173</td>\n",
       "      <td>3.121622</td>\n",
       "      <td>1.808227</td>\n",
       "      <td>1.732501</td>\n",
       "      <td>2.032433</td>\n",
       "      <td>-7.984653e-07</td>\n",
       "      <td>9.510484</td>\n",
       "      <td>0.010140</td>\n",
       "      <td>5.425001</td>\n",
       "      <td>2.909910</td>\n",
       "      <td>1.828894</td>\n",
       "      <td>8.593242</td>\n",
       "      <td>14.384168</td>\n",
       "      <td>...</td>\n",
       "      <td>3.756595</td>\n",
       "      <td>7.373931</td>\n",
       "      <td>1.106756</td>\n",
       "      <td>3.099711</td>\n",
       "      <td>1.889764</td>\n",
       "      <td>3.455311</td>\n",
       "      <td>6.050450</td>\n",
       "      <td>2.944502</td>\n",
       "      <td>16.546584</td>\n",
       "      <td>15.134684</td>\n",
       "      <td>5.451802</td>\n",
       "      <td>2.229729</td>\n",
       "      <td>1.090888e-07</td>\n",
       "      <td>5.125165</td>\n",
       "      <td>2.017953</td>\n",
       "    </tr>\n",
       "  </tbody>\n",
       "</table>\n",
       "<p>2 rows × 108 columns</p>\n",
       "</div>"
      ],
      "text/plain": [
       "          var_1     var_2      var_3     var_4     var_5     var_6     var_7  \\\n",
       "17967  6.266666  1.520409  17.922689  3.866667  2.585592  0.799603  1.900000   \n",
       "32391  6.533332  7.284080  18.014173  3.121622  1.808227  1.732501  2.032433   \n",
       "\n",
       "              var_8      var_9    var_10    var_11    var_12    var_13  \\\n",
       "17967  3.203983e-01  14.445884  0.554391  9.104477  2.102856  1.992650   \n",
       "32391 -7.984653e-07   9.510484  0.010140  5.425001  2.909910  1.828894   \n",
       "\n",
       "          var_14     var_15  ...    var_95    var_96    var_97    var_98  \\\n",
       "17967  12.736036  15.753493  ...  0.620008  5.736979  0.800001  1.536921   \n",
       "32391   8.593242  14.384168  ...  3.756595  7.373931  1.106756  3.099711   \n",
       "\n",
       "         var_99   var_100   var_101   var_102    var_103    var_104   var_105  \\\n",
       "17967  0.952382  1.943790  7.617142  2.817604  17.383773  17.069624  7.714285   \n",
       "32391  1.889764  3.455311  6.050450  2.944502  16.546584  15.134684  5.451802   \n",
       "\n",
       "        var_106       var_107   var_108   var_109  \n",
       "17967  1.053142  1.686956e+00  1.312909  2.395443  \n",
       "32391  2.229729  1.090888e-07  5.125165  2.017953  \n",
       "\n",
       "[2 rows x 108 columns]"
      ]
     },
     "execution_count": 24,
     "metadata": {},
     "output_type": "execute_result"
    }
   ],
   "source": [
    "X_train.head(2)"
   ]
  },
  {
   "cell_type": "code",
   "execution_count": 28,
   "id": "280148ac",
   "metadata": {},
   "outputs": [
    {
     "data": {
      "text/html": [
       "<div>\n",
       "<style scoped>\n",
       "    .dataframe tbody tr th:only-of-type {\n",
       "        vertical-align: middle;\n",
       "    }\n",
       "\n",
       "    .dataframe tbody tr th {\n",
       "        vertical-align: top;\n",
       "    }\n",
       "\n",
       "    .dataframe thead th {\n",
       "        text-align: right;\n",
       "    }\n",
       "</style>\n",
       "<table border=\"1\" class=\"dataframe\">\n",
       "  <thead>\n",
       "    <tr style=\"text-align: right;\">\n",
       "      <th></th>\n",
       "      <th>var_1</th>\n",
       "    </tr>\n",
       "  </thead>\n",
       "  <tbody>\n",
       "    <tr>\n",
       "      <th>17967</th>\n",
       "      <td>6.266666</td>\n",
       "    </tr>\n",
       "    <tr>\n",
       "      <th>32391</th>\n",
       "      <td>6.533332</td>\n",
       "    </tr>\n",
       "    <tr>\n",
       "      <th>9341</th>\n",
       "      <td>5.072728</td>\n",
       "    </tr>\n",
       "    <tr>\n",
       "      <th>7929</th>\n",
       "      <td>4.376470</td>\n",
       "    </tr>\n",
       "    <tr>\n",
       "      <th>46544</th>\n",
       "      <td>5.896078</td>\n",
       "    </tr>\n",
       "  </tbody>\n",
       "</table>\n",
       "</div>"
      ],
      "text/plain": [
       "          var_1\n",
       "17967  6.266666\n",
       "32391  6.533332\n",
       "9341   5.072728\n",
       "7929   4.376470\n",
       "46544  5.896078"
      ]
     },
     "execution_count": 28,
     "metadata": {},
     "output_type": "execute_result"
    }
   ],
   "source": [
    "X_train['var_1'].to_frame().head()"
   ]
  },
  {
   "cell_type": "code",
   "execution_count": 34,
   "id": "6f9bc911",
   "metadata": {},
   "outputs": [
    {
     "data": {
      "text/plain": [
       "(35000,)"
      ]
     },
     "execution_count": 34,
     "metadata": {},
     "output_type": "execute_result"
    }
   ],
   "source": [
    "y_train.shape"
   ]
  },
  {
   "cell_type": "code",
   "execution_count": 36,
   "id": "a3ed6cee",
   "metadata": {},
   "outputs": [
    {
     "data": {
      "text/plain": [
       "[0.5069248231292061,\n",
       " 0.5006908738145861,\n",
       " 0.4931445654646017,\n",
       " 0.5039101753068067,\n",
       " 0.5014351366034588,\n",
       " 0.5028347252717772,\n",
       " 0.5095234564543892,\n",
       " 0.5062626193645395,\n",
       " 0.4913455716601861,\n",
       " 0.5066196352647712]"
      ]
     },
     "execution_count": 36,
     "metadata": {},
     "output_type": "execute_result"
    }
   ],
   "source": [
    "# to store roc0auc values\n",
    "roc_values = []\n",
    " # Iterating over the each featurein the dataset\n",
    "for feature in X_train.columns:\n",
    "    \n",
    "    # Training decision tree classifier\n",
    "    clf = DecisionTreeClassifier()\n",
    "    clf.fit(X_train[feature].fillna(0).to_frame(),y_train)\n",
    "    \n",
    "    # Obtaining predictions\n",
    "    y_scored = clf.predict_proba(X_test[feature].to_frame())\n",
    "    #print(y_scored)\n",
    "    # Calculating ^ Storing roc-auc\n",
    "    roc_values.append(roc_auc_score(y_test, y_scored[:,1]))\n",
    "    \n",
    "# looking the the values\n",
    "roc_values[0:10]"
   ]
  },
  {
   "cell_type": "code",
   "execution_count": 43,
   "id": "69bf1b50",
   "metadata": {},
   "outputs": [
    {
     "data": {
      "text/plain": [
       "Text(0, 0.5, 'roc-auc')"
      ]
     },
     "execution_count": 43,
     "metadata": {},
     "output_type": "execute_result"
    },
    {
     "data": {
      "image/png": "[encoded data removed]",
      "text/plain": [
       "<Figure size 1440x360 with 1 Axes>"
      ]
     },
     "metadata": {
      "needs_background": "light"
     },
     "output_type": "display_data"
    }
   ],
   "source": [
    "# 1) capture the roc-auc values in a pandas series\n",
    "# 2) add the variable names in the index\n",
    "# 3) sort the features based on the roc-auc\n",
    "# 4) and make a var plot\n",
    "\n",
    "roc_values = pd.Series(roc_values)\n",
    "#roc_values\n",
    "roc_values.index = X_train.columns\n",
    "roc_values.sort_values(ascending=False).plot.bar(figsize=(20, 5))\n",
    "plt.ylabel('roc-auc')"
   ]
  },
  {
   "cell_type": "code",
   "execution_count": 44,
   "id": "32f3c50b",
   "metadata": {},
   "outputs": [
    {
     "data": {
      "text/plain": [
       "67"
      ]
     },
     "execution_count": 44,
     "metadata": {},
     "output_type": "execute_result"
    }
   ],
   "source": [
    "# a roc auc value of 0.5 indicates random decision\n",
    "# let's check how many features show a roc-auc value\n",
    "# higher than random\n",
    "\n",
    "len(roc_values[roc_values > 0.5])"
   ]
  },
  {
   "cell_type": "markdown",
   "id": "4efab6f6",
   "metadata": {},
   "source": [
    "67 of 108 features show a predictive performance higher than 0.5.\n",
    "\n",
    "We can of do fine tuning the parameters of the Decision Tree for better predictions and metrics\n",
    "\n"
   ]
  },
  {
   "cell_type": "code",
   "execution_count": 45,
   "id": "aa714e1a",
   "metadata": {},
   "outputs": [
    {
     "data": {
      "text/plain": [
       "Index(['var_1', 'var_2', 'var_4', 'var_5', 'var_6', 'var_7', 'var_8', 'var_10',\n",
       "       'var_11', 'var_12', 'var_13', 'var_14', 'var_15', 'var_16', 'var_18',\n",
       "       'var_21', 'var_22', 'var_23', 'var_25', 'var_26', 'var_27', 'var_28',\n",
       "       'var_29', 'var_30', 'var_33', 'var_34', 'var_35', 'var_38', 'var_39',\n",
       "       'var_43', 'var_44', 'var_46', 'var_47', 'var_48', 'var_50', 'var_51',\n",
       "       'var_52', 'var_53', 'var_54', 'var_55', 'var_57', 'var_59', 'var_65',\n",
       "       'var_67', 'var_69', 'var_70', 'var_71', 'var_72', 'var_74', 'var_75',\n",
       "       'var_78', 'var_80', 'var_82', 'var_83', 'var_84', 'var_85', 'var_88',\n",
       "       'var_91', 'var_94', 'var_96', 'var_97', 'var_98', 'var_100', 'var_101',\n",
       "       'var_105', 'var_106', 'var_108'],\n",
       "      dtype='object')"
      ]
     },
     "execution_count": 45,
     "metadata": {},
     "output_type": "execute_result"
    }
   ],
   "source": [
    "# Selecting only those feature for which we have roc_auc values greater than 0.5\n",
    "selected_features = roc_values[roc_values > 0.5].index\n",
    "\n",
    "selected_features"
   ]
  },
  {
   "cell_type": "code",
   "execution_count": 46,
   "id": "907e8c38",
   "metadata": {},
   "outputs": [
    {
     "data": {
      "text/plain": [
       "((35000, 67), (15000, 67))"
      ]
     },
     "execution_count": 46,
     "metadata": {},
     "output_type": "execute_result"
    }
   ],
   "source": [
    "# select features in the dataframes\n",
    "\n",
    "X_train = X_train[selected_features]\n",
    "X_test = X_test[selected_features]\n",
    "\n",
    "X_train.shape, X_test.shape"
   ]
  },
  {
   "cell_type": "code",
   "execution_count": null,
   "id": "141f4aab",
   "metadata": {},
   "outputs": [],
   "source": []
  }
 ],
 "metadata": {
  "kernelspec": {
   "display_name": "Python 3 (ipykernel)",
   "language": "python",
   "name": "python3"
  },
  "language_info": {
   "codemirror_mode": {
    "name": "ipython",
    "version": 3
   },
   "file_extension": ".py",
   "mimetype": "text/x-python",
   "name": "python",
   "nbconvert_exporter": "python",
   "pygments_lexer": "ipython3",
   "version": "3.9.7"
  }
 },
 "nbformat": 4,
 "nbformat_minor": 5
}
