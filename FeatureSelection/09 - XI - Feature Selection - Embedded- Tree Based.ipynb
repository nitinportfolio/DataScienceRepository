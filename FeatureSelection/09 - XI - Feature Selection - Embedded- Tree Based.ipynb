{
 "cells": [
  {
   "cell_type": "markdown",
   "id": "72191e18",
   "metadata": {},
   "source": [
    "### Random Forest importance\n",
    "Random forests is one the most popular machine learning algorithms. It is so successful because it provide good predictive performance, low overfitting and easy interpretability. This interpretability is given by the fact that it is straightforward to derive the importance of each variable on the tree decision. In other words, it is easy to compute how much each variable is contributing to the decision.\n",
    "\n",
    "Random forests consist typically of 4-12 hundred decision trees, each of them built over a random extraction of the observations from the dataset and a random extraction of the features. Not every tree sees all the features or all the observations, and this guarantees that the trees are de-correlated and therefore less prone to over-fitting. Each tree is also a sequence of yes-no questions based on a single or a combination of features. At each node (that is, at each question), the three divides the dataset in 2 buckets, each of them hosting observations that are more similar among themselves and different from the ones in the other bucket. Therefore, the importance of each feature is derived by how \"pure\" each of the buckets is.\n",
    "\n",
    "For classification, the measure of impurity is either Gini or the entropy. For regression the measure of impurity is the variance. When training a tree, it is possible to compute how much each feature decreases the impurity. The more a feature decreases the impurity, the more important the feature is. In random forests, the impurity decrease elicited by each feature is averaged across trees to determine the final importance of the variable.\n",
    "\n",
    "In general, features that are selected at the top of the trees are more important than features that are selected at the end nodes of the trees, as generally the top splits lead to bigger information gains.\n",
    "\n",
    "Note\n",
    "\n",
    "**Random Forests and decision trees in general give preference to features with high cardinality**\n",
    "**Correlated features will be given equal or similar importance, but overall reduced importance compared to the same tree built without correlated counterparts.**\n"
   ]
  },
  {
   "cell_type": "code",
   "execution_count": 1,
   "id": "3fa5ce80",
   "metadata": {},
   "outputs": [],
   "source": [
    "import pandas as pd\n",
    "import numpy as np\n",
    "\n",
    "import matplotlib.pyplot as plt\n",
    "\n",
    "from sklearn.model_selection import train_test_split\n",
    "\n",
    "from sklearn.ensemble import RandomForestClassifier, RandomForestRegressor\n",
    "from sklearn.feature_selection import SelectFromModel"
   ]
  },
  {
   "cell_type": "markdown",
   "id": "6ff406b6",
   "metadata": {},
   "source": [
    "### Classification"
   ]
  },
  {
   "cell_type": "code",
   "execution_count": 2,
   "id": "45f81a52",
   "metadata": {},
   "outputs": [
    {
     "data": {
      "text/plain": [
       "(50000, 109)"
      ]
     },
     "execution_count": 2,
     "metadata": {},
     "output_type": "execute_result"
    }
   ],
   "source": [
    "df = pd.read_csv('../data/dataset_2.csv')\n",
    "df.shape"
   ]
  },
  {
   "cell_type": "code",
   "execution_count": 3,
   "id": "0b2467c6",
   "metadata": {},
   "outputs": [
    {
     "data": {
      "text/html": [
       "<div>\n",
       "<style scoped>\n",
       "    .dataframe tbody tr th:only-of-type {\n",
       "        vertical-align: middle;\n",
       "    }\n",
       "\n",
       "    .dataframe tbody tr th {\n",
       "        vertical-align: top;\n",
       "    }\n",
       "\n",
       "    .dataframe thead th {\n",
       "        text-align: right;\n",
       "    }\n",
       "</style>\n",
       "<table border=\"1\" class=\"dataframe\">\n",
       "  <thead>\n",
       "    <tr style=\"text-align: right;\">\n",
       "      <th></th>\n",
       "      <th>var_1</th>\n",
       "      <th>var_2</th>\n",
       "      <th>var_3</th>\n",
       "      <th>var_4</th>\n",
       "      <th>var_5</th>\n",
       "      <th>var_6</th>\n",
       "      <th>var_7</th>\n",
       "      <th>var_8</th>\n",
       "      <th>var_9</th>\n",
       "      <th>var_10</th>\n",
       "      <th>var_11</th>\n",
       "      <th>var_12</th>\n",
       "      <th>var_13</th>\n",
       "      <th>var_14</th>\n",
       "      <th>var_15</th>\n",
       "      <th>...</th>\n",
       "      <th>var_95</th>\n",
       "      <th>var_96</th>\n",
       "      <th>var_97</th>\n",
       "      <th>var_98</th>\n",
       "      <th>var_99</th>\n",
       "      <th>var_100</th>\n",
       "      <th>var_101</th>\n",
       "      <th>var_102</th>\n",
       "      <th>var_103</th>\n",
       "      <th>var_104</th>\n",
       "      <th>var_105</th>\n",
       "      <th>var_106</th>\n",
       "      <th>var_107</th>\n",
       "      <th>var_108</th>\n",
       "      <th>var_109</th>\n",
       "    </tr>\n",
       "  </thead>\n",
       "  <tbody>\n",
       "    <tr>\n",
       "      <th>0</th>\n",
       "      <td>4.532710</td>\n",
       "      <td>3.280834</td>\n",
       "      <td>17.982476</td>\n",
       "      <td>4.404259</td>\n",
       "      <td>2.349910</td>\n",
       "      <td>0.603264</td>\n",
       "      <td>2.784655</td>\n",
       "      <td>0.323146</td>\n",
       "      <td>12.009691</td>\n",
       "      <td>0.139346</td>\n",
       "      <td>5.751633</td>\n",
       "      <td>2.808895</td>\n",
       "      <td>1.244055</td>\n",
       "      <td>11.269688</td>\n",
       "      <td>15.866550</td>\n",
       "      <td>...</td>\n",
       "      <td>4.662407e-01</td>\n",
       "      <td>7.273476</td>\n",
       "      <td>0.623398</td>\n",
       "      <td>2.070677</td>\n",
       "      <td>1.108609</td>\n",
       "      <td>2.079066</td>\n",
       "      <td>6.748819</td>\n",
       "      <td>2.941445</td>\n",
       "      <td>18.360496</td>\n",
       "      <td>17.726613</td>\n",
       "      <td>7.774031</td>\n",
       "      <td>1.473441</td>\n",
       "      <td>1.973832</td>\n",
       "      <td>0.976806</td>\n",
       "      <td>2.541417</td>\n",
       "    </tr>\n",
       "    <tr>\n",
       "      <th>1</th>\n",
       "      <td>5.821374</td>\n",
       "      <td>12.098722</td>\n",
       "      <td>13.309151</td>\n",
       "      <td>4.125599</td>\n",
       "      <td>1.045386</td>\n",
       "      <td>1.832035</td>\n",
       "      <td>1.833494</td>\n",
       "      <td>0.709090</td>\n",
       "      <td>8.652883</td>\n",
       "      <td>0.102757</td>\n",
       "      <td>8.225109</td>\n",
       "      <td>2.001220</td>\n",
       "      <td>8.081647</td>\n",
       "      <td>3.933986</td>\n",
       "      <td>14.350374</td>\n",
       "      <td>...</td>\n",
       "      <td>9.585002e-01</td>\n",
       "      <td>6.475936</td>\n",
       "      <td>1.230876</td>\n",
       "      <td>2.249656</td>\n",
       "      <td>0.615216</td>\n",
       "      <td>2.479789</td>\n",
       "      <td>7.795290</td>\n",
       "      <td>3.557890</td>\n",
       "      <td>17.383378</td>\n",
       "      <td>15.193423</td>\n",
       "      <td>8.263673</td>\n",
       "      <td>1.878108</td>\n",
       "      <td>0.567939</td>\n",
       "      <td>1.018818</td>\n",
       "      <td>1.416433</td>\n",
       "    </tr>\n",
       "    <tr>\n",
       "      <th>2</th>\n",
       "      <td>1.938776</td>\n",
       "      <td>7.952752</td>\n",
       "      <td>0.972671</td>\n",
       "      <td>3.459267</td>\n",
       "      <td>1.935782</td>\n",
       "      <td>0.621463</td>\n",
       "      <td>2.338139</td>\n",
       "      <td>0.344948</td>\n",
       "      <td>9.937850</td>\n",
       "      <td>11.691283</td>\n",
       "      <td>8.307318</td>\n",
       "      <td>3.239122</td>\n",
       "      <td>2.699376</td>\n",
       "      <td>10.030416</td>\n",
       "      <td>14.977220</td>\n",
       "      <td>...</td>\n",
       "      <td>1.426163e+00</td>\n",
       "      <td>7.552225</td>\n",
       "      <td>0.599195</td>\n",
       "      <td>1.872145</td>\n",
       "      <td>2.111624</td>\n",
       "      <td>1.861487</td>\n",
       "      <td>6.130886</td>\n",
       "      <td>3.401064</td>\n",
       "      <td>15.850471</td>\n",
       "      <td>14.620599</td>\n",
       "      <td>6.849776</td>\n",
       "      <td>1.098210</td>\n",
       "      <td>1.959183</td>\n",
       "      <td>1.575493</td>\n",
       "      <td>1.857893</td>\n",
       "    </tr>\n",
       "    <tr>\n",
       "      <th>3</th>\n",
       "      <td>6.020690</td>\n",
       "      <td>9.900544</td>\n",
       "      <td>17.869637</td>\n",
       "      <td>4.366715</td>\n",
       "      <td>1.973693</td>\n",
       "      <td>2.026012</td>\n",
       "      <td>2.853025</td>\n",
       "      <td>0.674847</td>\n",
       "      <td>11.816859</td>\n",
       "      <td>0.011151</td>\n",
       "      <td>5.769939</td>\n",
       "      <td>2.760518</td>\n",
       "      <td>4.067190</td>\n",
       "      <td>14.040960</td>\n",
       "      <td>15.363394</td>\n",
       "      <td>...</td>\n",
       "      <td>7.226496e-01</td>\n",
       "      <td>7.237598</td>\n",
       "      <td>0.643228</td>\n",
       "      <td>1.168033</td>\n",
       "      <td>1.222773</td>\n",
       "      <td>1.340944</td>\n",
       "      <td>7.240058</td>\n",
       "      <td>2.417235</td>\n",
       "      <td>15.194609</td>\n",
       "      <td>13.553772</td>\n",
       "      <td>7.229971</td>\n",
       "      <td>0.835158</td>\n",
       "      <td>2.234482</td>\n",
       "      <td>0.946170</td>\n",
       "      <td>2.700606</td>\n",
       "    </tr>\n",
       "    <tr>\n",
       "      <th>4</th>\n",
       "      <td>3.909506</td>\n",
       "      <td>10.576516</td>\n",
       "      <td>0.934191</td>\n",
       "      <td>3.419572</td>\n",
       "      <td>1.871438</td>\n",
       "      <td>3.340811</td>\n",
       "      <td>1.868282</td>\n",
       "      <td>0.439865</td>\n",
       "      <td>13.585620</td>\n",
       "      <td>1.153366</td>\n",
       "      <td>9.297974</td>\n",
       "      <td>1.682118</td>\n",
       "      <td>9.553305</td>\n",
       "      <td>10.341188</td>\n",
       "      <td>9.436362</td>\n",
       "      <td>...</td>\n",
       "      <td>6.676273e-07</td>\n",
       "      <td>5.777892</td>\n",
       "      <td>2.743704</td>\n",
       "      <td>2.700285</td>\n",
       "      <td>1.897730</td>\n",
       "      <td>2.738095</td>\n",
       "      <td>6.565509</td>\n",
       "      <td>4.341414</td>\n",
       "      <td>15.893832</td>\n",
       "      <td>11.929787</td>\n",
       "      <td>6.954033</td>\n",
       "      <td>1.853364</td>\n",
       "      <td>0.511027</td>\n",
       "      <td>2.599562</td>\n",
       "      <td>0.811364</td>\n",
       "    </tr>\n",
       "  </tbody>\n",
       "</table>\n",
       "<p>5 rows × 109 columns</p>\n",
       "</div>"
      ],
      "text/plain": [
       "      var_1      var_2      var_3     var_4     var_5     var_6     var_7  \\\n",
       "0  4.532710   3.280834  17.982476  4.404259  2.349910  0.603264  2.784655   \n",
       "1  5.821374  12.098722  13.309151  4.125599  1.045386  1.832035  1.833494   \n",
       "2  1.938776   7.952752   0.972671  3.459267  1.935782  0.621463  2.338139   \n",
       "3  6.020690   9.900544  17.869637  4.366715  1.973693  2.026012  2.853025   \n",
       "4  3.909506  10.576516   0.934191  3.419572  1.871438  3.340811  1.868282   \n",
       "\n",
       "      var_8      var_9     var_10    var_11    var_12    var_13     var_14  \\\n",
       "0  0.323146  12.009691   0.139346  5.751633  2.808895  1.244055  11.269688   \n",
       "1  0.709090   8.652883   0.102757  8.225109  2.001220  8.081647   3.933986   \n",
       "2  0.344948   9.937850  11.691283  8.307318  3.239122  2.699376  10.030416   \n",
       "3  0.674847  11.816859   0.011151  5.769939  2.760518  4.067190  14.040960   \n",
       "4  0.439865  13.585620   1.153366  9.297974  1.682118  9.553305  10.341188   \n",
       "\n",
       "      var_15  ...        var_95    var_96    var_97    var_98    var_99  \\\n",
       "0  15.866550  ...  4.662407e-01  7.273476  0.623398  2.070677  1.108609   \n",
       "1  14.350374  ...  9.585002e-01  6.475936  1.230876  2.249656  0.615216   \n",
       "2  14.977220  ...  1.426163e+00  7.552225  0.599195  1.872145  2.111624   \n",
       "3  15.363394  ...  7.226496e-01  7.237598  0.643228  1.168033  1.222773   \n",
       "4   9.436362  ...  6.676273e-07  5.777892  2.743704  2.700285  1.897730   \n",
       "\n",
       "    var_100   var_101   var_102    var_103    var_104   var_105   var_106  \\\n",
       "0  2.079066  6.748819  2.941445  18.360496  17.726613  7.774031  1.473441   \n",
       "1  2.479789  7.795290  3.557890  17.383378  15.193423  8.263673  1.878108   \n",
       "2  1.861487  6.130886  3.401064  15.850471  14.620599  6.849776  1.098210   \n",
       "3  1.340944  7.240058  2.417235  15.194609  13.553772  7.229971  0.835158   \n",
       "4  2.738095  6.565509  4.341414  15.893832  11.929787  6.954033  1.853364   \n",
       "\n",
       "    var_107   var_108   var_109  \n",
       "0  1.973832  0.976806  2.541417  \n",
       "1  0.567939  1.018818  1.416433  \n",
       "2  1.959183  1.575493  1.857893  \n",
       "3  2.234482  0.946170  2.700606  \n",
       "4  0.511027  2.599562  0.811364  \n",
       "\n",
       "[5 rows x 109 columns]"
      ]
     },
     "execution_count": 3,
     "metadata": {},
     "output_type": "execute_result"
    }
   ],
   "source": [
    "df.head()"
   ]
  },
  {
   "cell_type": "markdown",
   "id": "012006c3",
   "metadata": {},
   "source": [
    "### Remember\n",
    "In all feature selection procedures, it is good practice to select the features by examining only the training set. And this is to avoid overfit.\n",
    "\n"
   ]
  },
  {
   "cell_type": "code",
   "execution_count": 4,
   "id": "9e0ab6c1",
   "metadata": {},
   "outputs": [
    {
     "data": {
      "text/plain": [
       "((35000, 108), (15000, 108))"
      ]
     },
     "execution_count": 4,
     "metadata": {},
     "output_type": "execute_result"
    }
   ],
   "source": [
    "X_train, X_test, y_train, y_test = train_test_split(\n",
    "    df.drop(labels = ['target'], axis = 1),\n",
    "    df['target'],\n",
    "    train_size=0.7,\n",
    "    random_state = 0)\n",
    "\n",
    "X_train.shape, X_test.shape"
   ]
  },
  {
   "cell_type": "markdown",
   "id": "834ef178",
   "metadata": {},
   "source": [
    "### Select features with Tree"
   ]
  },
  {
   "cell_type": "code",
   "execution_count": 6,
   "id": "740f3608",
   "metadata": {},
   "outputs": [
    {
     "data": {
      "text/plain": [
       "SelectFromModel(estimator=RandomForestClassifier(n_estimators=10,\n",
       "                                                 random_state=0))"
      ]
     },
     "execution_count": 6,
     "metadata": {},
     "output_type": "execute_result"
    }
   ],
   "source": [
    "# we Will fit Random Forests and select features \n",
    "\n",
    "# For that we will use selectFromModel class from sklearn\n",
    "# to automatically select the features\n",
    "\n",
    "# SelectFrom model will select those features that has importance\n",
    "# greater than the mean importance of all the features by default.\n",
    "# We can alter this threshold if you want to\n",
    "# n_estimators - number of trees in the forest\n",
    "sel_ = SelectFromModel(RandomForestClassifier(n_estimators=10, random_state=0))\n",
    "sel_.fit(X_train, y_train)"
   ]
  },
  {
   "cell_type": "code",
   "execution_count": 7,
   "id": "7835f5ad",
   "metadata": {},
   "outputs": [
    {
     "data": {
      "text/plain": [
       "array([False, False, False, False, False, False, False, False, False,\n",
       "       False, False, False, False, False, False,  True, False, False,\n",
       "       False,  True,  True, False, False, False, False, False, False,\n",
       "       False, False,  True,  True, False,  True,  True,  True, False,\n",
       "       False,  True, False, False,  True, False, False, False, False,\n",
       "       False, False, False, False, False, False, False, False,  True,\n",
       "        True, False, False, False, False, False, False, False, False,\n",
       "       False, False,  True, False,  True,  True,  True, False,  True,\n",
       "       False, False, False, False, False, False, False,  True,  True,\n",
       "       False, False, False,  True,  True,  True, False, False, False,\n",
       "        True, False, False, False,  True, False, False, False, False,\n",
       "       False, False,  True, False, False, False,  True,  True, False])"
      ]
     },
     "execution_count": 7,
     "metadata": {},
     "output_type": "execute_result"
    }
   ],
   "source": [
    "# features that were selected.\n",
    "\n",
    "# sklearn will select those features which importance values\n",
    "# are greater than the mean of all the coefficients.\n",
    "\n",
    "sel_.get_support()"
   ]
  },
  {
   "cell_type": "code",
   "execution_count": 8,
   "id": "bc108119",
   "metadata": {},
   "outputs": [
    {
     "data": {
      "text/plain": [
       "27"
      ]
     },
     "execution_count": 8,
     "metadata": {},
     "output_type": "execute_result"
    }
   ],
   "source": [
    "# let's make a list and count the selected features\n",
    "\n",
    "selected_feat = X_train.columns[(sel_.get_support())]\n",
    "\n",
    "len(selected_feat)"
   ]
  },
  {
   "cell_type": "code",
   "execution_count": 9,
   "id": "d795de26",
   "metadata": {},
   "outputs": [
    {
     "data": {
      "text/plain": [
       "Index(['var_16', 'var_20', 'var_21', 'var_30', 'var_31', 'var_33', 'var_34',\n",
       "       'var_35', 'var_38', 'var_41', 'var_54', 'var_55', 'var_67', 'var_69',\n",
       "       'var_70', 'var_71', 'var_73', 'var_81', 'var_82', 'var_86', 'var_87',\n",
       "       'var_88', 'var_92', 'var_96', 'var_103', 'var_107', 'var_108'],\n",
       "      dtype='object')"
      ]
     },
     "execution_count": 9,
     "metadata": {},
     "output_type": "execute_result"
    }
   ],
   "source": [
    "selected_feat"
   ]
  },
  {
   "cell_type": "markdown",
   "id": "94dba778",
   "metadata": {},
   "source": [
    "### Plot importances"
   ]
  },
  {
   "cell_type": "code",
   "execution_count": 25,
   "id": "42ae7690",
   "metadata": {},
   "outputs": [
    {
     "data": {
      "image/png": "[encoded data removed]",
      "text/plain": [
       "<Figure size 432x288 with 1 Axes>"
      ]
     },
     "metadata": {
      "needs_background": "light"
     },
     "output_type": "display_data"
    }
   ],
   "source": [
    "\n",
    "# and now let's plot the distribution of importances\n",
    "\n",
    "# Ravel will flatten the series\n",
    "pd.Series(sel_.estimator_.feature_importances_.ravel()).hist(bins=20)\n",
    "plt.xlabel('Feature importance')\n",
    "plt.ylabel('Number of Features')\n",
    "plt.show()"
   ]
  },
  {
   "cell_type": "code",
   "execution_count": 26,
   "id": "088dd9c5",
   "metadata": {},
   "outputs": [
    {
     "name": "stdout",
     "output_type": "stream",
     "text": [
      "total features: 108\n",
      "selected features: 27\n"
     ]
    }
   ],
   "source": [
    "# and now, let's compare the  amount of selected features\n",
    "# with the amount of features which importance is above the\n",
    "# mean of all features, to make sure we understand the output of\n",
    "# SelectFromModel\n",
    "\n",
    "print('total features: {}'.format((X_train.shape[1])))\n",
    "\n",
    "print('selected features: {}'.format(len(selected_feat)))"
   ]
  },
  {
   "cell_type": "code",
   "execution_count": 32,
   "id": "c315138b",
   "metadata": {},
   "outputs": [
    {
     "data": {
      "text/plain": [
       "108"
      ]
     },
     "execution_count": 32,
     "metadata": {},
     "output_type": "execute_result"
    }
   ],
   "source": [
    "\n",
    "len(sel_.estimator_.feature_importances_)"
   ]
  },
  {
   "cell_type": "code",
   "execution_count": 34,
   "id": "485a3faa",
   "metadata": {},
   "outputs": [
    {
     "data": {
      "text/plain": [
       "array([0.00834856, 0.00793609, 0.00789585, 0.00897433, 0.00751834,\n",
       "       0.00870615, 0.00858119, 0.00905821, 0.00884905, 0.00771888,\n",
       "       0.00915479, 0.00822345, 0.00898097, 0.00883445, 0.00900294,\n",
       "       0.00976811, 0.00892364, 0.00774007, 0.00885912, 0.01105934,\n",
       "       0.01133709, 0.00681211, 0.00830223, 0.00830459, 0.00839332,\n",
       "       0.00868279, 0.00809618, 0.00751886, 0.0090602 , 0.01643342,\n",
       "       0.01096255, 0.00741806, 0.00940478, 0.01505742, 0.00980123,\n",
       "       0.00799796, 0.00652943, 0.00992819, 0.00750595, 0.00844972,\n",
       "       0.00999719, 0.00790028, 0.00764606, 0.00871899, 0.00568172,\n",
       "       0.00903479, 0.00804648, 0.00773065, 0.00783022, 0.00873122,\n",
       "       0.00817612, 0.00752646, 0.00924483, 0.00929936, 0.05537022,\n",
       "       0.00641035, 0.00693599, 0.00856578, 0.00770724, 0.00776184,\n",
       "       0.00782914, 0.00808956, 0.00871135, 0.0084891 , 0.00899193,\n",
       "       0.00938829, 0.00906921, 0.0102396 , 0.01322372, 0.00967303,\n",
       "       0.00785581, 0.01017561, 0.00771478, 0.00837578, 0.00925131,\n",
       "       0.00813845, 0.00841662, 0.00872396, 0.00836815, 0.00942716,\n",
       "       0.00927746, 0.00854324, 0.00754774, 0.00734976, 0.00962789,\n",
       "       0.00962332, 0.01110292, 0.0079154 , 0.00902452, 0.00239991,\n",
       "       0.00963728, 0.00852579, 0.00866324, 0.00829949, 0.01071198,\n",
       "       0.00754095, 0.00767122, 0.0090407 , 0.00819489, 0.00777306,\n",
       "       0.00754113, 0.01001969, 0.00829285, 0.00876121, 0.00865169,\n",
       "       0.01030044, 0.02159373, 0.00777053])"
      ]
     },
     "execution_count": 34,
     "metadata": {},
     "output_type": "execute_result"
    }
   ],
   "source": [
    "sel_.estimator_.feature_importances_"
   ]
  },
  {
   "cell_type": "code",
   "execution_count": 33,
   "id": "d7258650",
   "metadata": {},
   "outputs": [
    {
     "data": {
      "text/plain": [
       "0.009259259259259259"
      ]
     },
     "execution_count": 33,
     "metadata": {},
     "output_type": "execute_result"
    }
   ],
   "source": [
    "sel_.estimator_.feature_importances_.mean()"
   ]
  },
  {
   "cell_type": "code",
   "execution_count": 37,
   "id": "2d98d2cf",
   "metadata": {},
   "outputs": [
    {
     "data": {
      "text/plain": [
       "array([False, False, False, False, False, False, False, False, False,\n",
       "       False, False, False, False, False, False,  True, False, False,\n",
       "       False,  True,  True, False, False, False, False, False, False,\n",
       "       False, False,  True,  True, False,  True,  True,  True, False,\n",
       "       False,  True, False, False,  True, False, False, False, False,\n",
       "       False, False, False, False, False, False, False, False,  True,\n",
       "        True, False, False, False, False, False, False, False, False,\n",
       "       False, False,  True, False,  True,  True,  True, False,  True,\n",
       "       False, False, False, False, False, False, False,  True,  True,\n",
       "       False, False, False,  True,  True,  True, False, False, False,\n",
       "        True, False, False, False,  True, False, False, False, False,\n",
       "       False, False,  True, False, False, False,  True,  True, False])"
      ]
     },
     "execution_count": 37,
     "metadata": {},
     "output_type": "execute_result"
    }
   ],
   "source": [
    "sel_.estimator_.feature_importances_ >sel_.estimator_.feature_importances_.mean()"
   ]
  },
  {
   "cell_type": "code",
   "execution_count": 35,
   "id": "b75e19b2",
   "metadata": {},
   "outputs": [
    {
     "name": "stdout",
     "output_type": "stream",
     "text": [
      "features with importance greater than the mean importance of all features: 27\n"
     ]
    }
   ],
   "source": [
    "print(\n",
    "    'features with importance greater than the mean importance of all features: {}'.format(\n",
    "        np.sum(sel_.estimator_.feature_importances_ >\n",
    "               sel_.estimator_.feature_importances_.mean())))"
   ]
  },
  {
   "cell_type": "code",
   "execution_count": 38,
   "id": "d7c3f69f",
   "metadata": {},
   "outputs": [
    {
     "name": "stdout",
     "output_type": "stream",
     "text": [
      "total features: 108\n",
      "selected features: 27\n",
      "features with importance greater than the mean importance of all features: 27\n"
     ]
    }
   ],
   "source": [
    "# and now, let's compare the  amount of selected features\n",
    "# with the amount of features which importance is above the\n",
    "# mean of all features, to make sure we understand the output of\n",
    "# SelectFromModel\n",
    "\n",
    "print('total features: {}'.format((X_train.shape[1])))\n",
    "\n",
    "print('selected features: {}'.format(len(selected_feat)))\n",
    "\n",
    "print(\n",
    "    'features with importance greater than the mean importance of all features: {}'.format(\n",
    "        np.sum(sel_.estimator_.feature_importances_ >\n",
    "               sel_.estimator_.feature_importances_.mean())))"
   ]
  },
  {
   "cell_type": "markdown",
   "id": "37eabbd2",
   "metadata": {},
   "source": [
    "**A few things to note:**\n",
    "\n",
    "If we change the parameters of the tree, we may obtain different features\n",
    "How many features to select is somewhat arbitrary\n",
    "With SelectFromModel we use the mean of all importances as threshold. We can modify this threshold within the SelectFromModel if we want more or less features."
   ]
  },
  {
   "cell_type": "markdown",
   "id": "680a78c7",
   "metadata": {},
   "source": [
    "### Regression\n"
   ]
  },
  {
   "cell_type": "code",
   "execution_count": 41,
   "id": "88234e79",
   "metadata": {},
   "outputs": [
    {
     "data": {
      "text/plain": [
       "(1460, 81)"
      ]
     },
     "execution_count": 41,
     "metadata": {},
     "output_type": "execute_result"
    }
   ],
   "source": [
    "# load dataset\n",
    "data = pd.read_csv('../data/houseprice.csv')\n",
    "data.shape"
   ]
  },
  {
   "cell_type": "code",
   "execution_count": 42,
   "id": "eb823e41",
   "metadata": {},
   "outputs": [
    {
     "data": {
      "text/plain": [
       "(1460, 38)"
      ]
     },
     "execution_count": 42,
     "metadata": {},
     "output_type": "execute_result"
    }
   ],
   "source": [
    "# In practice, feature selection should be done after data pre-processing,\n",
    "# so ideally, all the categorical variables are encoded into numbers,\n",
    "# and then you can assess how deterministic they are of the target\n",
    "\n",
    "# here for simplicity I will use only numerical variables\n",
    "# select numerical columns:\n",
    "\n",
    "numerics = ['int16', 'int32', 'int64', 'float16', 'float32', 'float64']\n",
    "numerical_vars = list(data.select_dtypes(include=numerics).columns)\n",
    "data = data[numerical_vars]\n",
    "data.shape"
   ]
  },
  {
   "cell_type": "code",
   "execution_count": 44,
   "id": "bdda0fef",
   "metadata": {},
   "outputs": [
    {
     "data": {
      "text/plain": [
       "((1022, 37), (438, 37))"
      ]
     },
     "execution_count": 44,
     "metadata": {},
     "output_type": "execute_result"
    }
   ],
   "source": [
    "X_train, X_test, y_train, y_test = train_test_split(\n",
    "    data.drop(labels=['SalePrice'], axis=1),\n",
    "    data['SalePrice'],\n",
    "    test_size=0.3,\n",
    "    random_state=0)\n",
    "\n",
    "X_train.shape, X_test.shape"
   ]
  },
  {
   "cell_type": "code",
   "execution_count": 45,
   "id": "ece6b834",
   "metadata": {},
   "outputs": [],
   "source": [
    "X_train = X_train.fillna(0)\n",
    "X_test = X_test.fillna(0)"
   ]
  },
  {
   "cell_type": "code",
   "execution_count": 46,
   "id": "3403c438",
   "metadata": {},
   "outputs": [
    {
     "data": {
      "text/plain": [
       "SelectFromModel(estimator=RandomForestRegressor(random_state=10))"
      ]
     },
     "execution_count": 46,
     "metadata": {},
     "output_type": "execute_result"
    }
   ],
   "source": [
    "# we train a random forest for regression and select features\n",
    "\n",
    "# SelectFrom model will select those features which importance\n",
    "# is greater than the mean importance of all the features\n",
    "# by default, but you can alter this threshold if you want to\n",
    "\n",
    "sel_ = SelectFromModel(RandomForestRegressor(n_estimators=100, random_state=10))\n",
    "sel_.fit(X_train, y_train)"
   ]
  },
  {
   "cell_type": "code",
   "execution_count": 47,
   "id": "d2cea4b8",
   "metadata": {},
   "outputs": [
    {
     "data": {
      "text/plain": [
       "5"
      ]
     },
     "execution_count": 47,
     "metadata": {},
     "output_type": "execute_result"
    }
   ],
   "source": [
    "# let's make a list and count the selected features\n",
    "selected_feat = X_train.columns[(sel_.get_support())]\n",
    "len(selected_feat)"
   ]
  },
  {
   "cell_type": "code",
   "execution_count": 49,
   "id": "bbb931ed",
   "metadata": {},
   "outputs": [
    {
     "data": {
      "text/plain": [
       "Index(['OverallQual', 'BsmtFinSF1', 'TotalBsmtSF', 'GrLivArea', 'GarageCars'], dtype='object')"
      ]
     },
     "execution_count": 49,
     "metadata": {},
     "output_type": "execute_result"
    }
   ],
   "source": [
    "selected_feat"
   ]
  },
  {
   "cell_type": "code",
   "execution_count": 48,
   "id": "dc91fd9c",
   "metadata": {},
   "outputs": [
    {
     "name": "stdout",
     "output_type": "stream",
     "text": [
      "total features: 37\n",
      "selected features: 5\n",
      "features with coefficients greater than the mean coefficient: 5\n"
     ]
    }
   ],
   "source": [
    "# and now, let's compare the  amount of selected features\n",
    "# with the amount of features which importance is above the\n",
    "# mean importance, to make sure we understand the output of\n",
    "# sklearn\n",
    "\n",
    "print('total features: {}'.format((X_train.shape[1])))\n",
    "\n",
    "print('selected features: {}'.format(len(selected_feat)))\n",
    "\n",
    "print(\n",
    "    'features with coefficients greater than the mean coefficient: {}'.format(\n",
    "        np.sum(sel_.estimator_.feature_importances_ >\n",
    "               sel_.estimator_.feature_importances_.mean())))"
   ]
  },
  {
   "cell_type": "markdown",
   "id": "6f1726aa",
   "metadata": {},
   "source": [
    "Selecting features by using tree derived feature importance is a very straightforward, fast and generally accurate way of selecting good features for machine learning. In particular, if you are going to build tree methods.\n",
    "\n",
    "However, as I said, correlated features will show in a tree similar importance, but lower than compared to what their importance would be if the tree was built without the correlated counterparts.\n",
    "\n",
    "In situations like this, it is better to select features recursively, rather than altogether like we are doing here"
   ]
  },
  {
   "cell_type": "code",
   "execution_count": null,
   "id": "d29062a0",
   "metadata": {},
   "outputs": [],
   "source": []
  }
 ],
 "metadata": {
  "kernelspec": {
   "display_name": "Python 3 (ipykernel)",
   "language": "python",
   "name": "python3"
  },
  "language_info": {
   "codemirror_mode": {
    "name": "ipython",
    "version": 3
   },
   "file_extension": ".py",
   "mimetype": "text/x-python",
   "name": "python",
   "nbconvert_exporter": "python",
   "pygments_lexer": "ipython3",
   "version": "3.9.7"
  }
 },
 "nbformat": 4,
 "nbformat_minor": 5
}
