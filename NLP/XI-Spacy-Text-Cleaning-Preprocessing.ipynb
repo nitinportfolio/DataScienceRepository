{
 "cells": [
  {
   "cell_type": "code",
   "execution_count": 286,
   "id": "c6f6b952",
   "metadata": {},
   "outputs": [],
   "source": [
    "#Incase face isssues installing wordcloud refer below link and install whl for your OS\n",
    "# https://www.lfd.uci.edu/~gohlke/pythonlibs/#wordcloud\n",
    "# pip install wordcloud\n",
    "#!pip install beautifulsoup4\n",
    "# pip install -U textblob\n",
    "# python -m textblob.download_corpora\n",
    "# above command is not pip install but python download readit carefully :)\n"
   ]
  },
  {
   "cell_type": "code",
   "execution_count": 364,
   "id": "d9d5d29b",
   "metadata": {},
   "outputs": [],
   "source": [
    "import numpy as np\n",
    "import pandas as pd\n",
    "import spacy\n",
    "from  textblob import TextBlob\n",
    "from textblob.sentiments import NaiveBayesAnalyzer"
   ]
  },
  {
   "cell_type": "code",
   "execution_count": null,
   "id": "3d9518cd",
   "metadata": {},
   "outputs": [],
   "source": [
    "nlp = spacy.load('en_core_web_lg')"
   ]
  },
  {
   "cell_type": "code",
   "execution_count": 2,
   "id": "5df668ac",
   "metadata": {},
   "outputs": [],
   "source": [
    "from spacy.lang.en.stop_words import STOP_WORDS as stopwords"
   ]
  },
  {
   "cell_type": "code",
   "execution_count": 39,
   "id": "fd1c574c",
   "metadata": {},
   "outputs": [],
   "source": [
    "pd.set_option('display.max_colwidth', None)"
   ]
  },
  {
   "cell_type": "code",
   "execution_count": 16,
   "id": "d0d95747",
   "metadata": {},
   "outputs": [],
   "source": [
    "data = pd.read_csv('./data/twitterdata1.csv')"
   ]
  },
  {
   "cell_type": "code",
   "execution_count": 17,
   "id": "170990a0",
   "metadata": {},
   "outputs": [
    {
     "data": {
      "text/html": [
       "<div>\n",
       "<style scoped>\n",
       "    .dataframe tbody tr th:only-of-type {\n",
       "        vertical-align: middle;\n",
       "    }\n",
       "\n",
       "    .dataframe tbody tr th {\n",
       "        vertical-align: top;\n",
       "    }\n",
       "\n",
       "    .dataframe thead th {\n",
       "        text-align: right;\n",
       "    }\n",
       "</style>\n",
       "<table border=\"1\" class=\"dataframe\">\n",
       "  <thead>\n",
       "    <tr style=\"text-align: right;\">\n",
       "      <th></th>\n",
       "      <th>twitts</th>\n",
       "      <th>sentiment</th>\n",
       "    </tr>\n",
       "  </thead>\n",
       "  <tbody>\n",
       "    <tr>\n",
       "      <th>0</th>\n",
       "      <td>is bored and wants to watch a movie  any sugge...</td>\n",
       "      <td>0</td>\n",
       "    </tr>\n",
       "    <tr>\n",
       "      <th>1</th>\n",
       "      <td>back in miami.  waiting to unboard ship</td>\n",
       "      <td>0</td>\n",
       "    </tr>\n",
       "    <tr>\n",
       "      <th>2</th>\n",
       "      <td>@misskpey awwww dnt dis brng bak memoriessss, ...</td>\n",
       "      <td>0</td>\n",
       "    </tr>\n",
       "    <tr>\n",
       "      <th>3</th>\n",
       "      <td>ughhh i am so tired  blahhhhhhhhh</td>\n",
       "      <td>0</td>\n",
       "    </tr>\n",
       "    <tr>\n",
       "      <th>4</th>\n",
       "      <td>@mandagoforth me bad! It's funny though. Zacha...</td>\n",
       "      <td>0</td>\n",
       "    </tr>\n",
       "    <tr>\n",
       "      <th>...</th>\n",
       "      <td>...</td>\n",
       "      <td>...</td>\n",
       "    </tr>\n",
       "    <tr>\n",
       "      <th>3995</th>\n",
       "      <td>i just graduated</td>\n",
       "      <td>1</td>\n",
       "    </tr>\n",
       "    <tr>\n",
       "      <th>3996</th>\n",
       "      <td>Templating works; it all has to be done</td>\n",
       "      <td>1</td>\n",
       "    </tr>\n",
       "    <tr>\n",
       "      <th>3997</th>\n",
       "      <td>mommy just brought me starbucks</td>\n",
       "      <td>1</td>\n",
       "    </tr>\n",
       "    <tr>\n",
       "      <th>3998</th>\n",
       "      <td>@omarepps watching you on a House re-run...lov...</td>\n",
       "      <td>1</td>\n",
       "    </tr>\n",
       "    <tr>\n",
       "      <th>3999</th>\n",
       "      <td>Thanks for trying to make me smile I'll make y...</td>\n",
       "      <td>1</td>\n",
       "    </tr>\n",
       "  </tbody>\n",
       "</table>\n",
       "<p>4000 rows × 2 columns</p>\n",
       "</div>"
      ],
      "text/plain": [
       "                                                 twitts  sentiment\n",
       "0     is bored and wants to watch a movie  any sugge...          0\n",
       "1              back in miami.  waiting to unboard ship           0\n",
       "2     @misskpey awwww dnt dis brng bak memoriessss, ...          0\n",
       "3                     ughhh i am so tired  blahhhhhhhhh          0\n",
       "4     @mandagoforth me bad! It's funny though. Zacha...          0\n",
       "...                                                 ...        ...\n",
       "3995                                  i just graduated           1\n",
       "3996          Templating works; it all has to be done            1\n",
       "3997                   mommy just brought me starbucks           1\n",
       "3998  @omarepps watching you on a House re-run...lov...          1\n",
       "3999  Thanks for trying to make me smile I'll make y...          1\n",
       "\n",
       "[4000 rows x 2 columns]"
      ]
     },
     "execution_count": 17,
     "metadata": {},
     "output_type": "execute_result"
    }
   ],
   "source": [
    "# sentiment - 0 means negative\n",
    "# sentiment - 1 menas positive\n",
    "data"
   ]
  },
  {
   "cell_type": "code",
   "execution_count": 18,
   "id": "8870ff68",
   "metadata": {},
   "outputs": [
    {
     "data": {
      "text/plain": [
       "0    2000\n",
       "1    2000\n",
       "Name: sentiment, dtype: int64"
      ]
     },
     "execution_count": 18,
     "metadata": {},
     "output_type": "execute_result"
    }
   ],
   "source": [
    "data['sentiment'].value_counts()"
   ]
  },
  {
   "cell_type": "markdown",
   "id": "3ce3c2eb",
   "metadata": {},
   "source": [
    "## Word Counts"
   ]
  },
  {
   "cell_type": "code",
   "execution_count": 15,
   "id": "4d249ea9",
   "metadata": {},
   "outputs": [
    {
     "data": {
      "text/plain": [
       "5"
      ]
     },
     "execution_count": 15,
     "metadata": {},
     "output_type": "execute_result"
    }
   ],
   "source": [
    "len('Lets understand text data cleaning'.split())"
   ]
  },
  {
   "cell_type": "code",
   "execution_count": 22,
   "id": "1c8dff17",
   "metadata": {},
   "outputs": [
    {
     "data": {
      "text/plain": [
       "0       10\n",
       "1        7\n",
       "2       12\n",
       "3        6\n",
       "4       26\n",
       "        ..\n",
       "3995     3\n",
       "3996     8\n",
       "3997     5\n",
       "3998     8\n",
       "3999    16\n",
       "Name: twitts, Length: 4000, dtype: int64"
      ]
     },
     "execution_count": 22,
     "metadata": {},
     "output_type": "execute_result"
    }
   ],
   "source": [
    "data['twitts'].apply(lambda x: len(str(x).split()))"
   ]
  },
  {
   "cell_type": "code",
   "execution_count": 23,
   "id": "4614abbd",
   "metadata": {},
   "outputs": [],
   "source": [
    "data['word_count'] = data['twitts'].apply(lambda x: len(str(x).split()))"
   ]
  },
  {
   "cell_type": "code",
   "execution_count": 24,
   "id": "4eae3882",
   "metadata": {},
   "outputs": [
    {
     "data": {
      "text/html": [
       "<div>\n",
       "<style scoped>\n",
       "    .dataframe tbody tr th:only-of-type {\n",
       "        vertical-align: middle;\n",
       "    }\n",
       "\n",
       "    .dataframe tbody tr th {\n",
       "        vertical-align: top;\n",
       "    }\n",
       "\n",
       "    .dataframe thead th {\n",
       "        text-align: right;\n",
       "    }\n",
       "</style>\n",
       "<table border=\"1\" class=\"dataframe\">\n",
       "  <thead>\n",
       "    <tr style=\"text-align: right;\">\n",
       "      <th></th>\n",
       "      <th>twitts</th>\n",
       "      <th>sentiment</th>\n",
       "      <th>word_count</th>\n",
       "    </tr>\n",
       "  </thead>\n",
       "  <tbody>\n",
       "    <tr>\n",
       "      <th>612</th>\n",
       "      <td>Whuuurrrrr - glands really swollen now. Guess ...</td>\n",
       "      <td>0</td>\n",
       "      <td>12</td>\n",
       "    </tr>\n",
       "    <tr>\n",
       "      <th>2584</th>\n",
       "      <td>@Avinio im taking her to rotschild, beach, shu...</td>\n",
       "      <td>1</td>\n",
       "      <td>22</td>\n",
       "    </tr>\n",
       "    <tr>\n",
       "      <th>1533</th>\n",
       "      <td>Lovin' her Lululemon shorts...maybe I should s...</td>\n",
       "      <td>0</td>\n",
       "      <td>19</td>\n",
       "    </tr>\n",
       "    <tr>\n",
       "      <th>20</th>\n",
       "      <td>@DanieSass so IDK when it happened or how, but...</td>\n",
       "      <td>0</td>\n",
       "      <td>21</td>\n",
       "    </tr>\n",
       "    <tr>\n",
       "      <th>471</th>\n",
       "      <td>Hope your okay</td>\n",
       "      <td>0</td>\n",
       "      <td>3</td>\n",
       "    </tr>\n",
       "  </tbody>\n",
       "</table>\n",
       "</div>"
      ],
      "text/plain": [
       "                                                 twitts  sentiment  word_count\n",
       "612   Whuuurrrrr - glands really swollen now. Guess ...          0          12\n",
       "2584  @Avinio im taking her to rotschild, beach, shu...          1          22\n",
       "1533  Lovin' her Lululemon shorts...maybe I should s...          0          19\n",
       "20    @DanieSass so IDK when it happened or how, but...          0          21\n",
       "471                                     Hope your okay           0           3"
      ]
     },
     "execution_count": 24,
     "metadata": {},
     "output_type": "execute_result"
    }
   ],
   "source": [
    "data.sample(5)"
   ]
  },
  {
   "cell_type": "code",
   "execution_count": 25,
   "id": "578a2671",
   "metadata": {},
   "outputs": [
    {
     "data": {
      "text/plain": [
       "32"
      ]
     },
     "execution_count": 25,
     "metadata": {},
     "output_type": "execute_result"
    }
   ],
   "source": [
    "data['word_count'].max()"
   ]
  },
  {
   "cell_type": "code",
   "execution_count": 26,
   "id": "4b1209ad",
   "metadata": {},
   "outputs": [
    {
     "data": {
      "text/plain": [
       "1"
      ]
     },
     "execution_count": 26,
     "metadata": {},
     "output_type": "execute_result"
    }
   ],
   "source": [
    "data['word_count'].min()"
   ]
  },
  {
   "cell_type": "code",
   "execution_count": 30,
   "id": "4ffdde88",
   "metadata": {},
   "outputs": [
    {
     "data": {
      "text/plain": [
       "count    4000.000000\n",
       "mean       13.281000\n",
       "std         6.933943\n",
       "min         1.000000\n",
       "25%         7.000000\n",
       "50%        12.000000\n",
       "75%        19.000000\n",
       "max        32.000000\n",
       "Name: word_count, dtype: float64"
      ]
     },
     "execution_count": 30,
     "metadata": {},
     "output_type": "execute_result"
    }
   ],
   "source": [
    "data['word_count'].describe()"
   ]
  },
  {
   "cell_type": "code",
   "execution_count": 40,
   "id": "ab24bed6",
   "metadata": {},
   "outputs": [
    {
     "data": {
      "text/html": [
       "<div>\n",
       "<style scoped>\n",
       "    .dataframe tbody tr th:only-of-type {\n",
       "        vertical-align: middle;\n",
       "    }\n",
       "\n",
       "    .dataframe tbody tr th {\n",
       "        vertical-align: top;\n",
       "    }\n",
       "\n",
       "    .dataframe thead th {\n",
       "        text-align: right;\n",
       "    }\n",
       "</style>\n",
       "<table border=\"1\" class=\"dataframe\">\n",
       "  <thead>\n",
       "    <tr style=\"text-align: right;\">\n",
       "      <th></th>\n",
       "      <th>twitts</th>\n",
       "      <th>sentiment</th>\n",
       "      <th>word_count</th>\n",
       "    </tr>\n",
       "  </thead>\n",
       "  <tbody>\n",
       "    <tr>\n",
       "      <th>174</th>\n",
       "      <td>ohhh 2 write bak 2 ppl u hav 2 put their names 1st evn on ur phone! ughh this whole time i thought i was beastin n im just talkn 2 myself</td>\n",
       "      <td>0</td>\n",
       "      <td>32</td>\n",
       "    </tr>\n",
       "    <tr>\n",
       "      <th>657</th>\n",
       "      <td>I need a bf! LOL anyone wanna sign up haha. The guy I like just broke up with his gf too bad schools over I won't be able to talk to him</td>\n",
       "      <td>0</td>\n",
       "      <td>32</td>\n",
       "    </tr>\n",
       "    <tr>\n",
       "      <th>1068</th>\n",
       "      <td>@amytweets i am glad to hear you are all right i am very good thanks and i no it was very hard work i couldnt do  and i have been let  ...</td>\n",
       "      <td>0</td>\n",
       "      <td>32</td>\n",
       "    </tr>\n",
       "    <tr>\n",
       "      <th>1474</th>\n",
       "      <td>Shit happens  But Why ??? I hate this part of life fuck it all ! i feel so sad but why what do i think and why do i think it ?</td>\n",
       "      <td>0</td>\n",
       "      <td>32</td>\n",
       "    </tr>\n",
       "    <tr>\n",
       "      <th>1697</th>\n",
       "      <td>well its all most 6am and i still haven't gone to bed yet! i dont know y i stay up this late. i'm not tired right now but i will be later</td>\n",
       "      <td>0</td>\n",
       "      <td>32</td>\n",
       "    </tr>\n",
       "  </tbody>\n",
       "</table>\n",
       "</div>"
      ],
      "text/plain": [
       "                                                                                                                                          twitts  \\\n",
       "174   ohhh 2 write bak 2 ppl u hav 2 put their names 1st evn on ur phone! ughh this whole time i thought i was beastin n im just talkn 2 myself    \n",
       "657    I need a bf! LOL anyone wanna sign up haha. The guy I like just broke up with his gf too bad schools over I won't be able to talk to him    \n",
       "1068  @amytweets i am glad to hear you are all right i am very good thanks and i no it was very hard work i couldnt do  and i have been let  ...   \n",
       "1474              Shit happens  But Why ??? I hate this part of life fuck it all ! i feel so sad but why what do i think and why do i think it ?   \n",
       "1697  well its all most 6am and i still haven't gone to bed yet! i dont know y i stay up this late. i'm not tired right now but i will be later    \n",
       "\n",
       "      sentiment  word_count  \n",
       "174           0          32  \n",
       "657           0          32  \n",
       "1068          0          32  \n",
       "1474          0          32  \n",
       "1697          0          32  "
      ]
     },
     "execution_count": 40,
     "metadata": {},
     "output_type": "execute_result"
    }
   ],
   "source": [
    "data[data['word_count']==32]"
   ]
  },
  {
   "cell_type": "code",
   "execution_count": 37,
   "id": "0f257023",
   "metadata": {},
   "outputs": [
    {
     "data": {
      "text/html": [
       "<div>\n",
       "<style scoped>\n",
       "    .dataframe tbody tr th:only-of-type {\n",
       "        vertical-align: middle;\n",
       "    }\n",
       "\n",
       "    .dataframe tbody tr th {\n",
       "        vertical-align: top;\n",
       "    }\n",
       "\n",
       "    .dataframe thead th {\n",
       "        text-align: right;\n",
       "    }\n",
       "</style>\n",
       "<table border=\"1\" class=\"dataframe\">\n",
       "  <thead>\n",
       "    <tr style=\"text-align: right;\">\n",
       "      <th></th>\n",
       "      <th>twitts</th>\n",
       "      <th>sentiment</th>\n",
       "      <th>word_count</th>\n",
       "    </tr>\n",
       "  </thead>\n",
       "  <tbody>\n",
       "    <tr>\n",
       "      <th>385</th>\n",
       "      <td>homework</td>\n",
       "      <td>0</td>\n",
       "      <td>1</td>\n",
       "    </tr>\n",
       "    <tr>\n",
       "      <th>691</th>\n",
       "      <td>@ekrelly</td>\n",
       "      <td>0</td>\n",
       "      <td>1</td>\n",
       "    </tr>\n",
       "    <tr>\n",
       "      <th>1124</th>\n",
       "      <td>disappointed</td>\n",
       "      <td>0</td>\n",
       "      <td>1</td>\n",
       "    </tr>\n",
       "    <tr>\n",
       "      <th>1286</th>\n",
       "      <td>@officialmgnfox</td>\n",
       "      <td>0</td>\n",
       "      <td>1</td>\n",
       "    </tr>\n",
       "    <tr>\n",
       "      <th>1325</th>\n",
       "      <td>headache</td>\n",
       "      <td>0</td>\n",
       "      <td>1</td>\n",
       "    </tr>\n",
       "    <tr>\n",
       "      <th>1897</th>\n",
       "      <td>@MCRmuffin</td>\n",
       "      <td>0</td>\n",
       "      <td>1</td>\n",
       "    </tr>\n",
       "    <tr>\n",
       "      <th>2542</th>\n",
       "      <td>Graduated!</td>\n",
       "      <td>1</td>\n",
       "      <td>1</td>\n",
       "    </tr>\n",
       "    <tr>\n",
       "      <th>2947</th>\n",
       "      <td>reading</td>\n",
       "      <td>1</td>\n",
       "      <td>1</td>\n",
       "    </tr>\n",
       "    <tr>\n",
       "      <th>3176</th>\n",
       "      <td>@omeirdeleon</td>\n",
       "      <td>1</td>\n",
       "      <td>1</td>\n",
       "    </tr>\n",
       "    <tr>\n",
       "      <th>3470</th>\n",
       "      <td>www.myspace.com/myfinalthought</td>\n",
       "      <td>1</td>\n",
       "      <td>1</td>\n",
       "    </tr>\n",
       "    <tr>\n",
       "      <th>3966</th>\n",
       "      <td>@gethyp3</td>\n",
       "      <td>1</td>\n",
       "      <td>1</td>\n",
       "    </tr>\n",
       "  </tbody>\n",
       "</table>\n",
       "</div>"
      ],
      "text/plain": [
       "                               twitts  sentiment  word_count\n",
       "385                         homework           0           1\n",
       "691                         @ekrelly           0           1\n",
       "1124                    disappointed           0           1\n",
       "1286                 @officialmgnfox           0           1\n",
       "1325                        headache           0           1\n",
       "1897                      @MCRmuffin           0           1\n",
       "2542                      Graduated!           1           1\n",
       "2947                         reading           1           1\n",
       "3176                    @omeirdeleon           1           1\n",
       "3470  www.myspace.com/myfinalthought           1           1\n",
       "3966                        @gethyp3           1           1"
      ]
     },
     "execution_count": 37,
     "metadata": {},
     "output_type": "execute_result"
    }
   ],
   "source": [
    "data[data['word_count']==1]"
   ]
  },
  {
   "cell_type": "markdown",
   "id": "ca7d3c6f",
   "metadata": {},
   "source": [
    "## Character Count"
   ]
  },
  {
   "cell_type": "code",
   "execution_count": 57,
   "id": "a8bebf6f",
   "metadata": {},
   "outputs": [
    {
     "data": {
      "text/plain": [
       "11"
      ]
     },
     "execution_count": 57,
     "metadata": {},
     "output_type": "execute_result"
    }
   ],
   "source": [
    "b = ('hello world')\n",
    "len(b)\n",
    "# here we have 10 chars & 1 white space"
   ]
  },
  {
   "cell_type": "code",
   "execution_count": 53,
   "id": "0fb4280b",
   "metadata": {},
   "outputs": [
    {
     "data": {
      "text/plain": [
       "['hello', 'world']"
      ]
     },
     "execution_count": 53,
     "metadata": {},
     "output_type": "execute_result"
    }
   ],
   "source": [
    "a = 'hello world'.split()\n",
    "a"
   ]
  },
  {
   "cell_type": "code",
   "execution_count": 54,
   "id": "3e3fd158",
   "metadata": {},
   "outputs": [
    {
     "data": {
      "text/plain": [
       "'helloworld'"
      ]
     },
     "execution_count": 54,
     "metadata": {},
     "output_type": "execute_result"
    }
   ],
   "source": [
    "''.join(a)"
   ]
  },
  {
   "cell_type": "code",
   "execution_count": 55,
   "id": "b1093a8c",
   "metadata": {},
   "outputs": [],
   "source": [
    "# To remove white spaces\n",
    "def char_counts(x):\n",
    "    s = x.split()\n",
    "    x = ''.join(s)\n",
    "    return len(x)"
   ]
  },
  {
   "cell_type": "code",
   "execution_count": 56,
   "id": "3bf11df0",
   "metadata": {},
   "outputs": [
    {
     "data": {
      "text/plain": [
       "10"
      ]
     },
     "execution_count": 56,
     "metadata": {},
     "output_type": "execute_result"
    }
   ],
   "source": [
    "char_counts(b)"
   ]
  },
  {
   "cell_type": "code",
   "execution_count": 58,
   "id": "77fa4a0b",
   "metadata": {},
   "outputs": [],
   "source": [
    "data['char_count']= data['twitts'].apply(lambda x: char_counts(str(x)))"
   ]
  },
  {
   "cell_type": "code",
   "execution_count": 60,
   "id": "815cc78b",
   "metadata": {},
   "outputs": [
    {
     "data": {
      "text/html": [
       "<div>\n",
       "<style scoped>\n",
       "    .dataframe tbody tr th:only-of-type {\n",
       "        vertical-align: middle;\n",
       "    }\n",
       "\n",
       "    .dataframe tbody tr th {\n",
       "        vertical-align: top;\n",
       "    }\n",
       "\n",
       "    .dataframe thead th {\n",
       "        text-align: right;\n",
       "    }\n",
       "</style>\n",
       "<table border=\"1\" class=\"dataframe\">\n",
       "  <thead>\n",
       "    <tr style=\"text-align: right;\">\n",
       "      <th></th>\n",
       "      <th>twitts</th>\n",
       "      <th>sentiment</th>\n",
       "      <th>word_count</th>\n",
       "      <th>char_count</th>\n",
       "    </tr>\n",
       "  </thead>\n",
       "  <tbody>\n",
       "    <tr>\n",
       "      <th>0</th>\n",
       "      <td>is bored and wants to watch a movie  any suggestions?</td>\n",
       "      <td>0</td>\n",
       "      <td>10</td>\n",
       "      <td>43</td>\n",
       "    </tr>\n",
       "    <tr>\n",
       "      <th>1</th>\n",
       "      <td>back in miami.  waiting to unboard ship</td>\n",
       "      <td>0</td>\n",
       "      <td>7</td>\n",
       "      <td>32</td>\n",
       "    </tr>\n",
       "    <tr>\n",
       "      <th>2</th>\n",
       "      <td>@misskpey awwww dnt dis brng bak memoriessss,  I thnk I'm sad. LoL</td>\n",
       "      <td>0</td>\n",
       "      <td>12</td>\n",
       "      <td>54</td>\n",
       "    </tr>\n",
       "    <tr>\n",
       "      <th>3</th>\n",
       "      <td>ughhh i am so tired  blahhhhhhhhh</td>\n",
       "      <td>0</td>\n",
       "      <td>6</td>\n",
       "      <td>27</td>\n",
       "    </tr>\n",
       "    <tr>\n",
       "      <th>4</th>\n",
       "      <td>@mandagoforth me bad! It's funny though. Zachary Quinto is only there for a few though.  &amp;amp; to reply just put the @ symbol before the name!</td>\n",
       "      <td>0</td>\n",
       "      <td>26</td>\n",
       "      <td>116</td>\n",
       "    </tr>\n",
       "  </tbody>\n",
       "</table>\n",
       "</div>"
      ],
      "text/plain": [
       "                                                                                                                                           twitts  \\\n",
       "0                                                                                           is bored and wants to watch a movie  any suggestions?   \n",
       "1                                                                                                        back in miami.  waiting to unboard ship    \n",
       "2                                                                              @misskpey awwww dnt dis brng bak memoriessss,  I thnk I'm sad. LoL   \n",
       "3                                                                                                               ughhh i am so tired  blahhhhhhhhh   \n",
       "4  @mandagoforth me bad! It's funny though. Zachary Quinto is only there for a few though.  &amp; to reply just put the @ symbol before the name!   \n",
       "\n",
       "   sentiment  word_count  char_count  \n",
       "0          0          10          43  \n",
       "1          0           7          32  \n",
       "2          0          12          54  \n",
       "3          0           6          27  \n",
       "4          0          26         116  "
      ]
     },
     "execution_count": 60,
     "metadata": {},
     "output_type": "execute_result"
    }
   ],
   "source": [
    "data.head()"
   ]
  },
  {
   "cell_type": "markdown",
   "id": "efbf2dcc",
   "metadata": {},
   "source": [
    "## Average Word Length In Each Row"
   ]
  },
  {
   "cell_type": "code",
   "execution_count": 61,
   "id": "4112003d",
   "metadata": {},
   "outputs": [],
   "source": [
    "data['avg_word_len'] = data['char_count']/data['word_count']"
   ]
  },
  {
   "cell_type": "code",
   "execution_count": 62,
   "id": "8e077196",
   "metadata": {},
   "outputs": [
    {
     "data": {
      "text/html": [
       "<div>\n",
       "<style scoped>\n",
       "    .dataframe tbody tr th:only-of-type {\n",
       "        vertical-align: middle;\n",
       "    }\n",
       "\n",
       "    .dataframe tbody tr th {\n",
       "        vertical-align: top;\n",
       "    }\n",
       "\n",
       "    .dataframe thead th {\n",
       "        text-align: right;\n",
       "    }\n",
       "</style>\n",
       "<table border=\"1\" class=\"dataframe\">\n",
       "  <thead>\n",
       "    <tr style=\"text-align: right;\">\n",
       "      <th></th>\n",
       "      <th>twitts</th>\n",
       "      <th>sentiment</th>\n",
       "      <th>word_count</th>\n",
       "      <th>char_count</th>\n",
       "      <th>avg_word_len</th>\n",
       "    </tr>\n",
       "  </thead>\n",
       "  <tbody>\n",
       "    <tr>\n",
       "      <th>1913</th>\n",
       "      <td>7:25 PM.. I had a final exam today... and I still stay my LAB In order to submit final term paper.</td>\n",
       "      <td>0</td>\n",
       "      <td>21</td>\n",
       "      <td>78</td>\n",
       "      <td>3.714286</td>\n",
       "    </tr>\n",
       "    <tr>\n",
       "      <th>2357</th>\n",
       "      <td>@kellykenniff i love you</td>\n",
       "      <td>1</td>\n",
       "      <td>4</td>\n",
       "      <td>21</td>\n",
       "      <td>5.250000</td>\n",
       "    </tr>\n",
       "  </tbody>\n",
       "</table>\n",
       "</div>"
      ],
      "text/plain": [
       "                                                                                                   twitts  \\\n",
       "1913  7:25 PM.. I had a final exam today... and I still stay my LAB In order to submit final term paper.    \n",
       "2357                                                                            @kellykenniff i love you    \n",
       "\n",
       "      sentiment  word_count  char_count  avg_word_len  \n",
       "1913          0          21          78      3.714286  \n",
       "2357          1           4          21      5.250000  "
      ]
     },
     "execution_count": 62,
     "metadata": {},
     "output_type": "execute_result"
    }
   ],
   "source": [
    "data.sample(2)"
   ]
  },
  {
   "cell_type": "markdown",
   "id": "22cbebe4",
   "metadata": {},
   "source": [
    "## Stop Words Count\n",
    "\n"
   ]
  },
  {
   "cell_type": "code",
   "execution_count": 64,
   "id": "68f0f5d4",
   "metadata": {},
   "outputs": [
    {
     "name": "stdout",
     "output_type": "stream",
     "text": [
      "{'around', 'anyway', 'we', 'keep', 'few', 'make', 'full', 'is', 'there', 'serious', 'call', 'this', 'otherwise', 'might', 'itself', '’ll', 'nine', 'should', 'either', 'the', 'did', 'with', 'further', 'perhaps', 'nobody', 'seems', \"'m\", 'ours', 'wherever', 'namely', 'last', 'just', 'becoming', 'among', 'or', 'toward', 'up', 'often', 'thereby', 'may', 'a', 'whither', 'herself', 'us', 'through', 'its', 'name', 'due', 'seeming', 'were', 'becomes', 'whereafter', 'anywhere', 'below', 'most', 'everyone', 'using', 'thereupon', 'only', 'anyone', 'nevertheless', 'hereafter', 'more', 'wherein', 'own', 'top', 'has', 'our', 'which', 'six', 'been', 'per', 'ten', 'without', 'say', 'whatever', 'everywhere', 'beforehand', 'why', 'once', 'to', 'myself', 'first', 'if', \"n't\", 'although', 'yourself', 'have', '‘s', 'always', 'back', 'every', 'besides', 'her', 'these', 'though', 'then', 'thru', 'could', 'onto', 'again', \"'re\", 'latterly', 'hereupon', 'beside', 'what', '‘re', 'towards', 'any', 'fifty', 'on', 'made', 'amongst', 'n’t', 'for', 'four', 'hundred', 'am', 'until', 'over', 'anything', \"'d\", 'ca', 'meanwhile', 'those', 'at', 'too', 'whereas', 'fifteen', 'yours', 'unless', 'via', 'it', 'third', 'also', 'my', 'i', 'neither', 'does', 'whole', 'and', 'cannot', 'various', 'that', 'ourselves', 'themselves', '’s', 'whom', 'as', 'each', 'whenever', 'under', 'therefore', \"'ve\", 'five', 'some', 'twenty', 'front', 'forty', 'can', 'must', 'therein', 'even', 'of', 'still', 'empty', 'please', 'elsewhere', 'well', 'himself', 'several', 'while', 'side', 'bottom', 'out', 'than', 'not', 'yourselves', 'against', 'n‘t', 'since', 'whereupon', 'in', 'after', '‘ll', 'give', 'where', 'his', 'latter', 'an', 're', 'doing', 'rather', 'are', '‘m', 'hereby', 'go', 'beyond', 'they', 'show', 'mostly', 'sometime', 'behind', 'him', 'during', 'else', 'see', 'nowhere', 'noone', 'their', 'together', 'moreover', \"'s\", 'everything', 'used', 'already', 'all', 'throughout', 'herein', 'would', 'one', 'less', 'sixty', '’d', 'many', 'move', 'who', 'mine', '’m', 'sometimes', 'within', 'anyhow', 'will', 'whereby', 'next', 'thus', 'enough', 'when', 'afterwards', 'somehow', 'became', 'put', 'from', 'get', 'nothing', 'be', 'become', 'regarding', 'thence', 'being', 'seemed', 'someone', 'nor', 'off', 'none', 'alone', 'however', 'into', 'amount', 'down', 'other', 'two', 'never', 'hence', 'your', 'done', 'was', 'ever', 'seem', 'but', 'them', 'very', 'now', 'both', 'here', 'yet', 'before', 'thereafter', 'much', 'another', 'except', 'hers', 'part', \"'ll\", 'she', 'quite', 'by', 'across', 'whoever', '‘d', 'how', 'had', 'me', 'somewhere', 'take', 'along', 'something', 'above', 'three', '‘ve', 'no', 'you', 'twelve', 'eight', 'really', 'upon', '’ve', 'whose', 'he', 'about', 'others', 'between', 'eleven', 'same', 'whence', 'former', 'indeed', 'do', 'least', 'almost', '’re', 'such', 'formerly', 'because', 'whether', 'so'}\n"
     ]
    }
   ],
   "source": [
    "print(stopwords)"
   ]
  },
  {
   "cell_type": "code",
   "execution_count": 65,
   "id": "5cc9c540",
   "metadata": {},
   "outputs": [
    {
     "data": {
      "text/plain": [
       "326"
      ]
     },
     "execution_count": 65,
     "metadata": {},
     "output_type": "execute_result"
    }
   ],
   "source": [
    "# length of stopwords\n",
    "\n",
    "len(stopwords)"
   ]
  },
  {
   "cell_type": "code",
   "execution_count": 66,
   "id": "0ff91700",
   "metadata": {},
   "outputs": [],
   "source": [
    "text = 'I have been working on this project since 2020'"
   ]
  },
  {
   "cell_type": "code",
   "execution_count": 67,
   "id": "5c01158b",
   "metadata": {},
   "outputs": [
    {
     "data": {
      "text/plain": [
       "['I', 'have', 'been', 'working', 'on', 'this', 'project', 'since', '2020']"
      ]
     },
     "execution_count": 67,
     "metadata": {},
     "output_type": "execute_result"
    }
   ],
   "source": [
    "x = text.split()\n",
    "x"
   ]
  },
  {
   "cell_type": "code",
   "execution_count": 69,
   "id": "f2cd7447",
   "metadata": {},
   "outputs": [
    {
     "data": {
      "text/plain": [
       "5"
      ]
     },
     "execution_count": 69,
     "metadata": {},
     "output_type": "execute_result"
    }
   ],
   "source": [
    "len([t for t in text.split() if t in stopwords])"
   ]
  },
  {
   "cell_type": "code",
   "execution_count": 70,
   "id": "41262d3e",
   "metadata": {},
   "outputs": [
    {
     "data": {
      "text/plain": [
       "['have', 'been', 'on', 'this', 'since']"
      ]
     },
     "execution_count": 70,
     "metadata": {},
     "output_type": "execute_result"
    }
   ],
   "source": [
    "[t for t in text.split() if t in stopwords]"
   ]
  },
  {
   "cell_type": "code",
   "execution_count": 77,
   "id": "f83abd7d",
   "metadata": {},
   "outputs": [],
   "source": [
    "data['stop_words_count']=data['twitts'].apply(lambda x: len([t for t in x.split() if t in stopwords]))"
   ]
  },
  {
   "cell_type": "code",
   "execution_count": 78,
   "id": "7ff18e27",
   "metadata": {},
   "outputs": [
    {
     "data": {
      "text/html": [
       "<div>\n",
       "<style scoped>\n",
       "    .dataframe tbody tr th:only-of-type {\n",
       "        vertical-align: middle;\n",
       "    }\n",
       "\n",
       "    .dataframe tbody tr th {\n",
       "        vertical-align: top;\n",
       "    }\n",
       "\n",
       "    .dataframe thead th {\n",
       "        text-align: right;\n",
       "    }\n",
       "</style>\n",
       "<table border=\"1\" class=\"dataframe\">\n",
       "  <thead>\n",
       "    <tr style=\"text-align: right;\">\n",
       "      <th></th>\n",
       "      <th>twitts</th>\n",
       "      <th>sentiment</th>\n",
       "      <th>word_count</th>\n",
       "      <th>char_count</th>\n",
       "      <th>avg_word_len</th>\n",
       "      <th>stop_words_count</th>\n",
       "    </tr>\n",
       "  </thead>\n",
       "  <tbody>\n",
       "    <tr>\n",
       "      <th>1689</th>\n",
       "      <td>ohh and hell begins tomorrow... again. i dont wanna goooo</td>\n",
       "      <td>0</td>\n",
       "      <td>10</td>\n",
       "      <td>48</td>\n",
       "      <td>4.800000</td>\n",
       "      <td>2</td>\n",
       "    </tr>\n",
       "    <tr>\n",
       "      <th>2597</th>\n",
       "      <td>angels and demonds...i saw that movie yesterday   its interesting.....like it.</td>\n",
       "      <td>1</td>\n",
       "      <td>10</td>\n",
       "      <td>67</td>\n",
       "      <td>6.700000</td>\n",
       "      <td>3</td>\n",
       "    </tr>\n",
       "    <tr>\n",
       "      <th>2476</th>\n",
       "      <td>@funkycarla8 hi hun when your friend sends pic of @Schofe can you possible send it to me for the gallery please? would be fab!!!  xxx</td>\n",
       "      <td>1</td>\n",
       "      <td>25</td>\n",
       "      <td>108</td>\n",
       "      <td>4.320000</td>\n",
       "      <td>12</td>\n",
       "    </tr>\n",
       "    <tr>\n",
       "      <th>1525</th>\n",
       "      <td>@NAYMEZ I wish I was on cloud 9</td>\n",
       "      <td>0</td>\n",
       "      <td>8</td>\n",
       "      <td>24</td>\n",
       "      <td>3.000000</td>\n",
       "      <td>2</td>\n",
       "    </tr>\n",
       "    <tr>\n",
       "      <th>3689</th>\n",
       "      <td>@stesimpson Good start to the week!</td>\n",
       "      <td>1</td>\n",
       "      <td>6</td>\n",
       "      <td>30</td>\n",
       "      <td>5.000000</td>\n",
       "      <td>2</td>\n",
       "    </tr>\n",
       "    <tr>\n",
       "      <th>2796</th>\n",
       "      <td>oh, Squidbillies, your mindless entertainment is so appreciated at this time of night!!!</td>\n",
       "      <td>1</td>\n",
       "      <td>13</td>\n",
       "      <td>76</td>\n",
       "      <td>5.846154</td>\n",
       "      <td>6</td>\n",
       "    </tr>\n",
       "    <tr>\n",
       "      <th>2642</th>\n",
       "      <td>posted it</td>\n",
       "      <td>1</td>\n",
       "      <td>2</td>\n",
       "      <td>8</td>\n",
       "      <td>4.000000</td>\n",
       "      <td>1</td>\n",
       "    </tr>\n",
       "    <tr>\n",
       "      <th>1176</th>\n",
       "      <td>@LiveArtliFe well, if I had more folks on BBM, I would use that. I have an app that I use for all the rest but it kills my battery</td>\n",
       "      <td>0</td>\n",
       "      <td>29</td>\n",
       "      <td>102</td>\n",
       "      <td>3.517241</td>\n",
       "      <td>14</td>\n",
       "    </tr>\n",
       "    <tr>\n",
       "      <th>2737</th>\n",
       "      <td>In the garden with my parents and the dogs  tres hot today. Was out driving today with my mom. Went through Bangor and donaghadee</td>\n",
       "      <td>1</td>\n",
       "      <td>24</td>\n",
       "      <td>105</td>\n",
       "      <td>4.375000</td>\n",
       "      <td>10</td>\n",
       "    </tr>\n",
       "    <tr>\n",
       "      <th>981</th>\n",
       "      <td>@speedyb I can't get that eminem album that u did for me to work</td>\n",
       "      <td>0</td>\n",
       "      <td>14</td>\n",
       "      <td>51</td>\n",
       "      <td>3.642857</td>\n",
       "      <td>7</td>\n",
       "    </tr>\n",
       "    <tr>\n",
       "      <th>195</th>\n",
       "      <td>trying to figure out tweetdeck and failing miserably</td>\n",
       "      <td>0</td>\n",
       "      <td>8</td>\n",
       "      <td>45</td>\n",
       "      <td>5.625000</td>\n",
       "      <td>3</td>\n",
       "    </tr>\n",
       "    <tr>\n",
       "      <th>3922</th>\n",
       "      <td>It's a sunny Friday morning in london - yipee</td>\n",
       "      <td>1</td>\n",
       "      <td>9</td>\n",
       "      <td>37</td>\n",
       "      <td>4.111111</td>\n",
       "      <td>2</td>\n",
       "    </tr>\n",
       "    <tr>\n",
       "      <th>3207</th>\n",
       "      <td>@CollingsA Who said that cottage industry is dead?</td>\n",
       "      <td>1</td>\n",
       "      <td>8</td>\n",
       "      <td>43</td>\n",
       "      <td>5.375000</td>\n",
       "      <td>2</td>\n",
       "    </tr>\n",
       "    <tr>\n",
       "      <th>3913</th>\n",
       "      <td>For The Press So After She Recovered She Killed Her Boyfriend And Got More Fame, Far Celebs Would Go For Fame. Im Smart now</td>\n",
       "      <td>1</td>\n",
       "      <td>24</td>\n",
       "      <td>100</td>\n",
       "      <td>4.166667</td>\n",
       "      <td>1</td>\n",
       "    </tr>\n",
       "    <tr>\n",
       "      <th>3272</th>\n",
       "      <td>@handsheldhigh I am who I  say I am... or am I?   Yeah, right, who would pretend to be me?</td>\n",
       "      <td>1</td>\n",
       "      <td>19</td>\n",
       "      <td>69</td>\n",
       "      <td>3.631579</td>\n",
       "      <td>9</td>\n",
       "    </tr>\n",
       "    <tr>\n",
       "      <th>3360</th>\n",
       "      <td>@tommytrc Actually talkin' about the Osh Fratello's for an #oshtweetup! But, #atwtu are always invited - you know that</td>\n",
       "      <td>1</td>\n",
       "      <td>19</td>\n",
       "      <td>100</td>\n",
       "      <td>5.263158</td>\n",
       "      <td>8</td>\n",
       "    </tr>\n",
       "    <tr>\n",
       "      <th>555</th>\n",
       "      <td>On the way to the mall..at least this time the tabs not on me..to bad were going to gboro's wack mall..</td>\n",
       "      <td>0</td>\n",
       "      <td>21</td>\n",
       "      <td>83</td>\n",
       "      <td>3.952381</td>\n",
       "      <td>10</td>\n",
       "    </tr>\n",
       "    <tr>\n",
       "      <th>3399</th>\n",
       "      <td>LONGGG DAYYY of workin but its all good cuz im shoppinnn the maraaa</td>\n",
       "      <td>1</td>\n",
       "      <td>13</td>\n",
       "      <td>55</td>\n",
       "      <td>4.230769</td>\n",
       "      <td>5</td>\n",
       "    </tr>\n",
       "    <tr>\n",
       "      <th>776</th>\n",
       "      <td>Forgot that yesterday is the expiry date for my concession. Cannot buy concession anymore.</td>\n",
       "      <td>0</td>\n",
       "      <td>14</td>\n",
       "      <td>77</td>\n",
       "      <td>5.500000</td>\n",
       "      <td>5</td>\n",
       "    </tr>\n",
       "    <tr>\n",
       "      <th>607</th>\n",
       "      <td>ugh I hate working. . so tired</td>\n",
       "      <td>0</td>\n",
       "      <td>7</td>\n",
       "      <td>24</td>\n",
       "      <td>3.428571</td>\n",
       "      <td>1</td>\n",
       "    </tr>\n",
       "  </tbody>\n",
       "</table>\n",
       "</div>"
      ],
      "text/plain": [
       "                                                                                                                                     twitts  \\\n",
       "1689                                                                             ohh and hell begins tomorrow... again. i dont wanna goooo    \n",
       "2597                                                         angels and demonds...i saw that movie yesterday   its interesting.....like it.   \n",
       "2476  @funkycarla8 hi hun when your friend sends pic of @Schofe can you possible send it to me for the gallery please? would be fab!!!  xxx   \n",
       "1525                                                                                                       @NAYMEZ I wish I was on cloud 9    \n",
       "3689                                                                                                   @stesimpson Good start to the week!    \n",
       "2796                                              oh, Squidbillies, your mindless entertainment is so appreciated at this time of night!!!    \n",
       "2642                                                                                                                             posted it    \n",
       "1176    @LiveArtliFe well, if I had more folks on BBM, I would use that. I have an app that I use for all the rest but it kills my battery    \n",
       "2737     In the garden with my parents and the dogs  tres hot today. Was out driving today with my mom. Went through Bangor and donaghadee    \n",
       "981                                                                       @speedyb I can't get that eminem album that u did for me to work    \n",
       "195                                                                                  trying to figure out tweetdeck and failing miserably     \n",
       "3922                                                                                         It's a sunny Friday morning in london - yipee    \n",
       "3207                                                                                    @CollingsA Who said that cottage industry is dead?    \n",
       "3913           For The Press So After She Recovered She Killed Her Boyfriend And Got More Fame, Far Celebs Would Go For Fame. Im Smart now    \n",
       "3272                                             @handsheldhigh I am who I  say I am... or am I?   Yeah, right, who would pretend to be me?   \n",
       "3360                @tommytrc Actually talkin' about the Osh Fratello's for an #oshtweetup! But, #atwtu are always invited - you know that    \n",
       "555                                On the way to the mall..at least this time the tabs not on me..to bad were going to gboro's wack mall..    \n",
       "3399                                                                   LONGGG DAYYY of workin but its all good cuz im shoppinnn the maraaa    \n",
       "776                                             Forgot that yesterday is the expiry date for my concession. Cannot buy concession anymore.    \n",
       "607                                                                                                         ugh I hate working. . so tired    \n",
       "\n",
       "      sentiment  word_count  char_count  avg_word_len  stop_words_count  \n",
       "1689          0          10          48      4.800000                 2  \n",
       "2597          1          10          67      6.700000                 3  \n",
       "2476          1          25         108      4.320000                12  \n",
       "1525          0           8          24      3.000000                 2  \n",
       "3689          1           6          30      5.000000                 2  \n",
       "2796          1          13          76      5.846154                 6  \n",
       "2642          1           2           8      4.000000                 1  \n",
       "1176          0          29         102      3.517241                14  \n",
       "2737          1          24         105      4.375000                10  \n",
       "981           0          14          51      3.642857                 7  \n",
       "195           0           8          45      5.625000                 3  \n",
       "3922          1           9          37      4.111111                 2  \n",
       "3207          1           8          43      5.375000                 2  \n",
       "3913          1          24         100      4.166667                 1  \n",
       "3272          1          19          69      3.631579                 9  \n",
       "3360          1          19         100      5.263158                 8  \n",
       "555           0          21          83      3.952381                10  \n",
       "3399          1          13          55      4.230769                 5  \n",
       "776           0          14          77      5.500000                 5  \n",
       "607           0           7          24      3.428571                 1  "
      ]
     },
     "execution_count": 78,
     "metadata": {},
     "output_type": "execute_result"
    }
   ],
   "source": [
    "data.sample(20)"
   ]
  },
  {
   "cell_type": "markdown",
   "id": "544922f6",
   "metadata": {},
   "source": [
    "## Count Hashtags & @Mentions"
   ]
  },
  {
   "cell_type": "code",
   "execution_count": 79,
   "id": "62d0bfa9",
   "metadata": {},
   "outputs": [],
   "source": [
    "text = 'counting #hashtags & @Mentions'"
   ]
  },
  {
   "cell_type": "code",
   "execution_count": 80,
   "id": "9ad7a5e4",
   "metadata": {},
   "outputs": [
    {
     "data": {
      "text/plain": [
       "['counting', '#hashtags', '&', '@Mentions']"
      ]
     },
     "execution_count": 80,
     "metadata": {},
     "output_type": "execute_result"
    }
   ],
   "source": [
    "text.split()"
   ]
  },
  {
   "cell_type": "code",
   "execution_count": 84,
   "id": "90712044",
   "metadata": {},
   "outputs": [
    {
     "data": {
      "text/plain": [
       "['#hashtags']"
      ]
     },
     "execution_count": 84,
     "metadata": {},
     "output_type": "execute_result"
    }
   ],
   "source": [
    "[t for t in text.split() if t.startswith('#')]"
   ]
  },
  {
   "cell_type": "code",
   "execution_count": 85,
   "id": "21f29e13",
   "metadata": {},
   "outputs": [
    {
     "data": {
      "text/plain": [
       "1"
      ]
     },
     "execution_count": 85,
     "metadata": {},
     "output_type": "execute_result"
    }
   ],
   "source": [
    "len([t for t in text.split() if t.startswith('#')])"
   ]
  },
  {
   "cell_type": "code",
   "execution_count": 92,
   "id": "ee0fa92c",
   "metadata": {},
   "outputs": [],
   "source": [
    "data['hashtasg_count']=data['twitts'].apply(lambda x:len([t for t in x.split() if t.startswith('#')]))"
   ]
  },
  {
   "cell_type": "code",
   "execution_count": 93,
   "id": "4495c84a",
   "metadata": {},
   "outputs": [
    {
     "data": {
      "text/html": [
       "<div>\n",
       "<style scoped>\n",
       "    .dataframe tbody tr th:only-of-type {\n",
       "        vertical-align: middle;\n",
       "    }\n",
       "\n",
       "    .dataframe tbody tr th {\n",
       "        vertical-align: top;\n",
       "    }\n",
       "\n",
       "    .dataframe thead th {\n",
       "        text-align: right;\n",
       "    }\n",
       "</style>\n",
       "<table border=\"1\" class=\"dataframe\">\n",
       "  <thead>\n",
       "    <tr style=\"text-align: right;\">\n",
       "      <th></th>\n",
       "      <th>twitts</th>\n",
       "      <th>sentiment</th>\n",
       "      <th>word_count</th>\n",
       "      <th>char_count</th>\n",
       "      <th>avg_word_len</th>\n",
       "      <th>stop_words_count</th>\n",
       "      <th>hashtasg_count</th>\n",
       "    </tr>\n",
       "  </thead>\n",
       "  <tbody>\n",
       "    <tr>\n",
       "      <th>689</th>\n",
       "      <td>@Annnnnaaaaa and apparently neither is Sir Allen</td>\n",
       "      <td>0</td>\n",
       "      <td>7</td>\n",
       "      <td>42</td>\n",
       "      <td>6.000000</td>\n",
       "      <td>3</td>\n",
       "      <td>0</td>\n",
       "    </tr>\n",
       "    <tr>\n",
       "      <th>3610</th>\n",
       "      <td>Follow: @Josephine23xo, I'll be updating there all about my new site! I won't be using this Twitter anymore seen as Miley won her award</td>\n",
       "      <td>1</td>\n",
       "      <td>24</td>\n",
       "      <td>112</td>\n",
       "      <td>4.666667</td>\n",
       "      <td>10</td>\n",
       "      <td>0</td>\n",
       "    </tr>\n",
       "  </tbody>\n",
       "</table>\n",
       "</div>"
      ],
      "text/plain": [
       "                                                                                                                                        twitts  \\\n",
       "689                                                                                          @Annnnnaaaaa and apparently neither is Sir Allen    \n",
       "3610  Follow: @Josephine23xo, I'll be updating there all about my new site! I won't be using this Twitter anymore seen as Miley won her award    \n",
       "\n",
       "      sentiment  word_count  char_count  avg_word_len  stop_words_count  \\\n",
       "689           0           7          42      6.000000                 3   \n",
       "3610          1          24         112      4.666667                10   \n",
       "\n",
       "      hashtasg_count  \n",
       "689                0  \n",
       "3610               0  "
      ]
     },
     "execution_count": 93,
     "metadata": {},
     "output_type": "execute_result"
    }
   ],
   "source": [
    "data.sample(2)"
   ]
  },
  {
   "cell_type": "code",
   "execution_count": 94,
   "id": "cedb6d17",
   "metadata": {},
   "outputs": [],
   "source": [
    "data['mention_count']=data['twitts'].apply(lambda x:len([t for t in x.split() if t.startswith('@')]))"
   ]
  },
  {
   "cell_type": "code",
   "execution_count": 96,
   "id": "1392853e",
   "metadata": {},
   "outputs": [
    {
     "data": {
      "text/html": [
       "<div>\n",
       "<style scoped>\n",
       "    .dataframe tbody tr th:only-of-type {\n",
       "        vertical-align: middle;\n",
       "    }\n",
       "\n",
       "    .dataframe tbody tr th {\n",
       "        vertical-align: top;\n",
       "    }\n",
       "\n",
       "    .dataframe thead th {\n",
       "        text-align: right;\n",
       "    }\n",
       "</style>\n",
       "<table border=\"1\" class=\"dataframe\">\n",
       "  <thead>\n",
       "    <tr style=\"text-align: right;\">\n",
       "      <th></th>\n",
       "      <th>twitts</th>\n",
       "      <th>sentiment</th>\n",
       "      <th>word_count</th>\n",
       "      <th>char_count</th>\n",
       "      <th>avg_word_len</th>\n",
       "      <th>stop_words_count</th>\n",
       "      <th>hashtasg_count</th>\n",
       "      <th>mention_count</th>\n",
       "    </tr>\n",
       "  </thead>\n",
       "  <tbody>\n",
       "    <tr>\n",
       "      <th>1517</th>\n",
       "      <td>Making pesto pasta for memy 2nd bday dinner! Her bday was last tues, but yknw wat happened den  &amp;amp; I messed up d cake I bought her oops!</td>\n",
       "      <td>0</td>\n",
       "      <td>28</td>\n",
       "      <td>111</td>\n",
       "      <td>3.964286</td>\n",
       "      <td>6</td>\n",
       "      <td>0</td>\n",
       "      <td>0</td>\n",
       "    </tr>\n",
       "    <tr>\n",
       "      <th>340</th>\n",
       "      <td>I forgot my laptop with my beau.  text only now</td>\n",
       "      <td>0</td>\n",
       "      <td>10</td>\n",
       "      <td>37</td>\n",
       "      <td>3.700000</td>\n",
       "      <td>5</td>\n",
       "      <td>0</td>\n",
       "      <td>0</td>\n",
       "    </tr>\n",
       "  </tbody>\n",
       "</table>\n",
       "</div>"
      ],
      "text/plain": [
       "                                                                                                                                           twitts  \\\n",
       "1517  Making pesto pasta for memy 2nd bday dinner! Her bday was last tues, but yknw wat happened den  &amp; I messed up d cake I bought her oops!   \n",
       "340                                                                                               I forgot my laptop with my beau.  text only now   \n",
       "\n",
       "      sentiment  word_count  char_count  avg_word_len  stop_words_count  \\\n",
       "1517          0          28         111      3.964286                 6   \n",
       "340           0          10          37      3.700000                 5   \n",
       "\n",
       "      hashtasg_count  mention_count  \n",
       "1517               0              0  \n",
       "340                0              0  "
      ]
     },
     "execution_count": 96,
     "metadata": {},
     "output_type": "execute_result"
    }
   ],
   "source": [
    "data.sample(2)"
   ]
  },
  {
   "cell_type": "markdown",
   "id": "25b9224c",
   "metadata": {},
   "source": [
    "## Numeric Digit Count"
   ]
  },
  {
   "cell_type": "code",
   "execution_count": 97,
   "id": "33cdfbe5",
   "metadata": {},
   "outputs": [],
   "source": [
    "text = 'my lucky number is 7'"
   ]
  },
  {
   "cell_type": "code",
   "execution_count": 98,
   "id": "fade53d8",
   "metadata": {},
   "outputs": [
    {
     "data": {
      "text/plain": [
       "['my', 'lucky', 'number', 'is', '7']"
      ]
     },
     "execution_count": 98,
     "metadata": {},
     "output_type": "execute_result"
    }
   ],
   "source": [
    "text.split()"
   ]
  },
  {
   "cell_type": "code",
   "execution_count": 100,
   "id": "73ae51a3",
   "metadata": {},
   "outputs": [
    {
     "data": {
      "text/plain": [
       "'7'"
      ]
     },
     "execution_count": 100,
     "metadata": {},
     "output_type": "execute_result"
    }
   ],
   "source": [
    "text.split()[4]"
   ]
  },
  {
   "cell_type": "code",
   "execution_count": 101,
   "id": "2d0a84d0",
   "metadata": {},
   "outputs": [
    {
     "data": {
      "text/plain": [
       "True"
      ]
     },
     "execution_count": 101,
     "metadata": {},
     "output_type": "execute_result"
    }
   ],
   "source": [
    "text.split()[4].isdigit()"
   ]
  },
  {
   "cell_type": "code",
   "execution_count": 106,
   "id": "6e320254",
   "metadata": {},
   "outputs": [
    {
     "data": {
      "text/plain": [
       "['7']"
      ]
     },
     "execution_count": 106,
     "metadata": {},
     "output_type": "execute_result"
    }
   ],
   "source": [
    "[t for t in text.split() if t.isdigit()]"
   ]
  },
  {
   "cell_type": "code",
   "execution_count": 107,
   "id": "d0e6b66d",
   "metadata": {},
   "outputs": [],
   "source": [
    "data['numeric_count']=data['twitts'].apply(lambda x: len([t for t in x.split() if t.isdigit()]))"
   ]
  },
  {
   "cell_type": "code",
   "execution_count": 108,
   "id": "cc05e74a",
   "metadata": {},
   "outputs": [
    {
     "data": {
      "text/html": [
       "<div>\n",
       "<style scoped>\n",
       "    .dataframe tbody tr th:only-of-type {\n",
       "        vertical-align: middle;\n",
       "    }\n",
       "\n",
       "    .dataframe tbody tr th {\n",
       "        vertical-align: top;\n",
       "    }\n",
       "\n",
       "    .dataframe thead th {\n",
       "        text-align: right;\n",
       "    }\n",
       "</style>\n",
       "<table border=\"1\" class=\"dataframe\">\n",
       "  <thead>\n",
       "    <tr style=\"text-align: right;\">\n",
       "      <th></th>\n",
       "      <th>twitts</th>\n",
       "      <th>sentiment</th>\n",
       "      <th>word_count</th>\n",
       "      <th>char_count</th>\n",
       "      <th>avg_word_len</th>\n",
       "      <th>stop_words_count</th>\n",
       "      <th>hashtasg_count</th>\n",
       "      <th>mention_count</th>\n",
       "      <th>numeric_count</th>\n",
       "    </tr>\n",
       "  </thead>\n",
       "  <tbody>\n",
       "    <tr>\n",
       "      <th>808</th>\n",
       "      <td>Poor Roxana Saberi    i hope she's well. She's one of my favorite @npr foreign correspondants. I hope they'll set her free</td>\n",
       "      <td>0</td>\n",
       "      <td>21</td>\n",
       "      <td>99</td>\n",
       "      <td>4.714286</td>\n",
       "      <td>5</td>\n",
       "      <td>0</td>\n",
       "      <td>1</td>\n",
       "      <td>0</td>\n",
       "    </tr>\n",
       "    <tr>\n",
       "      <th>195</th>\n",
       "      <td>trying to figure out tweetdeck and failing miserably</td>\n",
       "      <td>0</td>\n",
       "      <td>8</td>\n",
       "      <td>45</td>\n",
       "      <td>5.625000</td>\n",
       "      <td>3</td>\n",
       "      <td>0</td>\n",
       "      <td>0</td>\n",
       "      <td>0</td>\n",
       "    </tr>\n",
       "  </tbody>\n",
       "</table>\n",
       "</div>"
      ],
      "text/plain": [
       "                                                                                                                            twitts  \\\n",
       "808  Poor Roxana Saberi    i hope she's well. She's one of my favorite @npr foreign correspondants. I hope they'll set her free      \n",
       "195                                                                         trying to figure out tweetdeck and failing miserably     \n",
       "\n",
       "     sentiment  word_count  char_count  avg_word_len  stop_words_count  \\\n",
       "808          0          21          99      4.714286                 5   \n",
       "195          0           8          45      5.625000                 3   \n",
       "\n",
       "     hashtasg_count  mention_count  numeric_count  \n",
       "808               0              1              0  \n",
       "195               0              0              0  "
      ]
     },
     "execution_count": 108,
     "metadata": {},
     "output_type": "execute_result"
    }
   ],
   "source": [
    "data.sample(2)"
   ]
  },
  {
   "cell_type": "markdown",
   "id": "527cf085",
   "metadata": {},
   "source": [
    "## Upper Case Word Counts\n",
    "### Generally upper case text has some kind of emotions"
   ]
  },
  {
   "cell_type": "code",
   "execution_count": 109,
   "id": "e993d223",
   "metadata": {},
   "outputs": [
    {
     "data": {
      "text/plain": [
       "'I AM ANGRY'"
      ]
     },
     "execution_count": 109,
     "metadata": {},
     "output_type": "execute_result"
    }
   ],
   "source": [
    "'i am angry' # Has less intensity of emotions\n",
    "'I AM ANGRY' # More intensity of emotions"
   ]
  },
  {
   "cell_type": "code",
   "execution_count": 110,
   "id": "6279f248",
   "metadata": {},
   "outputs": [],
   "source": [
    "data['upper_counts']=data['twitts'].apply(lambda x: len([t for t in x.split() if t.isupper()]))"
   ]
  },
  {
   "cell_type": "code",
   "execution_count": 111,
   "id": "d4416d99",
   "metadata": {},
   "outputs": [
    {
     "data": {
      "text/html": [
       "<div>\n",
       "<style scoped>\n",
       "    .dataframe tbody tr th:only-of-type {\n",
       "        vertical-align: middle;\n",
       "    }\n",
       "\n",
       "    .dataframe tbody tr th {\n",
       "        vertical-align: top;\n",
       "    }\n",
       "\n",
       "    .dataframe thead th {\n",
       "        text-align: right;\n",
       "    }\n",
       "</style>\n",
       "<table border=\"1\" class=\"dataframe\">\n",
       "  <thead>\n",
       "    <tr style=\"text-align: right;\">\n",
       "      <th></th>\n",
       "      <th>twitts</th>\n",
       "      <th>sentiment</th>\n",
       "      <th>word_count</th>\n",
       "      <th>char_count</th>\n",
       "      <th>avg_word_len</th>\n",
       "      <th>stop_words_count</th>\n",
       "      <th>hashtasg_count</th>\n",
       "      <th>mention_count</th>\n",
       "      <th>numeric_count</th>\n",
       "      <th>upper_counts</th>\n",
       "    </tr>\n",
       "  </thead>\n",
       "  <tbody>\n",
       "    <tr>\n",
       "      <th>1881</th>\n",
       "      <td>Some guy keeps sending me invites to GoW2  it's bugging the hell out of me.</td>\n",
       "      <td>0</td>\n",
       "      <td>15</td>\n",
       "      <td>60</td>\n",
       "      <td>4.000000</td>\n",
       "      <td>5</td>\n",
       "      <td>0</td>\n",
       "      <td>0</td>\n",
       "      <td>0</td>\n",
       "      <td>0</td>\n",
       "    </tr>\n",
       "    <tr>\n",
       "      <th>539</th>\n",
       "      <td>@grayskyes http://twitpic.com/6p2m3 - That is sad  I wonder which one used to be mine?</td>\n",
       "      <td>0</td>\n",
       "      <td>14</td>\n",
       "      <td>72</td>\n",
       "      <td>5.142857</td>\n",
       "      <td>6</td>\n",
       "      <td>0</td>\n",
       "      <td>1</td>\n",
       "      <td>0</td>\n",
       "      <td>1</td>\n",
       "    </tr>\n",
       "  </tbody>\n",
       "</table>\n",
       "</div>"
      ],
      "text/plain": [
       "                                                                                      twitts  \\\n",
       "1881             Some guy keeps sending me invites to GoW2  it's bugging the hell out of me.   \n",
       "539   @grayskyes http://twitpic.com/6p2m3 - That is sad  I wonder which one used to be mine?   \n",
       "\n",
       "      sentiment  word_count  char_count  avg_word_len  stop_words_count  \\\n",
       "1881          0          15          60      4.000000                 5   \n",
       "539           0          14          72      5.142857                 6   \n",
       "\n",
       "      hashtasg_count  mention_count  numeric_count  upper_counts  \n",
       "1881               0              0              0             0  \n",
       "539                0              1              0             1  "
      ]
     },
     "execution_count": 111,
     "metadata": {},
     "output_type": "execute_result"
    }
   ],
   "source": [
    "data.sample(2)"
   ]
  },
  {
   "cell_type": "markdown",
   "id": "81f059e1",
   "metadata": {},
   "source": [
    "## Lower Conversion"
   ]
  },
  {
   "cell_type": "code",
   "execution_count": 112,
   "id": "5eecc585",
   "metadata": {},
   "outputs": [],
   "source": [
    "data['twitts']=data['twitts'].apply(lambda x: str(x).lower())"
   ]
  },
  {
   "cell_type": "code",
   "execution_count": 113,
   "id": "80e6fb4c",
   "metadata": {},
   "outputs": [
    {
     "data": {
      "text/html": [
       "<div>\n",
       "<style scoped>\n",
       "    .dataframe tbody tr th:only-of-type {\n",
       "        vertical-align: middle;\n",
       "    }\n",
       "\n",
       "    .dataframe tbody tr th {\n",
       "        vertical-align: top;\n",
       "    }\n",
       "\n",
       "    .dataframe thead th {\n",
       "        text-align: right;\n",
       "    }\n",
       "</style>\n",
       "<table border=\"1\" class=\"dataframe\">\n",
       "  <thead>\n",
       "    <tr style=\"text-align: right;\">\n",
       "      <th></th>\n",
       "      <th>twitts</th>\n",
       "      <th>sentiment</th>\n",
       "      <th>word_count</th>\n",
       "      <th>char_count</th>\n",
       "      <th>avg_word_len</th>\n",
       "      <th>stop_words_count</th>\n",
       "      <th>hashtasg_count</th>\n",
       "      <th>mention_count</th>\n",
       "      <th>numeric_count</th>\n",
       "      <th>upper_counts</th>\n",
       "    </tr>\n",
       "  </thead>\n",
       "  <tbody>\n",
       "    <tr>\n",
       "      <th>2537</th>\n",
       "      <td>@seuj sardinia for a few days of pre-graduation sunshine  http://bit.ly/fjkkj</td>\n",
       "      <td>1</td>\n",
       "      <td>10</td>\n",
       "      <td>67</td>\n",
       "      <td>6.700000</td>\n",
       "      <td>4</td>\n",
       "      <td>0</td>\n",
       "      <td>1</td>\n",
       "      <td>0</td>\n",
       "      <td>0</td>\n",
       "    </tr>\n",
       "    <tr>\n",
       "      <th>1027</th>\n",
       "      <td>why won't twitter let me block people  migraines are the worst. anyone fancy going to work for me? no? didn't think so</td>\n",
       "      <td>0</td>\n",
       "      <td>22</td>\n",
       "      <td>96</td>\n",
       "      <td>4.363636</td>\n",
       "      <td>8</td>\n",
       "      <td>0</td>\n",
       "      <td>0</td>\n",
       "      <td>0</td>\n",
       "      <td>0</td>\n",
       "    </tr>\n",
       "    <tr>\n",
       "      <th>3542</th>\n",
       "      <td>@mylanta yeah, i'm with ya.....it flew over my head at first too</td>\n",
       "      <td>1</td>\n",
       "      <td>12</td>\n",
       "      <td>53</td>\n",
       "      <td>4.416667</td>\n",
       "      <td>6</td>\n",
       "      <td>0</td>\n",
       "      <td>1</td>\n",
       "      <td>0</td>\n",
       "      <td>0</td>\n",
       "    </tr>\n",
       "    <tr>\n",
       "      <th>3695</th>\n",
       "      <td>is at work on a saturday. woo uv tonight</td>\n",
       "      <td>1</td>\n",
       "      <td>9</td>\n",
       "      <td>32</td>\n",
       "      <td>3.555556</td>\n",
       "      <td>3</td>\n",
       "      <td>0</td>\n",
       "      <td>0</td>\n",
       "      <td>0</td>\n",
       "      <td>1</td>\n",
       "    </tr>\n",
       "  </tbody>\n",
       "</table>\n",
       "</div>"
      ],
      "text/plain": [
       "                                                                                                                      twitts  \\\n",
       "2537                                           @seuj sardinia for a few days of pre-graduation sunshine  http://bit.ly/fjkkj   \n",
       "1027  why won't twitter let me block people  migraines are the worst. anyone fancy going to work for me? no? didn't think so   \n",
       "3542                                                      @mylanta yeah, i'm with ya.....it flew over my head at first too     \n",
       "3695                                                                               is at work on a saturday. woo uv tonight    \n",
       "\n",
       "      sentiment  word_count  char_count  avg_word_len  stop_words_count  \\\n",
       "2537          1          10          67      6.700000                 4   \n",
       "1027          0          22          96      4.363636                 8   \n",
       "3542          1          12          53      4.416667                 6   \n",
       "3695          1           9          32      3.555556                 3   \n",
       "\n",
       "      hashtasg_count  mention_count  numeric_count  upper_counts  \n",
       "2537               0              1              0             0  \n",
       "1027               0              0              0             0  \n",
       "3542               0              1              0             0  \n",
       "3695               0              0              0             1  "
      ]
     },
     "execution_count": 113,
     "metadata": {},
     "output_type": "execute_result"
    }
   ],
   "source": [
    "data.sample(4)"
   ]
  },
  {
   "cell_type": "markdown",
   "id": "e3ee63bd",
   "metadata": {},
   "source": [
    "## Contraction to Expansion"
   ]
  },
  {
   "cell_type": "code",
   "execution_count": 115,
   "id": "fc848c97",
   "metadata": {},
   "outputs": [],
   "source": [
    "# https://en.wikipedia.org/wiki/Wikipedia:List_of_English_contractions"
   ]
  },
  {
   "cell_type": "code",
   "execution_count": 116,
   "id": "35716338",
   "metadata": {},
   "outputs": [],
   "source": [
    "cList = {\n",
    "  \"ain't\": \"am not\",\n",
    "  \"aren't\": \"are not\",\n",
    "  \"can't\": \"cannot\",\n",
    "  \"can't've\": \"cannot have\",\n",
    "  \"'cause\": \"because\",\n",
    "  \"could've\": \"could have\",\n",
    "  \"couldn't\": \"could not\",\n",
    "  \"couldn't've\": \"could not have\",\n",
    "  \"didn't\": \"did not\",\n",
    "  \"doesn't\": \"does not\",\n",
    "  \"don't\": \"do not\",\n",
    "  \"hadn't\": \"had not\",\n",
    "  \"hadn't've\": \"had not have\",\n",
    "  \"hasn't\": \"has not\",\n",
    "  \"haven't\": \"have not\",\n",
    "  \"he'd\": \"he would\",\n",
    "  \"he'd've\": \"he would have\",\n",
    "  \"he'll\": \"he will\",\n",
    "  \"he'll've\": \"he will have\",\n",
    "  \"he's\": \"he is\",\n",
    "  \"how'd\": \"how did\",\n",
    "  \"how'd'y\": \"how do you\",\n",
    "  \"how'll\": \"how will\",\n",
    "  \"how's\": \"how is\",\n",
    "  \"I'd\": \"I would\",\n",
    "  \"I'd've\": \"I would have\",\n",
    "  \"I'll\": \"I will\",\n",
    "  \"I'll've\": \"I will have\",\n",
    "  \"I'm\": \"I am\",\n",
    "  \"I've\": \"I have\",\n",
    "  \"isn't\": \"is not\",\n",
    "  \"it'd\": \"it had\",\n",
    "  \"it'd've\": \"it would have\",\n",
    "  \"it'll\": \"it will\",\n",
    "  \"it'll've\": \"it will have\",\n",
    "  \"it's\": \"it is\",\n",
    "  \"let's\": \"let us\",\n",
    "  \"ma'am\": \"madam\",\n",
    "  \"mayn't\": \"may not\",\n",
    "  \"might've\": \"might have\",\n",
    "  \"mightn't\": \"might not\",\n",
    "  \"mightn't've\": \"might not have\",\n",
    "  \"must've\": \"must have\",\n",
    "  \"mustn't\": \"must not\",\n",
    "  \"mustn't've\": \"must not have\",\n",
    "  \"needn't\": \"need not\",\n",
    "  \"needn't've\": \"need not have\",\n",
    "  \"o'clock\": \"of the clock\",\n",
    "  \"oughtn't\": \"ought not\",\n",
    "  \"oughtn't've\": \"ought not have\",\n",
    "  \"shan't\": \"shall not\",\n",
    "  \"sha'n't\": \"shall not\",\n",
    "  \"shan't've\": \"shall not have\",\n",
    "  \"she'd\": \"she would\",\n",
    "  \"she'd've\": \"she would have\",\n",
    "  \"she'll\": \"she will\",\n",
    "  \"she'll've\": \"she will have\",\n",
    "  \"she's\": \"she is\",\n",
    "  \"should've\": \"should have\",\n",
    "  \"shouldn't\": \"should not\",\n",
    "  \"shouldn't've\": \"should not have\",\n",
    "  \"so've\": \"so have\",\n",
    "  \"so's\": \"so is\",\n",
    "  \"that'd\": \"that would\",\n",
    "  \"that'd've\": \"that would have\",\n",
    "  \"that's\": \"that is\",\n",
    "  \"there'd\": \"there had\",\n",
    "  \"there'd've\": \"there would have\",\n",
    "  \"there's\": \"there is\",\n",
    "  \"they'd\": \"they would\",\n",
    "  \"they'd've\": \"they would have\",\n",
    "  \"they'll\": \"they will\",\n",
    "  \"they'll've\": \"they will have\",\n",
    "  \"they're\": \"they are\",\n",
    "  \"they've\": \"they have\",\n",
    "  \"to've\": \"to have\",\n",
    "  \"wasn't\": \"was not\",\n",
    "  \"we'd\": \"we had\",\n",
    "  \"we'd've\": \"we would have\",\n",
    "  \"we'll\": \"we will\",\n",
    "  \"we'll've\": \"we will have\",\n",
    "  \"we're\": \"we are\",\n",
    "  \"we've\": \"we have\",\n",
    "  \"weren't\": \"were not\",\n",
    "  \"what'll\": \"what will\",\n",
    "  \"what'll've\": \"what will have\",\n",
    "  \"what're\": \"what are\",\n",
    "  \"what's\": \"what is\",\n",
    "  \"what've\": \"what have\",\n",
    "  \"when's\": \"when is\",\n",
    "  \"when've\": \"when have\",\n",
    "  \"where'd\": \"where did\",\n",
    "  \"where's\": \"where is\",\n",
    "  \"where've\": \"where have\",\n",
    "  \"who'll\": \"who will\",\n",
    "  \"who'll've\": \"who will have\",\n",
    "  \"who's\": \"who is\",\n",
    "  \"who've\": \"who have\",\n",
    "  \"why's\": \"why is\",\n",
    "  \"why've\": \"why have\",\n",
    "  \"will've\": \"will have\",\n",
    "  \"won't\": \"will not\",\n",
    "  \"won't've\": \"will not have\",\n",
    "  \"would've\": \"would have\",\n",
    "  \"wouldn't\": \"would not\",\n",
    "  \"wouldn't've\": \"would not have\",\n",
    "  \"y'all\": \"you all\",\n",
    "  \"y'alls\": \"you alls\",\n",
    "  \"y'all'd\": \"you all would\",\n",
    "  \"y'all'd've\": \"you all would have\",\n",
    "  \"y'all're\": \"you all are\",\n",
    "  \"y'all've\": \"you all have\",\n",
    "  \"you'd\": \"you had\",\n",
    "  \"you'd've\": \"you would have\",\n",
    "  \"you'll\": \"you you will\",\n",
    "  \"you'll've\": \"you you will have\",\n",
    "  \"you're\": \"you are\",\n",
    "  \"you've\": \"you have\"\n",
    "}"
   ]
  },
  {
   "cell_type": "code",
   "execution_count": null,
   "id": "b0e4d7bc",
   "metadata": {},
   "outputs": [],
   "source": [
    "# We can add more key value pairs to this list if we want to "
   ]
  },
  {
   "cell_type": "code",
   "execution_count": 122,
   "id": "a7f08d41",
   "metadata": {},
   "outputs": [
    {
     "data": {
      "text/plain": [
       "'hey am not going'"
      ]
     },
     "execution_count": 122,
     "metadata": {},
     "output_type": "execute_result"
    }
   ],
   "source": [
    "\"hey ain't going\".replace(\"ain't\",\"am not\")"
   ]
  },
  {
   "cell_type": "code",
   "execution_count": 125,
   "id": "1564963a",
   "metadata": {},
   "outputs": [],
   "source": [
    "#for k in cList:\n",
    "#    print(k)\n",
    "#    print(cList[k])"
   ]
  },
  {
   "cell_type": "code",
   "execution_count": 124,
   "id": "a84ccd7a",
   "metadata": {},
   "outputs": [],
   "source": [
    "def cont_to_exp(x):\n",
    "    if type(x) is str:\n",
    "        for k in cList:\n",
    "            value = cList[k]\n",
    "            x = x.replace(k, value)\n",
    "        return(x)\n",
    "    else:\n",
    "        return(x)"
   ]
  },
  {
   "cell_type": "code",
   "execution_count": 127,
   "id": "7b220775",
   "metadata": {},
   "outputs": [
    {
     "data": {
      "text/plain": [
       "'you have'"
      ]
     },
     "execution_count": 127,
     "metadata": {},
     "output_type": "execute_result"
    }
   ],
   "source": [
    "cont_to_exp(\"you've\")"
   ]
  },
  {
   "cell_type": "code",
   "execution_count": 128,
   "id": "0b3fcba5",
   "metadata": {},
   "outputs": [
    {
     "name": "stdout",
     "output_type": "stream",
     "text": [
      "101 ms ± 769 µs per loop (mean ± std. dev. of 7 runs, 10 loops each)\n"
     ]
    }
   ],
   "source": [
    "%%timeit\n",
    "\n",
    "data['twitts'] = data['twitts'].apply(lambda x: cont_to_exp(x))"
   ]
  },
  {
   "cell_type": "code",
   "execution_count": 129,
   "id": "c93668fb",
   "metadata": {},
   "outputs": [
    {
     "data": {
      "text/html": [
       "<div>\n",
       "<style scoped>\n",
       "    .dataframe tbody tr th:only-of-type {\n",
       "        vertical-align: middle;\n",
       "    }\n",
       "\n",
       "    .dataframe tbody tr th {\n",
       "        vertical-align: top;\n",
       "    }\n",
       "\n",
       "    .dataframe thead th {\n",
       "        text-align: right;\n",
       "    }\n",
       "</style>\n",
       "<table border=\"1\" class=\"dataframe\">\n",
       "  <thead>\n",
       "    <tr style=\"text-align: right;\">\n",
       "      <th></th>\n",
       "      <th>twitts</th>\n",
       "      <th>sentiment</th>\n",
       "      <th>word_count</th>\n",
       "      <th>char_count</th>\n",
       "      <th>avg_word_len</th>\n",
       "      <th>stop_words_count</th>\n",
       "      <th>hashtasg_count</th>\n",
       "      <th>mention_count</th>\n",
       "      <th>numeric_count</th>\n",
       "      <th>upper_counts</th>\n",
       "    </tr>\n",
       "  </thead>\n",
       "  <tbody>\n",
       "    <tr>\n",
       "      <th>447</th>\n",
       "      <td>so cold today... kinda feeling a bit blue from all this cold.</td>\n",
       "      <td>0</td>\n",
       "      <td>12</td>\n",
       "      <td>50</td>\n",
       "      <td>4.166667</td>\n",
       "      <td>4</td>\n",
       "      <td>0</td>\n",
       "      <td>0</td>\n",
       "      <td>0</td>\n",
       "      <td>0</td>\n",
       "    </tr>\n",
       "    <tr>\n",
       "      <th>1815</th>\n",
       "      <td>i missed the tornado last night.</td>\n",
       "      <td>0</td>\n",
       "      <td>6</td>\n",
       "      <td>27</td>\n",
       "      <td>4.500000</td>\n",
       "      <td>2</td>\n",
       "      <td>0</td>\n",
       "      <td>0</td>\n",
       "      <td>0</td>\n",
       "      <td>1</td>\n",
       "    </tr>\n",
       "    <tr>\n",
       "      <th>491</th>\n",
       "      <td>rsvp only for the virgin megastore open bar. try again tomorrow.</td>\n",
       "      <td>0</td>\n",
       "      <td>11</td>\n",
       "      <td>54</td>\n",
       "      <td>4.909091</td>\n",
       "      <td>4</td>\n",
       "      <td>0</td>\n",
       "      <td>0</td>\n",
       "      <td>0</td>\n",
       "      <td>1</td>\n",
       "    </tr>\n",
       "    <tr>\n",
       "      <th>2233</th>\n",
       "      <td>one final today  then gonna watch bolt! haha</td>\n",
       "      <td>1</td>\n",
       "      <td>8</td>\n",
       "      <td>36</td>\n",
       "      <td>4.500000</td>\n",
       "      <td>2</td>\n",
       "      <td>0</td>\n",
       "      <td>0</td>\n",
       "      <td>0</td>\n",
       "      <td>0</td>\n",
       "    </tr>\n",
       "    <tr>\n",
       "      <th>1998</th>\n",
       "      <td>last ride with my baby girl alexus</td>\n",
       "      <td>0</td>\n",
       "      <td>7</td>\n",
       "      <td>28</td>\n",
       "      <td>4.000000</td>\n",
       "      <td>2</td>\n",
       "      <td>0</td>\n",
       "      <td>0</td>\n",
       "      <td>0</td>\n",
       "      <td>0</td>\n",
       "    </tr>\n",
       "  </tbody>\n",
       "</table>\n",
       "</div>"
      ],
      "text/plain": [
       "                                                                 twitts  \\\n",
       "447      so cold today... kinda feeling a bit blue from all this cold.    \n",
       "1815                                  i missed the tornado last night.    \n",
       "491   rsvp only for the virgin megastore open bar. try again tomorrow.    \n",
       "2233                       one final today  then gonna watch bolt! haha   \n",
       "1998                                last ride with my baby girl alexus    \n",
       "\n",
       "      sentiment  word_count  char_count  avg_word_len  stop_words_count  \\\n",
       "447           0          12          50      4.166667                 4   \n",
       "1815          0           6          27      4.500000                 2   \n",
       "491           0          11          54      4.909091                 4   \n",
       "2233          1           8          36      4.500000                 2   \n",
       "1998          0           7          28      4.000000                 2   \n",
       "\n",
       "      hashtasg_count  mention_count  numeric_count  upper_counts  \n",
       "447                0              0              0             0  \n",
       "1815               0              0              0             1  \n",
       "491                0              0              0             1  \n",
       "2233               0              0              0             0  \n",
       "1998               0              0              0             0  "
      ]
     },
     "execution_count": 129,
     "metadata": {},
     "output_type": "execute_result"
    }
   ],
   "source": [
    "data.sample(5)"
   ]
  },
  {
   "cell_type": "markdown",
   "id": "173f2db9",
   "metadata": {},
   "source": [
    "## Count & Remove Emails"
   ]
  },
  {
   "cell_type": "code",
   "execution_count": 140,
   "id": "5b2a248b",
   "metadata": {},
   "outputs": [
    {
     "data": {
      "text/html": [
       "<div>\n",
       "<style scoped>\n",
       "    .dataframe tbody tr th:only-of-type {\n",
       "        vertical-align: middle;\n",
       "    }\n",
       "\n",
       "    .dataframe tbody tr th {\n",
       "        vertical-align: top;\n",
       "    }\n",
       "\n",
       "    .dataframe thead th {\n",
       "        text-align: right;\n",
       "    }\n",
       "</style>\n",
       "<table border=\"1\" class=\"dataframe\">\n",
       "  <thead>\n",
       "    <tr style=\"text-align: right;\">\n",
       "      <th></th>\n",
       "      <th>twitts</th>\n",
       "      <th>sentiment</th>\n",
       "      <th>word_count</th>\n",
       "      <th>char_count</th>\n",
       "      <th>avg_word_len</th>\n",
       "      <th>stop_words_count</th>\n",
       "      <th>hashtasg_count</th>\n",
       "      <th>mention_count</th>\n",
       "      <th>numeric_count</th>\n",
       "      <th>upper_counts</th>\n",
       "    </tr>\n",
       "  </thead>\n",
       "  <tbody>\n",
       "    <tr>\n",
       "      <th>3713</th>\n",
       "      <td>@securerecs arghh me please  markbradbury_16@hotmail.com</td>\n",
       "      <td>1</td>\n",
       "      <td>5</td>\n",
       "      <td>51</td>\n",
       "      <td>10.2</td>\n",
       "      <td>0</td>\n",
       "      <td>0</td>\n",
       "      <td>1</td>\n",
       "      <td>0</td>\n",
       "      <td>0</td>\n",
       "    </tr>\n",
       "  </tbody>\n",
       "</table>\n",
       "</div>"
      ],
      "text/plain": [
       "                                                        twitts  sentiment  \\\n",
       "3713  @securerecs arghh me please  markbradbury_16@hotmail.com          1   \n",
       "\n",
       "      word_count  char_count  avg_word_len  stop_words_count  hashtasg_count  \\\n",
       "3713           5          51          10.2                 0               0   \n",
       "\n",
       "      mention_count  numeric_count  upper_counts  \n",
       "3713              1              0             0  "
      ]
     },
     "execution_count": 140,
     "metadata": {},
     "output_type": "execute_result"
    }
   ],
   "source": [
    "data[data['twitts'].str.contains('@hotmail.com')]"
   ]
  },
  {
   "cell_type": "code",
   "execution_count": 141,
   "id": "d802f74d",
   "metadata": {},
   "outputs": [],
   "source": [
    "import re"
   ]
  },
  {
   "cell_type": "code",
   "execution_count": 145,
   "id": "9ea7d324",
   "metadata": {},
   "outputs": [],
   "source": [
    "text = \"my email id is anc@email.com, aa@gmail.com\""
   ]
  },
  {
   "cell_type": "code",
   "execution_count": 149,
   "id": "ee37f468",
   "metadata": {},
   "outputs": [
    {
     "data": {
      "text/plain": [
       "['anc@email.com', 'aa@gmail.com']"
      ]
     },
     "execution_count": 149,
     "metadata": {},
     "output_type": "execute_result"
    }
   ],
   "source": [
    "myexp = re.findall(r'([a-z0-9._-]+@[a-z0-9+._-]+\\.[a-z09+_-]+\\b)',text)\n",
    "myexp"
   ]
  },
  {
   "cell_type": "code",
   "execution_count": 155,
   "id": "b121dece",
   "metadata": {},
   "outputs": [],
   "source": [
    "data['emails']=data['twitts'].apply(lambda x :re.findall(r'([a-z0-9._-]+@[a-z0-9+._-]+\\.[a-z09+_-]+)',x))"
   ]
  },
  {
   "cell_type": "code",
   "execution_count": 156,
   "id": "7ddd12b2",
   "metadata": {},
   "outputs": [
    {
     "data": {
      "text/html": [
       "<div>\n",
       "<style scoped>\n",
       "    .dataframe tbody tr th:only-of-type {\n",
       "        vertical-align: middle;\n",
       "    }\n",
       "\n",
       "    .dataframe tbody tr th {\n",
       "        vertical-align: top;\n",
       "    }\n",
       "\n",
       "    .dataframe thead th {\n",
       "        text-align: right;\n",
       "    }\n",
       "</style>\n",
       "<table border=\"1\" class=\"dataframe\">\n",
       "  <thead>\n",
       "    <tr style=\"text-align: right;\">\n",
       "      <th></th>\n",
       "      <th>twitts</th>\n",
       "      <th>sentiment</th>\n",
       "      <th>word_count</th>\n",
       "      <th>char_count</th>\n",
       "      <th>avg_word_len</th>\n",
       "      <th>stop_words_count</th>\n",
       "      <th>hashtasg_count</th>\n",
       "      <th>mention_count</th>\n",
       "      <th>numeric_count</th>\n",
       "      <th>upper_counts</th>\n",
       "      <th>emails</th>\n",
       "      <th>email_counts</th>\n",
       "    </tr>\n",
       "  </thead>\n",
       "  <tbody>\n",
       "    <tr>\n",
       "      <th>1735</th>\n",
       "      <td>@wolwol crashed wol. no one survived</td>\n",
       "      <td>0</td>\n",
       "      <td>6</td>\n",
       "      <td>31</td>\n",
       "      <td>5.166667</td>\n",
       "      <td>1</td>\n",
       "      <td>0</td>\n",
       "      <td>1</td>\n",
       "      <td>0</td>\n",
       "      <td>0</td>\n",
       "      <td>[]</td>\n",
       "      <td>0</td>\n",
       "    </tr>\n",
       "    <tr>\n",
       "      <th>699</th>\n",
       "      <td>@timotheosok it is really nasty out</td>\n",
       "      <td>0</td>\n",
       "      <td>5</td>\n",
       "      <td>30</td>\n",
       "      <td>6.000000</td>\n",
       "      <td>2</td>\n",
       "      <td>0</td>\n",
       "      <td>1</td>\n",
       "      <td>0</td>\n",
       "      <td>0</td>\n",
       "      <td>[]</td>\n",
       "      <td>0</td>\n",
       "    </tr>\n",
       "    <tr>\n",
       "      <th>1930</th>\n",
       "      <td>gotta go to work. for. 8 hours. ugh. and heres the thing. it is like a summer thing. ya im that nice</td>\n",
       "      <td>0</td>\n",
       "      <td>21</td>\n",
       "      <td>79</td>\n",
       "      <td>3.761905</td>\n",
       "      <td>4</td>\n",
       "      <td>0</td>\n",
       "      <td>0</td>\n",
       "      <td>1</td>\n",
       "      <td>5</td>\n",
       "      <td>[]</td>\n",
       "      <td>0</td>\n",
       "    </tr>\n",
       "    <tr>\n",
       "      <th>2443</th>\n",
       "      <td>i'm trying to work, but am highly distracted what with the interesting people to meet on twitter</td>\n",
       "      <td>1</td>\n",
       "      <td>17</td>\n",
       "      <td>80</td>\n",
       "      <td>4.705882</td>\n",
       "      <td>8</td>\n",
       "      <td>0</td>\n",
       "      <td>0</td>\n",
       "      <td>0</td>\n",
       "      <td>0</td>\n",
       "      <td>[]</td>\n",
       "      <td>0</td>\n",
       "    </tr>\n",
       "    <tr>\n",
       "      <th>1979</th>\n",
       "      <td>think i ate a bad leftover subway sandwich</td>\n",
       "      <td>0</td>\n",
       "      <td>8</td>\n",
       "      <td>35</td>\n",
       "      <td>4.375000</td>\n",
       "      <td>1</td>\n",
       "      <td>0</td>\n",
       "      <td>0</td>\n",
       "      <td>0</td>\n",
       "      <td>1</td>\n",
       "      <td>[]</td>\n",
       "      <td>0</td>\n",
       "    </tr>\n",
       "    <tr>\n",
       "      <th>975</th>\n",
       "      <td>my stomach hurts.  and i'm bored.</td>\n",
       "      <td>0</td>\n",
       "      <td>6</td>\n",
       "      <td>27</td>\n",
       "      <td>4.500000</td>\n",
       "      <td>1</td>\n",
       "      <td>0</td>\n",
       "      <td>0</td>\n",
       "      <td>0</td>\n",
       "      <td>0</td>\n",
       "      <td>[]</td>\n",
       "      <td>0</td>\n",
       "    </tr>\n",
       "    <tr>\n",
       "      <th>3857</th>\n",
       "      <td>twitter sucks, i'm only on here to follow ellen, oprah and shane  so i dont follow me because i'm never on here</td>\n",
       "      <td>1</td>\n",
       "      <td>22</td>\n",
       "      <td>89</td>\n",
       "      <td>4.045455</td>\n",
       "      <td>11</td>\n",
       "      <td>0</td>\n",
       "      <td>0</td>\n",
       "      <td>0</td>\n",
       "      <td>1</td>\n",
       "      <td>[]</td>\n",
       "      <td>0</td>\n",
       "    </tr>\n",
       "    <tr>\n",
       "      <th>2246</th>\n",
       "      <td>@maxenemagalona :-d i am a big fan of your dad!  isolove his songs....hi max!</td>\n",
       "      <td>1</td>\n",
       "      <td>14</td>\n",
       "      <td>63</td>\n",
       "      <td>4.500000</td>\n",
       "      <td>6</td>\n",
       "      <td>0</td>\n",
       "      <td>1</td>\n",
       "      <td>0</td>\n",
       "      <td>1</td>\n",
       "      <td>[]</td>\n",
       "      <td>0</td>\n",
       "    </tr>\n",
       "  </tbody>\n",
       "</table>\n",
       "</div>"
      ],
      "text/plain": [
       "                                                                                                               twitts  \\\n",
       "1735                                                                            @wolwol crashed wol. no one survived    \n",
       "699                                                                              @timotheosok it is really nasty out    \n",
       "1930            gotta go to work. for. 8 hours. ugh. and heres the thing. it is like a summer thing. ya im that nice    \n",
       "2443                i'm trying to work, but am highly distracted what with the interesting people to meet on twitter    \n",
       "1979                                                                      think i ate a bad leftover subway sandwich    \n",
       "975                                                                                my stomach hurts.  and i'm bored.    \n",
       "3857  twitter sucks, i'm only on here to follow ellen, oprah and shane  so i dont follow me because i'm never on here   \n",
       "2246                                    @maxenemagalona :-d i am a big fan of your dad!  isolove his songs....hi max!   \n",
       "\n",
       "      sentiment  word_count  char_count  avg_word_len  stop_words_count  \\\n",
       "1735          0           6          31      5.166667                 1   \n",
       "699           0           5          30      6.000000                 2   \n",
       "1930          0          21          79      3.761905                 4   \n",
       "2443          1          17          80      4.705882                 8   \n",
       "1979          0           8          35      4.375000                 1   \n",
       "975           0           6          27      4.500000                 1   \n",
       "3857          1          22          89      4.045455                11   \n",
       "2246          1          14          63      4.500000                 6   \n",
       "\n",
       "      hashtasg_count  mention_count  numeric_count  upper_counts emails  \\\n",
       "1735               0              1              0             0     []   \n",
       "699                0              1              0             0     []   \n",
       "1930               0              0              1             5     []   \n",
       "2443               0              0              0             0     []   \n",
       "1979               0              0              0             1     []   \n",
       "975                0              0              0             0     []   \n",
       "3857               0              0              0             1     []   \n",
       "2246               0              1              0             1     []   \n",
       "\n",
       "      email_counts  \n",
       "1735             0  \n",
       "699              0  \n",
       "1930             0  \n",
       "2443             0  \n",
       "1979             0  \n",
       "975              0  \n",
       "3857             0  \n",
       "2246             0  "
      ]
     },
     "execution_count": 156,
     "metadata": {},
     "output_type": "execute_result"
    }
   ],
   "source": [
    "data.sample(8)"
   ]
  },
  {
   "cell_type": "code",
   "execution_count": 158,
   "id": "d2c67868",
   "metadata": {},
   "outputs": [],
   "source": [
    "data['email_counts']= data['emails'].apply(lambda x:len(x))"
   ]
  },
  {
   "cell_type": "code",
   "execution_count": 162,
   "id": "25928058",
   "metadata": {},
   "outputs": [],
   "source": [
    "x = text\n"
   ]
  },
  {
   "cell_type": "code",
   "execution_count": 163,
   "id": "4e018a30",
   "metadata": {},
   "outputs": [
    {
     "data": {
      "text/plain": [
       "'my email id is , '"
      ]
     },
     "execution_count": 163,
     "metadata": {},
     "output_type": "execute_result"
    }
   ],
   "source": [
    "# removing the email id or subtracting it\n",
    "\n",
    "re.sub(r'([a-z0-9._-]+@[a-z0-9+._-]+\\.[a-z09+_-]+)',\"\",x)"
   ]
  },
  {
   "cell_type": "code",
   "execution_count": 164,
   "id": "b39e9dfe",
   "metadata": {},
   "outputs": [],
   "source": [
    "data['twitts']=data['twitts'].apply(lambda x:re.sub(r'([a-z0-9._-]+@[a-z0-9+._-]+\\.[a-z09+_-]+)',\"\",x))"
   ]
  },
  {
   "cell_type": "markdown",
   "id": "98a8f928",
   "metadata": {},
   "source": [
    "## Count URL & Remove It"
   ]
  },
  {
   "cell_type": "code",
   "execution_count": 173,
   "id": "b0314823",
   "metadata": {},
   "outputs": [],
   "source": [
    "txt = \"this is google.com URL linkedin profile https://www.linkedin.com/in/nitin-ai--/....hello https://www.youtube.com/watch?v=GViNRr-wanE&list=RDCMUC2wMHF4HBkTMGLsvZAIWzRg&index=16\""
   ]
  },
  {
   "cell_type": "code",
   "execution_count": null,
   "id": "a1045fea",
   "metadata": {},
   "outputs": [],
   "source": []
  },
  {
   "cell_type": "code",
   "execution_count": 174,
   "id": "647a911c",
   "metadata": {},
   "outputs": [],
   "source": [
    "urls = re.findall('http[s]?://(?:[a-zA-Z]|[0-9]|[$-_@.&+]|[!*\\(\\),]|(?:%[0-9a-fA-F][0-9a-fA-F]))+', txt)"
   ]
  },
  {
   "cell_type": "code",
   "execution_count": 175,
   "id": "102fbe8e",
   "metadata": {},
   "outputs": [
    {
     "data": {
      "text/plain": [
       "['https://www.linkedin.com/in/nitin-ai--/....hello',\n",
       " 'https://www.youtube.com/watch?v=GViNRr-wanE&list=RDCMUC2wMHF4HBkTMGLsvZAIWzRg&index=16']"
      ]
     },
     "execution_count": 175,
     "metadata": {},
     "output_type": "execute_result"
    }
   ],
   "source": [
    "urls"
   ]
  },
  {
   "cell_type": "code",
   "execution_count": 178,
   "id": "0bac988a",
   "metadata": {},
   "outputs": [],
   "source": [
    "data['url_flag']= data['twitts'].apply(lambda x: len(re.findall('http[s]?://(?:[a-zA-Z]|[0-9]|[$-_@.&+]|[!*\\(\\),]|(?:%[0-9a-fA-F][0-9a-fA-F]))+', x)))"
   ]
  },
  {
   "cell_type": "code",
   "execution_count": 180,
   "id": "68a5afb7",
   "metadata": {},
   "outputs": [
    {
     "data": {
      "text/html": [
       "<div>\n",
       "<style scoped>\n",
       "    .dataframe tbody tr th:only-of-type {\n",
       "        vertical-align: middle;\n",
       "    }\n",
       "\n",
       "    .dataframe tbody tr th {\n",
       "        vertical-align: top;\n",
       "    }\n",
       "\n",
       "    .dataframe thead th {\n",
       "        text-align: right;\n",
       "    }\n",
       "</style>\n",
       "<table border=\"1\" class=\"dataframe\">\n",
       "  <thead>\n",
       "    <tr style=\"text-align: right;\">\n",
       "      <th></th>\n",
       "      <th>twitts</th>\n",
       "      <th>sentiment</th>\n",
       "      <th>word_count</th>\n",
       "      <th>char_count</th>\n",
       "      <th>avg_word_len</th>\n",
       "      <th>stop_words_count</th>\n",
       "      <th>hashtasg_count</th>\n",
       "      <th>mention_count</th>\n",
       "      <th>numeric_count</th>\n",
       "      <th>upper_counts</th>\n",
       "      <th>emails</th>\n",
       "      <th>email_counts</th>\n",
       "      <th>url_flag</th>\n",
       "    </tr>\n",
       "  </thead>\n",
       "  <tbody>\n",
       "    <tr>\n",
       "      <th>16</th>\n",
       "      <td>@brianquest i made 1 fo u 2: http://bit.ly/eid8a  i tried but its kinda ugly cuz i couldnt find pics</td>\n",
       "      <td>0</td>\n",
       "      <td>19</td>\n",
       "      <td>81</td>\n",
       "      <td>4.263158</td>\n",
       "      <td>3</td>\n",
       "      <td>0</td>\n",
       "      <td>1</td>\n",
       "      <td>1</td>\n",
       "      <td>3</td>\n",
       "      <td>[]</td>\n",
       "      <td>0</td>\n",
       "      <td>1</td>\n",
       "    </tr>\n",
       "    <tr>\n",
       "      <th>98</th>\n",
       "      <td>heading to work  http://twitpic.com/4eojz</td>\n",
       "      <td>0</td>\n",
       "      <td>4</td>\n",
       "      <td>37</td>\n",
       "      <td>9.250000</td>\n",
       "      <td>1</td>\n",
       "      <td>0</td>\n",
       "      <td>0</td>\n",
       "      <td>0</td>\n",
       "      <td>0</td>\n",
       "      <td>[]</td>\n",
       "      <td>0</td>\n",
       "      <td>1</td>\n",
       "    </tr>\n",
       "    <tr>\n",
       "      <th>99</th>\n",
       "      <td>@blondeblogger http://twitpic.com/4w8hk - i'm so sad this is so blurry!</td>\n",
       "      <td>0</td>\n",
       "      <td>10</td>\n",
       "      <td>62</td>\n",
       "      <td>6.200000</td>\n",
       "      <td>4</td>\n",
       "      <td>0</td>\n",
       "      <td>1</td>\n",
       "      <td>0</td>\n",
       "      <td>0</td>\n",
       "      <td>[]</td>\n",
       "      <td>0</td>\n",
       "      <td>1</td>\n",
       "    </tr>\n",
       "    <tr>\n",
       "      <th>144</th>\n",
       "      <td>i miss you  â« http://blip.fm/~8lc2f</td>\n",
       "      <td>0</td>\n",
       "      <td>5</td>\n",
       "      <td>32</td>\n",
       "      <td>6.400000</td>\n",
       "      <td>1</td>\n",
       "      <td>0</td>\n",
       "      <td>0</td>\n",
       "      <td>0</td>\n",
       "      <td>1</td>\n",
       "      <td>[]</td>\n",
       "      <td>0</td>\n",
       "      <td>1</td>\n",
       "    </tr>\n",
       "    <tr>\n",
       "      <th>183</th>\n",
       "      <td>photo: miss germany  http://tumblr.com/xf825f012</td>\n",
       "      <td>0</td>\n",
       "      <td>4</td>\n",
       "      <td>44</td>\n",
       "      <td>11.000000</td>\n",
       "      <td>0</td>\n",
       "      <td>0</td>\n",
       "      <td>0</td>\n",
       "      <td>0</td>\n",
       "      <td>0</td>\n",
       "      <td>[]</td>\n",
       "      <td>0</td>\n",
       "      <td>1</td>\n",
       "    </tr>\n",
       "    <tr>\n",
       "      <th>...</th>\n",
       "      <td>...</td>\n",
       "      <td>...</td>\n",
       "      <td>...</td>\n",
       "      <td>...</td>\n",
       "      <td>...</td>\n",
       "      <td>...</td>\n",
       "      <td>...</td>\n",
       "      <td>...</td>\n",
       "      <td>...</td>\n",
       "      <td>...</td>\n",
       "      <td>...</td>\n",
       "      <td>...</td>\n",
       "      <td>...</td>\n",
       "    </tr>\n",
       "    <tr>\n",
       "      <th>3819</th>\n",
       "      <td>new staark video of &amp;quot;sweet release&amp;quot; live at wick studios!  http://staark.net/video.php ... we will probably edit it a bit soon tho</td>\n",
       "      <td>1</td>\n",
       "      <td>20</td>\n",
       "      <td>118</td>\n",
       "      <td>5.900000</td>\n",
       "      <td>4</td>\n",
       "      <td>0</td>\n",
       "      <td>0</td>\n",
       "      <td>0</td>\n",
       "      <td>1</td>\n",
       "      <td>[]</td>\n",
       "      <td>0</td>\n",
       "      <td>1</td>\n",
       "    </tr>\n",
       "    <tr>\n",
       "      <th>3826</th>\n",
       "      <td>http://tinyurl.com/kwmynq helmet - unsung to start your day  http://plurk.com/p/yshbc</td>\n",
       "      <td>1</td>\n",
       "      <td>9</td>\n",
       "      <td>76</td>\n",
       "      <td>8.444444</td>\n",
       "      <td>2</td>\n",
       "      <td>0</td>\n",
       "      <td>0</td>\n",
       "      <td>0</td>\n",
       "      <td>0</td>\n",
       "      <td>[]</td>\n",
       "      <td>0</td>\n",
       "      <td>2</td>\n",
       "    </tr>\n",
       "    <tr>\n",
       "      <th>3837</th>\n",
       "      <td>@r0ckergirl14 wow sweet again!!  http://twitpic.com/69b67</td>\n",
       "      <td>1</td>\n",
       "      <td>5</td>\n",
       "      <td>52</td>\n",
       "      <td>10.400000</td>\n",
       "      <td>0</td>\n",
       "      <td>0</td>\n",
       "      <td>1</td>\n",
       "      <td>0</td>\n",
       "      <td>0</td>\n",
       "      <td>[]</td>\n",
       "      <td>0</td>\n",
       "      <td>1</td>\n",
       "    </tr>\n",
       "    <tr>\n",
       "      <th>3958</th>\n",
       "      <td>someone has been creative with my #deskmess while was chatting with @omar_musa   http://twitpic.com/7jgf1</td>\n",
       "      <td>1</td>\n",
       "      <td>13</td>\n",
       "      <td>91</td>\n",
       "      <td>7.000000</td>\n",
       "      <td>7</td>\n",
       "      <td>1</td>\n",
       "      <td>1</td>\n",
       "      <td>0</td>\n",
       "      <td>0</td>\n",
       "      <td>[]</td>\n",
       "      <td>0</td>\n",
       "      <td>1</td>\n",
       "    </tr>\n",
       "    <tr>\n",
       "      <th>3974</th>\n",
       "      <td>@gtucker13 http://twitpic.com/6tw87 - no really .. in germany there will be bigger , then this here</td>\n",
       "      <td>1</td>\n",
       "      <td>16</td>\n",
       "      <td>84</td>\n",
       "      <td>5.250000</td>\n",
       "      <td>9</td>\n",
       "      <td>0</td>\n",
       "      <td>1</td>\n",
       "      <td>0</td>\n",
       "      <td>0</td>\n",
       "      <td>[]</td>\n",
       "      <td>0</td>\n",
       "      <td>1</td>\n",
       "    </tr>\n",
       "  </tbody>\n",
       "</table>\n",
       "<p>185 rows × 13 columns</p>\n",
       "</div>"
      ],
      "text/plain": [
       "                                                                                                                                            twitts  \\\n",
       "16                                           @brianquest i made 1 fo u 2: http://bit.ly/eid8a  i tried but its kinda ugly cuz i couldnt find pics    \n",
       "98                                                                                                       heading to work  http://twitpic.com/4eojz   \n",
       "99                                                                        @blondeblogger http://twitpic.com/4w8hk - i'm so sad this is so blurry!    \n",
       "144                                                                                                          i miss you  â« http://blip.fm/~8lc2f   \n",
       "183                                                                                               photo: miss germany  http://tumblr.com/xf825f012   \n",
       "...                                                                                                                                            ...   \n",
       "3819  new staark video of &quot;sweet release&quot; live at wick studios!  http://staark.net/video.php ... we will probably edit it a bit soon tho   \n",
       "3826                                                         http://tinyurl.com/kwmynq helmet - unsung to start your day  http://plurk.com/p/yshbc   \n",
       "3837                                                                                     @r0ckergirl14 wow sweet again!!  http://twitpic.com/69b67   \n",
       "3958                                     someone has been creative with my #deskmess while was chatting with @omar_musa   http://twitpic.com/7jgf1   \n",
       "3974                                          @gtucker13 http://twitpic.com/6tw87 - no really .. in germany there will be bigger , then this here    \n",
       "\n",
       "      sentiment  word_count  char_count  avg_word_len  stop_words_count  \\\n",
       "16            0          19          81      4.263158                 3   \n",
       "98            0           4          37      9.250000                 1   \n",
       "99            0          10          62      6.200000                 4   \n",
       "144           0           5          32      6.400000                 1   \n",
       "183           0           4          44     11.000000                 0   \n",
       "...         ...         ...         ...           ...               ...   \n",
       "3819          1          20         118      5.900000                 4   \n",
       "3826          1           9          76      8.444444                 2   \n",
       "3837          1           5          52     10.400000                 0   \n",
       "3958          1          13          91      7.000000                 7   \n",
       "3974          1          16          84      5.250000                 9   \n",
       "\n",
       "      hashtasg_count  mention_count  numeric_count  upper_counts emails  \\\n",
       "16                 0              1              1             3     []   \n",
       "98                 0              0              0             0     []   \n",
       "99                 0              1              0             0     []   \n",
       "144                0              0              0             1     []   \n",
       "183                0              0              0             0     []   \n",
       "...              ...            ...            ...           ...    ...   \n",
       "3819               0              0              0             1     []   \n",
       "3826               0              0              0             0     []   \n",
       "3837               0              1              0             0     []   \n",
       "3958               1              1              0             0     []   \n",
       "3974               0              1              0             0     []   \n",
       "\n",
       "      email_counts  url_flag  \n",
       "16               0         1  \n",
       "98               0         1  \n",
       "99               0         1  \n",
       "144              0         1  \n",
       "183              0         1  \n",
       "...            ...       ...  \n",
       "3819             0         1  \n",
       "3826             0         2  \n",
       "3837             0         1  \n",
       "3958             0         1  \n",
       "3974             0         1  \n",
       "\n",
       "[185 rows x 13 columns]"
      ]
     },
     "execution_count": 180,
     "metadata": {},
     "output_type": "execute_result"
    }
   ],
   "source": [
    "data[data['url_flag']>0]"
   ]
  },
  {
   "cell_type": "code",
   "execution_count": 183,
   "id": "334a756f",
   "metadata": {},
   "outputs": [],
   "source": [
    "data['twitts']=data['twitts'].apply(lambda x:re.sub('http[s]?://(?:[a-zA-Z]|[0-9]|[$-_@.&+]|[!*\\(\\),]|(?:%[0-9a-fA-F][0-9a-fA-F]))+', '',x) )"
   ]
  },
  {
   "cell_type": "markdown",
   "id": "a29b17ba",
   "metadata": {},
   "source": [
    "# Remove RT - ReTweet Data"
   ]
  },
  {
   "cell_type": "code",
   "execution_count": 189,
   "id": "bb3f1037",
   "metadata": {},
   "outputs": [],
   "source": [
    "text = 'rt @nitin retweet this is a '"
   ]
  },
  {
   "cell_type": "code",
   "execution_count": 191,
   "id": "84d0f638",
   "metadata": {},
   "outputs": [
    {
     "data": {
      "text/plain": [
       "'@nitin retweet this is a'"
      ]
     },
     "execution_count": 191,
     "metadata": {},
     "output_type": "execute_result"
    }
   ],
   "source": [
    "re.sub(r'\\brt\\b', '',text).strip()"
   ]
  },
  {
   "cell_type": "code",
   "execution_count": 192,
   "id": "2dd204f7",
   "metadata": {},
   "outputs": [],
   "source": [
    "data['twitts'] = data['twitts'].apply(lambda x:re.sub(r'\\brt\\b', '',x).strip() )"
   ]
  },
  {
   "cell_type": "markdown",
   "id": "40c40b4b",
   "metadata": {},
   "source": [
    "## Special Character & Punctuation Removal"
   ]
  },
  {
   "cell_type": "code",
   "execution_count": 201,
   "id": "f4a06f16",
   "metadata": {},
   "outputs": [
    {
     "data": {
      "text/plain": [
       "'@'"
      ]
     },
     "execution_count": 201,
     "metadata": {},
     "output_type": "execute_result"
    }
   ],
   "source": [
    "# w for alphanumeric char & special chars\n",
    "# ^ means other thna this\n",
    "re.sub(r'[\\w]+', \"\", text).strip()"
   ]
  },
  {
   "cell_type": "code",
   "execution_count": 202,
   "id": "218d77ee",
   "metadata": {},
   "outputs": [
    {
     "data": {
      "text/plain": [
       "'rtnitinretweetthisisa'"
      ]
     },
     "execution_count": 202,
     "metadata": {},
     "output_type": "execute_result"
    }
   ],
   "source": [
    "re.sub(r'[^\\w]+', \"\", text).strip()"
   ]
  },
  {
   "cell_type": "code",
   "execution_count": 203,
   "id": "9093c7c5",
   "metadata": {},
   "outputs": [
    {
     "data": {
      "text/plain": [
       "'rt nitin retweet this is a'"
      ]
     },
     "execution_count": 203,
     "metadata": {},
     "output_type": "execute_result"
    }
   ],
   "source": [
    "# Giving space after w\n",
    "re.sub(r'[^\\w ]+', \"\", text).strip()"
   ]
  },
  {
   "cell_type": "code",
   "execution_count": 204,
   "id": "e46fc0f0",
   "metadata": {},
   "outputs": [],
   "source": [
    "data['twitts'] = data['twitts'].apply(lambda x:re.sub(r'[^\\w ]+', \"\", x) )"
   ]
  },
  {
   "cell_type": "code",
   "execution_count": 206,
   "id": "002082fa",
   "metadata": {},
   "outputs": [
    {
     "data": {
      "text/plain": [
       "3002    amber_lily13 ill tell u the lame story laterugh still got to talk to steve tho\n",
       "1392                                     i want to see alice in chains in the 90s  lt3\n",
       "1078                                           morning  bus replacement services today\n",
       "653                                                 ugggsleepyand have to go to brunch\n",
       "2082                                   i fell asleep on the couch anddd i miss my butt\n",
       "Name: twitts, dtype: object"
      ]
     },
     "execution_count": 206,
     "metadata": {},
     "output_type": "execute_result"
    }
   ],
   "source": [
    "data['twitts'].sample(5)"
   ]
  },
  {
   "cell_type": "markdown",
   "id": "1b1205fe",
   "metadata": {},
   "source": [
    "## Removing Multiple spaces"
   ]
  },
  {
   "cell_type": "code",
   "execution_count": 207,
   "id": "9691e71a",
   "metadata": {},
   "outputs": [],
   "source": [
    "text = 'Hi There      How      Are  you'"
   ]
  },
  {
   "cell_type": "code",
   "execution_count": 209,
   "id": "f7598e2b",
   "metadata": {},
   "outputs": [
    {
     "data": {
      "text/plain": [
       "'Hi There How Are you'"
      ]
     },
     "execution_count": 209,
     "metadata": {},
     "output_type": "execute_result"
    }
   ],
   "source": [
    "' '.join(text.split())"
   ]
  },
  {
   "cell_type": "code",
   "execution_count": 212,
   "id": "1086c1ab",
   "metadata": {},
   "outputs": [],
   "source": [
    "data['twitts'] = data['twitts'].apply(lambda x: ' '.join(x.split())) "
   ]
  },
  {
   "cell_type": "markdown",
   "id": "7611bfe5",
   "metadata": {},
   "source": [
    "## Remove HTML Tags"
   ]
  },
  {
   "cell_type": "code",
   "execution_count": 217,
   "id": "05b13e9b",
   "metadata": {},
   "outputs": [
    {
     "name": "stdout",
     "output_type": "stream",
     "text": [
      "Requirement already satisfied: beautifulsoup4 in c:\\programdata\\anaconda3\\lib\\site-packages (4.10.0)\n",
      "Requirement already satisfied: soupsieve>1.2 in c:\\programdata\\anaconda3\\lib\\site-packages (from beautifulsoup4) (2.3.1)\n",
      "Collecting lxml\n",
      "  Downloading lxml-4.8.0-cp39-cp39-win_amd64.whl (3.6 MB)\n",
      "Installing collected packages: lxml\n",
      "Successfully installed lxml-4.8.0\n"
     ]
    }
   ],
   "source": [
    "#!pip install beautifulsoup4\n",
    "#!pip install lxml"
   ]
  },
  {
   "cell_type": "code",
   "execution_count": 219,
   "id": "d7450ecb",
   "metadata": {},
   "outputs": [],
   "source": [
    "from bs4 import BeautifulSoup"
   ]
  },
  {
   "cell_type": "code",
   "execution_count": 222,
   "id": "a8aadb93",
   "metadata": {},
   "outputs": [],
   "source": [
    "html =\"<html><h1>Hello World & Python</h1></html>\""
   ]
  },
  {
   "cell_type": "code",
   "execution_count": 225,
   "id": "6a28b215",
   "metadata": {},
   "outputs": [
    {
     "data": {
      "text/plain": [
       "'Hello World & Python'"
      ]
     },
     "execution_count": 225,
     "metadata": {},
     "output_type": "execute_result"
    }
   ],
   "source": [
    "BeautifulSoup(html,\"html.parser\").get_text().strip()"
   ]
  },
  {
   "cell_type": "code",
   "execution_count": 227,
   "id": "c5821288",
   "metadata": {},
   "outputs": [],
   "source": [
    "data['twitts'] = data['twitts'].apply(lambda x: BeautifulSoup(x,\"html.parser\").get_text().strip())"
   ]
  },
  {
   "cell_type": "code",
   "execution_count": 228,
   "id": "43a404ff",
   "metadata": {},
   "outputs": [
    {
     "data": {
      "text/html": [
       "<div>\n",
       "<style scoped>\n",
       "    .dataframe tbody tr th:only-of-type {\n",
       "        vertical-align: middle;\n",
       "    }\n",
       "\n",
       "    .dataframe tbody tr th {\n",
       "        vertical-align: top;\n",
       "    }\n",
       "\n",
       "    .dataframe thead th {\n",
       "        text-align: right;\n",
       "    }\n",
       "</style>\n",
       "<table border=\"1\" class=\"dataframe\">\n",
       "  <thead>\n",
       "    <tr style=\"text-align: right;\">\n",
       "      <th></th>\n",
       "      <th>twitts</th>\n",
       "      <th>sentiment</th>\n",
       "      <th>word_count</th>\n",
       "      <th>char_count</th>\n",
       "      <th>avg_word_len</th>\n",
       "      <th>stop_words_count</th>\n",
       "      <th>hashtasg_count</th>\n",
       "      <th>mention_count</th>\n",
       "      <th>numeric_count</th>\n",
       "      <th>upper_counts</th>\n",
       "      <th>emails</th>\n",
       "      <th>email_counts</th>\n",
       "      <th>url_flag</th>\n",
       "    </tr>\n",
       "  </thead>\n",
       "  <tbody>\n",
       "    <tr>\n",
       "      <th>3970</th>\n",
       "      <td>alaerys no one else loves me either people are so boring in rl cept you you always tickle me</td>\n",
       "      <td>1</td>\n",
       "      <td>20</td>\n",
       "      <td>79</td>\n",
       "      <td>3.950000</td>\n",
       "      <td>10</td>\n",
       "      <td>0</td>\n",
       "      <td>1</td>\n",
       "      <td>0</td>\n",
       "      <td>1</td>\n",
       "      <td>[]</td>\n",
       "      <td>0</td>\n",
       "      <td>0</td>\n",
       "    </tr>\n",
       "    <tr>\n",
       "      <th>2516</th>\n",
       "      <td>follow smoshian so he can have 10k and no one will be harmed</td>\n",
       "      <td>1</td>\n",
       "      <td>13</td>\n",
       "      <td>49</td>\n",
       "      <td>3.769231</td>\n",
       "      <td>9</td>\n",
       "      <td>0</td>\n",
       "      <td>1</td>\n",
       "      <td>0</td>\n",
       "      <td>0</td>\n",
       "      <td>[]</td>\n",
       "      <td>0</td>\n",
       "      <td>0</td>\n",
       "    </tr>\n",
       "    <tr>\n",
       "      <th>934</th>\n",
       "      <td>randomvector twitter does not work well on my mac i cannot dm you i eez sorreez trip is stressy amp has not actually begun yet</td>\n",
       "      <td>0</td>\n",
       "      <td>23</td>\n",
       "      <td>107</td>\n",
       "      <td>4.652174</td>\n",
       "      <td>4</td>\n",
       "      <td>0</td>\n",
       "      <td>1</td>\n",
       "      <td>0</td>\n",
       "      <td>3</td>\n",
       "      <td>[]</td>\n",
       "      <td>0</td>\n",
       "      <td>0</td>\n",
       "    </tr>\n",
       "  </tbody>\n",
       "</table>\n",
       "</div>"
      ],
      "text/plain": [
       "                                                                                                                              twitts  \\\n",
       "3970                                    alaerys no one else loves me either people are so boring in rl cept you you always tickle me   \n",
       "2516                                                                    follow smoshian so he can have 10k and no one will be harmed   \n",
       "934   randomvector twitter does not work well on my mac i cannot dm you i eez sorreez trip is stressy amp has not actually begun yet   \n",
       "\n",
       "      sentiment  word_count  char_count  avg_word_len  stop_words_count  \\\n",
       "3970          1          20          79      3.950000                10   \n",
       "2516          1          13          49      3.769231                 9   \n",
       "934           0          23         107      4.652174                 4   \n",
       "\n",
       "      hashtasg_count  mention_count  numeric_count  upper_counts emails  \\\n",
       "3970               0              1              0             1     []   \n",
       "2516               0              1              0             0     []   \n",
       "934                0              1              0             3     []   \n",
       "\n",
       "      email_counts  url_flag  \n",
       "3970             0         0  \n",
       "2516             0         0  \n",
       "934              0         0  "
      ]
     },
     "execution_count": 228,
     "metadata": {},
     "output_type": "execute_result"
    }
   ],
   "source": [
    "data.sample(3)"
   ]
  },
  {
   "cell_type": "markdown",
   "id": "89d85e55",
   "metadata": {},
   "source": [
    "## Remove Accented Chars"
   ]
  },
  {
   "cell_type": "code",
   "execution_count": 229,
   "id": "68c82110",
   "metadata": {},
   "outputs": [],
   "source": [
    "text = '''such as résumé and tête-à-tête, they occur frequently in several other European languages, including Spanish, French, Italian, German and Portuguese.\n",
    "\n",
    "The most common accents are the acute (é), grave (è), circumflex (â, î or ô), tilde (ñ), umlaut and dieresis (ü or ï – the same symbol is used for two different purposes), and cedilla (ç). Accent marks (also referred to as diacritics or diacriticals) usually appear above a character. One exception is the cedilla, which appears directly underneath the letter c; several less common accent marks appear next to the character.'''"
   ]
  },
  {
   "cell_type": "code",
   "execution_count": 230,
   "id": "437e418e",
   "metadata": {},
   "outputs": [
    {
     "data": {
      "text/plain": [
       "'such as résumé and tête-à-tête, they occur frequently in several other European languages, including Spanish, French, Italian, German and Portuguese.\\n\\nThe most common accents are the acute (é), grave (è), circumflex (â, î or ô), tilde (ñ), umlaut and dieresis (ü or ï – the same symbol is used for two different purposes), and cedilla (ç). Accent marks (also referred to as diacritics or diacriticals) usually appear above a character. One exception is the cedilla, which appears directly underneath the letter c; several less common accent marks appear next to the character.'"
      ]
     },
     "execution_count": 230,
     "metadata": {},
     "output_type": "execute_result"
    }
   ],
   "source": [
    "text"
   ]
  },
  {
   "cell_type": "code",
   "execution_count": 231,
   "id": "cec144ee",
   "metadata": {},
   "outputs": [],
   "source": [
    "import unicodedata"
   ]
  },
  {
   "cell_type": "code",
   "execution_count": 232,
   "id": "a14e9987",
   "metadata": {},
   "outputs": [],
   "source": [
    "def remove_accented_chars(x):\n",
    "    x = unicodedata.normalize('NFKD', x).encode('ascii', errors = 'ignore').decode('utf-8',errors='ignore')\n",
    "    return(x)"
   ]
  },
  {
   "cell_type": "code",
   "execution_count": 233,
   "id": "ac0f208d",
   "metadata": {},
   "outputs": [],
   "source": [
    "txt = 'such as résumé and tête-à-tête'"
   ]
  },
  {
   "cell_type": "code",
   "execution_count": 235,
   "id": "e1cda891",
   "metadata": {},
   "outputs": [
    {
     "data": {
      "text/plain": [
       "'such as resume and tete-a-tete'"
      ]
     },
     "execution_count": 235,
     "metadata": {},
     "output_type": "execute_result"
    }
   ],
   "source": [
    "remove_accented_chars(txt)"
   ]
  },
  {
   "cell_type": "code",
   "execution_count": 237,
   "id": "6c12e5a2",
   "metadata": {},
   "outputs": [],
   "source": [
    "data['twitts'] = data['twitts'].apply(lambda x:remove_accented_chars(x) )"
   ]
  },
  {
   "cell_type": "markdown",
   "id": "983dcb40",
   "metadata": {},
   "source": [
    "## Removing Stop Words"
   ]
  },
  {
   "cell_type": "code",
   "execution_count": 238,
   "id": "969cf78e",
   "metadata": {},
   "outputs": [],
   "source": [
    "text = 'Are there any stop words in the text give to us?'"
   ]
  },
  {
   "cell_type": "code",
   "execution_count": 240,
   "id": "5736c41f",
   "metadata": {},
   "outputs": [
    {
     "data": {
      "text/plain": [
       "['Are', 'stop', 'words', 'text', 'us?']"
      ]
     },
     "execution_count": 240,
     "metadata": {},
     "output_type": "execute_result"
    }
   ],
   "source": [
    "[t for t in text.split() if t not in stopwords]\n",
    "\n",
    "# Below are the only words that are not the part of stop words"
   ]
  },
  {
   "cell_type": "code",
   "execution_count": 243,
   "id": "ce4deff4",
   "metadata": {},
   "outputs": [],
   "source": [
    "#stopwords"
   ]
  },
  {
   "cell_type": "code",
   "execution_count": 242,
   "id": "e4e29e6a",
   "metadata": {},
   "outputs": [
    {
     "data": {
      "text/plain": [
       "326"
      ]
     },
     "execution_count": 242,
     "metadata": {},
     "output_type": "execute_result"
    }
   ],
   "source": [
    "len(stopwords)"
   ]
  },
  {
   "cell_type": "code",
   "execution_count": 244,
   "id": "08cf800c",
   "metadata": {},
   "outputs": [
    {
     "data": {
      "text/plain": [
       "'Are stop words text us?'"
      ]
     },
     "execution_count": 244,
     "metadata": {},
     "output_type": "execute_result"
    }
   ],
   "source": [
    "' '.join([t for t in text.split() if t not in stopwords])"
   ]
  },
  {
   "cell_type": "code",
   "execution_count": 247,
   "id": "c38ade51",
   "metadata": {},
   "outputs": [],
   "source": [
    "data['twitts_no_stopwords'] = data['twitts'].apply(lambda x:' '.join([t for t in x.split() if t not in stopwords]) )"
   ]
  },
  {
   "cell_type": "code",
   "execution_count": 248,
   "id": "6c1e88fa",
   "metadata": {},
   "outputs": [
    {
     "data": {
      "text/html": [
       "<div>\n",
       "<style scoped>\n",
       "    .dataframe tbody tr th:only-of-type {\n",
       "        vertical-align: middle;\n",
       "    }\n",
       "\n",
       "    .dataframe tbody tr th {\n",
       "        vertical-align: top;\n",
       "    }\n",
       "\n",
       "    .dataframe thead th {\n",
       "        text-align: right;\n",
       "    }\n",
       "</style>\n",
       "<table border=\"1\" class=\"dataframe\">\n",
       "  <thead>\n",
       "    <tr style=\"text-align: right;\">\n",
       "      <th></th>\n",
       "      <th>twitts</th>\n",
       "      <th>sentiment</th>\n",
       "      <th>word_count</th>\n",
       "      <th>char_count</th>\n",
       "      <th>avg_word_len</th>\n",
       "      <th>stop_words_count</th>\n",
       "      <th>hashtasg_count</th>\n",
       "      <th>mention_count</th>\n",
       "      <th>numeric_count</th>\n",
       "      <th>upper_counts</th>\n",
       "      <th>emails</th>\n",
       "      <th>email_counts</th>\n",
       "      <th>url_flag</th>\n",
       "      <th>twitts_no_stopwords</th>\n",
       "    </tr>\n",
       "  </thead>\n",
       "  <tbody>\n",
       "    <tr>\n",
       "      <th>2909</th>\n",
       "      <td>quotold computers freak me outquot haha chuckmemondays chuck</td>\n",
       "      <td>1</td>\n",
       "      <td>8</td>\n",
       "      <td>61</td>\n",
       "      <td>7.625000</td>\n",
       "      <td>1</td>\n",
       "      <td>2</td>\n",
       "      <td>0</td>\n",
       "      <td>0</td>\n",
       "      <td>0</td>\n",
       "      <td>[]</td>\n",
       "      <td>0</td>\n",
       "      <td>0</td>\n",
       "      <td>quotold computers freak outquot haha chuckmemondays chuck</td>\n",
       "    </tr>\n",
       "    <tr>\n",
       "      <th>2923</th>\n",
       "      <td>bgstrowger also please note that as you had guests i was exceptionally quiet at kicking out time it was leigh that shouted not me</td>\n",
       "      <td>1</td>\n",
       "      <td>24</td>\n",
       "      <td>111</td>\n",
       "      <td>4.625000</td>\n",
       "      <td>12</td>\n",
       "      <td>0</td>\n",
       "      <td>1</td>\n",
       "      <td>0</td>\n",
       "      <td>1</td>\n",
       "      <td>[]</td>\n",
       "      <td>0</td>\n",
       "      <td>0</td>\n",
       "      <td>bgstrowger note guests exceptionally quiet kicking time leigh shouted</td>\n",
       "    </tr>\n",
       "    <tr>\n",
       "      <th>3934</th>\n",
       "      <td>tweetakeet that bathrobe is actually a beach robe coverup used to belong to my mother</td>\n",
       "      <td>1</td>\n",
       "      <td>15</td>\n",
       "      <td>73</td>\n",
       "      <td>4.866667</td>\n",
       "      <td>5</td>\n",
       "      <td>0</td>\n",
       "      <td>1</td>\n",
       "      <td>0</td>\n",
       "      <td>0</td>\n",
       "      <td>[]</td>\n",
       "      <td>0</td>\n",
       "      <td>0</td>\n",
       "      <td>tweetakeet bathrobe actually beach robe coverup belong mother</td>\n",
       "    </tr>\n",
       "    <tr>\n",
       "      <th>2069</th>\n",
       "      <td>morning twitterverse hope you are all doing good im off soon</td>\n",
       "      <td>1</td>\n",
       "      <td>12</td>\n",
       "      <td>57</td>\n",
       "      <td>4.750000</td>\n",
       "      <td>5</td>\n",
       "      <td>0</td>\n",
       "      <td>0</td>\n",
       "      <td>0</td>\n",
       "      <td>0</td>\n",
       "      <td>[]</td>\n",
       "      <td>0</td>\n",
       "      <td>0</td>\n",
       "      <td>morning twitterverse hope good im soon</td>\n",
       "    </tr>\n",
       "    <tr>\n",
       "      <th>2164</th>\n",
       "      <td>jaespera miss u know what ur getting for ur barfday lol or wait u dont lol</td>\n",
       "      <td>1</td>\n",
       "      <td>16</td>\n",
       "      <td>63</td>\n",
       "      <td>3.937500</td>\n",
       "      <td>3</td>\n",
       "      <td>0</td>\n",
       "      <td>1</td>\n",
       "      <td>0</td>\n",
       "      <td>1</td>\n",
       "      <td>[]</td>\n",
       "      <td>0</td>\n",
       "      <td>0</td>\n",
       "      <td>jaespera miss u know ur getting ur barfday lol wait u dont lol</td>\n",
       "    </tr>\n",
       "  </tbody>\n",
       "</table>\n",
       "</div>"
      ],
      "text/plain": [
       "                                                                                                                                 twitts  \\\n",
       "2909                                                                       quotold computers freak me outquot haha chuckmemondays chuck   \n",
       "2923  bgstrowger also please note that as you had guests i was exceptionally quiet at kicking out time it was leigh that shouted not me   \n",
       "3934                                              tweetakeet that bathrobe is actually a beach robe coverup used to belong to my mother   \n",
       "2069                                                                       morning twitterverse hope you are all doing good im off soon   \n",
       "2164                                                         jaespera miss u know what ur getting for ur barfday lol or wait u dont lol   \n",
       "\n",
       "      sentiment  word_count  char_count  avg_word_len  stop_words_count  \\\n",
       "2909          1           8          61      7.625000                 1   \n",
       "2923          1          24         111      4.625000                12   \n",
       "3934          1          15          73      4.866667                 5   \n",
       "2069          1          12          57      4.750000                 5   \n",
       "2164          1          16          63      3.937500                 3   \n",
       "\n",
       "      hashtasg_count  mention_count  numeric_count  upper_counts emails  \\\n",
       "2909               2              0              0             0     []   \n",
       "2923               0              1              0             1     []   \n",
       "3934               0              1              0             0     []   \n",
       "2069               0              0              0             0     []   \n",
       "2164               0              1              0             1     []   \n",
       "\n",
       "      email_counts  url_flag  \\\n",
       "2909             0         0   \n",
       "2923             0         0   \n",
       "3934             0         0   \n",
       "2069             0         0   \n",
       "2164             0         0   \n",
       "\n",
       "                                                        twitts_no_stopwords  \n",
       "2909              quotold computers freak outquot haha chuckmemondays chuck  \n",
       "2923  bgstrowger note guests exceptionally quiet kicking time leigh shouted  \n",
       "3934          tweetakeet bathrobe actually beach robe coverup belong mother  \n",
       "2069                                 morning twitterverse hope good im soon  \n",
       "2164         jaespera miss u know ur getting ur barfday lol wait u dont lol  "
      ]
     },
     "execution_count": 248,
     "metadata": {},
     "output_type": "execute_result"
    }
   ],
   "source": [
    "data.sample(5)"
   ]
  },
  {
   "cell_type": "markdown",
   "id": "21eb05e5",
   "metadata": {},
   "source": [
    "## Convert Into Base or Root Form"
   ]
  },
  {
   "cell_type": "code",
   "execution_count": 249,
   "id": "28d123a2",
   "metadata": {},
   "outputs": [],
   "source": [
    "text = \"I am going for shopping\""
   ]
  },
  {
   "cell_type": "code",
   "execution_count": 250,
   "id": "2db4db01",
   "metadata": {},
   "outputs": [],
   "source": [
    "def base_form(x):\n",
    "    x = str(x)\n",
    "    xlist = []\n",
    "    doc = nlp(x)\n",
    "    \n",
    "    for token in doc:\n",
    "        var_lemma = token.lemma_\n",
    "        xlist.append(var_lemma)\n",
    "        \n",
    "    return ' '.join(xlist)\n",
    "        "
   ]
  },
  {
   "cell_type": "code",
   "execution_count": 253,
   "id": "97cf0e59",
   "metadata": {},
   "outputs": [
    {
     "data": {
      "text/plain": [
       "'I be go for shop'"
      ]
     },
     "execution_count": 253,
     "metadata": {},
     "output_type": "execute_result"
    }
   ],
   "source": [
    "base_form(text)"
   ]
  },
  {
   "cell_type": "code",
   "execution_count": 254,
   "id": "958c04c0",
   "metadata": {},
   "outputs": [],
   "source": [
    "# If I dont want to convert pronoun or be to its root\n",
    "\n",
    "def base_form(x):\n",
    "    x = str(x)\n",
    "    xlist = []\n",
    "    doc = nlp(x)\n",
    "    \n",
    "    for token in doc:\n",
    "        var_lemma = token.lemma_\n",
    "        if var_lemma == 'PROP' or var_lemma =='be':\n",
    "            var_lemma = token.text\n",
    "        xlist.append(var_lemma)\n",
    "        \n",
    "    return ' '.join(xlist)"
   ]
  },
  {
   "cell_type": "code",
   "execution_count": 255,
   "id": "337143e6",
   "metadata": {},
   "outputs": [
    {
     "data": {
      "text/plain": [
       "'I am go for shop'"
      ]
     },
     "execution_count": 255,
     "metadata": {},
     "output_type": "execute_result"
    }
   ],
   "source": [
    "base_form(text)"
   ]
  },
  {
   "cell_type": "code",
   "execution_count": 257,
   "id": "46d297ab",
   "metadata": {},
   "outputs": [
    {
     "name": "stdout",
     "output_type": "stream",
     "text": [
      "36.7 s ± 378 ms per loop (mean ± std. dev. of 7 runs, 1 loop each)\n"
     ]
    }
   ],
   "source": [
    "%%timeit\n",
    "\n",
    "data['twitts'] = data['twitts'].apply(lambda x: base_form(x))"
   ]
  },
  {
   "cell_type": "code",
   "execution_count": 258,
   "id": "15c8ebe5",
   "metadata": {},
   "outputs": [
    {
     "data": {
      "text/html": [
       "<div>\n",
       "<style scoped>\n",
       "    .dataframe tbody tr th:only-of-type {\n",
       "        vertical-align: middle;\n",
       "    }\n",
       "\n",
       "    .dataframe tbody tr th {\n",
       "        vertical-align: top;\n",
       "    }\n",
       "\n",
       "    .dataframe thead th {\n",
       "        text-align: right;\n",
       "    }\n",
       "</style>\n",
       "<table border=\"1\" class=\"dataframe\">\n",
       "  <thead>\n",
       "    <tr style=\"text-align: right;\">\n",
       "      <th></th>\n",
       "      <th>twitts</th>\n",
       "      <th>sentiment</th>\n",
       "      <th>word_count</th>\n",
       "      <th>char_count</th>\n",
       "      <th>avg_word_len</th>\n",
       "      <th>stop_words_count</th>\n",
       "      <th>hashtasg_count</th>\n",
       "      <th>mention_count</th>\n",
       "      <th>numeric_count</th>\n",
       "      <th>upper_counts</th>\n",
       "      <th>emails</th>\n",
       "      <th>email_counts</th>\n",
       "      <th>url_flag</th>\n",
       "      <th>twitts_no_stopwords</th>\n",
       "    </tr>\n",
       "  </thead>\n",
       "  <tbody>\n",
       "    <tr>\n",
       "      <th>2152</th>\n",
       "      <td>respectthewest thank you hope all is well with you</td>\n",
       "      <td>1</td>\n",
       "      <td>9</td>\n",
       "      <td>44</td>\n",
       "      <td>4.888889</td>\n",
       "      <td>5</td>\n",
       "      <td>0</td>\n",
       "      <td>1</td>\n",
       "      <td>0</td>\n",
       "      <td>0</td>\n",
       "      <td>[]</td>\n",
       "      <td>0</td>\n",
       "      <td>0</td>\n",
       "      <td>respectthewest thank hope</td>\n",
       "    </tr>\n",
       "    <tr>\n",
       "      <th>1612</th>\n",
       "      <td>shaycarl I m go to make you a banner out of my hair waitthat would be grossumm sorry that is all I get good luck though p</td>\n",
       "      <td>0</td>\n",
       "      <td>24</td>\n",
       "      <td>108</td>\n",
       "      <td>4.500000</td>\n",
       "      <td>10</td>\n",
       "      <td>0</td>\n",
       "      <td>1</td>\n",
       "      <td>0</td>\n",
       "      <td>2</td>\n",
       "      <td>[]</td>\n",
       "      <td>0</td>\n",
       "      <td>0</td>\n",
       "      <td>shaycarl im gonna banner hair waitthat grossumm sorry got good luck p</td>\n",
       "    </tr>\n",
       "    <tr>\n",
       "      <th>22</th>\n",
       "      <td>back niggly again today boo so could not train as plan only 15 day til race for life eeek</td>\n",
       "      <td>0</td>\n",
       "      <td>18</td>\n",
       "      <td>81</td>\n",
       "      <td>4.500000</td>\n",
       "      <td>5</td>\n",
       "      <td>0</td>\n",
       "      <td>0</td>\n",
       "      <td>1</td>\n",
       "      <td>0</td>\n",
       "      <td>[]</td>\n",
       "      <td>0</td>\n",
       "      <td>0</td>\n",
       "      <td>niggly today boo train planned 15 days til race life eeek</td>\n",
       "    </tr>\n",
       "    <tr>\n",
       "      <th>2684</th>\n",
       "      <td>book an appoitment for a pedicure</td>\n",
       "      <td>1</td>\n",
       "      <td>6</td>\n",
       "      <td>31</td>\n",
       "      <td>5.166667</td>\n",
       "      <td>3</td>\n",
       "      <td>0</td>\n",
       "      <td>0</td>\n",
       "      <td>0</td>\n",
       "      <td>0</td>\n",
       "      <td>[]</td>\n",
       "      <td>0</td>\n",
       "      <td>0</td>\n",
       "      <td>booking appoitment pedicure</td>\n",
       "    </tr>\n",
       "  </tbody>\n",
       "</table>\n",
       "</div>"
      ],
      "text/plain": [
       "                                                                                                                         twitts  \\\n",
       "2152                                                                         respectthewest thank you hope all is well with you   \n",
       "1612  shaycarl I m go to make you a banner out of my hair waitthat would be grossumm sorry that is all I get good luck though p   \n",
       "22                                    back niggly again today boo so could not train as plan only 15 day til race for life eeek   \n",
       "2684                                                                                          book an appoitment for a pedicure   \n",
       "\n",
       "      sentiment  word_count  char_count  avg_word_len  stop_words_count  \\\n",
       "2152          1           9          44      4.888889                 5   \n",
       "1612          0          24         108      4.500000                10   \n",
       "22            0          18          81      4.500000                 5   \n",
       "2684          1           6          31      5.166667                 3   \n",
       "\n",
       "      hashtasg_count  mention_count  numeric_count  upper_counts emails  \\\n",
       "2152               0              1              0             0     []   \n",
       "1612               0              1              0             2     []   \n",
       "22                 0              0              1             0     []   \n",
       "2684               0              0              0             0     []   \n",
       "\n",
       "      email_counts  url_flag  \\\n",
       "2152             0         0   \n",
       "1612             0         0   \n",
       "22               0         0   \n",
       "2684             0         0   \n",
       "\n",
       "                                                        twitts_no_stopwords  \n",
       "2152                                              respectthewest thank hope  \n",
       "1612  shaycarl im gonna banner hair waitthat grossumm sorry got good luck p  \n",
       "22                niggly today boo train planned 15 days til race life eeek  \n",
       "2684                                            booking appoitment pedicure  "
      ]
     },
     "execution_count": 258,
     "metadata": {},
     "output_type": "execute_result"
    }
   ],
   "source": [
    "data.sample(4)"
   ]
  },
  {
   "cell_type": "markdown",
   "id": "1e300b2a",
   "metadata": {},
   "source": [
    "## Removal Common Words"
   ]
  },
  {
   "cell_type": "code",
   "execution_count": 260,
   "id": "4d9947e4",
   "metadata": {},
   "outputs": [],
   "source": [
    "text = ' '.join(data['twitts'])"
   ]
  },
  {
   "cell_type": "code",
   "execution_count": 262,
   "id": "e8aa4963",
   "metadata": {},
   "outputs": [
    {
     "data": {
      "text/plain": [
       "271804"
      ]
     },
     "execution_count": 262,
     "metadata": {},
     "output_type": "execute_result"
    }
   ],
   "source": [
    "# Number of chars in the text\n",
    "len(text)"
   ]
  },
  {
   "cell_type": "code",
   "execution_count": 265,
   "id": "d7860827",
   "metadata": {},
   "outputs": [
    {
     "data": {
      "text/plain": [
       "54227"
      ]
     },
     "execution_count": 265,
     "metadata": {},
     "output_type": "execute_result"
    }
   ],
   "source": [
    "# Number of words in the text\n",
    "\n",
    "len(text.split())"
   ]
  },
  {
   "cell_type": "code",
   "execution_count": 269,
   "id": "2148bc0a",
   "metadata": {},
   "outputs": [],
   "source": [
    "text = text.split()"
   ]
  },
  {
   "cell_type": "code",
   "execution_count": 271,
   "id": "0a22cf10",
   "metadata": {},
   "outputs": [
    {
     "data": {
      "text/plain": [
       "I               2914\n",
       "to              1457\n",
       "the             1299\n",
       "a                968\n",
       "is               908\n",
       "                ... \n",
       "rudd               1\n",
       "ato                1\n",
       "cruzer             1\n",
       "firefoxafter       1\n",
       "rerunlovin         1\n",
       "Length: 9117, dtype: int64"
      ]
     },
     "execution_count": 271,
     "metadata": {},
     "output_type": "execute_result"
    }
   ],
   "source": [
    "# Counting occurence of words using value_counts\n",
    "\n",
    "freq_word = pd.Series(text).value_counts()\n",
    "freq_word"
   ]
  },
  {
   "cell_type": "code",
   "execution_count": 273,
   "id": "0c38a99c",
   "metadata": {},
   "outputs": [],
   "source": [
    "# Getting the top 20 words\n",
    "\n",
    "fwtop20 = freq_word.head(20)"
   ]
  },
  {
   "cell_type": "code",
   "execution_count": 275,
   "id": "a0faa1f3",
   "metadata": {},
   "outputs": [
    {
     "data": {
      "text/plain": [
       "I       2914\n",
       "to      1457\n",
       "the     1299\n",
       "a        968\n",
       "is       908\n",
       "not      891\n",
       "my       824\n",
       "you      795\n",
       "it       735\n",
       "and      709\n",
       "have     623\n",
       "do       609\n",
       "in       571\n",
       "for      521\n",
       "of       482\n",
       "m        474\n",
       "go       469\n",
       "that     458\n",
       "get      450\n",
       "on       427\n",
       "dtype: int64"
      ]
     },
     "execution_count": 275,
     "metadata": {},
     "output_type": "execute_result"
    }
   ],
   "source": [
    "fwtop20\n",
    "# These are mostly stopwords\n",
    "# Most of the words in the text are generally from stop words"
   ]
  },
  {
   "cell_type": "code",
   "execution_count": 279,
   "id": "ea1494ba",
   "metadata": {},
   "outputs": [],
   "source": [
    "data['twitts_nf']= data['twitts'].apply(lambda x:' '.join([t for t in x.split() if t not in fwtop20]) )"
   ]
  },
  {
   "cell_type": "code",
   "execution_count": 280,
   "id": "5f77ece9",
   "metadata": {},
   "outputs": [
    {
     "data": {
      "text/html": [
       "<div>\n",
       "<style scoped>\n",
       "    .dataframe tbody tr th:only-of-type {\n",
       "        vertical-align: middle;\n",
       "    }\n",
       "\n",
       "    .dataframe tbody tr th {\n",
       "        vertical-align: top;\n",
       "    }\n",
       "\n",
       "    .dataframe thead th {\n",
       "        text-align: right;\n",
       "    }\n",
       "</style>\n",
       "<table border=\"1\" class=\"dataframe\">\n",
       "  <thead>\n",
       "    <tr style=\"text-align: right;\">\n",
       "      <th></th>\n",
       "      <th>twitts</th>\n",
       "      <th>sentiment</th>\n",
       "      <th>word_count</th>\n",
       "      <th>char_count</th>\n",
       "      <th>avg_word_len</th>\n",
       "      <th>stop_words_count</th>\n",
       "      <th>hashtasg_count</th>\n",
       "      <th>mention_count</th>\n",
       "      <th>numeric_count</th>\n",
       "      <th>upper_counts</th>\n",
       "      <th>emails</th>\n",
       "      <th>email_counts</th>\n",
       "      <th>url_flag</th>\n",
       "      <th>twitts_no_stopwords</th>\n",
       "      <th>twitts_nf</th>\n",
       "    </tr>\n",
       "  </thead>\n",
       "  <tbody>\n",
       "    <tr>\n",
       "      <th>2627</th>\n",
       "      <td>oh sorrygood morning twitterbug</td>\n",
       "      <td>1</td>\n",
       "      <td>4</td>\n",
       "      <td>33</td>\n",
       "      <td>8.250000</td>\n",
       "      <td>0</td>\n",
       "      <td>0</td>\n",
       "      <td>0</td>\n",
       "      <td>0</td>\n",
       "      <td>0</td>\n",
       "      <td>[]</td>\n",
       "      <td>0</td>\n",
       "      <td>0</td>\n",
       "      <td>oh sorrygood morning twitterbugs</td>\n",
       "      <td>oh sorrygood morning twitterbug</td>\n",
       "    </tr>\n",
       "    <tr>\n",
       "      <th>2846</th>\n",
       "      <td>I get flower I feel so special</td>\n",
       "      <td>1</td>\n",
       "      <td>7</td>\n",
       "      <td>27</td>\n",
       "      <td>3.857143</td>\n",
       "      <td>1</td>\n",
       "      <td>0</td>\n",
       "      <td>0</td>\n",
       "      <td>0</td>\n",
       "      <td>2</td>\n",
       "      <td>[]</td>\n",
       "      <td>0</td>\n",
       "      <td>0</td>\n",
       "      <td>got flowers feel special</td>\n",
       "      <td>flower feel so special</td>\n",
       "    </tr>\n",
       "    <tr>\n",
       "      <th>2595</th>\n",
       "      <td>twittopher that is well good to hear you two are have a nice relaxing sunday evening</td>\n",
       "      <td>1</td>\n",
       "      <td>15</td>\n",
       "      <td>75</td>\n",
       "      <td>5.000000</td>\n",
       "      <td>5</td>\n",
       "      <td>0</td>\n",
       "      <td>1</td>\n",
       "      <td>0</td>\n",
       "      <td>0</td>\n",
       "      <td>[]</td>\n",
       "      <td>0</td>\n",
       "      <td>0</td>\n",
       "      <td>twittopher better good hear having nice relaxing sunday evening</td>\n",
       "      <td>twittopher well good hear two are nice relaxing sunday evening</td>\n",
       "    </tr>\n",
       "    <tr>\n",
       "      <th>1509</th>\n",
       "      <td>asktechnetuk silverlight control on teh conference presentation not always present so no full screen or fastfwdrvrse</td>\n",
       "      <td>0</td>\n",
       "      <td>16</td>\n",
       "      <td>106</td>\n",
       "      <td>6.625000</td>\n",
       "      <td>7</td>\n",
       "      <td>0</td>\n",
       "      <td>1</td>\n",
       "      <td>0</td>\n",
       "      <td>0</td>\n",
       "      <td>[]</td>\n",
       "      <td>0</td>\n",
       "      <td>0</td>\n",
       "      <td>asktechnetuk silverlight controls teh conference presentations present screen fastfwdrvrse</td>\n",
       "      <td>asktechnetuk silverlight control teh conference presentation always present so no full screen or fastfwdrvrse</td>\n",
       "    </tr>\n",
       "  </tbody>\n",
       "</table>\n",
       "</div>"
      ],
      "text/plain": [
       "                                                                                                                    twitts  \\\n",
       "2627                                                                                       oh sorrygood morning twitterbug   \n",
       "2846                                                                                        I get flower I feel so special   \n",
       "2595                                  twittopher that is well good to hear you two are have a nice relaxing sunday evening   \n",
       "1509  asktechnetuk silverlight control on teh conference presentation not always present so no full screen or fastfwdrvrse   \n",
       "\n",
       "      sentiment  word_count  char_count  avg_word_len  stop_words_count  \\\n",
       "2627          1           4          33      8.250000                 0   \n",
       "2846          1           7          27      3.857143                 1   \n",
       "2595          1          15          75      5.000000                 5   \n",
       "1509          0          16         106      6.625000                 7   \n",
       "\n",
       "      hashtasg_count  mention_count  numeric_count  upper_counts emails  \\\n",
       "2627               0              0              0             0     []   \n",
       "2846               0              0              0             2     []   \n",
       "2595               0              1              0             0     []   \n",
       "1509               0              1              0             0     []   \n",
       "\n",
       "      email_counts  url_flag  \\\n",
       "2627             0         0   \n",
       "2846             0         0   \n",
       "2595             0         0   \n",
       "1509             0         0   \n",
       "\n",
       "                                                                             twitts_no_stopwords  \\\n",
       "2627                                                            oh sorrygood morning twitterbugs   \n",
       "2846                                                                    got flowers feel special   \n",
       "2595                             twittopher better good hear having nice relaxing sunday evening   \n",
       "1509  asktechnetuk silverlight controls teh conference presentations present screen fastfwdrvrse   \n",
       "\n",
       "                                                                                                          twitts_nf  \n",
       "2627                                                                                oh sorrygood morning twitterbug  \n",
       "2846                                                                                         flower feel so special  \n",
       "2595                                                 twittopher well good hear two are nice relaxing sunday evening  \n",
       "1509  asktechnetuk silverlight control teh conference presentation always present so no full screen or fastfwdrvrse  "
      ]
     },
     "execution_count": 280,
     "metadata": {},
     "output_type": "execute_result"
    }
   ],
   "source": [
    "data.sample(4)"
   ]
  },
  {
   "cell_type": "markdown",
   "id": "ab95159b",
   "metadata": {},
   "source": [
    "## Removing Rare Occuring Words"
   ]
  },
  {
   "cell_type": "code",
   "execution_count": 281,
   "id": "b988b61d",
   "metadata": {},
   "outputs": [
    {
     "data": {
      "text/plain": [
       "ubat             1\n",
       "ohnotheydidnt    1\n",
       "loveanalove      1\n",
       "inform           1\n",
       "dote             1\n",
       "possibly         1\n",
       "dollparts666     1\n",
       "mp3              1\n",
       "measurement      1\n",
       "aubreyoday       1\n",
       "strand           1\n",
       "ronterrell       1\n",
       "anatomny         1\n",
       "greys            1\n",
       "eft              1\n",
       "rudd             1\n",
       "ato              1\n",
       "cruzer           1\n",
       "firefoxafter     1\n",
       "rerunlovin       1\n",
       "dtype: int64"
      ]
     },
     "execution_count": 281,
     "metadata": {},
     "output_type": "execute_result"
    }
   ],
   "source": [
    "rare20 = freq_word.tail(20)\n",
    "rare20"
   ]
  },
  {
   "cell_type": "code",
   "execution_count": 283,
   "id": "f3a51843",
   "metadata": {},
   "outputs": [],
   "source": [
    "data['twitts_nf']= data['twitts_nf'].apply(lambda x:' '.join([t for t in x.split() if t not in rare20]) )"
   ]
  },
  {
   "cell_type": "code",
   "execution_count": 284,
   "id": "f097c900",
   "metadata": {},
   "outputs": [
    {
     "data": {
      "text/html": [
       "<div>\n",
       "<style scoped>\n",
       "    .dataframe tbody tr th:only-of-type {\n",
       "        vertical-align: middle;\n",
       "    }\n",
       "\n",
       "    .dataframe tbody tr th {\n",
       "        vertical-align: top;\n",
       "    }\n",
       "\n",
       "    .dataframe thead th {\n",
       "        text-align: right;\n",
       "    }\n",
       "</style>\n",
       "<table border=\"1\" class=\"dataframe\">\n",
       "  <thead>\n",
       "    <tr style=\"text-align: right;\">\n",
       "      <th></th>\n",
       "      <th>twitts</th>\n",
       "      <th>sentiment</th>\n",
       "      <th>word_count</th>\n",
       "      <th>char_count</th>\n",
       "      <th>avg_word_len</th>\n",
       "      <th>stop_words_count</th>\n",
       "      <th>hashtasg_count</th>\n",
       "      <th>mention_count</th>\n",
       "      <th>numeric_count</th>\n",
       "      <th>upper_counts</th>\n",
       "      <th>emails</th>\n",
       "      <th>email_counts</th>\n",
       "      <th>url_flag</th>\n",
       "      <th>twitts_no_stopwords</th>\n",
       "      <th>twitts_nf</th>\n",
       "    </tr>\n",
       "  </thead>\n",
       "  <tbody>\n",
       "    <tr>\n",
       "      <th>1661</th>\n",
       "      <td>ms longsine mrs ray is teach sophmore english too bad I m in honor but she say I could come back and decorate her room again</td>\n",
       "      <td>0</td>\n",
       "      <td>25</td>\n",
       "      <td>113</td>\n",
       "      <td>4.520000</td>\n",
       "      <td>9</td>\n",
       "      <td>0</td>\n",
       "      <td>0</td>\n",
       "      <td>0</td>\n",
       "      <td>0</td>\n",
       "      <td>[]</td>\n",
       "      <td>0</td>\n",
       "      <td>0</td>\n",
       "      <td>ms longsine mrs ray teaching sophmore english bad im honors said come decorate room</td>\n",
       "      <td>ms longsine mrs ray teach sophmore english too bad honor but she say could come back decorate her room again</td>\n",
       "    </tr>\n",
       "    <tr>\n",
       "      <th>1667</th>\n",
       "      <td>officialtila how come no reply back tila</td>\n",
       "      <td>0</td>\n",
       "      <td>7</td>\n",
       "      <td>36</td>\n",
       "      <td>5.142857</td>\n",
       "      <td>3</td>\n",
       "      <td>0</td>\n",
       "      <td>1</td>\n",
       "      <td>0</td>\n",
       "      <td>0</td>\n",
       "      <td>[]</td>\n",
       "      <td>0</td>\n",
       "      <td>0</td>\n",
       "      <td>officialtila come reply tila</td>\n",
       "      <td>officialtila how come no reply back tila</td>\n",
       "    </tr>\n",
       "    <tr>\n",
       "      <th>569</th>\n",
       "      <td>up at 8 am to walk my puppy just recieve my to do list from the fam hello I m an adult officially</td>\n",
       "      <td>0</td>\n",
       "      <td>22</td>\n",
       "      <td>81</td>\n",
       "      <td>3.681818</td>\n",
       "      <td>10</td>\n",
       "      <td>0</td>\n",
       "      <td>0</td>\n",
       "      <td>1</td>\n",
       "      <td>0</td>\n",
       "      <td>[]</td>\n",
       "      <td>0</td>\n",
       "      <td>0</td>\n",
       "      <td>8 walk puppies recieved list fam hello im adult officially</td>\n",
       "      <td>up at 8 am walk puppy just recieve list from fam hello an adult officially</td>\n",
       "    </tr>\n",
       "    <tr>\n",
       "      <th>1937</th>\n",
       "      <td>tracking do not go yet my room smell gross how do one clean a mouse pad</td>\n",
       "      <td>0</td>\n",
       "      <td>16</td>\n",
       "      <td>65</td>\n",
       "      <td>4.062500</td>\n",
       "      <td>4</td>\n",
       "      <td>0</td>\n",
       "      <td>0</td>\n",
       "      <td>0</td>\n",
       "      <td>0</td>\n",
       "      <td>[]</td>\n",
       "      <td>0</td>\n",
       "      <td>0</td>\n",
       "      <td>tracking room smells gross clean mouse pad</td>\n",
       "      <td>tracking yet room smell gross how one clean mouse pad</td>\n",
       "    </tr>\n",
       "    <tr>\n",
       "      <th>3952</th>\n",
       "      <td>badmouth someone I really really really hate liar</td>\n",
       "      <td>1</td>\n",
       "      <td>8</td>\n",
       "      <td>48</td>\n",
       "      <td>6.000000</td>\n",
       "      <td>0</td>\n",
       "      <td>0</td>\n",
       "      <td>0</td>\n",
       "      <td>0</td>\n",
       "      <td>6</td>\n",
       "      <td>[]</td>\n",
       "      <td>0</td>\n",
       "      <td>0</td>\n",
       "      <td>badmouthing hate liars</td>\n",
       "      <td>badmouth someone really really really hate liar</td>\n",
       "    </tr>\n",
       "  </tbody>\n",
       "</table>\n",
       "</div>"
      ],
      "text/plain": [
       "                                                                                                                            twitts  \\\n",
       "1661  ms longsine mrs ray is teach sophmore english too bad I m in honor but she say I could come back and decorate her room again   \n",
       "1667                                                                                      officialtila how come no reply back tila   \n",
       "569                              up at 8 am to walk my puppy just recieve my to do list from the fam hello I m an adult officially   \n",
       "1937                                                       tracking do not go yet my room smell gross how do one clean a mouse pad   \n",
       "3952                                                                             badmouth someone I really really really hate liar   \n",
       "\n",
       "      sentiment  word_count  char_count  avg_word_len  stop_words_count  \\\n",
       "1661          0          25         113      4.520000                 9   \n",
       "1667          0           7          36      5.142857                 3   \n",
       "569           0          22          81      3.681818                10   \n",
       "1937          0          16          65      4.062500                 4   \n",
       "3952          1           8          48      6.000000                 0   \n",
       "\n",
       "      hashtasg_count  mention_count  numeric_count  upper_counts emails  \\\n",
       "1661               0              0              0             0     []   \n",
       "1667               0              1              0             0     []   \n",
       "569                0              0              1             0     []   \n",
       "1937               0              0              0             0     []   \n",
       "3952               0              0              0             6     []   \n",
       "\n",
       "      email_counts  url_flag  \\\n",
       "1661             0         0   \n",
       "1667             0         0   \n",
       "569              0         0   \n",
       "1937             0         0   \n",
       "3952             0         0   \n",
       "\n",
       "                                                                      twitts_no_stopwords  \\\n",
       "1661  ms longsine mrs ray teaching sophmore english bad im honors said come decorate room   \n",
       "1667                                                         officialtila come reply tila   \n",
       "569                            8 walk puppies recieved list fam hello im adult officially   \n",
       "1937                                           tracking room smells gross clean mouse pad   \n",
       "3952                                                               badmouthing hate liars   \n",
       "\n",
       "                                                                                                         twitts_nf  \n",
       "1661  ms longsine mrs ray teach sophmore english too bad honor but she say could come back decorate her room again  \n",
       "1667                                                                      officialtila how come no reply back tila  \n",
       "569                                     up at 8 am walk puppy just recieve list from fam hello an adult officially  \n",
       "1937                                                         tracking yet room smell gross how one clean mouse pad  \n",
       "3952                                                               badmouth someone really really really hate liar  "
      ]
     },
     "execution_count": 284,
     "metadata": {},
     "output_type": "execute_result"
    }
   ],
   "source": [
    "data.sample(5)"
   ]
  },
  {
   "cell_type": "markdown",
   "id": "bb7a007d",
   "metadata": {},
   "source": [
    "## Word Cloud Visualisation"
   ]
  },
  {
   "cell_type": "code",
   "execution_count": 289,
   "id": "6bb15130",
   "metadata": {},
   "outputs": [],
   "source": [
    "from wordcloud import WordCloud\n",
    "import matplotlib.pyplot as plt\n"
   ]
  },
  {
   "cell_type": "code",
   "execution_count": 290,
   "id": "35f61d1f",
   "metadata": {},
   "outputs": [],
   "source": [
    "text = ' '.join(data['twitts_nf'])"
   ]
  },
  {
   "cell_type": "code",
   "execution_count": 291,
   "id": "dd1e3fe7",
   "metadata": {},
   "outputs": [
    {
     "data": {
      "text/plain": [
       "219376"
      ]
     },
     "execution_count": 291,
     "metadata": {},
     "output_type": "execute_result"
    }
   ],
   "source": [
    "len(text)"
   ]
  },
  {
   "cell_type": "code",
   "execution_count": 301,
   "id": "9bd87040",
   "metadata": {},
   "outputs": [],
   "source": [
    "wc = WordCloud(width=1000, height=500).generate(text)"
   ]
  },
  {
   "cell_type": "code",
   "execution_count": 302,
   "id": "75e0231b",
   "metadata": {},
   "outputs": [
    {
     "data": {
      "image/png": "[encoded data removed]",
      "text/plain": [
       "<Figure size 432x288 with 1 Axes>"
      ]
     },
     "metadata": {
      "needs_background": "light"
     },
     "output_type": "display_data"
    }
   ],
   "source": [
    "plt.imshow(wc)\n",
    "plt.axis('off')\n",
    "plt.show()"
   ]
  },
  {
   "cell_type": "markdown",
   "id": "a83902d1",
   "metadata": {},
   "source": [
    "## Spelling Correction"
   ]
  },
  {
   "cell_type": "code",
   "execution_count": 304,
   "id": "3f60eb77",
   "metadata": {},
   "outputs": [],
   "source": [
    "#from textblob import TextBlob"
   ]
  },
  {
   "cell_type": "code",
   "execution_count": 306,
   "id": "48a615a6",
   "metadata": {},
   "outputs": [],
   "source": [
    "text = 'I amm soooo Happpppy for yu'"
   ]
  },
  {
   "cell_type": "code",
   "execution_count": 307,
   "id": "b9643ca9",
   "metadata": {},
   "outputs": [
    {
     "data": {
      "text/plain": [
       "TextBlob(\"I am soon Happpppy for you\")"
      ]
     },
     "execution_count": 307,
     "metadata": {},
     "output_type": "execute_result"
    }
   ],
   "source": [
    "text_cor = TextBlob(text).correct()\n",
    "text_cor"
   ]
  },
  {
   "cell_type": "code",
   "execution_count": 308,
   "id": "00e68cc2",
   "metadata": {},
   "outputs": [],
   "source": [
    "text = 'Heyy Ar you goona goo thr?'"
   ]
  },
  {
   "cell_type": "code",
   "execution_count": 310,
   "id": "89213bad",
   "metadata": {},
   "outputs": [
    {
     "data": {
      "text/plain": [
       "TextBlob(\"Very Or you good go the?\")"
      ]
     },
     "execution_count": 310,
     "metadata": {},
     "output_type": "execute_result"
    }
   ],
   "source": [
    "text_cor = TextBlob(text).correct()\n",
    "text_cor\n",
    "# Trying hard to correct the spelling to the best I hope :)"
   ]
  },
  {
   "cell_type": "markdown",
   "id": "4b84009f",
   "metadata": {},
   "source": [
    "## Tokenization with Textblob"
   ]
  },
  {
   "cell_type": "code",
   "execution_count": 321,
   "id": "e8e1a739",
   "metadata": {},
   "outputs": [],
   "source": [
    "text = 'Hey I-like learning python#jumbo!! What about you?'"
   ]
  },
  {
   "cell_type": "code",
   "execution_count": 322,
   "id": "261d94df",
   "metadata": {},
   "outputs": [
    {
     "data": {
      "text/plain": [
       "WordList(['Hey', 'I-like', 'learning', 'python', 'jumbo', 'What', 'about', 'you'])"
      ]
     },
     "execution_count": 322,
     "metadata": {},
     "output_type": "execute_result"
    }
   ],
   "source": [
    "TextBlob(text).words\n",
    "# Special chars are removed"
   ]
  },
  {
   "cell_type": "code",
   "execution_count": 325,
   "id": "48d0d100",
   "metadata": {},
   "outputs": [
    {
     "data": {
      "text/plain": [
       "[Hey, I, -, like, learning, python#jumbo, !, !, What, about, you, ?]"
      ]
     },
     "execution_count": 325,
     "metadata": {},
     "output_type": "execute_result"
    }
   ],
   "source": [
    "mylist = []\n",
    "for token in nlp(text):\n",
    "    \n",
    "    mylist.append(token)\n",
    "mylist\n",
    "\n",
    "# Here its not removing special chars"
   ]
  },
  {
   "cell_type": "markdown",
   "id": "e93a80ae",
   "metadata": {},
   "source": [
    "## Detecting Nouns"
   ]
  },
  {
   "cell_type": "code",
   "execution_count": 331,
   "id": "7b7aa52a",
   "metadata": {},
   "outputs": [],
   "source": [
    "text = '''At PayPal (NASDAQ: PYPL), we believe that every person has the right to participate fully in the global economy. Our mission is to democratize financial services to ensure that everyone, regardless of background or economic standing, has access to affordable, convenient, and secure products and services to take control of their financial lives.\n",
    ".'''"
   ]
  },
  {
   "cell_type": "code",
   "execution_count": 332,
   "id": "388b59d5",
   "metadata": {},
   "outputs": [
    {
     "data": {
      "text/plain": [
       "'At PayPal (NASDAQ: PYPL), we believe that every person has the right to participate fully in the global economy. Our mission is to democratize financial services to ensure that everyone, regardless of background or economic standing, has access to affordable, convenient, and secure products and services to take control of their financial lives.\\n.'"
      ]
     },
     "execution_count": 332,
     "metadata": {},
     "output_type": "execute_result"
    }
   ],
   "source": [
    "text"
   ]
  },
  {
   "cell_type": "code",
   "execution_count": 333,
   "id": "b0073245",
   "metadata": {},
   "outputs": [],
   "source": [
    "doc = nlp(text)"
   ]
  },
  {
   "cell_type": "code",
   "execution_count": 334,
   "id": "c8c987c1",
   "metadata": {},
   "outputs": [
    {
     "data": {
      "text/plain": [
       "[PayPal,\n",
       " NASDAQ,\n",
       " PYPL,\n",
       " we,\n",
       " every person,\n",
       " the right,\n",
       " the global economy,\n",
       " Our mission,\n",
       " financial services,\n",
       " everyone,\n",
       " background,\n",
       " economic standing,\n",
       " access,\n",
       " affordable, convenient, and secure products,\n",
       " services,\n",
       " control,\n",
       " their financial lives]"
      ]
     },
     "execution_count": 334,
     "metadata": {},
     "output_type": "execute_result"
    }
   ],
   "source": [
    "mylist = []\n",
    "for noun in doc.noun_chunks:\n",
    "    mylist.append(noun)\n",
    "    \n",
    "mylist"
   ]
  },
  {
   "cell_type": "markdown",
   "id": "4bf5743d",
   "metadata": {},
   "source": [
    "## Language Translation & Detection\n",
    "### Need Google API for this"
   ]
  },
  {
   "cell_type": "code",
   "execution_count": 335,
   "id": "f5fd1188",
   "metadata": {},
   "outputs": [
    {
     "data": {
      "text/plain": [
       "'At PayPal (NASDAQ: PYPL), we believe that every person has the right to participate fully in the global economy. Our mission is to democratize financial services to ensure that everyone, regardless of background or economic standing, has access to affordable, convenient, and secure products and services to take control of their financial lives.\\n.'"
      ]
     },
     "execution_count": 335,
     "metadata": {},
     "output_type": "execute_result"
    }
   ],
   "source": [
    "text"
   ]
  },
  {
   "cell_type": "code",
   "execution_count": 338,
   "id": "55407b7d",
   "metadata": {},
   "outputs": [],
   "source": [
    "text = 'Hello How are you?'"
   ]
  },
  {
   "cell_type": "code",
   "execution_count": 339,
   "id": "f92228e5",
   "metadata": {},
   "outputs": [],
   "source": [
    "tb = TextBlob(text)"
   ]
  },
  {
   "cell_type": "code",
   "execution_count": 360,
   "id": "cd21baf6",
   "metadata": {},
   "outputs": [],
   "source": [
    "#tb.detect_language()"
   ]
  },
  {
   "cell_type": "code",
   "execution_count": 362,
   "id": "f3173c38",
   "metadata": {},
   "outputs": [],
   "source": [
    "#tb.translate('hi')"
   ]
  },
  {
   "cell_type": "markdown",
   "id": "89ad7286",
   "metadata": {},
   "source": [
    "## Sentiment Analysis Using Textblob"
   ]
  },
  {
   "cell_type": "code",
   "execution_count": 371,
   "id": "571789be",
   "metadata": {},
   "outputs": [],
   "source": [
    "from textblob.sentiments import NaiveBayesAnalyzer\n",
    "#from textblob.sentiments import BaseSentimentAnalyzer"
   ]
  },
  {
   "cell_type": "code",
   "execution_count": 380,
   "id": "4d23f479",
   "metadata": {},
   "outputs": [],
   "source": [
    "text = 'Hi i Really Liked the food!!'\n",
    "text2 = ' Food is not so good'\n",
    "text3 = ' I am telling you food is not good'\n",
    "text4 = ' Food is really bad!!'"
   ]
  },
  {
   "cell_type": "code",
   "execution_count": 376,
   "id": "4b203f15",
   "metadata": {},
   "outputs": [
    {
     "data": {
      "text/plain": [
       "Sentiment(classification='pos', p_pos=0.5477548219178868, p_neg=0.45224517808211273)"
      ]
     },
     "execution_count": 376,
     "metadata": {},
     "output_type": "execute_result"
    }
   ],
   "source": [
    "TextBlob(text, analyzer= NaiveBayesAnalyzer()).sentiment"
   ]
  },
  {
   "cell_type": "code",
   "execution_count": 378,
   "id": "3bd3d022",
   "metadata": {},
   "outputs": [
    {
     "data": {
      "text/plain": [
       "Sentiment(classification='pos', p_pos=0.5095796315673297, p_neg=0.4904203684326702)"
      ]
     },
     "execution_count": 378,
     "metadata": {},
     "output_type": "execute_result"
    }
   ],
   "source": [
    "TextBlob(text2, analyzer= NaiveBayesAnalyzer()).sentiment"
   ]
  },
  {
   "cell_type": "code",
   "execution_count": 379,
   "id": "9dc08dda",
   "metadata": {},
   "outputs": [
    {
     "data": {
      "text/plain": [
       "Sentiment(classification='pos', p_pos=0.5140721148814077, p_neg=0.4859278851185922)"
      ]
     },
     "execution_count": 379,
     "metadata": {},
     "output_type": "execute_result"
    }
   ],
   "source": [
    "TextBlob(text3, analyzer= NaiveBayesAnalyzer()).sentiment"
   ]
  },
  {
   "cell_type": "code",
   "execution_count": 381,
   "id": "91ea5b41",
   "metadata": {},
   "outputs": [
    {
     "data": {
      "text/plain": [
       "Sentiment(classification='neg', p_pos=0.3327086183920238, p_neg=0.6672913816079762)"
      ]
     },
     "execution_count": 381,
     "metadata": {},
     "output_type": "execute_result"
    }
   ],
   "source": [
    "TextBlob(text4, analyzer= NaiveBayesAnalyzer()).sentiment"
   ]
  },
  {
   "cell_type": "code",
   "execution_count": 383,
   "id": "5d3e8c54",
   "metadata": {},
   "outputs": [
    {
     "data": {
      "text/plain": [
       "['Any',\n",
       " 'Config',\n",
       " 'Dict',\n",
       " 'Errors',\n",
       " 'Iterable',\n",
       " 'Language',\n",
       " 'Path',\n",
       " 'Union',\n",
       " 'Vocab',\n",
       " '__builtins__',\n",
       " '__cached__',\n",
       " '__doc__',\n",
       " '__file__',\n",
       " '__loader__',\n",
       " '__name__',\n",
       " '__package__',\n",
       " '__path__',\n",
       " '__spec__',\n",
       " '__version__',\n",
       " 'about',\n",
       " 'attrs',\n",
       " 'blank',\n",
       " 'cli',\n",
       " 'compat',\n",
       " 'displacy',\n",
       " 'errors',\n",
       " 'explain',\n",
       " 'git_info',\n",
       " 'glossary',\n",
       " 'info',\n",
       " 'kb',\n",
       " 'lang',\n",
       " 'language',\n",
       " 'lexeme',\n",
       " 'load',\n",
       " 'logger',\n",
       " 'lookups',\n",
       " 'matcher',\n",
       " 'ml',\n",
       " 'morphology',\n",
       " 'parts_of_speech',\n",
       " 'pipe_analysis',\n",
       " 'pipeline',\n",
       " 'prefer_gpu',\n",
       " 'registry',\n",
       " 'require_cpu',\n",
       " 'require_gpu',\n",
       " 'schemas',\n",
       " 'scorer',\n",
       " 'setup_default_warnings',\n",
       " 'strings',\n",
       " 'symbols',\n",
       " 'sys',\n",
       " 'tokenizer',\n",
       " 'tokens',\n",
       " 'training',\n",
       " 'ty',\n",
       " 'util',\n",
       " 'vectors',\n",
       " 'vocab']"
      ]
     },
     "execution_count": 383,
     "metadata": {},
     "output_type": "execute_result"
    }
   ],
   "source": [
    "dir(spacy)"
   ]
  },
  {
   "cell_type": "code",
   "execution_count": 384,
   "id": "9d7c9d99",
   "metadata": {},
   "outputs": [],
   "source": [
    "import sklearn"
   ]
  },
  {
   "cell_type": "code",
   "execution_count": 385,
   "id": "01bbb93a",
   "metadata": {},
   "outputs": [
    {
     "data": {
      "text/plain": [
       "['__SKLEARN_SETUP__',\n",
       " '__all__',\n",
       " '__builtins__',\n",
       " '__cached__',\n",
       " '__check_build',\n",
       " '__doc__',\n",
       " '__file__',\n",
       " '__loader__',\n",
       " '__name__',\n",
       " '__package__',\n",
       " '__path__',\n",
       " '__spec__',\n",
       " '__version__',\n",
       " '_config',\n",
       " '_distributor_init',\n",
       " '_loss',\n",
       " 'base',\n",
       " 'clone',\n",
       " 'config_context',\n",
       " 'datasets',\n",
       " 'exceptions',\n",
       " 'externals',\n",
       " 'feature_extraction',\n",
       " 'get_config',\n",
       " 'linear_model',\n",
       " 'logger',\n",
       " 'logging',\n",
       " 'metrics',\n",
       " 'model_selection',\n",
       " 'os',\n",
       " 'preprocessing',\n",
       " 'random',\n",
       " 'set_config',\n",
       " 'setup_module',\n",
       " 'show_versions',\n",
       " 'svm',\n",
       " 'sys',\n",
       " 'utils']"
      ]
     },
     "execution_count": 385,
     "metadata": {},
     "output_type": "execute_result"
    }
   ],
   "source": [
    "dir(sklearn)"
   ]
  },
  {
   "cell_type": "code",
   "execution_count": 392,
   "id": "3baacb1a",
   "metadata": {},
   "outputs": [
    {
     "name": "stdout",
     "output_type": "stream",
     "text": [
      "Any    <class 'typing._SpecialForm'>\n",
      "Config    <class 'type'>\n",
      "Dict    <class 'typing._SpecialGenericAlias'>\n",
      "Errors    <class 'spacy.errors.ErrorsWithCodes'>\n",
      "Iterable    <class 'typing._SpecialGenericAlias'>\n",
      "Language    <class 'type'>\n",
      "Path    <class 'type'>\n",
      "Union    <class 'typing._SpecialForm'>\n",
      "Vocab    <class 'type'>\n",
      "__builtins__    <class 'dict'>\n",
      "__cached__    <class 'str'>\n",
      "__doc__    <class 'NoneType'>\n",
      "__file__    <class 'str'>\n",
      "__loader__    <class '_frozen_importlib_external.SourceFileLoader'>\n",
      "__name__    <class 'str'>\n",
      "__package__    <class 'str'>\n",
      "__path__    <class 'list'>\n",
      "__spec__    <class '_frozen_importlib.ModuleSpec'>\n",
      "__version__    <class 'str'>\n",
      "about    <class 'module'>\n",
      "attrs    <class 'module'>\n",
      "blank    <class 'function'>\n",
      "cli    <class 'module'>\n",
      "compat    <class 'module'>\n",
      "displacy    <class 'module'>\n",
      "errors    <class 'module'>\n",
      "explain    <class 'function'>\n",
      "git_info    <class 'module'>\n",
      "glossary    <class 'module'>\n",
      "info    <class 'function'>\n",
      "kb    <class 'module'>\n",
      "lang    <class 'module'>\n",
      "language    <class 'module'>\n",
      "lexeme    <class 'module'>\n",
      "load    <class 'function'>\n",
      "logger    <class 'logging.Logger'>\n",
      "lookups    <class 'module'>\n",
      "matcher    <class 'module'>\n",
      "ml    <class 'module'>\n",
      "morphology    <class 'module'>\n",
      "parts_of_speech    <class 'module'>\n",
      "pipe_analysis    <class 'module'>\n",
      "pipeline    <class 'module'>\n",
      "prefer_gpu    <class 'function'>\n",
      "registry    <class 'type'>\n",
      "require_cpu    <class 'function'>\n",
      "require_gpu    <class 'function'>\n",
      "schemas    <class 'module'>\n",
      "scorer    <class 'module'>\n",
      "setup_default_warnings    <class 'function'>\n",
      "strings    <class 'module'>\n",
      "symbols    <class 'module'>\n",
      "sys    <class 'module'>\n",
      "tokenizer    <class 'module'>\n",
      "tokens    <class 'module'>\n",
      "training    <class 'module'>\n",
      "ty    <class 'module'>\n",
      "util    <class 'module'>\n",
      "vectors    <class 'module'>\n",
      "vocab    <class 'module'>\n"
     ]
    }
   ],
   "source": [
    "for i in dir(spacy):\n",
    "   print (i,\"  \",type(getattr(spacy,i)))"
   ]
  },
  {
   "cell_type": "code",
   "execution_count": null,
   "id": "52c7df8b",
   "metadata": {},
   "outputs": [],
   "source": []
  },
  {
   "cell_type": "code",
   "execution_count": null,
   "id": "53914b5c",
   "metadata": {},
   "outputs": [],
   "source": []
  }
 ],
 "metadata": {
  "kernelspec": {
   "display_name": "Python 3 (ipykernel)",
   "language": "python",
   "name": "python3"
  },
  "language_info": {
   "codemirror_mode": {
    "name": "ipython",
    "version": 3
   },
   "file_extension": ".py",
   "mimetype": "text/x-python",
   "name": "python",
   "nbconvert_exporter": "python",
   "pygments_lexer": "ipython3",
   "version": "3.9.7"
  }
 },
 "nbformat": 4,
 "nbformat_minor": 5
}
