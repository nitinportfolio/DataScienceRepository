{
 "cells": [
  {
   "cell_type": "code",
   "execution_count": 1,
   "id": "323aff7c",
   "metadata": {},
   "outputs": [],
   "source": [
    "# https://community.ibm.com/community/user/businessanalytics/blogs/steven-macko/2019/07/11/telco-customer-churn-1113"
   ]
  },
  {
   "cell_type": "code",
   "execution_count": 217,
   "id": "731ac1d8",
   "metadata": {},
   "outputs": [],
   "source": [
    "import numpy as np\n",
    "import pandas as pd\n",
    "import datatable as dt\n",
    "\n",
    "import matplotlib.pyplot as plt\n",
    "import seaborn as sns\n",
    "\n",
    "from sklearn.model_selection import train_test_split\n",
    "from sklearn.model_selection import GridSearchCV\n",
    "\n",
    "\n",
    "from sklearn.preprocessing import OneHotEncoder\n",
    "from sklearn.preprocessing import StandardScaler\n",
    "\n",
    "\n",
    "\n",
    "from sklearn.svm import SVC\n",
    "from sklearn.linear_model import LogisticRegression\n",
    "from sklearn.ensemble import GradientBoostingClassifier\n",
    "import xgboost as xgb\n",
    "\n",
    "\n",
    "from sklearn.metrics import (accuracy_score, confusion_matrix, balanced_accuracy_score, \n",
    "                roc_auc_score, make_scorer, plot_confusion_matrix)\n",
    "\n",
    "\n",
    "pd.set_option('display.max_rows', 50)"
   ]
  },
  {
   "cell_type": "code",
   "execution_count": 88,
   "id": "3d0e214c",
   "metadata": {},
   "outputs": [],
   "source": [
    "\n",
    "data = pd.read_excel('.\\data\\Telco_customer_churn.xlsx')"
   ]
  },
  {
   "cell_type": "code",
   "execution_count": 89,
   "id": "f91493c5",
   "metadata": {},
   "outputs": [
    {
     "data": {
      "text/html": [
       "<div>\n",
       "<style scoped>\n",
       "    .dataframe tbody tr th:only-of-type {\n",
       "        vertical-align: middle;\n",
       "    }\n",
       "\n",
       "    .dataframe tbody tr th {\n",
       "        vertical-align: top;\n",
       "    }\n",
       "\n",
       "    .dataframe thead th {\n",
       "        text-align: right;\n",
       "    }\n",
       "</style>\n",
       "<table border=\"1\" class=\"dataframe\">\n",
       "  <thead>\n",
       "    <tr style=\"text-align: right;\">\n",
       "      <th></th>\n",
       "      <th>CustomerID</th>\n",
       "      <th>Count</th>\n",
       "      <th>Country</th>\n",
       "      <th>State</th>\n",
       "      <th>City</th>\n",
       "      <th>Zip Code</th>\n",
       "      <th>Lat Long</th>\n",
       "      <th>Latitude</th>\n",
       "      <th>Longitude</th>\n",
       "      <th>Gender</th>\n",
       "      <th>Senior Citizen</th>\n",
       "      <th>Partner</th>\n",
       "      <th>Dependents</th>\n",
       "      <th>Tenure Months</th>\n",
       "      <th>Phone Service</th>\n",
       "      <th>...</th>\n",
       "      <th>Online Backup</th>\n",
       "      <th>Device Protection</th>\n",
       "      <th>Tech Support</th>\n",
       "      <th>Streaming TV</th>\n",
       "      <th>Streaming Movies</th>\n",
       "      <th>Contract</th>\n",
       "      <th>Paperless Billing</th>\n",
       "      <th>Payment Method</th>\n",
       "      <th>Monthly Charges</th>\n",
       "      <th>Total Charges</th>\n",
       "      <th>Churn Label</th>\n",
       "      <th>Churn Value</th>\n",
       "      <th>Churn Score</th>\n",
       "      <th>CLTV</th>\n",
       "      <th>Churn Reason</th>\n",
       "    </tr>\n",
       "  </thead>\n",
       "  <tbody>\n",
       "    <tr>\n",
       "      <th>0</th>\n",
       "      <td>3668-QPYBK</td>\n",
       "      <td>1</td>\n",
       "      <td>United States</td>\n",
       "      <td>California</td>\n",
       "      <td>Los Angeles</td>\n",
       "      <td>90003</td>\n",
       "      <td>33.964131, -118.272783</td>\n",
       "      <td>33.964131</td>\n",
       "      <td>-118.272783</td>\n",
       "      <td>Male</td>\n",
       "      <td>No</td>\n",
       "      <td>No</td>\n",
       "      <td>No</td>\n",
       "      <td>2</td>\n",
       "      <td>Yes</td>\n",
       "      <td>...</td>\n",
       "      <td>Yes</td>\n",
       "      <td>No</td>\n",
       "      <td>No</td>\n",
       "      <td>No</td>\n",
       "      <td>No</td>\n",
       "      <td>Month-to-month</td>\n",
       "      <td>Yes</td>\n",
       "      <td>Mailed check</td>\n",
       "      <td>53.85</td>\n",
       "      <td>108.15</td>\n",
       "      <td>Yes</td>\n",
       "      <td>1</td>\n",
       "      <td>86</td>\n",
       "      <td>3239</td>\n",
       "      <td>Competitor made better offer</td>\n",
       "    </tr>\n",
       "    <tr>\n",
       "      <th>1</th>\n",
       "      <td>9237-HQITU</td>\n",
       "      <td>1</td>\n",
       "      <td>United States</td>\n",
       "      <td>California</td>\n",
       "      <td>Los Angeles</td>\n",
       "      <td>90005</td>\n",
       "      <td>34.059281, -118.30742</td>\n",
       "      <td>34.059281</td>\n",
       "      <td>-118.307420</td>\n",
       "      <td>Female</td>\n",
       "      <td>No</td>\n",
       "      <td>No</td>\n",
       "      <td>Yes</td>\n",
       "      <td>2</td>\n",
       "      <td>Yes</td>\n",
       "      <td>...</td>\n",
       "      <td>No</td>\n",
       "      <td>No</td>\n",
       "      <td>No</td>\n",
       "      <td>No</td>\n",
       "      <td>No</td>\n",
       "      <td>Month-to-month</td>\n",
       "      <td>Yes</td>\n",
       "      <td>Electronic check</td>\n",
       "      <td>70.70</td>\n",
       "      <td>151.65</td>\n",
       "      <td>Yes</td>\n",
       "      <td>1</td>\n",
       "      <td>67</td>\n",
       "      <td>2701</td>\n",
       "      <td>Moved</td>\n",
       "    </tr>\n",
       "  </tbody>\n",
       "</table>\n",
       "<p>2 rows × 33 columns</p>\n",
       "</div>"
      ],
      "text/plain": [
       "   CustomerID  Count        Country       State         City  Zip Code  \\\n",
       "0  3668-QPYBK      1  United States  California  Los Angeles     90003   \n",
       "1  9237-HQITU      1  United States  California  Los Angeles     90005   \n",
       "\n",
       "                 Lat Long   Latitude   Longitude  Gender Senior Citizen  \\\n",
       "0  33.964131, -118.272783  33.964131 -118.272783    Male             No   \n",
       "1   34.059281, -118.30742  34.059281 -118.307420  Female             No   \n",
       "\n",
       "  Partner Dependents  Tenure Months Phone Service  ... Online Backup  \\\n",
       "0      No         No              2           Yes  ...           Yes   \n",
       "1      No        Yes              2           Yes  ...            No   \n",
       "\n",
       "  Device Protection Tech Support Streaming TV Streaming Movies  \\\n",
       "0                No           No           No               No   \n",
       "1                No           No           No               No   \n",
       "\n",
       "         Contract Paperless Billing    Payment Method Monthly Charges  \\\n",
       "0  Month-to-month               Yes      Mailed check           53.85   \n",
       "1  Month-to-month               Yes  Electronic check           70.70   \n",
       "\n",
       "  Total Charges Churn Label  Churn Value Churn Score  CLTV  \\\n",
       "0        108.15         Yes            1          86  3239   \n",
       "1        151.65         Yes            1          67  2701   \n",
       "\n",
       "                   Churn Reason  \n",
       "0  Competitor made better offer  \n",
       "1                         Moved  \n",
       "\n",
       "[2 rows x 33 columns]"
      ]
     },
     "execution_count": 89,
     "metadata": {},
     "output_type": "execute_result"
    }
   ],
   "source": [
    "data.head(2)"
   ]
  },
  {
   "cell_type": "code",
   "execution_count": 92,
   "id": "3d4e492b",
   "metadata": {},
   "outputs": [
    {
     "data": {
      "text/plain": [
       "(7043, 33)"
      ]
     },
     "execution_count": 92,
     "metadata": {},
     "output_type": "execute_result"
    }
   ],
   "source": [
    "data.shape"
   ]
  },
  {
   "cell_type": "code",
   "execution_count": 94,
   "id": "867ffb40",
   "metadata": {},
   "outputs": [
    {
     "data": {
      "text/plain": [
       "0    5174\n",
       "1    1869\n",
       "Name: Churn Value, dtype: int64"
      ]
     },
     "execution_count": 94,
     "metadata": {},
     "output_type": "execute_result"
    }
   ],
   "source": [
    "# To see whether we have balanced data or not\n",
    "\n",
    "data['Churn Value'].value_counts()"
   ]
  },
  {
   "cell_type": "markdown",
   "id": "046bd380",
   "metadata": {},
   "source": [
    "Dataset is little imbalanced ..."
   ]
  },
  {
   "cell_type": "code",
   "execution_count": 95,
   "id": "43c28345",
   "metadata": {},
   "outputs": [
    {
     "data": {
      "text/plain": [
       "object     24\n",
       "int64       6\n",
       "float64     3\n",
       "dtype: int64"
      ]
     },
     "execution_count": 95,
     "metadata": {},
     "output_type": "execute_result"
    }
   ],
   "source": [
    "# Looking at different datatypes features\n",
    "data.dtypes.value_counts()"
   ]
  },
  {
   "cell_type": "code",
   "execution_count": 96,
   "id": "e7909df9",
   "metadata": {},
   "outputs": [
    {
     "data": {
      "text/plain": [
       "['Count',\n",
       " 'Zip Code',\n",
       " 'Latitude',\n",
       " 'Longitude',\n",
       " 'Tenure Months',\n",
       " 'Monthly Charges',\n",
       " 'Churn Value',\n",
       " 'Churn Score',\n",
       " 'CLTV']"
      ]
     },
     "execution_count": 96,
     "metadata": {},
     "output_type": "execute_result"
    }
   ],
   "source": [
    "data.select_dtypes(include='number').columns.tolist()"
   ]
  },
  {
   "cell_type": "code",
   "execution_count": 97,
   "id": "161cc937",
   "metadata": {},
   "outputs": [
    {
     "data": {
      "text/plain": [
       "[]"
      ]
     },
     "execution_count": 97,
     "metadata": {},
     "output_type": "execute_result"
    }
   ],
   "source": [
    "data.select_dtypes(include='bool').columns.tolist()"
   ]
  },
  {
   "cell_type": "code",
   "execution_count": 98,
   "id": "435dd0f1",
   "metadata": {},
   "outputs": [
    {
     "data": {
      "text/plain": [
       "['CustomerID',\n",
       " 'Country',\n",
       " 'State',\n",
       " 'City',\n",
       " 'Lat Long',\n",
       " 'Gender',\n",
       " 'Senior Citizen',\n",
       " 'Partner',\n",
       " 'Dependents',\n",
       " 'Phone Service',\n",
       " 'Multiple Lines',\n",
       " 'Internet Service',\n",
       " 'Online Security',\n",
       " 'Online Backup',\n",
       " 'Device Protection',\n",
       " 'Tech Support',\n",
       " 'Streaming TV',\n",
       " 'Streaming Movies',\n",
       " 'Contract',\n",
       " 'Paperless Billing',\n",
       " 'Payment Method',\n",
       " 'Total Charges',\n",
       " 'Churn Label',\n",
       " 'Churn Reason']"
      ]
     },
     "execution_count": 98,
     "metadata": {},
     "output_type": "execute_result"
    }
   ],
   "source": [
    "data.select_dtypes(include='object').columns.tolist()"
   ]
  },
  {
   "cell_type": "code",
   "execution_count": 23,
   "id": "620c1c5b",
   "metadata": {},
   "outputs": [],
   "source": [
    "#data['Churn']=data['Churn'].map({'No':0,'Yes':1})"
   ]
  },
  {
   "cell_type": "code",
   "execution_count": 100,
   "id": "e68ae18a",
   "metadata": {},
   "outputs": [
    {
     "data": {
      "text/plain": [
       "7043"
      ]
     },
     "execution_count": 100,
     "metadata": {},
     "output_type": "execute_result"
    }
   ],
   "source": [
    "data['CustomerID'].nunique()"
   ]
  },
  {
   "cell_type": "code",
   "execution_count": 102,
   "id": "f9dceca0",
   "metadata": {},
   "outputs": [],
   "source": [
    "data.drop('CustomerID', axis = 1, inplace = True)"
   ]
  },
  {
   "cell_type": "code",
   "execution_count": 109,
   "id": "e3704c85",
   "metadata": {},
   "outputs": [
    {
     "name": "stdout",
     "output_type": "stream",
     "text": [
      "Count\n",
      "1\n",
      "\n",
      "Country\n",
      "1\n",
      "\n",
      "State\n",
      "1\n",
      "\n",
      "City\n",
      "1129\n",
      "\n",
      "Zip Code\n",
      "1652\n",
      "\n",
      "Lat Long\n",
      "1652\n",
      "\n",
      "Latitude\n",
      "1652\n",
      "\n",
      "Longitude\n",
      "1651\n",
      "\n",
      "Gender\n",
      "2\n",
      "\n",
      "Senior Citizen\n",
      "2\n",
      "\n",
      "Partner\n",
      "2\n",
      "\n",
      "Dependents\n",
      "2\n",
      "\n",
      "Tenure Months\n",
      "73\n",
      "\n",
      "Phone Service\n",
      "2\n",
      "\n",
      "Multiple Lines\n",
      "3\n",
      "\n",
      "Internet Service\n",
      "3\n",
      "\n",
      "Online Security\n",
      "3\n",
      "\n",
      "Online Backup\n",
      "3\n",
      "\n",
      "Device Protection\n",
      "3\n",
      "\n",
      "Tech Support\n",
      "3\n",
      "\n",
      "Streaming TV\n",
      "3\n",
      "\n",
      "Streaming Movies\n",
      "3\n",
      "\n",
      "Contract\n",
      "3\n",
      "\n",
      "Paperless Billing\n",
      "2\n",
      "\n",
      "Payment Method\n",
      "4\n",
      "\n",
      "Monthly Charges\n",
      "1585\n",
      "\n",
      "Total Charges\n",
      "6531\n",
      "\n",
      "Churn Label\n",
      "2\n",
      "\n",
      "Churn Value\n",
      "2\n",
      "\n",
      "Churn Score\n",
      "85\n",
      "\n",
      "CLTV\n",
      "3438\n",
      "\n",
      "Churn Reason\n",
      "20\n",
      "\n"
     ]
    }
   ],
   "source": [
    "for col in data.columns:\n",
    "    print(col)\n",
    "    print(data[col].nunique())\n",
    "    print()\n",
    "    "
   ]
  },
  {
   "cell_type": "code",
   "execution_count": 111,
   "id": "c84db7dc",
   "metadata": {},
   "outputs": [],
   "source": [
    "# Lets drop columns that we dont need \n",
    "#'Churn Reason', 'CLTC', 'Churn Score', 'Churn Label', 'Count', 'Country', 'State', 'Lat Long'\n",
    "\n",
    "data.drop(labels=['Churn Reason', 'CLTV', 'Churn Score', 'Churn Label', 'Count', 'Country', 'State', 'Lat Long'],\n",
    "         axis = 1, inplace=True)"
   ]
  },
  {
   "cell_type": "code",
   "execution_count": 119,
   "id": "e104dca7",
   "metadata": {},
   "outputs": [],
   "source": [
    "# for col in data.select_dtypes(include='object').columns.tolist():\n",
    "    \n",
    "#     print(data.groupby('Churn Value')[col].value_counts().rename('Count').to_frame())\n",
    "#     print('\\n')"
   ]
  },
  {
   "cell_type": "code",
   "execution_count": 120,
   "id": "d6b200c8",
   "metadata": {},
   "outputs": [],
   "source": [
    "#data.groupby('Churn')['Churn'].value_counts().rename('Count').to_frame()"
   ]
  },
  {
   "cell_type": "code",
   "execution_count": 121,
   "id": "dc5da57c",
   "metadata": {},
   "outputs": [],
   "source": [
    "# for col in data.select_dtypes(include='object').columns.tolist():\n",
    "    \n",
    "#     print(data.groupby('Churn Value')[col].value_counts().rename('Count').to_frame())\n",
    "#     print('\\n')"
   ]
  },
  {
   "cell_type": "code",
   "execution_count": 122,
   "id": "c1f70da2",
   "metadata": {},
   "outputs": [],
   "source": [
    "# data.groupby('Churn')['gender'].plot()\n"
   ]
  },
  {
   "cell_type": "code",
   "execution_count": 123,
   "id": "bcf24b68",
   "metadata": {},
   "outputs": [],
   "source": [
    "# for col in data.select_dtypes(include='object').columns.tolist():\n",
    "#     if data[col].nunique()<10:\n",
    "\n",
    "#         sns.barplot(data = data, y = 'Churn Value',x = col)\n",
    "#         plt.xticks(rotation=45)\n",
    "#         print('\\n')\n",
    "#         plt.show()\n",
    "    "
   ]
  },
  {
   "cell_type": "code",
   "execution_count": 124,
   "id": "b77115c9",
   "metadata": {},
   "outputs": [],
   "source": [
    "# ctrl + /\n",
    "# '''for col in data.select_dtypes(include='number').columns.tolist():\n",
    "\n",
    "#     #sns.barplot(data = data, y = 'Churn',x = col)\n",
    "#     print(col)\n",
    "#     data.groupby('Churn Value')[col].mean().plot(kind = 'bar')\n",
    "#     plt.xlabel('Churn Value')\n",
    "#     plt.ylabel(col)\n",
    "#     #plt.xticks(rotation=45)\n",
    "#     print('\\n')\n",
    "#     plt.show()'''"
   ]
  },
  {
   "cell_type": "code",
   "execution_count": 126,
   "id": "4fc38566",
   "metadata": {},
   "outputs": [
    {
     "data": {
      "text/html": [
       "<div>\n",
       "<style scoped>\n",
       "    .dataframe tbody tr th:only-of-type {\n",
       "        vertical-align: middle;\n",
       "    }\n",
       "\n",
       "    .dataframe tbody tr th {\n",
       "        vertical-align: top;\n",
       "    }\n",
       "\n",
       "    .dataframe thead th {\n",
       "        text-align: right;\n",
       "    }\n",
       "</style>\n",
       "<table border=\"1\" class=\"dataframe\">\n",
       "  <thead>\n",
       "    <tr style=\"text-align: right;\">\n",
       "      <th></th>\n",
       "      <th>City</th>\n",
       "      <th>Zip Code</th>\n",
       "      <th>Latitude</th>\n",
       "      <th>Longitude</th>\n",
       "      <th>Gender</th>\n",
       "      <th>Senior Citizen</th>\n",
       "      <th>Partner</th>\n",
       "      <th>Dependents</th>\n",
       "      <th>Tenure Months</th>\n",
       "      <th>Phone Service</th>\n",
       "      <th>Multiple Lines</th>\n",
       "      <th>Internet Service</th>\n",
       "      <th>Online Security</th>\n",
       "      <th>Online Backup</th>\n",
       "      <th>Device Protection</th>\n",
       "      <th>Tech Support</th>\n",
       "      <th>Streaming TV</th>\n",
       "      <th>Streaming Movies</th>\n",
       "      <th>Contract</th>\n",
       "      <th>Paperless Billing</th>\n",
       "      <th>Payment Method</th>\n",
       "      <th>Monthly Charges</th>\n",
       "      <th>Total Charges</th>\n",
       "      <th>Churn Value</th>\n",
       "    </tr>\n",
       "  </thead>\n",
       "  <tbody>\n",
       "    <tr>\n",
       "      <th>0</th>\n",
       "      <td>Los Angeles</td>\n",
       "      <td>90003</td>\n",
       "      <td>33.964131</td>\n",
       "      <td>-118.272783</td>\n",
       "      <td>Male</td>\n",
       "      <td>No</td>\n",
       "      <td>No</td>\n",
       "      <td>No</td>\n",
       "      <td>2</td>\n",
       "      <td>Yes</td>\n",
       "      <td>No</td>\n",
       "      <td>DSL</td>\n",
       "      <td>Yes</td>\n",
       "      <td>Yes</td>\n",
       "      <td>No</td>\n",
       "      <td>No</td>\n",
       "      <td>No</td>\n",
       "      <td>No</td>\n",
       "      <td>Month-to-month</td>\n",
       "      <td>Yes</td>\n",
       "      <td>Mailed check</td>\n",
       "      <td>53.85</td>\n",
       "      <td>108.15</td>\n",
       "      <td>1</td>\n",
       "    </tr>\n",
       "    <tr>\n",
       "      <th>1</th>\n",
       "      <td>Los Angeles</td>\n",
       "      <td>90005</td>\n",
       "      <td>34.059281</td>\n",
       "      <td>-118.307420</td>\n",
       "      <td>Female</td>\n",
       "      <td>No</td>\n",
       "      <td>No</td>\n",
       "      <td>Yes</td>\n",
       "      <td>2</td>\n",
       "      <td>Yes</td>\n",
       "      <td>No</td>\n",
       "      <td>Fiber optic</td>\n",
       "      <td>No</td>\n",
       "      <td>No</td>\n",
       "      <td>No</td>\n",
       "      <td>No</td>\n",
       "      <td>No</td>\n",
       "      <td>No</td>\n",
       "      <td>Month-to-month</td>\n",
       "      <td>Yes</td>\n",
       "      <td>Electronic check</td>\n",
       "      <td>70.70</td>\n",
       "      <td>151.65</td>\n",
       "      <td>1</td>\n",
       "    </tr>\n",
       "    <tr>\n",
       "      <th>2</th>\n",
       "      <td>Los Angeles</td>\n",
       "      <td>90006</td>\n",
       "      <td>34.048013</td>\n",
       "      <td>-118.293953</td>\n",
       "      <td>Female</td>\n",
       "      <td>No</td>\n",
       "      <td>No</td>\n",
       "      <td>Yes</td>\n",
       "      <td>8</td>\n",
       "      <td>Yes</td>\n",
       "      <td>Yes</td>\n",
       "      <td>Fiber optic</td>\n",
       "      <td>No</td>\n",
       "      <td>No</td>\n",
       "      <td>Yes</td>\n",
       "      <td>No</td>\n",
       "      <td>Yes</td>\n",
       "      <td>Yes</td>\n",
       "      <td>Month-to-month</td>\n",
       "      <td>Yes</td>\n",
       "      <td>Electronic check</td>\n",
       "      <td>99.65</td>\n",
       "      <td>820.5</td>\n",
       "      <td>1</td>\n",
       "    </tr>\n",
       "    <tr>\n",
       "      <th>3</th>\n",
       "      <td>Los Angeles</td>\n",
       "      <td>90010</td>\n",
       "      <td>34.062125</td>\n",
       "      <td>-118.315709</td>\n",
       "      <td>Female</td>\n",
       "      <td>No</td>\n",
       "      <td>Yes</td>\n",
       "      <td>Yes</td>\n",
       "      <td>28</td>\n",
       "      <td>Yes</td>\n",
       "      <td>Yes</td>\n",
       "      <td>Fiber optic</td>\n",
       "      <td>No</td>\n",
       "      <td>No</td>\n",
       "      <td>Yes</td>\n",
       "      <td>Yes</td>\n",
       "      <td>Yes</td>\n",
       "      <td>Yes</td>\n",
       "      <td>Month-to-month</td>\n",
       "      <td>Yes</td>\n",
       "      <td>Electronic check</td>\n",
       "      <td>104.80</td>\n",
       "      <td>3046.05</td>\n",
       "      <td>1</td>\n",
       "    </tr>\n",
       "    <tr>\n",
       "      <th>4</th>\n",
       "      <td>Los Angeles</td>\n",
       "      <td>90015</td>\n",
       "      <td>34.039224</td>\n",
       "      <td>-118.266293</td>\n",
       "      <td>Male</td>\n",
       "      <td>No</td>\n",
       "      <td>No</td>\n",
       "      <td>Yes</td>\n",
       "      <td>49</td>\n",
       "      <td>Yes</td>\n",
       "      <td>Yes</td>\n",
       "      <td>Fiber optic</td>\n",
       "      <td>No</td>\n",
       "      <td>Yes</td>\n",
       "      <td>Yes</td>\n",
       "      <td>No</td>\n",
       "      <td>Yes</td>\n",
       "      <td>Yes</td>\n",
       "      <td>Month-to-month</td>\n",
       "      <td>Yes</td>\n",
       "      <td>Bank transfer (automatic)</td>\n",
       "      <td>103.70</td>\n",
       "      <td>5036.3</td>\n",
       "      <td>1</td>\n",
       "    </tr>\n",
       "  </tbody>\n",
       "</table>\n",
       "</div>"
      ],
      "text/plain": [
       "          City  Zip Code   Latitude   Longitude  Gender Senior Citizen  \\\n",
       "0  Los Angeles     90003  33.964131 -118.272783    Male             No   \n",
       "1  Los Angeles     90005  34.059281 -118.307420  Female             No   \n",
       "2  Los Angeles     90006  34.048013 -118.293953  Female             No   \n",
       "3  Los Angeles     90010  34.062125 -118.315709  Female             No   \n",
       "4  Los Angeles     90015  34.039224 -118.266293    Male             No   \n",
       "\n",
       "  Partner Dependents  Tenure Months Phone Service Multiple Lines  \\\n",
       "0      No         No              2           Yes             No   \n",
       "1      No        Yes              2           Yes             No   \n",
       "2      No        Yes              8           Yes            Yes   \n",
       "3     Yes        Yes             28           Yes            Yes   \n",
       "4      No        Yes             49           Yes            Yes   \n",
       "\n",
       "  Internet Service Online Security Online Backup Device Protection  \\\n",
       "0              DSL             Yes           Yes                No   \n",
       "1      Fiber optic              No            No                No   \n",
       "2      Fiber optic              No            No               Yes   \n",
       "3      Fiber optic              No            No               Yes   \n",
       "4      Fiber optic              No           Yes               Yes   \n",
       "\n",
       "  Tech Support Streaming TV Streaming Movies        Contract  \\\n",
       "0           No           No               No  Month-to-month   \n",
       "1           No           No               No  Month-to-month   \n",
       "2           No          Yes              Yes  Month-to-month   \n",
       "3          Yes          Yes              Yes  Month-to-month   \n",
       "4           No          Yes              Yes  Month-to-month   \n",
       "\n",
       "  Paperless Billing             Payment Method  Monthly Charges Total Charges  \\\n",
       "0               Yes               Mailed check            53.85        108.15   \n",
       "1               Yes           Electronic check            70.70        151.65   \n",
       "2               Yes           Electronic check            99.65         820.5   \n",
       "3               Yes           Electronic check           104.80       3046.05   \n",
       "4               Yes  Bank transfer (automatic)           103.70        5036.3   \n",
       "\n",
       "   Churn Value  \n",
       "0            1  \n",
       "1            1  \n",
       "2            1  \n",
       "3            1  \n",
       "4            1  "
      ]
     },
     "execution_count": 126,
     "metadata": {},
     "output_type": "execute_result"
    }
   ],
   "source": [
    "data.head()"
   ]
  },
  {
   "cell_type": "code",
   "execution_count": 127,
   "id": "9fce92bf",
   "metadata": {},
   "outputs": [
    {
     "data": {
      "text/plain": [
       "(7043, 24)"
      ]
     },
     "execution_count": 127,
     "metadata": {},
     "output_type": "execute_result"
    }
   ],
   "source": [
    "data.shape"
   ]
  },
  {
   "cell_type": "code",
   "execution_count": 131,
   "id": "340ae1be",
   "metadata": {},
   "outputs": [],
   "source": [
    "# We want to replace white spaces in cities\n",
    "data['City'].replace(' ','_',regex=True, inplace=True)"
   ]
  },
  {
   "cell_type": "code",
   "execution_count": 133,
   "id": "e6ada5f4",
   "metadata": {},
   "outputs": [
    {
     "data": {
      "text/plain": [
       "0    Los_Angeles\n",
       "1    Los_Angeles\n",
       "2    Los_Angeles\n",
       "3    Los_Angeles\n",
       "4    Los_Angeles\n",
       "Name: City, dtype: object"
      ]
     },
     "execution_count": 133,
     "metadata": {},
     "output_type": "execute_result"
    }
   ],
   "source": [
    "data['City'].head()"
   ]
  },
  {
   "cell_type": "code",
   "execution_count": 137,
   "id": "ec798c42",
   "metadata": {},
   "outputs": [],
   "source": [
    "# Also lets remove white spaces from the column names\n",
    "data.columns=data.columns.str.replace(' ','_', regex = True)"
   ]
  },
  {
   "cell_type": "code",
   "execution_count": 138,
   "id": "4b39e20e",
   "metadata": {},
   "outputs": [
    {
     "data": {
      "text/plain": [
       "Index(['City', 'Zip_Code', 'Latitude', 'Longitude', 'Gender', 'Senior_Citizen',\n",
       "       'Partner', 'Dependents', 'Tenure_Months', 'Phone_Service',\n",
       "       'Multiple_Lines', 'Internet_Service', 'Online_Security',\n",
       "       'Online_Backup', 'Device_Protection', 'Tech_Support', 'Streaming_TV',\n",
       "       'Streaming_Movies', 'Contract', 'Paperless_Billing', 'Payment_Method',\n",
       "       'Monthly_Charges', 'Total_Charges', 'Churn_Value'],\n",
       "      dtype='object')"
      ]
     },
     "execution_count": 138,
     "metadata": {},
     "output_type": "execute_result"
    }
   ],
   "source": [
    "data.columns"
   ]
  },
  {
   "cell_type": "markdown",
   "id": "27ff5f89",
   "metadata": {},
   "source": [
    "### Lets see how much of data is missing\n"
   ]
  },
  {
   "cell_type": "code",
   "execution_count": 141,
   "id": "64eea2e5",
   "metadata": {},
   "outputs": [
    {
     "data": {
      "text/plain": [
       "0"
      ]
     },
     "execution_count": 141,
     "metadata": {},
     "output_type": "execute_result"
    }
   ],
   "source": [
    "data.isnull().sum().sum()"
   ]
  },
  {
   "cell_type": "markdown",
   "id": "1b7e51aa",
   "metadata": {},
   "source": [
    "### Now we kow that dataset doesn't contain any missing data but what about if any of the features contain unexpected values such as ??, ... or any other garbage values"
   ]
  },
  {
   "cell_type": "markdown",
   "id": "9cf74c30",
   "metadata": {},
   "source": [
    "### For XGBOOST we can replace missing data with zeros. It works pretty well & knows how to deal with it."
   ]
  },
  {
   "cell_type": "code",
   "execution_count": 142,
   "id": "cf250176",
   "metadata": {},
   "outputs": [],
   "source": [
    "# Looking at the datatype of each columns to get a hint if there could be any garbagevalue in numeric column"
   ]
  },
  {
   "cell_type": "code",
   "execution_count": 143,
   "id": "1817333a",
   "metadata": {},
   "outputs": [
    {
     "data": {
      "text/plain": [
       "object     18\n",
       "int64       3\n",
       "float64     3\n",
       "dtype: int64"
      ]
     },
     "execution_count": 143,
     "metadata": {},
     "output_type": "execute_result"
    }
   ],
   "source": [
    "data.dtypes.value_counts()"
   ]
  },
  {
   "cell_type": "code",
   "execution_count": 148,
   "id": "babb4594",
   "metadata": {},
   "outputs": [
    {
     "data": {
      "text/plain": [
       "City                  object\n",
       "Zip_Code               int64\n",
       "Latitude             float64\n",
       "Longitude            float64\n",
       "Gender                object\n",
       "Senior_Citizen        object\n",
       "Partner               object\n",
       "Dependents            object\n",
       "Tenure_Months          int64\n",
       "Phone_Service         object\n",
       "Multiple_Lines        object\n",
       "Internet_Service      object\n",
       "Online_Security       object\n",
       "Online_Backup         object\n",
       "Device_Protection     object\n",
       "Tech_Support          object\n",
       "Streaming_TV          object\n",
       "Streaming_Movies      object\n",
       "Contract              object\n",
       "Paperless_Billing     object\n",
       "Payment_Method        object\n",
       "Monthly_Charges      float64\n",
       "Total_Charges         object\n",
       "Churn_Value            int64\n",
       "dtype: object"
      ]
     },
     "execution_count": 148,
     "metadata": {},
     "output_type": "execute_result"
    }
   ],
   "source": [
    "data.dtypes"
   ]
  },
  {
   "cell_type": "code",
   "execution_count": 149,
   "id": "8230df04",
   "metadata": {},
   "outputs": [
    {
     "data": {
      "text/html": [
       "<div>\n",
       "<style scoped>\n",
       "    .dataframe tbody tr th:only-of-type {\n",
       "        vertical-align: middle;\n",
       "    }\n",
       "\n",
       "    .dataframe tbody tr th {\n",
       "        vertical-align: top;\n",
       "    }\n",
       "\n",
       "    .dataframe thead th {\n",
       "        text-align: right;\n",
       "    }\n",
       "</style>\n",
       "<table border=\"1\" class=\"dataframe\">\n",
       "  <thead>\n",
       "    <tr style=\"text-align: right;\">\n",
       "      <th></th>\n",
       "      <th>City</th>\n",
       "      <th>Zip_Code</th>\n",
       "      <th>Latitude</th>\n",
       "      <th>Longitude</th>\n",
       "      <th>Gender</th>\n",
       "      <th>Senior_Citizen</th>\n",
       "      <th>Partner</th>\n",
       "      <th>Dependents</th>\n",
       "      <th>Tenure_Months</th>\n",
       "      <th>Phone_Service</th>\n",
       "      <th>Multiple_Lines</th>\n",
       "      <th>Internet_Service</th>\n",
       "      <th>Online_Security</th>\n",
       "      <th>Online_Backup</th>\n",
       "      <th>Device_Protection</th>\n",
       "      <th>Tech_Support</th>\n",
       "      <th>Streaming_TV</th>\n",
       "      <th>Streaming_Movies</th>\n",
       "      <th>Contract</th>\n",
       "      <th>Paperless_Billing</th>\n",
       "      <th>Payment_Method</th>\n",
       "      <th>Monthly_Charges</th>\n",
       "      <th>Total_Charges</th>\n",
       "      <th>Churn_Value</th>\n",
       "    </tr>\n",
       "  </thead>\n",
       "  <tbody>\n",
       "    <tr>\n",
       "      <th>0</th>\n",
       "      <td>Los_Angeles</td>\n",
       "      <td>90003</td>\n",
       "      <td>33.964131</td>\n",
       "      <td>-118.272783</td>\n",
       "      <td>Male</td>\n",
       "      <td>No</td>\n",
       "      <td>No</td>\n",
       "      <td>No</td>\n",
       "      <td>2</td>\n",
       "      <td>Yes</td>\n",
       "      <td>No</td>\n",
       "      <td>DSL</td>\n",
       "      <td>Yes</td>\n",
       "      <td>Yes</td>\n",
       "      <td>No</td>\n",
       "      <td>No</td>\n",
       "      <td>No</td>\n",
       "      <td>No</td>\n",
       "      <td>Month-to-month</td>\n",
       "      <td>Yes</td>\n",
       "      <td>Mailed check</td>\n",
       "      <td>53.85</td>\n",
       "      <td>108.15</td>\n",
       "      <td>1</td>\n",
       "    </tr>\n",
       "    <tr>\n",
       "      <th>1</th>\n",
       "      <td>Los_Angeles</td>\n",
       "      <td>90005</td>\n",
       "      <td>34.059281</td>\n",
       "      <td>-118.307420</td>\n",
       "      <td>Female</td>\n",
       "      <td>No</td>\n",
       "      <td>No</td>\n",
       "      <td>Yes</td>\n",
       "      <td>2</td>\n",
       "      <td>Yes</td>\n",
       "      <td>No</td>\n",
       "      <td>Fiber optic</td>\n",
       "      <td>No</td>\n",
       "      <td>No</td>\n",
       "      <td>No</td>\n",
       "      <td>No</td>\n",
       "      <td>No</td>\n",
       "      <td>No</td>\n",
       "      <td>Month-to-month</td>\n",
       "      <td>Yes</td>\n",
       "      <td>Electronic check</td>\n",
       "      <td>70.70</td>\n",
       "      <td>151.65</td>\n",
       "      <td>1</td>\n",
       "    </tr>\n",
       "  </tbody>\n",
       "</table>\n",
       "</div>"
      ],
      "text/plain": [
       "          City  Zip_Code   Latitude   Longitude  Gender Senior_Citizen  \\\n",
       "0  Los_Angeles     90003  33.964131 -118.272783    Male             No   \n",
       "1  Los_Angeles     90005  34.059281 -118.307420  Female             No   \n",
       "\n",
       "  Partner Dependents  Tenure_Months Phone_Service Multiple_Lines  \\\n",
       "0      No         No              2           Yes             No   \n",
       "1      No        Yes              2           Yes             No   \n",
       "\n",
       "  Internet_Service Online_Security Online_Backup Device_Protection  \\\n",
       "0              DSL             Yes           Yes                No   \n",
       "1      Fiber optic              No            No                No   \n",
       "\n",
       "  Tech_Support Streaming_TV Streaming_Movies        Contract  \\\n",
       "0           No           No               No  Month-to-month   \n",
       "1           No           No               No  Month-to-month   \n",
       "\n",
       "  Paperless_Billing    Payment_Method  Monthly_Charges Total_Charges  \\\n",
       "0               Yes      Mailed check            53.85        108.15   \n",
       "1               Yes  Electronic check            70.70        151.65   \n",
       "\n",
       "   Churn_Value  \n",
       "0            1  \n",
       "1            1  "
      ]
     },
     "execution_count": 149,
     "metadata": {},
     "output_type": "execute_result"
    }
   ],
   "source": [
    "data.head(2)"
   ]
  },
  {
   "cell_type": "code",
   "execution_count": 150,
   "id": "8a0c5392",
   "metadata": {},
   "outputs": [],
   "source": [
    "# Monthly Charges & Total Charges both should be float but only Monthly Charges is float.\n",
    "# Total_charges might be an issue here.\n",
    "# lets try to convert it to float and see"
   ]
  },
  {
   "cell_type": "code",
   "execution_count": 154,
   "id": "d65daa6f",
   "metadata": {},
   "outputs": [],
   "source": [
    "#data['Total_Charges'].astype('float')\n",
    "# It cant covert string to float means there is some garbage or non number value"
   ]
  },
  {
   "cell_type": "code",
   "execution_count": 162,
   "id": "1ccd0646",
   "metadata": {},
   "outputs": [
    {
     "ename": "ValueError",
     "evalue": "Unable to parse string \" \" at position 2234",
     "output_type": "error",
     "traceback": [
      "\u001b[1;31m---------------------------------------------------------------------------\u001b[0m",
      "\u001b[1;31mValueError\u001b[0m                                Traceback (most recent call last)",
      "\u001b[1;32mC:\\ProgramData\\Anaconda3\\lib\\site-packages\\pandas\\_libs\\lib.pyx\u001b[0m in \u001b[0;36mpandas._libs.lib.maybe_convert_numeric\u001b[1;34m()\u001b[0m\n",
      "\u001b[1;31mValueError\u001b[0m: Unable to parse string \" \"",
      "\nDuring handling of the above exception, another exception occurred:\n",
      "\u001b[1;31mValueError\u001b[0m                                Traceback (most recent call last)",
      "\u001b[1;32mC:\\Users\\ADMINI~1\\AppData\\Local\\Temp\\2/ipykernel_6320/2597053560.py\u001b[0m in \u001b[0;36m<module>\u001b[1;34m\u001b[0m\n\u001b[1;32m----> 1\u001b[1;33m \u001b[0mpd\u001b[0m\u001b[1;33m.\u001b[0m\u001b[0mto_numeric\u001b[0m\u001b[1;33m(\u001b[0m\u001b[0mdata\u001b[0m\u001b[1;33m[\u001b[0m\u001b[1;34m'Total_Charges'\u001b[0m\u001b[1;33m]\u001b[0m\u001b[1;33m)\u001b[0m\u001b[1;33m\u001b[0m\u001b[1;33m\u001b[0m\u001b[0m\n\u001b[0m",
      "\u001b[1;32mC:\\ProgramData\\Anaconda3\\lib\\site-packages\\pandas\\core\\tools\\numeric.py\u001b[0m in \u001b[0;36mto_numeric\u001b[1;34m(arg, errors, downcast)\u001b[0m\n\u001b[0;32m    181\u001b[0m         \u001b[0mcoerce_numeric\u001b[0m \u001b[1;33m=\u001b[0m \u001b[0merrors\u001b[0m \u001b[1;32mnot\u001b[0m \u001b[1;32min\u001b[0m \u001b[1;33m(\u001b[0m\u001b[1;34m\"ignore\"\u001b[0m\u001b[1;33m,\u001b[0m \u001b[1;34m\"raise\"\u001b[0m\u001b[1;33m)\u001b[0m\u001b[1;33m\u001b[0m\u001b[1;33m\u001b[0m\u001b[0m\n\u001b[0;32m    182\u001b[0m         \u001b[1;32mtry\u001b[0m\u001b[1;33m:\u001b[0m\u001b[1;33m\u001b[0m\u001b[1;33m\u001b[0m\u001b[0m\n\u001b[1;32m--> 183\u001b[1;33m             values, _ = lib.maybe_convert_numeric(\n\u001b[0m\u001b[0;32m    184\u001b[0m                 \u001b[0mvalues\u001b[0m\u001b[1;33m,\u001b[0m \u001b[0mset\u001b[0m\u001b[1;33m(\u001b[0m\u001b[1;33m)\u001b[0m\u001b[1;33m,\u001b[0m \u001b[0mcoerce_numeric\u001b[0m\u001b[1;33m=\u001b[0m\u001b[0mcoerce_numeric\u001b[0m\u001b[1;33m\u001b[0m\u001b[1;33m\u001b[0m\u001b[0m\n\u001b[0;32m    185\u001b[0m             )\n",
      "\u001b[1;32mC:\\ProgramData\\Anaconda3\\lib\\site-packages\\pandas\\_libs\\lib.pyx\u001b[0m in \u001b[0;36mpandas._libs.lib.maybe_convert_numeric\u001b[1;34m()\u001b[0m\n",
      "\u001b[1;31mValueError\u001b[0m: Unable to parse string \" \" at position 2234"
     ]
    }
   ],
   "source": [
    "pd.to_numeric(data['Total_Charges'])"
   ]
  },
  {
   "cell_type": "code",
   "execution_count": 163,
   "id": "3dc86d73",
   "metadata": {},
   "outputs": [
    {
     "data": {
      "text/plain": [
       "City                            San_Bernardino\n",
       "Zip_Code                                 92408\n",
       "Latitude                             34.084909\n",
       "Longitude                          -117.258107\n",
       "Gender                                  Female\n",
       "Senior_Citizen                              No\n",
       "Partner                                    Yes\n",
       "Dependents                                  No\n",
       "Tenure_Months                                0\n",
       "Phone_Service                               No\n",
       "Multiple_Lines                No phone service\n",
       "Internet_Service                           DSL\n",
       "Online_Security                            Yes\n",
       "Online_Backup                               No\n",
       "Device_Protection                          Yes\n",
       "Tech_Support                               Yes\n",
       "Streaming_TV                               Yes\n",
       "Streaming_Movies                            No\n",
       "Contract                              Two year\n",
       "Paperless_Billing                          Yes\n",
       "Payment_Method       Bank transfer (automatic)\n",
       "Monthly_Charges                          52.55\n",
       "Total_Charges                                 \n",
       "Churn_Value                                  0\n",
       "Name: 2234, dtype: object"
      ]
     },
     "execution_count": 163,
     "metadata": {},
     "output_type": "execute_result"
    }
   ],
   "source": [
    "data.iloc[2234,:]"
   ]
  },
  {
   "cell_type": "code",
   "execution_count": 166,
   "id": "dcac8f4b",
   "metadata": {},
   "outputs": [
    {
     "data": {
      "text/plain": [
       "' '"
      ]
     },
     "execution_count": 166,
     "metadata": {},
     "output_type": "execute_result"
    }
   ],
   "source": [
    "data.iloc[2234,-2]\n",
    "# here we have empty space here"
   ]
  },
  {
   "cell_type": "code",
   "execution_count": 174,
   "id": "0f1c1db9",
   "metadata": {},
   "outputs": [
    {
     "data": {
      "text/plain": [
       "11"
      ]
     },
     "execution_count": 174,
     "metadata": {},
     "output_type": "execute_result"
    }
   ],
   "source": [
    "# LEts see how many of spaces do we have\n",
    "len(data[data['Total_Charges']==' '])"
   ]
  },
  {
   "cell_type": "code",
   "execution_count": 175,
   "id": "592069dc",
   "metadata": {},
   "outputs": [
    {
     "data": {
      "text/html": [
       "<div>\n",
       "<style scoped>\n",
       "    .dataframe tbody tr th:only-of-type {\n",
       "        vertical-align: middle;\n",
       "    }\n",
       "\n",
       "    .dataframe tbody tr th {\n",
       "        vertical-align: top;\n",
       "    }\n",
       "\n",
       "    .dataframe thead th {\n",
       "        text-align: right;\n",
       "    }\n",
       "</style>\n",
       "<table border=\"1\" class=\"dataframe\">\n",
       "  <thead>\n",
       "    <tr style=\"text-align: right;\">\n",
       "      <th></th>\n",
       "      <th>City</th>\n",
       "      <th>Zip_Code</th>\n",
       "      <th>Latitude</th>\n",
       "      <th>Longitude</th>\n",
       "      <th>Gender</th>\n",
       "      <th>Senior_Citizen</th>\n",
       "      <th>Partner</th>\n",
       "      <th>Dependents</th>\n",
       "      <th>Tenure_Months</th>\n",
       "      <th>Phone_Service</th>\n",
       "      <th>Multiple_Lines</th>\n",
       "      <th>Internet_Service</th>\n",
       "      <th>Online_Security</th>\n",
       "      <th>Online_Backup</th>\n",
       "      <th>Device_Protection</th>\n",
       "      <th>Tech_Support</th>\n",
       "      <th>Streaming_TV</th>\n",
       "      <th>Streaming_Movies</th>\n",
       "      <th>Contract</th>\n",
       "      <th>Paperless_Billing</th>\n",
       "      <th>Payment_Method</th>\n",
       "      <th>Monthly_Charges</th>\n",
       "      <th>Total_Charges</th>\n",
       "      <th>Churn_Value</th>\n",
       "    </tr>\n",
       "  </thead>\n",
       "  <tbody>\n",
       "    <tr>\n",
       "      <th>2234</th>\n",
       "      <td>San_Bernardino</td>\n",
       "      <td>92408</td>\n",
       "      <td>34.084909</td>\n",
       "      <td>-117.258107</td>\n",
       "      <td>Female</td>\n",
       "      <td>No</td>\n",
       "      <td>Yes</td>\n",
       "      <td>No</td>\n",
       "      <td>0</td>\n",
       "      <td>No</td>\n",
       "      <td>No phone service</td>\n",
       "      <td>DSL</td>\n",
       "      <td>Yes</td>\n",
       "      <td>No</td>\n",
       "      <td>Yes</td>\n",
       "      <td>Yes</td>\n",
       "      <td>Yes</td>\n",
       "      <td>No</td>\n",
       "      <td>Two year</td>\n",
       "      <td>Yes</td>\n",
       "      <td>Bank transfer (automatic)</td>\n",
       "      <td>52.55</td>\n",
       "      <td></td>\n",
       "      <td>0</td>\n",
       "    </tr>\n",
       "    <tr>\n",
       "      <th>2438</th>\n",
       "      <td>Independence</td>\n",
       "      <td>93526</td>\n",
       "      <td>36.869584</td>\n",
       "      <td>-118.189241</td>\n",
       "      <td>Male</td>\n",
       "      <td>No</td>\n",
       "      <td>No</td>\n",
       "      <td>No</td>\n",
       "      <td>0</td>\n",
       "      <td>Yes</td>\n",
       "      <td>No</td>\n",
       "      <td>No</td>\n",
       "      <td>No internet service</td>\n",
       "      <td>No internet service</td>\n",
       "      <td>No internet service</td>\n",
       "      <td>No internet service</td>\n",
       "      <td>No internet service</td>\n",
       "      <td>No internet service</td>\n",
       "      <td>Two year</td>\n",
       "      <td>No</td>\n",
       "      <td>Mailed check</td>\n",
       "      <td>20.25</td>\n",
       "      <td></td>\n",
       "      <td>0</td>\n",
       "    </tr>\n",
       "    <tr>\n",
       "      <th>2568</th>\n",
       "      <td>San_Mateo</td>\n",
       "      <td>94401</td>\n",
       "      <td>37.590421</td>\n",
       "      <td>-122.306467</td>\n",
       "      <td>Female</td>\n",
       "      <td>No</td>\n",
       "      <td>Yes</td>\n",
       "      <td>No</td>\n",
       "      <td>0</td>\n",
       "      <td>Yes</td>\n",
       "      <td>No</td>\n",
       "      <td>DSL</td>\n",
       "      <td>Yes</td>\n",
       "      <td>Yes</td>\n",
       "      <td>Yes</td>\n",
       "      <td>No</td>\n",
       "      <td>Yes</td>\n",
       "      <td>Yes</td>\n",
       "      <td>Two year</td>\n",
       "      <td>No</td>\n",
       "      <td>Mailed check</td>\n",
       "      <td>80.85</td>\n",
       "      <td></td>\n",
       "      <td>0</td>\n",
       "    </tr>\n",
       "    <tr>\n",
       "      <th>2667</th>\n",
       "      <td>Cupertino</td>\n",
       "      <td>95014</td>\n",
       "      <td>37.306612</td>\n",
       "      <td>-122.080621</td>\n",
       "      <td>Male</td>\n",
       "      <td>No</td>\n",
       "      <td>Yes</td>\n",
       "      <td>Yes</td>\n",
       "      <td>0</td>\n",
       "      <td>Yes</td>\n",
       "      <td>Yes</td>\n",
       "      <td>No</td>\n",
       "      <td>No internet service</td>\n",
       "      <td>No internet service</td>\n",
       "      <td>No internet service</td>\n",
       "      <td>No internet service</td>\n",
       "      <td>No internet service</td>\n",
       "      <td>No internet service</td>\n",
       "      <td>Two year</td>\n",
       "      <td>No</td>\n",
       "      <td>Mailed check</td>\n",
       "      <td>25.75</td>\n",
       "      <td></td>\n",
       "      <td>0</td>\n",
       "    </tr>\n",
       "    <tr>\n",
       "      <th>2856</th>\n",
       "      <td>Redcrest</td>\n",
       "      <td>95569</td>\n",
       "      <td>40.363446</td>\n",
       "      <td>-123.835041</td>\n",
       "      <td>Female</td>\n",
       "      <td>No</td>\n",
       "      <td>Yes</td>\n",
       "      <td>No</td>\n",
       "      <td>0</td>\n",
       "      <td>No</td>\n",
       "      <td>No phone service</td>\n",
       "      <td>DSL</td>\n",
       "      <td>Yes</td>\n",
       "      <td>Yes</td>\n",
       "      <td>Yes</td>\n",
       "      <td>Yes</td>\n",
       "      <td>Yes</td>\n",
       "      <td>No</td>\n",
       "      <td>Two year</td>\n",
       "      <td>No</td>\n",
       "      <td>Credit card (automatic)</td>\n",
       "      <td>56.05</td>\n",
       "      <td></td>\n",
       "      <td>0</td>\n",
       "    </tr>\n",
       "    <tr>\n",
       "      <th>4331</th>\n",
       "      <td>Los_Angeles</td>\n",
       "      <td>90029</td>\n",
       "      <td>34.089953</td>\n",
       "      <td>-118.294824</td>\n",
       "      <td>Male</td>\n",
       "      <td>No</td>\n",
       "      <td>Yes</td>\n",
       "      <td>Yes</td>\n",
       "      <td>0</td>\n",
       "      <td>Yes</td>\n",
       "      <td>No</td>\n",
       "      <td>No</td>\n",
       "      <td>No internet service</td>\n",
       "      <td>No internet service</td>\n",
       "      <td>No internet service</td>\n",
       "      <td>No internet service</td>\n",
       "      <td>No internet service</td>\n",
       "      <td>No internet service</td>\n",
       "      <td>Two year</td>\n",
       "      <td>No</td>\n",
       "      <td>Mailed check</td>\n",
       "      <td>19.85</td>\n",
       "      <td></td>\n",
       "      <td>0</td>\n",
       "    </tr>\n",
       "    <tr>\n",
       "      <th>4687</th>\n",
       "      <td>Sun_City</td>\n",
       "      <td>92585</td>\n",
       "      <td>33.739412</td>\n",
       "      <td>-117.173334</td>\n",
       "      <td>Male</td>\n",
       "      <td>No</td>\n",
       "      <td>Yes</td>\n",
       "      <td>Yes</td>\n",
       "      <td>0</td>\n",
       "      <td>Yes</td>\n",
       "      <td>Yes</td>\n",
       "      <td>No</td>\n",
       "      <td>No internet service</td>\n",
       "      <td>No internet service</td>\n",
       "      <td>No internet service</td>\n",
       "      <td>No internet service</td>\n",
       "      <td>No internet service</td>\n",
       "      <td>No internet service</td>\n",
       "      <td>Two year</td>\n",
       "      <td>No</td>\n",
       "      <td>Mailed check</td>\n",
       "      <td>25.35</td>\n",
       "      <td></td>\n",
       "      <td>0</td>\n",
       "    </tr>\n",
       "    <tr>\n",
       "      <th>5104</th>\n",
       "      <td>Ben_Lomond</td>\n",
       "      <td>95005</td>\n",
       "      <td>37.078873</td>\n",
       "      <td>-122.090386</td>\n",
       "      <td>Female</td>\n",
       "      <td>No</td>\n",
       "      <td>Yes</td>\n",
       "      <td>Yes</td>\n",
       "      <td>0</td>\n",
       "      <td>Yes</td>\n",
       "      <td>No</td>\n",
       "      <td>No</td>\n",
       "      <td>No internet service</td>\n",
       "      <td>No internet service</td>\n",
       "      <td>No internet service</td>\n",
       "      <td>No internet service</td>\n",
       "      <td>No internet service</td>\n",
       "      <td>No internet service</td>\n",
       "      <td>Two year</td>\n",
       "      <td>No</td>\n",
       "      <td>Mailed check</td>\n",
       "      <td>20.00</td>\n",
       "      <td></td>\n",
       "      <td>0</td>\n",
       "    </tr>\n",
       "    <tr>\n",
       "      <th>5719</th>\n",
       "      <td>La_Verne</td>\n",
       "      <td>91750</td>\n",
       "      <td>34.144703</td>\n",
       "      <td>-117.770299</td>\n",
       "      <td>Male</td>\n",
       "      <td>No</td>\n",
       "      <td>Yes</td>\n",
       "      <td>Yes</td>\n",
       "      <td>0</td>\n",
       "      <td>Yes</td>\n",
       "      <td>No</td>\n",
       "      <td>No</td>\n",
       "      <td>No internet service</td>\n",
       "      <td>No internet service</td>\n",
       "      <td>No internet service</td>\n",
       "      <td>No internet service</td>\n",
       "      <td>No internet service</td>\n",
       "      <td>No internet service</td>\n",
       "      <td>One year</td>\n",
       "      <td>Yes</td>\n",
       "      <td>Mailed check</td>\n",
       "      <td>19.70</td>\n",
       "      <td></td>\n",
       "      <td>0</td>\n",
       "    </tr>\n",
       "    <tr>\n",
       "      <th>6772</th>\n",
       "      <td>Bell</td>\n",
       "      <td>90201</td>\n",
       "      <td>33.970343</td>\n",
       "      <td>-118.171368</td>\n",
       "      <td>Female</td>\n",
       "      <td>No</td>\n",
       "      <td>Yes</td>\n",
       "      <td>Yes</td>\n",
       "      <td>0</td>\n",
       "      <td>Yes</td>\n",
       "      <td>Yes</td>\n",
       "      <td>DSL</td>\n",
       "      <td>No</td>\n",
       "      <td>Yes</td>\n",
       "      <td>Yes</td>\n",
       "      <td>Yes</td>\n",
       "      <td>Yes</td>\n",
       "      <td>No</td>\n",
       "      <td>Two year</td>\n",
       "      <td>No</td>\n",
       "      <td>Mailed check</td>\n",
       "      <td>73.35</td>\n",
       "      <td></td>\n",
       "      <td>0</td>\n",
       "    </tr>\n",
       "    <tr>\n",
       "      <th>6840</th>\n",
       "      <td>Wilmington</td>\n",
       "      <td>90744</td>\n",
       "      <td>33.782068</td>\n",
       "      <td>-118.262263</td>\n",
       "      <td>Male</td>\n",
       "      <td>No</td>\n",
       "      <td>No</td>\n",
       "      <td>Yes</td>\n",
       "      <td>0</td>\n",
       "      <td>Yes</td>\n",
       "      <td>Yes</td>\n",
       "      <td>DSL</td>\n",
       "      <td>Yes</td>\n",
       "      <td>Yes</td>\n",
       "      <td>No</td>\n",
       "      <td>Yes</td>\n",
       "      <td>No</td>\n",
       "      <td>No</td>\n",
       "      <td>Two year</td>\n",
       "      <td>Yes</td>\n",
       "      <td>Bank transfer (automatic)</td>\n",
       "      <td>61.90</td>\n",
       "      <td></td>\n",
       "      <td>0</td>\n",
       "    </tr>\n",
       "  </tbody>\n",
       "</table>\n",
       "</div>"
      ],
      "text/plain": [
       "                City  Zip_Code   Latitude   Longitude  Gender Senior_Citizen  \\\n",
       "2234  San_Bernardino     92408  34.084909 -117.258107  Female             No   \n",
       "2438    Independence     93526  36.869584 -118.189241    Male             No   \n",
       "2568       San_Mateo     94401  37.590421 -122.306467  Female             No   \n",
       "2667       Cupertino     95014  37.306612 -122.080621    Male             No   \n",
       "2856        Redcrest     95569  40.363446 -123.835041  Female             No   \n",
       "4331     Los_Angeles     90029  34.089953 -118.294824    Male             No   \n",
       "4687        Sun_City     92585  33.739412 -117.173334    Male             No   \n",
       "5104      Ben_Lomond     95005  37.078873 -122.090386  Female             No   \n",
       "5719        La_Verne     91750  34.144703 -117.770299    Male             No   \n",
       "6772            Bell     90201  33.970343 -118.171368  Female             No   \n",
       "6840      Wilmington     90744  33.782068 -118.262263    Male             No   \n",
       "\n",
       "     Partner Dependents  Tenure_Months Phone_Service    Multiple_Lines  \\\n",
       "2234     Yes         No              0            No  No phone service   \n",
       "2438      No         No              0           Yes                No   \n",
       "2568     Yes         No              0           Yes                No   \n",
       "2667     Yes        Yes              0           Yes               Yes   \n",
       "2856     Yes         No              0            No  No phone service   \n",
       "4331     Yes        Yes              0           Yes                No   \n",
       "4687     Yes        Yes              0           Yes               Yes   \n",
       "5104     Yes        Yes              0           Yes                No   \n",
       "5719     Yes        Yes              0           Yes                No   \n",
       "6772     Yes        Yes              0           Yes               Yes   \n",
       "6840      No        Yes              0           Yes               Yes   \n",
       "\n",
       "     Internet_Service      Online_Security        Online_Backup  \\\n",
       "2234              DSL                  Yes                   No   \n",
       "2438               No  No internet service  No internet service   \n",
       "2568              DSL                  Yes                  Yes   \n",
       "2667               No  No internet service  No internet service   \n",
       "2856              DSL                  Yes                  Yes   \n",
       "4331               No  No internet service  No internet service   \n",
       "4687               No  No internet service  No internet service   \n",
       "5104               No  No internet service  No internet service   \n",
       "5719               No  No internet service  No internet service   \n",
       "6772              DSL                   No                  Yes   \n",
       "6840              DSL                  Yes                  Yes   \n",
       "\n",
       "        Device_Protection         Tech_Support         Streaming_TV  \\\n",
       "2234                  Yes                  Yes                  Yes   \n",
       "2438  No internet service  No internet service  No internet service   \n",
       "2568                  Yes                   No                  Yes   \n",
       "2667  No internet service  No internet service  No internet service   \n",
       "2856                  Yes                  Yes                  Yes   \n",
       "4331  No internet service  No internet service  No internet service   \n",
       "4687  No internet service  No internet service  No internet service   \n",
       "5104  No internet service  No internet service  No internet service   \n",
       "5719  No internet service  No internet service  No internet service   \n",
       "6772                  Yes                  Yes                  Yes   \n",
       "6840                   No                  Yes                   No   \n",
       "\n",
       "         Streaming_Movies  Contract Paperless_Billing  \\\n",
       "2234                   No  Two year               Yes   \n",
       "2438  No internet service  Two year                No   \n",
       "2568                  Yes  Two year                No   \n",
       "2667  No internet service  Two year                No   \n",
       "2856                   No  Two year                No   \n",
       "4331  No internet service  Two year                No   \n",
       "4687  No internet service  Two year                No   \n",
       "5104  No internet service  Two year                No   \n",
       "5719  No internet service  One year               Yes   \n",
       "6772                   No  Two year                No   \n",
       "6840                   No  Two year               Yes   \n",
       "\n",
       "                 Payment_Method  Monthly_Charges Total_Charges  Churn_Value  \n",
       "2234  Bank transfer (automatic)            52.55                          0  \n",
       "2438               Mailed check            20.25                          0  \n",
       "2568               Mailed check            80.85                          0  \n",
       "2667               Mailed check            25.75                          0  \n",
       "2856    Credit card (automatic)            56.05                          0  \n",
       "4331               Mailed check            19.85                          0  \n",
       "4687               Mailed check            25.35                          0  \n",
       "5104               Mailed check            20.00                          0  \n",
       "5719               Mailed check            19.70                          0  \n",
       "6772               Mailed check            73.35                          0  \n",
       "6840  Bank transfer (automatic)            61.90                          0  "
      ]
     },
     "execution_count": 175,
     "metadata": {},
     "output_type": "execute_result"
    }
   ],
   "source": [
    "data[data['Total_Charges']==' ']"
   ]
  },
  {
   "cell_type": "code",
   "execution_count": 178,
   "id": "8fada8f2",
   "metadata": {},
   "outputs": [
    {
     "data": {
      "text/plain": [
       "11"
      ]
     },
     "execution_count": 178,
     "metadata": {},
     "output_type": "execute_result"
    }
   ],
   "source": [
    "len(data[data['Tenure_Months']==0])"
   ]
  },
  {
   "cell_type": "code",
   "execution_count": null,
   "id": "f956df9d",
   "metadata": {},
   "outputs": [],
   "source": [
    "# Looks like these people have not been charged yet or bill has yet not been generated\n",
    "# We can replace these by 0"
   ]
  },
  {
   "cell_type": "code",
   "execution_count": 155,
   "id": "32a11bc2",
   "metadata": {},
   "outputs": [],
   "source": [
    "# lets use to_numeric & where ever it can't convert it will put null "
   ]
  },
  {
   "cell_type": "code",
   "execution_count": 158,
   "id": "39605002",
   "metadata": {},
   "outputs": [
    {
     "data": {
      "text/plain": [
       "11"
      ]
     },
     "execution_count": 158,
     "metadata": {},
     "output_type": "execute_result"
    }
   ],
   "source": [
    "pd.to_numeric(data['Total_Charges'], errors='coerce').isnull().sum()"
   ]
  },
  {
   "cell_type": "markdown",
   "id": "798e578f",
   "metadata": {},
   "source": [
    "We have 11 values that can't be converted to numeric form"
   ]
  },
  {
   "cell_type": "code",
   "execution_count": 179,
   "id": "7eddb97f",
   "metadata": {},
   "outputs": [],
   "source": [
    "data['Total_Charges'] = pd.to_numeric(data['Total_Charges'], errors='coerce')"
   ]
  },
  {
   "cell_type": "code",
   "execution_count": 180,
   "id": "2119abde",
   "metadata": {},
   "outputs": [
    {
     "data": {
      "text/plain": [
       "11"
      ]
     },
     "execution_count": 180,
     "metadata": {},
     "output_type": "execute_result"
    }
   ],
   "source": [
    "data['Total_Charges'].isnull().sum()"
   ]
  },
  {
   "cell_type": "code",
   "execution_count": 181,
   "id": "8173e24e",
   "metadata": {},
   "outputs": [],
   "source": [
    "# lets replace them by zero\n",
    "\n",
    "data['Total_Charges'].fillna(0, inplace=True)"
   ]
  },
  {
   "cell_type": "code",
   "execution_count": 182,
   "id": "0e991b06",
   "metadata": {},
   "outputs": [
    {
     "data": {
      "text/plain": [
       "0"
      ]
     },
     "execution_count": 182,
     "metadata": {},
     "output_type": "execute_result"
    }
   ],
   "source": [
    "data['Total_Charges'].isnull().sum()"
   ]
  },
  {
   "cell_type": "code",
   "execution_count": 183,
   "id": "d9213473",
   "metadata": {},
   "outputs": [],
   "source": [
    "data['Total_Charges'] = pd.to_numeric(data['Total_Charges'])"
   ]
  },
  {
   "cell_type": "code",
   "execution_count": 185,
   "id": "bf6d9793",
   "metadata": {},
   "outputs": [
    {
     "data": {
      "text/plain": [
       "dtype('float64')"
      ]
     },
     "execution_count": 185,
     "metadata": {},
     "output_type": "execute_result"
    }
   ],
   "source": [
    "data['Total_Charges'].dtype"
   ]
  },
  {
   "cell_type": "code",
   "execution_count": 202,
   "id": "ad4a9727",
   "metadata": {},
   "outputs": [
    {
     "data": {
      "text/plain": [
       "City                    0\n",
       "Zip_Code                0\n",
       "Latitude                0\n",
       "Longitude               0\n",
       "Gender                  0\n",
       "Senior_Citizen          0\n",
       "Partner                 0\n",
       "Dependents              0\n",
       "Tenure_Months          11\n",
       "Phone_Service           0\n",
       "Multiple_Lines          0\n",
       "Internet_Service        0\n",
       "Online_Security         0\n",
       "Online_Backup           0\n",
       "Device_Protection       0\n",
       "Tech_Support            0\n",
       "Streaming_TV            0\n",
       "Streaming_Movies        0\n",
       "Contract                0\n",
       "Paperless_Billing       0\n",
       "Payment_Method          0\n",
       "Monthly_Charges         0\n",
       "Total_Charges          11\n",
       "Churn_Value          5174\n",
       "dtype: int64"
      ]
     },
     "execution_count": 202,
     "metadata": {},
     "output_type": "execute_result"
    }
   ],
   "source": [
    "# lets see if we have white spaces anywhere else\n",
    "(data==0).sum()"
   ]
  },
  {
   "cell_type": "code",
   "execution_count": 205,
   "id": "d0d43f2e",
   "metadata": {},
   "outputs": [
    {
     "data": {
      "text/plain": [
       "City                 0\n",
       "Zip_Code             0\n",
       "Latitude             0\n",
       "Longitude            0\n",
       "Gender               0\n",
       "Senior_Citizen       0\n",
       "Partner              0\n",
       "Dependents           0\n",
       "Tenure_Months        0\n",
       "Phone_Service        0\n",
       "Multiple_Lines       0\n",
       "Internet_Service     0\n",
       "Online_Security      0\n",
       "Online_Backup        0\n",
       "Device_Protection    0\n",
       "Tech_Support         0\n",
       "Streaming_TV         0\n",
       "Streaming_Movies     0\n",
       "Contract             0\n",
       "Paperless_Billing    0\n",
       "Payment_Method       0\n",
       "Monthly_Charges      0\n",
       "Total_Charges        0\n",
       "Churn_Value          0\n",
       "dtype: int64"
      ]
     },
     "execution_count": 205,
     "metadata": {},
     "output_type": "execute_result"
    }
   ],
   "source": [
    "# We dont have any empty spaces in our data set\n",
    "(data==' ').sum()"
   ]
  },
  {
   "cell_type": "code",
   "execution_count": 206,
   "id": "00a2396a",
   "metadata": {},
   "outputs": [],
   "source": [
    "# Just to be sure that we ahve repalce emplty spaces with underscores\n",
    "data.replace(' ','_', regex=True,inplace = True)"
   ]
  },
  {
   "cell_type": "code",
   "execution_count": 211,
   "id": "43b99323",
   "metadata": {},
   "outputs": [
    {
     "data": {
      "text/plain": [
       "0"
      ]
     },
     "execution_count": 211,
     "metadata": {},
     "output_type": "execute_result"
    }
   ],
   "source": [
    "(data=='_').any().sum()"
   ]
  },
  {
   "cell_type": "code",
   "execution_count": 236,
   "id": "2eab7e1e",
   "metadata": {},
   "outputs": [
    {
     "data": {
      "text/plain": [
       "['City',\n",
       " 'Gender',\n",
       " 'Senior_Citizen',\n",
       " 'Partner',\n",
       " 'Dependents',\n",
       " 'Phone_Service',\n",
       " 'Multiple_Lines',\n",
       " 'Internet_Service',\n",
       " 'Online_Security',\n",
       " 'Online_Backup',\n",
       " 'Device_Protection',\n",
       " 'Tech_Support',\n",
       " 'Streaming_TV',\n",
       " 'Streaming_Movies',\n",
       " 'Contract',\n",
       " 'Paperless_Billing',\n",
       " 'Payment_Method']"
      ]
     },
     "execution_count": 236,
     "metadata": {},
     "output_type": "execute_result"
    }
   ],
   "source": [
    "data.select_dtypes(include='O').columns.tolist()"
   ]
  },
  {
   "cell_type": "markdown",
   "id": "96efb092",
   "metadata": {},
   "source": [
    "### One Hot Encoding these categorical data after splitting them into train & test"
   ]
  },
  {
   "cell_type": "code",
   "execution_count": 237,
   "id": "72b80e27",
   "metadata": {},
   "outputs": [],
   "source": [
    "# Spliting data into train & test\n",
    "\n",
    "X_train, X_test, y_train, y_test = train_test_split(\n",
    "                    data.drop(labels=['Churn_Value'], axis = 1),\n",
    "                    data['Churn_Value'],\n",
    "                    test_size=0.3,\n",
    "                    random_state=0, stratify=y)"
   ]
  },
  {
   "cell_type": "code",
   "execution_count": 238,
   "id": "53eb39e0",
   "metadata": {},
   "outputs": [
    {
     "data": {
      "text/plain": [
       "((4930, 23), (2113, 23))"
      ]
     },
     "execution_count": 238,
     "metadata": {},
     "output_type": "execute_result"
    }
   ],
   "source": [
    "X_train.shape, X_test.shape"
   ]
  },
  {
   "cell_type": "code",
   "execution_count": 216,
   "id": "b7867777",
   "metadata": {},
   "outputs": [],
   "source": [
    "# K-1 Hot Encoding for categorical data"
   ]
  },
  {
   "cell_type": "code",
   "execution_count": 264,
   "id": "4602f815",
   "metadata": {},
   "outputs": [
    {
     "data": {
      "text/plain": [
       "OneHotEncoder(drop='first', handle_unknown='ignore', sparse=False)"
      ]
     },
     "execution_count": 264,
     "metadata": {},
     "output_type": "execute_result"
    }
   ],
   "source": [
    "one_hot_encoder = OneHotEncoder(categories='auto',\n",
    "                                   drop='first',\n",
    "                                   sparse=False,\n",
    "                               handle_unknown='ignore')\n",
    "one_hot_encoder.fit(X_train[['City',\n",
    " 'Gender',\n",
    " 'Senior_Citizen',\n",
    " 'Partner',\n",
    " 'Dependents',\n",
    " 'Phone_Service',\n",
    " 'Multiple_Lines',\n",
    " 'Internet_Service',\n",
    " 'Online_Security',\n",
    " 'Online_Backup',\n",
    " 'Device_Protection',\n",
    " 'Tech_Support',\n",
    " 'Streaming_TV',\n",
    " 'Streaming_Movies',\n",
    " 'Contract',\n",
    " 'Paperless_Billing',\n",
    " 'Payment_Method']])"
   ]
  },
  {
   "cell_type": "code",
   "execution_count": 265,
   "id": "58924c5b",
   "metadata": {},
   "outputs": [
    {
     "data": {
      "text/plain": [
       "[array(['Acampo', 'Acton', 'Adelanto', ..., 'Yuba_City', 'Yucaipa',\n",
       "        'Yucca_Valley'], dtype=object),\n",
       " array(['Female', 'Male'], dtype=object),\n",
       " array(['No', 'Yes'], dtype=object),\n",
       " array(['No', 'Yes'], dtype=object),\n",
       " array(['No', 'Yes'], dtype=object),\n",
       " array(['No', 'Yes'], dtype=object),\n",
       " array(['No', 'No_phone_service', 'Yes'], dtype=object),\n",
       " array(['DSL', 'Fiber_optic', 'No'], dtype=object),\n",
       " array(['No', 'No_internet_service', 'Yes'], dtype=object),\n",
       " array(['No', 'No_internet_service', 'Yes'], dtype=object),\n",
       " array(['No', 'No_internet_service', 'Yes'], dtype=object),\n",
       " array(['No', 'No_internet_service', 'Yes'], dtype=object),\n",
       " array(['No', 'No_internet_service', 'Yes'], dtype=object),\n",
       " array(['No', 'No_internet_service', 'Yes'], dtype=object),\n",
       " array(['Month-to-month', 'One_year', 'Two_year'], dtype=object),\n",
       " array(['No', 'Yes'], dtype=object),\n",
       " array(['Bank_transfer_(automatic)', 'Credit_card_(automatic)',\n",
       "        'Electronic_check', 'Mailed_check'], dtype=object)]"
      ]
     },
     "execution_count": 265,
     "metadata": {},
     "output_type": "execute_result"
    }
   ],
   "source": [
    "one_hot_encoder.categories_"
   ]
  },
  {
   "cell_type": "code",
   "execution_count": 283,
   "id": "f8140168",
   "metadata": {},
   "outputs": [],
   "source": [
    "tmp = one_hot_encoder.transform(X_train[['City',\n",
    " 'Gender',\n",
    " 'Senior_Citizen',\n",
    " 'Partner',\n",
    " 'Dependents',\n",
    " 'Phone_Service',\n",
    " 'Multiple_Lines',\n",
    " 'Internet_Service',\n",
    " 'Online_Security',\n",
    " 'Online_Backup',\n",
    " 'Device_Protection',\n",
    " 'Tech_Support',\n",
    " 'Streaming_TV',\n",
    " 'Streaming_Movies',\n",
    " 'Contract',\n",
    " 'Paperless_Billing',\n",
    " 'Payment_Method']])\n",
    "tmp_train=pd.DataFrame(tmp, columns=one_hot_encoder.get_feature_names_out() )"
   ]
  },
  {
   "cell_type": "code",
   "execution_count": 284,
   "id": "cff0ac43",
   "metadata": {},
   "outputs": [
    {
     "data": {
      "text/plain": [
       "array(['City_Acton', 'City_Adelanto', 'City_Adin', ...,\n",
       "       'Payment_Method_Credit_card_(automatic)',\n",
       "       'Payment_Method_Electronic_check', 'Payment_Method_Mailed_check'],\n",
       "      dtype=object)"
      ]
     },
     "execution_count": 284,
     "metadata": {},
     "output_type": "execute_result"
    }
   ],
   "source": [
    "# NEW: in latest release of Scikit-learn\n",
    "# we can now retrieve the feature names as follows:\n",
    "\n",
    "one_hot_encoder.get_feature_names_out()"
   ]
  },
  {
   "cell_type": "code",
   "execution_count": 285,
   "id": "7af5be48",
   "metadata": {},
   "outputs": [
    {
     "name": "stderr",
     "output_type": "stream",
     "text": [
      "C:\\ProgramData\\Anaconda3\\lib\\site-packages\\sklearn\\preprocessing\\_encoders.py:170: UserWarning: Found unknown categories in columns [0] during transform. These unknown categories will be encoded as all zeros\n",
      "  warnings.warn(\n"
     ]
    }
   ],
   "source": [
    "tmp = one_hot_encoder.transform(X_test[['City',\n",
    " 'Gender',\n",
    " 'Senior_Citizen',\n",
    " 'Partner',\n",
    " 'Dependents',\n",
    " 'Phone_Service',\n",
    " 'Multiple_Lines',\n",
    " 'Internet_Service',\n",
    " 'Online_Security',\n",
    " 'Online_Backup',\n",
    " 'Device_Protection',\n",
    " 'Tech_Support',\n",
    " 'Streaming_TV',\n",
    " 'Streaming_Movies',\n",
    " 'Contract',\n",
    " 'Paperless_Billing',\n",
    " 'Payment_Method']])\n"
   ]
  },
  {
   "cell_type": "code",
   "execution_count": 286,
   "id": "2a64ca05",
   "metadata": {},
   "outputs": [
    {
     "data": {
      "text/html": [
       "<div>\n",
       "<style scoped>\n",
       "    .dataframe tbody tr th:only-of-type {\n",
       "        vertical-align: middle;\n",
       "    }\n",
       "\n",
       "    .dataframe tbody tr th {\n",
       "        vertical-align: top;\n",
       "    }\n",
       "\n",
       "    .dataframe thead th {\n",
       "        text-align: right;\n",
       "    }\n",
       "</style>\n",
       "<table border=\"1\" class=\"dataframe\">\n",
       "  <thead>\n",
       "    <tr style=\"text-align: right;\">\n",
       "      <th></th>\n",
       "      <th>City_Acton</th>\n",
       "      <th>City_Adelanto</th>\n",
       "      <th>City_Adin</th>\n",
       "      <th>City_Agoura_Hills</th>\n",
       "      <th>City_Aguanga</th>\n",
       "      <th>City_Ahwahnee</th>\n",
       "      <th>City_Alameda</th>\n",
       "      <th>City_Alamo</th>\n",
       "      <th>City_Albany</th>\n",
       "      <th>City_Albion</th>\n",
       "      <th>City_Alderpoint</th>\n",
       "      <th>City_Alhambra</th>\n",
       "      <th>City_Aliso_Viejo</th>\n",
       "      <th>City_Alleghany</th>\n",
       "      <th>City_Alpaugh</th>\n",
       "      <th>...</th>\n",
       "      <th>Online_Backup_Yes</th>\n",
       "      <th>Device_Protection_No_internet_service</th>\n",
       "      <th>Device_Protection_Yes</th>\n",
       "      <th>Tech_Support_No_internet_service</th>\n",
       "      <th>Tech_Support_Yes</th>\n",
       "      <th>Streaming_TV_No_internet_service</th>\n",
       "      <th>Streaming_TV_Yes</th>\n",
       "      <th>Streaming_Movies_No_internet_service</th>\n",
       "      <th>Streaming_Movies_Yes</th>\n",
       "      <th>Contract_One_year</th>\n",
       "      <th>Contract_Two_year</th>\n",
       "      <th>Paperless_Billing_Yes</th>\n",
       "      <th>Payment_Method_Credit_card_(automatic)</th>\n",
       "      <th>Payment_Method_Electronic_check</th>\n",
       "      <th>Payment_Method_Mailed_check</th>\n",
       "    </tr>\n",
       "  </thead>\n",
       "  <tbody>\n",
       "    <tr>\n",
       "      <th>0</th>\n",
       "      <td>0.0</td>\n",
       "      <td>0.0</td>\n",
       "      <td>0.0</td>\n",
       "      <td>0.0</td>\n",
       "      <td>0.0</td>\n",
       "      <td>0.0</td>\n",
       "      <td>0.0</td>\n",
       "      <td>0.0</td>\n",
       "      <td>0.0</td>\n",
       "      <td>0.0</td>\n",
       "      <td>0.0</td>\n",
       "      <td>0.0</td>\n",
       "      <td>0.0</td>\n",
       "      <td>0.0</td>\n",
       "      <td>0.0</td>\n",
       "      <td>...</td>\n",
       "      <td>0.0</td>\n",
       "      <td>0.0</td>\n",
       "      <td>0.0</td>\n",
       "      <td>0.0</td>\n",
       "      <td>0.0</td>\n",
       "      <td>0.0</td>\n",
       "      <td>1.0</td>\n",
       "      <td>0.0</td>\n",
       "      <td>1.0</td>\n",
       "      <td>0.0</td>\n",
       "      <td>0.0</td>\n",
       "      <td>0.0</td>\n",
       "      <td>1.0</td>\n",
       "      <td>0.0</td>\n",
       "      <td>0.0</td>\n",
       "    </tr>\n",
       "    <tr>\n",
       "      <th>1</th>\n",
       "      <td>0.0</td>\n",
       "      <td>0.0</td>\n",
       "      <td>0.0</td>\n",
       "      <td>0.0</td>\n",
       "      <td>0.0</td>\n",
       "      <td>0.0</td>\n",
       "      <td>0.0</td>\n",
       "      <td>0.0</td>\n",
       "      <td>0.0</td>\n",
       "      <td>0.0</td>\n",
       "      <td>0.0</td>\n",
       "      <td>0.0</td>\n",
       "      <td>0.0</td>\n",
       "      <td>0.0</td>\n",
       "      <td>0.0</td>\n",
       "      <td>...</td>\n",
       "      <td>0.0</td>\n",
       "      <td>1.0</td>\n",
       "      <td>0.0</td>\n",
       "      <td>1.0</td>\n",
       "      <td>0.0</td>\n",
       "      <td>1.0</td>\n",
       "      <td>0.0</td>\n",
       "      <td>1.0</td>\n",
       "      <td>0.0</td>\n",
       "      <td>1.0</td>\n",
       "      <td>0.0</td>\n",
       "      <td>0.0</td>\n",
       "      <td>0.0</td>\n",
       "      <td>1.0</td>\n",
       "      <td>0.0</td>\n",
       "    </tr>\n",
       "    <tr>\n",
       "      <th>2</th>\n",
       "      <td>0.0</td>\n",
       "      <td>0.0</td>\n",
       "      <td>0.0</td>\n",
       "      <td>0.0</td>\n",
       "      <td>0.0</td>\n",
       "      <td>0.0</td>\n",
       "      <td>0.0</td>\n",
       "      <td>0.0</td>\n",
       "      <td>0.0</td>\n",
       "      <td>0.0</td>\n",
       "      <td>0.0</td>\n",
       "      <td>0.0</td>\n",
       "      <td>0.0</td>\n",
       "      <td>0.0</td>\n",
       "      <td>0.0</td>\n",
       "      <td>...</td>\n",
       "      <td>0.0</td>\n",
       "      <td>0.0</td>\n",
       "      <td>0.0</td>\n",
       "      <td>0.0</td>\n",
       "      <td>0.0</td>\n",
       "      <td>0.0</td>\n",
       "      <td>0.0</td>\n",
       "      <td>0.0</td>\n",
       "      <td>0.0</td>\n",
       "      <td>0.0</td>\n",
       "      <td>0.0</td>\n",
       "      <td>0.0</td>\n",
       "      <td>0.0</td>\n",
       "      <td>1.0</td>\n",
       "      <td>0.0</td>\n",
       "    </tr>\n",
       "    <tr>\n",
       "      <th>3</th>\n",
       "      <td>0.0</td>\n",
       "      <td>0.0</td>\n",
       "      <td>0.0</td>\n",
       "      <td>0.0</td>\n",
       "      <td>0.0</td>\n",
       "      <td>0.0</td>\n",
       "      <td>0.0</td>\n",
       "      <td>0.0</td>\n",
       "      <td>0.0</td>\n",
       "      <td>0.0</td>\n",
       "      <td>0.0</td>\n",
       "      <td>0.0</td>\n",
       "      <td>0.0</td>\n",
       "      <td>0.0</td>\n",
       "      <td>0.0</td>\n",
       "      <td>...</td>\n",
       "      <td>0.0</td>\n",
       "      <td>0.0</td>\n",
       "      <td>0.0</td>\n",
       "      <td>0.0</td>\n",
       "      <td>0.0</td>\n",
       "      <td>0.0</td>\n",
       "      <td>1.0</td>\n",
       "      <td>0.0</td>\n",
       "      <td>0.0</td>\n",
       "      <td>0.0</td>\n",
       "      <td>0.0</td>\n",
       "      <td>0.0</td>\n",
       "      <td>0.0</td>\n",
       "      <td>0.0</td>\n",
       "      <td>0.0</td>\n",
       "    </tr>\n",
       "    <tr>\n",
       "      <th>4</th>\n",
       "      <td>0.0</td>\n",
       "      <td>0.0</td>\n",
       "      <td>0.0</td>\n",
       "      <td>0.0</td>\n",
       "      <td>0.0</td>\n",
       "      <td>0.0</td>\n",
       "      <td>0.0</td>\n",
       "      <td>0.0</td>\n",
       "      <td>0.0</td>\n",
       "      <td>0.0</td>\n",
       "      <td>0.0</td>\n",
       "      <td>0.0</td>\n",
       "      <td>0.0</td>\n",
       "      <td>0.0</td>\n",
       "      <td>0.0</td>\n",
       "      <td>...</td>\n",
       "      <td>0.0</td>\n",
       "      <td>1.0</td>\n",
       "      <td>0.0</td>\n",
       "      <td>1.0</td>\n",
       "      <td>0.0</td>\n",
       "      <td>1.0</td>\n",
       "      <td>0.0</td>\n",
       "      <td>1.0</td>\n",
       "      <td>0.0</td>\n",
       "      <td>0.0</td>\n",
       "      <td>1.0</td>\n",
       "      <td>1.0</td>\n",
       "      <td>0.0</td>\n",
       "      <td>0.0</td>\n",
       "      <td>0.0</td>\n",
       "    </tr>\n",
       "  </tbody>\n",
       "</table>\n",
       "<p>5 rows × 1145 columns</p>\n",
       "</div>"
      ],
      "text/plain": [
       "   City_Acton  City_Adelanto  City_Adin  City_Agoura_Hills  City_Aguanga  \\\n",
       "0         0.0            0.0        0.0                0.0           0.0   \n",
       "1         0.0            0.0        0.0                0.0           0.0   \n",
       "2         0.0            0.0        0.0                0.0           0.0   \n",
       "3         0.0            0.0        0.0                0.0           0.0   \n",
       "4         0.0            0.0        0.0                0.0           0.0   \n",
       "\n",
       "   City_Ahwahnee  City_Alameda  City_Alamo  City_Albany  City_Albion  \\\n",
       "0            0.0           0.0         0.0          0.0          0.0   \n",
       "1            0.0           0.0         0.0          0.0          0.0   \n",
       "2            0.0           0.0         0.0          0.0          0.0   \n",
       "3            0.0           0.0         0.0          0.0          0.0   \n",
       "4            0.0           0.0         0.0          0.0          0.0   \n",
       "\n",
       "   City_Alderpoint  City_Alhambra  City_Aliso_Viejo  City_Alleghany  \\\n",
       "0              0.0            0.0               0.0             0.0   \n",
       "1              0.0            0.0               0.0             0.0   \n",
       "2              0.0            0.0               0.0             0.0   \n",
       "3              0.0            0.0               0.0             0.0   \n",
       "4              0.0            0.0               0.0             0.0   \n",
       "\n",
       "   City_Alpaugh  ...  Online_Backup_Yes  \\\n",
       "0           0.0  ...                0.0   \n",
       "1           0.0  ...                0.0   \n",
       "2           0.0  ...                0.0   \n",
       "3           0.0  ...                0.0   \n",
       "4           0.0  ...                0.0   \n",
       "\n",
       "   Device_Protection_No_internet_service  Device_Protection_Yes  \\\n",
       "0                                    0.0                    0.0   \n",
       "1                                    1.0                    0.0   \n",
       "2                                    0.0                    0.0   \n",
       "3                                    0.0                    0.0   \n",
       "4                                    1.0                    0.0   \n",
       "\n",
       "   Tech_Support_No_internet_service  Tech_Support_Yes  \\\n",
       "0                               0.0               0.0   \n",
       "1                               1.0               0.0   \n",
       "2                               0.0               0.0   \n",
       "3                               0.0               0.0   \n",
       "4                               1.0               0.0   \n",
       "\n",
       "   Streaming_TV_No_internet_service  Streaming_TV_Yes  \\\n",
       "0                               0.0               1.0   \n",
       "1                               1.0               0.0   \n",
       "2                               0.0               0.0   \n",
       "3                               0.0               1.0   \n",
       "4                               1.0               0.0   \n",
       "\n",
       "   Streaming_Movies_No_internet_service  Streaming_Movies_Yes  \\\n",
       "0                                   0.0                   1.0   \n",
       "1                                   1.0                   0.0   \n",
       "2                                   0.0                   0.0   \n",
       "3                                   0.0                   0.0   \n",
       "4                                   1.0                   0.0   \n",
       "\n",
       "   Contract_One_year  Contract_Two_year  Paperless_Billing_Yes  \\\n",
       "0                0.0                0.0                    0.0   \n",
       "1                1.0                0.0                    0.0   \n",
       "2                0.0                0.0                    0.0   \n",
       "3                0.0                0.0                    0.0   \n",
       "4                0.0                1.0                    1.0   \n",
       "\n",
       "   Payment_Method_Credit_card_(automatic)  Payment_Method_Electronic_check  \\\n",
       "0                                     1.0                              0.0   \n",
       "1                                     0.0                              1.0   \n",
       "2                                     0.0                              1.0   \n",
       "3                                     0.0                              0.0   \n",
       "4                                     0.0                              0.0   \n",
       "\n",
       "   Payment_Method_Mailed_check  \n",
       "0                          0.0  \n",
       "1                          0.0  \n",
       "2                          0.0  \n",
       "3                          0.0  \n",
       "4                          0.0  \n",
       "\n",
       "[5 rows x 1145 columns]"
      ]
     },
     "execution_count": 286,
     "metadata": {},
     "output_type": "execute_result"
    }
   ],
   "source": [
    "tmp_test = pd.DataFrame(tmp)\n",
    "tmp_test.columns = one_hot_encoder.get_feature_names_out()\n",
    "\n",
    "tmp_test.head()"
   ]
  },
  {
   "cell_type": "code",
   "execution_count": 287,
   "id": "5c95f3ae",
   "metadata": {},
   "outputs": [],
   "source": [
    "X_train_enc = pd.concat([X_train,tmp_train],axis =1)"
   ]
  },
  {
   "cell_type": "code",
   "execution_count": 288,
   "id": "e4f8c209",
   "metadata": {},
   "outputs": [
    {
     "data": {
      "text/plain": [
       "(6404, 1168)"
      ]
     },
     "execution_count": 288,
     "metadata": {},
     "output_type": "execute_result"
    }
   ],
   "source": [
    "X_train_enc.shape"
   ]
  },
  {
   "cell_type": "code",
   "execution_count": 290,
   "id": "151341a0",
   "metadata": {},
   "outputs": [],
   "source": [
    "X_train_enc.drop(labels=data.select_dtypes(include='O').columns.tolist(), axis = 1, inplace=True)"
   ]
  },
  {
   "cell_type": "code",
   "execution_count": 291,
   "id": "aec10cce",
   "metadata": {},
   "outputs": [
    {
     "data": {
      "text/plain": [
       "(6404, 1151)"
      ]
     },
     "execution_count": 291,
     "metadata": {},
     "output_type": "execute_result"
    }
   ],
   "source": [
    "X_train_enc.shape"
   ]
  },
  {
   "cell_type": "code",
   "execution_count": 292,
   "id": "72a1044c",
   "metadata": {},
   "outputs": [],
   "source": [
    "X_test_enc = pd.concat([X_test,tmp_test],axis =1)"
   ]
  },
  {
   "cell_type": "code",
   "execution_count": 293,
   "id": "c8c8c21c",
   "metadata": {},
   "outputs": [],
   "source": [
    "X_test_enc.drop(labels=data.select_dtypes(include='O').columns.tolist(), axis = 1, inplace=True)"
   ]
  },
  {
   "cell_type": "code",
   "execution_count": 294,
   "id": "e50e704e",
   "metadata": {},
   "outputs": [
    {
     "data": {
      "text/plain": [
       "(3595, 1151)"
      ]
     },
     "execution_count": 294,
     "metadata": {},
     "output_type": "execute_result"
    }
   ],
   "source": [
    "X_test_enc.shape"
   ]
  },
  {
   "cell_type": "code",
   "execution_count": 295,
   "id": "2d7163a0",
   "metadata": {},
   "outputs": [
    {
     "data": {
      "text/plain": [
       "array([0, 1], dtype=int64)"
      ]
     },
     "execution_count": 295,
     "metadata": {},
     "output_type": "execute_result"
    }
   ],
   "source": [
    "y_train.unique()"
   ]
  },
  {
   "cell_type": "code",
   "execution_count": null,
   "id": "95de7cb5",
   "metadata": {},
   "outputs": [],
   "source": []
  }
 ],
 "metadata": {
  "kernelspec": {
   "display_name": "Python 3 (ipykernel)",
   "language": "python",
   "name": "python3"
  },
  "language_info": {
   "codemirror_mode": {
    "name": "ipython",
    "version": 3
   },
   "file_extension": ".py",
   "mimetype": "text/x-python",
   "name": "python",
   "nbconvert_exporter": "python",
   "pygments_lexer": "ipython3",
   "version": "3.9.7"
  }
 },
 "nbformat": 4,
 "nbformat_minor": 5
}
