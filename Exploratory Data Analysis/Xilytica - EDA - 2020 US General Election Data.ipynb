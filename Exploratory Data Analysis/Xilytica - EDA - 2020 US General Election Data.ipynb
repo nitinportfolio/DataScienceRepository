{
 "cells": [
  {
   "cell_type": "code",
   "execution_count": 45,
   "metadata": {},
   "outputs": [
    {
     "data": {
      "text/html": [
       "        <script type=\"text/javascript\">\n",
       "        window.PlotlyConfig = {MathJaxConfig: 'local'};\n",
       "        if (window.MathJax) {MathJax.Hub.Config({SVG: {font: \"STIX-Web\"}});}\n",
       "        if (typeof require !== 'undefined') {\n",
       "        require.undef(\"plotly\");\n",
       "        requirejs.config({\n",
       "            paths: {\n",
       "                'plotly': ['https://cdn.plot.ly/plotly-latest.min']\n",
       "            }\n",
       "        });\n",
       "        require(['plotly'], function(Plotly) {\n",
       "            window._Plotly = Plotly;\n",
       "        });\n",
       "        }\n",
       "        </script>\n",
       "        "
      ]
     },
     "metadata": {},
     "output_type": "display_data"
    }
   ],
   "source": [
    "from plotly.offline import download_plotlyjs, init_notebook_mode, plot, iplot\n",
    "init_notebook_mode(connected = True) # To connect Jupyter notebook to javascript\n",
    "from jupyterthemes import jtplot # Jupyter theme\n",
    "jtplot.style (theme = 'monokai', context = 'notebook',ticks =True, grid = False)\n",
    "plt.rcParams[\"figure.figsize\"] = [15, 15]\n",
    "#pd.set_option('display.float_format', lambda x: '%.5f' % x)\n",
    "import pandas as pd\n",
    "import seaborn as sns\n",
    "import matplotlib.pyplot as plt\n",
    "pd.options.display.max_columns = 30\n",
    "pd.options.display.max_rows = 30"
   ]
  },
  {
   "cell_type": "code",
   "execution_count": 3,
   "metadata": {},
   "outputs": [],
   "source": [
    "data = pd.read_csv(r'C:\\Users\\Administrator\\Class Notebooks\\Datasets\\2020 November General Election - Turnout Rates.csv')"
   ]
  },
  {
   "cell_type": "code",
   "execution_count": 4,
   "metadata": {},
   "outputs": [
    {
     "data": {
      "text/html": [
       "<div>\n",
       "<style scoped>\n",
       "    .dataframe tbody tr th:only-of-type {\n",
       "        vertical-align: middle;\n",
       "    }\n",
       "\n",
       "    .dataframe tbody tr th {\n",
       "        vertical-align: top;\n",
       "    }\n",
       "\n",
       "    .dataframe thead th {\n",
       "        text-align: right;\n",
       "    }\n",
       "</style>\n",
       "<table border=\"1\" class=\"dataframe\">\n",
       "  <thead>\n",
       "    <tr style=\"text-align: right;\">\n",
       "      <th></th>\n",
       "      <th>State</th>\n",
       "      <th>Source</th>\n",
       "      <th>Official/Unofficial</th>\n",
       "      <th>Total Ballots Counted (Estimate)</th>\n",
       "      <th>Vote for Highest Office (President)</th>\n",
       "      <th>VEP Turnout Rate</th>\n",
       "      <th>Voting-Eligible Population (VEP)</th>\n",
       "      <th>Voting-Age Population (VAP)</th>\n",
       "      <th>% Non-citizen</th>\n",
       "      <th>Prison</th>\n",
       "      <th>Probation</th>\n",
       "      <th>Parole</th>\n",
       "      <th>Total Ineligible Felon</th>\n",
       "      <th>Overseas Eligible</th>\n",
       "      <th>State Abv</th>\n",
       "    </tr>\n",
       "  </thead>\n",
       "  <tbody>\n",
       "    <tr>\n",
       "      <th>0</th>\n",
       "      <td>United States</td>\n",
       "      <td>NaN</td>\n",
       "      <td>NaN</td>\n",
       "      <td>158,835,004</td>\n",
       "      <td>NaN</td>\n",
       "      <td>66.4%</td>\n",
       "      <td>239,247,182</td>\n",
       "      <td>257,605,088</td>\n",
       "      <td>7.8%</td>\n",
       "      <td>1,461,074</td>\n",
       "      <td>1,962,811</td>\n",
       "      <td>616,440</td>\n",
       "      <td>3,294,457</td>\n",
       "      <td>4,971,025</td>\n",
       "      <td>NaN</td>\n",
       "    </tr>\n",
       "    <tr>\n",
       "      <th>1</th>\n",
       "      <td>Alabama</td>\n",
       "      <td>https://www2.alabamavotes.gov/electionnight/st...</td>\n",
       "      <td>Unofficial</td>\n",
       "      <td>2,306,587</td>\n",
       "      <td>2,297,295</td>\n",
       "      <td>62.6%</td>\n",
       "      <td>3,683,055</td>\n",
       "      <td>3,837,540</td>\n",
       "      <td>2.3%</td>\n",
       "      <td>25,898</td>\n",
       "      <td>50,997</td>\n",
       "      <td>10,266</td>\n",
       "      <td>67,782</td>\n",
       "      <td>NaN</td>\n",
       "      <td>AL</td>\n",
       "    </tr>\n",
       "    <tr>\n",
       "      <th>2</th>\n",
       "      <td>Alaska</td>\n",
       "      <td>https://www.elections.alaska.gov/results/20GEN...</td>\n",
       "      <td>NaN</td>\n",
       "      <td>367,000</td>\n",
       "      <td>NaN</td>\n",
       "      <td>69.8%</td>\n",
       "      <td>525,568</td>\n",
       "      <td>551,117</td>\n",
       "      <td>3.4%</td>\n",
       "      <td>4,293</td>\n",
       "      <td>2,074</td>\n",
       "      <td>1,348</td>\n",
       "      <td>6,927</td>\n",
       "      <td>NaN</td>\n",
       "      <td>AK</td>\n",
       "    </tr>\n",
       "    <tr>\n",
       "      <th>3</th>\n",
       "      <td>Arizona</td>\n",
       "      <td>https://results.arizona.vote/#/featured/18/0</td>\n",
       "      <td>NaN</td>\n",
       "      <td>3,400,000</td>\n",
       "      <td>NaN</td>\n",
       "      <td>65.5%</td>\n",
       "      <td>5,189,000</td>\n",
       "      <td>5,798,473</td>\n",
       "      <td>8.9%</td>\n",
       "      <td>38,520</td>\n",
       "      <td>76,844</td>\n",
       "      <td>7,536</td>\n",
       "      <td>93,699</td>\n",
       "      <td>NaN</td>\n",
       "      <td>AZ</td>\n",
       "    </tr>\n",
       "    <tr>\n",
       "      <th>4</th>\n",
       "      <td>Arkansas</td>\n",
       "      <td>https://results.enr.clarityelections.com/AR/10...</td>\n",
       "      <td>Unofficial</td>\n",
       "      <td>1,212,030</td>\n",
       "      <td>1,206,697</td>\n",
       "      <td>55.5%</td>\n",
       "      <td>2,182,375</td>\n",
       "      <td>2,331,171</td>\n",
       "      <td>3.6%</td>\n",
       "      <td>17,510</td>\n",
       "      <td>36,719</td>\n",
       "      <td>24,698</td>\n",
       "      <td>64,974</td>\n",
       "      <td>NaN</td>\n",
       "      <td>AR</td>\n",
       "    </tr>\n",
       "  </tbody>\n",
       "</table>\n",
       "</div>"
      ],
      "text/plain": [
       "           State                                             Source  \\\n",
       "0  United States                                                NaN   \n",
       "1        Alabama  https://www2.alabamavotes.gov/electionnight/st...   \n",
       "2         Alaska  https://www.elections.alaska.gov/results/20GEN...   \n",
       "3        Arizona       https://results.arizona.vote/#/featured/18/0   \n",
       "4       Arkansas  https://results.enr.clarityelections.com/AR/10...   \n",
       "\n",
       "  Official/Unofficial Total Ballots Counted (Estimate)  \\\n",
       "0                 NaN                      158,835,004   \n",
       "1          Unofficial                        2,306,587   \n",
       "2                 NaN                          367,000   \n",
       "3                 NaN                        3,400,000   \n",
       "4          Unofficial                        1,212,030   \n",
       "\n",
       "  Vote for Highest Office (President) VEP Turnout Rate  \\\n",
       "0                                 NaN            66.4%   \n",
       "1                           2,297,295            62.6%   \n",
       "2                                 NaN            69.8%   \n",
       "3                                 NaN            65.5%   \n",
       "4                           1,206,697            55.5%   \n",
       "\n",
       "  Voting-Eligible Population (VEP) Voting-Age Population (VAP) % Non-citizen  \\\n",
       "0                      239,247,182                 257,605,088          7.8%   \n",
       "1                        3,683,055                   3,837,540          2.3%   \n",
       "2                          525,568                     551,117          3.4%   \n",
       "3                        5,189,000                   5,798,473          8.9%   \n",
       "4                        2,182,375                   2,331,171          3.6%   \n",
       "\n",
       "      Prison  Probation   Parole Total Ineligible Felon Overseas Eligible  \\\n",
       "0  1,461,074  1,962,811  616,440              3,294,457         4,971,025   \n",
       "1     25,898     50,997   10,266                 67,782               NaN   \n",
       "2      4,293      2,074    1,348                  6,927               NaN   \n",
       "3     38,520     76,844    7,536                 93,699               NaN   \n",
       "4     17,510     36,719   24,698                 64,974               NaN   \n",
       "\n",
       "  State Abv  \n",
       "0       NaN  \n",
       "1        AL  \n",
       "2        AK  \n",
       "3        AZ  \n",
       "4        AR  "
      ]
     },
     "execution_count": 4,
     "metadata": {},
     "output_type": "execute_result"
    }
   ],
   "source": [
    "data.head()"
   ]
  },
  {
   "cell_type": "code",
   "execution_count": 8,
   "metadata": {},
   "outputs": [
    {
     "data": {
      "text/html": [
       "<div>\n",
       "<style scoped>\n",
       "    .dataframe tbody tr th:only-of-type {\n",
       "        vertical-align: middle;\n",
       "    }\n",
       "\n",
       "    .dataframe tbody tr th {\n",
       "        vertical-align: top;\n",
       "    }\n",
       "\n",
       "    .dataframe thead th {\n",
       "        text-align: right;\n",
       "    }\n",
       "</style>\n",
       "<table border=\"1\" class=\"dataframe\">\n",
       "  <thead>\n",
       "    <tr style=\"text-align: right;\">\n",
       "      <th></th>\n",
       "      <th>State</th>\n",
       "      <th>Source</th>\n",
       "      <th>Official/Unofficial</th>\n",
       "      <th>Total Ballots Counted (Estimate)</th>\n",
       "      <th>Vote for Highest Office (President)</th>\n",
       "      <th>VEP Turnout Rate</th>\n",
       "      <th>Voting-Eligible Population (VEP)</th>\n",
       "      <th>Voting-Age Population (VAP)</th>\n",
       "      <th>% Non-citizen</th>\n",
       "      <th>Prison</th>\n",
       "      <th>Probation</th>\n",
       "      <th>Parole</th>\n",
       "      <th>Total Ineligible Felon</th>\n",
       "      <th>Overseas Eligible</th>\n",
       "      <th>State Abv</th>\n",
       "    </tr>\n",
       "  </thead>\n",
       "  <tbody>\n",
       "    <tr>\n",
       "      <th>0</th>\n",
       "      <td>United States</td>\n",
       "      <td>NaN</td>\n",
       "      <td>NaN</td>\n",
       "      <td>158,835,004</td>\n",
       "      <td>NaN</td>\n",
       "      <td>66.4%</td>\n",
       "      <td>239,247,182</td>\n",
       "      <td>257,605,088</td>\n",
       "      <td>7.8%</td>\n",
       "      <td>1,461,074</td>\n",
       "      <td>1,962,811</td>\n",
       "      <td>616,440</td>\n",
       "      <td>3,294,457</td>\n",
       "      <td>4,971,025</td>\n",
       "      <td>NaN</td>\n",
       "    </tr>\n",
       "    <tr>\n",
       "      <th>1</th>\n",
       "      <td>Alabama</td>\n",
       "      <td>https://www2.alabamavotes.gov/electionnight/st...</td>\n",
       "      <td>Unofficial</td>\n",
       "      <td>2,306,587</td>\n",
       "      <td>2,297,295</td>\n",
       "      <td>62.6%</td>\n",
       "      <td>3,683,055</td>\n",
       "      <td>3,837,540</td>\n",
       "      <td>2.3%</td>\n",
       "      <td>25,898</td>\n",
       "      <td>50,997</td>\n",
       "      <td>10,266</td>\n",
       "      <td>67,782</td>\n",
       "      <td>NaN</td>\n",
       "      <td>AL</td>\n",
       "    </tr>\n",
       "    <tr>\n",
       "      <th>2</th>\n",
       "      <td>Alaska</td>\n",
       "      <td>https://www.elections.alaska.gov/results/20GEN...</td>\n",
       "      <td>NaN</td>\n",
       "      <td>367,000</td>\n",
       "      <td>NaN</td>\n",
       "      <td>69.8%</td>\n",
       "      <td>525,568</td>\n",
       "      <td>551,117</td>\n",
       "      <td>3.4%</td>\n",
       "      <td>4,293</td>\n",
       "      <td>2,074</td>\n",
       "      <td>1,348</td>\n",
       "      <td>6,927</td>\n",
       "      <td>NaN</td>\n",
       "      <td>AK</td>\n",
       "    </tr>\n",
       "    <tr>\n",
       "      <th>3</th>\n",
       "      <td>Arizona</td>\n",
       "      <td>https://results.arizona.vote/#/featured/18/0</td>\n",
       "      <td>NaN</td>\n",
       "      <td>3,400,000</td>\n",
       "      <td>NaN</td>\n",
       "      <td>65.5%</td>\n",
       "      <td>5,189,000</td>\n",
       "      <td>5,798,473</td>\n",
       "      <td>8.9%</td>\n",
       "      <td>38,520</td>\n",
       "      <td>76,844</td>\n",
       "      <td>7,536</td>\n",
       "      <td>93,699</td>\n",
       "      <td>NaN</td>\n",
       "      <td>AZ</td>\n",
       "    </tr>\n",
       "    <tr>\n",
       "      <th>4</th>\n",
       "      <td>Arkansas</td>\n",
       "      <td>https://results.enr.clarityelections.com/AR/10...</td>\n",
       "      <td>Unofficial</td>\n",
       "      <td>1,212,030</td>\n",
       "      <td>1,206,697</td>\n",
       "      <td>55.5%</td>\n",
       "      <td>2,182,375</td>\n",
       "      <td>2,331,171</td>\n",
       "      <td>3.6%</td>\n",
       "      <td>17,510</td>\n",
       "      <td>36,719</td>\n",
       "      <td>24,698</td>\n",
       "      <td>64,974</td>\n",
       "      <td>NaN</td>\n",
       "      <td>AR</td>\n",
       "    </tr>\n",
       "    <tr>\n",
       "      <th>...</th>\n",
       "      <td>...</td>\n",
       "      <td>...</td>\n",
       "      <td>...</td>\n",
       "      <td>...</td>\n",
       "      <td>...</td>\n",
       "      <td>...</td>\n",
       "      <td>...</td>\n",
       "      <td>...</td>\n",
       "      <td>...</td>\n",
       "      <td>...</td>\n",
       "      <td>...</td>\n",
       "      <td>...</td>\n",
       "      <td>...</td>\n",
       "      <td>...</td>\n",
       "      <td>...</td>\n",
       "    </tr>\n",
       "    <tr>\n",
       "      <th>47</th>\n",
       "      <td>Virginia</td>\n",
       "      <td>https://results.elections.virginia.gov/vaelect...</td>\n",
       "      <td>Unofficial</td>\n",
       "      <td>4,425,000</td>\n",
       "      <td>4,409,913</td>\n",
       "      <td>71.4%</td>\n",
       "      <td>6,196,071</td>\n",
       "      <td>6,727,440</td>\n",
       "      <td>6.8%</td>\n",
       "      <td>35,743</td>\n",
       "      <td>63,111</td>\n",
       "      <td>1,860</td>\n",
       "      <td>76,732</td>\n",
       "      <td>NaN</td>\n",
       "      <td>VA</td>\n",
       "    </tr>\n",
       "    <tr>\n",
       "      <th>48</th>\n",
       "      <td>Washington</td>\n",
       "      <td>https://results.vote.wa.gov/results/20201103/t...</td>\n",
       "      <td>NaN</td>\n",
       "      <td>4,100,000</td>\n",
       "      <td>NaN</td>\n",
       "      <td>75.4%</td>\n",
       "      <td>5,437,844</td>\n",
       "      <td>6,070,046</td>\n",
       "      <td>9.1%</td>\n",
       "      <td>18,777</td>\n",
       "      <td>76,672</td>\n",
       "      <td>12,222</td>\n",
       "      <td>78,536</td>\n",
       "      <td>NaN</td>\n",
       "      <td>WA</td>\n",
       "    </tr>\n",
       "    <tr>\n",
       "      <th>49</th>\n",
       "      <td>West Virginia</td>\n",
       "      <td>NaN</td>\n",
       "      <td>NaN</td>\n",
       "      <td>795,000</td>\n",
       "      <td>NaN</td>\n",
       "      <td>57.0%</td>\n",
       "      <td>1,394,028</td>\n",
       "      <td>1,422,098</td>\n",
       "      <td>0.9%</td>\n",
       "      <td>6,757</td>\n",
       "      <td>6,593</td>\n",
       "      <td>4,287</td>\n",
       "      <td>15,132</td>\n",
       "      <td>NaN</td>\n",
       "      <td>WV</td>\n",
       "    </tr>\n",
       "    <tr>\n",
       "      <th>50</th>\n",
       "      <td>Wisconsin</td>\n",
       "      <td>NaN</td>\n",
       "      <td>NaN</td>\n",
       "      <td>3,325,000</td>\n",
       "      <td>NaN</td>\n",
       "      <td>76.1%</td>\n",
       "      <td>4,368,530</td>\n",
       "      <td>4,586,746</td>\n",
       "      <td>3.2%</td>\n",
       "      <td>23,574</td>\n",
       "      <td>42,909</td>\n",
       "      <td>21,015</td>\n",
       "      <td>71,193</td>\n",
       "      <td>NaN</td>\n",
       "      <td>WI</td>\n",
       "    </tr>\n",
       "    <tr>\n",
       "      <th>51</th>\n",
       "      <td>Wyoming</td>\n",
       "      <td>https://sos.wyo.gov/Elections/Docs/2020/2020Ge...</td>\n",
       "      <td>OFFICIAL</td>\n",
       "      <td>278,503</td>\n",
       "      <td>276,765</td>\n",
       "      <td>64.6%</td>\n",
       "      <td>431,364</td>\n",
       "      <td>447,915</td>\n",
       "      <td>2.2%</td>\n",
       "      <td>2,488</td>\n",
       "      <td>5,383</td>\n",
       "      <td>934</td>\n",
       "      <td>6,759</td>\n",
       "      <td>NaN</td>\n",
       "      <td>WY</td>\n",
       "    </tr>\n",
       "  </tbody>\n",
       "</table>\n",
       "<p>52 rows × 15 columns</p>\n",
       "</div>"
      ],
      "text/plain": [
       "            State                                             Source  \\\n",
       "0   United States                                                NaN   \n",
       "1         Alabama  https://www2.alabamavotes.gov/electionnight/st...   \n",
       "2          Alaska  https://www.elections.alaska.gov/results/20GEN...   \n",
       "3         Arizona       https://results.arizona.vote/#/featured/18/0   \n",
       "4        Arkansas  https://results.enr.clarityelections.com/AR/10...   \n",
       "..            ...                                                ...   \n",
       "47       Virginia  https://results.elections.virginia.gov/vaelect...   \n",
       "48     Washington  https://results.vote.wa.gov/results/20201103/t...   \n",
       "49  West Virginia                                                NaN   \n",
       "50      Wisconsin                                                NaN   \n",
       "51        Wyoming  https://sos.wyo.gov/Elections/Docs/2020/2020Ge...   \n",
       "\n",
       "   Official/Unofficial Total Ballots Counted (Estimate)  \\\n",
       "0                  NaN                      158,835,004   \n",
       "1           Unofficial                        2,306,587   \n",
       "2                  NaN                          367,000   \n",
       "3                  NaN                        3,400,000   \n",
       "4           Unofficial                        1,212,030   \n",
       "..                 ...                              ...   \n",
       "47          Unofficial                        4,425,000   \n",
       "48                 NaN                        4,100,000   \n",
       "49                 NaN                          795,000   \n",
       "50                 NaN                        3,325,000   \n",
       "51            OFFICIAL                          278,503   \n",
       "\n",
       "   Vote for Highest Office (President) VEP Turnout Rate  \\\n",
       "0                                  NaN            66.4%   \n",
       "1                            2,297,295            62.6%   \n",
       "2                                  NaN            69.8%   \n",
       "3                                  NaN            65.5%   \n",
       "4                            1,206,697            55.5%   \n",
       "..                                 ...              ...   \n",
       "47                           4,409,913            71.4%   \n",
       "48                                 NaN            75.4%   \n",
       "49                                 NaN            57.0%   \n",
       "50                                 NaN            76.1%   \n",
       "51                             276,765            64.6%   \n",
       "\n",
       "   Voting-Eligible Population (VEP) Voting-Age Population (VAP) % Non-citizen  \\\n",
       "0                       239,247,182                 257,605,088          7.8%   \n",
       "1                         3,683,055                   3,837,540          2.3%   \n",
       "2                           525,568                     551,117          3.4%   \n",
       "3                         5,189,000                   5,798,473          8.9%   \n",
       "4                         2,182,375                   2,331,171          3.6%   \n",
       "..                              ...                         ...           ...   \n",
       "47                        6,196,071                   6,727,440          6.8%   \n",
       "48                        5,437,844                   6,070,046          9.1%   \n",
       "49                        1,394,028                   1,422,098          0.9%   \n",
       "50                        4,368,530                   4,586,746          3.2%   \n",
       "51                          431,364                     447,915          2.2%   \n",
       "\n",
       "       Prison  Probation   Parole Total Ineligible Felon Overseas Eligible  \\\n",
       "0   1,461,074  1,962,811  616,440              3,294,457         4,971,025   \n",
       "1      25,898     50,997   10,266                 67,782               NaN   \n",
       "2       4,293      2,074    1,348                  6,927               NaN   \n",
       "3      38,520     76,844    7,536                 93,699               NaN   \n",
       "4      17,510     36,719   24,698                 64,974               NaN   \n",
       "..        ...        ...      ...                    ...               ...   \n",
       "47     35,743     63,111    1,860                 76,732               NaN   \n",
       "48     18,777     76,672   12,222                 78,536               NaN   \n",
       "49      6,757      6,593    4,287                 15,132               NaN   \n",
       "50     23,574     42,909   21,015                 71,193               NaN   \n",
       "51      2,488      5,383      934                  6,759               NaN   \n",
       "\n",
       "   State Abv  \n",
       "0        NaN  \n",
       "1         AL  \n",
       "2         AK  \n",
       "3         AZ  \n",
       "4         AR  \n",
       "..       ...  \n",
       "47        VA  \n",
       "48        WA  \n",
       "49        WV  \n",
       "50        WI  \n",
       "51        WY  \n",
       "\n",
       "[52 rows x 15 columns]"
      ]
     },
     "execution_count": 8,
     "metadata": {},
     "output_type": "execute_result"
    }
   ],
   "source": [
    "data"
   ]
  },
  {
   "cell_type": "code",
   "execution_count": 5,
   "metadata": {},
   "outputs": [],
   "source": [
    "#257605088 - 239247182"
   ]
  },
  {
   "cell_type": "code",
   "execution_count": 6,
   "metadata": {},
   "outputs": [],
   "source": [
    "#257605088"
   ]
  },
  {
   "cell_type": "code",
   "execution_count": 7,
   "metadata": {},
   "outputs": [
    {
     "data": {
      "text/html": [
       "<div>\n",
       "<style scoped>\n",
       "    .dataframe tbody tr th:only-of-type {\n",
       "        vertical-align: middle;\n",
       "    }\n",
       "\n",
       "    .dataframe tbody tr th {\n",
       "        vertical-align: top;\n",
       "    }\n",
       "\n",
       "    .dataframe thead th {\n",
       "        text-align: right;\n",
       "    }\n",
       "</style>\n",
       "<table border=\"1\" class=\"dataframe\">\n",
       "  <thead>\n",
       "    <tr style=\"text-align: right;\">\n",
       "      <th></th>\n",
       "      <th>State</th>\n",
       "      <th>Source</th>\n",
       "      <th>Official/Unofficial</th>\n",
       "      <th>Total Ballots Counted (Estimate)</th>\n",
       "      <th>Vote for Highest Office (President)</th>\n",
       "      <th>VEP Turnout Rate</th>\n",
       "      <th>Voting-Eligible Population (VEP)</th>\n",
       "      <th>Voting-Age Population (VAP)</th>\n",
       "      <th>% Non-citizen</th>\n",
       "      <th>Prison</th>\n",
       "      <th>Probation</th>\n",
       "      <th>Parole</th>\n",
       "      <th>Total Ineligible Felon</th>\n",
       "      <th>Overseas Eligible</th>\n",
       "      <th>State Abv</th>\n",
       "    </tr>\n",
       "  </thead>\n",
       "  <tbody>\n",
       "    <tr>\n",
       "      <th>22</th>\n",
       "      <td>Massachusetts</td>\n",
       "      <td>NaN</td>\n",
       "      <td>NaN</td>\n",
       "      <td>3,725,000</td>\n",
       "      <td>NaN</td>\n",
       "      <td>73.4%</td>\n",
       "      <td>5,072,901</td>\n",
       "      <td>5,566,452</td>\n",
       "      <td>8.7%</td>\n",
       "      <td>7,772</td>\n",
       "      <td>0</td>\n",
       "      <td>0</td>\n",
       "      <td>7,772</td>\n",
       "      <td>NaN</td>\n",
       "      <td>MA</td>\n",
       "    </tr>\n",
       "    <tr>\n",
       "      <th>21</th>\n",
       "      <td>Maryland</td>\n",
       "      <td>https://elections.maryland.gov/county_status_p...</td>\n",
       "      <td>NaN</td>\n",
       "      <td>3,050,000</td>\n",
       "      <td>NaN</td>\n",
       "      <td>70.7%</td>\n",
       "      <td>4,313,416</td>\n",
       "      <td>4,729,400</td>\n",
       "      <td>8.4%</td>\n",
       "      <td>18,165</td>\n",
       "      <td>0</td>\n",
       "      <td>0</td>\n",
       "      <td>18,165</td>\n",
       "      <td>NaN</td>\n",
       "      <td>MD</td>\n",
       "    </tr>\n",
       "    <tr>\n",
       "      <th>32</th>\n",
       "      <td>New Mexico</td>\n",
       "      <td>https://nmresults.azurewebsites.net/Default.aspx</td>\n",
       "      <td>Unofficial</td>\n",
       "      <td>923,612</td>\n",
       "      <td>919,377</td>\n",
       "      <td>61.0%</td>\n",
       "      <td>1,515,355</td>\n",
       "      <td>1,634,037</td>\n",
       "      <td>6.2%</td>\n",
       "      <td>6,887</td>\n",
       "      <td>12,090</td>\n",
       "      <td>2,805</td>\n",
       "      <td>17,188</td>\n",
       "      <td>NaN</td>\n",
       "      <td>NM</td>\n",
       "    </tr>\n",
       "    <tr>\n",
       "      <th>37</th>\n",
       "      <td>Oklahoma</td>\n",
       "      <td>https://www.ok.gov/elections/Election_Info/202...</td>\n",
       "      <td>OFFICIAL</td>\n",
       "      <td>1,565,000</td>\n",
       "      <td>1,560,699</td>\n",
       "      <td>55.0%</td>\n",
       "      <td>2,845,835</td>\n",
       "      <td>3,031,792</td>\n",
       "      <td>4.3%</td>\n",
       "      <td>27,558</td>\n",
       "      <td>41,562</td>\n",
       "      <td>1,780</td>\n",
       "      <td>55,106</td>\n",
       "      <td>NaN</td>\n",
       "      <td>OK</td>\n",
       "    </tr>\n",
       "    <tr>\n",
       "      <th>39</th>\n",
       "      <td>Pennsylvania</td>\n",
       "      <td>https://www.electionreturns.pa.gov/</td>\n",
       "      <td>NaN</td>\n",
       "      <td>6,900,000</td>\n",
       "      <td>NaN</td>\n",
       "      <td>70.5%</td>\n",
       "      <td>9,781,976</td>\n",
       "      <td>10,186,170</td>\n",
       "      <td>3.5%</td>\n",
       "      <td>44,148</td>\n",
       "      <td>0</td>\n",
       "      <td>0</td>\n",
       "      <td>44,148</td>\n",
       "      <td>NaN</td>\n",
       "      <td>PA</td>\n",
       "    </tr>\n",
       "    <tr>\n",
       "      <th>48</th>\n",
       "      <td>Washington</td>\n",
       "      <td>https://results.vote.wa.gov/results/20201103/t...</td>\n",
       "      <td>NaN</td>\n",
       "      <td>4,100,000</td>\n",
       "      <td>NaN</td>\n",
       "      <td>75.4%</td>\n",
       "      <td>5,437,844</td>\n",
       "      <td>6,070,046</td>\n",
       "      <td>9.1%</td>\n",
       "      <td>18,777</td>\n",
       "      <td>76,672</td>\n",
       "      <td>12,222</td>\n",
       "      <td>78,536</td>\n",
       "      <td>NaN</td>\n",
       "      <td>WA</td>\n",
       "    </tr>\n",
       "    <tr>\n",
       "      <th>7</th>\n",
       "      <td>Connecticut</td>\n",
       "      <td>NaN</td>\n",
       "      <td>NaN</td>\n",
       "      <td>1,850,000</td>\n",
       "      <td>NaN</td>\n",
       "      <td>71.1%</td>\n",
       "      <td>2,603,327</td>\n",
       "      <td>2,839,560</td>\n",
       "      <td>7.7%</td>\n",
       "      <td>13,268</td>\n",
       "      <td>0</td>\n",
       "      <td>4,452</td>\n",
       "      <td>17,720</td>\n",
       "      <td>NaN</td>\n",
       "      <td>CT</td>\n",
       "    </tr>\n",
       "    <tr>\n",
       "      <th>23</th>\n",
       "      <td>Michigan</td>\n",
       "      <td>https://mielections.us/election/results/2020GE...</td>\n",
       "      <td>Unofficial</td>\n",
       "      <td>5,559,186</td>\n",
       "      <td>5,519,348</td>\n",
       "      <td>73.6%</td>\n",
       "      <td>7,550,147</td>\n",
       "      <td>7,870,864</td>\n",
       "      <td>3.6%</td>\n",
       "      <td>38,183</td>\n",
       "      <td>0</td>\n",
       "      <td>0</td>\n",
       "      <td>38,183</td>\n",
       "      <td>NaN</td>\n",
       "      <td>MI</td>\n",
       "    </tr>\n",
       "    <tr>\n",
       "      <th>9</th>\n",
       "      <td>District of Columbia</td>\n",
       "      <td>https://electionresults.dcboe.org/election_res...</td>\n",
       "      <td>NaN</td>\n",
       "      <td>350,000</td>\n",
       "      <td>NaN</td>\n",
       "      <td>64.7%</td>\n",
       "      <td>540,685</td>\n",
       "      <td>582,065</td>\n",
       "      <td>7.1%</td>\n",
       "      <td>0</td>\n",
       "      <td>0</td>\n",
       "      <td>0</td>\n",
       "      <td>0</td>\n",
       "      <td>NaN</td>\n",
       "      <td>DC</td>\n",
       "    </tr>\n",
       "    <tr>\n",
       "      <th>36</th>\n",
       "      <td>Ohio</td>\n",
       "      <td>https://liveresults.ohiosos.gov/</td>\n",
       "      <td>NaN</td>\n",
       "      <td>6,100,000</td>\n",
       "      <td>NaN</td>\n",
       "      <td>68.9%</td>\n",
       "      <td>8,859,167</td>\n",
       "      <td>9,144,626</td>\n",
       "      <td>2.6%</td>\n",
       "      <td>49,892</td>\n",
       "      <td>0</td>\n",
       "      <td>0</td>\n",
       "      <td>49,892</td>\n",
       "      <td>NaN</td>\n",
       "      <td>OH</td>\n",
       "    </tr>\n",
       "  </tbody>\n",
       "</table>\n",
       "</div>"
      ],
      "text/plain": [
       "                   State                                             Source  \\\n",
       "22         Massachusetts                                                NaN   \n",
       "21              Maryland  https://elections.maryland.gov/county_status_p...   \n",
       "32            New Mexico   https://nmresults.azurewebsites.net/Default.aspx   \n",
       "37              Oklahoma  https://www.ok.gov/elections/Election_Info/202...   \n",
       "39          Pennsylvania                https://www.electionreturns.pa.gov/   \n",
       "48            Washington  https://results.vote.wa.gov/results/20201103/t...   \n",
       "7            Connecticut                                                NaN   \n",
       "23              Michigan  https://mielections.us/election/results/2020GE...   \n",
       "9   District of Columbia  https://electionresults.dcboe.org/election_res...   \n",
       "36                  Ohio                   https://liveresults.ohiosos.gov/   \n",
       "\n",
       "   Official/Unofficial Total Ballots Counted (Estimate)  \\\n",
       "22                 NaN                        3,725,000   \n",
       "21                 NaN                        3,050,000   \n",
       "32          Unofficial                          923,612   \n",
       "37            OFFICIAL                        1,565,000   \n",
       "39                 NaN                        6,900,000   \n",
       "48                 NaN                        4,100,000   \n",
       "7                  NaN                        1,850,000   \n",
       "23          Unofficial                        5,559,186   \n",
       "9                  NaN                          350,000   \n",
       "36                 NaN                        6,100,000   \n",
       "\n",
       "   Vote for Highest Office (President) VEP Turnout Rate  \\\n",
       "22                                 NaN            73.4%   \n",
       "21                                 NaN            70.7%   \n",
       "32                             919,377            61.0%   \n",
       "37                           1,560,699            55.0%   \n",
       "39                                 NaN            70.5%   \n",
       "48                                 NaN            75.4%   \n",
       "7                                  NaN            71.1%   \n",
       "23                           5,519,348            73.6%   \n",
       "9                                  NaN            64.7%   \n",
       "36                                 NaN            68.9%   \n",
       "\n",
       "   Voting-Eligible Population (VEP) Voting-Age Population (VAP) % Non-citizen  \\\n",
       "22                        5,072,901                   5,566,452          8.7%   \n",
       "21                        4,313,416                   4,729,400          8.4%   \n",
       "32                        1,515,355                   1,634,037          6.2%   \n",
       "37                        2,845,835                   3,031,792          4.3%   \n",
       "39                        9,781,976                  10,186,170          3.5%   \n",
       "48                        5,437,844                   6,070,046          9.1%   \n",
       "7                         2,603,327                   2,839,560          7.7%   \n",
       "23                        7,550,147                   7,870,864          3.6%   \n",
       "9                           540,685                     582,065          7.1%   \n",
       "36                        8,859,167                   9,144,626          2.6%   \n",
       "\n",
       "    Prison Probation  Parole Total Ineligible Felon Overseas Eligible  \\\n",
       "22   7,772         0       0                  7,772               NaN   \n",
       "21  18,165         0       0                 18,165               NaN   \n",
       "32   6,887    12,090   2,805                 17,188               NaN   \n",
       "37  27,558    41,562   1,780                 55,106               NaN   \n",
       "39  44,148         0       0                 44,148               NaN   \n",
       "48  18,777    76,672  12,222                 78,536               NaN   \n",
       "7   13,268         0   4,452                 17,720               NaN   \n",
       "23  38,183         0       0                 38,183               NaN   \n",
       "9        0         0       0                      0               NaN   \n",
       "36  49,892         0       0                 49,892               NaN   \n",
       "\n",
       "   State Abv  \n",
       "22        MA  \n",
       "21        MD  \n",
       "32        NM  \n",
       "37        OK  \n",
       "39        PA  \n",
       "48        WA  \n",
       "7         CT  \n",
       "23        MI  \n",
       "9         DC  \n",
       "36        OH  "
      ]
     },
     "execution_count": 7,
     "metadata": {},
     "output_type": "execute_result"
    }
   ],
   "source": [
    "data.sample(10)"
   ]
  },
  {
   "cell_type": "code",
   "execution_count": null,
   "metadata": {},
   "outputs": [],
   "source": [
    "# We have Election data for US & for each state - \n",
    "# We might have to split data into two or more sets. One with US total data just 1 top line & Statewise data\n",
    "# Like to show data on US statemap\n",
    "# WOuld like to further split the data one with all the columns & ohter with few columns dropped such as source, \n",
    "# Official & unoffical, Vote for Highest Office (President), Overseas Eligible\n",
    "# Would like to compare the Total Ballots Counted,  Voting-Eligible Population (VEP), Voting-Age Population (VAP)\n",
    "# & compare Prison\tProbation\tParole\tTotal Ineligible Felon\n",
    "# For comparison will use either bar or box -or both box for my understanding & bar for end user\n",
    "# For reporting purpose will use state abv instead of state names\n",
    "# Will later see how to use % \n",
    "# My focus should be on showing data on maps, compare statewise data for different columns"
   ]
  },
  {
   "cell_type": "code",
   "execution_count": 3,
   "metadata": {},
   "outputs": [
    {
     "name": "stdout",
     "output_type": "stream",
     "text": [
      "<class 'pandas.core.frame.DataFrame'>\n",
      "RangeIndex: 52 entries, 0 to 51\n",
      "Data columns (total 15 columns):\n",
      " #   Column                               Non-Null Count  Dtype \n",
      "---  ------                               --------------  ----- \n",
      " 0   State                                52 non-null     object\n",
      " 1   Source                               40 non-null     object\n",
      " 2   Official/Unofficial                  25 non-null     object\n",
      " 3   Total Ballots Counted (Estimate)     52 non-null     object\n",
      " 4   Vote for Highest Office (President)  24 non-null     object\n",
      " 5   VEP Turnout Rate                     52 non-null     object\n",
      " 6   Voting-Eligible Population (VEP)     52 non-null     object\n",
      " 7   Voting-Age Population (VAP)          52 non-null     object\n",
      " 8   % Non-citizen                        52 non-null     object\n",
      " 9   Prison                               52 non-null     object\n",
      " 10  Probation                            52 non-null     object\n",
      " 11  Parole                               52 non-null     object\n",
      " 12  Total Ineligible Felon               52 non-null     object\n",
      " 13  Overseas Eligible                    1 non-null      object\n",
      " 14  State Abv                            51 non-null     object\n",
      "dtypes: object(15)\n",
      "memory usage: 6.2+ KB\n"
     ]
    }
   ],
   "source": [
    "data.info()"
   ]
  },
  {
   "cell_type": "code",
   "execution_count": 14,
   "metadata": {},
   "outputs": [
    {
     "data": {
      "text/plain": [
       "(52, 15)"
      ]
     },
     "execution_count": 14,
     "metadata": {},
     "output_type": "execute_result"
    }
   ],
   "source": [
    "data.shape"
   ]
  },
  {
   "cell_type": "code",
   "execution_count": 9,
   "metadata": {},
   "outputs": [
    {
     "data": {
      "text/html": [
       "<div>\n",
       "<style scoped>\n",
       "    .dataframe tbody tr th:only-of-type {\n",
       "        vertical-align: middle;\n",
       "    }\n",
       "\n",
       "    .dataframe tbody tr th {\n",
       "        vertical-align: top;\n",
       "    }\n",
       "\n",
       "    .dataframe thead th {\n",
       "        text-align: right;\n",
       "    }\n",
       "</style>\n",
       "<table border=\"1\" class=\"dataframe\">\n",
       "  <thead>\n",
       "    <tr style=\"text-align: right;\">\n",
       "      <th></th>\n",
       "      <th>count</th>\n",
       "      <th>unique</th>\n",
       "      <th>top</th>\n",
       "      <th>freq</th>\n",
       "    </tr>\n",
       "  </thead>\n",
       "  <tbody>\n",
       "    <tr>\n",
       "      <th>State</th>\n",
       "      <td>52</td>\n",
       "      <td>52</td>\n",
       "      <td>Ohio</td>\n",
       "      <td>1</td>\n",
       "    </tr>\n",
       "    <tr>\n",
       "      <th>Source</th>\n",
       "      <td>40</td>\n",
       "      <td>40</td>\n",
       "      <td>https://www.ok.gov/elections/Election_Info/202...</td>\n",
       "      <td>1</td>\n",
       "    </tr>\n",
       "    <tr>\n",
       "      <th>Official/Unofficial</th>\n",
       "      <td>25</td>\n",
       "      <td>2</td>\n",
       "      <td>Unofficial</td>\n",
       "      <td>23</td>\n",
       "    </tr>\n",
       "    <tr>\n",
       "      <th>Total Ballots Counted (Estimate)</th>\n",
       "      <td>52</td>\n",
       "      <td>50</td>\n",
       "      <td>6,100,000</td>\n",
       "      <td>2</td>\n",
       "    </tr>\n",
       "    <tr>\n",
       "      <th>Vote for Highest Office (President)</th>\n",
       "      <td>24</td>\n",
       "      <td>24</td>\n",
       "      <td>3,045,401</td>\n",
       "      <td>1</td>\n",
       "    </tr>\n",
       "    <tr>\n",
       "      <th>VEP Turnout Rate</th>\n",
       "      <td>52</td>\n",
       "      <td>48</td>\n",
       "      <td>70.5%</td>\n",
       "      <td>2</td>\n",
       "    </tr>\n",
       "    <tr>\n",
       "      <th>Voting-Eligible Population (VEP)</th>\n",
       "      <td>52</td>\n",
       "      <td>52</td>\n",
       "      <td>837,298</td>\n",
       "      <td>1</td>\n",
       "    </tr>\n",
       "    <tr>\n",
       "      <th>Voting-Age Population (VAP)</th>\n",
       "      <td>52</td>\n",
       "      <td>52</td>\n",
       "      <td>780,822</td>\n",
       "      <td>1</td>\n",
       "    </tr>\n",
       "    <tr>\n",
       "      <th>% Non-citizen</th>\n",
       "      <td>52</td>\n",
       "      <td>37</td>\n",
       "      <td>3.6%</td>\n",
       "      <td>5</td>\n",
       "    </tr>\n",
       "    <tr>\n",
       "      <th>Prison</th>\n",
       "      <td>52</td>\n",
       "      <td>50</td>\n",
       "      <td>0</td>\n",
       "      <td>3</td>\n",
       "    </tr>\n",
       "    <tr>\n",
       "      <th>Probation</th>\n",
       "      <td>52</td>\n",
       "      <td>30</td>\n",
       "      <td>0</td>\n",
       "      <td>23</td>\n",
       "    </tr>\n",
       "    <tr>\n",
       "      <th>Parole</th>\n",
       "      <td>52</td>\n",
       "      <td>33</td>\n",
       "      <td>0</td>\n",
       "      <td>20</td>\n",
       "    </tr>\n",
       "    <tr>\n",
       "      <th>Total Ineligible Felon</th>\n",
       "      <td>52</td>\n",
       "      <td>50</td>\n",
       "      <td>0</td>\n",
       "      <td>3</td>\n",
       "    </tr>\n",
       "    <tr>\n",
       "      <th>Overseas Eligible</th>\n",
       "      <td>1</td>\n",
       "      <td>1</td>\n",
       "      <td>4,971,025</td>\n",
       "      <td>1</td>\n",
       "    </tr>\n",
       "    <tr>\n",
       "      <th>State Abv</th>\n",
       "      <td>51</td>\n",
       "      <td>51</td>\n",
       "      <td>FL</td>\n",
       "      <td>1</td>\n",
       "    </tr>\n",
       "  </tbody>\n",
       "</table>\n",
       "</div>"
      ],
      "text/plain": [
       "                                    count unique  \\\n",
       "State                                  52     52   \n",
       "Source                                 40     40   \n",
       "Official/Unofficial                    25      2   \n",
       "Total Ballots Counted (Estimate)       52     50   \n",
       "Vote for Highest Office (President)    24     24   \n",
       "VEP Turnout Rate                       52     48   \n",
       "Voting-Eligible Population (VEP)       52     52   \n",
       "Voting-Age Population (VAP)            52     52   \n",
       "% Non-citizen                          52     37   \n",
       "Prison                                 52     50   \n",
       "Probation                              52     30   \n",
       "Parole                                 52     33   \n",
       "Total Ineligible Felon                 52     50   \n",
       "Overseas Eligible                       1      1   \n",
       "State Abv                              51     51   \n",
       "\n",
       "                                                                                   top  \\\n",
       "State                                                                             Ohio   \n",
       "Source                               https://www.ok.gov/elections/Election_Info/202...   \n",
       "Official/Unofficial                                                         Unofficial   \n",
       "Total Ballots Counted (Estimate)                                             6,100,000   \n",
       "Vote for Highest Office (President)                                          3,045,401   \n",
       "VEP Turnout Rate                                                                 70.5%   \n",
       "Voting-Eligible Population (VEP)                                               837,298   \n",
       "Voting-Age Population (VAP)                                                    780,822   \n",
       "% Non-citizen                                                                     3.6%   \n",
       "Prison                                                                               0   \n",
       "Probation                                                                            0   \n",
       "Parole                                                                               0   \n",
       "Total Ineligible Felon                                                               0   \n",
       "Overseas Eligible                                                            4,971,025   \n",
       "State Abv                                                                           FL   \n",
       "\n",
       "                                    freq  \n",
       "State                                  1  \n",
       "Source                                 1  \n",
       "Official/Unofficial                   23  \n",
       "Total Ballots Counted (Estimate)       2  \n",
       "Vote for Highest Office (President)    1  \n",
       "VEP Turnout Rate                       2  \n",
       "Voting-Eligible Population (VEP)       1  \n",
       "Voting-Age Population (VAP)            1  \n",
       "% Non-citizen                          5  \n",
       "Prison                                 3  \n",
       "Probation                             23  \n",
       "Parole                                20  \n",
       "Total Ineligible Felon                 3  \n",
       "Overseas Eligible                      1  \n",
       "State Abv                              1  "
      ]
     },
     "execution_count": 9,
     "metadata": {},
     "output_type": "execute_result"
    }
   ],
   "source": [
    "# Describe will not give us much of the information as data types for all columns is object\n",
    "data.describe().T"
   ]
  },
  {
   "cell_type": "code",
   "execution_count": null,
   "metadata": {},
   "outputs": [],
   "source": [
    "# Data type for all columns is object so we have to change object data type to numerical data whereever required\n"
   ]
  },
  {
   "cell_type": "code",
   "execution_count": 5,
   "metadata": {},
   "outputs": [],
   "source": [
    "# Keep ing only 1st row of the dataset that represent total summarised US data\n"
   ]
  },
  {
   "cell_type": "code",
   "execution_count": 11,
   "metadata": {},
   "outputs": [
    {
     "data": {
      "text/html": [
       "<div>\n",
       "<style scoped>\n",
       "    .dataframe tbody tr th:only-of-type {\n",
       "        vertical-align: middle;\n",
       "    }\n",
       "\n",
       "    .dataframe tbody tr th {\n",
       "        vertical-align: top;\n",
       "    }\n",
       "\n",
       "    .dataframe thead th {\n",
       "        text-align: right;\n",
       "    }\n",
       "</style>\n",
       "<table border=\"1\" class=\"dataframe\">\n",
       "  <thead>\n",
       "    <tr style=\"text-align: right;\">\n",
       "      <th></th>\n",
       "      <th>State</th>\n",
       "      <th>Source</th>\n",
       "      <th>Official/Unofficial</th>\n",
       "      <th>Total Ballots Counted (Estimate)</th>\n",
       "      <th>Vote for Highest Office (President)</th>\n",
       "      <th>VEP Turnout Rate</th>\n",
       "      <th>Voting-Eligible Population (VEP)</th>\n",
       "      <th>Voting-Age Population (VAP)</th>\n",
       "      <th>% Non-citizen</th>\n",
       "      <th>Prison</th>\n",
       "      <th>Probation</th>\n",
       "      <th>Parole</th>\n",
       "      <th>Total Ineligible Felon</th>\n",
       "      <th>Overseas Eligible</th>\n",
       "      <th>State Abv</th>\n",
       "    </tr>\n",
       "  </thead>\n",
       "  <tbody>\n",
       "    <tr>\n",
       "      <th>0</th>\n",
       "      <td>United States</td>\n",
       "      <td>NaN</td>\n",
       "      <td>NaN</td>\n",
       "      <td>158,835,004</td>\n",
       "      <td>NaN</td>\n",
       "      <td>66.4%</td>\n",
       "      <td>239,247,182</td>\n",
       "      <td>257,605,088</td>\n",
       "      <td>7.8%</td>\n",
       "      <td>1,461,074</td>\n",
       "      <td>1,962,811</td>\n",
       "      <td>616,440</td>\n",
       "      <td>3,294,457</td>\n",
       "      <td>4,971,025</td>\n",
       "      <td>NaN</td>\n",
       "    </tr>\n",
       "  </tbody>\n",
       "</table>\n",
       "</div>"
      ],
      "text/plain": [
       "           State Source Official/Unofficial Total Ballots Counted (Estimate)  \\\n",
       "0  United States    NaN                 NaN                      158,835,004   \n",
       "\n",
       "  Vote for Highest Office (President) VEP Turnout Rate  \\\n",
       "0                                 NaN            66.4%   \n",
       "\n",
       "  Voting-Eligible Population (VEP) Voting-Age Population (VAP) % Non-citizen  \\\n",
       "0                      239,247,182                 257,605,088          7.8%   \n",
       "\n",
       "      Prison  Probation   Parole Total Ineligible Felon Overseas Eligible  \\\n",
       "0  1,461,074  1,962,811  616,440              3,294,457         4,971,025   \n",
       "\n",
       "  State Abv  \n",
       "0       NaN  "
      ]
     },
     "execution_count": 11,
     "metadata": {},
     "output_type": "execute_result"
    }
   ],
   "source": [
    "data_us = data[:1]\n",
    "data_us"
   ]
  },
  {
   "cell_type": "code",
   "execution_count": 12,
   "metadata": {},
   "outputs": [],
   "source": [
    "data_st = data[1:]"
   ]
  },
  {
   "cell_type": "code",
   "execution_count": 13,
   "metadata": {},
   "outputs": [
    {
     "data": {
      "text/html": [
       "<div>\n",
       "<style scoped>\n",
       "    .dataframe tbody tr th:only-of-type {\n",
       "        vertical-align: middle;\n",
       "    }\n",
       "\n",
       "    .dataframe tbody tr th {\n",
       "        vertical-align: top;\n",
       "    }\n",
       "\n",
       "    .dataframe thead th {\n",
       "        text-align: right;\n",
       "    }\n",
       "</style>\n",
       "<table border=\"1\" class=\"dataframe\">\n",
       "  <thead>\n",
       "    <tr style=\"text-align: right;\">\n",
       "      <th></th>\n",
       "      <th>State</th>\n",
       "      <th>Source</th>\n",
       "      <th>Official/Unofficial</th>\n",
       "      <th>Total Ballots Counted (Estimate)</th>\n",
       "      <th>Vote for Highest Office (President)</th>\n",
       "      <th>VEP Turnout Rate</th>\n",
       "      <th>Voting-Eligible Population (VEP)</th>\n",
       "      <th>Voting-Age Population (VAP)</th>\n",
       "      <th>% Non-citizen</th>\n",
       "      <th>Prison</th>\n",
       "      <th>Probation</th>\n",
       "      <th>Parole</th>\n",
       "      <th>Total Ineligible Felon</th>\n",
       "      <th>Overseas Eligible</th>\n",
       "      <th>State Abv</th>\n",
       "    </tr>\n",
       "  </thead>\n",
       "  <tbody>\n",
       "    <tr>\n",
       "      <th>1</th>\n",
       "      <td>Alabama</td>\n",
       "      <td>https://www2.alabamavotes.gov/electionnight/st...</td>\n",
       "      <td>Unofficial</td>\n",
       "      <td>2,306,587</td>\n",
       "      <td>2,297,295</td>\n",
       "      <td>62.6%</td>\n",
       "      <td>3,683,055</td>\n",
       "      <td>3,837,540</td>\n",
       "      <td>2.3%</td>\n",
       "      <td>25,898</td>\n",
       "      <td>50,997</td>\n",
       "      <td>10,266</td>\n",
       "      <td>67,782</td>\n",
       "      <td>NaN</td>\n",
       "      <td>AL</td>\n",
       "    </tr>\n",
       "    <tr>\n",
       "      <th>2</th>\n",
       "      <td>Alaska</td>\n",
       "      <td>https://www.elections.alaska.gov/results/20GEN...</td>\n",
       "      <td>NaN</td>\n",
       "      <td>367,000</td>\n",
       "      <td>NaN</td>\n",
       "      <td>69.8%</td>\n",
       "      <td>525,568</td>\n",
       "      <td>551,117</td>\n",
       "      <td>3.4%</td>\n",
       "      <td>4,293</td>\n",
       "      <td>2,074</td>\n",
       "      <td>1,348</td>\n",
       "      <td>6,927</td>\n",
       "      <td>NaN</td>\n",
       "      <td>AK</td>\n",
       "    </tr>\n",
       "    <tr>\n",
       "      <th>3</th>\n",
       "      <td>Arizona</td>\n",
       "      <td>https://results.arizona.vote/#/featured/18/0</td>\n",
       "      <td>NaN</td>\n",
       "      <td>3,400,000</td>\n",
       "      <td>NaN</td>\n",
       "      <td>65.5%</td>\n",
       "      <td>5,189,000</td>\n",
       "      <td>5,798,473</td>\n",
       "      <td>8.9%</td>\n",
       "      <td>38,520</td>\n",
       "      <td>76,844</td>\n",
       "      <td>7,536</td>\n",
       "      <td>93,699</td>\n",
       "      <td>NaN</td>\n",
       "      <td>AZ</td>\n",
       "    </tr>\n",
       "    <tr>\n",
       "      <th>4</th>\n",
       "      <td>Arkansas</td>\n",
       "      <td>https://results.enr.clarityelections.com/AR/10...</td>\n",
       "      <td>Unofficial</td>\n",
       "      <td>1,212,030</td>\n",
       "      <td>1,206,697</td>\n",
       "      <td>55.5%</td>\n",
       "      <td>2,182,375</td>\n",
       "      <td>2,331,171</td>\n",
       "      <td>3.6%</td>\n",
       "      <td>17,510</td>\n",
       "      <td>36,719</td>\n",
       "      <td>24,698</td>\n",
       "      <td>64,974</td>\n",
       "      <td>NaN</td>\n",
       "      <td>AR</td>\n",
       "    </tr>\n",
       "    <tr>\n",
       "      <th>5</th>\n",
       "      <td>California</td>\n",
       "      <td>https://electionresults.sos.ca.gov/</td>\n",
       "      <td>Unofficial</td>\n",
       "      <td>16,800,000</td>\n",
       "      <td>NaN</td>\n",
       "      <td>64.7%</td>\n",
       "      <td>25,962,648</td>\n",
       "      <td>30,783,255</td>\n",
       "      <td>15.0%</td>\n",
       "      <td>104,730</td>\n",
       "      <td>0</td>\n",
       "      <td>102,586</td>\n",
       "      <td>207,316</td>\n",
       "      <td>NaN</td>\n",
       "      <td>CA</td>\n",
       "    </tr>\n",
       "  </tbody>\n",
       "</table>\n",
       "</div>"
      ],
      "text/plain": [
       "        State                                             Source  \\\n",
       "1     Alabama  https://www2.alabamavotes.gov/electionnight/st...   \n",
       "2      Alaska  https://www.elections.alaska.gov/results/20GEN...   \n",
       "3     Arizona       https://results.arizona.vote/#/featured/18/0   \n",
       "4    Arkansas  https://results.enr.clarityelections.com/AR/10...   \n",
       "5  California                https://electionresults.sos.ca.gov/   \n",
       "\n",
       "  Official/Unofficial Total Ballots Counted (Estimate)  \\\n",
       "1          Unofficial                        2,306,587   \n",
       "2                 NaN                          367,000   \n",
       "3                 NaN                        3,400,000   \n",
       "4          Unofficial                        1,212,030   \n",
       "5          Unofficial                       16,800,000   \n",
       "\n",
       "  Vote for Highest Office (President) VEP Turnout Rate  \\\n",
       "1                           2,297,295            62.6%   \n",
       "2                                 NaN            69.8%   \n",
       "3                                 NaN            65.5%   \n",
       "4                           1,206,697            55.5%   \n",
       "5                                 NaN            64.7%   \n",
       "\n",
       "  Voting-Eligible Population (VEP) Voting-Age Population (VAP) % Non-citizen  \\\n",
       "1                        3,683,055                   3,837,540          2.3%   \n",
       "2                          525,568                     551,117          3.4%   \n",
       "3                        5,189,000                   5,798,473          8.9%   \n",
       "4                        2,182,375                   2,331,171          3.6%   \n",
       "5                       25,962,648                  30,783,255         15.0%   \n",
       "\n",
       "    Prison Probation   Parole Total Ineligible Felon Overseas Eligible  \\\n",
       "1   25,898    50,997   10,266                 67,782               NaN   \n",
       "2    4,293     2,074    1,348                  6,927               NaN   \n",
       "3   38,520    76,844    7,536                 93,699               NaN   \n",
       "4   17,510    36,719   24,698                 64,974               NaN   \n",
       "5  104,730         0  102,586                207,316               NaN   \n",
       "\n",
       "  State Abv  \n",
       "1        AL  \n",
       "2        AK  \n",
       "3        AZ  \n",
       "4        AR  \n",
       "5        CA  "
      ]
     },
     "execution_count": 13,
     "metadata": {},
     "output_type": "execute_result"
    }
   ],
   "source": [
    "data_st.head()"
   ]
  },
  {
   "cell_type": "code",
   "execution_count": 14,
   "metadata": {},
   "outputs": [],
   "source": [
    "# Copying the statewise data & official & other columns \n",
    "data_st_of = data_st.copy()"
   ]
  },
  {
   "cell_type": "code",
   "execution_count": 15,
   "metadata": {},
   "outputs": [
    {
     "name": "stderr",
     "output_type": "stream",
     "text": [
      "C:\\ProgramData\\Anaconda3\\lib\\site-packages\\pandas\\core\\frame.py:4163: SettingWithCopyWarning: \n",
      "A value is trying to be set on a copy of a slice from a DataFrame\n",
      "\n",
      "See the caveats in the documentation: https://pandas.pydata.org/pandas-docs/stable/user_guide/indexing.html#returning-a-view-versus-a-copy\n",
      "  return super().drop(\n"
     ]
    }
   ],
   "source": [
    "# Removing the unnecessary columns \n",
    "data_st.drop(['Source','Official/Unofficial','Vote for Highest Office (President)','Overseas Eligible' ],\n",
    "             axis = 'columns', inplace=True)"
   ]
  },
  {
   "cell_type": "code",
   "execution_count": 16,
   "metadata": {},
   "outputs": [
    {
     "data": {
      "text/html": [
       "<div>\n",
       "<style scoped>\n",
       "    .dataframe tbody tr th:only-of-type {\n",
       "        vertical-align: middle;\n",
       "    }\n",
       "\n",
       "    .dataframe tbody tr th {\n",
       "        vertical-align: top;\n",
       "    }\n",
       "\n",
       "    .dataframe thead th {\n",
       "        text-align: right;\n",
       "    }\n",
       "</style>\n",
       "<table border=\"1\" class=\"dataframe\">\n",
       "  <thead>\n",
       "    <tr style=\"text-align: right;\">\n",
       "      <th></th>\n",
       "      <th>State</th>\n",
       "      <th>Total Ballots Counted (Estimate)</th>\n",
       "      <th>VEP Turnout Rate</th>\n",
       "      <th>Voting-Eligible Population (VEP)</th>\n",
       "      <th>Voting-Age Population (VAP)</th>\n",
       "      <th>% Non-citizen</th>\n",
       "      <th>Prison</th>\n",
       "      <th>Probation</th>\n",
       "      <th>Parole</th>\n",
       "      <th>Total Ineligible Felon</th>\n",
       "      <th>State Abv</th>\n",
       "    </tr>\n",
       "  </thead>\n",
       "  <tbody>\n",
       "    <tr>\n",
       "      <th>1</th>\n",
       "      <td>Alabama</td>\n",
       "      <td>2,306,587</td>\n",
       "      <td>62.6%</td>\n",
       "      <td>3,683,055</td>\n",
       "      <td>3,837,540</td>\n",
       "      <td>2.3%</td>\n",
       "      <td>25,898</td>\n",
       "      <td>50,997</td>\n",
       "      <td>10,266</td>\n",
       "      <td>67,782</td>\n",
       "      <td>AL</td>\n",
       "    </tr>\n",
       "    <tr>\n",
       "      <th>2</th>\n",
       "      <td>Alaska</td>\n",
       "      <td>367,000</td>\n",
       "      <td>69.8%</td>\n",
       "      <td>525,568</td>\n",
       "      <td>551,117</td>\n",
       "      <td>3.4%</td>\n",
       "      <td>4,293</td>\n",
       "      <td>2,074</td>\n",
       "      <td>1,348</td>\n",
       "      <td>6,927</td>\n",
       "      <td>AK</td>\n",
       "    </tr>\n",
       "    <tr>\n",
       "      <th>3</th>\n",
       "      <td>Arizona</td>\n",
       "      <td>3,400,000</td>\n",
       "      <td>65.5%</td>\n",
       "      <td>5,189,000</td>\n",
       "      <td>5,798,473</td>\n",
       "      <td>8.9%</td>\n",
       "      <td>38,520</td>\n",
       "      <td>76,844</td>\n",
       "      <td>7,536</td>\n",
       "      <td>93,699</td>\n",
       "      <td>AZ</td>\n",
       "    </tr>\n",
       "    <tr>\n",
       "      <th>4</th>\n",
       "      <td>Arkansas</td>\n",
       "      <td>1,212,030</td>\n",
       "      <td>55.5%</td>\n",
       "      <td>2,182,375</td>\n",
       "      <td>2,331,171</td>\n",
       "      <td>3.6%</td>\n",
       "      <td>17,510</td>\n",
       "      <td>36,719</td>\n",
       "      <td>24,698</td>\n",
       "      <td>64,974</td>\n",
       "      <td>AR</td>\n",
       "    </tr>\n",
       "    <tr>\n",
       "      <th>5</th>\n",
       "      <td>California</td>\n",
       "      <td>16,800,000</td>\n",
       "      <td>64.7%</td>\n",
       "      <td>25,962,648</td>\n",
       "      <td>30,783,255</td>\n",
       "      <td>15.0%</td>\n",
       "      <td>104,730</td>\n",
       "      <td>0</td>\n",
       "      <td>102,586</td>\n",
       "      <td>207,316</td>\n",
       "      <td>CA</td>\n",
       "    </tr>\n",
       "  </tbody>\n",
       "</table>\n",
       "</div>"
      ],
      "text/plain": [
       "        State Total Ballots Counted (Estimate) VEP Turnout Rate  \\\n",
       "1     Alabama                        2,306,587            62.6%   \n",
       "2      Alaska                          367,000            69.8%   \n",
       "3     Arizona                        3,400,000            65.5%   \n",
       "4    Arkansas                        1,212,030            55.5%   \n",
       "5  California                       16,800,000            64.7%   \n",
       "\n",
       "  Voting-Eligible Population (VEP) Voting-Age Population (VAP) % Non-citizen  \\\n",
       "1                        3,683,055                   3,837,540          2.3%   \n",
       "2                          525,568                     551,117          3.4%   \n",
       "3                        5,189,000                   5,798,473          8.9%   \n",
       "4                        2,182,375                   2,331,171          3.6%   \n",
       "5                       25,962,648                  30,783,255         15.0%   \n",
       "\n",
       "    Prison Probation   Parole Total Ineligible Felon State Abv  \n",
       "1   25,898    50,997   10,266                 67,782        AL  \n",
       "2    4,293     2,074    1,348                  6,927        AK  \n",
       "3   38,520    76,844    7,536                 93,699        AZ  \n",
       "4   17,510    36,719   24,698                 64,974        AR  \n",
       "5  104,730         0  102,586                207,316        CA  "
      ]
     },
     "execution_count": 16,
     "metadata": {},
     "output_type": "execute_result"
    }
   ],
   "source": [
    "data_st.head()"
   ]
  },
  {
   "cell_type": "code",
   "execution_count": 17,
   "metadata": {},
   "outputs": [],
   "source": [
    "# Lets convert the data types to numeric for the numeric columns\n",
    "# But before that we need to remove the commas for the data & percentage signs"
   ]
  },
  {
   "cell_type": "code",
   "execution_count": 31,
   "metadata": {},
   "outputs": [],
   "source": [
    "mynum = '2,0.3%'"
   ]
  },
  {
   "cell_type": "code",
   "execution_count": 54,
   "metadata": {},
   "outputs": [],
   "source": [
    "import datetime"
   ]
  },
  {
   "cell_type": "code",
   "execution_count": 55,
   "metadata": {},
   "outputs": [
    {
     "name": "stdout",
     "output_type": "stream",
     "text": [
      "2021-05-25 11:28:01.270700\n",
      "0:00:00\n"
     ]
    }
   ],
   "source": [
    "begin_time = datetime.datetime.now()\n",
    "\n",
    "string = '2,0.3%'\n",
    "for ch in [',','%']:\n",
    "    \n",
    "    if ch in string:\n",
    "        string=string.replace(ch,\"\")\n",
    "        \n",
    "print(datetime.datetime.now())\n",
    "print(datetime.datetime.now() - begin_time)"
   ]
  },
  {
   "cell_type": "code",
   "execution_count": 47,
   "metadata": {},
   "outputs": [
    {
     "data": {
      "text/plain": [
       "'20.3'"
      ]
     },
     "execution_count": 47,
     "metadata": {},
     "output_type": "execute_result"
    }
   ],
   "source": [
    "string"
   ]
  },
  {
   "cell_type": "code",
   "execution_count": 56,
   "metadata": {},
   "outputs": [
    {
     "name": "stdout",
     "output_type": "stream",
     "text": [
      "20.3\n",
      "2021-05-25 11:28:29.966699\n",
      "0:00:00\n"
     ]
    }
   ],
   "source": [
    "begin_time = datetime.datetime.now()\n",
    "num = 20.3\n",
    "\n",
    "string = \"2,0.3%\" \n",
    "print (string.replace(',', '').replace('%', ''))\n",
    "\n",
    "print(datetime.datetime.now())\n",
    "print(datetime.datetime.now() - begin_time)"
   ]
  },
  {
   "cell_type": "code",
   "execution_count": 83,
   "metadata": {},
   "outputs": [],
   "source": [
    "mynum = '20.3'"
   ]
  },
  {
   "cell_type": "code",
   "execution_count": null,
   "metadata": {},
   "outputs": [],
   "source": [
    "# Changing the data types "
   ]
  },
  {
   "cell_type": "code",
   "execution_count": null,
   "metadata": {},
   "outputs": [],
   "source": [
    "# df[['col.name1', 'col.name2'...]] = df[['col.name1', 'col.name2'..]].astype('data_type')"
   ]
  },
  {
   "cell_type": "code",
   "execution_count": null,
   "metadata": {},
   "outputs": [],
   "source": [
    "# astype()\n",
    "# The astype() method enables you to be explicit about the dtype you want your DataFrame or Series to have\n",
    "# convert all DataFrame columns to the int64 dtype\n",
    "# df = df.astype(int)\n",
    "\n",
    "# convert column \"a\" to int64 dtype and \"b\" to complex type\n",
    "# df = df.astype({\"a\": int, \"b\": complex})\n",
    "\n",
    "# convert Series to float16 type\n",
    "#s = s.astype(np.float16)\n",
    "\n",
    "# convert Series to Python strings\n",
    "#s = s.astype(str)\n",
    "\n",
    "# convert Series to categorical type - see docs for more details\n",
    "# s = s.astype('category')\n",
    "\n",
    "# Be careful\n",
    "# astype() is powerful, but it will sometimes convert values \"incorrectly\". For example:\n",
    "\n",
    "# s = pd.Series([1, 2, -7])\n",
    "# s\n",
    "#0    1\n",
    "#1    2\n",
    "#2   -7\n",
    "#dtype: int64\n",
    "\n",
    "#s.astype(np.uint8)\n",
    "#0      1\n",
    "#1      2\n",
    "#2    249\n",
    "#dtype: uint8"
   ]
  },
  {
   "cell_type": "code",
   "execution_count": null,
   "metadata": {},
   "outputs": [],
   "source": [
    "# pd.to_numeric(s, errors='raise')\n",
    "# Downcasting\n",
    "#By default, conversion with to_numeric() will give you either a int64 or float64 dtype \n",
    "# (or whatever integer width is native to your platform).\n",
    "\n",
    "# That's usually what you want, but what if you wanted to save some memory and use a more \n",
    "# compact dtype, like float32, or int8?\n",
    "\n",
    "#pd.to_numeric(s, downcast='integer')\n",
    "#0    1\n",
    "#1    2\n",
    "#2   -7\n",
    "#dtype: int8\n",
    "    \n",
    "#pd.to_numeric(s, downcast='float')\n",
    "#0    1.0\n",
    "#1    2.0\n",
    "#2   -7.0\n",
    "#dtype: float32"
   ]
  },
  {
   "cell_type": "code",
   "execution_count": 18,
   "metadata": {},
   "outputs": [
    {
     "data": {
      "text/html": [
       "<div>\n",
       "<style scoped>\n",
       "    .dataframe tbody tr th:only-of-type {\n",
       "        vertical-align: middle;\n",
       "    }\n",
       "\n",
       "    .dataframe tbody tr th {\n",
       "        vertical-align: top;\n",
       "    }\n",
       "\n",
       "    .dataframe thead th {\n",
       "        text-align: right;\n",
       "    }\n",
       "</style>\n",
       "<table border=\"1\" class=\"dataframe\">\n",
       "  <thead>\n",
       "    <tr style=\"text-align: right;\">\n",
       "      <th></th>\n",
       "      <th>State</th>\n",
       "      <th>Total Ballots Counted (Estimate)</th>\n",
       "      <th>VEP Turnout Rate</th>\n",
       "      <th>Voting-Eligible Population (VEP)</th>\n",
       "      <th>Voting-Age Population (VAP)</th>\n",
       "      <th>% Non-citizen</th>\n",
       "      <th>Prison</th>\n",
       "      <th>Probation</th>\n",
       "      <th>Parole</th>\n",
       "      <th>Total Ineligible Felon</th>\n",
       "      <th>State Abv</th>\n",
       "    </tr>\n",
       "  </thead>\n",
       "  <tbody>\n",
       "    <tr>\n",
       "      <th>1</th>\n",
       "      <td>Alabama</td>\n",
       "      <td>2,306,587</td>\n",
       "      <td>62.6%</td>\n",
       "      <td>3,683,055</td>\n",
       "      <td>3,837,540</td>\n",
       "      <td>2.3%</td>\n",
       "      <td>25,898</td>\n",
       "      <td>50,997</td>\n",
       "      <td>10,266</td>\n",
       "      <td>67,782</td>\n",
       "      <td>AL</td>\n",
       "    </tr>\n",
       "    <tr>\n",
       "      <th>2</th>\n",
       "      <td>Alaska</td>\n",
       "      <td>367,000</td>\n",
       "      <td>69.8%</td>\n",
       "      <td>525,568</td>\n",
       "      <td>551,117</td>\n",
       "      <td>3.4%</td>\n",
       "      <td>4,293</td>\n",
       "      <td>2,074</td>\n",
       "      <td>1,348</td>\n",
       "      <td>6,927</td>\n",
       "      <td>AK</td>\n",
       "    </tr>\n",
       "    <tr>\n",
       "      <th>3</th>\n",
       "      <td>Arizona</td>\n",
       "      <td>3,400,000</td>\n",
       "      <td>65.5%</td>\n",
       "      <td>5,189,000</td>\n",
       "      <td>5,798,473</td>\n",
       "      <td>8.9%</td>\n",
       "      <td>38,520</td>\n",
       "      <td>76,844</td>\n",
       "      <td>7,536</td>\n",
       "      <td>93,699</td>\n",
       "      <td>AZ</td>\n",
       "    </tr>\n",
       "    <tr>\n",
       "      <th>4</th>\n",
       "      <td>Arkansas</td>\n",
       "      <td>1,212,030</td>\n",
       "      <td>55.5%</td>\n",
       "      <td>2,182,375</td>\n",
       "      <td>2,331,171</td>\n",
       "      <td>3.6%</td>\n",
       "      <td>17,510</td>\n",
       "      <td>36,719</td>\n",
       "      <td>24,698</td>\n",
       "      <td>64,974</td>\n",
       "      <td>AR</td>\n",
       "    </tr>\n",
       "    <tr>\n",
       "      <th>5</th>\n",
       "      <td>California</td>\n",
       "      <td>16,800,000</td>\n",
       "      <td>64.7%</td>\n",
       "      <td>25,962,648</td>\n",
       "      <td>30,783,255</td>\n",
       "      <td>15.0%</td>\n",
       "      <td>104,730</td>\n",
       "      <td>0</td>\n",
       "      <td>102,586</td>\n",
       "      <td>207,316</td>\n",
       "      <td>CA</td>\n",
       "    </tr>\n",
       "  </tbody>\n",
       "</table>\n",
       "</div>"
      ],
      "text/plain": [
       "        State Total Ballots Counted (Estimate) VEP Turnout Rate  \\\n",
       "1     Alabama                        2,306,587            62.6%   \n",
       "2      Alaska                          367,000            69.8%   \n",
       "3     Arizona                        3,400,000            65.5%   \n",
       "4    Arkansas                        1,212,030            55.5%   \n",
       "5  California                       16,800,000            64.7%   \n",
       "\n",
       "  Voting-Eligible Population (VEP) Voting-Age Population (VAP) % Non-citizen  \\\n",
       "1                        3,683,055                   3,837,540          2.3%   \n",
       "2                          525,568                     551,117          3.4%   \n",
       "3                        5,189,000                   5,798,473          8.9%   \n",
       "4                        2,182,375                   2,331,171          3.6%   \n",
       "5                       25,962,648                  30,783,255         15.0%   \n",
       "\n",
       "    Prison Probation   Parole Total Ineligible Felon State Abv  \n",
       "1   25,898    50,997   10,266                 67,782        AL  \n",
       "2    4,293     2,074    1,348                  6,927        AK  \n",
       "3   38,520    76,844    7,536                 93,699        AZ  \n",
       "4   17,510    36,719   24,698                 64,974        AR  \n",
       "5  104,730         0  102,586                207,316        CA  "
      ]
     },
     "execution_count": 18,
     "metadata": {},
     "output_type": "execute_result"
    }
   ],
   "source": [
    "data_st.head()"
   ]
  },
  {
   "cell_type": "code",
   "execution_count": 19,
   "metadata": {},
   "outputs": [
    {
     "data": {
      "text/plain": [
       "Index(['State', 'Total Ballots Counted (Estimate)', 'VEP Turnout Rate',\n",
       "       'Voting-Eligible Population (VEP)', 'Voting-Age Population (VAP)',\n",
       "       '% Non-citizen', 'Prison', 'Probation', 'Parole',\n",
       "       'Total Ineligible Felon', 'State Abv'],\n",
       "      dtype='object')"
      ]
     },
     "execution_count": 19,
     "metadata": {},
     "output_type": "execute_result"
    }
   ],
   "source": [
    "data_st.columns"
   ]
  },
  {
   "cell_type": "code",
   "execution_count": 78,
   "metadata": {},
   "outputs": [
    {
     "name": "stderr",
     "output_type": "stream",
     "text": [
      "<ipython-input-78-2ec44bb9503e>:5: SettingWithCopyWarning: \n",
      "A value is trying to be set on a copy of a slice from a DataFrame.\n",
      "Try using .loc[row_indexer,col_indexer] = value instead\n",
      "\n",
      "See the caveats in the documentation: https://pandas.pydata.org/pandas-docs/stable/user_guide/indexing.html#returning-a-view-versus-a-copy\n",
      "  data_st[i] = (data_st[i].str.replace(',', '').str.replace('%', ''))\n"
     ]
    }
   ],
   "source": [
    "# Series.str.replace(pat, repl, n=- 1, case=None, flags=0, regex=None)\n",
    "for i in data_st.columns:\n",
    "    if i not in  ['State','State Abv']:\n",
    "        \n",
    "        data_st[i] = (data_st[i].str.replace(',', '').str.replace('%', ''))\n",
    "        \n",
    "        #print(data_st[i])"
   ]
  },
  {
   "cell_type": "code",
   "execution_count": 85,
   "metadata": {},
   "outputs": [
    {
     "data": {
      "text/html": [
       "<div>\n",
       "<style scoped>\n",
       "    .dataframe tbody tr th:only-of-type {\n",
       "        vertical-align: middle;\n",
       "    }\n",
       "\n",
       "    .dataframe tbody tr th {\n",
       "        vertical-align: top;\n",
       "    }\n",
       "\n",
       "    .dataframe thead th {\n",
       "        text-align: right;\n",
       "    }\n",
       "</style>\n",
       "<table border=\"1\" class=\"dataframe\">\n",
       "  <thead>\n",
       "    <tr style=\"text-align: right;\">\n",
       "      <th></th>\n",
       "      <th>State</th>\n",
       "      <th>Total Ballots Counted (Estimate)</th>\n",
       "      <th>VEP Turnout Rate</th>\n",
       "      <th>Voting-Eligible Population (VEP)</th>\n",
       "      <th>Voting-Age Population (VAP)</th>\n",
       "      <th>% Non-citizen</th>\n",
       "      <th>Prison</th>\n",
       "      <th>Probation</th>\n",
       "      <th>Parole</th>\n",
       "      <th>Total Ineligible Felon</th>\n",
       "      <th>State Abv</th>\n",
       "    </tr>\n",
       "  </thead>\n",
       "  <tbody>\n",
       "    <tr>\n",
       "      <th>1</th>\n",
       "      <td>Alabama</td>\n",
       "      <td>2306587</td>\n",
       "      <td>62.6</td>\n",
       "      <td>3683055</td>\n",
       "      <td>3837540</td>\n",
       "      <td>2.3</td>\n",
       "      <td>25898</td>\n",
       "      <td>50997</td>\n",
       "      <td>10266</td>\n",
       "      <td>67782</td>\n",
       "      <td>AL</td>\n",
       "    </tr>\n",
       "    <tr>\n",
       "      <th>2</th>\n",
       "      <td>Alaska</td>\n",
       "      <td>367000</td>\n",
       "      <td>69.8</td>\n",
       "      <td>525568</td>\n",
       "      <td>551117</td>\n",
       "      <td>3.4</td>\n",
       "      <td>4293</td>\n",
       "      <td>2074</td>\n",
       "      <td>1348</td>\n",
       "      <td>6927</td>\n",
       "      <td>AK</td>\n",
       "    </tr>\n",
       "    <tr>\n",
       "      <th>3</th>\n",
       "      <td>Arizona</td>\n",
       "      <td>3400000</td>\n",
       "      <td>65.5</td>\n",
       "      <td>5189000</td>\n",
       "      <td>5798473</td>\n",
       "      <td>8.9</td>\n",
       "      <td>38520</td>\n",
       "      <td>76844</td>\n",
       "      <td>7536</td>\n",
       "      <td>93699</td>\n",
       "      <td>AZ</td>\n",
       "    </tr>\n",
       "    <tr>\n",
       "      <th>4</th>\n",
       "      <td>Arkansas</td>\n",
       "      <td>1212030</td>\n",
       "      <td>55.5</td>\n",
       "      <td>2182375</td>\n",
       "      <td>2331171</td>\n",
       "      <td>3.6</td>\n",
       "      <td>17510</td>\n",
       "      <td>36719</td>\n",
       "      <td>24698</td>\n",
       "      <td>64974</td>\n",
       "      <td>AR</td>\n",
       "    </tr>\n",
       "    <tr>\n",
       "      <th>5</th>\n",
       "      <td>California</td>\n",
       "      <td>16800000</td>\n",
       "      <td>64.7</td>\n",
       "      <td>25962648</td>\n",
       "      <td>30783255</td>\n",
       "      <td>15.0</td>\n",
       "      <td>104730</td>\n",
       "      <td>0</td>\n",
       "      <td>102586</td>\n",
       "      <td>207316</td>\n",
       "      <td>CA</td>\n",
       "    </tr>\n",
       "  </tbody>\n",
       "</table>\n",
       "</div>"
      ],
      "text/plain": [
       "        State Total Ballots Counted (Estimate) VEP Turnout Rate  \\\n",
       "1     Alabama                          2306587             62.6   \n",
       "2      Alaska                           367000             69.8   \n",
       "3     Arizona                          3400000             65.5   \n",
       "4    Arkansas                          1212030             55.5   \n",
       "5  California                         16800000             64.7   \n",
       "\n",
       "  Voting-Eligible Population (VEP) Voting-Age Population (VAP) % Non-citizen  \\\n",
       "1                          3683055                     3837540           2.3   \n",
       "2                           525568                      551117           3.4   \n",
       "3                          5189000                     5798473           8.9   \n",
       "4                          2182375                     2331171           3.6   \n",
       "5                         25962648                    30783255          15.0   \n",
       "\n",
       "   Prison Probation  Parole Total Ineligible Felon State Abv  \n",
       "1   25898     50997   10266                  67782        AL  \n",
       "2    4293      2074    1348                   6927        AK  \n",
       "3   38520     76844    7536                  93699        AZ  \n",
       "4   17510     36719   24698                  64974        AR  \n",
       "5  104730         0  102586                 207316        CA  "
      ]
     },
     "execution_count": 85,
     "metadata": {},
     "output_type": "execute_result"
    }
   ],
   "source": [
    "data_st.head()"
   ]
  },
  {
   "cell_type": "code",
   "execution_count": 165,
   "metadata": {},
   "outputs": [
    {
     "data": {
      "text/html": [
       "<div>\n",
       "<style scoped>\n",
       "    .dataframe tbody tr th:only-of-type {\n",
       "        vertical-align: middle;\n",
       "    }\n",
       "\n",
       "    .dataframe tbody tr th {\n",
       "        vertical-align: top;\n",
       "    }\n",
       "\n",
       "    .dataframe thead th {\n",
       "        text-align: right;\n",
       "    }\n",
       "</style>\n",
       "<table border=\"1\" class=\"dataframe\">\n",
       "  <thead>\n",
       "    <tr style=\"text-align: right;\">\n",
       "      <th></th>\n",
       "      <th>State</th>\n",
       "      <th>Total Ballots Counted (Estimate)</th>\n",
       "      <th>VEP Turnout Rate</th>\n",
       "      <th>Voting-Eligible Population (VEP)</th>\n",
       "      <th>Voting-Age Population (VAP)</th>\n",
       "      <th>% Non-citizen</th>\n",
       "      <th>Prison</th>\n",
       "      <th>Probation</th>\n",
       "      <th>Parole</th>\n",
       "      <th>Total Ineligible Felon</th>\n",
       "      <th>State Abv</th>\n",
       "    </tr>\n",
       "  </thead>\n",
       "  <tbody>\n",
       "    <tr>\n",
       "      <th>1</th>\n",
       "      <td>Alabama</td>\n",
       "      <td>2306587</td>\n",
       "      <td>63</td>\n",
       "      <td>3683055</td>\n",
       "      <td>3837540</td>\n",
       "      <td>2</td>\n",
       "      <td>25898</td>\n",
       "      <td>50997</td>\n",
       "      <td>10266</td>\n",
       "      <td>67782</td>\n",
       "      <td>AL</td>\n",
       "    </tr>\n",
       "    <tr>\n",
       "      <th>2</th>\n",
       "      <td>Alaska</td>\n",
       "      <td>367000</td>\n",
       "      <td>70</td>\n",
       "      <td>525568</td>\n",
       "      <td>551117</td>\n",
       "      <td>3</td>\n",
       "      <td>4293</td>\n",
       "      <td>2074</td>\n",
       "      <td>1348</td>\n",
       "      <td>6927</td>\n",
       "      <td>AK</td>\n",
       "    </tr>\n",
       "    <tr>\n",
       "      <th>3</th>\n",
       "      <td>Arizona</td>\n",
       "      <td>3400000</td>\n",
       "      <td>66</td>\n",
       "      <td>5189000</td>\n",
       "      <td>5798473</td>\n",
       "      <td>9</td>\n",
       "      <td>38520</td>\n",
       "      <td>76844</td>\n",
       "      <td>7536</td>\n",
       "      <td>93699</td>\n",
       "      <td>AZ</td>\n",
       "    </tr>\n",
       "    <tr>\n",
       "      <th>4</th>\n",
       "      <td>Arkansas</td>\n",
       "      <td>1212030</td>\n",
       "      <td>56</td>\n",
       "      <td>2182375</td>\n",
       "      <td>2331171</td>\n",
       "      <td>4</td>\n",
       "      <td>17510</td>\n",
       "      <td>36719</td>\n",
       "      <td>24698</td>\n",
       "      <td>64974</td>\n",
       "      <td>AR</td>\n",
       "    </tr>\n",
       "    <tr>\n",
       "      <th>5</th>\n",
       "      <td>California</td>\n",
       "      <td>16800000</td>\n",
       "      <td>65</td>\n",
       "      <td>25962648</td>\n",
       "      <td>30783255</td>\n",
       "      <td>15</td>\n",
       "      <td>104730</td>\n",
       "      <td>0</td>\n",
       "      <td>102586</td>\n",
       "      <td>207316</td>\n",
       "      <td>CA</td>\n",
       "    </tr>\n",
       "    <tr>\n",
       "      <th>6</th>\n",
       "      <td>Colorado</td>\n",
       "      <td>3295000</td>\n",
       "      <td>76</td>\n",
       "      <td>4313054</td>\n",
       "      <td>4595504</td>\n",
       "      <td>6</td>\n",
       "      <td>18905</td>\n",
       "      <td>0</td>\n",
       "      <td>0</td>\n",
       "      <td>18905</td>\n",
       "      <td>CO</td>\n",
       "    </tr>\n",
       "    <tr>\n",
       "      <th>7</th>\n",
       "      <td>Connecticut</td>\n",
       "      <td>1850000</td>\n",
       "      <td>71</td>\n",
       "      <td>2603327</td>\n",
       "      <td>2839560</td>\n",
       "      <td>8</td>\n",
       "      <td>13268</td>\n",
       "      <td>0</td>\n",
       "      <td>4452</td>\n",
       "      <td>17720</td>\n",
       "      <td>CT</td>\n",
       "    </tr>\n",
       "    <tr>\n",
       "      <th>8</th>\n",
       "      <td>Delaware</td>\n",
       "      <td>507805</td>\n",
       "      <td>70</td>\n",
       "      <td>720531</td>\n",
       "      <td>780822</td>\n",
       "      <td>6</td>\n",
       "      <td>5874</td>\n",
       "      <td>14176</td>\n",
       "      <td>350</td>\n",
       "      <td>15013</td>\n",
       "      <td>DE</td>\n",
       "    </tr>\n",
       "    <tr>\n",
       "      <th>9</th>\n",
       "      <td>District of Columbia</td>\n",
       "      <td>350000</td>\n",
       "      <td>65</td>\n",
       "      <td>540685</td>\n",
       "      <td>582065</td>\n",
       "      <td>7</td>\n",
       "      <td>0</td>\n",
       "      <td>0</td>\n",
       "      <td>0</td>\n",
       "      <td>0</td>\n",
       "      <td>DC</td>\n",
       "    </tr>\n",
       "    <tr>\n",
       "      <th>10</th>\n",
       "      <td>Florida</td>\n",
       "      <td>11150000</td>\n",
       "      <td>72</td>\n",
       "      <td>15551739</td>\n",
       "      <td>17543341</td>\n",
       "      <td>10</td>\n",
       "      <td>91674</td>\n",
       "      <td>205033</td>\n",
       "      <td>4345</td>\n",
       "      <td>223139</td>\n",
       "      <td>FL</td>\n",
       "    </tr>\n",
       "  </tbody>\n",
       "</table>\n",
       "</div>"
      ],
      "text/plain": [
       "                   State  Total Ballots Counted (Estimate)  VEP Turnout Rate  \\\n",
       "1                Alabama                           2306587                63   \n",
       "2                 Alaska                            367000                70   \n",
       "3                Arizona                           3400000                66   \n",
       "4               Arkansas                           1212030                56   \n",
       "5             California                          16800000                65   \n",
       "6               Colorado                           3295000                76   \n",
       "7            Connecticut                           1850000                71   \n",
       "8               Delaware                            507805                70   \n",
       "9   District of Columbia                            350000                65   \n",
       "10               Florida                          11150000                72   \n",
       "\n",
       "    Voting-Eligible Population (VEP)  Voting-Age Population (VAP)  \\\n",
       "1                            3683055                      3837540   \n",
       "2                             525568                       551117   \n",
       "3                            5189000                      5798473   \n",
       "4                            2182375                      2331171   \n",
       "5                           25962648                     30783255   \n",
       "6                            4313054                      4595504   \n",
       "7                            2603327                      2839560   \n",
       "8                             720531                       780822   \n",
       "9                             540685                       582065   \n",
       "10                          15551739                     17543341   \n",
       "\n",
       "    % Non-citizen  Prison  Probation  Parole  Total Ineligible Felon State Abv  \n",
       "1               2   25898      50997   10266                   67782        AL  \n",
       "2               3    4293       2074    1348                    6927        AK  \n",
       "3               9   38520      76844    7536                   93699        AZ  \n",
       "4               4   17510      36719   24698                   64974        AR  \n",
       "5              15  104730          0  102586                  207316        CA  \n",
       "6               6   18905          0       0                   18905        CO  \n",
       "7               8   13268          0    4452                   17720        CT  \n",
       "8               6    5874      14176     350                   15013        DE  \n",
       "9               7       0          0       0                       0        DC  \n",
       "10             10   91674     205033    4345                  223139        FL  "
      ]
     },
     "execution_count": 165,
     "metadata": {},
     "output_type": "execute_result"
    }
   ],
   "source": [
    "pd.set_option('display.max_rows', 60)\n",
    "data_st.head(10)"
   ]
  },
  {
   "cell_type": "code",
   "execution_count": 166,
   "metadata": {},
   "outputs": [],
   "source": [
    "# Columns for which we need to change the data types\n",
    "# "
   ]
  },
  {
   "cell_type": "code",
   "execution_count": 167,
   "metadata": {},
   "outputs": [
    {
     "name": "stderr",
     "output_type": "stream",
     "text": [
      "C:\\ProgramData\\Anaconda3\\lib\\site-packages\\pandas\\core\\frame.py:3065: SettingWithCopyWarning:\n",
      "\n",
      "\n",
      "A value is trying to be set on a copy of a slice from a DataFrame.\n",
      "Try using .loc[row_indexer,col_indexer] = value instead\n",
      "\n",
      "See the caveats in the documentation: https://pandas.pydata.org/pandas-docs/stable/user_guide/indexing.html#returning-a-view-versus-a-copy\n",
      "\n"
     ]
    }
   ],
   "source": [
    "# To be converted into float\n",
    "data_st[['VEP Turnout Rate','% Non-citizen']] = data_st[['VEP Turnout Rate','% Non-citizen']].astype('float')"
   ]
  },
  {
   "cell_type": "code",
   "execution_count": 168,
   "metadata": {},
   "outputs": [],
   "source": [
    "data_st[['Total Ballots Counted (Estimate)', \n",
    "       'Voting-Eligible Population (VEP)', 'Voting-Age Population (VAP)',\n",
    "        'Prison', 'Probation', 'Parole',\n",
    "       'Total Ineligible Felon']] = data_st[['Total Ballots Counted (Estimate)', \n",
    "       'Voting-Eligible Population (VEP)', 'Voting-Age Population (VAP)',\n",
    "        'Prison', 'Probation', 'Parole',\n",
    "       'Total Ineligible Felon']].astype('int')"
   ]
  },
  {
   "cell_type": "code",
   "execution_count": 169,
   "metadata": {},
   "outputs": [
    {
     "name": "stdout",
     "output_type": "stream",
     "text": [
      "<class 'pandas.core.frame.DataFrame'>\n",
      "RangeIndex: 51 entries, 1 to 51\n",
      "Data columns (total 11 columns):\n",
      " #   Column                            Non-Null Count  Dtype  \n",
      "---  ------                            --------------  -----  \n",
      " 0   State                             51 non-null     object \n",
      " 1   Total Ballots Counted (Estimate)  51 non-null     int32  \n",
      " 2   VEP Turnout Rate                  51 non-null     float64\n",
      " 3   Voting-Eligible Population (VEP)  51 non-null     int32  \n",
      " 4   Voting-Age Population (VAP)       51 non-null     int32  \n",
      " 5   % Non-citizen                     51 non-null     float64\n",
      " 6   Prison                            51 non-null     int32  \n",
      " 7   Probation                         51 non-null     int32  \n",
      " 8   Parole                            51 non-null     int32  \n",
      " 9   Total Ineligible Felon            51 non-null     int32  \n",
      " 10  State Abv                         51 non-null     object \n",
      "dtypes: float64(2), int32(7), object(2)\n",
      "memory usage: 3.1+ KB\n"
     ]
    }
   ],
   "source": [
    "data_st.info()"
   ]
  },
  {
   "cell_type": "code",
   "execution_count": 170,
   "metadata": {},
   "outputs": [],
   "source": [
    "# data_st.columns[1:-1].values.apply(pd.to_numeric)"
   ]
  },
  {
   "cell_type": "code",
   "execution_count": 171,
   "metadata": {},
   "outputs": [
    {
     "data": {
      "text/plain": [
       "1    230559243\n",
       "2     36684646\n",
       "3    339879500\n",
       "4    121121812\n",
       "5   1679783326\n",
       "dtype: float64"
      ]
     },
     "execution_count": 171,
     "metadata": {},
     "output_type": "execute_result"
    }
   ],
   "source": [
    "# Total Ballots Counted is the VEP Turnout  myltiplied by Voting-Eligible\n",
    "pd.options.display.float_format = '{:.0f}'.format\n",
    "(data_st['Voting-Eligible Population (VEP)']*data_st['VEP Turnout Rate']).head()"
   ]
  },
  {
   "cell_type": "code",
   "execution_count": 172,
   "metadata": {},
   "outputs": [
    {
     "data": {
      "text/html": [
       "<div>\n",
       "<style scoped>\n",
       "    .dataframe tbody tr th:only-of-type {\n",
       "        vertical-align: middle;\n",
       "    }\n",
       "\n",
       "    .dataframe tbody tr th {\n",
       "        vertical-align: top;\n",
       "    }\n",
       "\n",
       "    .dataframe thead th {\n",
       "        text-align: right;\n",
       "    }\n",
       "</style>\n",
       "<table border=\"1\" class=\"dataframe\">\n",
       "  <thead>\n",
       "    <tr style=\"text-align: right;\">\n",
       "      <th></th>\n",
       "      <th>State</th>\n",
       "      <th>Total Ballots Counted (Estimate)</th>\n",
       "      <th>VEP Turnout Rate</th>\n",
       "      <th>Voting-Eligible Population (VEP)</th>\n",
       "      <th>Voting-Age Population (VAP)</th>\n",
       "      <th>% Non-citizen</th>\n",
       "      <th>Prison</th>\n",
       "      <th>Probation</th>\n",
       "      <th>Parole</th>\n",
       "      <th>Total Ineligible Felon</th>\n",
       "      <th>State Abv</th>\n",
       "    </tr>\n",
       "  </thead>\n",
       "  <tbody>\n",
       "    <tr>\n",
       "      <th>1</th>\n",
       "      <td>Alabama</td>\n",
       "      <td>2306587</td>\n",
       "      <td>63</td>\n",
       "      <td>3683055</td>\n",
       "      <td>3837540</td>\n",
       "      <td>2</td>\n",
       "      <td>25898</td>\n",
       "      <td>50997</td>\n",
       "      <td>10266</td>\n",
       "      <td>67782</td>\n",
       "      <td>AL</td>\n",
       "    </tr>\n",
       "    <tr>\n",
       "      <th>2</th>\n",
       "      <td>Alaska</td>\n",
       "      <td>367000</td>\n",
       "      <td>70</td>\n",
       "      <td>525568</td>\n",
       "      <td>551117</td>\n",
       "      <td>3</td>\n",
       "      <td>4293</td>\n",
       "      <td>2074</td>\n",
       "      <td>1348</td>\n",
       "      <td>6927</td>\n",
       "      <td>AK</td>\n",
       "    </tr>\n",
       "    <tr>\n",
       "      <th>3</th>\n",
       "      <td>Arizona</td>\n",
       "      <td>3400000</td>\n",
       "      <td>66</td>\n",
       "      <td>5189000</td>\n",
       "      <td>5798473</td>\n",
       "      <td>9</td>\n",
       "      <td>38520</td>\n",
       "      <td>76844</td>\n",
       "      <td>7536</td>\n",
       "      <td>93699</td>\n",
       "      <td>AZ</td>\n",
       "    </tr>\n",
       "    <tr>\n",
       "      <th>4</th>\n",
       "      <td>Arkansas</td>\n",
       "      <td>1212030</td>\n",
       "      <td>56</td>\n",
       "      <td>2182375</td>\n",
       "      <td>2331171</td>\n",
       "      <td>4</td>\n",
       "      <td>17510</td>\n",
       "      <td>36719</td>\n",
       "      <td>24698</td>\n",
       "      <td>64974</td>\n",
       "      <td>AR</td>\n",
       "    </tr>\n",
       "    <tr>\n",
       "      <th>5</th>\n",
       "      <td>California</td>\n",
       "      <td>16800000</td>\n",
       "      <td>65</td>\n",
       "      <td>25962648</td>\n",
       "      <td>30783255</td>\n",
       "      <td>15</td>\n",
       "      <td>104730</td>\n",
       "      <td>0</td>\n",
       "      <td>102586</td>\n",
       "      <td>207316</td>\n",
       "      <td>CA</td>\n",
       "    </tr>\n",
       "  </tbody>\n",
       "</table>\n",
       "</div>"
      ],
      "text/plain": [
       "        State  Total Ballots Counted (Estimate)  VEP Turnout Rate  \\\n",
       "1     Alabama                           2306587                63   \n",
       "2      Alaska                            367000                70   \n",
       "3     Arizona                           3400000                66   \n",
       "4    Arkansas                           1212030                56   \n",
       "5  California                          16800000                65   \n",
       "\n",
       "   Voting-Eligible Population (VEP)  Voting-Age Population (VAP)  \\\n",
       "1                           3683055                      3837540   \n",
       "2                            525568                       551117   \n",
       "3                           5189000                      5798473   \n",
       "4                           2182375                      2331171   \n",
       "5                          25962648                     30783255   \n",
       "\n",
       "   % Non-citizen  Prison  Probation  Parole  Total Ineligible Felon State Abv  \n",
       "1              2   25898      50997   10266                   67782        AL  \n",
       "2              3    4293       2074    1348                    6927        AK  \n",
       "3              9   38520      76844    7536                   93699        AZ  \n",
       "4              4   17510      36719   24698                   64974        AR  \n",
       "5             15  104730          0  102586                  207316        CA  "
      ]
     },
     "execution_count": 172,
     "metadata": {},
     "output_type": "execute_result"
    }
   ],
   "source": [
    "data_st.head()"
   ]
  },
  {
   "cell_type": "code",
   "execution_count": 161,
   "metadata": {},
   "outputs": [],
   "source": [
    "# Our state data is good now for analysis"
   ]
  },
  {
   "cell_type": "code",
   "execution_count": 162,
   "metadata": {},
   "outputs": [],
   "source": [
    "# Looking at the Eligible Population for each state"
   ]
  },
  {
   "cell_type": "code",
   "execution_count": 194,
   "metadata": {
    "scrolled": false
   },
   "outputs": [
    {
     "data": {
      "image/png": "[encoded data removed]",
      "text/plain": [
       "<Figure size 1080x1080 with 1 Axes>"
      ]
     },
     "metadata": {},
     "output_type": "display_data"
    }
   ],
   "source": [
    "#plt.figure(figsize=(15,10))\n",
    "sns.barplot( y= 'Voting-Eligible Population (VEP)', x = 'State', data = data_st )\n",
    "plt.xticks(\n",
    "    rotation=45, \n",
    "    horizontalalignment='right',\n",
    "    fontweight='light',\n",
    "    fontsize='12'  \n",
    ")\n",
    "plt.show()\n",
    "# Below plot is not very easy to read hence will sort the data 1st and then use it"
   ]
  },
  {
   "cell_type": "code",
   "execution_count": 244,
   "metadata": {},
   "outputs": [],
   "source": [
    "data_st_sort = data_st.sort_values('Voting-Eligible Population (VEP)').reset_index()"
   ]
  },
  {
   "cell_type": "code",
   "execution_count": 245,
   "metadata": {},
   "outputs": [
    {
     "data": {
      "text/plain": [
       "pandas.core.frame.DataFrame"
      ]
     },
     "execution_count": 245,
     "metadata": {},
     "output_type": "execute_result"
    }
   ],
   "source": [
    "type(data_st_sort)"
   ]
  },
  {
   "cell_type": "code",
   "execution_count": 246,
   "metadata": {},
   "outputs": [
    {
     "data": {
      "text/html": [
       "<div>\n",
       "<style scoped>\n",
       "    .dataframe tbody tr th:only-of-type {\n",
       "        vertical-align: middle;\n",
       "    }\n",
       "\n",
       "    .dataframe tbody tr th {\n",
       "        vertical-align: top;\n",
       "    }\n",
       "\n",
       "    .dataframe thead th {\n",
       "        text-align: right;\n",
       "    }\n",
       "</style>\n",
       "<table border=\"1\" class=\"dataframe\">\n",
       "  <thead>\n",
       "    <tr style=\"text-align: right;\">\n",
       "      <th></th>\n",
       "      <th>index</th>\n",
       "      <th>State</th>\n",
       "      <th>Total Ballots Counted (Estimate)</th>\n",
       "      <th>VEP Turnout Rate</th>\n",
       "      <th>Voting-Eligible Population (VEP)</th>\n",
       "      <th>Voting-Age Population (VAP)</th>\n",
       "      <th>% Non-citizen</th>\n",
       "      <th>Prison</th>\n",
       "      <th>Probation</th>\n",
       "      <th>Parole</th>\n",
       "      <th>Total Ineligible Felon</th>\n",
       "      <th>State Abv</th>\n",
       "    </tr>\n",
       "  </thead>\n",
       "  <tbody>\n",
       "    <tr>\n",
       "      <th>0</th>\n",
       "      <td>51</td>\n",
       "      <td>Wyoming</td>\n",
       "      <td>278503</td>\n",
       "      <td>64.60</td>\n",
       "      <td>431364</td>\n",
       "      <td>447915</td>\n",
       "      <td>2.20</td>\n",
       "      <td>2488</td>\n",
       "      <td>5383</td>\n",
       "      <td>934</td>\n",
       "      <td>6759</td>\n",
       "      <td>WY</td>\n",
       "    </tr>\n",
       "    <tr>\n",
       "      <th>1</th>\n",
       "      <td>46</td>\n",
       "      <td>Vermont</td>\n",
       "      <td>370000</td>\n",
       "      <td>74.00</td>\n",
       "      <td>499884</td>\n",
       "      <td>511637</td>\n",
       "      <td>2.30</td>\n",
       "      <td>0</td>\n",
       "      <td>0</td>\n",
       "      <td>0</td>\n",
       "      <td>0</td>\n",
       "      <td>VT</td>\n",
       "    </tr>\n",
       "    <tr>\n",
       "      <th>2</th>\n",
       "      <td>2</td>\n",
       "      <td>Alaska</td>\n",
       "      <td>367000</td>\n",
       "      <td>69.80</td>\n",
       "      <td>525568</td>\n",
       "      <td>551117</td>\n",
       "      <td>3.40</td>\n",
       "      <td>4293</td>\n",
       "      <td>2074</td>\n",
       "      <td>1348</td>\n",
       "      <td>6927</td>\n",
       "      <td>AK</td>\n",
       "    </tr>\n",
       "    <tr>\n",
       "      <th>3</th>\n",
       "      <td>9</td>\n",
       "      <td>District of Columbia</td>\n",
       "      <td>350000</td>\n",
       "      <td>64.70</td>\n",
       "      <td>540685</td>\n",
       "      <td>582065</td>\n",
       "      <td>7.10</td>\n",
       "      <td>0</td>\n",
       "      <td>0</td>\n",
       "      <td>0</td>\n",
       "      <td>0</td>\n",
       "      <td>DC</td>\n",
       "    </tr>\n",
       "    <tr>\n",
       "      <th>4</th>\n",
       "      <td>35</td>\n",
       "      <td>North Dakota</td>\n",
       "      <td>365000</td>\n",
       "      <td>64.60</td>\n",
       "      <td>565143</td>\n",
       "      <td>584610</td>\n",
       "      <td>3.00</td>\n",
       "      <td>1679</td>\n",
       "      <td>0</td>\n",
       "      <td>0</td>\n",
       "      <td>1679</td>\n",
       "      <td>ND</td>\n",
       "    </tr>\n",
       "    <tr>\n",
       "      <th>...</th>\n",
       "      <td>...</td>\n",
       "      <td>...</td>\n",
       "      <td>...</td>\n",
       "      <td>...</td>\n",
       "      <td>...</td>\n",
       "      <td>...</td>\n",
       "      <td>...</td>\n",
       "      <td>...</td>\n",
       "      <td>...</td>\n",
       "      <td>...</td>\n",
       "      <td>...</td>\n",
       "      <td>...</td>\n",
       "    </tr>\n",
       "    <tr>\n",
       "      <th>46</th>\n",
       "      <td>39</td>\n",
       "      <td>Pennsylvania</td>\n",
       "      <td>6900000</td>\n",
       "      <td>70.50</td>\n",
       "      <td>9781976</td>\n",
       "      <td>10186170</td>\n",
       "      <td>3.50</td>\n",
       "      <td>44148</td>\n",
       "      <td>0</td>\n",
       "      <td>0</td>\n",
       "      <td>44148</td>\n",
       "      <td>PA</td>\n",
       "    </tr>\n",
       "    <tr>\n",
       "      <th>47</th>\n",
       "      <td>33</td>\n",
       "      <td>New York</td>\n",
       "      <td>8930000</td>\n",
       "      <td>65.30</td>\n",
       "      <td>13670596</td>\n",
       "      <td>15372655</td>\n",
       "      <td>10.50</td>\n",
       "      <td>42408</td>\n",
       "      <td>0</td>\n",
       "      <td>45192</td>\n",
       "      <td>87600</td>\n",
       "      <td>NY</td>\n",
       "    </tr>\n",
       "    <tr>\n",
       "      <th>48</th>\n",
       "      <td>10</td>\n",
       "      <td>Florida</td>\n",
       "      <td>11150000</td>\n",
       "      <td>71.70</td>\n",
       "      <td>15551739</td>\n",
       "      <td>17543341</td>\n",
       "      <td>10.10</td>\n",
       "      <td>91674</td>\n",
       "      <td>205033</td>\n",
       "      <td>4345</td>\n",
       "      <td>223139</td>\n",
       "      <td>FL</td>\n",
       "    </tr>\n",
       "    <tr>\n",
       "      <th>49</th>\n",
       "      <td>44</td>\n",
       "      <td>Texas</td>\n",
       "      <td>11300000</td>\n",
       "      <td>60.20</td>\n",
       "      <td>18784280</td>\n",
       "      <td>22058260</td>\n",
       "      <td>12.60</td>\n",
       "      <td>154913</td>\n",
       "      <td>368167</td>\n",
       "      <td>109213</td>\n",
       "      <td>492390</td>\n",
       "      <td>TX</td>\n",
       "    </tr>\n",
       "    <tr>\n",
       "      <th>50</th>\n",
       "      <td>5</td>\n",
       "      <td>California</td>\n",
       "      <td>16800000</td>\n",
       "      <td>64.70</td>\n",
       "      <td>25962648</td>\n",
       "      <td>30783255</td>\n",
       "      <td>15.00</td>\n",
       "      <td>104730</td>\n",
       "      <td>0</td>\n",
       "      <td>102586</td>\n",
       "      <td>207316</td>\n",
       "      <td>CA</td>\n",
       "    </tr>\n",
       "  </tbody>\n",
       "</table>\n",
       "<p>51 rows × 12 columns</p>\n",
       "</div>"
      ],
      "text/plain": [
       "    index                 State  Total Ballots Counted (Estimate)  \\\n",
       "0      51               Wyoming                            278503   \n",
       "1      46               Vermont                            370000   \n",
       "2       2                Alaska                            367000   \n",
       "3       9  District of Columbia                            350000   \n",
       "4      35          North Dakota                            365000   \n",
       "..    ...                   ...                               ...   \n",
       "46     39          Pennsylvania                           6900000   \n",
       "47     33              New York                           8930000   \n",
       "48     10               Florida                          11150000   \n",
       "49     44                 Texas                          11300000   \n",
       "50      5            California                          16800000   \n",
       "\n",
       "    VEP Turnout Rate  Voting-Eligible Population (VEP)  \\\n",
       "0              64.60                            431364   \n",
       "1              74.00                            499884   \n",
       "2              69.80                            525568   \n",
       "3              64.70                            540685   \n",
       "4              64.60                            565143   \n",
       "..               ...                               ...   \n",
       "46             70.50                           9781976   \n",
       "47             65.30                          13670596   \n",
       "48             71.70                          15551739   \n",
       "49             60.20                          18784280   \n",
       "50             64.70                          25962648   \n",
       "\n",
       "    Voting-Age Population (VAP)  % Non-citizen  Prison  Probation  Parole  \\\n",
       "0                        447915           2.20    2488       5383     934   \n",
       "1                        511637           2.30       0          0       0   \n",
       "2                        551117           3.40    4293       2074    1348   \n",
       "3                        582065           7.10       0          0       0   \n",
       "4                        584610           3.00    1679          0       0   \n",
       "..                          ...            ...     ...        ...     ...   \n",
       "46                     10186170           3.50   44148          0       0   \n",
       "47                     15372655          10.50   42408          0   45192   \n",
       "48                     17543341          10.10   91674     205033    4345   \n",
       "49                     22058260          12.60  154913     368167  109213   \n",
       "50                     30783255          15.00  104730          0  102586   \n",
       "\n",
       "    Total Ineligible Felon State Abv  \n",
       "0                     6759        WY  \n",
       "1                        0        VT  \n",
       "2                     6927        AK  \n",
       "3                        0        DC  \n",
       "4                     1679        ND  \n",
       "..                     ...       ...  \n",
       "46                   44148        PA  \n",
       "47                   87600        NY  \n",
       "48                  223139        FL  \n",
       "49                  492390        TX  \n",
       "50                  207316        CA  \n",
       "\n",
       "[51 rows x 12 columns]"
      ]
     },
     "execution_count": 246,
     "metadata": {},
     "output_type": "execute_result"
    }
   ],
   "source": [
    "data_st_sort"
   ]
  },
  {
   "cell_type": "code",
   "execution_count": 247,
   "metadata": {},
   "outputs": [
    {
     "data": {
      "image/png": "[encoded data removed]",
      "text/plain": [
       "<Figure size 1080x1080 with 1 Axes>"
      ]
     },
     "metadata": {},
     "output_type": "display_data"
    }
   ],
   "source": [
    "#plt.figure(figsize=(15,10))\n",
    "sns.barplot( y= 'Voting-Eligible Population (VEP)', x = 'State', \n",
    "            data = data_st, order=data_st_sort['State'] )\n",
    "plt.xticks(\n",
    "    rotation=45, \n",
    "    horizontalalignment='right',\n",
    "    fontweight='light',\n",
    "    fontsize='12'  \n",
    ")\n",
    "plt.show()"
   ]
  },
  {
   "cell_type": "code",
   "execution_count": 240,
   "metadata": {},
   "outputs": [
    {
     "data": {
      "image/png": "[encoded data removed]",
      "text/plain": [
       "<Figure size 1080x1080 with 1 Axes>"
      ]
     },
     "metadata": {},
     "output_type": "display_data"
    }
   ],
   "source": [
    "plt.ticklabel_format(style='plain', axis='y')\n",
    "# Be careful with big datasize. It might hang or take infinite time\n",
    "#plt.figure(figsize=(15,10))\n",
    "plots = sns.barplot( y= 'Voting-Eligible Population (VEP)', x = 'State', \n",
    "            data = data_st, order=data_st.sort_values('Voting-Eligible Population (VEP)').State)\n",
    "\n",
    "plt.xticks(\n",
    "    rotation=45, \n",
    "    horizontalalignment='right',\n",
    "    fontweight='light',\n",
    "    fontsize='12'  \n",
    ")\n",
    "# Iterrating over the bars one-by-one\n",
    "for bar in plots.patches:\n",
    "    \n",
    "  # Using Matplotlib's annotate function and\n",
    "  # passing the coordinates where the annotation shall be done\n",
    "  # x-coordinate: bar.get_x() + bar.get_width() / 2\n",
    "  # y-coordinate: bar.get_height()\n",
    "  # free space to be left to make graph pleasing: (0, 8)\n",
    "  # ha and va stand for the horizontal and vertical alignment\n",
    "    plots.annotate(format(bar.get_height(), '.0f'), \n",
    "                   (bar.get_x() + bar.get_width() / 2, \n",
    "                    bar.get_height()), ha='center', va='center',\n",
    "                   size=12, xytext=(0, 30),\n",
    "                   textcoords='offset points',\n",
    "                   rotation = 90, c = 'y')\n",
    "plt.show()"
   ]
  },
  {
   "cell_type": "code",
   "execution_count": 280,
   "metadata": {},
   "outputs": [],
   "source": [
    "mydata = data_st.head(5)"
   ]
  },
  {
   "cell_type": "code",
   "execution_count": 338,
   "metadata": {},
   "outputs": [
    {
     "name": "stdout",
     "output_type": "stream",
     "text": [
      "<class 'pandas.core.frame.DataFrame'>\n",
      "RangeIndex: 5 entries, 1 to 5\n",
      "Data columns (total 11 columns):\n",
      " #   Column                            Non-Null Count  Dtype  \n",
      "---  ------                            --------------  -----  \n",
      " 0   State                             5 non-null      object \n",
      " 1   Total Ballots Counted (Estimate)  5 non-null      int32  \n",
      " 2   VEP Turnout Rate                  5 non-null      float64\n",
      " 3   Voting-Eligible Population (VEP)  5 non-null      int32  \n",
      " 4   Voting-Age Population (VAP)       5 non-null      int32  \n",
      " 5   % Non-citizen                     5 non-null      float64\n",
      " 6   Prison                            5 non-null      int32  \n",
      " 7   Probation                         5 non-null      int32  \n",
      " 8   Parole                            5 non-null      int32  \n",
      " 9   Total Ineligible Felon            5 non-null      int32  \n",
      " 10  State Abv                         5 non-null      object \n",
      "dtypes: float64(2), int32(7), object(2)\n",
      "memory usage: 432.0+ bytes\n"
     ]
    }
   ],
   "source": [
    "mydata.info()"
   ]
  },
  {
   "cell_type": "code",
   "execution_count": 27,
   "metadata": {},
   "outputs": [],
   "source": [
    "#data_st[['State','Total Ballots Counted (Estimate)','Voting-Eligible Population (VEP)','Voting-Age Population (VAP)']]"
   ]
  },
  {
   "cell_type": "code",
   "execution_count": 26,
   "metadata": {},
   "outputs": [],
   "source": [
    "#df2 = pd.melt(data_st, id_vars = ['State'],\n",
    "#             value_vars = ['Total Ballots Counted (Estimate)','Voting-Eligible Population (VEP)','Voting-Age Population (VAP)'], \n",
    "#             var_name = 'Voters123',value_name='Values123')\n",
    "#df2.sample(10)"
   ]
  },
  {
   "cell_type": "code",
   "execution_count": 21,
   "metadata": {},
   "outputs": [
    {
     "data": {
      "text/html": [
       "<div>\n",
       "<style scoped>\n",
       "    .dataframe tbody tr th:only-of-type {\n",
       "        vertical-align: middle;\n",
       "    }\n",
       "\n",
       "    .dataframe tbody tr th {\n",
       "        vertical-align: top;\n",
       "    }\n",
       "\n",
       "    .dataframe thead th {\n",
       "        text-align: right;\n",
       "    }\n",
       "</style>\n",
       "<table border=\"1\" class=\"dataframe\">\n",
       "  <thead>\n",
       "    <tr style=\"text-align: right;\">\n",
       "      <th></th>\n",
       "      <th>State</th>\n",
       "      <th>Total Ballots Counted (Estimate)</th>\n",
       "      <th>VEP Turnout Rate</th>\n",
       "      <th>Voting-Eligible Population (VEP)</th>\n",
       "      <th>Voting-Age Population (VAP)</th>\n",
       "      <th>% Non-citizen</th>\n",
       "      <th>Prison</th>\n",
       "      <th>Probation</th>\n",
       "      <th>Parole</th>\n",
       "      <th>Total Ineligible Felon</th>\n",
       "      <th>State Abv</th>\n",
       "    </tr>\n",
       "  </thead>\n",
       "  <tbody>\n",
       "    <tr>\n",
       "      <th>38</th>\n",
       "      <td>Oregon</td>\n",
       "      <td>2,404,642</td>\n",
       "      <td>75.2%</td>\n",
       "      <td>3,196,425</td>\n",
       "      <td>3,405,863</td>\n",
       "      <td>5.7%</td>\n",
       "      <td>13,795</td>\n",
       "      <td>0</td>\n",
       "      <td>0</td>\n",
       "      <td>13,795</td>\n",
       "      <td>OR</td>\n",
       "    </tr>\n",
       "    <tr>\n",
       "      <th>35</th>\n",
       "      <td>North Dakota</td>\n",
       "      <td>365,000</td>\n",
       "      <td>64.6%</td>\n",
       "      <td>565,143</td>\n",
       "      <td>584,610</td>\n",
       "      <td>3.0%</td>\n",
       "      <td>1,679</td>\n",
       "      <td>0</td>\n",
       "      <td>0</td>\n",
       "      <td>1,679</td>\n",
       "      <td>ND</td>\n",
       "    </tr>\n",
       "    <tr>\n",
       "      <th>37</th>\n",
       "      <td>Oklahoma</td>\n",
       "      <td>1,565,000</td>\n",
       "      <td>55.0%</td>\n",
       "      <td>2,845,835</td>\n",
       "      <td>3,031,792</td>\n",
       "      <td>4.3%</td>\n",
       "      <td>27,558</td>\n",
       "      <td>41,562</td>\n",
       "      <td>1,780</td>\n",
       "      <td>55,106</td>\n",
       "      <td>OK</td>\n",
       "    </tr>\n",
       "    <tr>\n",
       "      <th>21</th>\n",
       "      <td>Maryland</td>\n",
       "      <td>3,050,000</td>\n",
       "      <td>70.7%</td>\n",
       "      <td>4,313,416</td>\n",
       "      <td>4,729,400</td>\n",
       "      <td>8.4%</td>\n",
       "      <td>18,165</td>\n",
       "      <td>0</td>\n",
       "      <td>0</td>\n",
       "      <td>18,165</td>\n",
       "      <td>MD</td>\n",
       "    </tr>\n",
       "    <tr>\n",
       "      <th>40</th>\n",
       "      <td>Rhode Island</td>\n",
       "      <td>520,000</td>\n",
       "      <td>65.0%</td>\n",
       "      <td>799,642</td>\n",
       "      <td>857,507</td>\n",
       "      <td>6.4%</td>\n",
       "      <td>2,766</td>\n",
       "      <td>0</td>\n",
       "      <td>0</td>\n",
       "      <td>2,766</td>\n",
       "      <td>RI</td>\n",
       "    </tr>\n",
       "    <tr>\n",
       "      <th>16</th>\n",
       "      <td>Iowa</td>\n",
       "      <td>1,825,000</td>\n",
       "      <td>78.6%</td>\n",
       "      <td>2,321,131</td>\n",
       "      <td>2,439,743</td>\n",
       "      <td>3.5%</td>\n",
       "      <td>9,216</td>\n",
       "      <td>29,137</td>\n",
       "      <td>6,652</td>\n",
       "      <td>33,933</td>\n",
       "      <td>IA</td>\n",
       "    </tr>\n",
       "    <tr>\n",
       "      <th>23</th>\n",
       "      <td>Michigan</td>\n",
       "      <td>5,559,186</td>\n",
       "      <td>73.6%</td>\n",
       "      <td>7,550,147</td>\n",
       "      <td>7,870,864</td>\n",
       "      <td>3.6%</td>\n",
       "      <td>38,183</td>\n",
       "      <td>0</td>\n",
       "      <td>0</td>\n",
       "      <td>38,183</td>\n",
       "      <td>MI</td>\n",
       "    </tr>\n",
       "    <tr>\n",
       "      <th>24</th>\n",
       "      <td>Minnesota</td>\n",
       "      <td>3,290,000</td>\n",
       "      <td>79.9%</td>\n",
       "      <td>4,118,462</td>\n",
       "      <td>4,378,737</td>\n",
       "      <td>4.1%</td>\n",
       "      <td>9,712</td>\n",
       "      <td>100,076</td>\n",
       "      <td>7,381</td>\n",
       "      <td>79,140</td>\n",
       "      <td>MN</td>\n",
       "    </tr>\n",
       "    <tr>\n",
       "      <th>29</th>\n",
       "      <td>Nevada</td>\n",
       "      <td>1,370,000</td>\n",
       "      <td>63.6%</td>\n",
       "      <td>2,153,915</td>\n",
       "      <td>2,450,946</td>\n",
       "      <td>11.6%</td>\n",
       "      <td>12,399</td>\n",
       "      <td>0</td>\n",
       "      <td>0</td>\n",
       "      <td>12,399</td>\n",
       "      <td>NV</td>\n",
       "    </tr>\n",
       "    <tr>\n",
       "      <th>41</th>\n",
       "      <td>South Carolina</td>\n",
       "      <td>2,532,995</td>\n",
       "      <td>64.5%</td>\n",
       "      <td>3,926,305</td>\n",
       "      <td>4,116,633</td>\n",
       "      <td>3.6%</td>\n",
       "      <td>18,587</td>\n",
       "      <td>31,975</td>\n",
       "      <td>4,980</td>\n",
       "      <td>43,392</td>\n",
       "      <td>SC</td>\n",
       "    </tr>\n",
       "  </tbody>\n",
       "</table>\n",
       "</div>"
      ],
      "text/plain": [
       "             State Total Ballots Counted (Estimate) VEP Turnout Rate  \\\n",
       "38          Oregon                        2,404,642            75.2%   \n",
       "35    North Dakota                          365,000            64.6%   \n",
       "37        Oklahoma                        1,565,000            55.0%   \n",
       "21        Maryland                        3,050,000            70.7%   \n",
       "40    Rhode Island                          520,000            65.0%   \n",
       "16            Iowa                        1,825,000            78.6%   \n",
       "23        Michigan                        5,559,186            73.6%   \n",
       "24       Minnesota                        3,290,000            79.9%   \n",
       "29          Nevada                        1,370,000            63.6%   \n",
       "41  South Carolina                        2,532,995            64.5%   \n",
       "\n",
       "   Voting-Eligible Population (VEP) Voting-Age Population (VAP) % Non-citizen  \\\n",
       "38                        3,196,425                   3,405,863          5.7%   \n",
       "35                          565,143                     584,610          3.0%   \n",
       "37                        2,845,835                   3,031,792          4.3%   \n",
       "21                        4,313,416                   4,729,400          8.4%   \n",
       "40                          799,642                     857,507          6.4%   \n",
       "16                        2,321,131                   2,439,743          3.5%   \n",
       "23                        7,550,147                   7,870,864          3.6%   \n",
       "24                        4,118,462                   4,378,737          4.1%   \n",
       "29                        2,153,915                   2,450,946         11.6%   \n",
       "41                        3,926,305                   4,116,633          3.6%   \n",
       "\n",
       "    Prison Probation Parole Total Ineligible Felon State Abv  \n",
       "38  13,795         0      0                 13,795        OR  \n",
       "35   1,679         0      0                  1,679        ND  \n",
       "37  27,558    41,562  1,780                 55,106        OK  \n",
       "21  18,165         0      0                 18,165        MD  \n",
       "40   2,766         0      0                  2,766        RI  \n",
       "16   9,216    29,137  6,652                 33,933        IA  \n",
       "23  38,183         0      0                 38,183        MI  \n",
       "24   9,712   100,076  7,381                 79,140        MN  \n",
       "29  12,399         0      0                 12,399        NV  \n",
       "41  18,587    31,975  4,980                 43,392        SC  "
      ]
     },
     "execution_count": 21,
     "metadata": {},
     "output_type": "execute_result"
    }
   ],
   "source": [
    "data_st.sample(10)"
   ]
  },
  {
   "cell_type": "code",
   "execution_count": 29,
   "metadata": {},
   "outputs": [],
   "source": [
    "df1 = pd.melt(data_st, id_vars = ['State','State Abv' ],\n",
    "             value_vars = ['Total Ballots Counted (Estimate)','Voting-Eligible Population (VEP)','Voting-Age Population (VAP)'], \n",
    "             var_name = 'Voters',value_name='Values')"
   ]
  },
  {
   "cell_type": "code",
   "execution_count": 30,
   "metadata": {},
   "outputs": [],
   "source": [
    "#df = pd.melt(data_st, id_vars = 'State', var_name = 'Votes',value_name='Values')"
   ]
  },
  {
   "cell_type": "code",
   "execution_count": 31,
   "metadata": {},
   "outputs": [
    {
     "data": {
      "text/html": [
       "<div>\n",
       "<style scoped>\n",
       "    .dataframe tbody tr th:only-of-type {\n",
       "        vertical-align: middle;\n",
       "    }\n",
       "\n",
       "    .dataframe tbody tr th {\n",
       "        vertical-align: top;\n",
       "    }\n",
       "\n",
       "    .dataframe thead th {\n",
       "        text-align: right;\n",
       "    }\n",
       "</style>\n",
       "<table border=\"1\" class=\"dataframe\">\n",
       "  <thead>\n",
       "    <tr style=\"text-align: right;\">\n",
       "      <th></th>\n",
       "      <th>State</th>\n",
       "      <th>State Abv</th>\n",
       "      <th>Voters</th>\n",
       "      <th>Values</th>\n",
       "    </tr>\n",
       "  </thead>\n",
       "  <tbody>\n",
       "    <tr>\n",
       "      <th>148</th>\n",
       "      <td>Virginia</td>\n",
       "      <td>VA</td>\n",
       "      <td>Voting-Age Population (VAP)</td>\n",
       "      <td>6,727,440</td>\n",
       "    </tr>\n",
       "    <tr>\n",
       "      <th>149</th>\n",
       "      <td>Washington</td>\n",
       "      <td>WA</td>\n",
       "      <td>Voting-Age Population (VAP)</td>\n",
       "      <td>6,070,046</td>\n",
       "    </tr>\n",
       "    <tr>\n",
       "      <th>150</th>\n",
       "      <td>West Virginia</td>\n",
       "      <td>WV</td>\n",
       "      <td>Voting-Age Population (VAP)</td>\n",
       "      <td>1,422,098</td>\n",
       "    </tr>\n",
       "    <tr>\n",
       "      <th>151</th>\n",
       "      <td>Wisconsin</td>\n",
       "      <td>WI</td>\n",
       "      <td>Voting-Age Population (VAP)</td>\n",
       "      <td>4,586,746</td>\n",
       "    </tr>\n",
       "    <tr>\n",
       "      <th>152</th>\n",
       "      <td>Wyoming</td>\n",
       "      <td>WY</td>\n",
       "      <td>Voting-Age Population (VAP)</td>\n",
       "      <td>447,915</td>\n",
       "    </tr>\n",
       "  </tbody>\n",
       "</table>\n",
       "</div>"
      ],
      "text/plain": [
       "             State State Abv                       Voters     Values\n",
       "148       Virginia        VA  Voting-Age Population (VAP)  6,727,440\n",
       "149     Washington        WA  Voting-Age Population (VAP)  6,070,046\n",
       "150  West Virginia        WV  Voting-Age Population (VAP)  1,422,098\n",
       "151      Wisconsin        WI  Voting-Age Population (VAP)  4,586,746\n",
       "152        Wyoming        WY  Voting-Age Population (VAP)    447,915"
      ]
     },
     "execution_count": 31,
     "metadata": {},
     "output_type": "execute_result"
    }
   ],
   "source": [
    "df1.tail()"
   ]
  },
  {
   "cell_type": "code",
   "execution_count": 32,
   "metadata": {},
   "outputs": [
    {
     "data": {
      "text/plain": [
       "Voting-Age Population (VAP)         51\n",
       "Total Ballots Counted (Estimate)    51\n",
       "Voting-Eligible Population (VEP)    51\n",
       "Name: Voters, dtype: int64"
      ]
     },
     "execution_count": 32,
     "metadata": {},
     "output_type": "execute_result"
    }
   ],
   "source": [
    "df1['Voters'].value_counts()"
   ]
  },
  {
   "cell_type": "code",
   "execution_count": 33,
   "metadata": {},
   "outputs": [],
   "source": [
    "#df.query(\"Voters in ['Total Ballots Counted (Estimate)','Voting-Eligible Population (VEP)']\")"
   ]
  },
  {
   "cell_type": "code",
   "execution_count": 34,
   "metadata": {},
   "outputs": [
    {
     "name": "stdout",
     "output_type": "stream",
     "text": [
      "<class 'pandas.core.frame.DataFrame'>\n",
      "RangeIndex: 153 entries, 0 to 152\n",
      "Data columns (total 4 columns):\n",
      " #   Column     Non-Null Count  Dtype \n",
      "---  ------     --------------  ----- \n",
      " 0   State      153 non-null    object\n",
      " 1   State Abv  153 non-null    object\n",
      " 2   Voters     153 non-null    object\n",
      " 3   Values     153 non-null    object\n",
      "dtypes: object(4)\n",
      "memory usage: 4.9+ KB\n"
     ]
    }
   ],
   "source": [
    "df1.info()"
   ]
  },
  {
   "cell_type": "code",
   "execution_count": 35,
   "metadata": {},
   "outputs": [],
   "source": [
    "df2 = df1.sort_values('State')"
   ]
  },
  {
   "cell_type": "code",
   "execution_count": 36,
   "metadata": {},
   "outputs": [
    {
     "data": {
      "text/html": [
       "<div>\n",
       "<style scoped>\n",
       "    .dataframe tbody tr th:only-of-type {\n",
       "        vertical-align: middle;\n",
       "    }\n",
       "\n",
       "    .dataframe tbody tr th {\n",
       "        vertical-align: top;\n",
       "    }\n",
       "\n",
       "    .dataframe thead th {\n",
       "        text-align: right;\n",
       "    }\n",
       "</style>\n",
       "<table border=\"1\" class=\"dataframe\">\n",
       "  <thead>\n",
       "    <tr style=\"text-align: right;\">\n",
       "      <th></th>\n",
       "      <th>State</th>\n",
       "      <th>State Abv</th>\n",
       "      <th>Voters</th>\n",
       "      <th>Values</th>\n",
       "    </tr>\n",
       "  </thead>\n",
       "  <tbody>\n",
       "    <tr>\n",
       "      <th>0</th>\n",
       "      <td>Alabama</td>\n",
       "      <td>AL</td>\n",
       "      <td>Total Ballots Counted (Estimate)</td>\n",
       "      <td>2,306,587</td>\n",
       "    </tr>\n",
       "    <tr>\n",
       "      <th>51</th>\n",
       "      <td>Alabama</td>\n",
       "      <td>AL</td>\n",
       "      <td>Voting-Eligible Population (VEP)</td>\n",
       "      <td>3,683,055</td>\n",
       "    </tr>\n",
       "    <tr>\n",
       "      <th>102</th>\n",
       "      <td>Alabama</td>\n",
       "      <td>AL</td>\n",
       "      <td>Voting-Age Population (VAP)</td>\n",
       "      <td>3,837,540</td>\n",
       "    </tr>\n",
       "    <tr>\n",
       "      <th>1</th>\n",
       "      <td>Alaska</td>\n",
       "      <td>AK</td>\n",
       "      <td>Total Ballots Counted (Estimate)</td>\n",
       "      <td>367,000</td>\n",
       "    </tr>\n",
       "    <tr>\n",
       "      <th>52</th>\n",
       "      <td>Alaska</td>\n",
       "      <td>AK</td>\n",
       "      <td>Voting-Eligible Population (VEP)</td>\n",
       "      <td>525,568</td>\n",
       "    </tr>\n",
       "  </tbody>\n",
       "</table>\n",
       "</div>"
      ],
      "text/plain": [
       "       State State Abv                            Voters     Values\n",
       "0    Alabama        AL  Total Ballots Counted (Estimate)  2,306,587\n",
       "51   Alabama        AL  Voting-Eligible Population (VEP)  3,683,055\n",
       "102  Alabama        AL       Voting-Age Population (VAP)  3,837,540\n",
       "1     Alaska        AK  Total Ballots Counted (Estimate)    367,000\n",
       "52    Alaska        AK  Voting-Eligible Population (VEP)    525,568"
      ]
     },
     "execution_count": 36,
     "metadata": {},
     "output_type": "execute_result"
    }
   ],
   "source": [
    "df2.head()"
   ]
  },
  {
   "cell_type": "code",
   "execution_count": 370,
   "metadata": {},
   "outputs": [
    {
     "data": {
      "text/plain": [
       "<AxesSubplot:xlabel='State Abv', ylabel='Values'>"
      ]
     },
     "execution_count": 370,
     "metadata": {},
     "output_type": "execute_result"
    },
    {
     "data": {
      "image/png": "[encoded data removed]",
      "text/plain": [
       "<Figure size 4000x3000 with 1 Axes>"
      ]
     },
     "metadata": {},
     "output_type": "display_data"
    }
   ],
   "source": [
    "\n",
    "plt.figure(figsize = (20,15))\n",
    "sns.barplot(x = 'State Abv',y = 'Values', data = df2.head(50), hue = 'Voters')\n",
    "# plt.savefig(r'C:\\Users\\Administrator\\Class Notebooks\\EDA\\Images\\US Voters 01.png')\n",
    "# plt.savefig('US Voters 02.pdf')"
   ]
  },
  {
   "cell_type": "code",
   "execution_count": 362,
   "metadata": {},
   "outputs": [
    {
     "data": {
      "image/png": "[encoded data removed]",
      "text/plain": [
       "<Figure size 4000x3000 with 1 Axes>"
      ]
     },
     "metadata": {},
     "output_type": "display_data"
    }
   ],
   "source": [
    "\n",
    "plt.figure(figsize = (20,15))\n",
    "sns.barplot(x = 'State Abv',y = 'Values', data = df1, hue = 'Voters')\n",
    "plt.savefig(r'C:\\Users\\Administrator\\Class Notebooks\\EDA\\Images\\US Voters 01.png')\n",
    "# plt.savefig('US Voters 02.pdf')"
   ]
  },
  {
   "cell_type": "code",
   "execution_count": 478,
   "metadata": {},
   "outputs": [
    {
     "data": {
      "application/vnd.plotly.v1+json": {
       "config": {
        "plotlyServerURL": "https://plot.ly"
       },
       "data": [
        {
         "alignmentgroup": "True",
         "hovertemplate": "Voters=Total Ballots Counted (Estimate)<br>State Abv=%{x}<br>Values=%{y}<extra></extra>",
         "legendgroup": "Total Ballots Counted (Estimate)",
         "marker": {
          "color": "#636efa"
         },
         "name": "Total Ballots Counted (Estimate)",
         "offsetgroup": "Total Ballots Counted (Estimate)",
         "orientation": "v",
         "showlegend": true,
         "textposition": "auto",
         "type": "bar",
         "x": [
          "AL",
          "AK",
          "AZ",
          "AR",
          "CA",
          "CO",
          "CT",
          "DE",
          "DC",
          "FL",
          "GA",
          "HI",
          "ID",
          "IL",
          "IN",
          "IA",
          "KS",
          "KY",
          "LA",
          "ME",
          "MD",
          "MA",
          "MI",
          "MN",
          "MS",
          "MO",
          "MT",
          "NE",
          "NV",
          "NH",
          "NJ",
          "NM",
          "NY",
          "NC",
          "ND",
          "OH",
          "OK",
          "OR",
          "PA",
          "RI",
          "SC",
          "SD",
          "TN",
          "TX",
          "UT",
          "VT",
          "VA",
          "WA",
          "WV",
          "WI",
          "WY"
         ],
         "xaxis": "x",
         "y": [
          2306587,
          367000,
          3400000,
          1212030,
          16800000,
          3295000,
          1850000,
          507805,
          350000,
          11150000,
          5025000,
          579165,
          875000,
          6100000,
          3070000,
          1825000,
          1340000,
          2150951,
          2155000,
          860000,
          3050000,
          3725000,
          5559186,
          3290000,
          1330000,
          3050000,
          612055,
          948852,
          1370000,
          814092,
          4495000,
          923612,
          8930000,
          5600000,
          365000,
          6100000,
          1565000,
          2404642,
          6900000,
          520000,
          2532995,
          427529,
          3060000,
          11300000,
          1450000,
          370000,
          4425000,
          4100000,
          795000,
          3325000,
          278503
         ],
         "yaxis": "y"
        },
        {
         "alignmentgroup": "True",
         "hovertemplate": "Voters=Voting-Eligible Population (VEP)<br>State Abv=%{x}<br>Values=%{y}<extra></extra>",
         "legendgroup": "Voting-Eligible Population (VEP)",
         "marker": {
          "color": "#EF553B"
         },
         "name": "Voting-Eligible Population (VEP)",
         "offsetgroup": "Voting-Eligible Population (VEP)",
         "orientation": "v",
         "showlegend": true,
         "textposition": "auto",
         "type": "bar",
         "x": [
          "AL",
          "AK",
          "AZ",
          "AR",
          "CA",
          "CO",
          "CT",
          "DE",
          "DC",
          "FL",
          "GA",
          "HI",
          "ID",
          "IL",
          "IN",
          "IA",
          "KS",
          "KY",
          "LA",
          "ME",
          "MD",
          "MA",
          "MI",
          "MN",
          "MS",
          "MO",
          "MT",
          "NE",
          "NV",
          "NH",
          "NJ",
          "NM",
          "NY",
          "NC",
          "ND",
          "OH",
          "OK",
          "OR",
          "PA",
          "RI",
          "SC",
          "SD",
          "TN",
          "TX",
          "UT",
          "VT",
          "VA",
          "WA",
          "WV",
          "WI",
          "WY"
         ],
         "xaxis": "x",
         "y": [
          3683055,
          525568,
          5189000,
          2182375,
          25962648,
          4313054,
          2603327,
          720531,
          540685,
          15551739,
          7383562,
          1007920,
          1292701,
          9027082,
          5000007,
          2321131,
          2087946,
          3312250,
          3373932,
          1085285,
          4313416,
          5072901,
          7550147,
          4118462,
          2201950,
          4603060,
          837298,
          1383551,
          2153915,
          1079434,
          6158999,
          1515355,
          13670596,
          7759051,
          565143,
          8859167,
          2845835,
          3196425,
          9781976,
          799642,
          3926305,
          648104,
          5124867,
          18784280,
          2191487,
          499884,
          6196071,
          5437844,
          1394028,
          4368530,
          431364
         ],
         "yaxis": "y"
        },
        {
         "alignmentgroup": "True",
         "hovertemplate": "Voters=Voting-Age Population (VAP)<br>State Abv=%{x}<br>Values=%{y}<extra></extra>",
         "legendgroup": "Voting-Age Population (VAP)",
         "marker": {
          "color": "#00cc96"
         },
         "name": "Voting-Age Population (VAP)",
         "offsetgroup": "Voting-Age Population (VAP)",
         "orientation": "v",
         "showlegend": true,
         "textposition": "auto",
         "type": "bar",
         "x": [
          "AL",
          "AK",
          "AZ",
          "AR",
          "CA",
          "CO",
          "CT",
          "DE",
          "DC",
          "FL",
          "GA",
          "HI",
          "ID",
          "IL",
          "IN",
          "IA",
          "KS",
          "KY",
          "LA",
          "ME",
          "MD",
          "MA",
          "MI",
          "MN",
          "MS",
          "MO",
          "MT",
          "NE",
          "NV",
          "NH",
          "NJ",
          "NM",
          "NY",
          "NC",
          "ND",
          "OH",
          "OK",
          "OR",
          "PA",
          "RI",
          "SC",
          "SD",
          "TN",
          "TX",
          "UT",
          "VT",
          "VA",
          "WA",
          "WV",
          "WI",
          "WY"
         ],
         "xaxis": "x",
         "y": [
          3837540,
          551117,
          5798473,
          2331171,
          30783255,
          4595504,
          2839560,
          780822,
          582065,
          17543341,
          8255108,
          1114466,
          1384683,
          9832749,
          5214546,
          2439743,
          2223238,
          3479257,
          3557594,
          1104489,
          4729400,
          5566452,
          7870864,
          4378737,
          2279412,
          4794796,
          851663,
          1469878,
          2450946,
          1115916,
          6952008,
          1634037,
          15372655,
          8328642,
          584610,
          9144626,
          3031792,
          3405863,
          10186170,
          857507,
          4116633,
          675016,
          5391220,
          22058260,
          2343384,
          511637,
          6727440,
          6070046,
          1422098,
          4586746,
          447915
         ],
         "yaxis": "y"
        }
       ],
       "layout": {
        "barmode": "group",
        "legend": {
         "title": {
          "text": "Voters"
         },
         "tracegroupgap": 0
        },
        "margin": {
         "t": 60
        },
        "template": {
         "data": {
          "bar": [
           {
            "error_x": {
             "color": "#2a3f5f"
            },
            "error_y": {
             "color": "#2a3f5f"
            },
            "marker": {
             "line": {
              "color": "#E5ECF6",
              "width": 0.5
             }
            },
            "type": "bar"
           }
          ],
          "barpolar": [
           {
            "marker": {
             "line": {
              "color": "#E5ECF6",
              "width": 0.5
             }
            },
            "type": "barpolar"
           }
          ],
          "carpet": [
           {
            "aaxis": {
             "endlinecolor": "#2a3f5f",
             "gridcolor": "white",
             "linecolor": "white",
             "minorgridcolor": "white",
             "startlinecolor": "#2a3f5f"
            },
            "baxis": {
             "endlinecolor": "#2a3f5f",
             "gridcolor": "white",
             "linecolor": "white",
             "minorgridcolor": "white",
             "startlinecolor": "#2a3f5f"
            },
            "type": "carpet"
           }
          ],
          "choropleth": [
           {
            "colorbar": {
             "outlinewidth": 0,
             "ticks": ""
            },
            "type": "choropleth"
           }
          ],
          "contour": [
           {
            "colorbar": {
             "outlinewidth": 0,
             "ticks": ""
            },
            "colorscale": [
             [
              0,
              "#0d0887"
             ],
             [
              0.1111111111111111,
              "#46039f"
             ],
             [
              0.2222222222222222,
              "#7201a8"
             ],
             [
              0.3333333333333333,
              "#9c179e"
             ],
             [
              0.4444444444444444,
              "#bd3786"
             ],
             [
              0.5555555555555556,
              "#d8576b"
             ],
             [
              0.6666666666666666,
              "#ed7953"
             ],
             [
              0.7777777777777778,
              "#fb9f3a"
             ],
             [
              0.8888888888888888,
              "#fdca26"
             ],
             [
              1,
              "#f0f921"
             ]
            ],
            "type": "contour"
           }
          ],
          "contourcarpet": [
           {
            "colorbar": {
             "outlinewidth": 0,
             "ticks": ""
            },
            "type": "contourcarpet"
           }
          ],
          "heatmap": [
           {
            "colorbar": {
             "outlinewidth": 0,
             "ticks": ""
            },
            "colorscale": [
             [
              0,
              "#0d0887"
             ],
             [
              0.1111111111111111,
              "#46039f"
             ],
             [
              0.2222222222222222,
              "#7201a8"
             ],
             [
              0.3333333333333333,
              "#9c179e"
             ],
             [
              0.4444444444444444,
              "#bd3786"
             ],
             [
              0.5555555555555556,
              "#d8576b"
             ],
             [
              0.6666666666666666,
              "#ed7953"
             ],
             [
              0.7777777777777778,
              "#fb9f3a"
             ],
             [
              0.8888888888888888,
              "#fdca26"
             ],
             [
              1,
              "#f0f921"
             ]
            ],
            "type": "heatmap"
           }
          ],
          "heatmapgl": [
           {
            "colorbar": {
             "outlinewidth": 0,
             "ticks": ""
            },
            "colorscale": [
             [
              0,
              "#0d0887"
             ],
             [
              0.1111111111111111,
              "#46039f"
             ],
             [
              0.2222222222222222,
              "#7201a8"
             ],
             [
              0.3333333333333333,
              "#9c179e"
             ],
             [
              0.4444444444444444,
              "#bd3786"
             ],
             [
              0.5555555555555556,
              "#d8576b"
             ],
             [
              0.6666666666666666,
              "#ed7953"
             ],
             [
              0.7777777777777778,
              "#fb9f3a"
             ],
             [
              0.8888888888888888,
              "#fdca26"
             ],
             [
              1,
              "#f0f921"
             ]
            ],
            "type": "heatmapgl"
           }
          ],
          "histogram": [
           {
            "marker": {
             "colorbar": {
              "outlinewidth": 0,
              "ticks": ""
             }
            },
            "type": "histogram"
           }
          ],
          "histogram2d": [
           {
            "colorbar": {
             "outlinewidth": 0,
             "ticks": ""
            },
            "colorscale": [
             [
              0,
              "#0d0887"
             ],
             [
              0.1111111111111111,
              "#46039f"
             ],
             [
              0.2222222222222222,
              "#7201a8"
             ],
             [
              0.3333333333333333,
              "#9c179e"
             ],
             [
              0.4444444444444444,
              "#bd3786"
             ],
             [
              0.5555555555555556,
              "#d8576b"
             ],
             [
              0.6666666666666666,
              "#ed7953"
             ],
             [
              0.7777777777777778,
              "#fb9f3a"
             ],
             [
              0.8888888888888888,
              "#fdca26"
             ],
             [
              1,
              "#f0f921"
             ]
            ],
            "type": "histogram2d"
           }
          ],
          "histogram2dcontour": [
           {
            "colorbar": {
             "outlinewidth": 0,
             "ticks": ""
            },
            "colorscale": [
             [
              0,
              "#0d0887"
             ],
             [
              0.1111111111111111,
              "#46039f"
             ],
             [
              0.2222222222222222,
              "#7201a8"
             ],
             [
              0.3333333333333333,
              "#9c179e"
             ],
             [
              0.4444444444444444,
              "#bd3786"
             ],
             [
              0.5555555555555556,
              "#d8576b"
             ],
             [
              0.6666666666666666,
              "#ed7953"
             ],
             [
              0.7777777777777778,
              "#fb9f3a"
             ],
             [
              0.8888888888888888,
              "#fdca26"
             ],
             [
              1,
              "#f0f921"
             ]
            ],
            "type": "histogram2dcontour"
           }
          ],
          "mesh3d": [
           {
            "colorbar": {
             "outlinewidth": 0,
             "ticks": ""
            },
            "type": "mesh3d"
           }
          ],
          "parcoords": [
           {
            "line": {
             "colorbar": {
              "outlinewidth": 0,
              "ticks": ""
             }
            },
            "type": "parcoords"
           }
          ],
          "pie": [
           {
            "automargin": true,
            "type": "pie"
           }
          ],
          "scatter": [
           {
            "marker": {
             "colorbar": {
              "outlinewidth": 0,
              "ticks": ""
             }
            },
            "type": "scatter"
           }
          ],
          "scatter3d": [
           {
            "line": {
             "colorbar": {
              "outlinewidth": 0,
              "ticks": ""
             }
            },
            "marker": {
             "colorbar": {
              "outlinewidth": 0,
              "ticks": ""
             }
            },
            "type": "scatter3d"
           }
          ],
          "scattercarpet": [
           {
            "marker": {
             "colorbar": {
              "outlinewidth": 0,
              "ticks": ""
             }
            },
            "type": "scattercarpet"
           }
          ],
          "scattergeo": [
           {
            "marker": {
             "colorbar": {
              "outlinewidth": 0,
              "ticks": ""
             }
            },
            "type": "scattergeo"
           }
          ],
          "scattergl": [
           {
            "marker": {
             "colorbar": {
              "outlinewidth": 0,
              "ticks": ""
             }
            },
            "type": "scattergl"
           }
          ],
          "scattermapbox": [
           {
            "marker": {
             "colorbar": {
              "outlinewidth": 0,
              "ticks": ""
             }
            },
            "type": "scattermapbox"
           }
          ],
          "scatterpolar": [
           {
            "marker": {
             "colorbar": {
              "outlinewidth": 0,
              "ticks": ""
             }
            },
            "type": "scatterpolar"
           }
          ],
          "scatterpolargl": [
           {
            "marker": {
             "colorbar": {
              "outlinewidth": 0,
              "ticks": ""
             }
            },
            "type": "scatterpolargl"
           }
          ],
          "scatterternary": [
           {
            "marker": {
             "colorbar": {
              "outlinewidth": 0,
              "ticks": ""
             }
            },
            "type": "scatterternary"
           }
          ],
          "surface": [
           {
            "colorbar": {
             "outlinewidth": 0,
             "ticks": ""
            },
            "colorscale": [
             [
              0,
              "#0d0887"
             ],
             [
              0.1111111111111111,
              "#46039f"
             ],
             [
              0.2222222222222222,
              "#7201a8"
             ],
             [
              0.3333333333333333,
              "#9c179e"
             ],
             [
              0.4444444444444444,
              "#bd3786"
             ],
             [
              0.5555555555555556,
              "#d8576b"
             ],
             [
              0.6666666666666666,
              "#ed7953"
             ],
             [
              0.7777777777777778,
              "#fb9f3a"
             ],
             [
              0.8888888888888888,
              "#fdca26"
             ],
             [
              1,
              "#f0f921"
             ]
            ],
            "type": "surface"
           }
          ],
          "table": [
           {
            "cells": {
             "fill": {
              "color": "#EBF0F8"
             },
             "line": {
              "color": "white"
             }
            },
            "header": {
             "fill": {
              "color": "#C8D4E3"
             },
             "line": {
              "color": "white"
             }
            },
            "type": "table"
           }
          ]
         },
         "layout": {
          "annotationdefaults": {
           "arrowcolor": "#2a3f5f",
           "arrowhead": 0,
           "arrowwidth": 1
          },
          "autotypenumbers": "strict",
          "coloraxis": {
           "colorbar": {
            "outlinewidth": 0,
            "ticks": ""
           }
          },
          "colorscale": {
           "diverging": [
            [
             0,
             "#8e0152"
            ],
            [
             0.1,
             "#c51b7d"
            ],
            [
             0.2,
             "#de77ae"
            ],
            [
             0.3,
             "#f1b6da"
            ],
            [
             0.4,
             "#fde0ef"
            ],
            [
             0.5,
             "#f7f7f7"
            ],
            [
             0.6,
             "#e6f5d0"
            ],
            [
             0.7,
             "#b8e186"
            ],
            [
             0.8,
             "#7fbc41"
            ],
            [
             0.9,
             "#4d9221"
            ],
            [
             1,
             "#276419"
            ]
           ],
           "sequential": [
            [
             0,
             "#0d0887"
            ],
            [
             0.1111111111111111,
             "#46039f"
            ],
            [
             0.2222222222222222,
             "#7201a8"
            ],
            [
             0.3333333333333333,
             "#9c179e"
            ],
            [
             0.4444444444444444,
             "#bd3786"
            ],
            [
             0.5555555555555556,
             "#d8576b"
            ],
            [
             0.6666666666666666,
             "#ed7953"
            ],
            [
             0.7777777777777778,
             "#fb9f3a"
            ],
            [
             0.8888888888888888,
             "#fdca26"
            ],
            [
             1,
             "#f0f921"
            ]
           ],
           "sequentialminus": [
            [
             0,
             "#0d0887"
            ],
            [
             0.1111111111111111,
             "#46039f"
            ],
            [
             0.2222222222222222,
             "#7201a8"
            ],
            [
             0.3333333333333333,
             "#9c179e"
            ],
            [
             0.4444444444444444,
             "#bd3786"
            ],
            [
             0.5555555555555556,
             "#d8576b"
            ],
            [
             0.6666666666666666,
             "#ed7953"
            ],
            [
             0.7777777777777778,
             "#fb9f3a"
            ],
            [
             0.8888888888888888,
             "#fdca26"
            ],
            [
             1,
             "#f0f921"
            ]
           ]
          },
          "colorway": [
           "#636efa",
           "#EF553B",
           "#00cc96",
           "#ab63fa",
           "#FFA15A",
           "#19d3f3",
           "#FF6692",
           "#B6E880",
           "#FF97FF",
           "#FECB52"
          ],
          "font": {
           "color": "#2a3f5f"
          },
          "geo": {
           "bgcolor": "white",
           "lakecolor": "white",
           "landcolor": "#E5ECF6",
           "showlakes": true,
           "showland": true,
           "subunitcolor": "white"
          },
          "hoverlabel": {
           "align": "left"
          },
          "hovermode": "closest",
          "mapbox": {
           "style": "light"
          },
          "paper_bgcolor": "white",
          "plot_bgcolor": "#E5ECF6",
          "polar": {
           "angularaxis": {
            "gridcolor": "white",
            "linecolor": "white",
            "ticks": ""
           },
           "bgcolor": "#E5ECF6",
           "radialaxis": {
            "gridcolor": "white",
            "linecolor": "white",
            "ticks": ""
           }
          },
          "scene": {
           "xaxis": {
            "backgroundcolor": "#E5ECF6",
            "gridcolor": "white",
            "gridwidth": 2,
            "linecolor": "white",
            "showbackground": true,
            "ticks": "",
            "zerolinecolor": "white"
           },
           "yaxis": {
            "backgroundcolor": "#E5ECF6",
            "gridcolor": "white",
            "gridwidth": 2,
            "linecolor": "white",
            "showbackground": true,
            "ticks": "",
            "zerolinecolor": "white"
           },
           "zaxis": {
            "backgroundcolor": "#E5ECF6",
            "gridcolor": "white",
            "gridwidth": 2,
            "linecolor": "white",
            "showbackground": true,
            "ticks": "",
            "zerolinecolor": "white"
           }
          },
          "shapedefaults": {
           "line": {
            "color": "#2a3f5f"
           }
          },
          "ternary": {
           "aaxis": {
            "gridcolor": "white",
            "linecolor": "white",
            "ticks": ""
           },
           "baxis": {
            "gridcolor": "white",
            "linecolor": "white",
            "ticks": ""
           },
           "bgcolor": "#E5ECF6",
           "caxis": {
            "gridcolor": "white",
            "linecolor": "white",
            "ticks": ""
           }
          },
          "title": {
           "x": 0.05
          },
          "xaxis": {
           "automargin": true,
           "gridcolor": "white",
           "linecolor": "white",
           "ticks": "",
           "title": {
            "standoff": 15
           },
           "zerolinecolor": "white",
           "zerolinewidth": 2
          },
          "yaxis": {
           "automargin": true,
           "gridcolor": "white",
           "linecolor": "white",
           "ticks": "",
           "title": {
            "standoff": 15
           },
           "zerolinecolor": "white",
           "zerolinewidth": 2
          }
         }
        },
        "width": 2000,
        "xaxis": {
         "anchor": "y",
         "domain": [
          0,
          1
         ],
         "title": {
          "text": "State Abv"
         }
        },
        "yaxis": {
         "anchor": "x",
         "domain": [
          0,
          1
         ],
         "title": {
          "text": "Values"
         }
        }
       }
      },
      "text/html": [
       "<div>                            <div id=\"541c47fb-2615-4f89-84d5-68ecc9071dec\" class=\"plotly-graph-div\" style=\"height:525px; width:2000px;\"></div>            <script type=\"text/javascript\">                require([\"plotly\"], function(Plotly) {                    window.PLOTLYENV=window.PLOTLYENV || {};                                    if (document.getElementById(\"541c47fb-2615-4f89-84d5-68ecc9071dec\")) {                    Plotly.newPlot(                        \"541c47fb-2615-4f89-84d5-68ecc9071dec\",                        [{\"alignmentgroup\": \"True\", \"hovertemplate\": \"Voters=Total Ballots Counted (Estimate)<br>State Abv=%{x}<br>Values=%{y}<extra></extra>\", \"legendgroup\": \"Total Ballots Counted (Estimate)\", \"marker\": {\"color\": \"#636efa\"}, \"name\": \"Total Ballots Counted (Estimate)\", \"offsetgroup\": \"Total Ballots Counted (Estimate)\", \"orientation\": \"v\", \"showlegend\": true, \"textposition\": \"auto\", \"type\": \"bar\", \"x\": [\"AL\", \"AK\", \"AZ\", \"AR\", \"CA\", \"CO\", \"CT\", \"DE\", \"DC\", \"FL\", \"GA\", \"HI\", \"ID\", \"IL\", \"IN\", \"IA\", \"KS\", \"KY\", \"LA\", \"ME\", \"MD\", \"MA\", \"MI\", \"MN\", \"MS\", \"MO\", \"MT\", \"NE\", \"NV\", \"NH\", \"NJ\", \"NM\", \"NY\", \"NC\", \"ND\", \"OH\", \"OK\", \"OR\", \"PA\", \"RI\", \"SC\", \"SD\", \"TN\", \"TX\", \"UT\", \"VT\", \"VA\", \"WA\", \"WV\", \"WI\", \"WY\"], \"xaxis\": \"x\", \"y\": [2306587, 367000, 3400000, 1212030, 16800000, 3295000, 1850000, 507805, 350000, 11150000, 5025000, 579165, 875000, 6100000, 3070000, 1825000, 1340000, 2150951, 2155000, 860000, 3050000, 3725000, 5559186, 3290000, 1330000, 3050000, 612055, 948852, 1370000, 814092, 4495000, 923612, 8930000, 5600000, 365000, 6100000, 1565000, 2404642, 6900000, 520000, 2532995, 427529, 3060000, 11300000, 1450000, 370000, 4425000, 4100000, 795000, 3325000, 278503], \"yaxis\": \"y\"}, {\"alignmentgroup\": \"True\", \"hovertemplate\": \"Voters=Voting-Eligible Population (VEP)<br>State Abv=%{x}<br>Values=%{y}<extra></extra>\", \"legendgroup\": \"Voting-Eligible Population (VEP)\", \"marker\": {\"color\": \"#EF553B\"}, \"name\": \"Voting-Eligible Population (VEP)\", \"offsetgroup\": \"Voting-Eligible Population (VEP)\", \"orientation\": \"v\", \"showlegend\": true, \"textposition\": \"auto\", \"type\": \"bar\", \"x\": [\"AL\", \"AK\", \"AZ\", \"AR\", \"CA\", \"CO\", \"CT\", \"DE\", \"DC\", \"FL\", \"GA\", \"HI\", \"ID\", \"IL\", \"IN\", \"IA\", \"KS\", \"KY\", \"LA\", \"ME\", \"MD\", \"MA\", \"MI\", \"MN\", \"MS\", \"MO\", \"MT\", \"NE\", \"NV\", \"NH\", \"NJ\", \"NM\", \"NY\", \"NC\", \"ND\", \"OH\", \"OK\", \"OR\", \"PA\", \"RI\", \"SC\", \"SD\", \"TN\", \"TX\", \"UT\", \"VT\", \"VA\", \"WA\", \"WV\", \"WI\", \"WY\"], \"xaxis\": \"x\", \"y\": [3683055, 525568, 5189000, 2182375, 25962648, 4313054, 2603327, 720531, 540685, 15551739, 7383562, 1007920, 1292701, 9027082, 5000007, 2321131, 2087946, 3312250, 3373932, 1085285, 4313416, 5072901, 7550147, 4118462, 2201950, 4603060, 837298, 1383551, 2153915, 1079434, 6158999, 1515355, 13670596, 7759051, 565143, 8859167, 2845835, 3196425, 9781976, 799642, 3926305, 648104, 5124867, 18784280, 2191487, 499884, 6196071, 5437844, 1394028, 4368530, 431364], \"yaxis\": \"y\"}, {\"alignmentgroup\": \"True\", \"hovertemplate\": \"Voters=Voting-Age Population (VAP)<br>State Abv=%{x}<br>Values=%{y}<extra></extra>\", \"legendgroup\": \"Voting-Age Population (VAP)\", \"marker\": {\"color\": \"#00cc96\"}, \"name\": \"Voting-Age Population (VAP)\", \"offsetgroup\": \"Voting-Age Population (VAP)\", \"orientation\": \"v\", \"showlegend\": true, \"textposition\": \"auto\", \"type\": \"bar\", \"x\": [\"AL\", \"AK\", \"AZ\", \"AR\", \"CA\", \"CO\", \"CT\", \"DE\", \"DC\", \"FL\", \"GA\", \"HI\", \"ID\", \"IL\", \"IN\", \"IA\", \"KS\", \"KY\", \"LA\", \"ME\", \"MD\", \"MA\", \"MI\", \"MN\", \"MS\", \"MO\", \"MT\", \"NE\", \"NV\", \"NH\", \"NJ\", \"NM\", \"NY\", \"NC\", \"ND\", \"OH\", \"OK\", \"OR\", \"PA\", \"RI\", \"SC\", \"SD\", \"TN\", \"TX\", \"UT\", \"VT\", \"VA\", \"WA\", \"WV\", \"WI\", \"WY\"], \"xaxis\": \"x\", \"y\": [3837540, 551117, 5798473, 2331171, 30783255, 4595504, 2839560, 780822, 582065, 17543341, 8255108, 1114466, 1384683, 9832749, 5214546, 2439743, 2223238, 3479257, 3557594, 1104489, 4729400, 5566452, 7870864, 4378737, 2279412, 4794796, 851663, 1469878, 2450946, 1115916, 6952008, 1634037, 15372655, 8328642, 584610, 9144626, 3031792, 3405863, 10186170, 857507, 4116633, 675016, 5391220, 22058260, 2343384, 511637, 6727440, 6070046, 1422098, 4586746, 447915], \"yaxis\": \"y\"}],                        {\"barmode\": \"group\", \"legend\": {\"title\": {\"text\": \"Voters\"}, \"tracegroupgap\": 0}, \"margin\": {\"t\": 60}, \"template\": {\"data\": {\"bar\": [{\"error_x\": {\"color\": \"#2a3f5f\"}, \"error_y\": {\"color\": \"#2a3f5f\"}, \"marker\": {\"line\": {\"color\": \"#E5ECF6\", \"width\": 0.5}}, \"type\": \"bar\"}], \"barpolar\": [{\"marker\": {\"line\": {\"color\": \"#E5ECF6\", \"width\": 0.5}}, \"type\": \"barpolar\"}], \"carpet\": [{\"aaxis\": {\"endlinecolor\": \"#2a3f5f\", \"gridcolor\": \"white\", \"linecolor\": \"white\", \"minorgridcolor\": \"white\", \"startlinecolor\": \"#2a3f5f\"}, \"baxis\": {\"endlinecolor\": \"#2a3f5f\", \"gridcolor\": \"white\", \"linecolor\": \"white\", \"minorgridcolor\": \"white\", \"startlinecolor\": \"#2a3f5f\"}, \"type\": \"carpet\"}], \"choropleth\": [{\"colorbar\": {\"outlinewidth\": 0, \"ticks\": \"\"}, \"type\": \"choropleth\"}], \"contour\": [{\"colorbar\": {\"outlinewidth\": 0, \"ticks\": \"\"}, \"colorscale\": [[0.0, \"#0d0887\"], [0.1111111111111111, \"#46039f\"], [0.2222222222222222, \"#7201a8\"], [0.3333333333333333, \"#9c179e\"], [0.4444444444444444, \"#bd3786\"], [0.5555555555555556, \"#d8576b\"], [0.6666666666666666, \"#ed7953\"], [0.7777777777777778, \"#fb9f3a\"], [0.8888888888888888, \"#fdca26\"], [1.0, \"#f0f921\"]], \"type\": \"contour\"}], \"contourcarpet\": [{\"colorbar\": {\"outlinewidth\": 0, \"ticks\": \"\"}, \"type\": \"contourcarpet\"}], \"heatmap\": [{\"colorbar\": {\"outlinewidth\": 0, \"ticks\": \"\"}, \"colorscale\": [[0.0, \"#0d0887\"], [0.1111111111111111, \"#46039f\"], [0.2222222222222222, \"#7201a8\"], [0.3333333333333333, \"#9c179e\"], [0.4444444444444444, \"#bd3786\"], [0.5555555555555556, \"#d8576b\"], [0.6666666666666666, \"#ed7953\"], [0.7777777777777778, \"#fb9f3a\"], [0.8888888888888888, \"#fdca26\"], [1.0, \"#f0f921\"]], \"type\": \"heatmap\"}], \"heatmapgl\": [{\"colorbar\": {\"outlinewidth\": 0, \"ticks\": \"\"}, \"colorscale\": [[0.0, \"#0d0887\"], [0.1111111111111111, \"#46039f\"], [0.2222222222222222, \"#7201a8\"], [0.3333333333333333, \"#9c179e\"], [0.4444444444444444, \"#bd3786\"], [0.5555555555555556, \"#d8576b\"], [0.6666666666666666, \"#ed7953\"], [0.7777777777777778, \"#fb9f3a\"], [0.8888888888888888, \"#fdca26\"], [1.0, \"#f0f921\"]], \"type\": \"heatmapgl\"}], \"histogram\": [{\"marker\": {\"colorbar\": {\"outlinewidth\": 0, \"ticks\": \"\"}}, \"type\": \"histogram\"}], \"histogram2d\": [{\"colorbar\": {\"outlinewidth\": 0, \"ticks\": \"\"}, \"colorscale\": [[0.0, \"#0d0887\"], [0.1111111111111111, \"#46039f\"], [0.2222222222222222, \"#7201a8\"], [0.3333333333333333, \"#9c179e\"], [0.4444444444444444, \"#bd3786\"], [0.5555555555555556, \"#d8576b\"], [0.6666666666666666, \"#ed7953\"], [0.7777777777777778, \"#fb9f3a\"], [0.8888888888888888, \"#fdca26\"], [1.0, \"#f0f921\"]], \"type\": \"histogram2d\"}], \"histogram2dcontour\": [{\"colorbar\": {\"outlinewidth\": 0, \"ticks\": \"\"}, \"colorscale\": [[0.0, \"#0d0887\"], [0.1111111111111111, \"#46039f\"], [0.2222222222222222, \"#7201a8\"], [0.3333333333333333, \"#9c179e\"], [0.4444444444444444, \"#bd3786\"], [0.5555555555555556, \"#d8576b\"], [0.6666666666666666, \"#ed7953\"], [0.7777777777777778, \"#fb9f3a\"], [0.8888888888888888, \"#fdca26\"], [1.0, \"#f0f921\"]], \"type\": \"histogram2dcontour\"}], \"mesh3d\": [{\"colorbar\": {\"outlinewidth\": 0, \"ticks\": \"\"}, \"type\": \"mesh3d\"}], \"parcoords\": [{\"line\": {\"colorbar\": {\"outlinewidth\": 0, \"ticks\": \"\"}}, \"type\": \"parcoords\"}], \"pie\": [{\"automargin\": true, \"type\": \"pie\"}], \"scatter\": [{\"marker\": {\"colorbar\": {\"outlinewidth\": 0, \"ticks\": \"\"}}, \"type\": \"scatter\"}], \"scatter3d\": [{\"line\": {\"colorbar\": {\"outlinewidth\": 0, \"ticks\": \"\"}}, \"marker\": {\"colorbar\": {\"outlinewidth\": 0, \"ticks\": \"\"}}, \"type\": \"scatter3d\"}], \"scattercarpet\": [{\"marker\": {\"colorbar\": {\"outlinewidth\": 0, \"ticks\": \"\"}}, \"type\": \"scattercarpet\"}], \"scattergeo\": [{\"marker\": {\"colorbar\": {\"outlinewidth\": 0, \"ticks\": \"\"}}, \"type\": \"scattergeo\"}], \"scattergl\": [{\"marker\": {\"colorbar\": {\"outlinewidth\": 0, \"ticks\": \"\"}}, \"type\": \"scattergl\"}], \"scattermapbox\": [{\"marker\": {\"colorbar\": {\"outlinewidth\": 0, \"ticks\": \"\"}}, \"type\": \"scattermapbox\"}], \"scatterpolar\": [{\"marker\": {\"colorbar\": {\"outlinewidth\": 0, \"ticks\": \"\"}}, \"type\": \"scatterpolar\"}], \"scatterpolargl\": [{\"marker\": {\"colorbar\": {\"outlinewidth\": 0, \"ticks\": \"\"}}, \"type\": \"scatterpolargl\"}], \"scatterternary\": [{\"marker\": {\"colorbar\": {\"outlinewidth\": 0, \"ticks\": \"\"}}, \"type\": \"scatterternary\"}], \"surface\": [{\"colorbar\": {\"outlinewidth\": 0, \"ticks\": \"\"}, \"colorscale\": [[0.0, \"#0d0887\"], [0.1111111111111111, \"#46039f\"], [0.2222222222222222, \"#7201a8\"], [0.3333333333333333, \"#9c179e\"], [0.4444444444444444, \"#bd3786\"], [0.5555555555555556, \"#d8576b\"], [0.6666666666666666, \"#ed7953\"], [0.7777777777777778, \"#fb9f3a\"], [0.8888888888888888, \"#fdca26\"], [1.0, \"#f0f921\"]], \"type\": \"surface\"}], \"table\": [{\"cells\": {\"fill\": {\"color\": \"#EBF0F8\"}, \"line\": {\"color\": \"white\"}}, \"header\": {\"fill\": {\"color\": \"#C8D4E3\"}, \"line\": {\"color\": \"white\"}}, \"type\": \"table\"}]}, \"layout\": {\"annotationdefaults\": {\"arrowcolor\": \"#2a3f5f\", \"arrowhead\": 0, \"arrowwidth\": 1}, \"autotypenumbers\": \"strict\", \"coloraxis\": {\"colorbar\": {\"outlinewidth\": 0, \"ticks\": \"\"}}, \"colorscale\": {\"diverging\": [[0, \"#8e0152\"], [0.1, \"#c51b7d\"], [0.2, \"#de77ae\"], [0.3, \"#f1b6da\"], [0.4, \"#fde0ef\"], [0.5, \"#f7f7f7\"], [0.6, \"#e6f5d0\"], [0.7, \"#b8e186\"], [0.8, \"#7fbc41\"], [0.9, \"#4d9221\"], [1, \"#276419\"]], \"sequential\": [[0.0, \"#0d0887\"], [0.1111111111111111, \"#46039f\"], [0.2222222222222222, \"#7201a8\"], [0.3333333333333333, \"#9c179e\"], [0.4444444444444444, \"#bd3786\"], [0.5555555555555556, \"#d8576b\"], [0.6666666666666666, \"#ed7953\"], [0.7777777777777778, \"#fb9f3a\"], [0.8888888888888888, \"#fdca26\"], [1.0, \"#f0f921\"]], \"sequentialminus\": [[0.0, \"#0d0887\"], [0.1111111111111111, \"#46039f\"], [0.2222222222222222, \"#7201a8\"], [0.3333333333333333, \"#9c179e\"], [0.4444444444444444, \"#bd3786\"], [0.5555555555555556, \"#d8576b\"], [0.6666666666666666, \"#ed7953\"], [0.7777777777777778, \"#fb9f3a\"], [0.8888888888888888, \"#fdca26\"], [1.0, \"#f0f921\"]]}, \"colorway\": [\"#636efa\", \"#EF553B\", \"#00cc96\", \"#ab63fa\", \"#FFA15A\", \"#19d3f3\", \"#FF6692\", \"#B6E880\", \"#FF97FF\", \"#FECB52\"], \"font\": {\"color\": \"#2a3f5f\"}, \"geo\": {\"bgcolor\": \"white\", \"lakecolor\": \"white\", \"landcolor\": \"#E5ECF6\", \"showlakes\": true, \"showland\": true, \"subunitcolor\": \"white\"}, \"hoverlabel\": {\"align\": \"left\"}, \"hovermode\": \"closest\", \"mapbox\": {\"style\": \"light\"}, \"paper_bgcolor\": \"white\", \"plot_bgcolor\": \"#E5ECF6\", \"polar\": {\"angularaxis\": {\"gridcolor\": \"white\", \"linecolor\": \"white\", \"ticks\": \"\"}, \"bgcolor\": \"#E5ECF6\", \"radialaxis\": {\"gridcolor\": \"white\", \"linecolor\": \"white\", \"ticks\": \"\"}}, \"scene\": {\"xaxis\": {\"backgroundcolor\": \"#E5ECF6\", \"gridcolor\": \"white\", \"gridwidth\": 2, \"linecolor\": \"white\", \"showbackground\": true, \"ticks\": \"\", \"zerolinecolor\": \"white\"}, \"yaxis\": {\"backgroundcolor\": \"#E5ECF6\", \"gridcolor\": \"white\", \"gridwidth\": 2, \"linecolor\": \"white\", \"showbackground\": true, \"ticks\": \"\", \"zerolinecolor\": \"white\"}, \"zaxis\": {\"backgroundcolor\": \"#E5ECF6\", \"gridcolor\": \"white\", \"gridwidth\": 2, \"linecolor\": \"white\", \"showbackground\": true, \"ticks\": \"\", \"zerolinecolor\": \"white\"}}, \"shapedefaults\": {\"line\": {\"color\": \"#2a3f5f\"}}, \"ternary\": {\"aaxis\": {\"gridcolor\": \"white\", \"linecolor\": \"white\", \"ticks\": \"\"}, \"baxis\": {\"gridcolor\": \"white\", \"linecolor\": \"white\", \"ticks\": \"\"}, \"bgcolor\": \"#E5ECF6\", \"caxis\": {\"gridcolor\": \"white\", \"linecolor\": \"white\", \"ticks\": \"\"}}, \"title\": {\"x\": 0.05}, \"xaxis\": {\"automargin\": true, \"gridcolor\": \"white\", \"linecolor\": \"white\", \"ticks\": \"\", \"title\": {\"standoff\": 15}, \"zerolinecolor\": \"white\", \"zerolinewidth\": 2}, \"yaxis\": {\"automargin\": true, \"gridcolor\": \"white\", \"linecolor\": \"white\", \"ticks\": \"\", \"title\": {\"standoff\": 15}, \"zerolinecolor\": \"white\", \"zerolinewidth\": 2}}}, \"width\": 2000, \"xaxis\": {\"anchor\": \"y\", \"domain\": [0.0, 1.0], \"title\": {\"text\": \"State Abv\"}}, \"yaxis\": {\"anchor\": \"x\", \"domain\": [0.0, 1.0], \"title\": {\"text\": \"Values\"}}},                        {\"responsive\": true}                    ).then(function(){\n",
       "                            \n",
       "var gd = document.getElementById('541c47fb-2615-4f89-84d5-68ecc9071dec');\n",
       "var x = new MutationObserver(function (mutations, observer) {{\n",
       "        var display = window.getComputedStyle(gd).display;\n",
       "        if (!display || display === 'none') {{\n",
       "            console.log([gd, 'removed!']);\n",
       "            Plotly.purge(gd);\n",
       "            observer.disconnect();\n",
       "        }}\n",
       "}});\n",
       "\n",
       "// Listen for the removal of the full notebook cells\n",
       "var notebookContainer = gd.closest('#notebook-container');\n",
       "if (notebookContainer) {{\n",
       "    x.observe(notebookContainer, {childList: true});\n",
       "}}\n",
       "\n",
       "// Listen for the clearing of the current output cell\n",
       "var outputEl = gd.closest('.output');\n",
       "if (outputEl) {{\n",
       "    x.observe(outputEl, {childList: true});\n",
       "}}\n",
       "\n",
       "                        })                };                });            </script>        </div>"
      ]
     },
     "metadata": {},
     "output_type": "display_data"
    }
   ],
   "source": [
    "import plotly.express as px\n",
    "fig = px.bar(df1, x = 'State Abv',y = 'Values',color = 'Voters', barmode='group', width=2000)\n",
    "\n",
    "fig.show()"
   ]
  },
  {
   "cell_type": "code",
   "execution_count": 394,
   "metadata": {},
   "outputs": [
    {
     "data": {
      "text/html": [
       "<div>\n",
       "<style scoped>\n",
       "    .dataframe tbody tr th:only-of-type {\n",
       "        vertical-align: middle;\n",
       "    }\n",
       "\n",
       "    .dataframe tbody tr th {\n",
       "        vertical-align: top;\n",
       "    }\n",
       "\n",
       "    .dataframe thead th {\n",
       "        text-align: right;\n",
       "    }\n",
       "</style>\n",
       "<table border=\"1\" class=\"dataframe\">\n",
       "  <thead>\n",
       "    <tr style=\"text-align: right;\">\n",
       "      <th></th>\n",
       "      <th>State</th>\n",
       "      <th>Total Ballots Counted (Estimate)</th>\n",
       "      <th>VEP Turnout Rate</th>\n",
       "      <th>Voting-Eligible Population (VEP)</th>\n",
       "      <th>Voting-Age Population (VAP)</th>\n",
       "      <th>% Non-citizen</th>\n",
       "      <th>Prison</th>\n",
       "      <th>Probation</th>\n",
       "      <th>Parole</th>\n",
       "      <th>Total Ineligible Felon</th>\n",
       "      <th>State Abv</th>\n",
       "    </tr>\n",
       "  </thead>\n",
       "  <tbody>\n",
       "    <tr>\n",
       "      <th>1</th>\n",
       "      <td>Alabama</td>\n",
       "      <td>2306587</td>\n",
       "      <td>62.60</td>\n",
       "      <td>3683055</td>\n",
       "      <td>3837540</td>\n",
       "      <td>2.30</td>\n",
       "      <td>25898</td>\n",
       "      <td>50997</td>\n",
       "      <td>10266</td>\n",
       "      <td>67782</td>\n",
       "      <td>AL</td>\n",
       "    </tr>\n",
       "    <tr>\n",
       "      <th>2</th>\n",
       "      <td>Alaska</td>\n",
       "      <td>367000</td>\n",
       "      <td>69.80</td>\n",
       "      <td>525568</td>\n",
       "      <td>551117</td>\n",
       "      <td>3.40</td>\n",
       "      <td>4293</td>\n",
       "      <td>2074</td>\n",
       "      <td>1348</td>\n",
       "      <td>6927</td>\n",
       "      <td>AK</td>\n",
       "    </tr>\n",
       "    <tr>\n",
       "      <th>3</th>\n",
       "      <td>Arizona</td>\n",
       "      <td>3400000</td>\n",
       "      <td>65.50</td>\n",
       "      <td>5189000</td>\n",
       "      <td>5798473</td>\n",
       "      <td>8.90</td>\n",
       "      <td>38520</td>\n",
       "      <td>76844</td>\n",
       "      <td>7536</td>\n",
       "      <td>93699</td>\n",
       "      <td>AZ</td>\n",
       "    </tr>\n",
       "    <tr>\n",
       "      <th>4</th>\n",
       "      <td>Arkansas</td>\n",
       "      <td>1212030</td>\n",
       "      <td>55.50</td>\n",
       "      <td>2182375</td>\n",
       "      <td>2331171</td>\n",
       "      <td>3.60</td>\n",
       "      <td>17510</td>\n",
       "      <td>36719</td>\n",
       "      <td>24698</td>\n",
       "      <td>64974</td>\n",
       "      <td>AR</td>\n",
       "    </tr>\n",
       "    <tr>\n",
       "      <th>5</th>\n",
       "      <td>California</td>\n",
       "      <td>16800000</td>\n",
       "      <td>64.70</td>\n",
       "      <td>25962648</td>\n",
       "      <td>30783255</td>\n",
       "      <td>15.00</td>\n",
       "      <td>104730</td>\n",
       "      <td>0</td>\n",
       "      <td>102586</td>\n",
       "      <td>207316</td>\n",
       "      <td>CA</td>\n",
       "    </tr>\n",
       "  </tbody>\n",
       "</table>\n",
       "</div>"
      ],
      "text/plain": [
       "        State  Total Ballots Counted (Estimate)  VEP Turnout Rate  \\\n",
       "1     Alabama                           2306587             62.60   \n",
       "2      Alaska                            367000             69.80   \n",
       "3     Arizona                           3400000             65.50   \n",
       "4    Arkansas                           1212030             55.50   \n",
       "5  California                          16800000             64.70   \n",
       "\n",
       "   Voting-Eligible Population (VEP)  Voting-Age Population (VAP)  \\\n",
       "1                           3683055                      3837540   \n",
       "2                            525568                       551117   \n",
       "3                           5189000                      5798473   \n",
       "4                           2182375                      2331171   \n",
       "5                          25962648                     30783255   \n",
       "\n",
       "   % Non-citizen  Prison  Probation  Parole  Total Ineligible Felon State Abv  \n",
       "1           2.30   25898      50997   10266                   67782        AL  \n",
       "2           3.40    4293       2074    1348                    6927        AK  \n",
       "3           8.90   38520      76844    7536                   93699        AZ  \n",
       "4           3.60   17510      36719   24698                   64974        AR  \n",
       "5          15.00  104730          0  102586                  207316        CA  "
      ]
     },
     "execution_count": 394,
     "metadata": {},
     "output_type": "execute_result"
    }
   ],
   "source": [
    "data_st.head()"
   ]
  },
  {
   "cell_type": "code",
   "execution_count": 490,
   "metadata": {
    "scrolled": false
   },
   "outputs": [
    {
     "data": {
      "application/vnd.plotly.v1+json": {
       "config": {
        "plotlyServerURL": "https://plot.ly"
       },
       "data": [
        {
         "coloraxis": "coloraxis",
         "customdata": [
          [
           "AL",
           2306587
          ],
          [
           "AK",
           367000
          ],
          [
           "AZ",
           3400000
          ],
          [
           "AR",
           1212030
          ],
          [
           "CA",
           16800000
          ],
          [
           "CO",
           3295000
          ],
          [
           "CT",
           1850000
          ],
          [
           "DE",
           507805
          ],
          [
           "DC",
           350000
          ],
          [
           "FL",
           11150000
          ],
          [
           "GA",
           5025000
          ],
          [
           "HI",
           579165
          ],
          [
           "ID",
           875000
          ],
          [
           "IL",
           6100000
          ],
          [
           "IN",
           3070000
          ],
          [
           "IA",
           1825000
          ],
          [
           "KS",
           1340000
          ],
          [
           "KY",
           2150951
          ],
          [
           "LA",
           2155000
          ],
          [
           "ME",
           860000
          ],
          [
           "MD",
           3050000
          ],
          [
           "MA",
           3725000
          ],
          [
           "MI",
           5559186
          ],
          [
           "MN",
           3290000
          ],
          [
           "MS",
           1330000
          ],
          [
           "MO",
           3050000
          ],
          [
           "MT",
           612055
          ],
          [
           "NE",
           948852
          ],
          [
           "NV",
           1370000
          ],
          [
           "NH",
           814092
          ],
          [
           "NJ",
           4495000
          ],
          [
           "NM",
           923612
          ],
          [
           "NY",
           8930000
          ],
          [
           "NC",
           5600000
          ],
          [
           "ND",
           365000
          ],
          [
           "OH",
           6100000
          ],
          [
           "OK",
           1565000
          ],
          [
           "OR",
           2404642
          ],
          [
           "PA",
           6900000
          ],
          [
           "RI",
           520000
          ],
          [
           "SC",
           2532995
          ],
          [
           "SD",
           427529
          ],
          [
           "TN",
           3060000
          ],
          [
           "TX",
           11300000
          ],
          [
           "UT",
           1450000
          ],
          [
           "VT",
           370000
          ],
          [
           "VA",
           4425000
          ],
          [
           "WA",
           4100000
          ],
          [
           "WV",
           795000
          ],
          [
           "WI",
           3325000
          ],
          [
           "WY",
           278503
          ]
         ],
         "geo": "geo",
         "hovertemplate": "<b>%{hovertext}</b><br><br>State Abv=%{customdata[0]}<br>Total Ballots Counted (Estimate)=%{z}<extra></extra>",
         "hovertext": [
          "Alabama",
          "Alaska",
          "Arizona",
          "Arkansas",
          "California",
          "Colorado",
          "Connecticut",
          "Delaware",
          "District of Columbia",
          "Florida",
          "Georgia",
          "Hawaii",
          "Idaho",
          "Illinois",
          "Indiana",
          "Iowa",
          "Kansas",
          "Kentucky",
          "Louisiana",
          "Maine",
          "Maryland",
          "Massachusetts",
          "Michigan",
          "Minnesota",
          "Mississippi",
          "Missouri",
          "Montana",
          "Nebraska",
          "Nevada",
          "New Hampshire",
          "New Jersey",
          "New Mexico",
          "New York",
          "North Carolina",
          "North Dakota",
          "Ohio",
          "Oklahoma",
          "Oregon",
          "Pennsylvania",
          "Rhode Island",
          "South Carolina",
          "South Dakota",
          "Tennessee",
          "Texas",
          "Utah",
          "Vermont",
          "Virginia",
          "Washington",
          "West Virginia",
          "Wisconsin",
          "Wyoming"
         ],
         "locationmode": "USA-states",
         "locations": [
          "AL",
          "AK",
          "AZ",
          "AR",
          "CA",
          "CO",
          "CT",
          "DE",
          "DC",
          "FL",
          "GA",
          "HI",
          "ID",
          "IL",
          "IN",
          "IA",
          "KS",
          "KY",
          "LA",
          "ME",
          "MD",
          "MA",
          "MI",
          "MN",
          "MS",
          "MO",
          "MT",
          "NE",
          "NV",
          "NH",
          "NJ",
          "NM",
          "NY",
          "NC",
          "ND",
          "OH",
          "OK",
          "OR",
          "PA",
          "RI",
          "SC",
          "SD",
          "TN",
          "TX",
          "UT",
          "VT",
          "VA",
          "WA",
          "WV",
          "WI",
          "WY"
         ],
         "name": "",
         "type": "choropleth",
         "z": [
          2306587,
          367000,
          3400000,
          1212030,
          16800000,
          3295000,
          1850000,
          507805,
          350000,
          11150000,
          5025000,
          579165,
          875000,
          6100000,
          3070000,
          1825000,
          1340000,
          2150951,
          2155000,
          860000,
          3050000,
          3725000,
          5559186,
          3290000,
          1330000,
          3050000,
          612055,
          948852,
          1370000,
          814092,
          4495000,
          923612,
          8930000,
          5600000,
          365000,
          6100000,
          1565000,
          2404642,
          6900000,
          520000,
          2532995,
          427529,
          3060000,
          11300000,
          1450000,
          370000,
          4425000,
          4100000,
          795000,
          3325000,
          278503
         ]
        }
       ],
       "layout": {
        "coloraxis": {
         "colorbar": {
          "title": {
           "text": "Total Ballots Counted (Estimate)"
          }
         },
         "colorscale": [
          [
           0,
           "#0d0887"
          ],
          [
           0.1111111111111111,
           "#46039f"
          ],
          [
           0.2222222222222222,
           "#7201a8"
          ],
          [
           0.3333333333333333,
           "#9c179e"
          ],
          [
           0.4444444444444444,
           "#bd3786"
          ],
          [
           0.5555555555555556,
           "#d8576b"
          ],
          [
           0.6666666666666666,
           "#ed7953"
          ],
          [
           0.7777777777777778,
           "#fb9f3a"
          ],
          [
           0.8888888888888888,
           "#fdca26"
          ],
          [
           1,
           "#f0f921"
          ]
         ]
        },
        "geo": {
         "center": {},
         "domain": {
          "x": [
           0,
           1
          ],
          "y": [
           0,
           1
          ]
         },
         "scope": "usa"
        },
        "legend": {
         "tracegroupgap": 0
        },
        "margin": {
         "b": 20,
         "l": 20,
         "r": 20,
         "t": 60
        },
        "paper_bgcolor": "LightSteelBlue",
        "template": {
         "data": {
          "bar": [
           {
            "error_x": {
             "color": "#2a3f5f"
            },
            "error_y": {
             "color": "#2a3f5f"
            },
            "marker": {
             "line": {
              "color": "#E5ECF6",
              "width": 0.5
             }
            },
            "type": "bar"
           }
          ],
          "barpolar": [
           {
            "marker": {
             "line": {
              "color": "#E5ECF6",
              "width": 0.5
             }
            },
            "type": "barpolar"
           }
          ],
          "carpet": [
           {
            "aaxis": {
             "endlinecolor": "#2a3f5f",
             "gridcolor": "white",
             "linecolor": "white",
             "minorgridcolor": "white",
             "startlinecolor": "#2a3f5f"
            },
            "baxis": {
             "endlinecolor": "#2a3f5f",
             "gridcolor": "white",
             "linecolor": "white",
             "minorgridcolor": "white",
             "startlinecolor": "#2a3f5f"
            },
            "type": "carpet"
           }
          ],
          "choropleth": [
           {
            "colorbar": {
             "outlinewidth": 0,
             "ticks": ""
            },
            "type": "choropleth"
           }
          ],
          "contour": [
           {
            "colorbar": {
             "outlinewidth": 0,
             "ticks": ""
            },
            "colorscale": [
             [
              0,
              "#0d0887"
             ],
             [
              0.1111111111111111,
              "#46039f"
             ],
             [
              0.2222222222222222,
              "#7201a8"
             ],
             [
              0.3333333333333333,
              "#9c179e"
             ],
             [
              0.4444444444444444,
              "#bd3786"
             ],
             [
              0.5555555555555556,
              "#d8576b"
             ],
             [
              0.6666666666666666,
              "#ed7953"
             ],
             [
              0.7777777777777778,
              "#fb9f3a"
             ],
             [
              0.8888888888888888,
              "#fdca26"
             ],
             [
              1,
              "#f0f921"
             ]
            ],
            "type": "contour"
           }
          ],
          "contourcarpet": [
           {
            "colorbar": {
             "outlinewidth": 0,
             "ticks": ""
            },
            "type": "contourcarpet"
           }
          ],
          "heatmap": [
           {
            "colorbar": {
             "outlinewidth": 0,
             "ticks": ""
            },
            "colorscale": [
             [
              0,
              "#0d0887"
             ],
             [
              0.1111111111111111,
              "#46039f"
             ],
             [
              0.2222222222222222,
              "#7201a8"
             ],
             [
              0.3333333333333333,
              "#9c179e"
             ],
             [
              0.4444444444444444,
              "#bd3786"
             ],
             [
              0.5555555555555556,
              "#d8576b"
             ],
             [
              0.6666666666666666,
              "#ed7953"
             ],
             [
              0.7777777777777778,
              "#fb9f3a"
             ],
             [
              0.8888888888888888,
              "#fdca26"
             ],
             [
              1,
              "#f0f921"
             ]
            ],
            "type": "heatmap"
           }
          ],
          "heatmapgl": [
           {
            "colorbar": {
             "outlinewidth": 0,
             "ticks": ""
            },
            "colorscale": [
             [
              0,
              "#0d0887"
             ],
             [
              0.1111111111111111,
              "#46039f"
             ],
             [
              0.2222222222222222,
              "#7201a8"
             ],
             [
              0.3333333333333333,
              "#9c179e"
             ],
             [
              0.4444444444444444,
              "#bd3786"
             ],
             [
              0.5555555555555556,
              "#d8576b"
             ],
             [
              0.6666666666666666,
              "#ed7953"
             ],
             [
              0.7777777777777778,
              "#fb9f3a"
             ],
             [
              0.8888888888888888,
              "#fdca26"
             ],
             [
              1,
              "#f0f921"
             ]
            ],
            "type": "heatmapgl"
           }
          ],
          "histogram": [
           {
            "marker": {
             "colorbar": {
              "outlinewidth": 0,
              "ticks": ""
             }
            },
            "type": "histogram"
           }
          ],
          "histogram2d": [
           {
            "colorbar": {
             "outlinewidth": 0,
             "ticks": ""
            },
            "colorscale": [
             [
              0,
              "#0d0887"
             ],
             [
              0.1111111111111111,
              "#46039f"
             ],
             [
              0.2222222222222222,
              "#7201a8"
             ],
             [
              0.3333333333333333,
              "#9c179e"
             ],
             [
              0.4444444444444444,
              "#bd3786"
             ],
             [
              0.5555555555555556,
              "#d8576b"
             ],
             [
              0.6666666666666666,
              "#ed7953"
             ],
             [
              0.7777777777777778,
              "#fb9f3a"
             ],
             [
              0.8888888888888888,
              "#fdca26"
             ],
             [
              1,
              "#f0f921"
             ]
            ],
            "type": "histogram2d"
           }
          ],
          "histogram2dcontour": [
           {
            "colorbar": {
             "outlinewidth": 0,
             "ticks": ""
            },
            "colorscale": [
             [
              0,
              "#0d0887"
             ],
             [
              0.1111111111111111,
              "#46039f"
             ],
             [
              0.2222222222222222,
              "#7201a8"
             ],
             [
              0.3333333333333333,
              "#9c179e"
             ],
             [
              0.4444444444444444,
              "#bd3786"
             ],
             [
              0.5555555555555556,
              "#d8576b"
             ],
             [
              0.6666666666666666,
              "#ed7953"
             ],
             [
              0.7777777777777778,
              "#fb9f3a"
             ],
             [
              0.8888888888888888,
              "#fdca26"
             ],
             [
              1,
              "#f0f921"
             ]
            ],
            "type": "histogram2dcontour"
           }
          ],
          "mesh3d": [
           {
            "colorbar": {
             "outlinewidth": 0,
             "ticks": ""
            },
            "type": "mesh3d"
           }
          ],
          "parcoords": [
           {
            "line": {
             "colorbar": {
              "outlinewidth": 0,
              "ticks": ""
             }
            },
            "type": "parcoords"
           }
          ],
          "pie": [
           {
            "automargin": true,
            "type": "pie"
           }
          ],
          "scatter": [
           {
            "marker": {
             "colorbar": {
              "outlinewidth": 0,
              "ticks": ""
             }
            },
            "type": "scatter"
           }
          ],
          "scatter3d": [
           {
            "line": {
             "colorbar": {
              "outlinewidth": 0,
              "ticks": ""
             }
            },
            "marker": {
             "colorbar": {
              "outlinewidth": 0,
              "ticks": ""
             }
            },
            "type": "scatter3d"
           }
          ],
          "scattercarpet": [
           {
            "marker": {
             "colorbar": {
              "outlinewidth": 0,
              "ticks": ""
             }
            },
            "type": "scattercarpet"
           }
          ],
          "scattergeo": [
           {
            "marker": {
             "colorbar": {
              "outlinewidth": 0,
              "ticks": ""
             }
            },
            "type": "scattergeo"
           }
          ],
          "scattergl": [
           {
            "marker": {
             "colorbar": {
              "outlinewidth": 0,
              "ticks": ""
             }
            },
            "type": "scattergl"
           }
          ],
          "scattermapbox": [
           {
            "marker": {
             "colorbar": {
              "outlinewidth": 0,
              "ticks": ""
             }
            },
            "type": "scattermapbox"
           }
          ],
          "scatterpolar": [
           {
            "marker": {
             "colorbar": {
              "outlinewidth": 0,
              "ticks": ""
             }
            },
            "type": "scatterpolar"
           }
          ],
          "scatterpolargl": [
           {
            "marker": {
             "colorbar": {
              "outlinewidth": 0,
              "ticks": ""
             }
            },
            "type": "scatterpolargl"
           }
          ],
          "scatterternary": [
           {
            "marker": {
             "colorbar": {
              "outlinewidth": 0,
              "ticks": ""
             }
            },
            "type": "scatterternary"
           }
          ],
          "surface": [
           {
            "colorbar": {
             "outlinewidth": 0,
             "ticks": ""
            },
            "colorscale": [
             [
              0,
              "#0d0887"
             ],
             [
              0.1111111111111111,
              "#46039f"
             ],
             [
              0.2222222222222222,
              "#7201a8"
             ],
             [
              0.3333333333333333,
              "#9c179e"
             ],
             [
              0.4444444444444444,
              "#bd3786"
             ],
             [
              0.5555555555555556,
              "#d8576b"
             ],
             [
              0.6666666666666666,
              "#ed7953"
             ],
             [
              0.7777777777777778,
              "#fb9f3a"
             ],
             [
              0.8888888888888888,
              "#fdca26"
             ],
             [
              1,
              "#f0f921"
             ]
            ],
            "type": "surface"
           }
          ],
          "table": [
           {
            "cells": {
             "fill": {
              "color": "#EBF0F8"
             },
             "line": {
              "color": "white"
             }
            },
            "header": {
             "fill": {
              "color": "#C8D4E3"
             },
             "line": {
              "color": "white"
             }
            },
            "type": "table"
           }
          ]
         },
         "layout": {
          "annotationdefaults": {
           "arrowcolor": "#2a3f5f",
           "arrowhead": 0,
           "arrowwidth": 1
          },
          "autotypenumbers": "strict",
          "coloraxis": {
           "colorbar": {
            "outlinewidth": 0,
            "ticks": ""
           }
          },
          "colorscale": {
           "diverging": [
            [
             0,
             "#8e0152"
            ],
            [
             0.1,
             "#c51b7d"
            ],
            [
             0.2,
             "#de77ae"
            ],
            [
             0.3,
             "#f1b6da"
            ],
            [
             0.4,
             "#fde0ef"
            ],
            [
             0.5,
             "#f7f7f7"
            ],
            [
             0.6,
             "#e6f5d0"
            ],
            [
             0.7,
             "#b8e186"
            ],
            [
             0.8,
             "#7fbc41"
            ],
            [
             0.9,
             "#4d9221"
            ],
            [
             1,
             "#276419"
            ]
           ],
           "sequential": [
            [
             0,
             "#0d0887"
            ],
            [
             0.1111111111111111,
             "#46039f"
            ],
            [
             0.2222222222222222,
             "#7201a8"
            ],
            [
             0.3333333333333333,
             "#9c179e"
            ],
            [
             0.4444444444444444,
             "#bd3786"
            ],
            [
             0.5555555555555556,
             "#d8576b"
            ],
            [
             0.6666666666666666,
             "#ed7953"
            ],
            [
             0.7777777777777778,
             "#fb9f3a"
            ],
            [
             0.8888888888888888,
             "#fdca26"
            ],
            [
             1,
             "#f0f921"
            ]
           ],
           "sequentialminus": [
            [
             0,
             "#0d0887"
            ],
            [
             0.1111111111111111,
             "#46039f"
            ],
            [
             0.2222222222222222,
             "#7201a8"
            ],
            [
             0.3333333333333333,
             "#9c179e"
            ],
            [
             0.4444444444444444,
             "#bd3786"
            ],
            [
             0.5555555555555556,
             "#d8576b"
            ],
            [
             0.6666666666666666,
             "#ed7953"
            ],
            [
             0.7777777777777778,
             "#fb9f3a"
            ],
            [
             0.8888888888888888,
             "#fdca26"
            ],
            [
             1,
             "#f0f921"
            ]
           ]
          },
          "colorway": [
           "#636efa",
           "#EF553B",
           "#00cc96",
           "#ab63fa",
           "#FFA15A",
           "#19d3f3",
           "#FF6692",
           "#B6E880",
           "#FF97FF",
           "#FECB52"
          ],
          "font": {
           "color": "#2a3f5f"
          },
          "geo": {
           "bgcolor": "white",
           "lakecolor": "white",
           "landcolor": "#E5ECF6",
           "showlakes": true,
           "showland": true,
           "subunitcolor": "white"
          },
          "hoverlabel": {
           "align": "left"
          },
          "hovermode": "closest",
          "mapbox": {
           "style": "light"
          },
          "paper_bgcolor": "white",
          "plot_bgcolor": "#E5ECF6",
          "polar": {
           "angularaxis": {
            "gridcolor": "white",
            "linecolor": "white",
            "ticks": ""
           },
           "bgcolor": "#E5ECF6",
           "radialaxis": {
            "gridcolor": "white",
            "linecolor": "white",
            "ticks": ""
           }
          },
          "scene": {
           "xaxis": {
            "backgroundcolor": "#E5ECF6",
            "gridcolor": "white",
            "gridwidth": 2,
            "linecolor": "white",
            "showbackground": true,
            "ticks": "",
            "zerolinecolor": "white"
           },
           "yaxis": {
            "backgroundcolor": "#E5ECF6",
            "gridcolor": "white",
            "gridwidth": 2,
            "linecolor": "white",
            "showbackground": true,
            "ticks": "",
            "zerolinecolor": "white"
           },
           "zaxis": {
            "backgroundcolor": "#E5ECF6",
            "gridcolor": "white",
            "gridwidth": 2,
            "linecolor": "white",
            "showbackground": true,
            "ticks": "",
            "zerolinecolor": "white"
           }
          },
          "shapedefaults": {
           "line": {
            "color": "#2a3f5f"
           }
          },
          "ternary": {
           "aaxis": {
            "gridcolor": "white",
            "linecolor": "white",
            "ticks": ""
           },
           "baxis": {
            "gridcolor": "white",
            "linecolor": "white",
            "ticks": ""
           },
           "bgcolor": "#E5ECF6",
           "caxis": {
            "gridcolor": "white",
            "linecolor": "white",
            "ticks": ""
           }
          },
          "title": {
           "x": 0.05
          },
          "xaxis": {
           "automargin": true,
           "gridcolor": "white",
           "linecolor": "white",
           "ticks": "",
           "title": {
            "standoff": 15
           },
           "zerolinecolor": "white",
           "zerolinewidth": 2
          },
          "yaxis": {
           "automargin": true,
           "gridcolor": "white",
           "linecolor": "white",
           "ticks": "",
           "title": {
            "standoff": 15
           },
           "zerolinecolor": "white",
           "zerolinewidth": 2
          }
         }
        }
       }
      },
      "text/html": [
       "<div>                            <div id=\"29e4775d-2e3f-47cf-ad48-03523f71cc71\" class=\"plotly-graph-div\" style=\"height:525px; width:100%;\"></div>            <script type=\"text/javascript\">                require([\"plotly\"], function(Plotly) {                    window.PLOTLYENV=window.PLOTLYENV || {};                                    if (document.getElementById(\"29e4775d-2e3f-47cf-ad48-03523f71cc71\")) {                    Plotly.newPlot(                        \"29e4775d-2e3f-47cf-ad48-03523f71cc71\",                        [{\"coloraxis\": \"coloraxis\", \"customdata\": [[\"AL\", 2306587], [\"AK\", 367000], [\"AZ\", 3400000], [\"AR\", 1212030], [\"CA\", 16800000], [\"CO\", 3295000], [\"CT\", 1850000], [\"DE\", 507805], [\"DC\", 350000], [\"FL\", 11150000], [\"GA\", 5025000], [\"HI\", 579165], [\"ID\", 875000], [\"IL\", 6100000], [\"IN\", 3070000], [\"IA\", 1825000], [\"KS\", 1340000], [\"KY\", 2150951], [\"LA\", 2155000], [\"ME\", 860000], [\"MD\", 3050000], [\"MA\", 3725000], [\"MI\", 5559186], [\"MN\", 3290000], [\"MS\", 1330000], [\"MO\", 3050000], [\"MT\", 612055], [\"NE\", 948852], [\"NV\", 1370000], [\"NH\", 814092], [\"NJ\", 4495000], [\"NM\", 923612], [\"NY\", 8930000], [\"NC\", 5600000], [\"ND\", 365000], [\"OH\", 6100000], [\"OK\", 1565000], [\"OR\", 2404642], [\"PA\", 6900000], [\"RI\", 520000], [\"SC\", 2532995], [\"SD\", 427529], [\"TN\", 3060000], [\"TX\", 11300000], [\"UT\", 1450000], [\"VT\", 370000], [\"VA\", 4425000], [\"WA\", 4100000], [\"WV\", 795000], [\"WI\", 3325000], [\"WY\", 278503]], \"geo\": \"geo\", \"hovertemplate\": \"<b>%{hovertext}</b><br><br>State Abv=%{customdata[0]}<br>Total Ballots Counted (Estimate)=%{z}<extra></extra>\", \"hovertext\": [\"Alabama\", \"Alaska\", \"Arizona\", \"Arkansas\", \"California\", \"Colorado\", \"Connecticut\", \"Delaware\", \"District of Columbia\", \"Florida\", \"Georgia\", \"Hawaii\", \"Idaho\", \"Illinois\", \"Indiana\", \"Iowa\", \"Kansas\", \"Kentucky\", \"Louisiana\", \"Maine\", \"Maryland\", \"Massachusetts\", \"Michigan\", \"Minnesota\", \"Mississippi\", \"Missouri\", \"Montana\", \"Nebraska\", \"Nevada\", \"New Hampshire\", \"New Jersey\", \"New Mexico\", \"New York\", \"North Carolina\", \"North Dakota\", \"Ohio\", \"Oklahoma\", \"Oregon\", \"Pennsylvania\", \"Rhode Island\", \"South Carolina\", \"South Dakota\", \"Tennessee\", \"Texas\", \"Utah\", \"Vermont\", \"Virginia\", \"Washington\", \"West Virginia\", \"Wisconsin\", \"Wyoming\"], \"locationmode\": \"USA-states\", \"locations\": [\"AL\", \"AK\", \"AZ\", \"AR\", \"CA\", \"CO\", \"CT\", \"DE\", \"DC\", \"FL\", \"GA\", \"HI\", \"ID\", \"IL\", \"IN\", \"IA\", \"KS\", \"KY\", \"LA\", \"ME\", \"MD\", \"MA\", \"MI\", \"MN\", \"MS\", \"MO\", \"MT\", \"NE\", \"NV\", \"NH\", \"NJ\", \"NM\", \"NY\", \"NC\", \"ND\", \"OH\", \"OK\", \"OR\", \"PA\", \"RI\", \"SC\", \"SD\", \"TN\", \"TX\", \"UT\", \"VT\", \"VA\", \"WA\", \"WV\", \"WI\", \"WY\"], \"name\": \"\", \"type\": \"choropleth\", \"z\": [2306587, 367000, 3400000, 1212030, 16800000, 3295000, 1850000, 507805, 350000, 11150000, 5025000, 579165, 875000, 6100000, 3070000, 1825000, 1340000, 2150951, 2155000, 860000, 3050000, 3725000, 5559186, 3290000, 1330000, 3050000, 612055, 948852, 1370000, 814092, 4495000, 923612, 8930000, 5600000, 365000, 6100000, 1565000, 2404642, 6900000, 520000, 2532995, 427529, 3060000, 11300000, 1450000, 370000, 4425000, 4100000, 795000, 3325000, 278503]}],                        {\"coloraxis\": {\"colorbar\": {\"title\": {\"text\": \"Total Ballots Counted (Estimate)\"}}, \"colorscale\": [[0.0, \"#0d0887\"], [0.1111111111111111, \"#46039f\"], [0.2222222222222222, \"#7201a8\"], [0.3333333333333333, \"#9c179e\"], [0.4444444444444444, \"#bd3786\"], [0.5555555555555556, \"#d8576b\"], [0.6666666666666666, \"#ed7953\"], [0.7777777777777778, \"#fb9f3a\"], [0.8888888888888888, \"#fdca26\"], [1.0, \"#f0f921\"]]}, \"geo\": {\"center\": {}, \"domain\": {\"x\": [0.0, 1.0], \"y\": [0.0, 1.0]}, \"scope\": \"usa\"}, \"legend\": {\"tracegroupgap\": 0}, \"margin\": {\"b\": 20, \"l\": 20, \"r\": 20, \"t\": 60}, \"paper_bgcolor\": \"LightSteelBlue\", \"template\": {\"data\": {\"bar\": [{\"error_x\": {\"color\": \"#2a3f5f\"}, \"error_y\": {\"color\": \"#2a3f5f\"}, \"marker\": {\"line\": {\"color\": \"#E5ECF6\", \"width\": 0.5}}, \"type\": \"bar\"}], \"barpolar\": [{\"marker\": {\"line\": {\"color\": \"#E5ECF6\", \"width\": 0.5}}, \"type\": \"barpolar\"}], \"carpet\": [{\"aaxis\": {\"endlinecolor\": \"#2a3f5f\", \"gridcolor\": \"white\", \"linecolor\": \"white\", \"minorgridcolor\": \"white\", \"startlinecolor\": \"#2a3f5f\"}, \"baxis\": {\"endlinecolor\": \"#2a3f5f\", \"gridcolor\": \"white\", \"linecolor\": \"white\", \"minorgridcolor\": \"white\", \"startlinecolor\": \"#2a3f5f\"}, \"type\": \"carpet\"}], \"choropleth\": [{\"colorbar\": {\"outlinewidth\": 0, \"ticks\": \"\"}, \"type\": \"choropleth\"}], \"contour\": [{\"colorbar\": {\"outlinewidth\": 0, \"ticks\": \"\"}, \"colorscale\": [[0.0, \"#0d0887\"], [0.1111111111111111, \"#46039f\"], [0.2222222222222222, \"#7201a8\"], [0.3333333333333333, \"#9c179e\"], [0.4444444444444444, \"#bd3786\"], [0.5555555555555556, \"#d8576b\"], [0.6666666666666666, \"#ed7953\"], [0.7777777777777778, \"#fb9f3a\"], [0.8888888888888888, \"#fdca26\"], [1.0, \"#f0f921\"]], \"type\": \"contour\"}], \"contourcarpet\": [{\"colorbar\": {\"outlinewidth\": 0, \"ticks\": \"\"}, \"type\": \"contourcarpet\"}], \"heatmap\": [{\"colorbar\": {\"outlinewidth\": 0, \"ticks\": \"\"}, \"colorscale\": [[0.0, \"#0d0887\"], [0.1111111111111111, \"#46039f\"], [0.2222222222222222, \"#7201a8\"], [0.3333333333333333, \"#9c179e\"], [0.4444444444444444, \"#bd3786\"], [0.5555555555555556, \"#d8576b\"], [0.6666666666666666, \"#ed7953\"], [0.7777777777777778, \"#fb9f3a\"], [0.8888888888888888, \"#fdca26\"], [1.0, \"#f0f921\"]], \"type\": \"heatmap\"}], \"heatmapgl\": [{\"colorbar\": {\"outlinewidth\": 0, \"ticks\": \"\"}, \"colorscale\": [[0.0, \"#0d0887\"], [0.1111111111111111, \"#46039f\"], [0.2222222222222222, \"#7201a8\"], [0.3333333333333333, \"#9c179e\"], [0.4444444444444444, \"#bd3786\"], [0.5555555555555556, \"#d8576b\"], [0.6666666666666666, \"#ed7953\"], [0.7777777777777778, \"#fb9f3a\"], [0.8888888888888888, \"#fdca26\"], [1.0, \"#f0f921\"]], \"type\": \"heatmapgl\"}], \"histogram\": [{\"marker\": {\"colorbar\": {\"outlinewidth\": 0, \"ticks\": \"\"}}, \"type\": \"histogram\"}], \"histogram2d\": [{\"colorbar\": {\"outlinewidth\": 0, \"ticks\": \"\"}, \"colorscale\": [[0.0, \"#0d0887\"], [0.1111111111111111, \"#46039f\"], [0.2222222222222222, \"#7201a8\"], [0.3333333333333333, \"#9c179e\"], [0.4444444444444444, \"#bd3786\"], [0.5555555555555556, \"#d8576b\"], [0.6666666666666666, \"#ed7953\"], [0.7777777777777778, \"#fb9f3a\"], [0.8888888888888888, \"#fdca26\"], [1.0, \"#f0f921\"]], \"type\": \"histogram2d\"}], \"histogram2dcontour\": [{\"colorbar\": {\"outlinewidth\": 0, \"ticks\": \"\"}, \"colorscale\": [[0.0, \"#0d0887\"], [0.1111111111111111, \"#46039f\"], [0.2222222222222222, \"#7201a8\"], [0.3333333333333333, \"#9c179e\"], [0.4444444444444444, \"#bd3786\"], [0.5555555555555556, \"#d8576b\"], [0.6666666666666666, \"#ed7953\"], [0.7777777777777778, \"#fb9f3a\"], [0.8888888888888888, \"#fdca26\"], [1.0, \"#f0f921\"]], \"type\": \"histogram2dcontour\"}], \"mesh3d\": [{\"colorbar\": {\"outlinewidth\": 0, \"ticks\": \"\"}, \"type\": \"mesh3d\"}], \"parcoords\": [{\"line\": {\"colorbar\": {\"outlinewidth\": 0, \"ticks\": \"\"}}, \"type\": \"parcoords\"}], \"pie\": [{\"automargin\": true, \"type\": \"pie\"}], \"scatter\": [{\"marker\": {\"colorbar\": {\"outlinewidth\": 0, \"ticks\": \"\"}}, \"type\": \"scatter\"}], \"scatter3d\": [{\"line\": {\"colorbar\": {\"outlinewidth\": 0, \"ticks\": \"\"}}, \"marker\": {\"colorbar\": {\"outlinewidth\": 0, \"ticks\": \"\"}}, \"type\": \"scatter3d\"}], \"scattercarpet\": [{\"marker\": {\"colorbar\": {\"outlinewidth\": 0, \"ticks\": \"\"}}, \"type\": \"scattercarpet\"}], \"scattergeo\": [{\"marker\": {\"colorbar\": {\"outlinewidth\": 0, \"ticks\": \"\"}}, \"type\": \"scattergeo\"}], \"scattergl\": [{\"marker\": {\"colorbar\": {\"outlinewidth\": 0, \"ticks\": \"\"}}, \"type\": \"scattergl\"}], \"scattermapbox\": [{\"marker\": {\"colorbar\": {\"outlinewidth\": 0, \"ticks\": \"\"}}, \"type\": \"scattermapbox\"}], \"scatterpolar\": [{\"marker\": {\"colorbar\": {\"outlinewidth\": 0, \"ticks\": \"\"}}, \"type\": \"scatterpolar\"}], \"scatterpolargl\": [{\"marker\": {\"colorbar\": {\"outlinewidth\": 0, \"ticks\": \"\"}}, \"type\": \"scatterpolargl\"}], \"scatterternary\": [{\"marker\": {\"colorbar\": {\"outlinewidth\": 0, \"ticks\": \"\"}}, \"type\": \"scatterternary\"}], \"surface\": [{\"colorbar\": {\"outlinewidth\": 0, \"ticks\": \"\"}, \"colorscale\": [[0.0, \"#0d0887\"], [0.1111111111111111, \"#46039f\"], [0.2222222222222222, \"#7201a8\"], [0.3333333333333333, \"#9c179e\"], [0.4444444444444444, \"#bd3786\"], [0.5555555555555556, \"#d8576b\"], [0.6666666666666666, \"#ed7953\"], [0.7777777777777778, \"#fb9f3a\"], [0.8888888888888888, \"#fdca26\"], [1.0, \"#f0f921\"]], \"type\": \"surface\"}], \"table\": [{\"cells\": {\"fill\": {\"color\": \"#EBF0F8\"}, \"line\": {\"color\": \"white\"}}, \"header\": {\"fill\": {\"color\": \"#C8D4E3\"}, \"line\": {\"color\": \"white\"}}, \"type\": \"table\"}]}, \"layout\": {\"annotationdefaults\": {\"arrowcolor\": \"#2a3f5f\", \"arrowhead\": 0, \"arrowwidth\": 1}, \"autotypenumbers\": \"strict\", \"coloraxis\": {\"colorbar\": {\"outlinewidth\": 0, \"ticks\": \"\"}}, \"colorscale\": {\"diverging\": [[0, \"#8e0152\"], [0.1, \"#c51b7d\"], [0.2, \"#de77ae\"], [0.3, \"#f1b6da\"], [0.4, \"#fde0ef\"], [0.5, \"#f7f7f7\"], [0.6, \"#e6f5d0\"], [0.7, \"#b8e186\"], [0.8, \"#7fbc41\"], [0.9, \"#4d9221\"], [1, \"#276419\"]], \"sequential\": [[0.0, \"#0d0887\"], [0.1111111111111111, \"#46039f\"], [0.2222222222222222, \"#7201a8\"], [0.3333333333333333, \"#9c179e\"], [0.4444444444444444, \"#bd3786\"], [0.5555555555555556, \"#d8576b\"], [0.6666666666666666, \"#ed7953\"], [0.7777777777777778, \"#fb9f3a\"], [0.8888888888888888, \"#fdca26\"], [1.0, \"#f0f921\"]], \"sequentialminus\": [[0.0, \"#0d0887\"], [0.1111111111111111, \"#46039f\"], [0.2222222222222222, \"#7201a8\"], [0.3333333333333333, \"#9c179e\"], [0.4444444444444444, \"#bd3786\"], [0.5555555555555556, \"#d8576b\"], [0.6666666666666666, \"#ed7953\"], [0.7777777777777778, \"#fb9f3a\"], [0.8888888888888888, \"#fdca26\"], [1.0, \"#f0f921\"]]}, \"colorway\": [\"#636efa\", \"#EF553B\", \"#00cc96\", \"#ab63fa\", \"#FFA15A\", \"#19d3f3\", \"#FF6692\", \"#B6E880\", \"#FF97FF\", \"#FECB52\"], \"font\": {\"color\": \"#2a3f5f\"}, \"geo\": {\"bgcolor\": \"white\", \"lakecolor\": \"white\", \"landcolor\": \"#E5ECF6\", \"showlakes\": true, \"showland\": true, \"subunitcolor\": \"white\"}, \"hoverlabel\": {\"align\": \"left\"}, \"hovermode\": \"closest\", \"mapbox\": {\"style\": \"light\"}, \"paper_bgcolor\": \"white\", \"plot_bgcolor\": \"#E5ECF6\", \"polar\": {\"angularaxis\": {\"gridcolor\": \"white\", \"linecolor\": \"white\", \"ticks\": \"\"}, \"bgcolor\": \"#E5ECF6\", \"radialaxis\": {\"gridcolor\": \"white\", \"linecolor\": \"white\", \"ticks\": \"\"}}, \"scene\": {\"xaxis\": {\"backgroundcolor\": \"#E5ECF6\", \"gridcolor\": \"white\", \"gridwidth\": 2, \"linecolor\": \"white\", \"showbackground\": true, \"ticks\": \"\", \"zerolinecolor\": \"white\"}, \"yaxis\": {\"backgroundcolor\": \"#E5ECF6\", \"gridcolor\": \"white\", \"gridwidth\": 2, \"linecolor\": \"white\", \"showbackground\": true, \"ticks\": \"\", \"zerolinecolor\": \"white\"}, \"zaxis\": {\"backgroundcolor\": \"#E5ECF6\", \"gridcolor\": \"white\", \"gridwidth\": 2, \"linecolor\": \"white\", \"showbackground\": true, \"ticks\": \"\", \"zerolinecolor\": \"white\"}}, \"shapedefaults\": {\"line\": {\"color\": \"#2a3f5f\"}}, \"ternary\": {\"aaxis\": {\"gridcolor\": \"white\", \"linecolor\": \"white\", \"ticks\": \"\"}, \"baxis\": {\"gridcolor\": \"white\", \"linecolor\": \"white\", \"ticks\": \"\"}, \"bgcolor\": \"#E5ECF6\", \"caxis\": {\"gridcolor\": \"white\", \"linecolor\": \"white\", \"ticks\": \"\"}}, \"title\": {\"x\": 0.05}, \"xaxis\": {\"automargin\": true, \"gridcolor\": \"white\", \"linecolor\": \"white\", \"ticks\": \"\", \"title\": {\"standoff\": 15}, \"zerolinecolor\": \"white\", \"zerolinewidth\": 2}, \"yaxis\": {\"automargin\": true, \"gridcolor\": \"white\", \"linecolor\": \"white\", \"ticks\": \"\", \"title\": {\"standoff\": 15}, \"zerolinecolor\": \"white\", \"zerolinewidth\": 2}}}},                        {\"responsive\": true}                    ).then(function(){\n",
       "                            \n",
       "var gd = document.getElementById('29e4775d-2e3f-47cf-ad48-03523f71cc71');\n",
       "var x = new MutationObserver(function (mutations, observer) {{\n",
       "        var display = window.getComputedStyle(gd).display;\n",
       "        if (!display || display === 'none') {{\n",
       "            console.log([gd, 'removed!']);\n",
       "            Plotly.purge(gd);\n",
       "            observer.disconnect();\n",
       "        }}\n",
       "}});\n",
       "\n",
       "// Listen for the removal of the full notebook cells\n",
       "var notebookContainer = gd.closest('#notebook-container');\n",
       "if (notebookContainer) {{\n",
       "    x.observe(notebookContainer, {childList: true});\n",
       "}}\n",
       "\n",
       "// Listen for the clearing of the current output cell\n",
       "var outputEl = gd.closest('.output');\n",
       "if (outputEl) {{\n",
       "    x.observe(outputEl, {childList: true});\n",
       "}}\n",
       "\n",
       "                        })                };                });            </script>        </div>"
      ]
     },
     "metadata": {},
     "output_type": "display_data"
    }
   ],
   "source": [
    "fig = px.choropleth(data_st,locations='State Abv', \n",
    "                    locationmode=\"USA-states\", \n",
    "                    color='Total Ballots Counted (Estimate)', scope=\"usa\",\n",
    "                   hover_name='State',\n",
    "                   hover_data=['State Abv','Total Ballots Counted (Estimate)']\n",
    "                                       )\n",
    "\n",
    "\n",
    "fig.show()"
   ]
  },
  {
   "cell_type": "code",
   "execution_count": 398,
   "metadata": {},
   "outputs": [
    {
     "data": {
      "application/vnd.plotly.v1+json": {
       "config": {
        "plotlyServerURL": "https://plot.ly"
       },
       "data": [
        {
         "domain": {
          "x": [
           0,
           1
          ],
          "y": [
           0,
           1
          ]
         },
         "hovertemplate": "State Abv=%{label}<br>Total Ballots Counted (Estimate)=%{value}<extra></extra>",
         "labels": [
          "AL",
          "AK",
          "AZ",
          "AR",
          "CA",
          "CO"
         ],
         "legendgroup": "",
         "name": "",
         "showlegend": true,
         "type": "pie",
         "values": [
          2306587,
          367000,
          3400000,
          1212030,
          16800000,
          3295000
         ]
        }
       ],
       "layout": {
        "legend": {
         "tracegroupgap": 0
        },
        "margin": {
         "t": 60
        },
        "template": {
         "data": {
          "bar": [
           {
            "error_x": {
             "color": "#2a3f5f"
            },
            "error_y": {
             "color": "#2a3f5f"
            },
            "marker": {
             "line": {
              "color": "#E5ECF6",
              "width": 0.5
             }
            },
            "type": "bar"
           }
          ],
          "barpolar": [
           {
            "marker": {
             "line": {
              "color": "#E5ECF6",
              "width": 0.5
             }
            },
            "type": "barpolar"
           }
          ],
          "carpet": [
           {
            "aaxis": {
             "endlinecolor": "#2a3f5f",
             "gridcolor": "white",
             "linecolor": "white",
             "minorgridcolor": "white",
             "startlinecolor": "#2a3f5f"
            },
            "baxis": {
             "endlinecolor": "#2a3f5f",
             "gridcolor": "white",
             "linecolor": "white",
             "minorgridcolor": "white",
             "startlinecolor": "#2a3f5f"
            },
            "type": "carpet"
           }
          ],
          "choropleth": [
           {
            "colorbar": {
             "outlinewidth": 0,
             "ticks": ""
            },
            "type": "choropleth"
           }
          ],
          "contour": [
           {
            "colorbar": {
             "outlinewidth": 0,
             "ticks": ""
            },
            "colorscale": [
             [
              0,
              "#0d0887"
             ],
             [
              0.1111111111111111,
              "#46039f"
             ],
             [
              0.2222222222222222,
              "#7201a8"
             ],
             [
              0.3333333333333333,
              "#9c179e"
             ],
             [
              0.4444444444444444,
              "#bd3786"
             ],
             [
              0.5555555555555556,
              "#d8576b"
             ],
             [
              0.6666666666666666,
              "#ed7953"
             ],
             [
              0.7777777777777778,
              "#fb9f3a"
             ],
             [
              0.8888888888888888,
              "#fdca26"
             ],
             [
              1,
              "#f0f921"
             ]
            ],
            "type": "contour"
           }
          ],
          "contourcarpet": [
           {
            "colorbar": {
             "outlinewidth": 0,
             "ticks": ""
            },
            "type": "contourcarpet"
           }
          ],
          "heatmap": [
           {
            "colorbar": {
             "outlinewidth": 0,
             "ticks": ""
            },
            "colorscale": [
             [
              0,
              "#0d0887"
             ],
             [
              0.1111111111111111,
              "#46039f"
             ],
             [
              0.2222222222222222,
              "#7201a8"
             ],
             [
              0.3333333333333333,
              "#9c179e"
             ],
             [
              0.4444444444444444,
              "#bd3786"
             ],
             [
              0.5555555555555556,
              "#d8576b"
             ],
             [
              0.6666666666666666,
              "#ed7953"
             ],
             [
              0.7777777777777778,
              "#fb9f3a"
             ],
             [
              0.8888888888888888,
              "#fdca26"
             ],
             [
              1,
              "#f0f921"
             ]
            ],
            "type": "heatmap"
           }
          ],
          "heatmapgl": [
           {
            "colorbar": {
             "outlinewidth": 0,
             "ticks": ""
            },
            "colorscale": [
             [
              0,
              "#0d0887"
             ],
             [
              0.1111111111111111,
              "#46039f"
             ],
             [
              0.2222222222222222,
              "#7201a8"
             ],
             [
              0.3333333333333333,
              "#9c179e"
             ],
             [
              0.4444444444444444,
              "#bd3786"
             ],
             [
              0.5555555555555556,
              "#d8576b"
             ],
             [
              0.6666666666666666,
              "#ed7953"
             ],
             [
              0.7777777777777778,
              "#fb9f3a"
             ],
             [
              0.8888888888888888,
              "#fdca26"
             ],
             [
              1,
              "#f0f921"
             ]
            ],
            "type": "heatmapgl"
           }
          ],
          "histogram": [
           {
            "marker": {
             "colorbar": {
              "outlinewidth": 0,
              "ticks": ""
             }
            },
            "type": "histogram"
           }
          ],
          "histogram2d": [
           {
            "colorbar": {
             "outlinewidth": 0,
             "ticks": ""
            },
            "colorscale": [
             [
              0,
              "#0d0887"
             ],
             [
              0.1111111111111111,
              "#46039f"
             ],
             [
              0.2222222222222222,
              "#7201a8"
             ],
             [
              0.3333333333333333,
              "#9c179e"
             ],
             [
              0.4444444444444444,
              "#bd3786"
             ],
             [
              0.5555555555555556,
              "#d8576b"
             ],
             [
              0.6666666666666666,
              "#ed7953"
             ],
             [
              0.7777777777777778,
              "#fb9f3a"
             ],
             [
              0.8888888888888888,
              "#fdca26"
             ],
             [
              1,
              "#f0f921"
             ]
            ],
            "type": "histogram2d"
           }
          ],
          "histogram2dcontour": [
           {
            "colorbar": {
             "outlinewidth": 0,
             "ticks": ""
            },
            "colorscale": [
             [
              0,
              "#0d0887"
             ],
             [
              0.1111111111111111,
              "#46039f"
             ],
             [
              0.2222222222222222,
              "#7201a8"
             ],
             [
              0.3333333333333333,
              "#9c179e"
             ],
             [
              0.4444444444444444,
              "#bd3786"
             ],
             [
              0.5555555555555556,
              "#d8576b"
             ],
             [
              0.6666666666666666,
              "#ed7953"
             ],
             [
              0.7777777777777778,
              "#fb9f3a"
             ],
             [
              0.8888888888888888,
              "#fdca26"
             ],
             [
              1,
              "#f0f921"
             ]
            ],
            "type": "histogram2dcontour"
           }
          ],
          "mesh3d": [
           {
            "colorbar": {
             "outlinewidth": 0,
             "ticks": ""
            },
            "type": "mesh3d"
           }
          ],
          "parcoords": [
           {
            "line": {
             "colorbar": {
              "outlinewidth": 0,
              "ticks": ""
             }
            },
            "type": "parcoords"
           }
          ],
          "pie": [
           {
            "automargin": true,
            "type": "pie"
           }
          ],
          "scatter": [
           {
            "marker": {
             "colorbar": {
              "outlinewidth": 0,
              "ticks": ""
             }
            },
            "type": "scatter"
           }
          ],
          "scatter3d": [
           {
            "line": {
             "colorbar": {
              "outlinewidth": 0,
              "ticks": ""
             }
            },
            "marker": {
             "colorbar": {
              "outlinewidth": 0,
              "ticks": ""
             }
            },
            "type": "scatter3d"
           }
          ],
          "scattercarpet": [
           {
            "marker": {
             "colorbar": {
              "outlinewidth": 0,
              "ticks": ""
             }
            },
            "type": "scattercarpet"
           }
          ],
          "scattergeo": [
           {
            "marker": {
             "colorbar": {
              "outlinewidth": 0,
              "ticks": ""
             }
            },
            "type": "scattergeo"
           }
          ],
          "scattergl": [
           {
            "marker": {
             "colorbar": {
              "outlinewidth": 0,
              "ticks": ""
             }
            },
            "type": "scattergl"
           }
          ],
          "scattermapbox": [
           {
            "marker": {
             "colorbar": {
              "outlinewidth": 0,
              "ticks": ""
             }
            },
            "type": "scattermapbox"
           }
          ],
          "scatterpolar": [
           {
            "marker": {
             "colorbar": {
              "outlinewidth": 0,
              "ticks": ""
             }
            },
            "type": "scatterpolar"
           }
          ],
          "scatterpolargl": [
           {
            "marker": {
             "colorbar": {
              "outlinewidth": 0,
              "ticks": ""
             }
            },
            "type": "scatterpolargl"
           }
          ],
          "scatterternary": [
           {
            "marker": {
             "colorbar": {
              "outlinewidth": 0,
              "ticks": ""
             }
            },
            "type": "scatterternary"
           }
          ],
          "surface": [
           {
            "colorbar": {
             "outlinewidth": 0,
             "ticks": ""
            },
            "colorscale": [
             [
              0,
              "#0d0887"
             ],
             [
              0.1111111111111111,
              "#46039f"
             ],
             [
              0.2222222222222222,
              "#7201a8"
             ],
             [
              0.3333333333333333,
              "#9c179e"
             ],
             [
              0.4444444444444444,
              "#bd3786"
             ],
             [
              0.5555555555555556,
              "#d8576b"
             ],
             [
              0.6666666666666666,
              "#ed7953"
             ],
             [
              0.7777777777777778,
              "#fb9f3a"
             ],
             [
              0.8888888888888888,
              "#fdca26"
             ],
             [
              1,
              "#f0f921"
             ]
            ],
            "type": "surface"
           }
          ],
          "table": [
           {
            "cells": {
             "fill": {
              "color": "#EBF0F8"
             },
             "line": {
              "color": "white"
             }
            },
            "header": {
             "fill": {
              "color": "#C8D4E3"
             },
             "line": {
              "color": "white"
             }
            },
            "type": "table"
           }
          ]
         },
         "layout": {
          "annotationdefaults": {
           "arrowcolor": "#2a3f5f",
           "arrowhead": 0,
           "arrowwidth": 1
          },
          "autotypenumbers": "strict",
          "coloraxis": {
           "colorbar": {
            "outlinewidth": 0,
            "ticks": ""
           }
          },
          "colorscale": {
           "diverging": [
            [
             0,
             "#8e0152"
            ],
            [
             0.1,
             "#c51b7d"
            ],
            [
             0.2,
             "#de77ae"
            ],
            [
             0.3,
             "#f1b6da"
            ],
            [
             0.4,
             "#fde0ef"
            ],
            [
             0.5,
             "#f7f7f7"
            ],
            [
             0.6,
             "#e6f5d0"
            ],
            [
             0.7,
             "#b8e186"
            ],
            [
             0.8,
             "#7fbc41"
            ],
            [
             0.9,
             "#4d9221"
            ],
            [
             1,
             "#276419"
            ]
           ],
           "sequential": [
            [
             0,
             "#0d0887"
            ],
            [
             0.1111111111111111,
             "#46039f"
            ],
            [
             0.2222222222222222,
             "#7201a8"
            ],
            [
             0.3333333333333333,
             "#9c179e"
            ],
            [
             0.4444444444444444,
             "#bd3786"
            ],
            [
             0.5555555555555556,
             "#d8576b"
            ],
            [
             0.6666666666666666,
             "#ed7953"
            ],
            [
             0.7777777777777778,
             "#fb9f3a"
            ],
            [
             0.8888888888888888,
             "#fdca26"
            ],
            [
             1,
             "#f0f921"
            ]
           ],
           "sequentialminus": [
            [
             0,
             "#0d0887"
            ],
            [
             0.1111111111111111,
             "#46039f"
            ],
            [
             0.2222222222222222,
             "#7201a8"
            ],
            [
             0.3333333333333333,
             "#9c179e"
            ],
            [
             0.4444444444444444,
             "#bd3786"
            ],
            [
             0.5555555555555556,
             "#d8576b"
            ],
            [
             0.6666666666666666,
             "#ed7953"
            ],
            [
             0.7777777777777778,
             "#fb9f3a"
            ],
            [
             0.8888888888888888,
             "#fdca26"
            ],
            [
             1,
             "#f0f921"
            ]
           ]
          },
          "colorway": [
           "#636efa",
           "#EF553B",
           "#00cc96",
           "#ab63fa",
           "#FFA15A",
           "#19d3f3",
           "#FF6692",
           "#B6E880",
           "#FF97FF",
           "#FECB52"
          ],
          "font": {
           "color": "#2a3f5f"
          },
          "geo": {
           "bgcolor": "white",
           "lakecolor": "white",
           "landcolor": "#E5ECF6",
           "showlakes": true,
           "showland": true,
           "subunitcolor": "white"
          },
          "hoverlabel": {
           "align": "left"
          },
          "hovermode": "closest",
          "mapbox": {
           "style": "light"
          },
          "paper_bgcolor": "white",
          "plot_bgcolor": "#E5ECF6",
          "polar": {
           "angularaxis": {
            "gridcolor": "white",
            "linecolor": "white",
            "ticks": ""
           },
           "bgcolor": "#E5ECF6",
           "radialaxis": {
            "gridcolor": "white",
            "linecolor": "white",
            "ticks": ""
           }
          },
          "scene": {
           "xaxis": {
            "backgroundcolor": "#E5ECF6",
            "gridcolor": "white",
            "gridwidth": 2,
            "linecolor": "white",
            "showbackground": true,
            "ticks": "",
            "zerolinecolor": "white"
           },
           "yaxis": {
            "backgroundcolor": "#E5ECF6",
            "gridcolor": "white",
            "gridwidth": 2,
            "linecolor": "white",
            "showbackground": true,
            "ticks": "",
            "zerolinecolor": "white"
           },
           "zaxis": {
            "backgroundcolor": "#E5ECF6",
            "gridcolor": "white",
            "gridwidth": 2,
            "linecolor": "white",
            "showbackground": true,
            "ticks": "",
            "zerolinecolor": "white"
           }
          },
          "shapedefaults": {
           "line": {
            "color": "#2a3f5f"
           }
          },
          "ternary": {
           "aaxis": {
            "gridcolor": "white",
            "linecolor": "white",
            "ticks": ""
           },
           "baxis": {
            "gridcolor": "white",
            "linecolor": "white",
            "ticks": ""
           },
           "bgcolor": "#E5ECF6",
           "caxis": {
            "gridcolor": "white",
            "linecolor": "white",
            "ticks": ""
           }
          },
          "title": {
           "x": 0.05
          },
          "xaxis": {
           "automargin": true,
           "gridcolor": "white",
           "linecolor": "white",
           "ticks": "",
           "title": {
            "standoff": 15
           },
           "zerolinecolor": "white",
           "zerolinewidth": 2
          },
          "yaxis": {
           "automargin": true,
           "gridcolor": "white",
           "linecolor": "white",
           "ticks": "",
           "title": {
            "standoff": 15
           },
           "zerolinecolor": "white",
           "zerolinewidth": 2
          }
         }
        }
       }
      },
      "text/html": [
       "<div>                            <div id=\"fc1f733f-221c-4f1d-8c01-7738b2729c32\" class=\"plotly-graph-div\" style=\"height:525px; width:100%;\"></div>            <script type=\"text/javascript\">                require([\"plotly\"], function(Plotly) {                    window.PLOTLYENV=window.PLOTLYENV || {};                                    if (document.getElementById(\"fc1f733f-221c-4f1d-8c01-7738b2729c32\")) {                    Plotly.newPlot(                        \"fc1f733f-221c-4f1d-8c01-7738b2729c32\",                        [{\"domain\": {\"x\": [0.0, 1.0], \"y\": [0.0, 1.0]}, \"hovertemplate\": \"State Abv=%{label}<br>Total Ballots Counted (Estimate)=%{value}<extra></extra>\", \"labels\": [\"AL\", \"AK\", \"AZ\", \"AR\", \"CA\", \"CO\"], \"legendgroup\": \"\", \"name\": \"\", \"showlegend\": true, \"type\": \"pie\", \"values\": [2306587, 367000, 3400000, 1212030, 16800000, 3295000]}],                        {\"legend\": {\"tracegroupgap\": 0}, \"margin\": {\"t\": 60}, \"template\": {\"data\": {\"bar\": [{\"error_x\": {\"color\": \"#2a3f5f\"}, \"error_y\": {\"color\": \"#2a3f5f\"}, \"marker\": {\"line\": {\"color\": \"#E5ECF6\", \"width\": 0.5}}, \"type\": \"bar\"}], \"barpolar\": [{\"marker\": {\"line\": {\"color\": \"#E5ECF6\", \"width\": 0.5}}, \"type\": \"barpolar\"}], \"carpet\": [{\"aaxis\": {\"endlinecolor\": \"#2a3f5f\", \"gridcolor\": \"white\", \"linecolor\": \"white\", \"minorgridcolor\": \"white\", \"startlinecolor\": \"#2a3f5f\"}, \"baxis\": {\"endlinecolor\": \"#2a3f5f\", \"gridcolor\": \"white\", \"linecolor\": \"white\", \"minorgridcolor\": \"white\", \"startlinecolor\": \"#2a3f5f\"}, \"type\": \"carpet\"}], \"choropleth\": [{\"colorbar\": {\"outlinewidth\": 0, \"ticks\": \"\"}, \"type\": \"choropleth\"}], \"contour\": [{\"colorbar\": {\"outlinewidth\": 0, \"ticks\": \"\"}, \"colorscale\": [[0.0, \"#0d0887\"], [0.1111111111111111, \"#46039f\"], [0.2222222222222222, \"#7201a8\"], [0.3333333333333333, \"#9c179e\"], [0.4444444444444444, \"#bd3786\"], [0.5555555555555556, \"#d8576b\"], [0.6666666666666666, \"#ed7953\"], [0.7777777777777778, \"#fb9f3a\"], [0.8888888888888888, \"#fdca26\"], [1.0, \"#f0f921\"]], \"type\": \"contour\"}], \"contourcarpet\": [{\"colorbar\": {\"outlinewidth\": 0, \"ticks\": \"\"}, \"type\": \"contourcarpet\"}], \"heatmap\": [{\"colorbar\": {\"outlinewidth\": 0, \"ticks\": \"\"}, \"colorscale\": [[0.0, \"#0d0887\"], [0.1111111111111111, \"#46039f\"], [0.2222222222222222, \"#7201a8\"], [0.3333333333333333, \"#9c179e\"], [0.4444444444444444, \"#bd3786\"], [0.5555555555555556, \"#d8576b\"], [0.6666666666666666, \"#ed7953\"], [0.7777777777777778, \"#fb9f3a\"], [0.8888888888888888, \"#fdca26\"], [1.0, \"#f0f921\"]], \"type\": \"heatmap\"}], \"heatmapgl\": [{\"colorbar\": {\"outlinewidth\": 0, \"ticks\": \"\"}, \"colorscale\": [[0.0, \"#0d0887\"], [0.1111111111111111, \"#46039f\"], [0.2222222222222222, \"#7201a8\"], [0.3333333333333333, \"#9c179e\"], [0.4444444444444444, \"#bd3786\"], [0.5555555555555556, \"#d8576b\"], [0.6666666666666666, \"#ed7953\"], [0.7777777777777778, \"#fb9f3a\"], [0.8888888888888888, \"#fdca26\"], [1.0, \"#f0f921\"]], \"type\": \"heatmapgl\"}], \"histogram\": [{\"marker\": {\"colorbar\": {\"outlinewidth\": 0, \"ticks\": \"\"}}, \"type\": \"histogram\"}], \"histogram2d\": [{\"colorbar\": {\"outlinewidth\": 0, \"ticks\": \"\"}, \"colorscale\": [[0.0, \"#0d0887\"], [0.1111111111111111, \"#46039f\"], [0.2222222222222222, \"#7201a8\"], [0.3333333333333333, \"#9c179e\"], [0.4444444444444444, \"#bd3786\"], [0.5555555555555556, \"#d8576b\"], [0.6666666666666666, \"#ed7953\"], [0.7777777777777778, \"#fb9f3a\"], [0.8888888888888888, \"#fdca26\"], [1.0, \"#f0f921\"]], \"type\": \"histogram2d\"}], \"histogram2dcontour\": [{\"colorbar\": {\"outlinewidth\": 0, \"ticks\": \"\"}, \"colorscale\": [[0.0, \"#0d0887\"], [0.1111111111111111, \"#46039f\"], [0.2222222222222222, \"#7201a8\"], [0.3333333333333333, \"#9c179e\"], [0.4444444444444444, \"#bd3786\"], [0.5555555555555556, \"#d8576b\"], [0.6666666666666666, \"#ed7953\"], [0.7777777777777778, \"#fb9f3a\"], [0.8888888888888888, \"#fdca26\"], [1.0, \"#f0f921\"]], \"type\": \"histogram2dcontour\"}], \"mesh3d\": [{\"colorbar\": {\"outlinewidth\": 0, \"ticks\": \"\"}, \"type\": \"mesh3d\"}], \"parcoords\": [{\"line\": {\"colorbar\": {\"outlinewidth\": 0, \"ticks\": \"\"}}, \"type\": \"parcoords\"}], \"pie\": [{\"automargin\": true, \"type\": \"pie\"}], \"scatter\": [{\"marker\": {\"colorbar\": {\"outlinewidth\": 0, \"ticks\": \"\"}}, \"type\": \"scatter\"}], \"scatter3d\": [{\"line\": {\"colorbar\": {\"outlinewidth\": 0, \"ticks\": \"\"}}, \"marker\": {\"colorbar\": {\"outlinewidth\": 0, \"ticks\": \"\"}}, \"type\": \"scatter3d\"}], \"scattercarpet\": [{\"marker\": {\"colorbar\": {\"outlinewidth\": 0, \"ticks\": \"\"}}, \"type\": \"scattercarpet\"}], \"scattergeo\": [{\"marker\": {\"colorbar\": {\"outlinewidth\": 0, \"ticks\": \"\"}}, \"type\": \"scattergeo\"}], \"scattergl\": [{\"marker\": {\"colorbar\": {\"outlinewidth\": 0, \"ticks\": \"\"}}, \"type\": \"scattergl\"}], \"scattermapbox\": [{\"marker\": {\"colorbar\": {\"outlinewidth\": 0, \"ticks\": \"\"}}, \"type\": \"scattermapbox\"}], \"scatterpolar\": [{\"marker\": {\"colorbar\": {\"outlinewidth\": 0, \"ticks\": \"\"}}, \"type\": \"scatterpolar\"}], \"scatterpolargl\": [{\"marker\": {\"colorbar\": {\"outlinewidth\": 0, \"ticks\": \"\"}}, \"type\": \"scatterpolargl\"}], \"scatterternary\": [{\"marker\": {\"colorbar\": {\"outlinewidth\": 0, \"ticks\": \"\"}}, \"type\": \"scatterternary\"}], \"surface\": [{\"colorbar\": {\"outlinewidth\": 0, \"ticks\": \"\"}, \"colorscale\": [[0.0, \"#0d0887\"], [0.1111111111111111, \"#46039f\"], [0.2222222222222222, \"#7201a8\"], [0.3333333333333333, \"#9c179e\"], [0.4444444444444444, \"#bd3786\"], [0.5555555555555556, \"#d8576b\"], [0.6666666666666666, \"#ed7953\"], [0.7777777777777778, \"#fb9f3a\"], [0.8888888888888888, \"#fdca26\"], [1.0, \"#f0f921\"]], \"type\": \"surface\"}], \"table\": [{\"cells\": {\"fill\": {\"color\": \"#EBF0F8\"}, \"line\": {\"color\": \"white\"}}, \"header\": {\"fill\": {\"color\": \"#C8D4E3\"}, \"line\": {\"color\": \"white\"}}, \"type\": \"table\"}]}, \"layout\": {\"annotationdefaults\": {\"arrowcolor\": \"#2a3f5f\", \"arrowhead\": 0, \"arrowwidth\": 1}, \"autotypenumbers\": \"strict\", \"coloraxis\": {\"colorbar\": {\"outlinewidth\": 0, \"ticks\": \"\"}}, \"colorscale\": {\"diverging\": [[0, \"#8e0152\"], [0.1, \"#c51b7d\"], [0.2, \"#de77ae\"], [0.3, \"#f1b6da\"], [0.4, \"#fde0ef\"], [0.5, \"#f7f7f7\"], [0.6, \"#e6f5d0\"], [0.7, \"#b8e186\"], [0.8, \"#7fbc41\"], [0.9, \"#4d9221\"], [1, \"#276419\"]], \"sequential\": [[0.0, \"#0d0887\"], [0.1111111111111111, \"#46039f\"], [0.2222222222222222, \"#7201a8\"], [0.3333333333333333, \"#9c179e\"], [0.4444444444444444, \"#bd3786\"], [0.5555555555555556, \"#d8576b\"], [0.6666666666666666, \"#ed7953\"], [0.7777777777777778, \"#fb9f3a\"], [0.8888888888888888, \"#fdca26\"], [1.0, \"#f0f921\"]], \"sequentialminus\": [[0.0, \"#0d0887\"], [0.1111111111111111, \"#46039f\"], [0.2222222222222222, \"#7201a8\"], [0.3333333333333333, \"#9c179e\"], [0.4444444444444444, \"#bd3786\"], [0.5555555555555556, \"#d8576b\"], [0.6666666666666666, \"#ed7953\"], [0.7777777777777778, \"#fb9f3a\"], [0.8888888888888888, \"#fdca26\"], [1.0, \"#f0f921\"]]}, \"colorway\": [\"#636efa\", \"#EF553B\", \"#00cc96\", \"#ab63fa\", \"#FFA15A\", \"#19d3f3\", \"#FF6692\", \"#B6E880\", \"#FF97FF\", \"#FECB52\"], \"font\": {\"color\": \"#2a3f5f\"}, \"geo\": {\"bgcolor\": \"white\", \"lakecolor\": \"white\", \"landcolor\": \"#E5ECF6\", \"showlakes\": true, \"showland\": true, \"subunitcolor\": \"white\"}, \"hoverlabel\": {\"align\": \"left\"}, \"hovermode\": \"closest\", \"mapbox\": {\"style\": \"light\"}, \"paper_bgcolor\": \"white\", \"plot_bgcolor\": \"#E5ECF6\", \"polar\": {\"angularaxis\": {\"gridcolor\": \"white\", \"linecolor\": \"white\", \"ticks\": \"\"}, \"bgcolor\": \"#E5ECF6\", \"radialaxis\": {\"gridcolor\": \"white\", \"linecolor\": \"white\", \"ticks\": \"\"}}, \"scene\": {\"xaxis\": {\"backgroundcolor\": \"#E5ECF6\", \"gridcolor\": \"white\", \"gridwidth\": 2, \"linecolor\": \"white\", \"showbackground\": true, \"ticks\": \"\", \"zerolinecolor\": \"white\"}, \"yaxis\": {\"backgroundcolor\": \"#E5ECF6\", \"gridcolor\": \"white\", \"gridwidth\": 2, \"linecolor\": \"white\", \"showbackground\": true, \"ticks\": \"\", \"zerolinecolor\": \"white\"}, \"zaxis\": {\"backgroundcolor\": \"#E5ECF6\", \"gridcolor\": \"white\", \"gridwidth\": 2, \"linecolor\": \"white\", \"showbackground\": true, \"ticks\": \"\", \"zerolinecolor\": \"white\"}}, \"shapedefaults\": {\"line\": {\"color\": \"#2a3f5f\"}}, \"ternary\": {\"aaxis\": {\"gridcolor\": \"white\", \"linecolor\": \"white\", \"ticks\": \"\"}, \"baxis\": {\"gridcolor\": \"white\", \"linecolor\": \"white\", \"ticks\": \"\"}, \"bgcolor\": \"#E5ECF6\", \"caxis\": {\"gridcolor\": \"white\", \"linecolor\": \"white\", \"ticks\": \"\"}}, \"title\": {\"x\": 0.05}, \"xaxis\": {\"automargin\": true, \"gridcolor\": \"white\", \"linecolor\": \"white\", \"ticks\": \"\", \"title\": {\"standoff\": 15}, \"zerolinecolor\": \"white\", \"zerolinewidth\": 2}, \"yaxis\": {\"automargin\": true, \"gridcolor\": \"white\", \"linecolor\": \"white\", \"ticks\": \"\", \"title\": {\"standoff\": 15}, \"zerolinecolor\": \"white\", \"zerolinewidth\": 2}}}},                        {\"responsive\": true}                    ).then(function(){\n",
       "                            \n",
       "var gd = document.getElementById('fc1f733f-221c-4f1d-8c01-7738b2729c32');\n",
       "var x = new MutationObserver(function (mutations, observer) {{\n",
       "        var display = window.getComputedStyle(gd).display;\n",
       "        if (!display || display === 'none') {{\n",
       "            console.log([gd, 'removed!']);\n",
       "            Plotly.purge(gd);\n",
       "            observer.disconnect();\n",
       "        }}\n",
       "}});\n",
       "\n",
       "// Listen for the removal of the full notebook cells\n",
       "var notebookContainer = gd.closest('#notebook-container');\n",
       "if (notebookContainer) {{\n",
       "    x.observe(notebookContainer, {childList: true});\n",
       "}}\n",
       "\n",
       "// Listen for the clearing of the current output cell\n",
       "var outputEl = gd.closest('.output');\n",
       "if (outputEl) {{\n",
       "    x.observe(outputEl, {childList: true});\n",
       "}}\n",
       "\n",
       "                        })                };                });            </script>        </div>"
      ]
     },
     "metadata": {},
     "output_type": "display_data"
    }
   ],
   "source": [
    "fig = px.pie(data_st.head(6), values='Total Ballots Counted (Estimate)', names='State Abv')\n",
    "fig.show()"
   ]
  },
  {
   "cell_type": "code",
   "execution_count": 432,
   "metadata": {},
   "outputs": [
    {
     "name": "stdout",
     "output_type": "stream",
     "text": [
      "<class 'pandas.core.frame.DataFrame'>\n",
      "RangeIndex: 51 entries, 1 to 51\n",
      "Data columns (total 11 columns):\n",
      " #   Column                            Non-Null Count  Dtype  \n",
      "---  ------                            --------------  -----  \n",
      " 0   State                             51 non-null     object \n",
      " 1   Total Ballots Counted (Estimate)  51 non-null     int32  \n",
      " 2   VEP Turnout Rate                  51 non-null     float64\n",
      " 3   Voting-Eligible Population (VEP)  51 non-null     int32  \n",
      " 4   Voting-Age Population (VAP)       51 non-null     int32  \n",
      " 5   % Non-citizen                     51 non-null     float64\n",
      " 6   Prison                            51 non-null     int32  \n",
      " 7   Probation                         51 non-null     int32  \n",
      " 8   Parole                            51 non-null     int32  \n",
      " 9   Total Ineligible Felon            51 non-null     int32  \n",
      " 10  State Abv                         51 non-null     object \n",
      "dtypes: float64(2), int32(7), object(2)\n",
      "memory usage: 3.1+ KB\n"
     ]
    }
   ],
   "source": [
    "data_st.info()"
   ]
  },
  {
   "cell_type": "code",
   "execution_count": 475,
   "metadata": {},
   "outputs": [
    {
     "data": {
      "application/vnd.plotly.v1+json": {
       "config": {
        "plotlyServerURL": "https://plot.ly"
       },
       "data": [
        {
         "hovertemplate": "State=%{x}<br>Voting-Age Population (VAP)=%{y}<br>State Abv=%{text}<extra></extra>",
         "legendgroup": "",
         "marker": {
          "color": "#636efa",
          "symbol": "circle"
         },
         "mode": "markers+text",
         "name": "",
         "orientation": "v",
         "showlegend": false,
         "text": [
          "AL",
          "AK",
          "AZ",
          "AR",
          "CA",
          "CO",
          "CT",
          "DE",
          "DC",
          "FL",
          "GA",
          "HI",
          "ID",
          "IL",
          "IN",
          "IA",
          "KS",
          "KY",
          "LA",
          "ME",
          "MD",
          "MA",
          "MI",
          "MN",
          "MS",
          "MO",
          "MT",
          "NE",
          "NV",
          "NH",
          "NJ",
          "NM",
          "NY",
          "NC",
          "ND",
          "OH",
          "OK",
          "OR",
          "PA",
          "RI",
          "SC",
          "SD",
          "TN",
          "TX",
          "UT",
          "VT",
          "VA",
          "WA",
          "WV",
          "WI",
          "WY"
         ],
         "textposition": "top center",
         "type": "scatter",
         "x": [
          "Alabama",
          "Alaska",
          "Arizona",
          "Arkansas",
          "California",
          "Colorado",
          "Connecticut",
          "Delaware",
          "District of Columbia",
          "Florida",
          "Georgia",
          "Hawaii",
          "Idaho",
          "Illinois",
          "Indiana",
          "Iowa",
          "Kansas",
          "Kentucky",
          "Louisiana",
          "Maine",
          "Maryland",
          "Massachusetts",
          "Michigan",
          "Minnesota",
          "Mississippi",
          "Missouri",
          "Montana",
          "Nebraska",
          "Nevada",
          "New Hampshire",
          "New Jersey",
          "New Mexico",
          "New York",
          "North Carolina",
          "North Dakota",
          "Ohio",
          "Oklahoma",
          "Oregon",
          "Pennsylvania",
          "Rhode Island",
          "South Carolina",
          "South Dakota",
          "Tennessee",
          "Texas",
          "Utah",
          "Vermont",
          "Virginia",
          "Washington",
          "West Virginia",
          "Wisconsin",
          "Wyoming"
         ],
         "xaxis": "x",
         "y": [
          3837540,
          551117,
          5798473,
          2331171,
          30783255,
          4595504,
          2839560,
          780822,
          582065,
          17543341,
          8255108,
          1114466,
          1384683,
          9832749,
          5214546,
          2439743,
          2223238,
          3479257,
          3557594,
          1104489,
          4729400,
          5566452,
          7870864,
          4378737,
          2279412,
          4794796,
          851663,
          1469878,
          2450946,
          1115916,
          6952008,
          1634037,
          15372655,
          8328642,
          584610,
          9144626,
          3031792,
          3405863,
          10186170,
          857507,
          4116633,
          675016,
          5391220,
          22058260,
          2343384,
          511637,
          6727440,
          6070046,
          1422098,
          4586746,
          447915
         ],
         "yaxis": "y"
        }
       ],
       "layout": {
        "legend": {
         "tracegroupgap": 0
        },
        "margin": {
         "t": 60
        },
        "template": {
         "data": {
          "bar": [
           {
            "error_x": {
             "color": "#2a3f5f"
            },
            "error_y": {
             "color": "#2a3f5f"
            },
            "marker": {
             "line": {
              "color": "#E5ECF6",
              "width": 0.5
             }
            },
            "type": "bar"
           }
          ],
          "barpolar": [
           {
            "marker": {
             "line": {
              "color": "#E5ECF6",
              "width": 0.5
             }
            },
            "type": "barpolar"
           }
          ],
          "carpet": [
           {
            "aaxis": {
             "endlinecolor": "#2a3f5f",
             "gridcolor": "white",
             "linecolor": "white",
             "minorgridcolor": "white",
             "startlinecolor": "#2a3f5f"
            },
            "baxis": {
             "endlinecolor": "#2a3f5f",
             "gridcolor": "white",
             "linecolor": "white",
             "minorgridcolor": "white",
             "startlinecolor": "#2a3f5f"
            },
            "type": "carpet"
           }
          ],
          "choropleth": [
           {
            "colorbar": {
             "outlinewidth": 0,
             "ticks": ""
            },
            "type": "choropleth"
           }
          ],
          "contour": [
           {
            "colorbar": {
             "outlinewidth": 0,
             "ticks": ""
            },
            "colorscale": [
             [
              0,
              "#0d0887"
             ],
             [
              0.1111111111111111,
              "#46039f"
             ],
             [
              0.2222222222222222,
              "#7201a8"
             ],
             [
              0.3333333333333333,
              "#9c179e"
             ],
             [
              0.4444444444444444,
              "#bd3786"
             ],
             [
              0.5555555555555556,
              "#d8576b"
             ],
             [
              0.6666666666666666,
              "#ed7953"
             ],
             [
              0.7777777777777778,
              "#fb9f3a"
             ],
             [
              0.8888888888888888,
              "#fdca26"
             ],
             [
              1,
              "#f0f921"
             ]
            ],
            "type": "contour"
           }
          ],
          "contourcarpet": [
           {
            "colorbar": {
             "outlinewidth": 0,
             "ticks": ""
            },
            "type": "contourcarpet"
           }
          ],
          "heatmap": [
           {
            "colorbar": {
             "outlinewidth": 0,
             "ticks": ""
            },
            "colorscale": [
             [
              0,
              "#0d0887"
             ],
             [
              0.1111111111111111,
              "#46039f"
             ],
             [
              0.2222222222222222,
              "#7201a8"
             ],
             [
              0.3333333333333333,
              "#9c179e"
             ],
             [
              0.4444444444444444,
              "#bd3786"
             ],
             [
              0.5555555555555556,
              "#d8576b"
             ],
             [
              0.6666666666666666,
              "#ed7953"
             ],
             [
              0.7777777777777778,
              "#fb9f3a"
             ],
             [
              0.8888888888888888,
              "#fdca26"
             ],
             [
              1,
              "#f0f921"
             ]
            ],
            "type": "heatmap"
           }
          ],
          "heatmapgl": [
           {
            "colorbar": {
             "outlinewidth": 0,
             "ticks": ""
            },
            "colorscale": [
             [
              0,
              "#0d0887"
             ],
             [
              0.1111111111111111,
              "#46039f"
             ],
             [
              0.2222222222222222,
              "#7201a8"
             ],
             [
              0.3333333333333333,
              "#9c179e"
             ],
             [
              0.4444444444444444,
              "#bd3786"
             ],
             [
              0.5555555555555556,
              "#d8576b"
             ],
             [
              0.6666666666666666,
              "#ed7953"
             ],
             [
              0.7777777777777778,
              "#fb9f3a"
             ],
             [
              0.8888888888888888,
              "#fdca26"
             ],
             [
              1,
              "#f0f921"
             ]
            ],
            "type": "heatmapgl"
           }
          ],
          "histogram": [
           {
            "marker": {
             "colorbar": {
              "outlinewidth": 0,
              "ticks": ""
             }
            },
            "type": "histogram"
           }
          ],
          "histogram2d": [
           {
            "colorbar": {
             "outlinewidth": 0,
             "ticks": ""
            },
            "colorscale": [
             [
              0,
              "#0d0887"
             ],
             [
              0.1111111111111111,
              "#46039f"
             ],
             [
              0.2222222222222222,
              "#7201a8"
             ],
             [
              0.3333333333333333,
              "#9c179e"
             ],
             [
              0.4444444444444444,
              "#bd3786"
             ],
             [
              0.5555555555555556,
              "#d8576b"
             ],
             [
              0.6666666666666666,
              "#ed7953"
             ],
             [
              0.7777777777777778,
              "#fb9f3a"
             ],
             [
              0.8888888888888888,
              "#fdca26"
             ],
             [
              1,
              "#f0f921"
             ]
            ],
            "type": "histogram2d"
           }
          ],
          "histogram2dcontour": [
           {
            "colorbar": {
             "outlinewidth": 0,
             "ticks": ""
            },
            "colorscale": [
             [
              0,
              "#0d0887"
             ],
             [
              0.1111111111111111,
              "#46039f"
             ],
             [
              0.2222222222222222,
              "#7201a8"
             ],
             [
              0.3333333333333333,
              "#9c179e"
             ],
             [
              0.4444444444444444,
              "#bd3786"
             ],
             [
              0.5555555555555556,
              "#d8576b"
             ],
             [
              0.6666666666666666,
              "#ed7953"
             ],
             [
              0.7777777777777778,
              "#fb9f3a"
             ],
             [
              0.8888888888888888,
              "#fdca26"
             ],
             [
              1,
              "#f0f921"
             ]
            ],
            "type": "histogram2dcontour"
           }
          ],
          "mesh3d": [
           {
            "colorbar": {
             "outlinewidth": 0,
             "ticks": ""
            },
            "type": "mesh3d"
           }
          ],
          "parcoords": [
           {
            "line": {
             "colorbar": {
              "outlinewidth": 0,
              "ticks": ""
             }
            },
            "type": "parcoords"
           }
          ],
          "pie": [
           {
            "automargin": true,
            "type": "pie"
           }
          ],
          "scatter": [
           {
            "marker": {
             "colorbar": {
              "outlinewidth": 0,
              "ticks": ""
             }
            },
            "type": "scatter"
           }
          ],
          "scatter3d": [
           {
            "line": {
             "colorbar": {
              "outlinewidth": 0,
              "ticks": ""
             }
            },
            "marker": {
             "colorbar": {
              "outlinewidth": 0,
              "ticks": ""
             }
            },
            "type": "scatter3d"
           }
          ],
          "scattercarpet": [
           {
            "marker": {
             "colorbar": {
              "outlinewidth": 0,
              "ticks": ""
             }
            },
            "type": "scattercarpet"
           }
          ],
          "scattergeo": [
           {
            "marker": {
             "colorbar": {
              "outlinewidth": 0,
              "ticks": ""
             }
            },
            "type": "scattergeo"
           }
          ],
          "scattergl": [
           {
            "marker": {
             "colorbar": {
              "outlinewidth": 0,
              "ticks": ""
             }
            },
            "type": "scattergl"
           }
          ],
          "scattermapbox": [
           {
            "marker": {
             "colorbar": {
              "outlinewidth": 0,
              "ticks": ""
             }
            },
            "type": "scattermapbox"
           }
          ],
          "scatterpolar": [
           {
            "marker": {
             "colorbar": {
              "outlinewidth": 0,
              "ticks": ""
             }
            },
            "type": "scatterpolar"
           }
          ],
          "scatterpolargl": [
           {
            "marker": {
             "colorbar": {
              "outlinewidth": 0,
              "ticks": ""
             }
            },
            "type": "scatterpolargl"
           }
          ],
          "scatterternary": [
           {
            "marker": {
             "colorbar": {
              "outlinewidth": 0,
              "ticks": ""
             }
            },
            "type": "scatterternary"
           }
          ],
          "surface": [
           {
            "colorbar": {
             "outlinewidth": 0,
             "ticks": ""
            },
            "colorscale": [
             [
              0,
              "#0d0887"
             ],
             [
              0.1111111111111111,
              "#46039f"
             ],
             [
              0.2222222222222222,
              "#7201a8"
             ],
             [
              0.3333333333333333,
              "#9c179e"
             ],
             [
              0.4444444444444444,
              "#bd3786"
             ],
             [
              0.5555555555555556,
              "#d8576b"
             ],
             [
              0.6666666666666666,
              "#ed7953"
             ],
             [
              0.7777777777777778,
              "#fb9f3a"
             ],
             [
              0.8888888888888888,
              "#fdca26"
             ],
             [
              1,
              "#f0f921"
             ]
            ],
            "type": "surface"
           }
          ],
          "table": [
           {
            "cells": {
             "fill": {
              "color": "#EBF0F8"
             },
             "line": {
              "color": "white"
             }
            },
            "header": {
             "fill": {
              "color": "#C8D4E3"
             },
             "line": {
              "color": "white"
             }
            },
            "type": "table"
           }
          ]
         },
         "layout": {
          "annotationdefaults": {
           "arrowcolor": "#2a3f5f",
           "arrowhead": 0,
           "arrowwidth": 1
          },
          "autotypenumbers": "strict",
          "coloraxis": {
           "colorbar": {
            "outlinewidth": 0,
            "ticks": ""
           }
          },
          "colorscale": {
           "diverging": [
            [
             0,
             "#8e0152"
            ],
            [
             0.1,
             "#c51b7d"
            ],
            [
             0.2,
             "#de77ae"
            ],
            [
             0.3,
             "#f1b6da"
            ],
            [
             0.4,
             "#fde0ef"
            ],
            [
             0.5,
             "#f7f7f7"
            ],
            [
             0.6,
             "#e6f5d0"
            ],
            [
             0.7,
             "#b8e186"
            ],
            [
             0.8,
             "#7fbc41"
            ],
            [
             0.9,
             "#4d9221"
            ],
            [
             1,
             "#276419"
            ]
           ],
           "sequential": [
            [
             0,
             "#0d0887"
            ],
            [
             0.1111111111111111,
             "#46039f"
            ],
            [
             0.2222222222222222,
             "#7201a8"
            ],
            [
             0.3333333333333333,
             "#9c179e"
            ],
            [
             0.4444444444444444,
             "#bd3786"
            ],
            [
             0.5555555555555556,
             "#d8576b"
            ],
            [
             0.6666666666666666,
             "#ed7953"
            ],
            [
             0.7777777777777778,
             "#fb9f3a"
            ],
            [
             0.8888888888888888,
             "#fdca26"
            ],
            [
             1,
             "#f0f921"
            ]
           ],
           "sequentialminus": [
            [
             0,
             "#0d0887"
            ],
            [
             0.1111111111111111,
             "#46039f"
            ],
            [
             0.2222222222222222,
             "#7201a8"
            ],
            [
             0.3333333333333333,
             "#9c179e"
            ],
            [
             0.4444444444444444,
             "#bd3786"
            ],
            [
             0.5555555555555556,
             "#d8576b"
            ],
            [
             0.6666666666666666,
             "#ed7953"
            ],
            [
             0.7777777777777778,
             "#fb9f3a"
            ],
            [
             0.8888888888888888,
             "#fdca26"
            ],
            [
             1,
             "#f0f921"
            ]
           ]
          },
          "colorway": [
           "#636efa",
           "#EF553B",
           "#00cc96",
           "#ab63fa",
           "#FFA15A",
           "#19d3f3",
           "#FF6692",
           "#B6E880",
           "#FF97FF",
           "#FECB52"
          ],
          "font": {
           "color": "#2a3f5f"
          },
          "geo": {
           "bgcolor": "white",
           "lakecolor": "white",
           "landcolor": "#E5ECF6",
           "showlakes": true,
           "showland": true,
           "subunitcolor": "white"
          },
          "hoverlabel": {
           "align": "left"
          },
          "hovermode": "closest",
          "mapbox": {
           "style": "light"
          },
          "paper_bgcolor": "white",
          "plot_bgcolor": "#E5ECF6",
          "polar": {
           "angularaxis": {
            "gridcolor": "white",
            "linecolor": "white",
            "ticks": ""
           },
           "bgcolor": "#E5ECF6",
           "radialaxis": {
            "gridcolor": "white",
            "linecolor": "white",
            "ticks": ""
           }
          },
          "scene": {
           "xaxis": {
            "backgroundcolor": "#E5ECF6",
            "gridcolor": "white",
            "gridwidth": 2,
            "linecolor": "white",
            "showbackground": true,
            "ticks": "",
            "zerolinecolor": "white"
           },
           "yaxis": {
            "backgroundcolor": "#E5ECF6",
            "gridcolor": "white",
            "gridwidth": 2,
            "linecolor": "white",
            "showbackground": true,
            "ticks": "",
            "zerolinecolor": "white"
           },
           "zaxis": {
            "backgroundcolor": "#E5ECF6",
            "gridcolor": "white",
            "gridwidth": 2,
            "linecolor": "white",
            "showbackground": true,
            "ticks": "",
            "zerolinecolor": "white"
           }
          },
          "shapedefaults": {
           "line": {
            "color": "#2a3f5f"
           }
          },
          "ternary": {
           "aaxis": {
            "gridcolor": "white",
            "linecolor": "white",
            "ticks": ""
           },
           "baxis": {
            "gridcolor": "white",
            "linecolor": "white",
            "ticks": ""
           },
           "bgcolor": "#E5ECF6",
           "caxis": {
            "gridcolor": "white",
            "linecolor": "white",
            "ticks": ""
           }
          },
          "title": {
           "x": 0.05
          },
          "xaxis": {
           "automargin": true,
           "gridcolor": "white",
           "linecolor": "white",
           "ticks": "",
           "title": {
            "standoff": 15
           },
           "zerolinecolor": "white",
           "zerolinewidth": 2
          },
          "yaxis": {
           "automargin": true,
           "gridcolor": "white",
           "linecolor": "white",
           "ticks": "",
           "title": {
            "standoff": 15
           },
           "zerolinecolor": "white",
           "zerolinewidth": 2
          }
         }
        },
        "xaxis": {
         "anchor": "y",
         "domain": [
          0,
          1
         ],
         "title": {
          "text": "State"
         },
         "type": "log"
        },
        "yaxis": {
         "anchor": "x",
         "domain": [
          0,
          1
         ],
         "title": {
          "text": "Voting-Age Population (VAP)"
         }
        }
       }
      },
      "text/html": [
       "<div>                            <div id=\"50eaecce-a357-4203-be6c-3237f6170e52\" class=\"plotly-graph-div\" style=\"height:525px; width:100%;\"></div>            <script type=\"text/javascript\">                require([\"plotly\"], function(Plotly) {                    window.PLOTLYENV=window.PLOTLYENV || {};                                    if (document.getElementById(\"50eaecce-a357-4203-be6c-3237f6170e52\")) {                    Plotly.newPlot(                        \"50eaecce-a357-4203-be6c-3237f6170e52\",                        [{\"hovertemplate\": \"State=%{x}<br>Voting-Age Population (VAP)=%{y}<br>State Abv=%{text}<extra></extra>\", \"legendgroup\": \"\", \"marker\": {\"color\": \"#636efa\", \"symbol\": \"circle\"}, \"mode\": \"markers+text\", \"name\": \"\", \"orientation\": \"v\", \"showlegend\": false, \"text\": [\"AL\", \"AK\", \"AZ\", \"AR\", \"CA\", \"CO\", \"CT\", \"DE\", \"DC\", \"FL\", \"GA\", \"HI\", \"ID\", \"IL\", \"IN\", \"IA\", \"KS\", \"KY\", \"LA\", \"ME\", \"MD\", \"MA\", \"MI\", \"MN\", \"MS\", \"MO\", \"MT\", \"NE\", \"NV\", \"NH\", \"NJ\", \"NM\", \"NY\", \"NC\", \"ND\", \"OH\", \"OK\", \"OR\", \"PA\", \"RI\", \"SC\", \"SD\", \"TN\", \"TX\", \"UT\", \"VT\", \"VA\", \"WA\", \"WV\", \"WI\", \"WY\"], \"textposition\": \"top center\", \"type\": \"scatter\", \"x\": [\"Alabama\", \"Alaska\", \"Arizona\", \"Arkansas\", \"California\", \"Colorado\", \"Connecticut\", \"Delaware\", \"District of Columbia\", \"Florida\", \"Georgia\", \"Hawaii\", \"Idaho\", \"Illinois\", \"Indiana\", \"Iowa\", \"Kansas\", \"Kentucky\", \"Louisiana\", \"Maine\", \"Maryland\", \"Massachusetts\", \"Michigan\", \"Minnesota\", \"Mississippi\", \"Missouri\", \"Montana\", \"Nebraska\", \"Nevada\", \"New Hampshire\", \"New Jersey\", \"New Mexico\", \"New York\", \"North Carolina\", \"North Dakota\", \"Ohio\", \"Oklahoma\", \"Oregon\", \"Pennsylvania\", \"Rhode Island\", \"South Carolina\", \"South Dakota\", \"Tennessee\", \"Texas\", \"Utah\", \"Vermont\", \"Virginia\", \"Washington\", \"West Virginia\", \"Wisconsin\", \"Wyoming\"], \"xaxis\": \"x\", \"y\": [3837540, 551117, 5798473, 2331171, 30783255, 4595504, 2839560, 780822, 582065, 17543341, 8255108, 1114466, 1384683, 9832749, 5214546, 2439743, 2223238, 3479257, 3557594, 1104489, 4729400, 5566452, 7870864, 4378737, 2279412, 4794796, 851663, 1469878, 2450946, 1115916, 6952008, 1634037, 15372655, 8328642, 584610, 9144626, 3031792, 3405863, 10186170, 857507, 4116633, 675016, 5391220, 22058260, 2343384, 511637, 6727440, 6070046, 1422098, 4586746, 447915], \"yaxis\": \"y\"}],                        {\"legend\": {\"tracegroupgap\": 0}, \"margin\": {\"t\": 60}, \"template\": {\"data\": {\"bar\": [{\"error_x\": {\"color\": \"#2a3f5f\"}, \"error_y\": {\"color\": \"#2a3f5f\"}, \"marker\": {\"line\": {\"color\": \"#E5ECF6\", \"width\": 0.5}}, \"type\": \"bar\"}], \"barpolar\": [{\"marker\": {\"line\": {\"color\": \"#E5ECF6\", \"width\": 0.5}}, \"type\": \"barpolar\"}], \"carpet\": [{\"aaxis\": {\"endlinecolor\": \"#2a3f5f\", \"gridcolor\": \"white\", \"linecolor\": \"white\", \"minorgridcolor\": \"white\", \"startlinecolor\": \"#2a3f5f\"}, \"baxis\": {\"endlinecolor\": \"#2a3f5f\", \"gridcolor\": \"white\", \"linecolor\": \"white\", \"minorgridcolor\": \"white\", \"startlinecolor\": \"#2a3f5f\"}, \"type\": \"carpet\"}], \"choropleth\": [{\"colorbar\": {\"outlinewidth\": 0, \"ticks\": \"\"}, \"type\": \"choropleth\"}], \"contour\": [{\"colorbar\": {\"outlinewidth\": 0, \"ticks\": \"\"}, \"colorscale\": [[0.0, \"#0d0887\"], [0.1111111111111111, \"#46039f\"], [0.2222222222222222, \"#7201a8\"], [0.3333333333333333, \"#9c179e\"], [0.4444444444444444, \"#bd3786\"], [0.5555555555555556, \"#d8576b\"], [0.6666666666666666, \"#ed7953\"], [0.7777777777777778, \"#fb9f3a\"], [0.8888888888888888, \"#fdca26\"], [1.0, \"#f0f921\"]], \"type\": \"contour\"}], \"contourcarpet\": [{\"colorbar\": {\"outlinewidth\": 0, \"ticks\": \"\"}, \"type\": \"contourcarpet\"}], \"heatmap\": [{\"colorbar\": {\"outlinewidth\": 0, \"ticks\": \"\"}, \"colorscale\": [[0.0, \"#0d0887\"], [0.1111111111111111, \"#46039f\"], [0.2222222222222222, \"#7201a8\"], [0.3333333333333333, \"#9c179e\"], [0.4444444444444444, \"#bd3786\"], [0.5555555555555556, \"#d8576b\"], [0.6666666666666666, \"#ed7953\"], [0.7777777777777778, \"#fb9f3a\"], [0.8888888888888888, \"#fdca26\"], [1.0, \"#f0f921\"]], \"type\": \"heatmap\"}], \"heatmapgl\": [{\"colorbar\": {\"outlinewidth\": 0, \"ticks\": \"\"}, \"colorscale\": [[0.0, \"#0d0887\"], [0.1111111111111111, \"#46039f\"], [0.2222222222222222, \"#7201a8\"], [0.3333333333333333, \"#9c179e\"], [0.4444444444444444, \"#bd3786\"], [0.5555555555555556, \"#d8576b\"], [0.6666666666666666, \"#ed7953\"], [0.7777777777777778, \"#fb9f3a\"], [0.8888888888888888, \"#fdca26\"], [1.0, \"#f0f921\"]], \"type\": \"heatmapgl\"}], \"histogram\": [{\"marker\": {\"colorbar\": {\"outlinewidth\": 0, \"ticks\": \"\"}}, \"type\": \"histogram\"}], \"histogram2d\": [{\"colorbar\": {\"outlinewidth\": 0, \"ticks\": \"\"}, \"colorscale\": [[0.0, \"#0d0887\"], [0.1111111111111111, \"#46039f\"], [0.2222222222222222, \"#7201a8\"], [0.3333333333333333, \"#9c179e\"], [0.4444444444444444, \"#bd3786\"], [0.5555555555555556, \"#d8576b\"], [0.6666666666666666, \"#ed7953\"], [0.7777777777777778, \"#fb9f3a\"], [0.8888888888888888, \"#fdca26\"], [1.0, \"#f0f921\"]], \"type\": \"histogram2d\"}], \"histogram2dcontour\": [{\"colorbar\": {\"outlinewidth\": 0, \"ticks\": \"\"}, \"colorscale\": [[0.0, \"#0d0887\"], [0.1111111111111111, \"#46039f\"], [0.2222222222222222, \"#7201a8\"], [0.3333333333333333, \"#9c179e\"], [0.4444444444444444, \"#bd3786\"], [0.5555555555555556, \"#d8576b\"], [0.6666666666666666, \"#ed7953\"], [0.7777777777777778, \"#fb9f3a\"], [0.8888888888888888, \"#fdca26\"], [1.0, \"#f0f921\"]], \"type\": \"histogram2dcontour\"}], \"mesh3d\": [{\"colorbar\": {\"outlinewidth\": 0, \"ticks\": \"\"}, \"type\": \"mesh3d\"}], \"parcoords\": [{\"line\": {\"colorbar\": {\"outlinewidth\": 0, \"ticks\": \"\"}}, \"type\": \"parcoords\"}], \"pie\": [{\"automargin\": true, \"type\": \"pie\"}], \"scatter\": [{\"marker\": {\"colorbar\": {\"outlinewidth\": 0, \"ticks\": \"\"}}, \"type\": \"scatter\"}], \"scatter3d\": [{\"line\": {\"colorbar\": {\"outlinewidth\": 0, \"ticks\": \"\"}}, \"marker\": {\"colorbar\": {\"outlinewidth\": 0, \"ticks\": \"\"}}, \"type\": \"scatter3d\"}], \"scattercarpet\": [{\"marker\": {\"colorbar\": {\"outlinewidth\": 0, \"ticks\": \"\"}}, \"type\": \"scattercarpet\"}], \"scattergeo\": [{\"marker\": {\"colorbar\": {\"outlinewidth\": 0, \"ticks\": \"\"}}, \"type\": \"scattergeo\"}], \"scattergl\": [{\"marker\": {\"colorbar\": {\"outlinewidth\": 0, \"ticks\": \"\"}}, \"type\": \"scattergl\"}], \"scattermapbox\": [{\"marker\": {\"colorbar\": {\"outlinewidth\": 0, \"ticks\": \"\"}}, \"type\": \"scattermapbox\"}], \"scatterpolar\": [{\"marker\": {\"colorbar\": {\"outlinewidth\": 0, \"ticks\": \"\"}}, \"type\": \"scatterpolar\"}], \"scatterpolargl\": [{\"marker\": {\"colorbar\": {\"outlinewidth\": 0, \"ticks\": \"\"}}, \"type\": \"scatterpolargl\"}], \"scatterternary\": [{\"marker\": {\"colorbar\": {\"outlinewidth\": 0, \"ticks\": \"\"}}, \"type\": \"scatterternary\"}], \"surface\": [{\"colorbar\": {\"outlinewidth\": 0, \"ticks\": \"\"}, \"colorscale\": [[0.0, \"#0d0887\"], [0.1111111111111111, \"#46039f\"], [0.2222222222222222, \"#7201a8\"], [0.3333333333333333, \"#9c179e\"], [0.4444444444444444, \"#bd3786\"], [0.5555555555555556, \"#d8576b\"], [0.6666666666666666, \"#ed7953\"], [0.7777777777777778, \"#fb9f3a\"], [0.8888888888888888, \"#fdca26\"], [1.0, \"#f0f921\"]], \"type\": \"surface\"}], \"table\": [{\"cells\": {\"fill\": {\"color\": \"#EBF0F8\"}, \"line\": {\"color\": \"white\"}}, \"header\": {\"fill\": {\"color\": \"#C8D4E3\"}, \"line\": {\"color\": \"white\"}}, \"type\": \"table\"}]}, \"layout\": {\"annotationdefaults\": {\"arrowcolor\": \"#2a3f5f\", \"arrowhead\": 0, \"arrowwidth\": 1}, \"autotypenumbers\": \"strict\", \"coloraxis\": {\"colorbar\": {\"outlinewidth\": 0, \"ticks\": \"\"}}, \"colorscale\": {\"diverging\": [[0, \"#8e0152\"], [0.1, \"#c51b7d\"], [0.2, \"#de77ae\"], [0.3, \"#f1b6da\"], [0.4, \"#fde0ef\"], [0.5, \"#f7f7f7\"], [0.6, \"#e6f5d0\"], [0.7, \"#b8e186\"], [0.8, \"#7fbc41\"], [0.9, \"#4d9221\"], [1, \"#276419\"]], \"sequential\": [[0.0, \"#0d0887\"], [0.1111111111111111, \"#46039f\"], [0.2222222222222222, \"#7201a8\"], [0.3333333333333333, \"#9c179e\"], [0.4444444444444444, \"#bd3786\"], [0.5555555555555556, \"#d8576b\"], [0.6666666666666666, \"#ed7953\"], [0.7777777777777778, \"#fb9f3a\"], [0.8888888888888888, \"#fdca26\"], [1.0, \"#f0f921\"]], \"sequentialminus\": [[0.0, \"#0d0887\"], [0.1111111111111111, \"#46039f\"], [0.2222222222222222, \"#7201a8\"], [0.3333333333333333, \"#9c179e\"], [0.4444444444444444, \"#bd3786\"], [0.5555555555555556, \"#d8576b\"], [0.6666666666666666, \"#ed7953\"], [0.7777777777777778, \"#fb9f3a\"], [0.8888888888888888, \"#fdca26\"], [1.0, \"#f0f921\"]]}, \"colorway\": [\"#636efa\", \"#EF553B\", \"#00cc96\", \"#ab63fa\", \"#FFA15A\", \"#19d3f3\", \"#FF6692\", \"#B6E880\", \"#FF97FF\", \"#FECB52\"], \"font\": {\"color\": \"#2a3f5f\"}, \"geo\": {\"bgcolor\": \"white\", \"lakecolor\": \"white\", \"landcolor\": \"#E5ECF6\", \"showlakes\": true, \"showland\": true, \"subunitcolor\": \"white\"}, \"hoverlabel\": {\"align\": \"left\"}, \"hovermode\": \"closest\", \"mapbox\": {\"style\": \"light\"}, \"paper_bgcolor\": \"white\", \"plot_bgcolor\": \"#E5ECF6\", \"polar\": {\"angularaxis\": {\"gridcolor\": \"white\", \"linecolor\": \"white\", \"ticks\": \"\"}, \"bgcolor\": \"#E5ECF6\", \"radialaxis\": {\"gridcolor\": \"white\", \"linecolor\": \"white\", \"ticks\": \"\"}}, \"scene\": {\"xaxis\": {\"backgroundcolor\": \"#E5ECF6\", \"gridcolor\": \"white\", \"gridwidth\": 2, \"linecolor\": \"white\", \"showbackground\": true, \"ticks\": \"\", \"zerolinecolor\": \"white\"}, \"yaxis\": {\"backgroundcolor\": \"#E5ECF6\", \"gridcolor\": \"white\", \"gridwidth\": 2, \"linecolor\": \"white\", \"showbackground\": true, \"ticks\": \"\", \"zerolinecolor\": \"white\"}, \"zaxis\": {\"backgroundcolor\": \"#E5ECF6\", \"gridcolor\": \"white\", \"gridwidth\": 2, \"linecolor\": \"white\", \"showbackground\": true, \"ticks\": \"\", \"zerolinecolor\": \"white\"}}, \"shapedefaults\": {\"line\": {\"color\": \"#2a3f5f\"}}, \"ternary\": {\"aaxis\": {\"gridcolor\": \"white\", \"linecolor\": \"white\", \"ticks\": \"\"}, \"baxis\": {\"gridcolor\": \"white\", \"linecolor\": \"white\", \"ticks\": \"\"}, \"bgcolor\": \"#E5ECF6\", \"caxis\": {\"gridcolor\": \"white\", \"linecolor\": \"white\", \"ticks\": \"\"}}, \"title\": {\"x\": 0.05}, \"xaxis\": {\"automargin\": true, \"gridcolor\": \"white\", \"linecolor\": \"white\", \"ticks\": \"\", \"title\": {\"standoff\": 15}, \"zerolinecolor\": \"white\", \"zerolinewidth\": 2}, \"yaxis\": {\"automargin\": true, \"gridcolor\": \"white\", \"linecolor\": \"white\", \"ticks\": \"\", \"title\": {\"standoff\": 15}, \"zerolinecolor\": \"white\", \"zerolinewidth\": 2}}}, \"xaxis\": {\"anchor\": \"y\", \"domain\": [0.0, 1.0], \"title\": {\"text\": \"State\"}, \"type\": \"log\"}, \"yaxis\": {\"anchor\": \"x\", \"domain\": [0.0, 1.0], \"title\": {\"text\": \"Voting-Age Population (VAP)\"}}},                        {\"responsive\": true}                    ).then(function(){\n",
       "                            \n",
       "var gd = document.getElementById('50eaecce-a357-4203-be6c-3237f6170e52');\n",
       "var x = new MutationObserver(function (mutations, observer) {{\n",
       "        var display = window.getComputedStyle(gd).display;\n",
       "        if (!display || display === 'none') {{\n",
       "            console.log([gd, 'removed!']);\n",
       "            Plotly.purge(gd);\n",
       "            observer.disconnect();\n",
       "        }}\n",
       "}});\n",
       "\n",
       "// Listen for the removal of the full notebook cells\n",
       "var notebookContainer = gd.closest('#notebook-container');\n",
       "if (notebookContainer) {{\n",
       "    x.observe(notebookContainer, {childList: true});\n",
       "}}\n",
       "\n",
       "// Listen for the clearing of the current output cell\n",
       "var outputEl = gd.closest('.output');\n",
       "if (outputEl) {{\n",
       "    x.observe(outputEl, {childList: true});\n",
       "}}\n",
       "\n",
       "                        })                };                });            </script>        </div>"
      ]
     },
     "metadata": {},
     "output_type": "display_data"
    }
   ],
   "source": [
    "fig = px.scatter(data_st, x=\"State\", y=\"Voting-Age Population (VAP)\", text=\"State Abv\", log_x=True, size_max=60)\n",
    "fig.update_traces(textposition='top center')\n",
    "fig.show()"
   ]
  },
  {
   "cell_type": "code",
   "execution_count": null,
   "metadata": {},
   "outputs": [],
   "source": []
  }
 ],
 "metadata": {
  "kernelspec": {
   "display_name": "Python 3",
   "language": "python",
   "name": "python3"
  },
  "language_info": {
   "codemirror_mode": {
    "name": "ipython",
    "version": 3
   },
   "file_extension": ".py",
   "mimetype": "text/x-python",
   "name": "python",
   "nbconvert_exporter": "python",
   "pygments_lexer": "ipython3",
   "version": "3.8.5"
  }
 },
 "nbformat": 4,
 "nbformat_minor": 4
}
