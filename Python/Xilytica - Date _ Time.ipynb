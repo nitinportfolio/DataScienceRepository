{
 "cells": [
  {
   "cell_type": "code",
   "execution_count": 1,
   "metadata": {},
   "outputs": [],
   "source": [
    "import datetime"
   ]
  },
  {
   "cell_type": "code",
   "execution_count": 5,
   "metadata": {},
   "outputs": [
    {
     "data": {
      "text/plain": [
       "datetime.time(19, 22, 30)"
      ]
     },
     "execution_count": 5,
     "metadata": {},
     "output_type": "execute_result"
    }
   ],
   "source": [
    "# Working with time\n",
    "timenow = datetime.time(19,22,30)\n",
    "timenow"
   ]
  },
  {
   "cell_type": "code",
   "execution_count": 6,
   "metadata": {},
   "outputs": [
    {
     "data": {
      "text/plain": [
       "19"
      ]
     },
     "execution_count": 6,
     "metadata": {},
     "output_type": "execute_result"
    }
   ],
   "source": [
    "timenow.hour"
   ]
  },
  {
   "cell_type": "code",
   "execution_count": 8,
   "metadata": {},
   "outputs": [
    {
     "data": {
      "text/plain": [
       "22"
      ]
     },
     "execution_count": 8,
     "metadata": {},
     "output_type": "execute_result"
    }
   ],
   "source": [
    "timenow.minute"
   ]
  },
  {
   "cell_type": "code",
   "execution_count": 9,
   "metadata": {},
   "outputs": [
    {
     "data": {
      "text/plain": [
       "30"
      ]
     },
     "execution_count": 9,
     "metadata": {},
     "output_type": "execute_result"
    }
   ],
   "source": [
    "timenow.second"
   ]
  },
  {
   "cell_type": "code",
   "execution_count": 11,
   "metadata": {},
   "outputs": [
    {
     "name": "stdout",
     "output_type": "stream",
     "text": [
      "19:22:30\n"
     ]
    }
   ],
   "source": [
    "print(timenow)"
   ]
  },
  {
   "cell_type": "markdown",
   "metadata": {},
   "source": [
    "# Working with dates"
   ]
  },
  {
   "cell_type": "code",
   "execution_count": 12,
   "metadata": {},
   "outputs": [],
   "source": [
    "today = datetime.date.today()"
   ]
  },
  {
   "cell_type": "code",
   "execution_count": 13,
   "metadata": {},
   "outputs": [
    {
     "data": {
      "text/plain": [
       "datetime.date(2021, 5, 18)"
      ]
     },
     "execution_count": 13,
     "metadata": {},
     "output_type": "execute_result"
    }
   ],
   "source": [
    "today"
   ]
  },
  {
   "cell_type": "code",
   "execution_count": 14,
   "metadata": {},
   "outputs": [
    {
     "data": {
      "text/plain": [
       "2021"
      ]
     },
     "execution_count": 14,
     "metadata": {},
     "output_type": "execute_result"
    }
   ],
   "source": [
    "today.year"
   ]
  },
  {
   "cell_type": "code",
   "execution_count": 15,
   "metadata": {},
   "outputs": [
    {
     "data": {
      "text/plain": [
       "5"
      ]
     },
     "execution_count": 15,
     "metadata": {},
     "output_type": "execute_result"
    }
   ],
   "source": [
    "today.month"
   ]
  },
  {
   "cell_type": "code",
   "execution_count": 16,
   "metadata": {},
   "outputs": [
    {
     "data": {
      "text/plain": [
       "18"
      ]
     },
     "execution_count": 16,
     "metadata": {},
     "output_type": "execute_result"
    }
   ],
   "source": [
    "today.day"
   ]
  },
  {
   "cell_type": "code",
   "execution_count": 17,
   "metadata": {},
   "outputs": [
    {
     "data": {
      "text/plain": [
       "'Tue May 18 00:00:00 2021'"
      ]
     },
     "execution_count": 17,
     "metadata": {},
     "output_type": "execute_result"
    }
   ],
   "source": [
    "today.ctime()"
   ]
  },
  {
   "cell_type": "code",
   "execution_count": 18,
   "metadata": {},
   "outputs": [],
   "source": [
    "from datetime import datetime"
   ]
  },
  {
   "cell_type": "code",
   "execution_count": 23,
   "metadata": {},
   "outputs": [],
   "source": [
    "mydatetime = datetime(2020,5,18,19,12,44)"
   ]
  },
  {
   "cell_type": "code",
   "execution_count": 24,
   "metadata": {},
   "outputs": [
    {
     "name": "stdout",
     "output_type": "stream",
     "text": [
      "2020-05-18 19:12:44\n"
     ]
    }
   ],
   "source": [
    "print(mydatetime)"
   ]
  },
  {
   "cell_type": "code",
   "execution_count": 26,
   "metadata": {},
   "outputs": [],
   "source": [
    "my_newdatetime = mydatetime.replace(year = 1990)"
   ]
  },
  {
   "cell_type": "code",
   "execution_count": 27,
   "metadata": {},
   "outputs": [
    {
     "name": "stdout",
     "output_type": "stream",
     "text": [
      "1990-05-18 19:12:44\n"
     ]
    }
   ],
   "source": [
    "print(my_newdatetime)"
   ]
  },
  {
   "cell_type": "code",
   "execution_count": 28,
   "metadata": {},
   "outputs": [],
   "source": [
    "from datetime import date"
   ]
  },
  {
   "cell_type": "code",
   "execution_count": 29,
   "metadata": {},
   "outputs": [],
   "source": [
    "date1 = date(2020,10,12)\n",
    "date2 = date(2010,10,12)"
   ]
  },
  {
   "cell_type": "code",
   "execution_count": 31,
   "metadata": {},
   "outputs": [],
   "source": [
    "diff = date1 - date2"
   ]
  },
  {
   "cell_type": "code",
   "execution_count": 32,
   "metadata": {},
   "outputs": [
    {
     "data": {
      "text/plain": [
       "datetime.timedelta"
      ]
     },
     "execution_count": 32,
     "metadata": {},
     "output_type": "execute_result"
    }
   ],
   "source": [
    "type(diff)"
   ]
  },
  {
   "cell_type": "code",
   "execution_count": 33,
   "metadata": {},
   "outputs": [
    {
     "name": "stdout",
     "output_type": "stream",
     "text": [
      "3653 days, 0:00:00\n"
     ]
    }
   ],
   "source": [
    "print(diff)"
   ]
  },
  {
   "cell_type": "code",
   "execution_count": 34,
   "metadata": {},
   "outputs": [
    {
     "data": {
      "text/plain": [
       "3653"
      ]
     },
     "execution_count": 34,
     "metadata": {},
     "output_type": "execute_result"
    }
   ],
   "source": [
    "diff.days"
   ]
  },
  {
   "cell_type": "code",
   "execution_count": 37,
   "metadata": {},
   "outputs": [],
   "source": [
    "date1 = datetime(2020,10,12,10,10,10)\n",
    "date2 = datetime(2010,10,19,9,9,2)"
   ]
  },
  {
   "cell_type": "code",
   "execution_count": 38,
   "metadata": {},
   "outputs": [],
   "source": [
    "diff = date1 - date2"
   ]
  },
  {
   "cell_type": "code",
   "execution_count": 39,
   "metadata": {},
   "outputs": [
    {
     "data": {
      "text/plain": [
       "datetime.timedelta(days=3646, seconds=3668)"
      ]
     },
     "execution_count": 39,
     "metadata": {},
     "output_type": "execute_result"
    }
   ],
   "source": [
    "diff"
   ]
  },
  {
   "cell_type": "code",
   "execution_count": 40,
   "metadata": {},
   "outputs": [
    {
     "data": {
      "text/plain": [
       "3646"
      ]
     },
     "execution_count": 40,
     "metadata": {},
     "output_type": "execute_result"
    }
   ],
   "source": [
    "diff.days"
   ]
  },
  {
   "cell_type": "code",
   "execution_count": 41,
   "metadata": {},
   "outputs": [
    {
     "data": {
      "text/plain": [
       "3668"
      ]
     },
     "execution_count": 41,
     "metadata": {},
     "output_type": "execute_result"
    }
   ],
   "source": [
    "diff.seconds"
   ]
  },
  {
   "cell_type": "code",
   "execution_count": 43,
   "metadata": {},
   "outputs": [
    {
     "data": {
      "text/plain": [
       "315018068.0"
      ]
     },
     "execution_count": 43,
     "metadata": {},
     "output_type": "execute_result"
    }
   ],
   "source": [
    "diff.total_seconds()"
   ]
  },
  {
   "cell_type": "code",
   "execution_count": 44,
   "metadata": {},
   "outputs": [
    {
     "name": "stdout",
     "output_type": "stream",
     "text": [
      "2021-05-18 17:28:54.634146\n",
      "Type :-  <class 'datetime.datetime'>\n"
     ]
    }
   ],
   "source": [
    "# import datetime class from datetime module\n",
    "from datetime import datetime\n",
    "\n",
    "# get current date\n",
    "datetime_object = datetime.now()\n",
    "print(datetime_object)\n",
    "print('Type :- ',type(datetime_object))"
   ]
  },
  {
   "cell_type": "code",
   "execution_count": 46,
   "metadata": {},
   "outputs": [
    {
     "name": "stdout",
     "output_type": "stream",
     "text": [
      "2021-05-18 17:29:35.138938\n"
     ]
    }
   ],
   "source": [
    "print(datetime.now())"
   ]
  },
  {
   "cell_type": "code",
   "execution_count": 47,
   "metadata": {},
   "outputs": [],
   "source": [
    "# Ttwo methods, strptime() and strftime(), for converting objects from strings to datetime objects\n",
    "# and vice versa. strptime() can read strings with date and time information and convert them to\n",
    "# datetime objects, and strftime() converts datetime objects back into strings."
   ]
  },
  {
   "cell_type": "code",
   "execution_count": 51,
   "metadata": {},
   "outputs": [
    {
     "name": "stdout",
     "output_type": "stream",
     "text": [
      "2020-09-30 00:00:00\n",
      "Type:  <class 'datetime.datetime'>\n"
     ]
    }
   ],
   "source": [
    "my_string = '2020-09-30'\n",
    "\n",
    "# Create date object in given time format yyyy-mm-dd\n",
    "my_date = datetime.strptime(my_string, \"%Y-%m-%d\")\n",
    "\n",
    "print(my_date)\n",
    "print('Type: ',type(my_date))"
   ]
  },
  {
   "cell_type": "code",
   "execution_count": 52,
   "metadata": {},
   "outputs": [
    {
     "name": "stdout",
     "output_type": "stream",
     "text": [
      "Month:  9\n",
      "Year:  2020\n"
     ]
    }
   ],
   "source": [
    "print('Month: ', my_date.month) # To Get month from date\n",
    "print('Year: ', my_date.year) # To Get month from year"
   ]
  },
  {
   "cell_type": "markdown",
   "metadata": {},
   "source": [
    "Datetime will give us the day of the week as a number using its .weekday() function, but we can convert this to a text format (i.e. Monday, Tuesday, Wednesday…) using the calendar module and a method called day_name."
   ]
  },
  {
   "cell_type": "code",
   "execution_count": 53,
   "metadata": {
    "scrolled": true
   },
   "outputs": [
    {
     "name": "stdout",
     "output_type": "stream",
     "text": [
      "Day of Month: 30\n",
      "Day of Week (number):  2\n",
      "Day of Week (name):  Wednesday\n"
     ]
    }
   ],
   "source": [
    "# import calendar module\n",
    "import calendar\n",
    "print('Day of Month:', my_date.day)\n",
    "\n",
    "# to get name of day(in number) from date\n",
    "print('Day of Week (number): ', my_date.weekday())\n",
    "\n",
    "# to get name of day from date\n",
    "print('Day of Week (name): ', calendar.day_name[my_date.weekday()])"
   ]
  },
  {
   "cell_type": "code",
   "execution_count": 54,
   "metadata": {},
   "outputs": [
    {
     "name": "stdout",
     "output_type": "stream",
     "text": [
      "0 - Monday\n",
      "1 - Tuesday\n",
      "2 - Wednesday\n",
      "3 - Thursday\n",
      "4 - Friday\n",
      "5 - Saturday\n",
      "6 - Sunday\n"
     ]
    }
   ],
   "source": [
    "j = 0\n",
    "for i in calendar.day_name:\n",
    "    print(j,'-',i)\n",
    "    j+=1"
   ]
  },
  {
   "cell_type": "code",
   "execution_count": 55,
   "metadata": {},
   "outputs": [
    {
     "name": "stdout",
     "output_type": "stream",
     "text": [
      "Hour:  17\n",
      "Minute:  37\n"
     ]
    }
   ],
   "source": [
    "from datetime import datetime \n",
    "\n",
    "todays_date = datetime.now()\n",
    "\n",
    "# to get hour from datetime\n",
    "print('Hour: ', todays_date.hour)\n",
    "\n",
    "# to get minute from datetime\n",
    "print('Minute: ', todays_date.minute)"
   ]
  },
  {
   "cell_type": "code",
   "execution_count": 56,
   "metadata": {},
   "outputs": [
    {
     "data": {
      "text/plain": [
       "datetime.datetime"
      ]
     },
     "execution_count": 56,
     "metadata": {},
     "output_type": "execute_result"
    }
   ],
   "source": [
    "type(todays_date)"
   ]
  },
  {
   "cell_type": "markdown",
   "metadata": {},
   "source": [
    "A timedelta object represents the amount of time between two dates or times. We can use this to measure time spans, or manipulate dates or times by adding and subtracting from them, etc."
   ]
  },
  {
   "cell_type": "code",
   "execution_count": 57,
   "metadata": {},
   "outputs": [
    {
     "name": "stdout",
     "output_type": "stream",
     "text": [
      "14 days, 0:00:00\n",
      "<class 'datetime.timedelta'>\n",
      "14\n"
     ]
    }
   ],
   "source": [
    "#import datetime\n",
    "from datetime import timedelta\n",
    "# create timedelta object with difference of 2 weeks\n",
    "d = timedelta(weeks=2)\n",
    "\n",
    "print(d)\n",
    "print(type(d))\n",
    "print(d.days)"
   ]
  },
  {
   "cell_type": "code",
   "execution_count": 58,
   "metadata": {},
   "outputs": [
    {
     "name": "stdout",
     "output_type": "stream",
     "text": [
      "Today's date:  2021-05-18 17:40:11.612934\n",
      "Date after 15 days:  2021-06-02 17:40:11.612934\n",
      "Date two weeks ago:  2021-05-04 17:40:11.612934\n",
      "two_weeks_ago object type:  <class 'datetime.datetime'>\n"
     ]
    }
   ],
   "source": [
    "#import datetime\n",
    "from datetime import datetime, timedelta\n",
    "# get current time\n",
    "now = datetime.now()\n",
    "print (\"Today's date: \", str(now))\n",
    "\n",
    "#add 15 days to current date\n",
    "future_date_after_15days = now + timedelta(days = 15)\n",
    "print('Date after 15 days: ', future_date_after_15days)\n",
    "\n",
    "#subtract 2 weeks from current date\n",
    "two_weeks_ago = now - timedelta(weeks = 2)\n",
    "print('Date two weeks ago: ', two_weeks_ago)\n",
    "print('two_weeks_ago object type: ', type(two_weeks_ago))"
   ]
  },
  {
   "cell_type": "code",
   "execution_count": 59,
   "metadata": {},
   "outputs": [
    {
     "name": "stdout",
     "output_type": "stream",
     "text": [
      "Difference:  -8\n",
      "delta object type:  <class 'datetime.timedelta'>\n"
     ]
    }
   ],
   "source": [
    "# import datetime\n",
    "from datetime import date\n",
    "# Create two dates\n",
    "date1 = date(2008, 8, 18)\n",
    "date2 = date(2008, 8, 10)\n",
    "\n",
    "# Difference between two dates\n",
    "delta = date2 - date1\n",
    "print(\"Difference: \", delta.days)\n",
    "print('delta object type: ', type(delta))"
   ]
  },
  {
   "cell_type": "code",
   "execution_count": 60,
   "metadata": {},
   "outputs": [
    {
     "name": "stdout",
     "output_type": "stream",
     "text": [
      "Difference:  36 days, 10:04:20\n"
     ]
    }
   ],
   "source": [
    "# import datetime\n",
    "from datetime import datetime\n",
    "# create two dates with year, month, day, hour, minute, and second\n",
    "date1 = datetime(2017, 6, 21, 18, 25, 30)\n",
    "date2 = datetime(2017, 5, 16, 8, 21, 10)\n",
    "\n",
    "# Difference between two dates\n",
    "diff = date1-date2\n",
    "print(\"Difference: \", diff)"
   ]
  },
  {
   "cell_type": "markdown",
   "metadata": {},
   "source": [
    "# Formatting Dates: More on strftime() and strptime()"
   ]
  },
  {
   "cell_type": "markdown",
   "metadata": {},
   "source": [
    "strptime() is the method we used before, and you’ll recall that it can turn a date and time that’s formatted as a text string into a datetime object, in the following format:\n",
    "\n",
    "time.strptime(string, format)"
   ]
  },
  {
   "cell_type": "code",
   "execution_count": 61,
   "metadata": {},
   "outputs": [
    {
     "name": "stdout",
     "output_type": "stream",
     "text": [
      "date_object:  2019-08-01 00:00:00\n"
     ]
    }
   ],
   "source": [
    "# import datetime\n",
    "from datetime import datetime\n",
    "date_string = \"1 August, 2019\"\n",
    "\n",
    "# format date\n",
    "date_object = datetime.strptime(date_string, \"%d %B, %Y\")\n",
    "\n",
    "print(\"date_object: \", date_object)"
   ]
  },
  {
   "cell_type": "code",
   "execution_count": 62,
   "metadata": {},
   "outputs": [
    {
     "name": "stdout",
     "output_type": "stream",
     "text": [
      "dt_object1: 2018-11-12 09:15:32\n",
      "dt_object2: 2018-12-11 09:15:32\n",
      "Unix Timestamp:  1544519732.0\n",
      "Output 1: Tue Dec 11 09:15:32 2018\n",
      "Output 2: 12/11/18\n",
      "Output 3: 09:15:32\n"
     ]
    }
   ],
   "source": [
    "# import datetime\n",
    "from datetime import datetime\n",
    "dt_string = \"12/11/2018 09:15:32\"\n",
    "# Considering date is in dd/mm/yyyy format\n",
    "dt_object1 = datetime.strptime(dt_string, \"%d/%m/%Y %H:%M:%S\")\n",
    "print(\"dt_object1:\", dt_object1)\n",
    "# Considering date is in mm/dd/yyyy format\n",
    "dt_object2 = datetime.strptime(dt_string, \"%m/%d/%Y %H:%M:%S\")\n",
    "print(\"dt_object2:\", dt_object2)\n",
    "\n",
    "# Convert dt_object2 to Unix Timestamp\n",
    "timestamp = datetime.timestamp(dt_object2)\n",
    "print('Unix Timestamp: ', timestamp)\n",
    "\n",
    "# Convert back into datetime\n",
    "date_time = datetime.fromtimestamp(timestamp)\n",
    "d = date_time.strftime(\"%c\")\n",
    "print(\"Output 1:\", d)\n",
    "d = date_time.strftime(\"%x\")\n",
    "print(\"Output 2:\", d)\n",
    "d = date_time.strftime(\"%X\")\n",
    "print(\"Output 3:\", d)"
   ]
  },
  {
   "cell_type": "code",
   "execution_count": 63,
   "metadata": {},
   "outputs": [
    {
     "name": "stdout",
     "output_type": "stream",
     "text": [
      "Year: 2021\n",
      "Month; 05\n",
      "Day: 18\n",
      "Time: 17:44:51\n",
      "Date and Time: 05/18/2021, 17:44:51\n"
     ]
    }
   ],
   "source": [
    "# current date and time\n",
    "now = datetime.now()\n",
    "\n",
    "# get year from date\n",
    "year = now.strftime(\"%Y\")\n",
    "print(\"Year:\", year)\n",
    "\n",
    "# get month from date\n",
    "month = now.strftime(\"%m\")\n",
    "print(\"Month;\", month)\n",
    "\n",
    "# get day from date\n",
    "day = now.strftime(\"%d\")\n",
    "print(\"Day:\", day)\n",
    "\n",
    "# format time in HH:MM:SS\n",
    "time = now.strftime(\"%H:%M:%S\")\n",
    "print(\"Time:\", time)\n",
    "\n",
    "# format date\n",
    "date_time = now.strftime(\"%m/%d/%Y, %H:%M:%S\")\n",
    "print(\"Date and Time:\",date_time)"
   ]
  },
  {
   "cell_type": "code",
   "execution_count": 1,
   "metadata": {},
   "outputs": [],
   "source": [
    "df = pd.read_csv(r'C:\\Users\\Administrator\\Class Notebooks\\data\\noshowappointments.csv')"
   ]
  },
  {
   "cell_type": "code",
   "execution_count": 2,
   "metadata": {},
   "outputs": [
    {
     "data": {
      "text/html": [
       "<div>\n",
       "<style scoped>\n",
       "    .dataframe tbody tr th:only-of-type {\n",
       "        vertical-align: middle;\n",
       "    }\n",
       "\n",
       "    .dataframe tbody tr th {\n",
       "        vertical-align: top;\n",
       "    }\n",
       "\n",
       "    .dataframe thead th {\n",
       "        text-align: right;\n",
       "    }\n",
       "</style>\n",
       "<table border=\"1\" class=\"dataframe\">\n",
       "  <thead>\n",
       "    <tr style=\"text-align: right;\">\n",
       "      <th></th>\n",
       "      <th>PatientId</th>\n",
       "      <th>AppointmentID</th>\n",
       "      <th>Gender</th>\n",
       "      <th>ScheduledDay</th>\n",
       "      <th>AppointmentDay</th>\n",
       "      <th>Age</th>\n",
       "      <th>Neighbourhood</th>\n",
       "      <th>Scholarship</th>\n",
       "      <th>Hipertension</th>\n",
       "      <th>Diabetes</th>\n",
       "      <th>Alcoholism</th>\n",
       "      <th>Handcap</th>\n",
       "      <th>SMS_received</th>\n",
       "      <th>No-show</th>\n",
       "    </tr>\n",
       "  </thead>\n",
       "  <tbody>\n",
       "    <tr>\n",
       "      <th>0</th>\n",
       "      <td>2.987250e+13</td>\n",
       "      <td>5642903</td>\n",
       "      <td>F</td>\n",
       "      <td>2016-04-29T18:38:08Z</td>\n",
       "      <td>2016-04-29T00:00:00Z</td>\n",
       "      <td>62</td>\n",
       "      <td>JARDIM DA PENHA</td>\n",
       "      <td>0</td>\n",
       "      <td>1</td>\n",
       "      <td>0</td>\n",
       "      <td>0</td>\n",
       "      <td>0</td>\n",
       "      <td>0</td>\n",
       "      <td>No</td>\n",
       "    </tr>\n",
       "    <tr>\n",
       "      <th>1</th>\n",
       "      <td>5.589978e+14</td>\n",
       "      <td>5642503</td>\n",
       "      <td>M</td>\n",
       "      <td>2016-04-29T16:08:27Z</td>\n",
       "      <td>2016-04-29T00:00:00Z</td>\n",
       "      <td>56</td>\n",
       "      <td>JARDIM DA PENHA</td>\n",
       "      <td>0</td>\n",
       "      <td>0</td>\n",
       "      <td>0</td>\n",
       "      <td>0</td>\n",
       "      <td>0</td>\n",
       "      <td>0</td>\n",
       "      <td>No</td>\n",
       "    </tr>\n",
       "    <tr>\n",
       "      <th>2</th>\n",
       "      <td>4.262962e+12</td>\n",
       "      <td>5642549</td>\n",
       "      <td>F</td>\n",
       "      <td>2016-04-29T16:19:04Z</td>\n",
       "      <td>2016-04-29T00:00:00Z</td>\n",
       "      <td>62</td>\n",
       "      <td>MATA DA PRAIA</td>\n",
       "      <td>0</td>\n",
       "      <td>0</td>\n",
       "      <td>0</td>\n",
       "      <td>0</td>\n",
       "      <td>0</td>\n",
       "      <td>0</td>\n",
       "      <td>No</td>\n",
       "    </tr>\n",
       "    <tr>\n",
       "      <th>3</th>\n",
       "      <td>8.679512e+11</td>\n",
       "      <td>5642828</td>\n",
       "      <td>F</td>\n",
       "      <td>2016-04-29T17:29:31Z</td>\n",
       "      <td>2016-04-29T00:00:00Z</td>\n",
       "      <td>8</td>\n",
       "      <td>PONTAL DE CAMBURI</td>\n",
       "      <td>0</td>\n",
       "      <td>0</td>\n",
       "      <td>0</td>\n",
       "      <td>0</td>\n",
       "      <td>0</td>\n",
       "      <td>0</td>\n",
       "      <td>No</td>\n",
       "    </tr>\n",
       "    <tr>\n",
       "      <th>4</th>\n",
       "      <td>8.841186e+12</td>\n",
       "      <td>5642494</td>\n",
       "      <td>F</td>\n",
       "      <td>2016-04-29T16:07:23Z</td>\n",
       "      <td>2016-04-29T00:00:00Z</td>\n",
       "      <td>56</td>\n",
       "      <td>JARDIM DA PENHA</td>\n",
       "      <td>0</td>\n",
       "      <td>1</td>\n",
       "      <td>1</td>\n",
       "      <td>0</td>\n",
       "      <td>0</td>\n",
       "      <td>0</td>\n",
       "      <td>No</td>\n",
       "    </tr>\n",
       "  </tbody>\n",
       "</table>\n",
       "</div>"
      ],
      "text/plain": [
       "      PatientId  AppointmentID Gender          ScheduledDay  \\\n",
       "0  2.987250e+13        5642903      F  2016-04-29T18:38:08Z   \n",
       "1  5.589978e+14        5642503      M  2016-04-29T16:08:27Z   \n",
       "2  4.262962e+12        5642549      F  2016-04-29T16:19:04Z   \n",
       "3  8.679512e+11        5642828      F  2016-04-29T17:29:31Z   \n",
       "4  8.841186e+12        5642494      F  2016-04-29T16:07:23Z   \n",
       "\n",
       "         AppointmentDay  Age      Neighbourhood  Scholarship  Hipertension  \\\n",
       "0  2016-04-29T00:00:00Z   62    JARDIM DA PENHA            0             1   \n",
       "1  2016-04-29T00:00:00Z   56    JARDIM DA PENHA            0             0   \n",
       "2  2016-04-29T00:00:00Z   62      MATA DA PRAIA            0             0   \n",
       "3  2016-04-29T00:00:00Z    8  PONTAL DE CAMBURI            0             0   \n",
       "4  2016-04-29T00:00:00Z   56    JARDIM DA PENHA            0             1   \n",
       "\n",
       "   Diabetes  Alcoholism  Handcap  SMS_received No-show  \n",
       "0         0           0        0             0      No  \n",
       "1         0           0        0             0      No  \n",
       "2         0           0        0             0      No  \n",
       "3         0           0        0             0      No  \n",
       "4         1           0        0             0      No  "
      ]
     },
     "execution_count": 2,
     "metadata": {},
     "output_type": "execute_result"
    }
   ],
   "source": [
    "df.head()"
   ]
  },
  {
   "cell_type": "code",
   "execution_count": 4,
   "metadata": {},
   "outputs": [],
   "source": [
    "from datetime import date"
   ]
  },
  {
   "cell_type": "code",
   "execution_count": 7,
   "metadata": {},
   "outputs": [
    {
     "name": "stdout",
     "output_type": "stream",
     "text": [
      "2019-01-31\n"
     ]
    }
   ],
   "source": [
    "d1 = date(2019,1,31)\n",
    "print(d1)"
   ]
  },
  {
   "cell_type": "code",
   "execution_count": 6,
   "metadata": {},
   "outputs": [
    {
     "data": {
      "text/plain": [
       "datetime.date"
      ]
     },
     "execution_count": 6,
     "metadata": {},
     "output_type": "execute_result"
    }
   ],
   "source": [
    "type(d1)"
   ]
  },
  {
   "cell_type": "code",
   "execution_count": 9,
   "metadata": {},
   "outputs": [
    {
     "name": "stdout",
     "output_type": "stream",
     "text": [
      "2021-05-23\n"
     ]
    }
   ],
   "source": [
    "d2 = date.today()\n",
    "print(d2)"
   ]
  },
  {
   "cell_type": "code",
   "execution_count": 11,
   "metadata": {},
   "outputs": [
    {
     "name": "stdout",
     "output_type": "stream",
     "text": [
      "23\n"
     ]
    }
   ],
   "source": [
    "print(d2.day)"
   ]
  },
  {
   "cell_type": "code",
   "execution_count": 12,
   "metadata": {},
   "outputs": [
    {
     "name": "stdout",
     "output_type": "stream",
     "text": [
      "5\n"
     ]
    }
   ],
   "source": [
    "print(d2.month)"
   ]
  },
  {
   "cell_type": "code",
   "execution_count": 13,
   "metadata": {},
   "outputs": [
    {
     "name": "stdout",
     "output_type": "stream",
     "text": [
      "2021\n"
     ]
    }
   ],
   "source": [
    "print(d2.year)"
   ]
  },
  {
   "cell_type": "code",
   "execution_count": 16,
   "metadata": {},
   "outputs": [],
   "source": [
    "from datetime import time"
   ]
  },
  {
   "cell_type": "code",
   "execution_count": 17,
   "metadata": {},
   "outputs": [
    {
     "name": "stdout",
     "output_type": "stream",
     "text": [
      "17:21:55.000020\n"
     ]
    }
   ],
   "source": [
    "t1 = time(17,21,55,20)\n",
    "print(t1)"
   ]
  },
  {
   "cell_type": "code",
   "execution_count": 18,
   "metadata": {},
   "outputs": [
    {
     "name": "stdout",
     "output_type": "stream",
     "text": [
      "17\n"
     ]
    }
   ],
   "source": [
    "print(t1.hour)"
   ]
  },
  {
   "cell_type": "code",
   "execution_count": 20,
   "metadata": {},
   "outputs": [
    {
     "name": "stdout",
     "output_type": "stream",
     "text": [
      "21\n"
     ]
    }
   ],
   "source": [
    "print(t1.minute)"
   ]
  },
  {
   "cell_type": "code",
   "execution_count": 21,
   "metadata": {},
   "outputs": [
    {
     "name": "stdout",
     "output_type": "stream",
     "text": [
      "23:59:59.999999\n"
     ]
    }
   ],
   "source": [
    "print(t1.max)"
   ]
  },
  {
   "cell_type": "code",
   "execution_count": 22,
   "metadata": {},
   "outputs": [
    {
     "name": "stdout",
     "output_type": "stream",
     "text": [
      "55\n"
     ]
    }
   ],
   "source": [
    "print(t1.second)"
   ]
  },
  {
   "cell_type": "code",
   "execution_count": 24,
   "metadata": {},
   "outputs": [
    {
     "name": "stdout",
     "output_type": "stream",
     "text": [
      "20\n"
     ]
    }
   ],
   "source": [
    "print(t1.microsecond)"
   ]
  },
  {
   "cell_type": "code",
   "execution_count": 25,
   "metadata": {},
   "outputs": [],
   "source": [
    "from datetime import datetime"
   ]
  },
  {
   "cell_type": "code",
   "execution_count": 26,
   "metadata": {},
   "outputs": [],
   "source": [
    "d1 = datetime(2019,1,31,17,21,55,20)"
   ]
  },
  {
   "cell_type": "code",
   "execution_count": 27,
   "metadata": {},
   "outputs": [
    {
     "name": "stdout",
     "output_type": "stream",
     "text": [
      "2019-01-31 17:21:55.000020\n"
     ]
    }
   ],
   "source": [
    "print(d1)"
   ]
  },
  {
   "cell_type": "code",
   "execution_count": 29,
   "metadata": {},
   "outputs": [
    {
     "name": "stdout",
     "output_type": "stream",
     "text": [
      "2021-05-23 14:55:45.946036\n"
     ]
    }
   ],
   "source": [
    "d1 = datetime.now()\n",
    "print(d1)"
   ]
  },
  {
   "cell_type": "code",
   "execution_count": 30,
   "metadata": {},
   "outputs": [],
   "source": [
    "# Separate date and time from the DateTime object using the date() and time() methods.\n",
    "# But you could also replace a value in the DateTime objects without having to change the\n",
    "# entire date using the replace() method:"
   ]
  },
  {
   "cell_type": "code",
   "execution_count": 31,
   "metadata": {},
   "outputs": [
    {
     "name": "stdout",
     "output_type": "stream",
     "text": [
      "Datetime : 2021-05-23 14:55:45.946036\n",
      "Date : 2021-05-23\n"
     ]
    }
   ],
   "source": [
    "print('Datetime :',d1)\n",
    "# date\n",
    "print('Date :',d1.date())\n",
    "\n"
   ]
  },
  {
   "cell_type": "code",
   "execution_count": 32,
   "metadata": {},
   "outputs": [
    {
     "name": "stdout",
     "output_type": "stream",
     "text": [
      "Time : 14:55:45.946036\n"
     ]
    }
   ],
   "source": [
    "# time\n",
    "print('Time :',d1.time())\n"
   ]
  },
  {
   "cell_type": "code",
   "execution_count": 36,
   "metadata": {},
   "outputs": [
    {
     "name": "stdout",
     "output_type": "stream",
     "text": [
      "New datetime : 2021-05-28 22:55:45.946036\n"
     ]
    }
   ],
   "source": [
    "# new datetime\n",
    "print('New datetime :',d1.replace(day=28, hour=22))"
   ]
  },
  {
   "cell_type": "markdown",
   "metadata": {},
   "source": [
    "The weekday() method returns an integer value for the day of the week, where Monday is 0 and Sunday is 6. But if you wanted it to return the weekday value between 1 and 7, like in a real-world scenario, you should use isoweekday():"
   ]
  },
  {
   "cell_type": "code",
   "execution_count": 37,
   "metadata": {},
   "outputs": [],
   "source": [
    "d1 = datetime.now()"
   ]
  },
  {
   "cell_type": "code",
   "execution_count": 38,
   "metadata": {},
   "outputs": [
    {
     "name": "stdout",
     "output_type": "stream",
     "text": [
      "2021-05-23 15:01:32.144160\n"
     ]
    }
   ],
   "source": [
    "print(d1)"
   ]
  },
  {
   "cell_type": "code",
   "execution_count": 39,
   "metadata": {},
   "outputs": [
    {
     "name": "stdout",
     "output_type": "stream",
     "text": [
      "6\n"
     ]
    }
   ],
   "source": [
    "# week starts from 0\n",
    "print(d1.weekday()) # output 3 for Thurday\n"
   ]
  },
  {
   "cell_type": "code",
   "execution_count": 40,
   "metadata": {},
   "outputs": [
    {
     "name": "stdout",
     "output_type": "stream",
     "text": [
      "7\n"
     ]
    }
   ],
   "source": [
    "# week starts with 1\n",
    "print(d1.isoweekday()) # output 4 in ISO format"
   ]
  },
  {
   "cell_type": "markdown",
   "metadata": {},
   "source": [
    "Alright, you know the day of the week, but do you know what week of the year is it? This is another very important feature that you can generate from the given date in a dataset.\n",
    "\n",
    "Sometimes the value of the target variable might be higher during certain times of the year. For example, the sales of products on e-commerce websites are generally higher during vacations.\n",
    "\n",
    "You can get the week of the year by slicing the value returned by the isocalendar() method:"
   ]
  },
  {
   "cell_type": "code",
   "execution_count": 42,
   "metadata": {},
   "outputs": [
    {
     "name": "stdout",
     "output_type": "stream",
     "text": [
      "2021-05-23 15:03:32.855136\n"
     ]
    }
   ],
   "source": [
    "d1 = datetime.now()\n",
    "print(d1)"
   ]
  },
  {
   "cell_type": "code",
   "execution_count": 44,
   "metadata": {},
   "outputs": [
    {
     "name": "stdout",
     "output_type": "stream",
     "text": [
      "(2021, 20, 7)\n"
     ]
    }
   ],
   "source": [
    "# retuns year, week, month\n",
    "print(d1.isocalendar())"
   ]
  },
  {
   "cell_type": "code",
   "execution_count": 46,
   "metadata": {},
   "outputs": [
    {
     "name": "stdout",
     "output_type": "stream",
     "text": [
      "Week : 20\n"
     ]
    }
   ],
   "source": [
    "print('Week :',d1.isocalendar()[1])"
   ]
  },
  {
   "cell_type": "markdown",
   "metadata": {},
   "source": [
    "Want to check whether it is a leap year or not? You will need to use the isleap() method from the calendar module and pass the year as an attribute:"
   ]
  },
  {
   "cell_type": "code",
   "execution_count": 47,
   "metadata": {},
   "outputs": [],
   "source": [
    "\n",
    "import calendar\n"
   ]
  },
  {
   "cell_type": "code",
   "execution_count": 48,
   "metadata": {},
   "outputs": [
    {
     "name": "stdout",
     "output_type": "stream",
     "text": [
      "2021-05-23 15:05:21.906576\n"
     ]
    }
   ],
   "source": [
    "d1 = datetime.now()\n",
    "print(d1)"
   ]
  },
  {
   "cell_type": "code",
   "execution_count": 49,
   "metadata": {},
   "outputs": [
    {
     "data": {
      "text/plain": [
       "False"
      ]
     },
     "execution_count": 49,
     "metadata": {},
     "output_type": "execute_result"
    }
   ],
   "source": [
    "# leap year or not\n",
    "calendar.isleap(d1.year) # Output True"
   ]
  },
  {
   "cell_type": "code",
   "execution_count": 50,
   "metadata": {},
   "outputs": [
    {
     "name": "stdout",
     "output_type": "stream",
     "text": [
      "      May 2019\n",
      "Mo Tu We Th Fr Sa Su\n",
      "       1  2  3  4  5\n",
      " 6  7  8  9 10 11 12\n",
      "13 14 15 16 17 18 19\n",
      "20 21 22 23 24 25 26\n",
      "27 28 29 30 31\n",
      "\n"
     ]
    }
   ],
   "source": [
    "# Its May when I wrote this\n",
    "print(calendar.month(2019,5))"
   ]
  },
  {
   "cell_type": "code",
   "execution_count": 51,
   "metadata": {},
   "outputs": [
    {
     "name": "stdout",
     "output_type": "stream",
     "text": [
      "                                  2019\n",
      "\n",
      "      January                   February                   March\n",
      "Mo Tu We Th Fr Sa Su      Mo Tu We Th Fr Sa Su      Mo Tu We Th Fr Sa Su\n",
      "    1  2  3  4  5  6                   1  2  3                   1  2  3\n",
      " 7  8  9 10 11 12 13       4  5  6  7  8  9 10       4  5  6  7  8  9 10\n",
      "14 15 16 17 18 19 20      11 12 13 14 15 16 17      11 12 13 14 15 16 17\n",
      "21 22 23 24 25 26 27      18 19 20 21 22 23 24      18 19 20 21 22 23 24\n",
      "28 29 30 31               25 26 27 28               25 26 27 28 29 30 31\n",
      "\n",
      "       April                      May                       June\n",
      "Mo Tu We Th Fr Sa Su      Mo Tu We Th Fr Sa Su      Mo Tu We Th Fr Sa Su\n",
      " 1  2  3  4  5  6  7             1  2  3  4  5                      1  2\n",
      " 8  9 10 11 12 13 14       6  7  8  9 10 11 12       3  4  5  6  7  8  9\n",
      "15 16 17 18 19 20 21      13 14 15 16 17 18 19      10 11 12 13 14 15 16\n",
      "22 23 24 25 26 27 28      20 21 22 23 24 25 26      17 18 19 20 21 22 23\n",
      "29 30                     27 28 29 30 31            24 25 26 27 28 29 30\n",
      "\n",
      "        July                     August                  September\n",
      "Mo Tu We Th Fr Sa Su      Mo Tu We Th Fr Sa Su      Mo Tu We Th Fr Sa Su\n",
      " 1  2  3  4  5  6  7                1  2  3  4                         1\n",
      " 8  9 10 11 12 13 14       5  6  7  8  9 10 11       2  3  4  5  6  7  8\n",
      "15 16 17 18 19 20 21      12 13 14 15 16 17 18       9 10 11 12 13 14 15\n",
      "22 23 24 25 26 27 28      19 20 21 22 23 24 25      16 17 18 19 20 21 22\n",
      "29 30 31                  26 27 28 29 30 31         23 24 25 26 27 28 29\n",
      "                                                    30\n",
      "\n",
      "      October                   November                  December\n",
      "Mo Tu We Th Fr Sa Su      Mo Tu We Th Fr Sa Su      Mo Tu We Th Fr Sa Su\n",
      "    1  2  3  4  5  6                   1  2  3                         1\n",
      " 7  8  9 10 11 12 13       4  5  6  7  8  9 10       2  3  4  5  6  7  8\n",
      "14 15 16 17 18 19 20      11 12 13 14 15 16 17       9 10 11 12 13 14 15\n",
      "21 22 23 24 25 26 27      18 19 20 21 22 23 24      16 17 18 19 20 21 22\n",
      "28 29 30 31               25 26 27 28 29 30         23 24 25 26 27 28 29\n",
      "                                                    30 31\n",
      "\n"
     ]
    }
   ],
   "source": [
    "print(calendar.calendar(2019))"
   ]
  },
  {
   "cell_type": "markdown",
   "metadata": {},
   "source": [
    "# DateTime Formats\n",
    "The Datetime module lets you interchange the format of DateTime between a few options.\n",
    "\n",
    "First up is the ISO format. If you wanted to create a DateTime object from the string form of the date in ISO format, use the fromisoformat() method. And if you intended to do the reverse, use the isoformat() method:"
   ]
  },
  {
   "cell_type": "code",
   "execution_count": 52,
   "metadata": {},
   "outputs": [
    {
     "name": "stdout",
     "output_type": "stream",
     "text": [
      "2019-05-23\n"
     ]
    }
   ],
   "source": [
    "# ISO format\n",
    "d1_datetime = date.fromisoformat('2019-05-23')\n",
    "print(d1_datetime)\n"
   ]
  },
  {
   "cell_type": "code",
   "execution_count": 53,
   "metadata": {},
   "outputs": [
    {
     "name": "stdout",
     "output_type": "stream",
     "text": [
      "<class 'datetime.date'>\n"
     ]
    }
   ],
   "source": [
    "print(type(d1_datetime))\n"
   ]
  },
  {
   "cell_type": "code",
   "execution_count": 54,
   "metadata": {},
   "outputs": [
    {
     "name": "stdout",
     "output_type": "stream",
     "text": [
      "2020-04-23\n"
     ]
    }
   ],
   "source": [
    "d1_ISO = date(2020,4,23).isoformat()\n",
    "print(d1_ISO)\n"
   ]
  },
  {
   "cell_type": "code",
   "execution_count": 55,
   "metadata": {},
   "outputs": [
    {
     "name": "stdout",
     "output_type": "stream",
     "text": [
      "<class 'str'>\n"
     ]
    }
   ],
   "source": [
    "print(type(d1_ISO))"
   ]
  },
  {
   "cell_type": "markdown",
   "metadata": {},
   "source": [
    "If you wanted to convert DateTime into a string format, you could use the ctime() method. This returns the date in a string format. And if you wanted to extract just the date from that, well, you would have to use slicing:"
   ]
  },
  {
   "cell_type": "code",
   "execution_count": 56,
   "metadata": {},
   "outputs": [
    {
     "name": "stdout",
     "output_type": "stream",
     "text": [
      "2021-05-23 15:10:08.424960\n"
     ]
    }
   ],
   "source": [
    "# date in string format\n",
    "d1 = datetime.now()\n",
    "print(d1)"
   ]
  },
  {
   "cell_type": "code",
   "execution_count": 57,
   "metadata": {},
   "outputs": [
    {
     "name": "stdout",
     "output_type": "stream",
     "text": [
      "Sun May 23 15:10:08 2021\n"
     ]
    }
   ],
   "source": [
    "# string format for date\n",
    "print(d1.ctime())\n"
   ]
  },
  {
   "cell_type": "code",
   "execution_count": 58,
   "metadata": {},
   "outputs": [
    {
     "name": "stdout",
     "output_type": "stream",
     "text": [
      "Sun May 23\n"
     ]
    }
   ],
   "source": [
    "# slicing to extract date\n",
    "print(d1.ctime()[:10])"
   ]
  },
  {
   "cell_type": "code",
   "execution_count": 59,
   "metadata": {},
   "outputs": [
    {
     "data": {
      "text/plain": [
       "'2019/05/23'"
      ]
     },
     "execution_count": 59,
     "metadata": {},
     "output_type": "execute_result"
    }
   ],
   "source": [
    "# Your own format\n",
    "date(2019,5,23).__format__('%Y/%m/%d')"
   ]
  },
  {
   "cell_type": "markdown",
   "metadata": {},
   "source": [
    "# DateTime Formatting with Strptime & Strftime"
   ]
  },
  {
   "cell_type": "markdown",
   "metadata": {},
   "source": [
    "Strptime & Strftime can give you a lot of flexibility with handling DateTime features.\n",
    "\n",
    "strptime() creates a DateTime object from a string representing date and time. It takes two arguments: the date and the format in which your date is present. Have a look below:"
   ]
  },
  {
   "cell_type": "code",
   "execution_count": 62,
   "metadata": {},
   "outputs": [],
   "source": [
    "# strptime\n",
    "date = '23 May, 2019 17:40:26'"
   ]
  },
  {
   "cell_type": "code",
   "execution_count": 63,
   "metadata": {},
   "outputs": [
    {
     "name": "stdout",
     "output_type": "stream",
     "text": [
      "2019-05-23 17:40:26\n",
      "<class 'datetime.datetime'>\n"
     ]
    }
   ],
   "source": [
    "d1 = datetime.strptime(date,'%d %B, %Y %H:%M:%S')\n",
    "print(d1)\n",
    "print(type(d1))"
   ]
  },
  {
   "cell_type": "markdown",
   "metadata": {},
   "source": [
    "The stftime() method, on the other hand, can be used to convert the DateTime object into a string representing date and time:"
   ]
  },
  {
   "cell_type": "code",
   "execution_count": 64,
   "metadata": {},
   "outputs": [
    {
     "name": "stdout",
     "output_type": "stream",
     "text": [
      "Datetime object : 2021-05-23 15:14:48.868179\n"
     ]
    }
   ],
   "source": [
    "# strftime\n",
    "d1 = datetime.now()\n",
    "print('Datetime object :',d1)\n"
   ]
  },
  {
   "cell_type": "code",
   "execution_count": 65,
   "metadata": {},
   "outputs": [
    {
     "name": "stdout",
     "output_type": "stream",
     "text": [
      "Formatted date : 23/05/2021 15:14\n",
      "<class 'str'>\n"
     ]
    }
   ],
   "source": [
    "new_date = d1.strftime('%d/%m/%Y %H:%M')\n",
    "print('Formatted date :',new_date)\n",
    "print(type(new_date))"
   ]
  },
  {
   "cell_type": "markdown",
   "metadata": {},
   "source": [
    "But you can also extract some important information from the DateTime object like weekday name, month name, week number, etc.\n",
    "https://docs.python.org/3/library/datetime.html#strftime-and-strptime-format-codes"
   ]
  },
  {
   "cell_type": "code",
   "execution_count": 66,
   "metadata": {},
   "outputs": [
    {
     "name": "stdout",
     "output_type": "stream",
     "text": [
      "Weekday : Sunday\n",
      "Month : May\n",
      "Week number : 20\n",
      "Locale's date and time representation : Sun May 23 15:17:30 2021\n"
     ]
    }
   ],
   "source": [
    "d1 = datetime.now()\n",
    "print('Weekday :',d1.strftime('%A'))\n",
    "print('Month :',d1.strftime('%B'))\n",
    "print('Week number :',d1.strftime('%W'))\n",
    "print(\"Locale's date and time representation :\",d1.strftime('%c'))"
   ]
  },
  {
   "cell_type": "markdown",
   "metadata": {},
   "source": [
    "# Timedelta\n",
    "So far, we have seen how to create a DateTime object and how to format it. But sometimes, you might have to find the duration between two dates, which can be another very useful feature that you can derive from a dataset. This duration is, however, returned as a timedelta object."
   ]
  },
  {
   "cell_type": "code",
   "execution_count": 70,
   "metadata": {},
   "outputs": [
    {
     "name": "stdout",
     "output_type": "stream",
     "text": [
      "<class 'datetime.timedelta'>\n"
     ]
    },
    {
     "data": {
      "text/plain": [
       "datetime.timedelta(days=366, seconds=7190)"
      ]
     },
     "execution_count": 70,
     "metadata": {},
     "output_type": "execute_result"
    }
   ],
   "source": [
    " # timedelta : duration between dates\n",
    "d1 = datetime(2019,5,23,17,22,20)\n",
    "d2 = datetime(2020,5,23,19,22,10)\n",
    "duration = d2-d1\n",
    "print(type(duration))\n",
    "duration"
   ]
  },
  {
   "cell_type": "code",
   "execution_count": 71,
   "metadata": {},
   "outputs": [
    {
     "name": "stdout",
     "output_type": "stream",
     "text": [
      "366 days, 1:59:50\n"
     ]
    }
   ],
   "source": [
    "print(duration)"
   ]
  },
  {
   "cell_type": "code",
   "execution_count": 72,
   "metadata": {},
   "outputs": [
    {
     "name": "stdout",
     "output_type": "stream",
     "text": [
      "366\n",
      "7190\n"
     ]
    }
   ],
   "source": [
    "print(duration.days) # 365\n",
    "print(duration.seconds) # 3600"
   ]
  },
  {
   "cell_type": "code",
   "execution_count": 73,
   "metadata": {},
   "outputs": [
    {
     "name": "stdout",
     "output_type": "stream",
     "text": [
      "Duration in hours : 8785.997222222222\n",
      "Duration in minutes : 527159.8333333334\n",
      "Duration in seconds : 31629590.0\n"
     ]
    }
   ],
   "source": [
    "\n",
    "from datetime import timedelta\n",
    "# duration in hours\n",
    "print('Duration in hours :',duration/timedelta(hours=1))\n",
    "# duration in minutes\n",
    "print('Duration in minutes :',duration/timedelta(minutes=1))\n",
    "# duration in seconds\n",
    "print('Duration in seconds :',duration/timedelta(seconds=1))"
   ]
  },
  {
   "cell_type": "markdown",
   "metadata": {},
   "source": [
    "timedelta makes it possible to add and subtract integers from a DateTime object."
   ]
  },
  {
   "cell_type": "code",
   "execution_count": 75,
   "metadata": {},
   "outputs": [
    {
     "name": "stdout",
     "output_type": "stream",
     "text": [
      "Today's date : 2021-05-23 15:21:41.730418\n",
      "Date 2 days from today : 2021-05-25 15:21:41.730418\n",
      "Date 2 weeks from today : 2021-06-06 15:21:41.730418\n"
     ]
    }
   ],
   "source": [
    "d1 = datetime.now()\n",
    "print(\"Today's date :\",d1)\n",
    "\n",
    "d2 = d1+timedelta(days=2)\n",
    "print(\"Date 2 days from today :\",d2)\n",
    "\n",
    "d3 = d1+timedelta(weeks=2)\n",
    "print(\"Date 2 weeks from today :\",d3)"
   ]
  },
  {
   "cell_type": "markdown",
   "metadata": {},
   "source": [
    "# Date & Time in Pandas"
   ]
  },
  {
   "cell_type": "markdown",
   "metadata": {},
   "source": [
    "Using to_datetime() and to_timedelta()."
   ]
  },
  {
   "cell_type": "code",
   "execution_count": 77,
   "metadata": {},
   "outputs": [
    {
     "name": "stdout",
     "output_type": "stream",
     "text": [
      "2019-05-23 00:00:00\n",
      "<class 'pandas._libs.tslibs.timestamps.Timestamp'>\n"
     ]
    }
   ],
   "source": [
    "\n",
    "# to_datetime\n",
    "date = pd.to_datetime('23rd of May, 2019')\n",
    "print(date)\n",
    "print(type(date))\n",
    "# You might have noticed something strange here. The type of the object returned by \n",
    "# to_datetime() is not DateTime but Timestamp. Well, don’t worry,\n",
    "# it is just the Pandas equivalent of Python’s DateTime."
   ]
  },
  {
   "cell_type": "markdown",
   "metadata": {},
   "source": [
    "timedelta gives differences in times. The Pandas to_timedelta() method does"
   ]
  },
  {
   "cell_type": "code",
   "execution_count": 79,
   "metadata": {},
   "outputs": [
    {
     "name": "stdout",
     "output_type": "stream",
     "text": [
      "2021-05-23 15:24:53.459966\n"
     ]
    }
   ],
   "source": [
    "\n",
    "# timedelta\n",
    "import numpy as np\n",
    "date = datetime.now()\n",
    "# present date\n",
    "print(date)\n"
   ]
  },
  {
   "cell_type": "code",
   "execution_count": 81,
   "metadata": {},
   "outputs": [
    {
     "name": "stdout",
     "output_type": "stream",
     "text": [
      "2021-05-24 15:24:53.459966\n"
     ]
    }
   ],
   "source": [
    "# date after 1 day\n",
    "print(date+pd.to_timedelta(1,unit='D'))\n"
   ]
  },
  {
   "cell_type": "code",
   "execution_count": 83,
   "metadata": {},
   "outputs": [
    {
     "name": "stdout",
     "output_type": "stream",
     "text": [
      "2021-05-30 15:24:53.459966\n"
     ]
    }
   ],
   "source": [
    "# date after 1 month\n",
    "print(date+pd.to_timedelta(1,unit='W'))"
   ]
  },
  {
   "cell_type": "markdown",
   "metadata": {},
   "source": [
    "# Date Range in Pandas\n",
    "To make the creation of date sequences a convenient task, Pandas provides the date_range() method. It accepts a start date, an end date, and an optional frequency code:"
   ]
  },
  {
   "cell_type": "code",
   "execution_count": 85,
   "metadata": {},
   "outputs": [
    {
     "data": {
      "text/plain": [
       "DatetimeIndex(['2019-05-23', '2019-05-24', '2019-05-25', '2019-05-26',\n",
       "               '2019-05-27', '2019-05-28', '2019-05-29', '2019-05-30',\n",
       "               '2019-05-31', '2019-06-01', '2019-06-02', '2019-06-03',\n",
       "               '2019-06-04', '2019-06-05', '2019-06-06', '2019-06-07',\n",
       "               '2019-06-08', '2019-06-09', '2019-06-10', '2019-06-11',\n",
       "               '2019-06-12', '2019-06-13', '2019-06-14', '2019-06-15',\n",
       "               '2019-06-16', '2019-06-17', '2019-06-18', '2019-06-19',\n",
       "               '2019-06-20', '2019-06-21', '2019-06-22', '2019-06-23',\n",
       "               '2019-06-24', '2019-06-25', '2019-06-26', '2019-06-27',\n",
       "               '2019-06-28', '2019-06-29', '2019-06-30', '2019-07-01',\n",
       "               '2019-07-02', '2019-07-03', '2019-07-04', '2019-07-05',\n",
       "               '2019-07-06', '2019-07-07', '2019-07-08', '2019-07-09',\n",
       "               '2019-07-10', '2019-07-11', '2019-07-12', '2019-07-13',\n",
       "               '2019-07-14', '2019-07-15', '2019-07-16', '2019-07-17',\n",
       "               '2019-07-18', '2019-07-19', '2019-07-20', '2019-07-21',\n",
       "               '2019-07-22', '2019-07-23', '2019-07-24', '2019-07-25',\n",
       "               '2019-07-26', '2019-07-27', '2019-07-28', '2019-07-29',\n",
       "               '2019-07-30', '2019-07-31', '2019-08-01', '2019-08-02',\n",
       "               '2019-08-03', '2019-08-04', '2019-08-05', '2019-08-06',\n",
       "               '2019-08-07', '2019-08-08', '2019-08-09', '2019-08-10',\n",
       "               '2019-08-11', '2019-08-12', '2019-08-13', '2019-08-14',\n",
       "               '2019-08-15', '2019-08-16', '2019-08-17', '2019-08-18',\n",
       "               '2019-08-19', '2019-08-20', '2019-08-21', '2019-08-22',\n",
       "               '2019-08-23', '2019-08-24', '2019-08-25'],\n",
       "              dtype='datetime64[ns]', freq='D')"
      ]
     },
     "execution_count": 85,
     "metadata": {},
     "output_type": "execute_result"
    }
   ],
   "source": [
    "pd.date_range(start='23/5/2019', end='25/8/2019', freq='D')"
   ]
  },
  {
   "cell_type": "markdown",
   "metadata": {},
   "source": [
    "Instead of defining the end date, you could define the period or number of time periods you want to generate:"
   ]
  },
  {
   "cell_type": "code",
   "execution_count": 86,
   "metadata": {},
   "outputs": [
    {
     "data": {
      "text/plain": [
       "DatetimeIndex(['2021-05-23 15:28:55.743484', '2021-05-23 15:29:55.743484',\n",
       "               '2021-05-23 15:30:55.743484', '2021-05-23 15:31:55.743484',\n",
       "               '2021-05-23 15:32:55.743484'],\n",
       "              dtype='datetime64[ns]', freq='T')"
      ]
     },
     "execution_count": 86,
     "metadata": {},
     "output_type": "execute_result"
    }
   ],
   "source": [
    "from datetime import datetime\n",
    "start_date = datetime.today()\n",
    "dates_start = pd.date_range(start=start_date, periods=10, freq='T')\n",
    "dates_start[:5]"
   ]
  },
  {
   "cell_type": "markdown",
   "metadata": {},
   "source": [
    "# Making DateTime Features in Pandas\n",
    "Let’s also create a series of end dates and make a dummy dataset from which we can derive some new features and bring our learning about DateTime to fruition."
   ]
  },
  {
   "cell_type": "code",
   "execution_count": 87,
   "metadata": {},
   "outputs": [
    {
     "data": {
      "text/plain": [
       "DatetimeIndex(['2021-05-23 15:28:55.743484', '2021-05-24 15:28:55.743484',\n",
       "               '2021-05-25 15:28:55.743484', '2021-05-26 15:28:55.743484',\n",
       "               '2021-05-27 15:28:55.743484'],\n",
       "              dtype='datetime64[ns]', freq='D')"
      ]
     },
     "execution_count": 87,
     "metadata": {},
     "output_type": "execute_result"
    }
   ],
   "source": [
    "\n",
    "dates_end = pd.date_range(start=start_date, periods=10, freq='D')\n",
    "dates_end[:5]"
   ]
  },
  {
   "cell_type": "code",
   "execution_count": 88,
   "metadata": {},
   "outputs": [
    {
     "data": {
      "text/html": [
       "<div>\n",
       "<style scoped>\n",
       "    .dataframe tbody tr th:only-of-type {\n",
       "        vertical-align: middle;\n",
       "    }\n",
       "\n",
       "    .dataframe tbody tr th {\n",
       "        vertical-align: top;\n",
       "    }\n",
       "\n",
       "    .dataframe thead th {\n",
       "        text-align: right;\n",
       "    }\n",
       "</style>\n",
       "<table border=\"1\" class=\"dataframe\">\n",
       "  <thead>\n",
       "    <tr style=\"text-align: right;\">\n",
       "      <th></th>\n",
       "      <th>Start_date</th>\n",
       "      <th>End_date</th>\n",
       "      <th>Target</th>\n",
       "    </tr>\n",
       "  </thead>\n",
       "  <tbody>\n",
       "    <tr>\n",
       "      <th>0</th>\n",
       "      <td>2021-05-23 15:28:55.743484</td>\n",
       "      <td>2021-05-23 15:28:55.743484</td>\n",
       "      <td>0</td>\n",
       "    </tr>\n",
       "    <tr>\n",
       "      <th>1</th>\n",
       "      <td>2021-05-23 15:29:55.743484</td>\n",
       "      <td>2021-05-24 15:28:55.743484</td>\n",
       "      <td>0</td>\n",
       "    </tr>\n",
       "    <tr>\n",
       "      <th>2</th>\n",
       "      <td>2021-05-23 15:30:55.743484</td>\n",
       "      <td>2021-05-25 15:28:55.743484</td>\n",
       "      <td>1</td>\n",
       "    </tr>\n",
       "    <tr>\n",
       "      <th>3</th>\n",
       "      <td>2021-05-23 15:31:55.743484</td>\n",
       "      <td>2021-05-26 15:28:55.743484</td>\n",
       "      <td>1</td>\n",
       "    </tr>\n",
       "    <tr>\n",
       "      <th>4</th>\n",
       "      <td>2021-05-23 15:32:55.743484</td>\n",
       "      <td>2021-05-27 15:28:55.743484</td>\n",
       "      <td>0</td>\n",
       "    </tr>\n",
       "  </tbody>\n",
       "</table>\n",
       "</div>"
      ],
      "text/plain": [
       "                  Start_date                   End_date  Target\n",
       "0 2021-05-23 15:28:55.743484 2021-05-23 15:28:55.743484       0\n",
       "1 2021-05-23 15:29:55.743484 2021-05-24 15:28:55.743484       0\n",
       "2 2021-05-23 15:30:55.743484 2021-05-25 15:28:55.743484       1\n",
       "3 2021-05-23 15:31:55.743484 2021-05-26 15:28:55.743484       1\n",
       "4 2021-05-23 15:32:55.743484 2021-05-27 15:28:55.743484       0"
      ]
     },
     "execution_count": 88,
     "metadata": {},
     "output_type": "execute_result"
    }
   ],
   "source": [
    "import random\n",
    "randomList = []\n",
    "for i in range(10):\n",
    "    randomList.append(random.randint(0,1))\n",
    "\n",
    "# dataframe\n",
    "df = pd.DataFrame()\n",
    "df['Start_date'] = dates_start\n",
    "df['End_date'] = dates_end\n",
    "df['Target'] = randomList\n",
    "\n",
    "df.head()"
   ]
  },
  {
   "cell_type": "code",
   "execution_count": 94,
   "metadata": {},
   "outputs": [],
   "source": [
    "\n",
    "# day\n",
    "df['Day'] = df['Start_date'].dt.isocalendar().day\n",
    "# month\n"
   ]
  },
  {
   "cell_type": "code",
   "execution_count": 100,
   "metadata": {},
   "outputs": [],
   "source": [
    "df1 = df['Start_date'].dt.isocalendar()\n"
   ]
  },
  {
   "cell_type": "code",
   "execution_count": 104,
   "metadata": {},
   "outputs": [
    {
     "data": {
      "text/plain": [
       "<bound method DataFrame.min of    year  week  day\n",
       "0  2021    20    7\n",
       "1  2021    20    7\n",
       "2  2021    20    7\n",
       "3  2021    20    7\n",
       "4  2021    20    7\n",
       "5  2021    20    7\n",
       "6  2021    20    7\n",
       "7  2021    20    7\n",
       "8  2021    20    7\n",
       "9  2021    20    7>"
      ]
     },
     "execution_count": 104,
     "metadata": {},
     "output_type": "execute_result"
    }
   ],
   "source": [
    "df1.min"
   ]
  },
  {
   "cell_type": "code",
   "execution_count": 1,
   "metadata": {},
   "outputs": [
    {
     "ename": "NameError",
     "evalue": "name 'df' is not defined",
     "output_type": "error",
     "traceback": [
      "\u001b[1;31m---------------------------------------------------------------------------\u001b[0m",
      "\u001b[1;31mNameError\u001b[0m                                 Traceback (most recent call last)",
      "\u001b[1;32m<ipython-input-1-21b719aac45d>\u001b[0m in \u001b[0;36m<module>\u001b[1;34m\u001b[0m\n\u001b[1;32m----> 1\u001b[1;33m \u001b[0mdf\u001b[0m\u001b[1;33m[\u001b[0m\u001b[1;34m'Start_minute'\u001b[0m\u001b[1;33m]\u001b[0m \u001b[1;33m=\u001b[0m \u001b[0mdf\u001b[0m\u001b[1;33m[\u001b[0m\u001b[1;34m'Start_date'\u001b[0m\u001b[1;33m]\u001b[0m\u001b[1;33m.\u001b[0m\u001b[0mdt\u001b[0m\u001b[1;33m.\u001b[0m\u001b[0misocalendar\u001b[0m\u001b[1;33m(\u001b[0m\u001b[1;33m)\u001b[0m\u001b[1;33m.\u001b[0m\u001b[0mminute\u001b[0m\u001b[1;33m\u001b[0m\u001b[1;33m\u001b[0m\u001b[0m\n\u001b[0m\u001b[0;32m      2\u001b[0m \u001b[1;31m# second\u001b[0m\u001b[1;33m\u001b[0m\u001b[1;33m\u001b[0m\u001b[1;33m\u001b[0m\u001b[0m\n\u001b[0;32m      3\u001b[0m \u001b[0mdf\u001b[0m\u001b[1;33m[\u001b[0m\u001b[1;34m'Start_second'\u001b[0m\u001b[1;33m]\u001b[0m \u001b[1;33m=\u001b[0m \u001b[0mdf\u001b[0m\u001b[1;33m[\u001b[0m\u001b[1;34m'Start_date'\u001b[0m\u001b[1;33m]\u001b[0m\u001b[1;33m.\u001b[0m\u001b[0mdt\u001b[0m\u001b[1;33m.\u001b[0m\u001b[0misocalendar\u001b[0m\u001b[1;33m(\u001b[0m\u001b[1;33m)\u001b[0m\u001b[1;33m.\u001b[0m\u001b[0msecond\u001b[0m\u001b[1;33m\u001b[0m\u001b[1;33m\u001b[0m\u001b[0m\n\u001b[0;32m      4\u001b[0m \u001b[1;31m# Monday is 0 and Sunday is 6\u001b[0m\u001b[1;33m\u001b[0m\u001b[1;33m\u001b[0m\u001b[1;33m\u001b[0m\u001b[0m\n\u001b[0;32m      5\u001b[0m \u001b[0mdf\u001b[0m\u001b[1;33m[\u001b[0m\u001b[1;34m'Start_weekday'\u001b[0m\u001b[1;33m]\u001b[0m \u001b[1;33m=\u001b[0m \u001b[0mdf\u001b[0m\u001b[1;33m[\u001b[0m\u001b[1;34m'Start_date'\u001b[0m\u001b[1;33m]\u001b[0m\u001b[1;33m.\u001b[0m\u001b[0mdt\u001b[0m\u001b[1;33m.\u001b[0m\u001b[0misocalendar\u001b[0m\u001b[1;33m(\u001b[0m\u001b[1;33m)\u001b[0m\u001b[1;33m.\u001b[0m\u001b[0mweekday\u001b[0m\u001b[1;33m\u001b[0m\u001b[1;33m\u001b[0m\u001b[0m\n",
      "\u001b[1;31mNameError\u001b[0m: name 'df' is not defined"
     ]
    }
   ],
   "source": [
    "df['Start_minute'] = df['Start_date'].dt.isocalendar().minute\n",
    "# second\n",
    "df['Start_second'] = df['Start_date'].dt.isocalendar().second\n",
    "# Monday is 0 and Sunday is 6\n",
    "df['Start_weekday'] = df['Start_date'].dt.isocalendar().weekday\n",
    "# week of the year\n",
    "df['Start_week_of_year'] = df['Start_date'].dt.isocalendar().week\n",
    "# duration\n",
    "df['Duration'] = df['End_date']-df['Start_date']"
   ]
  },
  {
   "cell_type": "code",
   "execution_count": 105,
   "metadata": {},
   "outputs": [],
   "source": [
    "# Our duration feature is great, but what if we would like to have the duration in minutes or seconds?\n",
    "df['Duration_days'] = df['Duration']/timedelta(days=1)\n",
    "df['Duration_minutes'] = df['Duration']/timedelta(minutes=1)\n",
    "df['Duration_seconds'] = df['Duration']/timedelta(seconds=1)\n"
   ]
  },
  {
   "cell_type": "code",
   "execution_count": null,
   "metadata": {},
   "outputs": [],
   "source": []
  }
 ],
 "metadata": {
  "kernelspec": {
   "display_name": "Python 3",
   "language": "python",
   "name": "python3"
  },
  "language_info": {
   "codemirror_mode": {
    "name": "ipython",
    "version": 3
   },
   "file_extension": ".py",
   "mimetype": "text/x-python",
   "name": "python",
   "nbconvert_exporter": "python",
   "pygments_lexer": "ipython3",
   "version": "3.8.5"
  }
 },
 "nbformat": 4,
 "nbformat_minor": 4
}
