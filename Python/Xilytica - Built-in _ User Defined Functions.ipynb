{
 "cells": [
  {
   "cell_type": "markdown",
   "metadata": {
    "id": "3TFLCgNrsVhr"
   },
   "source": [
    "# Writing Functions in Python"
   ]
  },
  {
   "cell_type": "code",
   "execution_count": null,
   "metadata": {
    "id": "-cIBBzsVsVhu"
   },
   "outputs": [],
   "source": [
    "# Syntax\n",
    "def function_name(paramaters):\n",
    "    '''Docstring'''\n",
    "    Statements"
   ]
  },
  {
   "cell_type": "code",
   "execution_count": null,
   "metadata": {
    "id": "BpfyfP9LsVhv"
   },
   "outputs": [],
   "source": [
    "# Built-in Functions"
   ]
  },
  {
   "cell_type": "code",
   "execution_count": null,
   "metadata": {
    "id": "4gYowG7PsVhv",
    "outputId": "943854aa-4d2e-46ec-c9b7-25957b6c4105"
   },
   "outputs": [
    {
     "data": {
      "text/plain": [
       "10"
      ]
     },
     "execution_count": 27,
     "metadata": {
      "tags": []
     },
     "output_type": "execute_result"
    }
   ],
   "source": [
    "# Len function give the count of elements\n",
    "mylist = [46, 15, 39, 38, 8, 17, 31, 45, 7, 11]\n",
    "len(mylist)"
   ]
  },
  {
   "cell_type": "code",
   "execution_count": null,
   "metadata": {
    "id": "_x-n_paMsVhw",
    "outputId": "790050b6-575d-42bd-a904-7ad6ecc4cdef"
   },
   "outputs": [
    {
     "data": {
      "text/plain": [
       "257"
      ]
     },
     "execution_count": 34,
     "metadata": {
      "tags": []
     },
     "output_type": "execute_result"
    }
   ],
   "source": [
    "sum(mylist)"
   ]
  },
  {
   "cell_type": "code",
   "execution_count": null,
   "metadata": {
    "id": "O3BmTy_isVhx",
    "outputId": "674abba8-5bb1-42e7-efeb-9bcd2e89acb8"
   },
   "outputs": [
    {
     "data": {
      "text/plain": [
       "46"
      ]
     },
     "execution_count": 26,
     "metadata": {
      "tags": []
     },
     "output_type": "execute_result"
    }
   ],
   "source": [
    "max(myran)"
   ]
  },
  {
   "cell_type": "code",
   "execution_count": null,
   "metadata": {
    "id": "vhoCI6IUsVhy",
    "outputId": "6f04c2c8-1648-4007-d74d-e5ab1dc311d6"
   },
   "outputs": [
    {
     "data": {
      "text/plain": [
       "7"
      ]
     },
     "execution_count": 23,
     "metadata": {
      "tags": []
     },
     "output_type": "execute_result"
    }
   ],
   "source": [
    "min(myran)"
   ]
  },
  {
   "cell_type": "code",
   "execution_count": null,
   "metadata": {
    "id": "lGR6nzdTsVhy",
    "outputId": "dd9995f8-8f4d-4833-f3e9-fea0c0114dd1"
   },
   "outputs": [
    {
     "data": {
      "text/plain": [
       "[7, 8, 11, 15, 17, 31, 38, 39, 45, 46]"
      ]
     },
     "execution_count": 24,
     "metadata": {
      "tags": []
     },
     "output_type": "execute_result"
    }
   ],
   "source": [
    "sorted(myran)"
   ]
  },
  {
   "cell_type": "code",
   "execution_count": null,
   "metadata": {
    "id": "XwyLk11rsVhz",
    "outputId": "a1e1c6a7-314f-42c7-e242-6ffffa4875f2"
   },
   "outputs": [
    {
     "data": {
      "text/plain": [
       "[46, 45, 39, 38, 31, 17, 15, 11, 8, 7]"
      ]
     },
     "execution_count": 25,
     "metadata": {
      "tags": []
     },
     "output_type": "execute_result"
    }
   ],
   "source": [
    "sorted(myran,reverse=True)"
   ]
  },
  {
   "cell_type": "code",
   "execution_count": null,
   "metadata": {
    "id": "73qx6mpVsVh0",
    "outputId": "8e181e43-ced7-4111-c967-26118e3d84e8"
   },
   "outputs": [
    {
     "data": {
      "text/plain": [
       "22.7"
      ]
     },
     "execution_count": 28,
     "metadata": {
      "tags": []
     },
     "output_type": "execute_result"
    }
   ],
   "source": [
    "# abs() returns the absolute value of a numeric value (e.g. integer or float).\n",
    "abs(-22.7)"
   ]
  },
  {
   "cell_type": "code",
   "execution_count": null,
   "metadata": {
    "id": "kaUkUpLDsVh0",
    "outputId": "1341f301-1b7d-42d0-d1bc-fc83eb343338"
   },
   "outputs": [
    {
     "data": {
      "text/plain": [
       "-23"
      ]
     },
     "execution_count": 29,
     "metadata": {
      "tags": []
     },
     "output_type": "execute_result"
    }
   ],
   "source": [
    "# round() - Round a number to a given precision \n",
    "round(-22.7)"
   ]
  },
  {
   "cell_type": "code",
   "execution_count": null,
   "metadata": {
    "id": "x8xYhjxjsVh1",
    "outputId": "1e68976a-94ef-4b23-cc57-34759c23148f"
   },
   "outputs": [
    {
     "data": {
      "text/plain": [
       "3"
      ]
     },
     "execution_count": 30,
     "metadata": {
      "tags": []
     },
     "output_type": "execute_result"
    }
   ],
   "source": [
    "round(22/7)"
   ]
  },
  {
   "cell_type": "code",
   "execution_count": null,
   "metadata": {
    "id": "RaZRBbU4sVh1",
    "outputId": "73a049a1-dfbf-4aec-dbcd-ab557eb066da"
   },
   "outputs": [
    {
     "data": {
      "text/plain": [
       "3.142857142857143"
      ]
     },
     "execution_count": 31,
     "metadata": {
      "tags": []
     },
     "output_type": "execute_result"
    }
   ],
   "source": [
    "22/7"
   ]
  },
  {
   "cell_type": "code",
   "execution_count": null,
   "metadata": {
    "id": "K9zuli5IsVh1",
    "outputId": "9b5a9914-7fa1-4ef7-b54b-9ab6be8e10bb"
   },
   "outputs": [
    {
     "data": {
      "text/plain": [
       "3.14"
      ]
     },
     "execution_count": 32,
     "metadata": {
      "tags": []
     },
     "output_type": "execute_result"
    }
   ],
   "source": [
    "round(22/7,2)"
   ]
  },
  {
   "cell_type": "code",
   "execution_count": null,
   "metadata": {
    "id": "23olKNjLsVh2",
    "outputId": "753357f3-9ca9-478e-d937-d5c5a5b7c779"
   },
   "outputs": [
    {
     "data": {
      "text/plain": [
       "3.143"
      ]
     },
     "execution_count": 33,
     "metadata": {
      "tags": []
     },
     "output_type": "execute_result"
    }
   ],
   "source": [
    "round(22/7,3)"
   ]
  },
  {
   "cell_type": "markdown",
   "metadata": {
    "id": "nwATNt36sVh2"
   },
   "source": [
    "# User Defined Functions"
   ]
  },
  {
   "cell_type": "code",
   "execution_count": null,
   "metadata": {
    "id": "JYXbaqGbsVh2"
   },
   "outputs": [],
   "source": [
    "# Defining the function\n",
    "def hello(): # Header\n",
    "    print('Hello World') # Body"
   ]
  },
  {
   "cell_type": "code",
   "execution_count": null,
   "metadata": {
    "id": "2xC5qWCwsVh2",
    "outputId": "b4c0f167-544c-446d-a783-d27d81675228"
   },
   "outputs": [
    {
     "name": "stdout",
     "output_type": "stream",
     "text": [
      "Hello World\n"
     ]
    }
   ],
   "source": [
    "# Calling the function\n",
    "hello()"
   ]
  },
  {
   "cell_type": "code",
   "execution_count": null,
   "metadata": {
    "id": "rzAxfZybsVh3"
   },
   "outputs": [],
   "source": [
    "def hello_again(): \n",
    "    print('Hello World') \n",
    "    print('Code in Python')\n",
    "    print('Analyse data in Python')"
   ]
  },
  {
   "cell_type": "code",
   "execution_count": null,
   "metadata": {
    "id": "ZORbBt7esVh3",
    "outputId": "596f89a9-91de-4b63-dd78-9241cb592530"
   },
   "outputs": [
    {
     "name": "stdout",
     "output_type": "stream",
     "text": [
      "Hello World\n",
      "Code in Python\n",
      "Analyse data in Python\n"
     ]
    }
   ],
   "source": [
    "hello_again()"
   ]
  },
  {
   "cell_type": "code",
   "execution_count": null,
   "metadata": {
    "id": "7sIR3MttsVh3"
   },
   "outputs": [],
   "source": [
    "def hello_sum(): \n",
    "    print('Hello World') \n",
    "    a = 2+7\n",
    "    print(a)\n"
   ]
  },
  {
   "cell_type": "code",
   "execution_count": null,
   "metadata": {
    "id": "veBAQihhsVh3",
    "outputId": "d7619c40-c89f-4037-e5cf-e0fb8ac40548"
   },
   "outputs": [
    {
     "name": "stdout",
     "output_type": "stream",
     "text": [
      "Hello World\n",
      "9\n"
     ]
    }
   ],
   "source": [
    "hello_sum()"
   ]
  },
  {
   "cell_type": "code",
   "execution_count": null,
   "metadata": {
    "id": "a4SJKGi5sVh4"
   },
   "outputs": [],
   "source": [
    "def my_fun_square() :# Header\n",
    "    value = 4**2      # body\n",
    "    print(value)"
   ]
  },
  {
   "cell_type": "code",
   "execution_count": null,
   "metadata": {
    "id": "EySjS9vWsVh4",
    "outputId": "bf76a290-a64a-4d70-bad8-567af5405a52"
   },
   "outputs": [
    {
     "name": "stdout",
     "output_type": "stream",
     "text": [
      "16\n"
     ]
    }
   ],
   "source": [
    "my_fun_square()"
   ]
  },
  {
   "cell_type": "code",
   "execution_count": null,
   "metadata": {
    "id": "Gl3bFJGpsVh5"
   },
   "outputs": [],
   "source": [
    "# Functions with Parameter\n",
    "def hello_para(name):\n",
    "    print('Hello',name)"
   ]
  },
  {
   "cell_type": "code",
   "execution_count": null,
   "metadata": {
    "id": "3FwMC-LIsVh5",
    "outputId": "a4b99498-368f-432d-dde2-1d7f4ce64641"
   },
   "outputs": [
    {
     "name": "stdout",
     "output_type": "stream",
     "text": [
      "Hello World\n"
     ]
    }
   ],
   "source": [
    "hello_para('World')"
   ]
  },
  {
   "cell_type": "code",
   "execution_count": null,
   "metadata": {
    "id": "8CmmeFcksVh5",
    "outputId": "ee3d7cbc-5a0b-4801-eec8-40176b59e9c7"
   },
   "outputs": [
    {
     "name": "stdout",
     "output_type": "stream",
     "text": [
      "Hello Nitin\n"
     ]
    }
   ],
   "source": [
    "hello_para('Nitin')"
   ]
  },
  {
   "cell_type": "code",
   "execution_count": null,
   "metadata": {
    "id": "mg4bs7vSsVh6"
   },
   "outputs": [],
   "source": [
    "def fun_square(para) :\n",
    "    value = para**2\n",
    "    print(value)"
   ]
  },
  {
   "cell_type": "code",
   "execution_count": null,
   "metadata": {
    "id": "IFs9YjE5sVh6",
    "outputId": "040246cf-13bb-4133-bca2-b9d8308874eb"
   },
   "outputs": [
    {
     "name": "stdout",
     "output_type": "stream",
     "text": [
      "49\n"
     ]
    }
   ],
   "source": [
    "fun_square(7)"
   ]
  },
  {
   "cell_type": "code",
   "execution_count": null,
   "metadata": {
    "id": "Mtv1WE78sVh6",
    "outputId": "15e58ffa-c691-4103-c374-6ac8ab52f300"
   },
   "outputs": [
    {
     "name": "stdout",
     "output_type": "stream",
     "text": [
      "Hello Nitin\n"
     ]
    }
   ],
   "source": [
    "hello_para('Nitin')"
   ]
  },
  {
   "cell_type": "code",
   "execution_count": null,
   "metadata": {
    "id": "C3iP_cpFsVh7",
    "outputId": "d929fe94-8439-4517-e74e-9849bbd0bc11"
   },
   "outputs": [
    {
     "ename": "TypeError",
     "evalue": "hello_para() missing 1 required positional argument: 'name'",
     "output_type": "error",
     "traceback": [
      "\u001b[1;31m---------------------------------------------------------------------------\u001b[0m",
      "\u001b[1;31mTypeError\u001b[0m                                 Traceback (most recent call last)",
      "\u001b[1;32m<ipython-input-75-03e2f2767141>\u001b[0m in \u001b[0;36m<module>\u001b[1;34m\u001b[0m\n\u001b[1;32m----> 1\u001b[1;33m \u001b[0mhello_para\u001b[0m\u001b[1;33m(\u001b[0m\u001b[1;33m)\u001b[0m\u001b[1;33m\u001b[0m\u001b[1;33m\u001b[0m\u001b[0m\n\u001b[0m",
      "\u001b[1;31mTypeError\u001b[0m: hello_para() missing 1 required positional argument: 'name'"
     ]
    }
   ],
   "source": [
    "hello_para()"
   ]
  },
  {
   "cell_type": "code",
   "execution_count": null,
   "metadata": {
    "id": "Qrl5GiSYsVh7"
   },
   "outputs": [],
   "source": [
    "# Default Parameter\n",
    "# We can give default value so that if value is not passed then function uses default parameter"
   ]
  },
  {
   "cell_type": "code",
   "execution_count": null,
   "metadata": {
    "id": "TRtz4Ce-sVh8"
   },
   "outputs": [],
   "source": [
    "def hello_para_def(name = 'World'):\n",
    "    print('Hello', name)"
   ]
  },
  {
   "cell_type": "code",
   "execution_count": null,
   "metadata": {
    "id": "MPiY0FkcsVh8",
    "outputId": "df954368-789c-4eeb-e79c-c1883bb7db83"
   },
   "outputs": [
    {
     "name": "stdout",
     "output_type": "stream",
     "text": [
      "Hello Nitin\n"
     ]
    }
   ],
   "source": [
    "hello_para_def('Nitin')"
   ]
  },
  {
   "cell_type": "code",
   "execution_count": null,
   "metadata": {
    "id": "Kv5uS8pIsVh8",
    "outputId": "caf92289-3be2-438b-d507-c1f276ae5819"
   },
   "outputs": [
    {
     "name": "stdout",
     "output_type": "stream",
     "text": [
      "Hello World\n"
     ]
    }
   ],
   "source": [
    "hello_para_def()"
   ]
  },
  {
   "cell_type": "code",
   "execution_count": null,
   "metadata": {
    "id": "DLdzjWpjsVh9"
   },
   "outputs": [],
   "source": []
  },
  {
   "cell_type": "code",
   "execution_count": null,
   "metadata": {
    "id": "sdRvQUlQsVh9"
   },
   "outputs": [],
   "source": [
    "# Function with Return Statement & Docstring\n",
    "# With Return statement I assign the output to the variable\n",
    "def fun_square(para) : # Header\n",
    "    '''This function returns square of input \n",
    "       parameter or argument '''\n",
    "    value = para**2   # Body\n",
    "    return value \n"
   ]
  },
  {
   "cell_type": "code",
   "execution_count": null,
   "metadata": {
    "id": "UNyuMGkMsVh9"
   },
   "outputs": [],
   "source": [
    "sqr = fun_square(7)"
   ]
  },
  {
   "cell_type": "code",
   "execution_count": null,
   "metadata": {
    "id": "C4i5Alp5sVh9",
    "outputId": "5649ead5-7917-4f59-b3dd-b5a6be0ecc10"
   },
   "outputs": [
    {
     "name": "stdout",
     "output_type": "stream",
     "text": [
      "52\n"
     ]
    }
   ],
   "source": [
    "print(sqr+3)"
   ]
  },
  {
   "cell_type": "code",
   "execution_count": null,
   "metadata": {
    "id": "sKRq67XJsVh-"
   },
   "outputs": [],
   "source": [
    "# multiple function parameters\n",
    "def raise_to_power (val1, val2) :# header\n",
    "    '''raise val1 to the power of val2'''\n",
    "    val = val1 ** val2\n",
    "    return(val)"
   ]
  },
  {
   "cell_type": "code",
   "execution_count": null,
   "metadata": {
    "id": "dPWHi5ErsVh-"
   },
   "outputs": [],
   "source": [
    "numpwr= raise_to_power(2,8)"
   ]
  },
  {
   "cell_type": "code",
   "execution_count": null,
   "metadata": {
    "id": "CgxMS1UfsVh-",
    "outputId": "92117072-3c14-43e8-f45c-14bc77f08028"
   },
   "outputs": [
    {
     "data": {
      "text/plain": [
       "256"
      ]
     },
     "execution_count": 102,
     "metadata": {
      "tags": []
     },
     "output_type": "execute_result"
    }
   ],
   "source": [
    "numpwr"
   ]
  },
  {
   "cell_type": "code",
   "execution_count": null,
   "metadata": {
    "id": "SsZ8hS-3sVh-"
   },
   "outputs": [],
   "source": [
    "# fucntions with multiple parameters & multiple returns using tuple\n",
    "def raise_to_power (val1, val2) :# header\n",
    "    '''raise val1 to the power of val2'''\n",
    "    value1 = val1 ** val2\n",
    "    value2 = val2 ** val1\n",
    "    tuple_val = (value1,value2)\n",
    "    return tuple_val"
   ]
  },
  {
   "cell_type": "code",
   "execution_count": null,
   "metadata": {
    "id": "WtJJu4zLsVh_"
   },
   "outputs": [],
   "source": [
    "val = raise_to_power(3,2)"
   ]
  },
  {
   "cell_type": "code",
   "execution_count": null,
   "metadata": {
    "id": "HS5p7gwksVh_",
    "outputId": "619b3a69-1f69-43d6-ec0f-75a1c4cf9a06"
   },
   "outputs": [
    {
     "name": "stdout",
     "output_type": "stream",
     "text": [
      "(9, 8)\n"
     ]
    }
   ],
   "source": [
    "print(val)"
   ]
  },
  {
   "cell_type": "code",
   "execution_count": null,
   "metadata": {
    "id": "B-OcOShHsVh_",
    "outputId": "3da72ab7-cbee-47d2-a2b6-80a0da419e94"
   },
   "outputs": [
    {
     "data": {
      "text/plain": [
       "tuple"
      ]
     },
     "execution_count": 113,
     "metadata": {
      "tags": []
     },
     "output_type": "execute_result"
    }
   ],
   "source": [
    "type(val)"
   ]
  },
  {
   "cell_type": "code",
   "execution_count": null,
   "metadata": {
    "id": "Wd1NF8acsVh_"
   },
   "outputs": [],
   "source": [
    "# fucntions with multiple parameters & multiple returns using tuple\n",
    "def raise_to_power (val1, val2) :# header\n",
    "    '''raise val1 to the power of val2'''\n",
    "    value1 = val1 ** val2\n",
    "    value2 = val2 ** val1\n",
    "    value3 = value1*value2\n",
    "    #tuple_val = (value1,value2)\n",
    "    return value1,value2,value3"
   ]
  },
  {
   "cell_type": "code",
   "execution_count": null,
   "metadata": {
    "id": "9fLfGLzwsViA"
   },
   "outputs": [],
   "source": [
    "val = raise_to_power(3,2)"
   ]
  },
  {
   "cell_type": "code",
   "execution_count": null,
   "metadata": {
    "id": "ScKlAHDWsViA",
    "outputId": "980b10cb-fdd4-42dc-dc40-a76b2631a9ef"
   },
   "outputs": [
    {
     "data": {
      "text/plain": [
       "(9, 8, 72)"
      ]
     },
     "execution_count": 119,
     "metadata": {
      "tags": []
     },
     "output_type": "execute_result"
    }
   ],
   "source": [
    "val"
   ]
  },
  {
   "cell_type": "code",
   "execution_count": null,
   "metadata": {
    "id": "zoqMqmONsViA"
   },
   "outputs": [],
   "source": [
    "a, b,c = val"
   ]
  },
  {
   "cell_type": "code",
   "execution_count": null,
   "metadata": {
    "id": "4ow9GJPksViA",
    "outputId": "1df37311-e494-4f4f-a012-1c6c9e90d5e8"
   },
   "outputs": [
    {
     "data": {
      "text/plain": [
       "9"
      ]
     },
     "execution_count": 121,
     "metadata": {
      "tags": []
     },
     "output_type": "execute_result"
    }
   ],
   "source": [
    "a"
   ]
  },
  {
   "cell_type": "code",
   "execution_count": null,
   "metadata": {
    "id": "eYsPaV8-sViB",
    "outputId": "37171777-a9df-4ba4-8255-381267f9ed69"
   },
   "outputs": [
    {
     "data": {
      "text/plain": [
       "8"
      ]
     },
     "execution_count": 122,
     "metadata": {
      "tags": []
     },
     "output_type": "execute_result"
    }
   ],
   "source": [
    "b"
   ]
  },
  {
   "cell_type": "code",
   "execution_count": null,
   "metadata": {
    "id": "PH_5kBWzsViB",
    "outputId": "f104386c-7747-462f-9b74-79c4f1848e10"
   },
   "outputs": [
    {
     "data": {
      "text/plain": [
       "72"
      ]
     },
     "execution_count": 123,
     "metadata": {
      "tags": []
     },
     "output_type": "execute_result"
    }
   ],
   "source": [
    "c"
   ]
  },
  {
   "cell_type": "code",
   "execution_count": null,
   "metadata": {
    "id": "6yqf4UHYsViB"
   },
   "outputs": [],
   "source": [
    "# Even-Odd checker\n",
    "def even_odd(para):\n",
    "    if para % 2 == 0 :\n",
    "        print('Even Number')\n",
    "    else:\n",
    "        print('Odd Number')\n",
    "    "
   ]
  },
  {
   "cell_type": "code",
   "execution_count": null,
   "metadata": {
    "id": "9qmgBP_ksViB",
    "outputId": "439ec671-6499-4ce1-f165-85e16c235dfe"
   },
   "outputs": [
    {
     "name": "stdout",
     "output_type": "stream",
     "text": [
      "Odd Number\n"
     ]
    }
   ],
   "source": [
    "even_odd(1)"
   ]
  },
  {
   "cell_type": "code",
   "execution_count": null,
   "metadata": {
    "id": "84hymNN8sViC"
   },
   "outputs": [],
   "source": [
    "# Create a function that checks in the list if any number is greater than 50\n"
   ]
  },
  {
   "cell_type": "code",
   "execution_count": null,
   "metadata": {
    "id": "A3m9CUaksViC"
   },
   "outputs": [],
   "source": [
    "def my_check(mylist):\n",
    "    for i in mylist:\n",
    "        if i > 50:\n",
    "            print('List has number greater than 50')\n",
    "        else:\n",
    "            pass"
   ]
  },
  {
   "cell_type": "code",
   "execution_count": null,
   "metadata": {
    "id": "wA18-60osViC"
   },
   "outputs": [],
   "source": [
    "chklist = [1,2,44,51,444,20]"
   ]
  },
  {
   "cell_type": "code",
   "execution_count": null,
   "metadata": {
    "id": "uUcW4tNHsViD",
    "outputId": "17f9249e-2d8a-45ef-f5b7-fe1224f34798"
   },
   "outputs": [
    {
     "name": "stdout",
     "output_type": "stream",
     "text": [
      "List has number greater than 50\n",
      "List has number greater than 50\n"
     ]
    }
   ],
   "source": [
    "my_check(chklist)"
   ]
  },
  {
   "cell_type": "code",
   "execution_count": null,
   "metadata": {
    "id": "wWFBe8JusViD",
    "outputId": "c9f3614e-6373-43f1-fbfe-30f413e170c9"
   },
   "outputs": [
    {
     "name": "stdout",
     "output_type": "stream",
     "text": [
      "List has number greater than 50\n"
     ]
    }
   ],
   "source": [
    "my_check([1,2,300])"
   ]
  },
  {
   "cell_type": "code",
   "execution_count": null,
   "metadata": {
    "id": "-PM30kI4sViD"
   },
   "outputs": [],
   "source": [
    "def my_check(mylist):\n",
    "    for i in mylist:\n",
    "        if i > 50:\n",
    "            print('List has number greater than 50')\n",
    "            break\n",
    "        else:\n",
    "            pass"
   ]
  },
  {
   "cell_type": "code",
   "execution_count": null,
   "metadata": {
    "id": "xDumiQcfsViE",
    "outputId": "69db9426-e726-4d70-9633-6b0a4ba5cc63"
   },
   "outputs": [
    {
     "name": "stdout",
     "output_type": "stream",
     "text": [
      "List has number greater than 50\n"
     ]
    }
   ],
   "source": [
    "my_check(chklist)"
   ]
  },
  {
   "cell_type": "code",
   "execution_count": null,
   "metadata": {
    "id": "HJiqvPjesViE"
   },
   "outputs": [],
   "source": [
    "def my_check(mylist):\n",
    "    for i in mylist:\n",
    "        if i > 50:\n",
    "            print('List has number greater than 50')\n",
    "#            return(i)            \n",
    "        else:\n",
    "            pass"
   ]
  },
  {
   "cell_type": "code",
   "execution_count": null,
   "metadata": {
    "id": "iI6si6ynsViF",
    "outputId": "55c86ca8-ef9b-40e8-870d-bf1d4500d284"
   },
   "outputs": [
    {
     "name": "stdout",
     "output_type": "stream",
     "text": [
      "List has number greater than 50\n",
      "List has number greater than 50\n"
     ]
    }
   ],
   "source": [
    "myli = my_check(chklist)"
   ]
  },
  {
   "cell_type": "code",
   "execution_count": null,
   "metadata": {
    "id": "iZALubPpsViF",
    "outputId": "e29ef1b5-52a7-4977-f79c-84f048a1988d"
   },
   "outputs": [
    {
     "data": {
      "text/plain": [
       "51"
      ]
     },
     "execution_count": 157,
     "metadata": {
      "tags": []
     },
     "output_type": "execute_result"
    }
   ],
   "source": [
    "myli"
   ]
  },
  {
   "cell_type": "code",
   "execution_count": null,
   "metadata": {
    "id": "grYOHROOsViF"
   },
   "outputs": [],
   "source": [
    "def mychk(mylist):\n",
    "    for i in mylist:\n",
    "        print(i)"
   ]
  },
  {
   "cell_type": "code",
   "execution_count": null,
   "metadata": {
    "id": "0BTuJnmfsViF",
    "outputId": "ceeb581c-22e1-4083-f9f3-dae09bba4160"
   },
   "outputs": [
    {
     "name": "stdout",
     "output_type": "stream",
     "text": [
      "1\n",
      "2\n",
      "44\n",
      "51\n",
      "444\n",
      "2\n"
     ]
    }
   ],
   "source": [
    "mychk(chklist)"
   ]
  },
  {
   "cell_type": "code",
   "execution_count": null,
   "metadata": {
    "id": "KarRwmQ9sViG"
   },
   "outputs": [],
   "source": [
    "def mychk(mylist):\n",
    "    for i in mylist:\n",
    "        return i"
   ]
  },
  {
   "cell_type": "code",
   "execution_count": null,
   "metadata": {
    "id": "XvBkEDDisViG"
   },
   "outputs": [],
   "source": [
    "li = mychk(chklist)"
   ]
  },
  {
   "cell_type": "code",
   "execution_count": null,
   "metadata": {
    "id": "sYOAWa9HsViG",
    "outputId": "3e70d49a-8b2a-4f44-a50c-0471cc8b1c71"
   },
   "outputs": [
    {
     "data": {
      "text/plain": [
       "1"
      ]
     },
     "execution_count": 168,
     "metadata": {
      "tags": []
     },
     "output_type": "execute_result"
    }
   ],
   "source": [
    "li"
   ]
  },
  {
   "cell_type": "code",
   "execution_count": null,
   "metadata": {
    "id": "guXVKw8YsViG"
   },
   "outputs": [],
   "source": [
    "mylist1 = []\n",
    "def mychk(mylist):\n",
    "    for i in mylist:\n",
    "        mylist1.append(i)\n",
    "    return i"
   ]
  },
  {
   "cell_type": "code",
   "execution_count": null,
   "metadata": {
    "id": "zPb5jRsgsViG",
    "outputId": "baf29e9c-454e-4e68-c545-33fa48a374ac"
   },
   "outputs": [
    {
     "data": {
      "text/plain": [
       "[]"
      ]
     },
     "execution_count": 178,
     "metadata": {
      "tags": []
     },
     "output_type": "execute_result"
    }
   ],
   "source": [
    "mylist1"
   ]
  },
  {
   "cell_type": "code",
   "execution_count": null,
   "metadata": {
    "id": "yJWBib_qsViH"
   },
   "outputs": [],
   "source": [
    "abc = mychk(chklist)"
   ]
  },
  {
   "cell_type": "code",
   "execution_count": null,
   "metadata": {
    "id": "DDa-N9g8sViH",
    "outputId": "a3422cbc-b877-4358-8fd3-52b0af0d4eac"
   },
   "outputs": [
    {
     "data": {
      "text/plain": [
       "20"
      ]
     },
     "execution_count": 180,
     "metadata": {
      "tags": []
     },
     "output_type": "execute_result"
    }
   ],
   "source": [
    "abc"
   ]
  },
  {
   "cell_type": "code",
   "execution_count": null,
   "metadata": {
    "id": "BclereNGsViH",
    "outputId": "cd4439b9-4d46-4228-cf82-9638bcf0c99f"
   },
   "outputs": [
    {
     "data": {
      "text/plain": [
       "[1, 2, 44, 51, 444, 20]"
      ]
     },
     "execution_count": 181,
     "metadata": {
      "tags": []
     },
     "output_type": "execute_result"
    }
   ],
   "source": [
    "mylist1"
   ]
  },
  {
   "cell_type": "code",
   "execution_count": null,
   "metadata": {
    "id": "-JpfQBZ_sViI"
   },
   "outputs": [],
   "source": [
    "\n",
    "def mychk(mylist):\n",
    "    mylist1 = []\n",
    "    for i in mylist:\n",
    "        if i > 50:\n",
    "            mylist1.append(i)\n",
    "    return mylist1"
   ]
  },
  {
   "cell_type": "code",
   "execution_count": null,
   "metadata": {
    "id": "REOLOWr2sViI"
   },
   "outputs": [],
   "source": [
    "abc = mychk(chklist)"
   ]
  },
  {
   "cell_type": "code",
   "execution_count": null,
   "metadata": {
    "id": "oDN27OXusViI",
    "outputId": "f00f2952-66f6-4c01-9711-1e3d644d0aff"
   },
   "outputs": [
    {
     "data": {
      "text/plain": [
       "[51, 444]"
      ]
     },
     "execution_count": 200,
     "metadata": {
      "tags": []
     },
     "output_type": "execute_result"
    }
   ],
   "source": [
    "abc"
   ]
  },
  {
   "cell_type": "code",
   "execution_count": null,
   "metadata": {
    "id": "BMKIik0dsViJ"
   },
   "outputs": [],
   "source": [
    "# Tuples unpacking example"
   ]
  },
  {
   "cell_type": "code",
   "execution_count": null,
   "metadata": {
    "id": "Z-mGQuOWsViJ"
   },
   "outputs": [],
   "source": [
    "marks = [('Ron',35),('Bob',44),('Robin',48),('Eva',50)]"
   ]
  },
  {
   "cell_type": "code",
   "execution_count": null,
   "metadata": {
    "id": "Tr5o9dW9sViJ"
   },
   "outputs": [],
   "source": [
    "# Write a function to find out who scored maximum marks and the maximum marks scored"
   ]
  },
  {
   "cell_type": "code",
   "execution_count": null,
   "metadata": {
    "id": "o2TD3SSNsViJ"
   },
   "outputs": [],
   "source": [
    "def max_marks(marks):\n",
    "    '''function to find out who scored maximum marks and the maximum marks scored'''\n",
    "    maxmarks = 0\n",
    "    maxname = ''\n",
    "    for name, marks in marks:\n",
    "        if marks > maxmarks:\n",
    "            maxmarks = marks\n",
    "            maxname = name\n",
    "        else:\n",
    "            pass\n",
    "    return(maxname,maxmarks)\n",
    "    "
   ]
  },
  {
   "cell_type": "code",
   "execution_count": null,
   "metadata": {
    "id": "P1MCT51fsViJ",
    "outputId": "9d3de7ca-b103-4c5a-ff91-5446c4d0ef73"
   },
   "outputs": [
    {
     "data": {
      "text/plain": [
       "('Eva', 50)"
      ]
     },
     "execution_count": 225,
     "metadata": {
      "tags": []
     },
     "output_type": "execute_result"
    }
   ],
   "source": [
    "max_marks(marks)"
   ]
  },
  {
   "cell_type": "code",
   "execution_count": null,
   "metadata": {
    "id": "_HMsa0F0sViK"
   },
   "outputs": [],
   "source": [
    "name,marks = max_marks(marks)"
   ]
  },
  {
   "cell_type": "code",
   "execution_count": null,
   "metadata": {
    "id": "22w-EdgmsViK",
    "outputId": "68830f48-5326-4b43-fb1d-0e74e4772604"
   },
   "outputs": [
    {
     "name": "stdout",
     "output_type": "stream",
     "text": [
      "Eva\n",
      "50\n"
     ]
    }
   ],
   "source": [
    "print(name)\n",
    "print(marks)"
   ]
  },
  {
   "cell_type": "markdown",
   "metadata": {
    "id": "rXY3r3C1sViK"
   },
   "source": [
    "# Scope Of Varaibles in Functions\n",
    "1. Understanding Local & Global Variable\n",
    "2. Local Varaible - Variable that is defined inside the function & it is not accessible out side the function "
   ]
  },
  {
   "cell_type": "code",
   "execution_count": null,
   "metadata": {
    "id": "ZyIqlzyAsViK"
   },
   "outputs": [],
   "source": [
    "def fun_sqr(para):\n",
    "    value = para**2\n",
    "    print(value)"
   ]
  },
  {
   "cell_type": "code",
   "execution_count": null,
   "metadata": {
    "id": "qCTLYydnsViK",
    "outputId": "cbe76431-2507-41ed-8294-082375b7f5cd"
   },
   "outputs": [
    {
     "ename": "NameError",
     "evalue": "name 'value' is not defined",
     "output_type": "error",
     "traceback": [
      "\u001b[1;31m---------------------------------------------------------------------------\u001b[0m",
      "\u001b[1;31mNameError\u001b[0m                                 Traceback (most recent call last)",
      "\u001b[1;32m<ipython-input-2-a458d288e6eb>\u001b[0m in \u001b[0;36m<module>\u001b[1;34m\u001b[0m\n\u001b[1;32m----> 1\u001b[1;33m \u001b[0mprint\u001b[0m\u001b[1;33m(\u001b[0m\u001b[0mvalue\u001b[0m\u001b[1;33m)\u001b[0m\u001b[1;33m\u001b[0m\u001b[1;33m\u001b[0m\u001b[0m\n\u001b[0m",
      "\u001b[1;31mNameError\u001b[0m: name 'value' is not defined"
     ]
    }
   ],
   "source": [
    "print(value)"
   ]
  },
  {
   "cell_type": "code",
   "execution_count": null,
   "metadata": {
    "id": "W-Q5cQKbsViL"
   },
   "outputs": [],
   "source": [
    "num = 7\n",
    "def func_num():\n",
    "    num = 10\n",
    "    return(num)"
   ]
  },
  {
   "cell_type": "code",
   "execution_count": null,
   "metadata": {
    "id": "-O4fTCSAsViL",
    "outputId": "1eb5c9a7-bdd9-477d-e827-3b40eabc5c74"
   },
   "outputs": [
    {
     "name": "stdout",
     "output_type": "stream",
     "text": [
      "7\n"
     ]
    }
   ],
   "source": [
    "print(num)"
   ]
  },
  {
   "cell_type": "code",
   "execution_count": null,
   "metadata": {
    "id": "FTeIjg_0sViL",
    "outputId": "78ecbb1f-00f6-4365-83f5-e9d1a9f1b5ef"
   },
   "outputs": [
    {
     "data": {
      "text/plain": [
       "10"
      ]
     },
     "execution_count": 20,
     "metadata": {
      "tags": []
     },
     "output_type": "execute_result"
    }
   ],
   "source": [
    "func_num()"
   ]
  },
  {
   "cell_type": "code",
   "execution_count": null,
   "metadata": {
    "id": "bUn8Pg5VsViL"
   },
   "outputs": [],
   "source": [
    "val1 = 10\n",
    "val2 = 20"
   ]
  },
  {
   "cell_type": "code",
   "execution_count": null,
   "metadata": {
    "id": "jVFCGxymsViM"
   },
   "outputs": [],
   "source": [
    "def fun_sqr_scope():\n",
    "    val2 = val1**2\n",
    "    #print('val2 coming from inside the function',val2)\n",
    "    return(val2)"
   ]
  },
  {
   "cell_type": "code",
   "execution_count": null,
   "metadata": {
    "id": "EtXCYCxpsViM"
   },
   "outputs": [],
   "source": [
    "val3 = fun_sqr_scope()"
   ]
  },
  {
   "cell_type": "code",
   "execution_count": null,
   "metadata": {
    "id": "XZrpukH1sViM",
    "outputId": "5cdecb32-53ad-4aee-ec8f-19783ca87913"
   },
   "outputs": [
    {
     "data": {
      "text/plain": [
       "100"
      ]
     },
     "execution_count": 13,
     "metadata": {
      "tags": []
     },
     "output_type": "execute_result"
    }
   ],
   "source": [
    "val3"
   ]
  },
  {
   "cell_type": "code",
   "execution_count": null,
   "metadata": {
    "id": "e1_AGo0FsViM",
    "outputId": "4b8450e9-b2d6-40d7-a515-92ff01cddb61"
   },
   "outputs": [
    {
     "data": {
      "text/plain": [
       "10"
      ]
     },
     "execution_count": 14,
     "metadata": {
      "tags": []
     },
     "output_type": "execute_result"
    }
   ],
   "source": [
    "val1"
   ]
  },
  {
   "cell_type": "code",
   "execution_count": null,
   "metadata": {
    "id": "5xXBIhsXsViM",
    "outputId": "265b444e-bb38-45a4-904a-07571671db74"
   },
   "outputs": [
    {
     "data": {
      "text/plain": [
       "20"
      ]
     },
     "execution_count": 15,
     "metadata": {
      "tags": []
     },
     "output_type": "execute_result"
    }
   ],
   "source": [
    "val2"
   ]
  },
  {
   "cell_type": "markdown",
   "metadata": {
    "id": "qarW1wf1sViN"
   },
   "source": [
    "# LEGB  Rule (Local -> Enclosing -> Global -> Built-in)"
   ]
  },
  {
   "cell_type": "markdown",
   "metadata": {
    "id": "aImC7NH4sViN"
   },
   "source": [
    "* Scope - Part of a program where object or name of a variable is accessible\n",
    "\n",
    "* Local - Variables created or names assigned within a function (def or lambda). \n",
    "Not declared global in that function\n",
    "\n",
    "* Enclosing/Nested Functions - Variables created or names assigned are in local scope of enclosing function if any. Python will look for names 1st inside the functions than outside of it.\n",
    "\n",
    "* Global - Variables created or names assigned at the top level. That is declared outside the function or declared global inside def or inside a function. Global variable can be accessed from inside and outside of the function\n",
    "\n",
    "* Built-in - This is the widest scope that exists! All the special reserved keywords fall under this scope. We can call the keywords anywhere within our program without having to define them before use.\n",
    "Keywords are simply special reserved words. They are kept for specific purposes and cannot be used for any other purpose in the program.\n"
   ]
  },
  {
   "cell_type": "code",
   "execution_count": null,
   "metadata": {
    "id": "8gHaJaXgsViN"
   },
   "outputs": [],
   "source": [
    " var1 = 'I am Global. Created outside the functions'\n",
    "def func_outer():\n",
    "    var1 = 'I am local to outside function'\n",
    "        \n",
    "    def func_inner():\n",
    "        var1 = 'I am local to inner function'\n",
    "        print(var1)\n",
    "    func_inner()"
   ]
  },
  {
   "cell_type": "code",
   "execution_count": null,
   "metadata": {
    "id": "V32eXiP0sViO",
    "outputId": "6ce7c98c-d3d6-46d1-eb7e-b644f9f93e85"
   },
   "outputs": [
    {
     "name": "stdout",
     "output_type": "stream",
     "text": [
      "I am local to inner function\n"
     ]
    }
   ],
   "source": [
    "func_outer()"
   ]
  },
  {
   "cell_type": "code",
   "execution_count": null,
   "metadata": {
    "id": "q4zlQozssViO"
   },
   "outputs": [],
   "source": [
    " var1 = 'I am Global. Created outside the functions'\n",
    "def func_outer():\n",
    "    var1 = 'I am local to outside function'\n",
    "        \n",
    "    def func_inner():\n",
    "        \n",
    "        print(var1)\n",
    "    func_inner()"
   ]
  },
  {
   "cell_type": "code",
   "execution_count": null,
   "metadata": {
    "id": "RD4IGpq5sViO",
    "outputId": "0060c3d1-f02e-4c19-ba9f-2262d9a01b4c"
   },
   "outputs": [
    {
     "name": "stdout",
     "output_type": "stream",
     "text": [
      "I am local to outside function\n"
     ]
    }
   ],
   "source": [
    "func_outer()"
   ]
  },
  {
   "cell_type": "code",
   "execution_count": null,
   "metadata": {
    "id": "xLStflpqsViP"
   },
   "outputs": [],
   "source": [
    " var1 = 'I am Global. Created outside the functions'\n",
    "def func_outer():\n",
    "    \n",
    "        \n",
    "    def func_inner():\n",
    "        \n",
    "        print(var1)\n",
    "    func_inner()"
   ]
  },
  {
   "cell_type": "code",
   "execution_count": null,
   "metadata": {
    "id": "dkPyf_h8sViP",
    "outputId": "f3a2df48-2495-434e-f4d7-0f9381932260"
   },
   "outputs": [
    {
     "name": "stdout",
     "output_type": "stream",
     "text": [
      "I am Global. Created outside the functions\n"
     ]
    }
   ],
   "source": [
    "func_outer()"
   ]
  },
  {
   "cell_type": "code",
   "execution_count": null,
   "metadata": {
    "id": "TTiU0YZasViP"
   },
   "outputs": [],
   "source": [
    "# Never overwrite builtin functions\n",
    "# Built-in names are at the highest level. We don't have to define them. \n",
    "# example - print function I can cal anywhere. Inner function or outer function or outside the function"
   ]
  },
  {
   "cell_type": "markdown",
   "metadata": {
    "id": "uyKfMXa6sViP"
   },
   "source": [
    "# Global Keyword \n",
    "* We can change the value of global variable from inside the function using the Global Keyword"
   ]
  },
  {
   "cell_type": "code",
   "execution_count": null,
   "metadata": {
    "id": "hrcwSaTAsViP"
   },
   "outputs": [],
   "source": [
    "# Updating the value of global variable from inside the function\n",
    "\n",
    "myval = 100\n",
    "\n",
    "def func_chng_gl():\n",
    "    print(myval)"
   ]
  },
  {
   "cell_type": "code",
   "execution_count": null,
   "metadata": {
    "id": "19uFtyA_sViQ",
    "outputId": "d4ec2576-b9b2-4a73-db56-59a60dd1fe48"
   },
   "outputs": [
    {
     "name": "stdout",
     "output_type": "stream",
     "text": [
      "100\n"
     ]
    }
   ],
   "source": [
    "func_chng_gl()"
   ]
  },
  {
   "cell_type": "code",
   "execution_count": null,
   "metadata": {
    "id": "e9KN7NaDsViQ"
   },
   "outputs": [],
   "source": [
    "myval = 100\n",
    "\n",
    "def func_chng_gl():\n",
    "    myval = 'I am local'\n",
    "    print(myval)"
   ]
  },
  {
   "cell_type": "code",
   "execution_count": null,
   "metadata": {
    "id": "kL61uzzZsViQ",
    "outputId": "402128d7-da01-4528-f3b8-9441e777f4ec"
   },
   "outputs": [
    {
     "name": "stdout",
     "output_type": "stream",
     "text": [
      "I am local\n"
     ]
    }
   ],
   "source": [
    "func_chng_gl()"
   ]
  },
  {
   "cell_type": "code",
   "execution_count": null,
   "metadata": {
    "id": "F66gmgFhsViQ",
    "outputId": "2ad16305-54aa-411f-b159-a633fed579b4"
   },
   "outputs": [
    {
     "data": {
      "text/plain": [
       "100"
      ]
     },
     "execution_count": 38,
     "metadata": {
      "tags": []
     },
     "output_type": "execute_result"
    }
   ],
   "source": [
    "myval"
   ]
  },
  {
   "cell_type": "code",
   "execution_count": null,
   "metadata": {
    "id": "nwvc5HGAsViR"
   },
   "outputs": [],
   "source": [
    "myval = 100\n",
    "\n",
    "def func_chng_gl():\n",
    "    global myval\n",
    "    myval = 'I am local'\n",
    "    print(myval)"
   ]
  },
  {
   "cell_type": "code",
   "execution_count": null,
   "metadata": {
    "id": "p81LUCOgsViR",
    "outputId": "d7df5200-5765-47f8-9ea5-6c13f3443e9c"
   },
   "outputs": [
    {
     "data": {
      "text/plain": [
       "100"
      ]
     },
     "execution_count": 40,
     "metadata": {
      "tags": []
     },
     "output_type": "execute_result"
    }
   ],
   "source": [
    "myval"
   ]
  },
  {
   "cell_type": "code",
   "execution_count": null,
   "metadata": {
    "id": "AYsfoOkisViR",
    "outputId": "a73dbbf0-6bc3-4d89-e605-601fdf8b31c0"
   },
   "outputs": [
    {
     "name": "stdout",
     "output_type": "stream",
     "text": [
      "I am local\n"
     ]
    }
   ],
   "source": [
    "func_chng_gl()"
   ]
  },
  {
   "cell_type": "code",
   "execution_count": null,
   "metadata": {
    "id": "VZSZlQ4dsViR",
    "outputId": "1d8764d6-bc62-4c75-f113-abaf811660fb"
   },
   "outputs": [
    {
     "data": {
      "text/plain": [
       "'I am local'"
      ]
     },
     "execution_count": 42,
     "metadata": {
      "tags": []
     },
     "output_type": "execute_result"
    }
   ],
   "source": [
    "myval"
   ]
  },
  {
   "cell_type": "code",
   "execution_count": null,
   "metadata": {
    "id": "kFDvSYVhsViR",
    "outputId": "e1e992b8-6f72-4c5a-8e72-59d679fd006a"
   },
   "outputs": [
    {
     "name": "stdout",
     "output_type": "stream",
     "text": [
      "I am local\n"
     ]
    }
   ],
   "source": [
    "print(myval)"
   ]
  },
  {
   "cell_type": "code",
   "execution_count": null,
   "metadata": {
    "id": "JB0bStxhsViS"
   },
   "outputs": [],
   "source": [
    "myval = 100\n",
    "def my_sqr():\n",
    "    global myval\n",
    "    myval = myval**2\n",
    "    return(myval)"
   ]
  },
  {
   "cell_type": "code",
   "execution_count": null,
   "metadata": {
    "id": "EGLq47V7sViS",
    "outputId": "354cc2c3-ac94-4e70-94f6-f3117042eb51"
   },
   "outputs": [
    {
     "data": {
      "text/plain": [
       "100"
      ]
     },
     "execution_count": 52,
     "metadata": {
      "tags": []
     },
     "output_type": "execute_result"
    }
   ],
   "source": [
    "myval"
   ]
  },
  {
   "cell_type": "code",
   "execution_count": null,
   "metadata": {
    "id": "K0K87xh2sViS",
    "outputId": "d8769786-d49e-4158-f4e6-384c2b3090c1"
   },
   "outputs": [
    {
     "data": {
      "text/plain": [
       "10000"
      ]
     },
     "execution_count": 53,
     "metadata": {
      "tags": []
     },
     "output_type": "execute_result"
    }
   ],
   "source": [
    "my_sqr()"
   ]
  },
  {
   "cell_type": "code",
   "execution_count": null,
   "metadata": {
    "id": "xN0CqbQMsViS",
    "outputId": "2525edb1-1465-4d58-b75e-8573dc7a40fd"
   },
   "outputs": [
    {
     "data": {
      "text/plain": [
       "10000"
      ]
     },
     "execution_count": 54,
     "metadata": {
      "tags": []
     },
     "output_type": "execute_result"
    }
   ],
   "source": [
    "myval"
   ]
  },
  {
   "cell_type": "code",
   "execution_count": null,
   "metadata": {
    "id": "CHRKy1ITsViT"
   },
   "outputs": [],
   "source": [
    "# I can still update the value of global variable form inside without using global keyword"
   ]
  },
  {
   "cell_type": "code",
   "execution_count": null,
   "metadata": {
    "id": "8C80e4pysViT"
   },
   "outputs": [],
   "source": [
    "myval = 7\n",
    "def my_cube(mypara):\n",
    "    myval = mypara**3\n",
    "    return myval"
   ]
  },
  {
   "cell_type": "code",
   "execution_count": null,
   "metadata": {
    "id": "L1UqTyRZsViT",
    "outputId": "0083c268-383d-4fb2-93ce-0d252d307b55"
   },
   "outputs": [
    {
     "data": {
      "text/plain": [
       "7"
      ]
     },
     "execution_count": 63,
     "metadata": {
      "tags": []
     },
     "output_type": "execute_result"
    }
   ],
   "source": [
    "myval"
   ]
  },
  {
   "cell_type": "code",
   "execution_count": null,
   "metadata": {
    "id": "-2b43fSjsViT"
   },
   "outputs": [],
   "source": [
    "myval = my_cube(myval)"
   ]
  },
  {
   "cell_type": "code",
   "execution_count": null,
   "metadata": {
    "id": "jkL4zzs8sViT",
    "outputId": "b5f9f537-7c17-472e-e756-0522ce0027aa"
   },
   "outputs": [
    {
     "data": {
      "text/plain": [
       "343"
      ]
     },
     "execution_count": 65,
     "metadata": {
      "tags": []
     },
     "output_type": "execute_result"
    }
   ],
   "source": [
    "myval"
   ]
  },
  {
   "cell_type": "markdown",
   "metadata": {
    "id": "0I3pzxcPsViU"
   },
   "source": [
    "# Nested Functions"
   ]
  },
  {
   "cell_type": "code",
   "execution_count": null,
   "metadata": {
    "id": "NScDbcgnsViU"
   },
   "outputs": [],
   "source": [
    "# Returning functions\n",
    "def raise_pow(n):\n",
    "    '''return the inner function'''\n",
    "    def inner(x):\n",
    "        '''raise x to the power n'''\n",
    "        value = x**n\n",
    "        return value\n",
    "    return inner(n)"
   ]
  },
  {
   "cell_type": "code",
   "execution_count": null,
   "metadata": {
    "id": "DkMywevxsViU"
   },
   "outputs": [],
   "source": [
    "to_power = raise_pow(10)"
   ]
  },
  {
   "cell_type": "code",
   "execution_count": null,
   "metadata": {
    "id": "aAsukvfzsViU",
    "outputId": "019b9124-04d6-460e-c162-f2000a633696"
   },
   "outputs": [
    {
     "data": {
      "text/plain": [
       "10000000000"
      ]
     },
     "execution_count": 68,
     "metadata": {
      "tags": []
     },
     "output_type": "execute_result"
    }
   ],
   "source": [
    "to_power"
   ]
  },
  {
   "cell_type": "code",
   "execution_count": null,
   "metadata": {
    "id": "fnPMHiiJsViV",
    "outputId": "96715911-196a-4195-e2a5-a7091590e063"
   },
   "outputs": [
    {
     "data": {
      "text/plain": [
       "4"
      ]
     },
     "execution_count": 69,
     "metadata": {
      "tags": []
     },
     "output_type": "execute_result"
    }
   ],
   "source": [
    "raise_pow(2)"
   ]
  },
  {
   "cell_type": "markdown",
   "metadata": {
    "id": "3bJhluqWsViV"
   },
   "source": [
    "# Nonlocal Keyword \n",
    "* Using nonlocal keyword we can change the value of outer scoped variable."
   ]
  },
  {
   "cell_type": "code",
   "execution_count": null,
   "metadata": {
    "id": "EZfPPIUqsViV"
   },
   "outputs": [],
   "source": [
    "def outer():\n",
    "    '''print the value'''\n",
    "    n = 7\n",
    "    def inner():\n",
    "        nonlocal n\n",
    "        n = n**2\n",
    "        print(n)\n",
    "    inner()\n",
    "    print(n)"
   ]
  },
  {
   "cell_type": "code",
   "execution_count": null,
   "metadata": {
    "id": "GC0rY1JpsViV",
    "outputId": "528453c7-8e8b-4485-ef12-e771ba870d54"
   },
   "outputs": [
    {
     "name": "stdout",
     "output_type": "stream",
     "text": [
      "49\n",
      "49\n"
     ]
    }
   ],
   "source": [
    "outer()"
   ]
  },
  {
   "cell_type": "code",
   "execution_count": null,
   "metadata": {
    "id": "zxxEi3qGsViV"
   },
   "outputs": [],
   "source": [
    "n = 5\n",
    "def outer():\n",
    "    '''print the value'''\n",
    "    n = 7\n",
    "    def inner():\n",
    "        global n\n",
    "        print(n)\n",
    "        n = n**2\n",
    "        print(n)\n",
    "    inner()\n",
    "    print(n)"
   ]
  },
  {
   "cell_type": "code",
   "execution_count": null,
   "metadata": {
    "id": "ULAHv8wZsViW",
    "outputId": "592c17df-edca-4123-cf61-257e661930e6"
   },
   "outputs": [
    {
     "name": "stdout",
     "output_type": "stream",
     "text": [
      "5\n",
      "25\n",
      "7\n"
     ]
    }
   ],
   "source": [
    "outer()"
   ]
  },
  {
   "cell_type": "code",
   "execution_count": null,
   "metadata": {
    "id": "cOl7FaPUsViW",
    "outputId": "02845bed-e0ff-41fc-b06f-00cedfdd98fb"
   },
   "outputs": [
    {
     "name": "stdout",
     "output_type": "stream",
     "text": [
      "25\n"
     ]
    }
   ],
   "source": [
    "print(n)"
   ]
  },
  {
   "cell_type": "code",
   "execution_count": null,
   "metadata": {
    "id": "wq34-RwSsViW"
   },
   "outputs": [],
   "source": [
    "n = 5\n",
    "def outer():\n",
    "    '''print the value'''\n",
    "    global n\n",
    "    print(n)\n",
    "    n = 7\n",
    "    print(n)\n",
    "    def inner():\n",
    "        global n\n",
    "        print(n)\n",
    "        n = n**2\n",
    "        print(n)\n",
    "    inner()\n",
    "    print(n)"
   ]
  },
  {
   "cell_type": "code",
   "execution_count": null,
   "metadata": {
    "id": "foq6zAz6sViW",
    "outputId": "b6b5db68-34ee-48f2-8154-40bb63188bdc"
   },
   "outputs": [
    {
     "name": "stdout",
     "output_type": "stream",
     "text": [
      "5\n",
      "7\n",
      "7\n",
      "49\n",
      "49\n"
     ]
    }
   ],
   "source": [
    "outer()"
   ]
  },
  {
   "cell_type": "code",
   "execution_count": null,
   "metadata": {
    "id": "wVbnCCVTsViX"
   },
   "outputs": [],
   "source": [
    "def outer():\n",
    "    '''print the value'''\n",
    "    n = 5\n",
    "    def inner():\n",
    "        nonlocal n\n",
    "        n = 100\n",
    "        print(n)\n",
    "    inner()\n",
    "    print(n)"
   ]
  },
  {
   "cell_type": "code",
   "execution_count": null,
   "metadata": {
    "id": "kDhidfajsViX",
    "outputId": "b4df940e-384f-45d3-9757-23fbd3e43aee"
   },
   "outputs": [
    {
     "name": "stdout",
     "output_type": "stream",
     "text": [
      "100\n",
      "100\n"
     ]
    }
   ],
   "source": [
    "outer()"
   ]
  },
  {
   "cell_type": "code",
   "execution_count": null,
   "metadata": {
    "id": "IK1sJOk0sViX",
    "outputId": "2061bbeb-d684-41a4-8655-d61e4e1c53a5"
   },
   "outputs": [
    {
     "name": "stdout",
     "output_type": "stream",
     "text": [
      "The \"nonlocal\" statement\n",
      "************************\n",
      "\n",
      "   nonlocal_stmt ::= \"nonlocal\" identifier (\",\" identifier)*\n",
      "\n",
      "The \"nonlocal\" statement causes the listed identifiers to refer to\n",
      "previously bound variables in the nearest enclosing scope excluding\n",
      "globals. This is important because the default behavior for binding is\n",
      "to search the local namespace first.  The statement allows\n",
      "encapsulated code to rebind variables outside of the local scope\n",
      "besides the global (module) scope.\n",
      "\n",
      "Names listed in a \"nonlocal\" statement, unlike those listed in a\n",
      "\"global\" statement, must refer to pre-existing bindings in an\n",
      "enclosing scope (the scope in which a new binding should be created\n",
      "cannot be determined unambiguously).\n",
      "\n",
      "Names listed in a \"nonlocal\" statement must not collide with pre-\n",
      "existing bindings in the local scope.\n",
      "\n",
      "See also:\n",
      "\n",
      "  **PEP 3104** - Access to Names in Outer Scopes\n",
      "     The specification for the \"nonlocal\" statement.\n",
      "\n",
      "Related help topics: global, NAMESPACES\n",
      "\n"
     ]
    }
   ],
   "source": [
    "help('nonlocal')\n"
   ]
  },
  {
   "cell_type": "markdown",
   "metadata": {
    "id": "8Uix8oDqsViX"
   },
   "source": [
    "#  \\**Args & \\***Kwargs\n",
    "    "
   ]
  },
  {
   "cell_type": "markdown",
   "metadata": {
    "id": "hMrgSGAgsViY"
   },
   "source": [
    "# *Args\n",
    "*Args - Non-keyword argument. We can pass variable number of arguments to a function using a special symbol *\n",
    " Using the *, the variable that we associate with the * becomes an iterable. We can iterate over it, run some higher-order functions such as map and filter, etc."
   ]
  },
  {
   "cell_type": "code",
   "execution_count": null,
   "metadata": {
    "id": "gARtUXF2sViY"
   },
   "outputs": [],
   "source": [
    "# If we have to add two numbers\n",
    "def add_num(a,b):\n",
    "    return(sum((a,b)))"
   ]
  },
  {
   "cell_type": "code",
   "execution_count": null,
   "metadata": {
    "id": "SUr0QE8ssViY",
    "outputId": "9eaf210c-0baa-491b-e617-fd1763b7af91"
   },
   "outputs": [
    {
     "data": {
      "text/plain": [
       "3"
      ]
     },
     "execution_count": 4,
     "metadata": {
      "tags": []
     },
     "output_type": "execute_result"
    }
   ],
   "source": [
    "add_num(1,2)"
   ]
  },
  {
   "cell_type": "code",
   "execution_count": null,
   "metadata": {
    "id": "CEy5Qcw6sViZ"
   },
   "outputs": [],
   "source": [
    "# If we have unknow numbero of in parameters \n",
    "def add_num(*a):\n",
    "    return(sum((a)))"
   ]
  },
  {
   "cell_type": "code",
   "execution_count": null,
   "metadata": {
    "id": "mq-Etq0ksViZ",
    "outputId": "ebb7c7fd-2bbc-4fce-fe6c-3b2c03dab089"
   },
   "outputs": [
    {
     "data": {
      "text/plain": [
       "1"
      ]
     },
     "execution_count": 6,
     "metadata": {
      "tags": []
     },
     "output_type": "execute_result"
    }
   ],
   "source": [
    "add_num(1)"
   ]
  },
  {
   "cell_type": "code",
   "execution_count": null,
   "metadata": {
    "id": "2C2zwh8qsVia",
    "outputId": "637c5767-6dc8-4011-dcf3-f853c381e38f"
   },
   "outputs": [
    {
     "data": {
      "text/plain": [
       "3"
      ]
     },
     "execution_count": 7,
     "metadata": {
      "tags": []
     },
     "output_type": "execute_result"
    }
   ],
   "source": [
    "add_num(1,2)"
   ]
  },
  {
   "cell_type": "code",
   "execution_count": null,
   "metadata": {
    "id": "OB_aORHNsVia",
    "outputId": "75f1a9e5-6e22-4f61-c384-77f657bb9eab"
   },
   "outputs": [
    {
     "data": {
      "text/plain": [
       "6"
      ]
     },
     "execution_count": 8,
     "metadata": {
      "tags": []
     },
     "output_type": "execute_result"
    }
   ],
   "source": [
    "add_num(1,2,3)"
   ]
  },
  {
   "cell_type": "code",
   "execution_count": null,
   "metadata": {
    "id": "rNXByFYzsVib",
    "outputId": "af0ff001-de4c-4641-b88a-926ac8866e96"
   },
   "outputs": [
    {
     "data": {
      "text/plain": [
       "0"
      ]
     },
     "execution_count": 9,
     "metadata": {
      "tags": []
     },
     "output_type": "execute_result"
    }
   ],
   "source": [
    "add_num()"
   ]
  },
  {
   "cell_type": "code",
   "execution_count": null,
   "metadata": {
    "id": "6TJePgTcsVib"
   },
   "outputs": [],
   "source": [
    "def flex_args(*args):\n",
    "    print(args)"
   ]
  },
  {
   "cell_type": "code",
   "execution_count": null,
   "metadata": {
    "id": "9EDp8H5psVio",
    "outputId": "167a424b-4899-4651-c1e6-da571dd7652b"
   },
   "outputs": [
    {
     "name": "stdout",
     "output_type": "stream",
     "text": [
      "(1, 2, 3)\n"
     ]
    }
   ],
   "source": [
    "flex_args(1,2,3)"
   ]
  },
  {
   "cell_type": "code",
   "execution_count": null,
   "metadata": {
    "id": "92z6lT2GsVip",
    "outputId": "7febdc63-a828-49f5-d1ad-e725c6a2ef88"
   },
   "outputs": [
    {
     "name": "stdout",
     "output_type": "stream",
     "text": [
      "(1, 2, 3, 1, 2, 3, 4, 23, 4, 8)\n"
     ]
    }
   ],
   "source": [
    "flex_args(1,2,3,1,2,3,4,23,4,8)"
   ]
  },
  {
   "cell_type": "code",
   "execution_count": null,
   "metadata": {
    "id": "ONDpyMDFsVip"
   },
   "outputs": [],
   "source": [
    "# Itrating Over the Args\n",
    "def args_iter(*args):\n",
    "    for i in args:\n",
    "        print(i)"
   ]
  },
  {
   "cell_type": "code",
   "execution_count": null,
   "metadata": {
    "id": "jatgUWk-sVip",
    "outputId": "996958fb-4d1c-472f-826a-ef9c27bfa93e"
   },
   "outputs": [
    {
     "name": "stdout",
     "output_type": "stream",
     "text": [
      "Hello\n",
      "World\n"
     ]
    }
   ],
   "source": [
    "args_iter('Hello','World')"
   ]
  },
  {
   "cell_type": "code",
   "execution_count": null,
   "metadata": {
    "id": "ErFMdzOjsVip",
    "outputId": "ddeb010b-abf1-4006-d11d-1ed9ad06f3d4"
   },
   "outputs": [
    {
     "name": "stdout",
     "output_type": "stream",
     "text": [
      "Hello\n",
      "World\n",
      "Python for Data Science\n"
     ]
    }
   ],
   "source": [
    "args_iter('Hello','World','Python for Data Science')"
   ]
  },
  {
   "cell_type": "code",
   "execution_count": null,
   "metadata": {
    "id": "m5IerSn6sViq"
   },
   "outputs": [],
   "source": [
    "def args_exp(a,*b):\n",
    "    print(a*b)"
   ]
  },
  {
   "cell_type": "code",
   "execution_count": null,
   "metadata": {
    "id": "TsOVwqKKsViq",
    "outputId": "e03ea36a-b969-4c09-8829-aa3e16413a75"
   },
   "outputs": [
    {
     "name": "stdout",
     "output_type": "stream",
     "text": [
      "()\n"
     ]
    }
   ],
   "source": [
    "args_exp(1)"
   ]
  },
  {
   "cell_type": "code",
   "execution_count": null,
   "metadata": {
    "id": "r6hvpWw3sViq"
   },
   "outputs": [],
   "source": [
    "def args_raise(a,*b):\n",
    "    for i in b:\n",
    "        print(i**a)\n",
    "    return(i**a)"
   ]
  },
  {
   "cell_type": "code",
   "execution_count": null,
   "metadata": {
    "id": "3cc29HtrsViq",
    "outputId": "b65bc541-f77d-4fa3-9eac-1a651b245bbf"
   },
   "outputs": [
    {
     "name": "stdout",
     "output_type": "stream",
     "text": [
      "9\n",
      "16\n",
      "25\n",
      "36\n",
      "81\n"
     ]
    },
    {
     "data": {
      "text/plain": [
       "81"
      ]
     },
     "execution_count": 57,
     "metadata": {
      "tags": []
     },
     "output_type": "execute_result"
    }
   ],
   "source": [
    "args_raise(2,3,4,5,6,9)"
   ]
  },
  {
   "cell_type": "code",
   "execution_count": null,
   "metadata": {
    "id": "JZxfI0QhsVir"
   },
   "outputs": [],
   "source": [
    "def args_raise(a,*b):\n",
    "    for i in b:\n",
    "        print(i)"
   ]
  },
  {
   "cell_type": "code",
   "execution_count": null,
   "metadata": {
    "id": "g0jvT6KhsVir",
    "outputId": "91799126-b74c-446a-cf18-5cb8a4bf0252"
   },
   "outputs": [
    {
     "name": "stdout",
     "output_type": "stream",
     "text": [
      "(3, 4, 5, 6, 9)\n"
     ]
    }
   ],
   "source": [
    "args_raise(2,(3,4,5,6,9))"
   ]
  },
  {
   "cell_type": "code",
   "execution_count": null,
   "metadata": {
    "id": "l1pt09YqsVir",
    "outputId": "0f49b5b4-22a5-4444-941c-e84774a6efd0"
   },
   "outputs": [
    {
     "name": "stdout",
     "output_type": "stream",
     "text": [
      "3\n",
      "4\n",
      "5\n",
      "6\n",
      "9\n"
     ]
    }
   ],
   "source": [
    "args_raise(2,3,4,5,6,9)"
   ]
  },
  {
   "cell_type": "code",
   "execution_count": null,
   "metadata": {
    "id": "8ZE-EhmZsVis"
   },
   "outputs": [],
   "source": [
    "def args_raise(a,*b):\n",
    "    for i in b:\n",
    "        print(i**a)"
   ]
  },
  {
   "cell_type": "code",
   "execution_count": null,
   "metadata": {
    "id": "63ZMRt93sVis",
    "outputId": "238fa421-e76d-4e29-c285-2d4d620b6b53"
   },
   "outputs": [
    {
     "name": "stdout",
     "output_type": "stream",
     "text": [
      "9\n",
      "16\n",
      "25\n",
      "36\n",
      "81\n"
     ]
    }
   ],
   "source": [
    "args_raise(2,3,4,5,6,9)"
   ]
  },
  {
   "cell_type": "code",
   "execution_count": null,
   "metadata": {
    "id": "oIgIq8rMsVis"
   },
   "outputs": [],
   "source": [
    "def args_raise(a,*b):\n",
    "    for i in b:\n",
    "        print(i**a)\n",
    "    return(i**a)"
   ]
  },
  {
   "cell_type": "code",
   "execution_count": null,
   "metadata": {
    "id": "-0n9E1R5sVis",
    "outputId": "9a75b156-f2ac-4b3f-8431-cd141f5043aa"
   },
   "outputs": [
    {
     "name": "stdout",
     "output_type": "stream",
     "text": [
      "9\n",
      "16\n",
      "25\n",
      "36\n",
      "81\n"
     ]
    },
    {
     "data": {
      "text/plain": [
       "81"
      ]
     },
     "execution_count": 56,
     "metadata": {
      "tags": []
     },
     "output_type": "execute_result"
    }
   ],
   "source": [
    "args_raise(2,3,4,5,6,9)"
   ]
  },
  {
   "cell_type": "markdown",
   "metadata": {
    "id": "C7_DfC_EsVit"
   },
   "source": [
    "# **Kwargs\n",
    "**Kwargs - Keyword argument\n",
    "1. We can pass variable number of Keyword arguments to a function using a special symbol **\n",
    "2. In the function, we use the double asterisk ** before the parameter name to denote this type of argument\n",
    "3. The arguments are passed as a dictionary and these arguments make a dictionary inside function with name same as the parameter excluding double asterisk **."
   ]
  },
  {
   "cell_type": "code",
   "execution_count": null,
   "metadata": {
    "id": "JLNpdoNnsVit"
   },
   "outputs": [],
   "source": [
    "def mykwargs(**shop):\n",
    "    print(shop)\n",
    "    "
   ]
  },
  {
   "cell_type": "code",
   "execution_count": null,
   "metadata": {
    "id": "JbAEHhlNsVit",
    "outputId": "75f38825-b91b-41a4-d612-407e7c47152e"
   },
   "outputs": [
    {
     "name": "stdout",
     "output_type": "stream",
     "text": [
      "{'HeadPhones': 10000}\n"
     ]
    }
   ],
   "source": [
    "mykwargs(HeadPhones=10000)"
   ]
  },
  {
   "cell_type": "code",
   "execution_count": null,
   "metadata": {
    "id": "dXwfBR7wsVit",
    "outputId": "3e1c0ed8-7281-4bf7-bba8-3deb429db9ae"
   },
   "outputs": [
    {
     "name": "stdout",
     "output_type": "stream",
     "text": [
      "{'headphone': 10000, 'MobilePhone': '2000'}\n"
     ]
    }
   ],
   "source": [
    "mykwargs(headphone = 10000,MobilePhone = '2000')"
   ]
  },
  {
   "cell_type": "code",
   "execution_count": null,
   "metadata": {
    "id": "SzT5apDesViu"
   },
   "outputs": [],
   "source": [
    "def mykwargs(**shop):\n",
    "    for i,j in shop.items():\n",
    "        print(i)"
   ]
  },
  {
   "cell_type": "code",
   "execution_count": null,
   "metadata": {
    "id": "P4YLw1Y6sViu",
    "outputId": "dbd9b0da-ffd9-43f1-bc3e-50dede25af13"
   },
   "outputs": [
    {
     "name": "stdout",
     "output_type": "stream",
     "text": [
      "headphone\n",
      "MobilePhone\n"
     ]
    }
   ],
   "source": [
    "mykwargs(headphone = 10000,MobilePhone = '2000')"
   ]
  },
  {
   "cell_type": "code",
   "execution_count": null,
   "metadata": {
    "id": "ngxqDWjHsViu"
   },
   "outputs": [],
   "source": [
    "def mykwargs(**shop):\n",
    "    for i in shop.items():\n",
    "        print(i)"
   ]
  },
  {
   "cell_type": "code",
   "execution_count": null,
   "metadata": {
    "id": "zuxLGdmTsViu",
    "outputId": "81cb3682-3655-4eb1-b5ac-9e5f5cb6a05b"
   },
   "outputs": [
    {
     "name": "stdout",
     "output_type": "stream",
     "text": [
      "('headphone', 10000)\n",
      "('MobilePhone', '2000')\n"
     ]
    }
   ],
   "source": [
    "mykwargs(headphone = 10000,MobilePhone = '2000')"
   ]
  },
  {
   "cell_type": "code",
   "execution_count": null,
   "metadata": {
    "id": "IPImXeUSsViv"
   },
   "outputs": [],
   "source": [
    "# Having Ags & Kwargs both together\n",
    "def flex_args(*a,**b):\n",
    "    print(a,b)"
   ]
  },
  {
   "cell_type": "code",
   "execution_count": null,
   "metadata": {
    "id": "vL_RWiw3sViv",
    "outputId": "0db89bbf-a719-455b-abba-b9f9ce475f5a"
   },
   "outputs": [
    {
     "name": "stdout",
     "output_type": "stream",
     "text": [
      "(10,) {'eggs': 'Brown'}\n"
     ]
    }
   ],
   "source": [
    "flex_args(10,eggs = 'Brown')"
   ]
  },
  {
   "cell_type": "code",
   "execution_count": null,
   "metadata": {
    "id": "iO0slLn3sViv"
   },
   "outputs": [],
   "source": [
    "def flex_args(*a,**b):\n",
    "    print(a[0],b['eggs'])"
   ]
  },
  {
   "cell_type": "code",
   "execution_count": null,
   "metadata": {
    "id": "SpxqT1N9sViv",
    "outputId": "774a8e73-8052-4608-8fe2-948c9d8f53b4"
   },
   "outputs": [
    {
     "name": "stdout",
     "output_type": "stream",
     "text": [
      "10 Brown\n"
     ]
    }
   ],
   "source": [
    "flex_args(10,eggs = 'Brown')"
   ]
  },
  {
   "cell_type": "code",
   "execution_count": null,
   "metadata": {
    "id": "7TA-E57jsViv"
   },
   "outputs": [],
   "source": [
    "def flex_args(*a,**b):\n",
    "    print(a[0],b[0])"
   ]
  },
  {
   "cell_type": "code",
   "execution_count": null,
   "metadata": {
    "id": "QlRaJO39sViw",
    "outputId": "3e9cf890-1c95-48d8-cb3a-216997610d78"
   },
   "outputs": [
    {
     "name": "stdout",
     "output_type": "stream",
     "text": [
      "NowIUnderstanfKwargs!\n"
     ]
    }
   ],
   "source": [
    "def concat(**kwargs):\n",
    "    result = \"\"\n",
    "    for arg in kwargs.values():\n",
    "        result += arg\n",
    "    return result\n",
    "\n",
    "print(concat(a=\"Now\", b=\"I\", c='Understanf', d=\"Kwargs\", e=\"!\"))"
   ]
  },
  {
   "cell_type": "code",
   "execution_count": null,
   "metadata": {
    "id": "bWreypwesViw"
   },
   "outputs": [],
   "source": [
    "mylist = [1,2,3,4]"
   ]
  },
  {
   "cell_type": "code",
   "execution_count": null,
   "metadata": {
    "id": "5CGhssKZsViw",
    "outputId": "656a8cfb-e2d4-4ebe-a3e1-ab6d5596b9b3"
   },
   "outputs": [
    {
     "name": "stdout",
     "output_type": "stream",
     "text": [
      "1 2 3 4\n"
     ]
    }
   ],
   "source": [
    "print(*mylist)"
   ]
  },
  {
   "cell_type": "code",
   "execution_count": null,
   "metadata": {
    "id": "G68eW0eLsViw"
   },
   "outputs": [],
   "source": [
    "def mylistfun(a,b):\n",
    "    return(a+b)"
   ]
  },
  {
   "cell_type": "code",
   "execution_count": null,
   "metadata": {
    "id": "h3lMhStesVix",
    "outputId": "d717ef22-04dc-4de5-b9af-b9e5134c6cc4"
   },
   "outputs": [
    {
     "data": {
      "text/plain": [
       "3"
      ]
     },
     "execution_count": 106,
     "metadata": {
      "tags": []
     },
     "output_type": "execute_result"
    }
   ],
   "source": [
    "mylistfun(*[1,2])"
   ]
  },
  {
   "cell_type": "code",
   "execution_count": null,
   "metadata": {
    "id": "BFcLlGWUsVix",
    "outputId": "da367e09-9fba-4160-c475-ecf5f1b434a8"
   },
   "outputs": [
    {
     "name": "stdout",
     "output_type": "stream",
     "text": [
      "\n",
      "Data type of argument: <class 'dict'>\n",
      "Firstname is Sita\n",
      "Lastname is Sharma\n",
      "Age is 22\n",
      "Phone is 1234567890\n",
      "\n",
      "Data type of argument: <class 'dict'>\n",
      "Firstname is John\n",
      "Lastname is Wood\n",
      "Email is johnwood@nomail.com\n",
      "Country is Wakanda\n",
      "Age is 25\n",
      "Phone is 9876543210\n"
     ]
    }
   ],
   "source": [
    "def intro(**data):\n",
    "    print(\"\\nData type of argument:\",type(data))\n",
    "\n",
    "    for key, value in data.items():\n",
    "        print(\"{} is {}\".format(key,value))\n",
    "\n",
    "intro(Firstname=\"Sita\", Lastname=\"Sharma\", Age=22, Phone=1234567890)\n",
    "intro(Firstname=\"John\", Lastname=\"Wood\", Email=\"johnwood@nomail.com\", Country=\"Wakanda\", Age=25, Phone=9876543210)\n"
   ]
  },
  {
   "cell_type": "code",
   "execution_count": null,
   "metadata": {
    "id": "U0YhmBTIsVix"
   },
   "outputs": [],
   "source": [
    "def len_flex(*a,b,c):\n",
    "    return(len((a)),len((b)),len((c)))"
   ]
  },
  {
   "cell_type": "code",
   "execution_count": null,
   "metadata": {
    "id": "e-mbHWyvsViy",
    "outputId": "a00899b4-4a03-4636-cb86-39d8ca3fcece"
   },
   "outputs": [
    {
     "ename": "TypeError",
     "evalue": "len_flex() missing 2 required keyword-only arguments: 'b' and 'c'",
     "output_type": "error",
     "traceback": [
      "\u001b[1;31m---------------------------------------------------------------------------\u001b[0m",
      "\u001b[1;31mTypeError\u001b[0m                                 Traceback (most recent call last)",
      "\u001b[1;32m<ipython-input-119-4b9f35b527bc>\u001b[0m in \u001b[0;36m<module>\u001b[1;34m\u001b[0m\n\u001b[1;32m----> 1\u001b[1;33m \u001b[0mlen_flex\u001b[0m\u001b[1;33m(\u001b[0m\u001b[1;36m40\u001b[0m\u001b[1;33m,\u001b[0m\u001b[1;36m10\u001b[0m\u001b[1;33m,\u001b[0m\u001b[1;36m20\u001b[0m\u001b[1;33m)\u001b[0m\u001b[1;33m\u001b[0m\u001b[1;33m\u001b[0m\u001b[0m\n\u001b[0m",
      "\u001b[1;31mTypeError\u001b[0m: len_flex() missing 2 required keyword-only arguments: 'b' and 'c'"
     ]
    }
   ],
   "source": [
    "len_flex(40,10,20)"
   ]
  },
  {
   "cell_type": "code",
   "execution_count": null,
   "metadata": {
    "id": "dbM-oS4EsViy"
   },
   "outputs": [],
   "source": [
    "def len_flex(b,c,*a):\n",
    "    return(len((a)),type((b)),type((c)))"
   ]
  },
  {
   "cell_type": "code",
   "execution_count": null,
   "metadata": {
    "id": "Gz3tKQvasViy",
    "outputId": "62255892-e316-4e28-9880-2e1e39ec0e3d"
   },
   "outputs": [
    {
     "data": {
      "text/plain": [
       "(2, int, int)"
      ]
     },
     "execution_count": 127,
     "metadata": {
      "tags": []
     },
     "output_type": "execute_result"
    }
   ],
   "source": [
    "len_flex(40,10,20,60)"
   ]
  },
  {
   "cell_type": "code",
   "execution_count": null,
   "metadata": {
    "id": "WJK-il6MsVi0"
   },
   "outputs": [],
   "source": [
    "def len_flex(b,c,*a):\n",
    "    return(len((a)),len((b)),type((c)))"
   ]
  },
  {
   "cell_type": "code",
   "execution_count": null,
   "metadata": {
    "id": "IuPkpCBqsVi0",
    "outputId": "7694cdce-7780-45a5-aef3-cf6a6a07421d"
   },
   "outputs": [
    {
     "data": {
      "text/plain": [
       "(2, 3, str)"
      ]
     },
     "execution_count": 129,
     "metadata": {
      "tags": []
     },
     "output_type": "execute_result"
    }
   ],
   "source": [
    "len_flex([1,2,3],'hello',100,200)"
   ]
  },
  {
   "cell_type": "code",
   "execution_count": null,
   "metadata": {
    "id": "NdKjztF3sVi1"
   },
   "outputs": [],
   "source": [
    "def even_list(*num):\n",
    "    mylist = []\n",
    "    for i in num:\n",
    "        if i%2 ==0:\n",
    "            mylist.append(i)\n",
    "    return(mylist)\n",
    "    "
   ]
  },
  {
   "cell_type": "code",
   "execution_count": null,
   "metadata": {
    "id": "2izZjerIsVi1",
    "outputId": "1c571161-6763-4358-93e3-9a0e87dd2fb9"
   },
   "outputs": [
    {
     "data": {
      "text/plain": [
       "[2, 4, 6]"
      ]
     },
     "execution_count": 134,
     "metadata": {
      "tags": []
     },
     "output_type": "execute_result"
    }
   ],
   "source": [
    "even_list(1,2,3,4,5,6)"
   ]
  },
  {
   "cell_type": "code",
   "execution_count": null,
   "metadata": {
    "id": "EwPQqLKQsVi1",
    "outputId": "63a78c77-71ce-4ae8-950e-d99e99b5c88b"
   },
   "outputs": [
    {
     "data": {
      "text/plain": [
       "[10, 2, 110]"
      ]
     },
     "execution_count": 140,
     "metadata": {
      "tags": []
     },
     "output_type": "execute_result"
    }
   ],
   "source": [
    "even_list(10,1,2,1,3,1,1,110)"
   ]
  },
  {
   "cell_type": "code",
   "execution_count": null,
   "metadata": {
    "id": "_ZHA4kr3sVi2",
    "outputId": "4809725e-5a5b-4200-d929-fda58341cf1f"
   },
   "outputs": [
    {
     "data": {
      "text/plain": [
       "[0, 1, 2, 3, 4, 5, 6, 7, 8, 9]"
      ]
     },
     "execution_count": 143,
     "metadata": {
      "tags": []
     },
     "output_type": "execute_result"
    }
   ],
   "source": [
    "list(range(10))"
   ]
  },
  {
   "cell_type": "code",
   "execution_count": null,
   "metadata": {
    "id": "YumSZ47TsVi2",
    "outputId": "e5f40adc-4d6a-4260-eed9-b00ca979f0b7"
   },
   "outputs": [
    {
     "data": {
      "text/plain": [
       "[2, 4]"
      ]
     },
     "execution_count": 144,
     "metadata": {
      "tags": []
     },
     "output_type": "execute_result"
    }
   ],
   "source": [
    "even_list(*[1,2,3,4,5])"
   ]
  },
  {
   "cell_type": "code",
   "execution_count": null,
   "metadata": {
    "id": "VRucgK1WsVi2",
    "outputId": "0d8bfa28-2e24-479d-c688-36155204a47f"
   },
   "outputs": [
    {
     "data": {
      "text/plain": [
       "[10, 12, 14, 16, 18, 20, 22, 24, 26, 28]"
      ]
     },
     "execution_count": 146,
     "metadata": {
      "tags": []
     },
     "output_type": "execute_result"
    }
   ],
   "source": [
    "even_list(*list(range(10,30)))"
   ]
  },
  {
   "cell_type": "code",
   "execution_count": null,
   "metadata": {
    "id": "BvCPRouxsVi2"
   },
   "outputs": [],
   "source": [
    "def mystring_fun(mystr):\n",
    "    sstr =''\n",
    "    for i in range(len(mystr)):\n",
    "        \n",
    "        if i%2 ==0:\n",
    "        \n",
    "            sstr = sstr+mystr[i].upper()\n",
    "            \n",
    "        else:\n",
    "            \n",
    "            sstr = sstr+mystr[i].lower()\n",
    "    return(sstr)\n",
    "        "
   ]
  },
  {
   "cell_type": "code",
   "execution_count": null,
   "metadata": {
    "id": "xSXqWlXFsVi2",
    "outputId": "b278640b-93cb-4150-d166-98ea5c61411b"
   },
   "outputs": [
    {
     "data": {
      "text/plain": [
       "'HeLlO WoLrD'"
      ]
     },
     "execution_count": 227,
     "metadata": {
      "tags": []
     },
     "output_type": "execute_result"
    }
   ],
   "source": [
    "mystring_fun('hello wolrd')"
   ]
  },
  {
   "cell_type": "code",
   "execution_count": null,
   "metadata": {
    "id": "W99PnSVEsVi3",
    "outputId": "f26db76b-7826-42af-d745-9ca57422c159"
   },
   "outputs": [
    {
     "data": {
      "text/plain": [
       "'HeLlO'"
      ]
     },
     "execution_count": 229,
     "metadata": {
      "tags": []
     },
     "output_type": "execute_result"
    }
   ],
   "source": [
    "mystring_fun('hello')"
   ]
  },
  {
   "cell_type": "code",
   "execution_count": null,
   "metadata": {
    "id": "iKIGUVR1sVi3"
   },
   "outputs": [],
   "source": [
    "\n",
    "def print_big(letter):\n",
    "    patterns = {1:'  *  ',2:' * * ',3:'*   *',4:'*****',5:'**** ',6:'   * ',7:' *   ',8:'*   * ',9:'*    '}\n",
    "    alphabet = {'A':[1,2,4,3,3],'B':[5,3,5,3,5],'C':[4,9,9,9,4],'D':[5,3,3,3,5],'E':[4,9,4,9,4]}\n",
    "    for pattern in alphabet[letter.upper()]:\n",
    "        print(patterns[pattern])"
   ]
  },
  {
   "cell_type": "code",
   "execution_count": null,
   "metadata": {
    "id": "cmeUDEUMsVi3",
    "outputId": "17af7712-4ee9-4c12-a48a-98a0d6b776e2"
   },
   "outputs": [
    {
     "name": "stdout",
     "output_type": "stream",
     "text": [
      "**** \n",
      "*   *\n",
      "**** \n",
      "*   *\n",
      "**** \n"
     ]
    }
   ],
   "source": [
    "print_big('b')"
   ]
  },
  {
   "cell_type": "markdown",
   "metadata": {
    "id": "7tUyyXL-sVi3"
   },
   "source": [
    "# Map() Function\n",
    "map(function, sequence)  - function returns a map object(which is an iterator) of the results after  applying the \n",
    "given function to each item of a given iterable (list, tuple etc.)"
   ]
  },
  {
   "cell_type": "code",
   "execution_count": null,
   "metadata": {
    "id": "3kRPdvJHsVi4"
   },
   "outputs": [],
   "source": [
    "def mycube(num):\n",
    "    return num**3"
   ]
  },
  {
   "cell_type": "code",
   "execution_count": null,
   "metadata": {
    "id": "vuQThv2VsVi4"
   },
   "outputs": [],
   "source": [
    "mylist = [2,3,5,7,11]"
   ]
  },
  {
   "cell_type": "code",
   "execution_count": null,
   "metadata": {
    "id": "qHqb6uc0sVi4",
    "outputId": "c9bd109e-5be9-497c-f9e9-57079b019465"
   },
   "outputs": [
    {
     "data": {
      "text/plain": [
       "<map at 0x212268f1688>"
      ]
     },
     "execution_count": 234,
     "metadata": {
      "tags": []
     },
     "output_type": "execute_result"
    }
   ],
   "source": [
    "map(mycube,mylist)"
   ]
  },
  {
   "cell_type": "code",
   "execution_count": null,
   "metadata": {
    "id": "YqEgGBPUsVi5",
    "outputId": "3265e0b2-d79d-4209-be44-feaba5fb904a"
   },
   "outputs": [
    {
     "name": "stdout",
     "output_type": "stream",
     "text": [
      "8\n",
      "27\n",
      "125\n",
      "343\n",
      "1331\n"
     ]
    }
   ],
   "source": [
    "for i in map(mycube,mylist):\n",
    "    print(i)"
   ]
  },
  {
   "cell_type": "code",
   "execution_count": null,
   "metadata": {
    "id": "duqUeFwusVi6",
    "outputId": "ea82b0c3-56ac-446b-94ea-8537d8c9a803"
   },
   "outputs": [
    {
     "data": {
      "text/plain": [
       "[8, 27, 125, 343, 1331]"
      ]
     },
     "execution_count": 236,
     "metadata": {
      "tags": []
     },
     "output_type": "execute_result"
    }
   ],
   "source": [
    "list(map(mycube,mylist))"
   ]
  },
  {
   "cell_type": "code",
   "execution_count": null,
   "metadata": {
    "id": "zk5hR0fGsVi6"
   },
   "outputs": [],
   "source": [
    "def mystring_fun(mystr):\n",
    "    sstr =''\n",
    "    for i in range(len(mystr)):\n",
    "        \n",
    "        if i%2 ==0:\n",
    "        \n",
    "            sstr = sstr+mystr[i].upper()\n",
    "            \n",
    "        else:\n",
    "            \n",
    "            sstr = sstr+mystr[i].lower()\n",
    "    return(sstr)"
   ]
  },
  {
   "cell_type": "code",
   "execution_count": null,
   "metadata": {
    "id": "oyu5__b7sVi6"
   },
   "outputs": [],
   "source": [
    "compnames = ['Apple','Microsoft','Paypal','Google']"
   ]
  },
  {
   "cell_type": "code",
   "execution_count": null,
   "metadata": {
    "id": "SYYsY8grsVi7",
    "outputId": "d0c793e4-03ff-40aa-fe28-a169d4dc6290"
   },
   "outputs": [
    {
     "data": {
      "text/plain": [
       "['ApPlE', 'MiCrOsOfT', 'PaYpAl', 'GoOgLe']"
      ]
     },
     "execution_count": 239,
     "metadata": {
      "tags": []
     },
     "output_type": "execute_result"
    }
   ],
   "source": [
    "list(map(mystring_fun,compnames))"
   ]
  },
  {
   "cell_type": "code",
   "execution_count": null,
   "metadata": {
    "id": "3dFqXa19sVi8"
   },
   "outputs": [],
   "source": [
    "mystrnum = ['1','2','3','4','5']"
   ]
  },
  {
   "cell_type": "code",
   "execution_count": null,
   "metadata": {
    "id": "X3s3EqthsVi8",
    "outputId": "502b052a-1f0c-4ee0-ba1a-10d191ce1256"
   },
   "outputs": [
    {
     "data": {
      "text/plain": [
       "[1, 2, 3, 4, 5]"
      ]
     },
     "execution_count": 241,
     "metadata": {
      "tags": []
     },
     "output_type": "execute_result"
    }
   ],
   "source": [
    "list(map(int,mystrnum))"
   ]
  },
  {
   "cell_type": "code",
   "execution_count": null,
   "metadata": {
    "id": "e4bFQYwfsVi8",
    "outputId": "b2159744-6624-42b2-c081-aabf7398adc7"
   },
   "outputs": [
    {
     "data": {
      "text/plain": [
       "[5, 9, 6, 6]"
      ]
     },
     "execution_count": 242,
     "metadata": {
      "tags": []
     },
     "output_type": "execute_result"
    }
   ],
   "source": [
    "list(map(len,compnames))"
   ]
  },
  {
   "cell_type": "markdown",
   "metadata": {
    "id": "Cz-dBc8bsVi9"
   },
   "source": [
    "# Multiple input iterable\n"
   ]
  },
  {
   "cell_type": "code",
   "execution_count": null,
   "metadata": {
    "id": "H46IupwmsVi9"
   },
   "outputs": [],
   "source": [
    "list1 = [100,200,300,400,500]\n",
    "list2 = [.5,.5,.7,.7,1.5]"
   ]
  },
  {
   "cell_type": "code",
   "execution_count": null,
   "metadata": {
    "id": "ZTVZqiWCsVi9"
   },
   "outputs": [],
   "source": [
    "def mult(x,y):\n",
    "    return(x*y)"
   ]
  },
  {
   "cell_type": "code",
   "execution_count": null,
   "metadata": {
    "id": "dRXSZvAwsVi9",
    "outputId": "b77207ea-ea32-4828-f75d-0bc57d2ca4c3"
   },
   "outputs": [
    {
     "data": {
      "text/plain": [
       "[50.0, 100.0, 210.0, 280.0, 750.0]"
      ]
     },
     "execution_count": 247,
     "metadata": {
      "tags": []
     },
     "output_type": "execute_result"
    }
   ],
   "source": [
    "list(map(mult,list1,list2))"
   ]
  },
  {
   "cell_type": "code",
   "execution_count": null,
   "metadata": {
    "id": "nuouOQRhsVi-"
   },
   "outputs": [],
   "source": [
    "list1 = [1,2,3,4,5]\n",
    "list2 = [1,2,3,-1]"
   ]
  },
  {
   "cell_type": "code",
   "execution_count": null,
   "metadata": {
    "id": "PDgKhGoVsVi-",
    "outputId": "fa51ef3f-345f-4976-f8db-599338b86b2a"
   },
   "outputs": [
    {
     "data": {
      "text/plain": [
       "[1, 4, 27, 0.25]"
      ]
     },
     "execution_count": 251,
     "metadata": {
      "tags": []
     },
     "output_type": "execute_result"
    }
   ],
   "source": [
    "list(map(pow,list1,list2))"
   ]
  },
  {
   "cell_type": "code",
   "execution_count": null,
   "metadata": {
    "id": "6ameKnpnsVi-"
   },
   "outputs": [],
   "source": [
    "compnames = ['Apple','Microsoft','Paypal','Google']"
   ]
  },
  {
   "cell_type": "code",
   "execution_count": null,
   "metadata": {
    "id": "mW2y2sxAsVi_",
    "outputId": "a01022c5-a9d2-4c2f-d803-a871b869ce34"
   },
   "outputs": [
    {
     "data": {
      "text/plain": [
       "['APPLE', 'MICROSOFT', 'PAYPAL', 'GOOGLE']"
      ]
     },
     "execution_count": 252,
     "metadata": {
      "tags": []
     },
     "output_type": "execute_result"
    }
   ],
   "source": [
    "list(map(str.upper, compnames))"
   ]
  },
  {
   "cell_type": "code",
   "execution_count": null,
   "metadata": {
    "id": "uXTSm0--sVi_"
   },
   "outputs": [],
   "source": [
    "def sqr_cub(num):\n",
    "    return num**2,num**3"
   ]
  },
  {
   "cell_type": "code",
   "execution_count": null,
   "metadata": {
    "id": "bHGASigLsVi_"
   },
   "outputs": [],
   "source": [
    "mylist1 = [1,2,3,4]"
   ]
  },
  {
   "cell_type": "code",
   "execution_count": null,
   "metadata": {
    "id": "ZHQAcWAisVjA",
    "outputId": "83fb4b33-3212-4ed6-b0ce-a79cb3c7fb29"
   },
   "outputs": [
    {
     "data": {
      "text/plain": [
       "[(1, 1), (4, 8), (9, 27), (16, 64)]"
      ]
     },
     "execution_count": 255,
     "metadata": {
      "tags": []
     },
     "output_type": "execute_result"
    }
   ],
   "source": [
    "list(map(sqr_cub,mylist1))"
   ]
  },
  {
   "cell_type": "code",
   "execution_count": null,
   "metadata": {
    "id": "rknyfX9_sVjA"
   },
   "outputs": [],
   "source": [
    "def power_to(x,y,z):\n",
    "    return((x**y)+z)"
   ]
  },
  {
   "cell_type": "code",
   "execution_count": null,
   "metadata": {
    "id": "Dkc4KkjQsVjA",
    "outputId": "0ca029ec-e0d1-451c-d5d3-e8d83ed331f2"
   },
   "outputs": [
    {
     "data": {
      "text/plain": [
       "[2, 5, 4]"
      ]
     },
     "execution_count": 257,
     "metadata": {
      "tags": []
     },
     "output_type": "execute_result"
    }
   ],
   "source": [
    "list(map(power_to,[1,2,3,4],[2,2,1,1],[1,1,1]))"
   ]
  },
  {
   "cell_type": "markdown",
   "metadata": {
    "id": "g6xxsN3wsVjB"
   },
   "source": [
    "# Filter Function\n",
    "filter - Method constructs an iterator from elements of an iterable for which a function returns true \n",
    "or in more simpler terms, filters the given sequence with the help of a function that tests each \n",
    "element in the sequence to be true or not.<br>\n",
    "filter(function, sequence) - filter out elements from a list that don’t satisfy certain criteria."
   ]
  },
  {
   "cell_type": "code",
   "execution_count": null,
   "metadata": {
    "id": "YQVWqgG5sVjB"
   },
   "outputs": [],
   "source": [
    "def check_even(num):\n",
    "    return(num%2 == 0)"
   ]
  },
  {
   "cell_type": "code",
   "execution_count": null,
   "metadata": {
    "id": "ubootkkNsVjB"
   },
   "outputs": [],
   "source": [
    "mylist = [1,2,3,4,5,6,7]"
   ]
  },
  {
   "cell_type": "code",
   "execution_count": null,
   "metadata": {
    "id": "2RfPJ9ccsVjB",
    "outputId": "17980545-d3db-4b2d-da0a-1004cd5799d1"
   },
   "outputs": [
    {
     "data": {
      "text/plain": [
       "[False, True, False, True, False, True, False]"
      ]
     },
     "execution_count": 260,
     "metadata": {
      "tags": []
     },
     "output_type": "execute_result"
    }
   ],
   "source": [
    "list(map(check_even,mylist))"
   ]
  },
  {
   "cell_type": "code",
   "execution_count": null,
   "metadata": {
    "id": "kxU4cx0csVjB",
    "outputId": "0388a42b-b948-4dcd-cc75-9e68043007c7"
   },
   "outputs": [
    {
     "data": {
      "text/plain": [
       "[2, 4, 6]"
      ]
     },
     "execution_count": 261,
     "metadata": {
      "tags": []
     },
     "output_type": "execute_result"
    }
   ],
   "source": [
    "list(filter(check_even,mylist))"
   ]
  },
  {
   "cell_type": "code",
   "execution_count": null,
   "metadata": {
    "id": "2-WPherQsVjC"
   },
   "outputs": [],
   "source": [
    "# Wnat to get only strings\n",
    "def filter_str(num):\n",
    "    return(type(num) == str)"
   ]
  },
  {
   "cell_type": "code",
   "execution_count": null,
   "metadata": {
    "id": "uyxY4uZHsVjC"
   },
   "outputs": [],
   "source": [
    "mylist = [1,2,'2',2, ' ' ,4,'',9,2.2,'hello']"
   ]
  },
  {
   "cell_type": "code",
   "execution_count": null,
   "metadata": {
    "id": "eRcgvU4msVjC",
    "outputId": "20121353-6f04-45e1-eb40-1ff2d2b78bfb"
   },
   "outputs": [
    {
     "data": {
      "text/plain": [
       "['2', ' ', '', 'hello']"
      ]
     },
     "execution_count": 269,
     "metadata": {
      "tags": []
     },
     "output_type": "execute_result"
    }
   ],
   "source": [
    "list(filter(filter_str,mylist))"
   ]
  },
  {
   "cell_type": "code",
   "execution_count": null,
   "metadata": {
    "id": "WRTXhZfmsVjC"
   },
   "outputs": [],
   "source": [
    "# Wnat to get only int & float\n",
    "def filter_int(num):\n",
    "    return(type(num) in [int, float])"
   ]
  },
  {
   "cell_type": "code",
   "execution_count": null,
   "metadata": {
    "id": "Ic_kXXiwsVjD",
    "outputId": "19452c1a-7304-42df-d72e-7fe791b17097"
   },
   "outputs": [
    {
     "data": {
      "text/plain": [
       "[1, 2, 2, 4, 9, 2.2]"
      ]
     },
     "execution_count": 277,
     "metadata": {
      "tags": []
     },
     "output_type": "execute_result"
    }
   ],
   "source": [
    "list(filter(filter_int,mylist))"
   ]
  },
  {
   "cell_type": "code",
   "execution_count": null,
   "metadata": {
    "id": "qNB9NiVusVjD"
   },
   "outputs": [],
   "source": [
    "# print only consonants not vowals\n",
    "learn_py = 'Python2Analyse Data'"
   ]
  },
  {
   "cell_type": "code",
   "execution_count": null,
   "metadata": {
    "id": "LMiPfQefsVjD"
   },
   "outputs": [],
   "source": [
    "def my_conso(mystr):\n",
    "    for i in mystr:\n",
    "        if i.lower() in ('aeiou'):\n",
    "            return(False)\n",
    "        else:\n",
    "            return(True)"
   ]
  },
  {
   "cell_type": "code",
   "execution_count": null,
   "metadata": {
    "id": "OC_uCJ9JsVjD",
    "outputId": "6fe65216-cb1b-436d-d1fb-d3fb72e6dc1b"
   },
   "outputs": [
    {
     "data": {
      "text/plain": [
       "['P', 'y', 't', 'h', 'n', '2', 'n', 'l', 'y', 's', ' ', 'D', 't']"
      ]
     },
     "execution_count": 290,
     "metadata": {
      "tags": []
     },
     "output_type": "execute_result"
    }
   ],
   "source": [
    "list(filter(my_conso,learn_py))"
   ]
  },
  {
   "cell_type": "code",
   "execution_count": null,
   "metadata": {
    "id": "rVUIQvB1sVjD"
   },
   "outputs": [],
   "source": [
    "def my_conso(mystr):\n",
    "    for i in mystr:\n",
    "        if i in ('aeiou'):\n",
    "            return(False)\n",
    "        else:\n",
    "            return(True)"
   ]
  },
  {
   "cell_type": "code",
   "execution_count": null,
   "metadata": {
    "id": "MBCx0VOrsVjE",
    "outputId": "1acaebf0-9ff6-4fed-b113-58257a2c41ef"
   },
   "outputs": [
    {
     "data": {
      "text/plain": [
       "['P', 'y', 't', 'h', 'n', '2', 'A', 'n', 'l', 'y', 's', ' ', 'D', 't']"
      ]
     },
     "execution_count": 292,
     "metadata": {
      "tags": []
     },
     "output_type": "execute_result"
    }
   ],
   "source": [
    "list(filter(my_conso,learn_py))"
   ]
  },
  {
   "cell_type": "markdown",
   "metadata": {
    "id": "N5cwNvc5sVjE"
   },
   "source": [
    "# Lambda Function\n",
    "1. The lambda keyword is used to define an anonymous function or function without a name in Python\n",
    "2. Functions are created on the fly or when required\n",
    "3. Lambda functions are quick to create and should be used only when really necessary\n",
    "4. This function can have any number of arguments but only one expression, which is evaluated and returned.\n",
    "\n",
    "## lambda arguments: expression\n"
   ]
  },
  {
   "cell_type": "code",
   "execution_count": null,
   "metadata": {
    "id": "gKiNztWwsVjE"
   },
   "outputs": [],
   "source": [
    "def double(num):\n",
    "    return(2*num)"
   ]
  },
  {
   "cell_type": "code",
   "execution_count": null,
   "metadata": {
    "id": "eR1UPOcbsVjF",
    "outputId": "bf9a58eb-93e0-414a-972b-38ac311f9c17"
   },
   "outputs": [
    {
     "data": {
      "text/plain": [
       "20"
      ]
     },
     "execution_count": 295,
     "metadata": {
      "tags": []
     },
     "output_type": "execute_result"
    }
   ],
   "source": [
    "double(10)"
   ]
  },
  {
   "cell_type": "code",
   "execution_count": null,
   "metadata": {
    "id": "V_LgPAcbsVjF"
   },
   "outputs": [],
   "source": [
    "double_la = lambda num: 2*num"
   ]
  },
  {
   "cell_type": "code",
   "execution_count": null,
   "metadata": {
    "id": "bsq1FltXsVjF",
    "outputId": "9c6d12fd-8254-4697-97a8-901ea8355a5b"
   },
   "outputs": [
    {
     "data": {
      "text/plain": [
       "40"
      ]
     },
     "execution_count": 297,
     "metadata": {
      "tags": []
     },
     "output_type": "execute_result"
    }
   ],
   "source": [
    "double_la(20)"
   ]
  },
  {
   "cell_type": "code",
   "execution_count": null,
   "metadata": {
    "id": "RBmc9PDasVjF",
    "outputId": "2cb53738-7815-468a-87d8-73dda4797104"
   },
   "outputs": [
    {
     "data": {
      "text/plain": [
       "40"
      ]
     },
     "execution_count": 312,
     "metadata": {
      "tags": []
     },
     "output_type": "execute_result"
    }
   ],
   "source": [
    "(lambda num:2*num)(20)"
   ]
  },
  {
   "cell_type": "code",
   "execution_count": null,
   "metadata": {
    "id": "UBESo3EssVjG"
   },
   "outputs": [],
   "source": [
    "power = lambda x,y :x**y"
   ]
  },
  {
   "cell_type": "code",
   "execution_count": null,
   "metadata": {
    "id": "3ePyy8dAsVjG",
    "outputId": "431123d4-277c-4312-a843-18b5d7c79c6c"
   },
   "outputs": [
    {
     "data": {
      "text/plain": [
       "8"
      ]
     },
     "execution_count": 299,
     "metadata": {
      "tags": []
     },
     "output_type": "execute_result"
    }
   ],
   "source": [
    "power(2,3)"
   ]
  },
  {
   "cell_type": "code",
   "execution_count": null,
   "metadata": {
    "id": "fjabXLNZsVjG",
    "outputId": "94b098c3-71ec-4f12-aa50-e9512bbfc76c"
   },
   "outputs": [
    {
     "data": {
      "text/plain": [
       "8"
      ]
     },
     "execution_count": 308,
     "metadata": {
      "tags": []
     },
     "output_type": "execute_result"
    }
   ],
   "source": [
    "(lambda x,y:x**y)(2,3)"
   ]
  },
  {
   "cell_type": "code",
   "execution_count": null,
   "metadata": {
    "id": "hdm6SzlcsVjG",
    "outputId": "48fdf616-dd3b-4846-ec24-e8f65f0b6ddb"
   },
   "outputs": [
    {
     "data": {
      "text/plain": [
       "5"
      ]
     },
     "execution_count": 313,
     "metadata": {
      "tags": []
     },
     "output_type": "execute_result"
    }
   ],
   "source": [
    "(lambda x, y: x + y)(2, 3)\n"
   ]
  },
  {
   "cell_type": "code",
   "execution_count": null,
   "metadata": {
    "id": "DQRoKqExsVjG"
   },
   "outputs": [],
   "source": [
    "# Filtering even numbers using labmda function\n",
    "even_filter = lambda num : num%2 ==0"
   ]
  },
  {
   "cell_type": "code",
   "execution_count": null,
   "metadata": {
    "id": "VQRQn82asVjH"
   },
   "outputs": [],
   "source": [
    "mylist = [1,2,3,4,5,6,7,8,9]"
   ]
  },
  {
   "cell_type": "code",
   "execution_count": null,
   "metadata": {
    "id": "plSI_sq-sVjH",
    "outputId": "418de1e7-dd87-4e9b-fa32-7556014b6400"
   },
   "outputs": [
    {
     "data": {
      "text/plain": [
       "[2, 4, 6, 8]"
      ]
     },
     "execution_count": 302,
     "metadata": {
      "tags": []
     },
     "output_type": "execute_result"
    }
   ],
   "source": [
    "list(filter(even_filter,mylist))"
   ]
  },
  {
   "cell_type": "code",
   "execution_count": null,
   "metadata": {
    "id": "p3MkaGyKsVjH",
    "outputId": "7e3356b6-4ba9-4504-de5d-e8f6a4795d12"
   },
   "outputs": [
    {
     "data": {
      "text/plain": [
       "[2, 4, 6, 8]"
      ]
     },
     "execution_count": 305,
     "metadata": {
      "tags": []
     },
     "output_type": "execute_result"
    }
   ],
   "source": [
    "list(filter((lambda num:num%2==0),mylist))"
   ]
  },
  {
   "cell_type": "code",
   "execution_count": null,
   "metadata": {
    "id": "3WIVA8uLsVjH",
    "outputId": "17bf5579-af98-41f8-8799-7cbb1cecb5db"
   },
   "outputs": [
    {
     "data": {
      "text/plain": [
       "[1, 4, 9, 16, 25, 36, 49, 64, 81]"
      ]
     },
     "execution_count": 306,
     "metadata": {
      "tags": []
     },
     "output_type": "execute_result"
    }
   ],
   "source": [
    "list(map((lambda x : x**2),mylist))"
   ]
  },
  {
   "cell_type": "code",
   "execution_count": null,
   "metadata": {
    "id": "gppvwHBFsVjH",
    "outputId": "f31fc799-3d62-4f4a-da7e-73195e6663ca"
   },
   "outputs": [
    {
     "data": {
      "text/plain": [
       "6"
      ]
     },
     "execution_count": 314,
     "metadata": {
      "tags": []
     },
     "output_type": "execute_result"
    }
   ],
   "source": [
    "(lambda x, y, z: x + y + z)(1, 2, 3)"
   ]
  },
  {
   "cell_type": "code",
   "execution_count": null,
   "metadata": {
    "id": "gjCc0l8DsVjI",
    "outputId": "9d8e7698-2482-4906-eb26-a3c7f9aa6da0"
   },
   "outputs": [
    {
     "data": {
      "text/plain": [
       "6"
      ]
     },
     "execution_count": 315,
     "metadata": {
      "tags": []
     },
     "output_type": "execute_result"
    }
   ],
   "source": [
    " (lambda *args: sum(args))(1,2,3)"
   ]
  },
  {
   "cell_type": "code",
   "execution_count": null,
   "metadata": {
    "id": "pamA83y1sVjI",
    "outputId": "89c6dd47-74d6-48fc-8f1f-32fcdbee5774"
   },
   "outputs": [
    {
     "data": {
      "text/plain": [
       "6"
      ]
     },
     "execution_count": 316,
     "metadata": {
      "tags": []
     },
     "output_type": "execute_result"
    }
   ],
   "source": [
    "(lambda **kwargs: sum(kwargs.values()))(one=1, two=2, three=3)"
   ]
  },
  {
   "cell_type": "code",
   "execution_count": null,
   "metadata": {
    "id": "3zSVr2iUsVjJ"
   },
   "outputs": [],
   "source": [
    "# Python 3 code to people above 18 yrs \n",
    "ages = [13, 90, 17, 59, 21, 60, 5] \n",
    "  \n",
    "adults = list(filter(lambda age: age>18, ages)) "
   ]
  },
  {
   "cell_type": "code",
   "execution_count": null,
   "metadata": {
    "id": "qIxm4za5sVjJ",
    "outputId": "a2243b4e-4611-485c-b536-8874126ec2bf"
   },
   "outputs": [
    {
     "data": {
      "text/plain": [
       "[90, 59, 21, 60]"
      ]
     },
     "execution_count": 320,
     "metadata": {
      "tags": []
     },
     "output_type": "execute_result"
    }
   ],
   "source": [
    "adults"
   ]
  },
  {
   "cell_type": "code",
   "execution_count": null,
   "metadata": {
    "id": "m96nePTUsVjJ"
   },
   "outputs": [],
   "source": [
    "animals = ['dog', 'cat', 'parrot', 'rabbit'] "
   ]
  },
  {
   "cell_type": "code",
   "execution_count": null,
   "metadata": {
    "id": "CA9M6M0RsVjK",
    "outputId": "9527bebf-00ba-437e-f563-d80390b32c40"
   },
   "outputs": [
    {
     "data": {
      "text/plain": [
       "['DOG', 'CAT', 'PARROT', 'RABBIT']"
      ]
     },
     "execution_count": 322,
     "metadata": {
      "tags": []
     },
     "output_type": "execute_result"
    }
   ],
   "source": [
    "list(map(lambda animal: str.upper(animal), animals)) "
   ]
  },
  {
   "cell_type": "code",
   "execution_count": null,
   "metadata": {
    "id": "ZT-TaFamsVjK",
    "outputId": "0c388c1e-14e6-4317-8d12-2a3e40f54322"
   },
   "outputs": [
    {
     "data": {
      "text/plain": [
       "['DOG', 'CAT', 'PARROT', 'RABBIT']"
      ]
     },
     "execution_count": 323,
     "metadata": {
      "tags": []
     },
     "output_type": "execute_result"
    }
   ],
   "source": [
    "list(map(lambda animal: animal.upper(), animals)) "
   ]
  },
  {
   "cell_type": "markdown",
   "metadata": {
    "id": "Qlgoz6KisVjK"
   },
   "source": [
    "# Reduce Function\n",
    "reduce(function, sequence) - function is used to apply a particular function passed in its argument to all of \n",
    "the list elements mentioned in the sequence passed along. This performs a repetitive operation over the pairs \n",
    "of the iterable. Manipulates the sequence and outputs single value element."
   ]
  },
  {
   "cell_type": "code",
   "execution_count": null,
   "metadata": {
    "id": "KtGbN7QBsVjK"
   },
   "outputs": [],
   "source": [
    "from functools import reduce"
   ]
  },
  {
   "cell_type": "code",
   "execution_count": null,
   "metadata": {
    "id": "ZUikL7K1sVjK",
    "outputId": "4787b699-fd95-4ea5-fd64-7c2c98624797"
   },
   "outputs": [
    {
     "data": {
      "text/plain": [
       "193"
      ]
     },
     "execution_count": 326,
     "metadata": {
      "tags": []
     },
     "output_type": "execute_result"
    }
   ],
   "source": [
    "li = [5, 8, 10, 20, 50, 100] \n",
    "reduce((lambda x, y: x + y), li) "
   ]
  },
  {
   "cell_type": "code",
   "execution_count": null,
   "metadata": {
    "id": "mAK-xiJKsVjL"
   },
   "outputs": [],
   "source": []
  },
  {
   "cell_type": "code",
   "execution_count": null,
   "metadata": {
    "id": "XTPSKqEIsVjL"
   },
   "outputs": [],
   "source": []
  }
 ],
 "metadata": {
  "colab": {
   "name": "Xilytica - Built-in & User Defined Functions.ipynb",
   "provenance": []
  },
  "kernelspec": {
   "display_name": "Python 3 (ipykernel)",
   "language": "python",
   "name": "python3"
  },
  "language_info": {
   "codemirror_mode": {
    "name": "ipython",
    "version": 3
   },
   "file_extension": ".py",
   "mimetype": "text/x-python",
   "name": "python",
   "nbconvert_exporter": "python",
   "pygments_lexer": "ipython3",
   "version": "3.9.7"
  }
 },
 "nbformat": 4,
 "nbformat_minor": 4
}
