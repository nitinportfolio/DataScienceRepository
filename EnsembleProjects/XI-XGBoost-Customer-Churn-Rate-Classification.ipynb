{
 "cells": [
  {
   "cell_type": "code",
   "execution_count": 1,
   "id": "6a98d10b",
   "metadata": {},
   "outputs": [],
   "source": [
    "# https://community.ibm.com/community/user/businessanalytics/blogs/steven-macko/2019/07/11/telco-customer-churn-1113"
   ]
  },
  {
   "cell_type": "code",
   "execution_count": 461,
   "id": "625465c4",
   "metadata": {},
   "outputs": [],
   "source": [
    "import numpy as np\n",
    "import pandas as pd\n",
    "import datatable as dt\n",
    "\n",
    "import matplotlib.pyplot as plt\n",
    "import seaborn as sns\n",
    "\n",
    "from sklearn.model_selection import train_test_split\n",
    "from sklearn.model_selection import GridSearchCV\n",
    "\n",
    "\n",
    "from sklearn.preprocessing import OneHotEncoder\n",
    "from sklearn.preprocessing import StandardScaler\n",
    "\n",
    "\n",
    "\n",
    "from sklearn.svm import SVC\n",
    "from sklearn.linear_model import LogisticRegression\n",
    "from sklearn.ensemble import GradientBoostingClassifier\n",
    "import xgboost as xgb\n",
    "\n",
    "\n",
    "from sklearn.metrics import (accuracy_score, confusion_matrix, balanced_accuracy_score, \n",
    "                roc_auc_score, make_scorer, plot_confusion_matrix, ConfusionMatrixDisplay)\n",
    "\n",
    "\n",
    "pd.set_option('display.max_rows', 50)"
   ]
  },
  {
   "cell_type": "code",
   "execution_count": 88,
   "id": "af2e2cd7",
   "metadata": {},
   "outputs": [],
   "source": [
    "\n",
    "data = pd.read_excel('.\\data\\Telco_customer_churn.xlsx')"
   ]
  },
  {
   "cell_type": "code",
   "execution_count": 89,
   "id": "269869d7",
   "metadata": {},
   "outputs": [
    {
     "data": {
      "text/html": [
       "<div>\n",
       "<style scoped>\n",
       "    .dataframe tbody tr th:only-of-type {\n",
       "        vertical-align: middle;\n",
       "    }\n",
       "\n",
       "    .dataframe tbody tr th {\n",
       "        vertical-align: top;\n",
       "    }\n",
       "\n",
       "    .dataframe thead th {\n",
       "        text-align: right;\n",
       "    }\n",
       "</style>\n",
       "<table border=\"1\" class=\"dataframe\">\n",
       "  <thead>\n",
       "    <tr style=\"text-align: right;\">\n",
       "      <th></th>\n",
       "      <th>CustomerID</th>\n",
       "      <th>Count</th>\n",
       "      <th>Country</th>\n",
       "      <th>State</th>\n",
       "      <th>City</th>\n",
       "      <th>Zip Code</th>\n",
       "      <th>Lat Long</th>\n",
       "      <th>Latitude</th>\n",
       "      <th>Longitude</th>\n",
       "      <th>Gender</th>\n",
       "      <th>Senior Citizen</th>\n",
       "      <th>Partner</th>\n",
       "      <th>Dependents</th>\n",
       "      <th>Tenure Months</th>\n",
       "      <th>Phone Service</th>\n",
       "      <th>...</th>\n",
       "      <th>Online Backup</th>\n",
       "      <th>Device Protection</th>\n",
       "      <th>Tech Support</th>\n",
       "      <th>Streaming TV</th>\n",
       "      <th>Streaming Movies</th>\n",
       "      <th>Contract</th>\n",
       "      <th>Paperless Billing</th>\n",
       "      <th>Payment Method</th>\n",
       "      <th>Monthly Charges</th>\n",
       "      <th>Total Charges</th>\n",
       "      <th>Churn Label</th>\n",
       "      <th>Churn Value</th>\n",
       "      <th>Churn Score</th>\n",
       "      <th>CLTV</th>\n",
       "      <th>Churn Reason</th>\n",
       "    </tr>\n",
       "  </thead>\n",
       "  <tbody>\n",
       "    <tr>\n",
       "      <th>0</th>\n",
       "      <td>3668-QPYBK</td>\n",
       "      <td>1</td>\n",
       "      <td>United States</td>\n",
       "      <td>California</td>\n",
       "      <td>Los Angeles</td>\n",
       "      <td>90003</td>\n",
       "      <td>33.964131, -118.272783</td>\n",
       "      <td>33.964131</td>\n",
       "      <td>-118.272783</td>\n",
       "      <td>Male</td>\n",
       "      <td>No</td>\n",
       "      <td>No</td>\n",
       "      <td>No</td>\n",
       "      <td>2</td>\n",
       "      <td>Yes</td>\n",
       "      <td>...</td>\n",
       "      <td>Yes</td>\n",
       "      <td>No</td>\n",
       "      <td>No</td>\n",
       "      <td>No</td>\n",
       "      <td>No</td>\n",
       "      <td>Month-to-month</td>\n",
       "      <td>Yes</td>\n",
       "      <td>Mailed check</td>\n",
       "      <td>53.85</td>\n",
       "      <td>108.15</td>\n",
       "      <td>Yes</td>\n",
       "      <td>1</td>\n",
       "      <td>86</td>\n",
       "      <td>3239</td>\n",
       "      <td>Competitor made better offer</td>\n",
       "    </tr>\n",
       "    <tr>\n",
       "      <th>1</th>\n",
       "      <td>9237-HQITU</td>\n",
       "      <td>1</td>\n",
       "      <td>United States</td>\n",
       "      <td>California</td>\n",
       "      <td>Los Angeles</td>\n",
       "      <td>90005</td>\n",
       "      <td>34.059281, -118.30742</td>\n",
       "      <td>34.059281</td>\n",
       "      <td>-118.307420</td>\n",
       "      <td>Female</td>\n",
       "      <td>No</td>\n",
       "      <td>No</td>\n",
       "      <td>Yes</td>\n",
       "      <td>2</td>\n",
       "      <td>Yes</td>\n",
       "      <td>...</td>\n",
       "      <td>No</td>\n",
       "      <td>No</td>\n",
       "      <td>No</td>\n",
       "      <td>No</td>\n",
       "      <td>No</td>\n",
       "      <td>Month-to-month</td>\n",
       "      <td>Yes</td>\n",
       "      <td>Electronic check</td>\n",
       "      <td>70.70</td>\n",
       "      <td>151.65</td>\n",
       "      <td>Yes</td>\n",
       "      <td>1</td>\n",
       "      <td>67</td>\n",
       "      <td>2701</td>\n",
       "      <td>Moved</td>\n",
       "    </tr>\n",
       "  </tbody>\n",
       "</table>\n",
       "<p>2 rows × 33 columns</p>\n",
       "</div>"
      ],
      "text/plain": [
       "   CustomerID  Count        Country       State         City  Zip Code  \\\n",
       "0  3668-QPYBK      1  United States  California  Los Angeles     90003   \n",
       "1  9237-HQITU      1  United States  California  Los Angeles     90005   \n",
       "\n",
       "                 Lat Long   Latitude   Longitude  Gender Senior Citizen  \\\n",
       "0  33.964131, -118.272783  33.964131 -118.272783    Male             No   \n",
       "1   34.059281, -118.30742  34.059281 -118.307420  Female             No   \n",
       "\n",
       "  Partner Dependents  Tenure Months Phone Service  ... Online Backup  \\\n",
       "0      No         No              2           Yes  ...           Yes   \n",
       "1      No        Yes              2           Yes  ...            No   \n",
       "\n",
       "  Device Protection Tech Support Streaming TV Streaming Movies  \\\n",
       "0                No           No           No               No   \n",
       "1                No           No           No               No   \n",
       "\n",
       "         Contract Paperless Billing    Payment Method Monthly Charges  \\\n",
       "0  Month-to-month               Yes      Mailed check           53.85   \n",
       "1  Month-to-month               Yes  Electronic check           70.70   \n",
       "\n",
       "  Total Charges Churn Label  Churn Value Churn Score  CLTV  \\\n",
       "0        108.15         Yes            1          86  3239   \n",
       "1        151.65         Yes            1          67  2701   \n",
       "\n",
       "                   Churn Reason  \n",
       "0  Competitor made better offer  \n",
       "1                         Moved  \n",
       "\n",
       "[2 rows x 33 columns]"
      ]
     },
     "execution_count": 89,
     "metadata": {},
     "output_type": "execute_result"
    }
   ],
   "source": [
    "data.head(2)"
   ]
  },
  {
   "cell_type": "code",
   "execution_count": 92,
   "id": "5a057c38",
   "metadata": {},
   "outputs": [
    {
     "data": {
      "text/plain": [
       "(7043, 33)"
      ]
     },
     "execution_count": 92,
     "metadata": {},
     "output_type": "execute_result"
    }
   ],
   "source": [
    "data.shape"
   ]
  },
  {
   "cell_type": "code",
   "execution_count": 94,
   "id": "98cb69aa",
   "metadata": {},
   "outputs": [
    {
     "data": {
      "text/plain": [
       "0    5174\n",
       "1    1869\n",
       "Name: Churn Value, dtype: int64"
      ]
     },
     "execution_count": 94,
     "metadata": {},
     "output_type": "execute_result"
    }
   ],
   "source": [
    "# To see whether we have balanced data or not\n",
    "\n",
    "data['Churn Value'].value_counts()"
   ]
  },
  {
   "cell_type": "markdown",
   "id": "0d91f1ef",
   "metadata": {},
   "source": [
    "Dataset is little imbalanced ..."
   ]
  },
  {
   "cell_type": "code",
   "execution_count": 95,
   "id": "9f3e1f51",
   "metadata": {},
   "outputs": [
    {
     "data": {
      "text/plain": [
       "object     24\n",
       "int64       6\n",
       "float64     3\n",
       "dtype: int64"
      ]
     },
     "execution_count": 95,
     "metadata": {},
     "output_type": "execute_result"
    }
   ],
   "source": [
    "# Looking at different datatypes features\n",
    "data.dtypes.value_counts()"
   ]
  },
  {
   "cell_type": "code",
   "execution_count": 96,
   "id": "fe46b359",
   "metadata": {},
   "outputs": [
    {
     "data": {
      "text/plain": [
       "['Count',\n",
       " 'Zip Code',\n",
       " 'Latitude',\n",
       " 'Longitude',\n",
       " 'Tenure Months',\n",
       " 'Monthly Charges',\n",
       " 'Churn Value',\n",
       " 'Churn Score',\n",
       " 'CLTV']"
      ]
     },
     "execution_count": 96,
     "metadata": {},
     "output_type": "execute_result"
    }
   ],
   "source": [
    "data.select_dtypes(include='number').columns.tolist()"
   ]
  },
  {
   "cell_type": "code",
   "execution_count": 97,
   "id": "771894e2",
   "metadata": {},
   "outputs": [
    {
     "data": {
      "text/plain": [
       "[]"
      ]
     },
     "execution_count": 97,
     "metadata": {},
     "output_type": "execute_result"
    }
   ],
   "source": [
    "data.select_dtypes(include='bool').columns.tolist()"
   ]
  },
  {
   "cell_type": "code",
   "execution_count": 98,
   "id": "fdb9ba54",
   "metadata": {},
   "outputs": [
    {
     "data": {
      "text/plain": [
       "['CustomerID',\n",
       " 'Country',\n",
       " 'State',\n",
       " 'City',\n",
       " 'Lat Long',\n",
       " 'Gender',\n",
       " 'Senior Citizen',\n",
       " 'Partner',\n",
       " 'Dependents',\n",
       " 'Phone Service',\n",
       " 'Multiple Lines',\n",
       " 'Internet Service',\n",
       " 'Online Security',\n",
       " 'Online Backup',\n",
       " 'Device Protection',\n",
       " 'Tech Support',\n",
       " 'Streaming TV',\n",
       " 'Streaming Movies',\n",
       " 'Contract',\n",
       " 'Paperless Billing',\n",
       " 'Payment Method',\n",
       " 'Total Charges',\n",
       " 'Churn Label',\n",
       " 'Churn Reason']"
      ]
     },
     "execution_count": 98,
     "metadata": {},
     "output_type": "execute_result"
    }
   ],
   "source": [
    "data.select_dtypes(include='object').columns.tolist()"
   ]
  },
  {
   "cell_type": "code",
   "execution_count": 23,
   "id": "383d360b",
   "metadata": {},
   "outputs": [],
   "source": [
    "#data['Churn']=data['Churn'].map({'No':0,'Yes':1})"
   ]
  },
  {
   "cell_type": "code",
   "execution_count": 100,
   "id": "963ce72d",
   "metadata": {},
   "outputs": [
    {
     "data": {
      "text/plain": [
       "7043"
      ]
     },
     "execution_count": 100,
     "metadata": {},
     "output_type": "execute_result"
    }
   ],
   "source": [
    "data['CustomerID'].nunique()"
   ]
  },
  {
   "cell_type": "code",
   "execution_count": 102,
   "id": "c3e9459d",
   "metadata": {},
   "outputs": [],
   "source": [
    "data.drop('CustomerID', axis = 1, inplace = True)"
   ]
  },
  {
   "cell_type": "code",
   "execution_count": 109,
   "id": "f2d97ef2",
   "metadata": {},
   "outputs": [
    {
     "name": "stdout",
     "output_type": "stream",
     "text": [
      "Count\n",
      "1\n",
      "\n",
      "Country\n",
      "1\n",
      "\n",
      "State\n",
      "1\n",
      "\n",
      "City\n",
      "1129\n",
      "\n",
      "Zip Code\n",
      "1652\n",
      "\n",
      "Lat Long\n",
      "1652\n",
      "\n",
      "Latitude\n",
      "1652\n",
      "\n",
      "Longitude\n",
      "1651\n",
      "\n",
      "Gender\n",
      "2\n",
      "\n",
      "Senior Citizen\n",
      "2\n",
      "\n",
      "Partner\n",
      "2\n",
      "\n",
      "Dependents\n",
      "2\n",
      "\n",
      "Tenure Months\n",
      "73\n",
      "\n",
      "Phone Service\n",
      "2\n",
      "\n",
      "Multiple Lines\n",
      "3\n",
      "\n",
      "Internet Service\n",
      "3\n",
      "\n",
      "Online Security\n",
      "3\n",
      "\n",
      "Online Backup\n",
      "3\n",
      "\n",
      "Device Protection\n",
      "3\n",
      "\n",
      "Tech Support\n",
      "3\n",
      "\n",
      "Streaming TV\n",
      "3\n",
      "\n",
      "Streaming Movies\n",
      "3\n",
      "\n",
      "Contract\n",
      "3\n",
      "\n",
      "Paperless Billing\n",
      "2\n",
      "\n",
      "Payment Method\n",
      "4\n",
      "\n",
      "Monthly Charges\n",
      "1585\n",
      "\n",
      "Total Charges\n",
      "6531\n",
      "\n",
      "Churn Label\n",
      "2\n",
      "\n",
      "Churn Value\n",
      "2\n",
      "\n",
      "Churn Score\n",
      "85\n",
      "\n",
      "CLTV\n",
      "3438\n",
      "\n",
      "Churn Reason\n",
      "20\n",
      "\n"
     ]
    }
   ],
   "source": [
    "for col in data.columns:\n",
    "    print(col)\n",
    "    print(data[col].nunique())\n",
    "    print()\n",
    "    "
   ]
  },
  {
   "cell_type": "code",
   "execution_count": 111,
   "id": "72569eb0",
   "metadata": {},
   "outputs": [],
   "source": [
    "# Lets drop columns that we dont need \n",
    "#'Churn Reason', 'CLTC', 'Churn Score', 'Churn Label', 'Count', 'Country', 'State', 'Lat Long'\n",
    "\n",
    "data.drop(labels=['Churn Reason', 'CLTV', 'Churn Score', 'Churn Label', 'Count', 'Country', 'State', 'Lat Long'],\n",
    "         axis = 1, inplace=True)"
   ]
  },
  {
   "cell_type": "code",
   "execution_count": 119,
   "id": "78a64fd3",
   "metadata": {},
   "outputs": [],
   "source": [
    "# for col in data.select_dtypes(include='object').columns.tolist():\n",
    "    \n",
    "#     print(data.groupby('Churn Value')[col].value_counts().rename('Count').to_frame())\n",
    "#     print('\\n')"
   ]
  },
  {
   "cell_type": "code",
   "execution_count": 120,
   "id": "5ee96294",
   "metadata": {},
   "outputs": [],
   "source": [
    "#data.groupby('Churn')['Churn'].value_counts().rename('Count').to_frame()"
   ]
  },
  {
   "cell_type": "code",
   "execution_count": 121,
   "id": "7d17c457",
   "metadata": {},
   "outputs": [],
   "source": [
    "# for col in data.select_dtypes(include='object').columns.tolist():\n",
    "    \n",
    "#     print(data.groupby('Churn Value')[col].value_counts().rename('Count').to_frame())\n",
    "#     print('\\n')"
   ]
  },
  {
   "cell_type": "code",
   "execution_count": 122,
   "id": "e3b4a494",
   "metadata": {},
   "outputs": [],
   "source": [
    "# data.groupby('Churn')['gender'].plot()\n"
   ]
  },
  {
   "cell_type": "code",
   "execution_count": 123,
   "id": "2fb1ff68",
   "metadata": {},
   "outputs": [],
   "source": [
    "# for col in data.select_dtypes(include='object').columns.tolist():\n",
    "#     if data[col].nunique()<10:\n",
    "\n",
    "#         sns.barplot(data = data, y = 'Churn Value',x = col)\n",
    "#         plt.xticks(rotation=45)\n",
    "#         print('\\n')\n",
    "#         plt.show()\n",
    "    "
   ]
  },
  {
   "cell_type": "code",
   "execution_count": 124,
   "id": "c74058cb",
   "metadata": {},
   "outputs": [],
   "source": [
    "# ctrl + /\n",
    "# '''for col in data.select_dtypes(include='number').columns.tolist():\n",
    "\n",
    "#     #sns.barplot(data = data, y = 'Churn',x = col)\n",
    "#     print(col)\n",
    "#     data.groupby('Churn Value')[col].mean().plot(kind = 'bar')\n",
    "#     plt.xlabel('Churn Value')\n",
    "#     plt.ylabel(col)\n",
    "#     #plt.xticks(rotation=45)\n",
    "#     print('\\n')\n",
    "#     plt.show()'''"
   ]
  },
  {
   "cell_type": "code",
   "execution_count": 126,
   "id": "cb8d8be2",
   "metadata": {},
   "outputs": [
    {
     "data": {
      "text/html": [
       "<div>\n",
       "<style scoped>\n",
       "    .dataframe tbody tr th:only-of-type {\n",
       "        vertical-align: middle;\n",
       "    }\n",
       "\n",
       "    .dataframe tbody tr th {\n",
       "        vertical-align: top;\n",
       "    }\n",
       "\n",
       "    .dataframe thead th {\n",
       "        text-align: right;\n",
       "    }\n",
       "</style>\n",
       "<table border=\"1\" class=\"dataframe\">\n",
       "  <thead>\n",
       "    <tr style=\"text-align: right;\">\n",
       "      <th></th>\n",
       "      <th>City</th>\n",
       "      <th>Zip Code</th>\n",
       "      <th>Latitude</th>\n",
       "      <th>Longitude</th>\n",
       "      <th>Gender</th>\n",
       "      <th>Senior Citizen</th>\n",
       "      <th>Partner</th>\n",
       "      <th>Dependents</th>\n",
       "      <th>Tenure Months</th>\n",
       "      <th>Phone Service</th>\n",
       "      <th>Multiple Lines</th>\n",
       "      <th>Internet Service</th>\n",
       "      <th>Online Security</th>\n",
       "      <th>Online Backup</th>\n",
       "      <th>Device Protection</th>\n",
       "      <th>Tech Support</th>\n",
       "      <th>Streaming TV</th>\n",
       "      <th>Streaming Movies</th>\n",
       "      <th>Contract</th>\n",
       "      <th>Paperless Billing</th>\n",
       "      <th>Payment Method</th>\n",
       "      <th>Monthly Charges</th>\n",
       "      <th>Total Charges</th>\n",
       "      <th>Churn Value</th>\n",
       "    </tr>\n",
       "  </thead>\n",
       "  <tbody>\n",
       "    <tr>\n",
       "      <th>0</th>\n",
       "      <td>Los Angeles</td>\n",
       "      <td>90003</td>\n",
       "      <td>33.964131</td>\n",
       "      <td>-118.272783</td>\n",
       "      <td>Male</td>\n",
       "      <td>No</td>\n",
       "      <td>No</td>\n",
       "      <td>No</td>\n",
       "      <td>2</td>\n",
       "      <td>Yes</td>\n",
       "      <td>No</td>\n",
       "      <td>DSL</td>\n",
       "      <td>Yes</td>\n",
       "      <td>Yes</td>\n",
       "      <td>No</td>\n",
       "      <td>No</td>\n",
       "      <td>No</td>\n",
       "      <td>No</td>\n",
       "      <td>Month-to-month</td>\n",
       "      <td>Yes</td>\n",
       "      <td>Mailed check</td>\n",
       "      <td>53.85</td>\n",
       "      <td>108.15</td>\n",
       "      <td>1</td>\n",
       "    </tr>\n",
       "    <tr>\n",
       "      <th>1</th>\n",
       "      <td>Los Angeles</td>\n",
       "      <td>90005</td>\n",
       "      <td>34.059281</td>\n",
       "      <td>-118.307420</td>\n",
       "      <td>Female</td>\n",
       "      <td>No</td>\n",
       "      <td>No</td>\n",
       "      <td>Yes</td>\n",
       "      <td>2</td>\n",
       "      <td>Yes</td>\n",
       "      <td>No</td>\n",
       "      <td>Fiber optic</td>\n",
       "      <td>No</td>\n",
       "      <td>No</td>\n",
       "      <td>No</td>\n",
       "      <td>No</td>\n",
       "      <td>No</td>\n",
       "      <td>No</td>\n",
       "      <td>Month-to-month</td>\n",
       "      <td>Yes</td>\n",
       "      <td>Electronic check</td>\n",
       "      <td>70.70</td>\n",
       "      <td>151.65</td>\n",
       "      <td>1</td>\n",
       "    </tr>\n",
       "    <tr>\n",
       "      <th>2</th>\n",
       "      <td>Los Angeles</td>\n",
       "      <td>90006</td>\n",
       "      <td>34.048013</td>\n",
       "      <td>-118.293953</td>\n",
       "      <td>Female</td>\n",
       "      <td>No</td>\n",
       "      <td>No</td>\n",
       "      <td>Yes</td>\n",
       "      <td>8</td>\n",
       "      <td>Yes</td>\n",
       "      <td>Yes</td>\n",
       "      <td>Fiber optic</td>\n",
       "      <td>No</td>\n",
       "      <td>No</td>\n",
       "      <td>Yes</td>\n",
       "      <td>No</td>\n",
       "      <td>Yes</td>\n",
       "      <td>Yes</td>\n",
       "      <td>Month-to-month</td>\n",
       "      <td>Yes</td>\n",
       "      <td>Electronic check</td>\n",
       "      <td>99.65</td>\n",
       "      <td>820.5</td>\n",
       "      <td>1</td>\n",
       "    </tr>\n",
       "    <tr>\n",
       "      <th>3</th>\n",
       "      <td>Los Angeles</td>\n",
       "      <td>90010</td>\n",
       "      <td>34.062125</td>\n",
       "      <td>-118.315709</td>\n",
       "      <td>Female</td>\n",
       "      <td>No</td>\n",
       "      <td>Yes</td>\n",
       "      <td>Yes</td>\n",
       "      <td>28</td>\n",
       "      <td>Yes</td>\n",
       "      <td>Yes</td>\n",
       "      <td>Fiber optic</td>\n",
       "      <td>No</td>\n",
       "      <td>No</td>\n",
       "      <td>Yes</td>\n",
       "      <td>Yes</td>\n",
       "      <td>Yes</td>\n",
       "      <td>Yes</td>\n",
       "      <td>Month-to-month</td>\n",
       "      <td>Yes</td>\n",
       "      <td>Electronic check</td>\n",
       "      <td>104.80</td>\n",
       "      <td>3046.05</td>\n",
       "      <td>1</td>\n",
       "    </tr>\n",
       "    <tr>\n",
       "      <th>4</th>\n",
       "      <td>Los Angeles</td>\n",
       "      <td>90015</td>\n",
       "      <td>34.039224</td>\n",
       "      <td>-118.266293</td>\n",
       "      <td>Male</td>\n",
       "      <td>No</td>\n",
       "      <td>No</td>\n",
       "      <td>Yes</td>\n",
       "      <td>49</td>\n",
       "      <td>Yes</td>\n",
       "      <td>Yes</td>\n",
       "      <td>Fiber optic</td>\n",
       "      <td>No</td>\n",
       "      <td>Yes</td>\n",
       "      <td>Yes</td>\n",
       "      <td>No</td>\n",
       "      <td>Yes</td>\n",
       "      <td>Yes</td>\n",
       "      <td>Month-to-month</td>\n",
       "      <td>Yes</td>\n",
       "      <td>Bank transfer (automatic)</td>\n",
       "      <td>103.70</td>\n",
       "      <td>5036.3</td>\n",
       "      <td>1</td>\n",
       "    </tr>\n",
       "  </tbody>\n",
       "</table>\n",
       "</div>"
      ],
      "text/plain": [
       "          City  Zip Code   Latitude   Longitude  Gender Senior Citizen  \\\n",
       "0  Los Angeles     90003  33.964131 -118.272783    Male             No   \n",
       "1  Los Angeles     90005  34.059281 -118.307420  Female             No   \n",
       "2  Los Angeles     90006  34.048013 -118.293953  Female             No   \n",
       "3  Los Angeles     90010  34.062125 -118.315709  Female             No   \n",
       "4  Los Angeles     90015  34.039224 -118.266293    Male             No   \n",
       "\n",
       "  Partner Dependents  Tenure Months Phone Service Multiple Lines  \\\n",
       "0      No         No              2           Yes             No   \n",
       "1      No        Yes              2           Yes             No   \n",
       "2      No        Yes              8           Yes            Yes   \n",
       "3     Yes        Yes             28           Yes            Yes   \n",
       "4      No        Yes             49           Yes            Yes   \n",
       "\n",
       "  Internet Service Online Security Online Backup Device Protection  \\\n",
       "0              DSL             Yes           Yes                No   \n",
       "1      Fiber optic              No            No                No   \n",
       "2      Fiber optic              No            No               Yes   \n",
       "3      Fiber optic              No            No               Yes   \n",
       "4      Fiber optic              No           Yes               Yes   \n",
       "\n",
       "  Tech Support Streaming TV Streaming Movies        Contract  \\\n",
       "0           No           No               No  Month-to-month   \n",
       "1           No           No               No  Month-to-month   \n",
       "2           No          Yes              Yes  Month-to-month   \n",
       "3          Yes          Yes              Yes  Month-to-month   \n",
       "4           No          Yes              Yes  Month-to-month   \n",
       "\n",
       "  Paperless Billing             Payment Method  Monthly Charges Total Charges  \\\n",
       "0               Yes               Mailed check            53.85        108.15   \n",
       "1               Yes           Electronic check            70.70        151.65   \n",
       "2               Yes           Electronic check            99.65         820.5   \n",
       "3               Yes           Electronic check           104.80       3046.05   \n",
       "4               Yes  Bank transfer (automatic)           103.70        5036.3   \n",
       "\n",
       "   Churn Value  \n",
       "0            1  \n",
       "1            1  \n",
       "2            1  \n",
       "3            1  \n",
       "4            1  "
      ]
     },
     "execution_count": 126,
     "metadata": {},
     "output_type": "execute_result"
    }
   ],
   "source": [
    "data.head()"
   ]
  },
  {
   "cell_type": "code",
   "execution_count": 127,
   "id": "b01e66ee",
   "metadata": {},
   "outputs": [
    {
     "data": {
      "text/plain": [
       "(7043, 24)"
      ]
     },
     "execution_count": 127,
     "metadata": {},
     "output_type": "execute_result"
    }
   ],
   "source": [
    "data.shape"
   ]
  },
  {
   "cell_type": "code",
   "execution_count": 131,
   "id": "f2826cd9",
   "metadata": {},
   "outputs": [],
   "source": [
    "# We want to replace white spaces in cities\n",
    "data['City'].replace(' ','_',regex=True, inplace=True)"
   ]
  },
  {
   "cell_type": "code",
   "execution_count": 133,
   "id": "da116ae8",
   "metadata": {},
   "outputs": [
    {
     "data": {
      "text/plain": [
       "0    Los_Angeles\n",
       "1    Los_Angeles\n",
       "2    Los_Angeles\n",
       "3    Los_Angeles\n",
       "4    Los_Angeles\n",
       "Name: City, dtype: object"
      ]
     },
     "execution_count": 133,
     "metadata": {},
     "output_type": "execute_result"
    }
   ],
   "source": [
    "data['City'].head()"
   ]
  },
  {
   "cell_type": "code",
   "execution_count": 137,
   "id": "94100bcd",
   "metadata": {},
   "outputs": [],
   "source": [
    "# Also lets remove white spaces from the column names\n",
    "data.columns=data.columns.str.replace(' ','_', regex = True)"
   ]
  },
  {
   "cell_type": "code",
   "execution_count": 138,
   "id": "3329b850",
   "metadata": {},
   "outputs": [
    {
     "data": {
      "text/plain": [
       "Index(['City', 'Zip_Code', 'Latitude', 'Longitude', 'Gender', 'Senior_Citizen',\n",
       "       'Partner', 'Dependents', 'Tenure_Months', 'Phone_Service',\n",
       "       'Multiple_Lines', 'Internet_Service', 'Online_Security',\n",
       "       'Online_Backup', 'Device_Protection', 'Tech_Support', 'Streaming_TV',\n",
       "       'Streaming_Movies', 'Contract', 'Paperless_Billing', 'Payment_Method',\n",
       "       'Monthly_Charges', 'Total_Charges', 'Churn_Value'],\n",
       "      dtype='object')"
      ]
     },
     "execution_count": 138,
     "metadata": {},
     "output_type": "execute_result"
    }
   ],
   "source": [
    "data.columns"
   ]
  },
  {
   "cell_type": "markdown",
   "id": "baa6ad92",
   "metadata": {},
   "source": [
    "### Lets see how much of data is missing\n"
   ]
  },
  {
   "cell_type": "code",
   "execution_count": 141,
   "id": "42efbc5e",
   "metadata": {},
   "outputs": [
    {
     "data": {
      "text/plain": [
       "0"
      ]
     },
     "execution_count": 141,
     "metadata": {},
     "output_type": "execute_result"
    }
   ],
   "source": [
    "data.isnull().sum().sum()"
   ]
  },
  {
   "cell_type": "markdown",
   "id": "d37d1334",
   "metadata": {},
   "source": [
    "### Now we kow that dataset doesn't contain any missing data but what about if any of the features contain unexpected values such as ??, ... or any other garbage values"
   ]
  },
  {
   "cell_type": "markdown",
   "id": "807ae6ad",
   "metadata": {},
   "source": [
    "### For XGBOOST we can replace missing data with zeros. It works pretty well & knows how to deal with it."
   ]
  },
  {
   "cell_type": "code",
   "execution_count": 142,
   "id": "8d91c0bd",
   "metadata": {},
   "outputs": [],
   "source": [
    "# Looking at the datatype of each columns to get a hint if there could be any garbagevalue in numeric column"
   ]
  },
  {
   "cell_type": "code",
   "execution_count": 143,
   "id": "84c49ed6",
   "metadata": {},
   "outputs": [
    {
     "data": {
      "text/plain": [
       "object     18\n",
       "int64       3\n",
       "float64     3\n",
       "dtype: int64"
      ]
     },
     "execution_count": 143,
     "metadata": {},
     "output_type": "execute_result"
    }
   ],
   "source": [
    "data.dtypes.value_counts()"
   ]
  },
  {
   "cell_type": "code",
   "execution_count": 148,
   "id": "01c0efa5",
   "metadata": {},
   "outputs": [
    {
     "data": {
      "text/plain": [
       "City                  object\n",
       "Zip_Code               int64\n",
       "Latitude             float64\n",
       "Longitude            float64\n",
       "Gender                object\n",
       "Senior_Citizen        object\n",
       "Partner               object\n",
       "Dependents            object\n",
       "Tenure_Months          int64\n",
       "Phone_Service         object\n",
       "Multiple_Lines        object\n",
       "Internet_Service      object\n",
       "Online_Security       object\n",
       "Online_Backup         object\n",
       "Device_Protection     object\n",
       "Tech_Support          object\n",
       "Streaming_TV          object\n",
       "Streaming_Movies      object\n",
       "Contract              object\n",
       "Paperless_Billing     object\n",
       "Payment_Method        object\n",
       "Monthly_Charges      float64\n",
       "Total_Charges         object\n",
       "Churn_Value            int64\n",
       "dtype: object"
      ]
     },
     "execution_count": 148,
     "metadata": {},
     "output_type": "execute_result"
    }
   ],
   "source": [
    "data.dtypes"
   ]
  },
  {
   "cell_type": "code",
   "execution_count": 149,
   "id": "4af37a22",
   "metadata": {},
   "outputs": [
    {
     "data": {
      "text/html": [
       "<div>\n",
       "<style scoped>\n",
       "    .dataframe tbody tr th:only-of-type {\n",
       "        vertical-align: middle;\n",
       "    }\n",
       "\n",
       "    .dataframe tbody tr th {\n",
       "        vertical-align: top;\n",
       "    }\n",
       "\n",
       "    .dataframe thead th {\n",
       "        text-align: right;\n",
       "    }\n",
       "</style>\n",
       "<table border=\"1\" class=\"dataframe\">\n",
       "  <thead>\n",
       "    <tr style=\"text-align: right;\">\n",
       "      <th></th>\n",
       "      <th>City</th>\n",
       "      <th>Zip_Code</th>\n",
       "      <th>Latitude</th>\n",
       "      <th>Longitude</th>\n",
       "      <th>Gender</th>\n",
       "      <th>Senior_Citizen</th>\n",
       "      <th>Partner</th>\n",
       "      <th>Dependents</th>\n",
       "      <th>Tenure_Months</th>\n",
       "      <th>Phone_Service</th>\n",
       "      <th>Multiple_Lines</th>\n",
       "      <th>Internet_Service</th>\n",
       "      <th>Online_Security</th>\n",
       "      <th>Online_Backup</th>\n",
       "      <th>Device_Protection</th>\n",
       "      <th>Tech_Support</th>\n",
       "      <th>Streaming_TV</th>\n",
       "      <th>Streaming_Movies</th>\n",
       "      <th>Contract</th>\n",
       "      <th>Paperless_Billing</th>\n",
       "      <th>Payment_Method</th>\n",
       "      <th>Monthly_Charges</th>\n",
       "      <th>Total_Charges</th>\n",
       "      <th>Churn_Value</th>\n",
       "    </tr>\n",
       "  </thead>\n",
       "  <tbody>\n",
       "    <tr>\n",
       "      <th>0</th>\n",
       "      <td>Los_Angeles</td>\n",
       "      <td>90003</td>\n",
       "      <td>33.964131</td>\n",
       "      <td>-118.272783</td>\n",
       "      <td>Male</td>\n",
       "      <td>No</td>\n",
       "      <td>No</td>\n",
       "      <td>No</td>\n",
       "      <td>2</td>\n",
       "      <td>Yes</td>\n",
       "      <td>No</td>\n",
       "      <td>DSL</td>\n",
       "      <td>Yes</td>\n",
       "      <td>Yes</td>\n",
       "      <td>No</td>\n",
       "      <td>No</td>\n",
       "      <td>No</td>\n",
       "      <td>No</td>\n",
       "      <td>Month-to-month</td>\n",
       "      <td>Yes</td>\n",
       "      <td>Mailed check</td>\n",
       "      <td>53.85</td>\n",
       "      <td>108.15</td>\n",
       "      <td>1</td>\n",
       "    </tr>\n",
       "    <tr>\n",
       "      <th>1</th>\n",
       "      <td>Los_Angeles</td>\n",
       "      <td>90005</td>\n",
       "      <td>34.059281</td>\n",
       "      <td>-118.307420</td>\n",
       "      <td>Female</td>\n",
       "      <td>No</td>\n",
       "      <td>No</td>\n",
       "      <td>Yes</td>\n",
       "      <td>2</td>\n",
       "      <td>Yes</td>\n",
       "      <td>No</td>\n",
       "      <td>Fiber optic</td>\n",
       "      <td>No</td>\n",
       "      <td>No</td>\n",
       "      <td>No</td>\n",
       "      <td>No</td>\n",
       "      <td>No</td>\n",
       "      <td>No</td>\n",
       "      <td>Month-to-month</td>\n",
       "      <td>Yes</td>\n",
       "      <td>Electronic check</td>\n",
       "      <td>70.70</td>\n",
       "      <td>151.65</td>\n",
       "      <td>1</td>\n",
       "    </tr>\n",
       "  </tbody>\n",
       "</table>\n",
       "</div>"
      ],
      "text/plain": [
       "          City  Zip_Code   Latitude   Longitude  Gender Senior_Citizen  \\\n",
       "0  Los_Angeles     90003  33.964131 -118.272783    Male             No   \n",
       "1  Los_Angeles     90005  34.059281 -118.307420  Female             No   \n",
       "\n",
       "  Partner Dependents  Tenure_Months Phone_Service Multiple_Lines  \\\n",
       "0      No         No              2           Yes             No   \n",
       "1      No        Yes              2           Yes             No   \n",
       "\n",
       "  Internet_Service Online_Security Online_Backup Device_Protection  \\\n",
       "0              DSL             Yes           Yes                No   \n",
       "1      Fiber optic              No            No                No   \n",
       "\n",
       "  Tech_Support Streaming_TV Streaming_Movies        Contract  \\\n",
       "0           No           No               No  Month-to-month   \n",
       "1           No           No               No  Month-to-month   \n",
       "\n",
       "  Paperless_Billing    Payment_Method  Monthly_Charges Total_Charges  \\\n",
       "0               Yes      Mailed check            53.85        108.15   \n",
       "1               Yes  Electronic check            70.70        151.65   \n",
       "\n",
       "   Churn_Value  \n",
       "0            1  \n",
       "1            1  "
      ]
     },
     "execution_count": 149,
     "metadata": {},
     "output_type": "execute_result"
    }
   ],
   "source": [
    "data.head(2)"
   ]
  },
  {
   "cell_type": "code",
   "execution_count": 150,
   "id": "4d0d3e0e",
   "metadata": {},
   "outputs": [],
   "source": [
    "# Monthly Charges & Total Charges both should be float but only Monthly Charges is float.\n",
    "# Total_charges might be an issue here.\n",
    "# lets try to convert it to float and see"
   ]
  },
  {
   "cell_type": "code",
   "execution_count": 154,
   "id": "67f7bb43",
   "metadata": {},
   "outputs": [],
   "source": [
    "#data['Total_Charges'].astype('float')\n",
    "# It cant covert string to float means there is some garbage or non number value"
   ]
  },
  {
   "cell_type": "code",
   "execution_count": 162,
   "id": "ac284c8b",
   "metadata": {},
   "outputs": [
    {
     "ename": "ValueError",
     "evalue": "Unable to parse string \" \" at position 2234",
     "output_type": "error",
     "traceback": [
      "\u001b[1;31m---------------------------------------------------------------------------\u001b[0m",
      "\u001b[1;31mValueError\u001b[0m                                Traceback (most recent call last)",
      "\u001b[1;32mC:\\ProgramData\\Anaconda3\\lib\\site-packages\\pandas\\_libs\\lib.pyx\u001b[0m in \u001b[0;36mpandas._libs.lib.maybe_convert_numeric\u001b[1;34m()\u001b[0m\n",
      "\u001b[1;31mValueError\u001b[0m: Unable to parse string \" \"",
      "\nDuring handling of the above exception, another exception occurred:\n",
      "\u001b[1;31mValueError\u001b[0m                                Traceback (most recent call last)",
      "\u001b[1;32mC:\\Users\\ADMINI~1\\AppData\\Local\\Temp\\2/ipykernel_6320/2597053560.py\u001b[0m in \u001b[0;36m<module>\u001b[1;34m\u001b[0m\n\u001b[1;32m----> 1\u001b[1;33m \u001b[0mpd\u001b[0m\u001b[1;33m.\u001b[0m\u001b[0mto_numeric\u001b[0m\u001b[1;33m(\u001b[0m\u001b[0mdata\u001b[0m\u001b[1;33m[\u001b[0m\u001b[1;34m'Total_Charges'\u001b[0m\u001b[1;33m]\u001b[0m\u001b[1;33m)\u001b[0m\u001b[1;33m\u001b[0m\u001b[1;33m\u001b[0m\u001b[0m\n\u001b[0m",
      "\u001b[1;32mC:\\ProgramData\\Anaconda3\\lib\\site-packages\\pandas\\core\\tools\\numeric.py\u001b[0m in \u001b[0;36mto_numeric\u001b[1;34m(arg, errors, downcast)\u001b[0m\n\u001b[0;32m    181\u001b[0m         \u001b[0mcoerce_numeric\u001b[0m \u001b[1;33m=\u001b[0m \u001b[0merrors\u001b[0m \u001b[1;32mnot\u001b[0m \u001b[1;32min\u001b[0m \u001b[1;33m(\u001b[0m\u001b[1;34m\"ignore\"\u001b[0m\u001b[1;33m,\u001b[0m \u001b[1;34m\"raise\"\u001b[0m\u001b[1;33m)\u001b[0m\u001b[1;33m\u001b[0m\u001b[1;33m\u001b[0m\u001b[0m\n\u001b[0;32m    182\u001b[0m         \u001b[1;32mtry\u001b[0m\u001b[1;33m:\u001b[0m\u001b[1;33m\u001b[0m\u001b[1;33m\u001b[0m\u001b[0m\n\u001b[1;32m--> 183\u001b[1;33m             values, _ = lib.maybe_convert_numeric(\n\u001b[0m\u001b[0;32m    184\u001b[0m                 \u001b[0mvalues\u001b[0m\u001b[1;33m,\u001b[0m \u001b[0mset\u001b[0m\u001b[1;33m(\u001b[0m\u001b[1;33m)\u001b[0m\u001b[1;33m,\u001b[0m \u001b[0mcoerce_numeric\u001b[0m\u001b[1;33m=\u001b[0m\u001b[0mcoerce_numeric\u001b[0m\u001b[1;33m\u001b[0m\u001b[1;33m\u001b[0m\u001b[0m\n\u001b[0;32m    185\u001b[0m             )\n",
      "\u001b[1;32mC:\\ProgramData\\Anaconda3\\lib\\site-packages\\pandas\\_libs\\lib.pyx\u001b[0m in \u001b[0;36mpandas._libs.lib.maybe_convert_numeric\u001b[1;34m()\u001b[0m\n",
      "\u001b[1;31mValueError\u001b[0m: Unable to parse string \" \" at position 2234"
     ]
    }
   ],
   "source": [
    "pd.to_numeric(data['Total_Charges'])"
   ]
  },
  {
   "cell_type": "code",
   "execution_count": 163,
   "id": "42624475",
   "metadata": {},
   "outputs": [
    {
     "data": {
      "text/plain": [
       "City                            San_Bernardino\n",
       "Zip_Code                                 92408\n",
       "Latitude                             34.084909\n",
       "Longitude                          -117.258107\n",
       "Gender                                  Female\n",
       "Senior_Citizen                              No\n",
       "Partner                                    Yes\n",
       "Dependents                                  No\n",
       "Tenure_Months                                0\n",
       "Phone_Service                               No\n",
       "Multiple_Lines                No phone service\n",
       "Internet_Service                           DSL\n",
       "Online_Security                            Yes\n",
       "Online_Backup                               No\n",
       "Device_Protection                          Yes\n",
       "Tech_Support                               Yes\n",
       "Streaming_TV                               Yes\n",
       "Streaming_Movies                            No\n",
       "Contract                              Two year\n",
       "Paperless_Billing                          Yes\n",
       "Payment_Method       Bank transfer (automatic)\n",
       "Monthly_Charges                          52.55\n",
       "Total_Charges                                 \n",
       "Churn_Value                                  0\n",
       "Name: 2234, dtype: object"
      ]
     },
     "execution_count": 163,
     "metadata": {},
     "output_type": "execute_result"
    }
   ],
   "source": [
    "data.iloc[2234,:]"
   ]
  },
  {
   "cell_type": "code",
   "execution_count": 166,
   "id": "e11d7e85",
   "metadata": {},
   "outputs": [
    {
     "data": {
      "text/plain": [
       "' '"
      ]
     },
     "execution_count": 166,
     "metadata": {},
     "output_type": "execute_result"
    }
   ],
   "source": [
    "data.iloc[2234,-2]\n",
    "# here we have empty space here"
   ]
  },
  {
   "cell_type": "code",
   "execution_count": 174,
   "id": "69cd233d",
   "metadata": {},
   "outputs": [
    {
     "data": {
      "text/plain": [
       "11"
      ]
     },
     "execution_count": 174,
     "metadata": {},
     "output_type": "execute_result"
    }
   ],
   "source": [
    "# LEts see how many of spaces do we have\n",
    "len(data[data['Total_Charges']==' '])"
   ]
  },
  {
   "cell_type": "code",
   "execution_count": 175,
   "id": "0bcefd3b",
   "metadata": {},
   "outputs": [
    {
     "data": {
      "text/html": [
       "<div>\n",
       "<style scoped>\n",
       "    .dataframe tbody tr th:only-of-type {\n",
       "        vertical-align: middle;\n",
       "    }\n",
       "\n",
       "    .dataframe tbody tr th {\n",
       "        vertical-align: top;\n",
       "    }\n",
       "\n",
       "    .dataframe thead th {\n",
       "        text-align: right;\n",
       "    }\n",
       "</style>\n",
       "<table border=\"1\" class=\"dataframe\">\n",
       "  <thead>\n",
       "    <tr style=\"text-align: right;\">\n",
       "      <th></th>\n",
       "      <th>City</th>\n",
       "      <th>Zip_Code</th>\n",
       "      <th>Latitude</th>\n",
       "      <th>Longitude</th>\n",
       "      <th>Gender</th>\n",
       "      <th>Senior_Citizen</th>\n",
       "      <th>Partner</th>\n",
       "      <th>Dependents</th>\n",
       "      <th>Tenure_Months</th>\n",
       "      <th>Phone_Service</th>\n",
       "      <th>Multiple_Lines</th>\n",
       "      <th>Internet_Service</th>\n",
       "      <th>Online_Security</th>\n",
       "      <th>Online_Backup</th>\n",
       "      <th>Device_Protection</th>\n",
       "      <th>Tech_Support</th>\n",
       "      <th>Streaming_TV</th>\n",
       "      <th>Streaming_Movies</th>\n",
       "      <th>Contract</th>\n",
       "      <th>Paperless_Billing</th>\n",
       "      <th>Payment_Method</th>\n",
       "      <th>Monthly_Charges</th>\n",
       "      <th>Total_Charges</th>\n",
       "      <th>Churn_Value</th>\n",
       "    </tr>\n",
       "  </thead>\n",
       "  <tbody>\n",
       "    <tr>\n",
       "      <th>2234</th>\n",
       "      <td>San_Bernardino</td>\n",
       "      <td>92408</td>\n",
       "      <td>34.084909</td>\n",
       "      <td>-117.258107</td>\n",
       "      <td>Female</td>\n",
       "      <td>No</td>\n",
       "      <td>Yes</td>\n",
       "      <td>No</td>\n",
       "      <td>0</td>\n",
       "      <td>No</td>\n",
       "      <td>No phone service</td>\n",
       "      <td>DSL</td>\n",
       "      <td>Yes</td>\n",
       "      <td>No</td>\n",
       "      <td>Yes</td>\n",
       "      <td>Yes</td>\n",
       "      <td>Yes</td>\n",
       "      <td>No</td>\n",
       "      <td>Two year</td>\n",
       "      <td>Yes</td>\n",
       "      <td>Bank transfer (automatic)</td>\n",
       "      <td>52.55</td>\n",
       "      <td></td>\n",
       "      <td>0</td>\n",
       "    </tr>\n",
       "    <tr>\n",
       "      <th>2438</th>\n",
       "      <td>Independence</td>\n",
       "      <td>93526</td>\n",
       "      <td>36.869584</td>\n",
       "      <td>-118.189241</td>\n",
       "      <td>Male</td>\n",
       "      <td>No</td>\n",
       "      <td>No</td>\n",
       "      <td>No</td>\n",
       "      <td>0</td>\n",
       "      <td>Yes</td>\n",
       "      <td>No</td>\n",
       "      <td>No</td>\n",
       "      <td>No internet service</td>\n",
       "      <td>No internet service</td>\n",
       "      <td>No internet service</td>\n",
       "      <td>No internet service</td>\n",
       "      <td>No internet service</td>\n",
       "      <td>No internet service</td>\n",
       "      <td>Two year</td>\n",
       "      <td>No</td>\n",
       "      <td>Mailed check</td>\n",
       "      <td>20.25</td>\n",
       "      <td></td>\n",
       "      <td>0</td>\n",
       "    </tr>\n",
       "    <tr>\n",
       "      <th>2568</th>\n",
       "      <td>San_Mateo</td>\n",
       "      <td>94401</td>\n",
       "      <td>37.590421</td>\n",
       "      <td>-122.306467</td>\n",
       "      <td>Female</td>\n",
       "      <td>No</td>\n",
       "      <td>Yes</td>\n",
       "      <td>No</td>\n",
       "      <td>0</td>\n",
       "      <td>Yes</td>\n",
       "      <td>No</td>\n",
       "      <td>DSL</td>\n",
       "      <td>Yes</td>\n",
       "      <td>Yes</td>\n",
       "      <td>Yes</td>\n",
       "      <td>No</td>\n",
       "      <td>Yes</td>\n",
       "      <td>Yes</td>\n",
       "      <td>Two year</td>\n",
       "      <td>No</td>\n",
       "      <td>Mailed check</td>\n",
       "      <td>80.85</td>\n",
       "      <td></td>\n",
       "      <td>0</td>\n",
       "    </tr>\n",
       "    <tr>\n",
       "      <th>2667</th>\n",
       "      <td>Cupertino</td>\n",
       "      <td>95014</td>\n",
       "      <td>37.306612</td>\n",
       "      <td>-122.080621</td>\n",
       "      <td>Male</td>\n",
       "      <td>No</td>\n",
       "      <td>Yes</td>\n",
       "      <td>Yes</td>\n",
       "      <td>0</td>\n",
       "      <td>Yes</td>\n",
       "      <td>Yes</td>\n",
       "      <td>No</td>\n",
       "      <td>No internet service</td>\n",
       "      <td>No internet service</td>\n",
       "      <td>No internet service</td>\n",
       "      <td>No internet service</td>\n",
       "      <td>No internet service</td>\n",
       "      <td>No internet service</td>\n",
       "      <td>Two year</td>\n",
       "      <td>No</td>\n",
       "      <td>Mailed check</td>\n",
       "      <td>25.75</td>\n",
       "      <td></td>\n",
       "      <td>0</td>\n",
       "    </tr>\n",
       "    <tr>\n",
       "      <th>2856</th>\n",
       "      <td>Redcrest</td>\n",
       "      <td>95569</td>\n",
       "      <td>40.363446</td>\n",
       "      <td>-123.835041</td>\n",
       "      <td>Female</td>\n",
       "      <td>No</td>\n",
       "      <td>Yes</td>\n",
       "      <td>No</td>\n",
       "      <td>0</td>\n",
       "      <td>No</td>\n",
       "      <td>No phone service</td>\n",
       "      <td>DSL</td>\n",
       "      <td>Yes</td>\n",
       "      <td>Yes</td>\n",
       "      <td>Yes</td>\n",
       "      <td>Yes</td>\n",
       "      <td>Yes</td>\n",
       "      <td>No</td>\n",
       "      <td>Two year</td>\n",
       "      <td>No</td>\n",
       "      <td>Credit card (automatic)</td>\n",
       "      <td>56.05</td>\n",
       "      <td></td>\n",
       "      <td>0</td>\n",
       "    </tr>\n",
       "    <tr>\n",
       "      <th>4331</th>\n",
       "      <td>Los_Angeles</td>\n",
       "      <td>90029</td>\n",
       "      <td>34.089953</td>\n",
       "      <td>-118.294824</td>\n",
       "      <td>Male</td>\n",
       "      <td>No</td>\n",
       "      <td>Yes</td>\n",
       "      <td>Yes</td>\n",
       "      <td>0</td>\n",
       "      <td>Yes</td>\n",
       "      <td>No</td>\n",
       "      <td>No</td>\n",
       "      <td>No internet service</td>\n",
       "      <td>No internet service</td>\n",
       "      <td>No internet service</td>\n",
       "      <td>No internet service</td>\n",
       "      <td>No internet service</td>\n",
       "      <td>No internet service</td>\n",
       "      <td>Two year</td>\n",
       "      <td>No</td>\n",
       "      <td>Mailed check</td>\n",
       "      <td>19.85</td>\n",
       "      <td></td>\n",
       "      <td>0</td>\n",
       "    </tr>\n",
       "    <tr>\n",
       "      <th>4687</th>\n",
       "      <td>Sun_City</td>\n",
       "      <td>92585</td>\n",
       "      <td>33.739412</td>\n",
       "      <td>-117.173334</td>\n",
       "      <td>Male</td>\n",
       "      <td>No</td>\n",
       "      <td>Yes</td>\n",
       "      <td>Yes</td>\n",
       "      <td>0</td>\n",
       "      <td>Yes</td>\n",
       "      <td>Yes</td>\n",
       "      <td>No</td>\n",
       "      <td>No internet service</td>\n",
       "      <td>No internet service</td>\n",
       "      <td>No internet service</td>\n",
       "      <td>No internet service</td>\n",
       "      <td>No internet service</td>\n",
       "      <td>No internet service</td>\n",
       "      <td>Two year</td>\n",
       "      <td>No</td>\n",
       "      <td>Mailed check</td>\n",
       "      <td>25.35</td>\n",
       "      <td></td>\n",
       "      <td>0</td>\n",
       "    </tr>\n",
       "    <tr>\n",
       "      <th>5104</th>\n",
       "      <td>Ben_Lomond</td>\n",
       "      <td>95005</td>\n",
       "      <td>37.078873</td>\n",
       "      <td>-122.090386</td>\n",
       "      <td>Female</td>\n",
       "      <td>No</td>\n",
       "      <td>Yes</td>\n",
       "      <td>Yes</td>\n",
       "      <td>0</td>\n",
       "      <td>Yes</td>\n",
       "      <td>No</td>\n",
       "      <td>No</td>\n",
       "      <td>No internet service</td>\n",
       "      <td>No internet service</td>\n",
       "      <td>No internet service</td>\n",
       "      <td>No internet service</td>\n",
       "      <td>No internet service</td>\n",
       "      <td>No internet service</td>\n",
       "      <td>Two year</td>\n",
       "      <td>No</td>\n",
       "      <td>Mailed check</td>\n",
       "      <td>20.00</td>\n",
       "      <td></td>\n",
       "      <td>0</td>\n",
       "    </tr>\n",
       "    <tr>\n",
       "      <th>5719</th>\n",
       "      <td>La_Verne</td>\n",
       "      <td>91750</td>\n",
       "      <td>34.144703</td>\n",
       "      <td>-117.770299</td>\n",
       "      <td>Male</td>\n",
       "      <td>No</td>\n",
       "      <td>Yes</td>\n",
       "      <td>Yes</td>\n",
       "      <td>0</td>\n",
       "      <td>Yes</td>\n",
       "      <td>No</td>\n",
       "      <td>No</td>\n",
       "      <td>No internet service</td>\n",
       "      <td>No internet service</td>\n",
       "      <td>No internet service</td>\n",
       "      <td>No internet service</td>\n",
       "      <td>No internet service</td>\n",
       "      <td>No internet service</td>\n",
       "      <td>One year</td>\n",
       "      <td>Yes</td>\n",
       "      <td>Mailed check</td>\n",
       "      <td>19.70</td>\n",
       "      <td></td>\n",
       "      <td>0</td>\n",
       "    </tr>\n",
       "    <tr>\n",
       "      <th>6772</th>\n",
       "      <td>Bell</td>\n",
       "      <td>90201</td>\n",
       "      <td>33.970343</td>\n",
       "      <td>-118.171368</td>\n",
       "      <td>Female</td>\n",
       "      <td>No</td>\n",
       "      <td>Yes</td>\n",
       "      <td>Yes</td>\n",
       "      <td>0</td>\n",
       "      <td>Yes</td>\n",
       "      <td>Yes</td>\n",
       "      <td>DSL</td>\n",
       "      <td>No</td>\n",
       "      <td>Yes</td>\n",
       "      <td>Yes</td>\n",
       "      <td>Yes</td>\n",
       "      <td>Yes</td>\n",
       "      <td>No</td>\n",
       "      <td>Two year</td>\n",
       "      <td>No</td>\n",
       "      <td>Mailed check</td>\n",
       "      <td>73.35</td>\n",
       "      <td></td>\n",
       "      <td>0</td>\n",
       "    </tr>\n",
       "    <tr>\n",
       "      <th>6840</th>\n",
       "      <td>Wilmington</td>\n",
       "      <td>90744</td>\n",
       "      <td>33.782068</td>\n",
       "      <td>-118.262263</td>\n",
       "      <td>Male</td>\n",
       "      <td>No</td>\n",
       "      <td>No</td>\n",
       "      <td>Yes</td>\n",
       "      <td>0</td>\n",
       "      <td>Yes</td>\n",
       "      <td>Yes</td>\n",
       "      <td>DSL</td>\n",
       "      <td>Yes</td>\n",
       "      <td>Yes</td>\n",
       "      <td>No</td>\n",
       "      <td>Yes</td>\n",
       "      <td>No</td>\n",
       "      <td>No</td>\n",
       "      <td>Two year</td>\n",
       "      <td>Yes</td>\n",
       "      <td>Bank transfer (automatic)</td>\n",
       "      <td>61.90</td>\n",
       "      <td></td>\n",
       "      <td>0</td>\n",
       "    </tr>\n",
       "  </tbody>\n",
       "</table>\n",
       "</div>"
      ],
      "text/plain": [
       "                City  Zip_Code   Latitude   Longitude  Gender Senior_Citizen  \\\n",
       "2234  San_Bernardino     92408  34.084909 -117.258107  Female             No   \n",
       "2438    Independence     93526  36.869584 -118.189241    Male             No   \n",
       "2568       San_Mateo     94401  37.590421 -122.306467  Female             No   \n",
       "2667       Cupertino     95014  37.306612 -122.080621    Male             No   \n",
       "2856        Redcrest     95569  40.363446 -123.835041  Female             No   \n",
       "4331     Los_Angeles     90029  34.089953 -118.294824    Male             No   \n",
       "4687        Sun_City     92585  33.739412 -117.173334    Male             No   \n",
       "5104      Ben_Lomond     95005  37.078873 -122.090386  Female             No   \n",
       "5719        La_Verne     91750  34.144703 -117.770299    Male             No   \n",
       "6772            Bell     90201  33.970343 -118.171368  Female             No   \n",
       "6840      Wilmington     90744  33.782068 -118.262263    Male             No   \n",
       "\n",
       "     Partner Dependents  Tenure_Months Phone_Service    Multiple_Lines  \\\n",
       "2234     Yes         No              0            No  No phone service   \n",
       "2438      No         No              0           Yes                No   \n",
       "2568     Yes         No              0           Yes                No   \n",
       "2667     Yes        Yes              0           Yes               Yes   \n",
       "2856     Yes         No              0            No  No phone service   \n",
       "4331     Yes        Yes              0           Yes                No   \n",
       "4687     Yes        Yes              0           Yes               Yes   \n",
       "5104     Yes        Yes              0           Yes                No   \n",
       "5719     Yes        Yes              0           Yes                No   \n",
       "6772     Yes        Yes              0           Yes               Yes   \n",
       "6840      No        Yes              0           Yes               Yes   \n",
       "\n",
       "     Internet_Service      Online_Security        Online_Backup  \\\n",
       "2234              DSL                  Yes                   No   \n",
       "2438               No  No internet service  No internet service   \n",
       "2568              DSL                  Yes                  Yes   \n",
       "2667               No  No internet service  No internet service   \n",
       "2856              DSL                  Yes                  Yes   \n",
       "4331               No  No internet service  No internet service   \n",
       "4687               No  No internet service  No internet service   \n",
       "5104               No  No internet service  No internet service   \n",
       "5719               No  No internet service  No internet service   \n",
       "6772              DSL                   No                  Yes   \n",
       "6840              DSL                  Yes                  Yes   \n",
       "\n",
       "        Device_Protection         Tech_Support         Streaming_TV  \\\n",
       "2234                  Yes                  Yes                  Yes   \n",
       "2438  No internet service  No internet service  No internet service   \n",
       "2568                  Yes                   No                  Yes   \n",
       "2667  No internet service  No internet service  No internet service   \n",
       "2856                  Yes                  Yes                  Yes   \n",
       "4331  No internet service  No internet service  No internet service   \n",
       "4687  No internet service  No internet service  No internet service   \n",
       "5104  No internet service  No internet service  No internet service   \n",
       "5719  No internet service  No internet service  No internet service   \n",
       "6772                  Yes                  Yes                  Yes   \n",
       "6840                   No                  Yes                   No   \n",
       "\n",
       "         Streaming_Movies  Contract Paperless_Billing  \\\n",
       "2234                   No  Two year               Yes   \n",
       "2438  No internet service  Two year                No   \n",
       "2568                  Yes  Two year                No   \n",
       "2667  No internet service  Two year                No   \n",
       "2856                   No  Two year                No   \n",
       "4331  No internet service  Two year                No   \n",
       "4687  No internet service  Two year                No   \n",
       "5104  No internet service  Two year                No   \n",
       "5719  No internet service  One year               Yes   \n",
       "6772                   No  Two year                No   \n",
       "6840                   No  Two year               Yes   \n",
       "\n",
       "                 Payment_Method  Monthly_Charges Total_Charges  Churn_Value  \n",
       "2234  Bank transfer (automatic)            52.55                          0  \n",
       "2438               Mailed check            20.25                          0  \n",
       "2568               Mailed check            80.85                          0  \n",
       "2667               Mailed check            25.75                          0  \n",
       "2856    Credit card (automatic)            56.05                          0  \n",
       "4331               Mailed check            19.85                          0  \n",
       "4687               Mailed check            25.35                          0  \n",
       "5104               Mailed check            20.00                          0  \n",
       "5719               Mailed check            19.70                          0  \n",
       "6772               Mailed check            73.35                          0  \n",
       "6840  Bank transfer (automatic)            61.90                          0  "
      ]
     },
     "execution_count": 175,
     "metadata": {},
     "output_type": "execute_result"
    }
   ],
   "source": [
    "data[data['Total_Charges']==' ']"
   ]
  },
  {
   "cell_type": "code",
   "execution_count": 178,
   "id": "928ff0ff",
   "metadata": {},
   "outputs": [
    {
     "data": {
      "text/plain": [
       "11"
      ]
     },
     "execution_count": 178,
     "metadata": {},
     "output_type": "execute_result"
    }
   ],
   "source": [
    "len(data[data['Tenure_Months']==0])"
   ]
  },
  {
   "cell_type": "code",
   "execution_count": null,
   "id": "584a6a01",
   "metadata": {},
   "outputs": [],
   "source": [
    "# Looks like these people have not been charged yet or bill has yet not been generated\n",
    "# We can replace these by 0"
   ]
  },
  {
   "cell_type": "code",
   "execution_count": 155,
   "id": "f0d53f4b",
   "metadata": {},
   "outputs": [],
   "source": [
    "# lets use to_numeric & where ever it can't convert it will put null "
   ]
  },
  {
   "cell_type": "code",
   "execution_count": 158,
   "id": "44918b3f",
   "metadata": {},
   "outputs": [
    {
     "data": {
      "text/plain": [
       "11"
      ]
     },
     "execution_count": 158,
     "metadata": {},
     "output_type": "execute_result"
    }
   ],
   "source": [
    "pd.to_numeric(data['Total_Charges'], errors='coerce').isnull().sum()"
   ]
  },
  {
   "cell_type": "markdown",
   "id": "5254f069",
   "metadata": {},
   "source": [
    "We have 11 values that can't be converted to numeric form"
   ]
  },
  {
   "cell_type": "code",
   "execution_count": 179,
   "id": "64e228f3",
   "metadata": {},
   "outputs": [],
   "source": [
    "data['Total_Charges'] = pd.to_numeric(data['Total_Charges'], errors='coerce')"
   ]
  },
  {
   "cell_type": "code",
   "execution_count": 180,
   "id": "0bb241f7",
   "metadata": {},
   "outputs": [
    {
     "data": {
      "text/plain": [
       "11"
      ]
     },
     "execution_count": 180,
     "metadata": {},
     "output_type": "execute_result"
    }
   ],
   "source": [
    "data['Total_Charges'].isnull().sum()"
   ]
  },
  {
   "cell_type": "code",
   "execution_count": 181,
   "id": "33291de8",
   "metadata": {},
   "outputs": [],
   "source": [
    "# lets replace them by zero\n",
    "\n",
    "data['Total_Charges'].fillna(0, inplace=True)"
   ]
  },
  {
   "cell_type": "code",
   "execution_count": 182,
   "id": "634dadde",
   "metadata": {},
   "outputs": [
    {
     "data": {
      "text/plain": [
       "0"
      ]
     },
     "execution_count": 182,
     "metadata": {},
     "output_type": "execute_result"
    }
   ],
   "source": [
    "data['Total_Charges'].isnull().sum()"
   ]
  },
  {
   "cell_type": "code",
   "execution_count": 183,
   "id": "93ae0e23",
   "metadata": {},
   "outputs": [],
   "source": [
    "data['Total_Charges'] = pd.to_numeric(data['Total_Charges'])"
   ]
  },
  {
   "cell_type": "code",
   "execution_count": 185,
   "id": "7f7de88d",
   "metadata": {},
   "outputs": [
    {
     "data": {
      "text/plain": [
       "dtype('float64')"
      ]
     },
     "execution_count": 185,
     "metadata": {},
     "output_type": "execute_result"
    }
   ],
   "source": [
    "data['Total_Charges'].dtype"
   ]
  },
  {
   "cell_type": "code",
   "execution_count": 202,
   "id": "ddaed7ff",
   "metadata": {},
   "outputs": [
    {
     "data": {
      "text/plain": [
       "City                    0\n",
       "Zip_Code                0\n",
       "Latitude                0\n",
       "Longitude               0\n",
       "Gender                  0\n",
       "Senior_Citizen          0\n",
       "Partner                 0\n",
       "Dependents              0\n",
       "Tenure_Months          11\n",
       "Phone_Service           0\n",
       "Multiple_Lines          0\n",
       "Internet_Service        0\n",
       "Online_Security         0\n",
       "Online_Backup           0\n",
       "Device_Protection       0\n",
       "Tech_Support            0\n",
       "Streaming_TV            0\n",
       "Streaming_Movies        0\n",
       "Contract                0\n",
       "Paperless_Billing       0\n",
       "Payment_Method          0\n",
       "Monthly_Charges         0\n",
       "Total_Charges          11\n",
       "Churn_Value          5174\n",
       "dtype: int64"
      ]
     },
     "execution_count": 202,
     "metadata": {},
     "output_type": "execute_result"
    }
   ],
   "source": [
    "# lets see if we have white spaces anywhere else\n",
    "(data==0).sum()"
   ]
  },
  {
   "cell_type": "code",
   "execution_count": 205,
   "id": "041e2ee4",
   "metadata": {},
   "outputs": [
    {
     "data": {
      "text/plain": [
       "City                 0\n",
       "Zip_Code             0\n",
       "Latitude             0\n",
       "Longitude            0\n",
       "Gender               0\n",
       "Senior_Citizen       0\n",
       "Partner              0\n",
       "Dependents           0\n",
       "Tenure_Months        0\n",
       "Phone_Service        0\n",
       "Multiple_Lines       0\n",
       "Internet_Service     0\n",
       "Online_Security      0\n",
       "Online_Backup        0\n",
       "Device_Protection    0\n",
       "Tech_Support         0\n",
       "Streaming_TV         0\n",
       "Streaming_Movies     0\n",
       "Contract             0\n",
       "Paperless_Billing    0\n",
       "Payment_Method       0\n",
       "Monthly_Charges      0\n",
       "Total_Charges        0\n",
       "Churn_Value          0\n",
       "dtype: int64"
      ]
     },
     "execution_count": 205,
     "metadata": {},
     "output_type": "execute_result"
    }
   ],
   "source": [
    "# We dont have any empty spaces in our data set\n",
    "(data==' ').sum()"
   ]
  },
  {
   "cell_type": "code",
   "execution_count": 206,
   "id": "40073687",
   "metadata": {},
   "outputs": [],
   "source": [
    "# Just to be sure that we ahve repalce emplty spaces with underscores\n",
    "data.replace(' ','_', regex=True,inplace = True)"
   ]
  },
  {
   "cell_type": "code",
   "execution_count": 211,
   "id": "d3de9a71",
   "metadata": {},
   "outputs": [
    {
     "data": {
      "text/plain": [
       "0"
      ]
     },
     "execution_count": 211,
     "metadata": {},
     "output_type": "execute_result"
    }
   ],
   "source": [
    "(data=='_').any().sum()"
   ]
  },
  {
   "cell_type": "code",
   "execution_count": 236,
   "id": "058954d6",
   "metadata": {},
   "outputs": [
    {
     "data": {
      "text/plain": [
       "['City',\n",
       " 'Gender',\n",
       " 'Senior_Citizen',\n",
       " 'Partner',\n",
       " 'Dependents',\n",
       " 'Phone_Service',\n",
       " 'Multiple_Lines',\n",
       " 'Internet_Service',\n",
       " 'Online_Security',\n",
       " 'Online_Backup',\n",
       " 'Device_Protection',\n",
       " 'Tech_Support',\n",
       " 'Streaming_TV',\n",
       " 'Streaming_Movies',\n",
       " 'Contract',\n",
       " 'Paperless_Billing',\n",
       " 'Payment_Method']"
      ]
     },
     "execution_count": 236,
     "metadata": {},
     "output_type": "execute_result"
    }
   ],
   "source": [
    "data.select_dtypes(include='O').columns.tolist()"
   ]
  },
  {
   "cell_type": "markdown",
   "id": "5da1f82c",
   "metadata": {},
   "source": [
    "### One Hot Encoding these categorical data after splitting them into train & test"
   ]
  },
  {
   "cell_type": "code",
   "execution_count": 410,
   "id": "2671f8cf",
   "metadata": {},
   "outputs": [],
   "source": [
    "# Spliting data into train & test\n",
    "\n",
    "X_train, X_test, y_train, y_test = train_test_split(\n",
    "                    data.drop(labels=['Churn_Value'], axis = 1),\n",
    "                    data['Churn_Value'],\n",
    "                    test_size=0.3,\n",
    "                    random_state=0)"
   ]
  },
  {
   "cell_type": "code",
   "execution_count": 411,
   "id": "19c6825b",
   "metadata": {},
   "outputs": [
    {
     "data": {
      "text/plain": [
       "((4930, 23), (2113, 23))"
      ]
     },
     "execution_count": 411,
     "metadata": {},
     "output_type": "execute_result"
    }
   ],
   "source": [
    "X_train.shape, X_test.shape"
   ]
  },
  {
   "cell_type": "code",
   "execution_count": 412,
   "id": "0fce5fe4",
   "metadata": {},
   "outputs": [],
   "source": [
    "# K-1 Hot Encoding for categorical data"
   ]
  },
  {
   "cell_type": "code",
   "execution_count": 422,
   "id": "38a3e02b",
   "metadata": {},
   "outputs": [
    {
     "data": {
      "text/plain": [
       "OneHotEncoder(drop='first', handle_unknown='ignore', sparse=False)"
      ]
     },
     "execution_count": 422,
     "metadata": {},
     "output_type": "execute_result"
    }
   ],
   "source": [
    "one_hot_encoder = OneHotEncoder(categories='auto',\n",
    "                                   drop='first',\n",
    "                                   sparse=False,\n",
    "                               handle_unknown='ignore')\n",
    "one_hot_encoder.fit(X_train[['City',\n",
    " 'Gender',\n",
    " 'Senior_Citizen',\n",
    " 'Partner',\n",
    " 'Dependents',\n",
    " 'Phone_Service',\n",
    " 'Multiple_Lines',\n",
    " 'Internet_Service',\n",
    " 'Online_Security',\n",
    " 'Online_Backup',\n",
    " 'Device_Protection',\n",
    " 'Tech_Support',\n",
    " 'Streaming_TV',\n",
    " 'Streaming_Movies',\n",
    " 'Contract',\n",
    " 'Paperless_Billing',\n",
    " 'Payment_Method']].fillna('Missing'))"
   ]
  },
  {
   "cell_type": "code",
   "execution_count": 423,
   "id": "2444372d",
   "metadata": {},
   "outputs": [
    {
     "data": {
      "text/plain": [
       "[array(['Acampo', 'Acton', 'Adelanto', ..., 'Yuba_City', 'Yucaipa',\n",
       "        'Yucca_Valley'], dtype=object),\n",
       " array(['Female', 'Male'], dtype=object),\n",
       " array(['No', 'Yes'], dtype=object),\n",
       " array(['No', 'Yes'], dtype=object),\n",
       " array(['No', 'Yes'], dtype=object),\n",
       " array(['No', 'Yes'], dtype=object),\n",
       " array(['No', 'No_phone_service', 'Yes'], dtype=object),\n",
       " array(['DSL', 'Fiber_optic', 'No'], dtype=object),\n",
       " array(['No', 'No_internet_service', 'Yes'], dtype=object),\n",
       " array(['No', 'No_internet_service', 'Yes'], dtype=object),\n",
       " array(['No', 'No_internet_service', 'Yes'], dtype=object),\n",
       " array(['No', 'No_internet_service', 'Yes'], dtype=object),\n",
       " array(['No', 'No_internet_service', 'Yes'], dtype=object),\n",
       " array(['No', 'No_internet_service', 'Yes'], dtype=object),\n",
       " array(['Month-to-month', 'One_year', 'Two_year'], dtype=object),\n",
       " array(['No', 'Yes'], dtype=object),\n",
       " array(['Bank_transfer_(automatic)', 'Credit_card_(automatic)',\n",
       "        'Electronic_check', 'Mailed_check'], dtype=object)]"
      ]
     },
     "execution_count": 423,
     "metadata": {},
     "output_type": "execute_result"
    }
   ],
   "source": [
    "one_hot_encoder.categories_"
   ]
  },
  {
   "cell_type": "code",
   "execution_count": 424,
   "id": "edc6f965",
   "metadata": {},
   "outputs": [],
   "source": [
    "tmp = one_hot_encoder.transform(X_train[['City',\n",
    " 'Gender',\n",
    " 'Senior_Citizen',\n",
    " 'Partner',\n",
    " 'Dependents',\n",
    " 'Phone_Service',\n",
    " 'Multiple_Lines',\n",
    " 'Internet_Service',\n",
    " 'Online_Security',\n",
    " 'Online_Backup',\n",
    " 'Device_Protection',\n",
    " 'Tech_Support',\n",
    " 'Streaming_TV',\n",
    " 'Streaming_Movies',\n",
    " 'Contract',\n",
    " 'Paperless_Billing',\n",
    " 'Payment_Method']])\n",
    "tmp_train=pd.DataFrame(tmp, columns=one_hot_encoder.get_feature_names_out() )"
   ]
  },
  {
   "cell_type": "code",
   "execution_count": 425,
   "id": "1f0eb1b1",
   "metadata": {},
   "outputs": [
    {
     "data": {
      "text/plain": [
       "array(['City_Acton', 'City_Adelanto', 'City_Adin', ...,\n",
       "       'Payment_Method_Credit_card_(automatic)',\n",
       "       'Payment_Method_Electronic_check', 'Payment_Method_Mailed_check'],\n",
       "      dtype=object)"
      ]
     },
     "execution_count": 425,
     "metadata": {},
     "output_type": "execute_result"
    }
   ],
   "source": [
    "# NEW: in latest release of Scikit-learn\n",
    "# we can now retrieve the feature names as follows:\n",
    "\n",
    "one_hot_encoder.get_feature_names_out()"
   ]
  },
  {
   "cell_type": "code",
   "execution_count": 426,
   "id": "31c3b39b",
   "metadata": {},
   "outputs": [
    {
     "name": "stderr",
     "output_type": "stream",
     "text": [
      "C:\\ProgramData\\Anaconda3\\lib\\site-packages\\sklearn\\preprocessing\\_encoders.py:170: UserWarning: Found unknown categories in columns [0] during transform. These unknown categories will be encoded as all zeros\n",
      "  warnings.warn(\n"
     ]
    }
   ],
   "source": [
    "tmp = one_hot_encoder.transform(X_test[['City',\n",
    " 'Gender',\n",
    " 'Senior_Citizen',\n",
    " 'Partner',\n",
    " 'Dependents',\n",
    " 'Phone_Service',\n",
    " 'Multiple_Lines',\n",
    " 'Internet_Service',\n",
    " 'Online_Security',\n",
    " 'Online_Backup',\n",
    " 'Device_Protection',\n",
    " 'Tech_Support',\n",
    " 'Streaming_TV',\n",
    " 'Streaming_Movies',\n",
    " 'Contract',\n",
    " 'Paperless_Billing',\n",
    " 'Payment_Method']])\n"
   ]
  },
  {
   "cell_type": "code",
   "execution_count": 418,
   "id": "35134d7c",
   "metadata": {},
   "outputs": [
    {
     "data": {
      "text/html": [
       "<div>\n",
       "<style scoped>\n",
       "    .dataframe tbody tr th:only-of-type {\n",
       "        vertical-align: middle;\n",
       "    }\n",
       "\n",
       "    .dataframe tbody tr th {\n",
       "        vertical-align: top;\n",
       "    }\n",
       "\n",
       "    .dataframe thead th {\n",
       "        text-align: right;\n",
       "    }\n",
       "</style>\n",
       "<table border=\"1\" class=\"dataframe\">\n",
       "  <thead>\n",
       "    <tr style=\"text-align: right;\">\n",
       "      <th></th>\n",
       "      <th>City_Acton</th>\n",
       "      <th>City_Adelanto</th>\n",
       "      <th>City_Adin</th>\n",
       "      <th>City_Agoura_Hills</th>\n",
       "      <th>City_Aguanga</th>\n",
       "      <th>City_Ahwahnee</th>\n",
       "      <th>City_Alameda</th>\n",
       "      <th>City_Alamo</th>\n",
       "      <th>City_Albany</th>\n",
       "      <th>City_Albion</th>\n",
       "      <th>City_Alderpoint</th>\n",
       "      <th>City_Alhambra</th>\n",
       "      <th>City_Aliso_Viejo</th>\n",
       "      <th>City_Alleghany</th>\n",
       "      <th>City_Alpaugh</th>\n",
       "      <th>...</th>\n",
       "      <th>Online_Backup_Yes</th>\n",
       "      <th>Device_Protection_No_internet_service</th>\n",
       "      <th>Device_Protection_Yes</th>\n",
       "      <th>Tech_Support_No_internet_service</th>\n",
       "      <th>Tech_Support_Yes</th>\n",
       "      <th>Streaming_TV_No_internet_service</th>\n",
       "      <th>Streaming_TV_Yes</th>\n",
       "      <th>Streaming_Movies_No_internet_service</th>\n",
       "      <th>Streaming_Movies_Yes</th>\n",
       "      <th>Contract_One_year</th>\n",
       "      <th>Contract_Two_year</th>\n",
       "      <th>Paperless_Billing_Yes</th>\n",
       "      <th>Payment_Method_Credit_card_(automatic)</th>\n",
       "      <th>Payment_Method_Electronic_check</th>\n",
       "      <th>Payment_Method_Mailed_check</th>\n",
       "    </tr>\n",
       "  </thead>\n",
       "  <tbody>\n",
       "    <tr>\n",
       "      <th>0</th>\n",
       "      <td>0.0</td>\n",
       "      <td>0.0</td>\n",
       "      <td>0.0</td>\n",
       "      <td>0.0</td>\n",
       "      <td>0.0</td>\n",
       "      <td>0.0</td>\n",
       "      <td>0.0</td>\n",
       "      <td>0.0</td>\n",
       "      <td>0.0</td>\n",
       "      <td>0.0</td>\n",
       "      <td>0.0</td>\n",
       "      <td>0.0</td>\n",
       "      <td>0.0</td>\n",
       "      <td>0.0</td>\n",
       "      <td>0.0</td>\n",
       "      <td>...</td>\n",
       "      <td>0.0</td>\n",
       "      <td>0.0</td>\n",
       "      <td>0.0</td>\n",
       "      <td>0.0</td>\n",
       "      <td>0.0</td>\n",
       "      <td>0.0</td>\n",
       "      <td>1.0</td>\n",
       "      <td>0.0</td>\n",
       "      <td>1.0</td>\n",
       "      <td>0.0</td>\n",
       "      <td>0.0</td>\n",
       "      <td>0.0</td>\n",
       "      <td>1.0</td>\n",
       "      <td>0.0</td>\n",
       "      <td>0.0</td>\n",
       "    </tr>\n",
       "    <tr>\n",
       "      <th>1</th>\n",
       "      <td>0.0</td>\n",
       "      <td>0.0</td>\n",
       "      <td>0.0</td>\n",
       "      <td>0.0</td>\n",
       "      <td>0.0</td>\n",
       "      <td>0.0</td>\n",
       "      <td>0.0</td>\n",
       "      <td>0.0</td>\n",
       "      <td>0.0</td>\n",
       "      <td>0.0</td>\n",
       "      <td>0.0</td>\n",
       "      <td>0.0</td>\n",
       "      <td>0.0</td>\n",
       "      <td>0.0</td>\n",
       "      <td>0.0</td>\n",
       "      <td>...</td>\n",
       "      <td>0.0</td>\n",
       "      <td>1.0</td>\n",
       "      <td>0.0</td>\n",
       "      <td>1.0</td>\n",
       "      <td>0.0</td>\n",
       "      <td>1.0</td>\n",
       "      <td>0.0</td>\n",
       "      <td>1.0</td>\n",
       "      <td>0.0</td>\n",
       "      <td>1.0</td>\n",
       "      <td>0.0</td>\n",
       "      <td>0.0</td>\n",
       "      <td>0.0</td>\n",
       "      <td>1.0</td>\n",
       "      <td>0.0</td>\n",
       "    </tr>\n",
       "    <tr>\n",
       "      <th>2</th>\n",
       "      <td>0.0</td>\n",
       "      <td>0.0</td>\n",
       "      <td>0.0</td>\n",
       "      <td>0.0</td>\n",
       "      <td>0.0</td>\n",
       "      <td>0.0</td>\n",
       "      <td>0.0</td>\n",
       "      <td>0.0</td>\n",
       "      <td>0.0</td>\n",
       "      <td>0.0</td>\n",
       "      <td>0.0</td>\n",
       "      <td>0.0</td>\n",
       "      <td>0.0</td>\n",
       "      <td>0.0</td>\n",
       "      <td>0.0</td>\n",
       "      <td>...</td>\n",
       "      <td>0.0</td>\n",
       "      <td>0.0</td>\n",
       "      <td>0.0</td>\n",
       "      <td>0.0</td>\n",
       "      <td>0.0</td>\n",
       "      <td>0.0</td>\n",
       "      <td>0.0</td>\n",
       "      <td>0.0</td>\n",
       "      <td>0.0</td>\n",
       "      <td>0.0</td>\n",
       "      <td>0.0</td>\n",
       "      <td>0.0</td>\n",
       "      <td>0.0</td>\n",
       "      <td>1.0</td>\n",
       "      <td>0.0</td>\n",
       "    </tr>\n",
       "    <tr>\n",
       "      <th>3</th>\n",
       "      <td>0.0</td>\n",
       "      <td>0.0</td>\n",
       "      <td>0.0</td>\n",
       "      <td>0.0</td>\n",
       "      <td>0.0</td>\n",
       "      <td>0.0</td>\n",
       "      <td>0.0</td>\n",
       "      <td>0.0</td>\n",
       "      <td>0.0</td>\n",
       "      <td>0.0</td>\n",
       "      <td>0.0</td>\n",
       "      <td>0.0</td>\n",
       "      <td>0.0</td>\n",
       "      <td>0.0</td>\n",
       "      <td>0.0</td>\n",
       "      <td>...</td>\n",
       "      <td>0.0</td>\n",
       "      <td>0.0</td>\n",
       "      <td>0.0</td>\n",
       "      <td>0.0</td>\n",
       "      <td>0.0</td>\n",
       "      <td>0.0</td>\n",
       "      <td>1.0</td>\n",
       "      <td>0.0</td>\n",
       "      <td>0.0</td>\n",
       "      <td>0.0</td>\n",
       "      <td>0.0</td>\n",
       "      <td>0.0</td>\n",
       "      <td>0.0</td>\n",
       "      <td>0.0</td>\n",
       "      <td>0.0</td>\n",
       "    </tr>\n",
       "    <tr>\n",
       "      <th>4</th>\n",
       "      <td>0.0</td>\n",
       "      <td>0.0</td>\n",
       "      <td>0.0</td>\n",
       "      <td>0.0</td>\n",
       "      <td>0.0</td>\n",
       "      <td>0.0</td>\n",
       "      <td>0.0</td>\n",
       "      <td>0.0</td>\n",
       "      <td>0.0</td>\n",
       "      <td>0.0</td>\n",
       "      <td>0.0</td>\n",
       "      <td>0.0</td>\n",
       "      <td>0.0</td>\n",
       "      <td>0.0</td>\n",
       "      <td>0.0</td>\n",
       "      <td>...</td>\n",
       "      <td>0.0</td>\n",
       "      <td>1.0</td>\n",
       "      <td>0.0</td>\n",
       "      <td>1.0</td>\n",
       "      <td>0.0</td>\n",
       "      <td>1.0</td>\n",
       "      <td>0.0</td>\n",
       "      <td>1.0</td>\n",
       "      <td>0.0</td>\n",
       "      <td>0.0</td>\n",
       "      <td>1.0</td>\n",
       "      <td>1.0</td>\n",
       "      <td>0.0</td>\n",
       "      <td>0.0</td>\n",
       "      <td>0.0</td>\n",
       "    </tr>\n",
       "  </tbody>\n",
       "</table>\n",
       "<p>5 rows × 1145 columns</p>\n",
       "</div>"
      ],
      "text/plain": [
       "   City_Acton  City_Adelanto  City_Adin  City_Agoura_Hills  City_Aguanga  \\\n",
       "0         0.0            0.0        0.0                0.0           0.0   \n",
       "1         0.0            0.0        0.0                0.0           0.0   \n",
       "2         0.0            0.0        0.0                0.0           0.0   \n",
       "3         0.0            0.0        0.0                0.0           0.0   \n",
       "4         0.0            0.0        0.0                0.0           0.0   \n",
       "\n",
       "   City_Ahwahnee  City_Alameda  City_Alamo  City_Albany  City_Albion  \\\n",
       "0            0.0           0.0         0.0          0.0          0.0   \n",
       "1            0.0           0.0         0.0          0.0          0.0   \n",
       "2            0.0           0.0         0.0          0.0          0.0   \n",
       "3            0.0           0.0         0.0          0.0          0.0   \n",
       "4            0.0           0.0         0.0          0.0          0.0   \n",
       "\n",
       "   City_Alderpoint  City_Alhambra  City_Aliso_Viejo  City_Alleghany  \\\n",
       "0              0.0            0.0               0.0             0.0   \n",
       "1              0.0            0.0               0.0             0.0   \n",
       "2              0.0            0.0               0.0             0.0   \n",
       "3              0.0            0.0               0.0             0.0   \n",
       "4              0.0            0.0               0.0             0.0   \n",
       "\n",
       "   City_Alpaugh  ...  Online_Backup_Yes  \\\n",
       "0           0.0  ...                0.0   \n",
       "1           0.0  ...                0.0   \n",
       "2           0.0  ...                0.0   \n",
       "3           0.0  ...                0.0   \n",
       "4           0.0  ...                0.0   \n",
       "\n",
       "   Device_Protection_No_internet_service  Device_Protection_Yes  \\\n",
       "0                                    0.0                    0.0   \n",
       "1                                    1.0                    0.0   \n",
       "2                                    0.0                    0.0   \n",
       "3                                    0.0                    0.0   \n",
       "4                                    1.0                    0.0   \n",
       "\n",
       "   Tech_Support_No_internet_service  Tech_Support_Yes  \\\n",
       "0                               0.0               0.0   \n",
       "1                               1.0               0.0   \n",
       "2                               0.0               0.0   \n",
       "3                               0.0               0.0   \n",
       "4                               1.0               0.0   \n",
       "\n",
       "   Streaming_TV_No_internet_service  Streaming_TV_Yes  \\\n",
       "0                               0.0               1.0   \n",
       "1                               1.0               0.0   \n",
       "2                               0.0               0.0   \n",
       "3                               0.0               1.0   \n",
       "4                               1.0               0.0   \n",
       "\n",
       "   Streaming_Movies_No_internet_service  Streaming_Movies_Yes  \\\n",
       "0                                   0.0                   1.0   \n",
       "1                                   1.0                   0.0   \n",
       "2                                   0.0                   0.0   \n",
       "3                                   0.0                   0.0   \n",
       "4                                   1.0                   0.0   \n",
       "\n",
       "   Contract_One_year  Contract_Two_year  Paperless_Billing_Yes  \\\n",
       "0                0.0                0.0                    0.0   \n",
       "1                1.0                0.0                    0.0   \n",
       "2                0.0                0.0                    0.0   \n",
       "3                0.0                0.0                    0.0   \n",
       "4                0.0                1.0                    1.0   \n",
       "\n",
       "   Payment_Method_Credit_card_(automatic)  Payment_Method_Electronic_check  \\\n",
       "0                                     1.0                              0.0   \n",
       "1                                     0.0                              1.0   \n",
       "2                                     0.0                              1.0   \n",
       "3                                     0.0                              0.0   \n",
       "4                                     0.0                              0.0   \n",
       "\n",
       "   Payment_Method_Mailed_check  \n",
       "0                          0.0  \n",
       "1                          0.0  \n",
       "2                          0.0  \n",
       "3                          0.0  \n",
       "4                          0.0  \n",
       "\n",
       "[5 rows x 1145 columns]"
      ]
     },
     "execution_count": 418,
     "metadata": {},
     "output_type": "execute_result"
    }
   ],
   "source": [
    "tmp_test = pd.DataFrame(tmp)\n",
    "tmp_test.columns = one_hot_encoder.get_feature_names_out()\n",
    "\n",
    "tmp_test.head()"
   ]
  },
  {
   "cell_type": "code",
   "execution_count": 429,
   "id": "234672df",
   "metadata": {},
   "outputs": [
    {
     "data": {
      "text/plain": [
       "0"
      ]
     },
     "execution_count": 429,
     "metadata": {},
     "output_type": "execute_result"
    }
   ],
   "source": [
    "tmp_train.isna().sum().sum()"
   ]
  },
  {
   "cell_type": "code",
   "execution_count": 430,
   "id": "692064e3",
   "metadata": {},
   "outputs": [
    {
     "data": {
      "text/plain": [
       "(4930, 1145)"
      ]
     },
     "execution_count": 430,
     "metadata": {},
     "output_type": "execute_result"
    }
   ],
   "source": [
    "tmp_train.shape"
   ]
  },
  {
   "cell_type": "code",
   "execution_count": 437,
   "id": "24dc4609",
   "metadata": {},
   "outputs": [
    {
     "data": {
      "text/html": [
       "<div>\n",
       "<style scoped>\n",
       "    .dataframe tbody tr th:only-of-type {\n",
       "        vertical-align: middle;\n",
       "    }\n",
       "\n",
       "    .dataframe tbody tr th {\n",
       "        vertical-align: top;\n",
       "    }\n",
       "\n",
       "    .dataframe thead th {\n",
       "        text-align: right;\n",
       "    }\n",
       "</style>\n",
       "<table border=\"1\" class=\"dataframe\">\n",
       "  <thead>\n",
       "    <tr style=\"text-align: right;\">\n",
       "      <th></th>\n",
       "      <th>City_Acton</th>\n",
       "      <th>City_Adelanto</th>\n",
       "      <th>City_Adin</th>\n",
       "      <th>City_Agoura_Hills</th>\n",
       "      <th>City_Aguanga</th>\n",
       "      <th>City_Ahwahnee</th>\n",
       "      <th>City_Alameda</th>\n",
       "      <th>City_Alamo</th>\n",
       "      <th>City_Albany</th>\n",
       "      <th>City_Albion</th>\n",
       "      <th>City_Alderpoint</th>\n",
       "      <th>City_Alhambra</th>\n",
       "      <th>City_Aliso_Viejo</th>\n",
       "      <th>City_Alleghany</th>\n",
       "      <th>City_Alpaugh</th>\n",
       "      <th>...</th>\n",
       "      <th>Online_Backup_Yes</th>\n",
       "      <th>Device_Protection_No_internet_service</th>\n",
       "      <th>Device_Protection_Yes</th>\n",
       "      <th>Tech_Support_No_internet_service</th>\n",
       "      <th>Tech_Support_Yes</th>\n",
       "      <th>Streaming_TV_No_internet_service</th>\n",
       "      <th>Streaming_TV_Yes</th>\n",
       "      <th>Streaming_Movies_No_internet_service</th>\n",
       "      <th>Streaming_Movies_Yes</th>\n",
       "      <th>Contract_One_year</th>\n",
       "      <th>Contract_Two_year</th>\n",
       "      <th>Paperless_Billing_Yes</th>\n",
       "      <th>Payment_Method_Credit_card_(automatic)</th>\n",
       "      <th>Payment_Method_Electronic_check</th>\n",
       "      <th>Payment_Method_Mailed_check</th>\n",
       "    </tr>\n",
       "  </thead>\n",
       "  <tbody>\n",
       "    <tr>\n",
       "      <th>4925</th>\n",
       "      <td>0.0</td>\n",
       "      <td>0.0</td>\n",
       "      <td>0.0</td>\n",
       "      <td>0.0</td>\n",
       "      <td>0.0</td>\n",
       "      <td>0.0</td>\n",
       "      <td>0.0</td>\n",
       "      <td>0.0</td>\n",
       "      <td>0.0</td>\n",
       "      <td>0.0</td>\n",
       "      <td>0.0</td>\n",
       "      <td>0.0</td>\n",
       "      <td>0.0</td>\n",
       "      <td>0.0</td>\n",
       "      <td>0.0</td>\n",
       "      <td>...</td>\n",
       "      <td>1.0</td>\n",
       "      <td>0.0</td>\n",
       "      <td>1.0</td>\n",
       "      <td>0.0</td>\n",
       "      <td>1.0</td>\n",
       "      <td>0.0</td>\n",
       "      <td>1.0</td>\n",
       "      <td>0.0</td>\n",
       "      <td>1.0</td>\n",
       "      <td>0.0</td>\n",
       "      <td>1.0</td>\n",
       "      <td>1.0</td>\n",
       "      <td>1.0</td>\n",
       "      <td>0.0</td>\n",
       "      <td>0.0</td>\n",
       "    </tr>\n",
       "    <tr>\n",
       "      <th>4926</th>\n",
       "      <td>0.0</td>\n",
       "      <td>0.0</td>\n",
       "      <td>0.0</td>\n",
       "      <td>0.0</td>\n",
       "      <td>0.0</td>\n",
       "      <td>0.0</td>\n",
       "      <td>0.0</td>\n",
       "      <td>0.0</td>\n",
       "      <td>0.0</td>\n",
       "      <td>0.0</td>\n",
       "      <td>0.0</td>\n",
       "      <td>0.0</td>\n",
       "      <td>0.0</td>\n",
       "      <td>0.0</td>\n",
       "      <td>0.0</td>\n",
       "      <td>...</td>\n",
       "      <td>1.0</td>\n",
       "      <td>0.0</td>\n",
       "      <td>0.0</td>\n",
       "      <td>0.0</td>\n",
       "      <td>0.0</td>\n",
       "      <td>0.0</td>\n",
       "      <td>1.0</td>\n",
       "      <td>0.0</td>\n",
       "      <td>1.0</td>\n",
       "      <td>0.0</td>\n",
       "      <td>0.0</td>\n",
       "      <td>1.0</td>\n",
       "      <td>1.0</td>\n",
       "      <td>0.0</td>\n",
       "      <td>0.0</td>\n",
       "    </tr>\n",
       "    <tr>\n",
       "      <th>4927</th>\n",
       "      <td>0.0</td>\n",
       "      <td>0.0</td>\n",
       "      <td>0.0</td>\n",
       "      <td>0.0</td>\n",
       "      <td>0.0</td>\n",
       "      <td>0.0</td>\n",
       "      <td>0.0</td>\n",
       "      <td>0.0</td>\n",
       "      <td>0.0</td>\n",
       "      <td>0.0</td>\n",
       "      <td>0.0</td>\n",
       "      <td>0.0</td>\n",
       "      <td>0.0</td>\n",
       "      <td>0.0</td>\n",
       "      <td>0.0</td>\n",
       "      <td>...</td>\n",
       "      <td>0.0</td>\n",
       "      <td>0.0</td>\n",
       "      <td>0.0</td>\n",
       "      <td>0.0</td>\n",
       "      <td>0.0</td>\n",
       "      <td>0.0</td>\n",
       "      <td>0.0</td>\n",
       "      <td>0.0</td>\n",
       "      <td>1.0</td>\n",
       "      <td>0.0</td>\n",
       "      <td>0.0</td>\n",
       "      <td>0.0</td>\n",
       "      <td>0.0</td>\n",
       "      <td>0.0</td>\n",
       "      <td>1.0</td>\n",
       "    </tr>\n",
       "    <tr>\n",
       "      <th>4928</th>\n",
       "      <td>0.0</td>\n",
       "      <td>0.0</td>\n",
       "      <td>0.0</td>\n",
       "      <td>0.0</td>\n",
       "      <td>0.0</td>\n",
       "      <td>0.0</td>\n",
       "      <td>0.0</td>\n",
       "      <td>0.0</td>\n",
       "      <td>0.0</td>\n",
       "      <td>0.0</td>\n",
       "      <td>0.0</td>\n",
       "      <td>0.0</td>\n",
       "      <td>0.0</td>\n",
       "      <td>0.0</td>\n",
       "      <td>0.0</td>\n",
       "      <td>...</td>\n",
       "      <td>0.0</td>\n",
       "      <td>1.0</td>\n",
       "      <td>0.0</td>\n",
       "      <td>1.0</td>\n",
       "      <td>0.0</td>\n",
       "      <td>1.0</td>\n",
       "      <td>0.0</td>\n",
       "      <td>1.0</td>\n",
       "      <td>0.0</td>\n",
       "      <td>0.0</td>\n",
       "      <td>1.0</td>\n",
       "      <td>0.0</td>\n",
       "      <td>1.0</td>\n",
       "      <td>0.0</td>\n",
       "      <td>0.0</td>\n",
       "    </tr>\n",
       "    <tr>\n",
       "      <th>4929</th>\n",
       "      <td>0.0</td>\n",
       "      <td>0.0</td>\n",
       "      <td>0.0</td>\n",
       "      <td>0.0</td>\n",
       "      <td>0.0</td>\n",
       "      <td>0.0</td>\n",
       "      <td>0.0</td>\n",
       "      <td>0.0</td>\n",
       "      <td>0.0</td>\n",
       "      <td>0.0</td>\n",
       "      <td>0.0</td>\n",
       "      <td>0.0</td>\n",
       "      <td>0.0</td>\n",
       "      <td>0.0</td>\n",
       "      <td>0.0</td>\n",
       "      <td>...</td>\n",
       "      <td>0.0</td>\n",
       "      <td>0.0</td>\n",
       "      <td>0.0</td>\n",
       "      <td>0.0</td>\n",
       "      <td>0.0</td>\n",
       "      <td>0.0</td>\n",
       "      <td>0.0</td>\n",
       "      <td>0.0</td>\n",
       "      <td>0.0</td>\n",
       "      <td>0.0</td>\n",
       "      <td>0.0</td>\n",
       "      <td>1.0</td>\n",
       "      <td>0.0</td>\n",
       "      <td>1.0</td>\n",
       "      <td>0.0</td>\n",
       "    </tr>\n",
       "  </tbody>\n",
       "</table>\n",
       "<p>5 rows × 1145 columns</p>\n",
       "</div>"
      ],
      "text/plain": [
       "      City_Acton  City_Adelanto  City_Adin  City_Agoura_Hills  City_Aguanga  \\\n",
       "4925         0.0            0.0        0.0                0.0           0.0   \n",
       "4926         0.0            0.0        0.0                0.0           0.0   \n",
       "4927         0.0            0.0        0.0                0.0           0.0   \n",
       "4928         0.0            0.0        0.0                0.0           0.0   \n",
       "4929         0.0            0.0        0.0                0.0           0.0   \n",
       "\n",
       "      City_Ahwahnee  City_Alameda  City_Alamo  City_Albany  City_Albion  \\\n",
       "4925            0.0           0.0         0.0          0.0          0.0   \n",
       "4926            0.0           0.0         0.0          0.0          0.0   \n",
       "4927            0.0           0.0         0.0          0.0          0.0   \n",
       "4928            0.0           0.0         0.0          0.0          0.0   \n",
       "4929            0.0           0.0         0.0          0.0          0.0   \n",
       "\n",
       "      City_Alderpoint  City_Alhambra  City_Aliso_Viejo  City_Alleghany  \\\n",
       "4925              0.0            0.0               0.0             0.0   \n",
       "4926              0.0            0.0               0.0             0.0   \n",
       "4927              0.0            0.0               0.0             0.0   \n",
       "4928              0.0            0.0               0.0             0.0   \n",
       "4929              0.0            0.0               0.0             0.0   \n",
       "\n",
       "      City_Alpaugh  ...  Online_Backup_Yes  \\\n",
       "4925           0.0  ...                1.0   \n",
       "4926           0.0  ...                1.0   \n",
       "4927           0.0  ...                0.0   \n",
       "4928           0.0  ...                0.0   \n",
       "4929           0.0  ...                0.0   \n",
       "\n",
       "      Device_Protection_No_internet_service  Device_Protection_Yes  \\\n",
       "4925                                    0.0                    1.0   \n",
       "4926                                    0.0                    0.0   \n",
       "4927                                    0.0                    0.0   \n",
       "4928                                    1.0                    0.0   \n",
       "4929                                    0.0                    0.0   \n",
       "\n",
       "      Tech_Support_No_internet_service  Tech_Support_Yes  \\\n",
       "4925                               0.0               1.0   \n",
       "4926                               0.0               0.0   \n",
       "4927                               0.0               0.0   \n",
       "4928                               1.0               0.0   \n",
       "4929                               0.0               0.0   \n",
       "\n",
       "      Streaming_TV_No_internet_service  Streaming_TV_Yes  \\\n",
       "4925                               0.0               1.0   \n",
       "4926                               0.0               1.0   \n",
       "4927                               0.0               0.0   \n",
       "4928                               1.0               0.0   \n",
       "4929                               0.0               0.0   \n",
       "\n",
       "      Streaming_Movies_No_internet_service  Streaming_Movies_Yes  \\\n",
       "4925                                   0.0                   1.0   \n",
       "4926                                   0.0                   1.0   \n",
       "4927                                   0.0                   1.0   \n",
       "4928                                   1.0                   0.0   \n",
       "4929                                   0.0                   0.0   \n",
       "\n",
       "      Contract_One_year  Contract_Two_year  Paperless_Billing_Yes  \\\n",
       "4925                0.0                1.0                    1.0   \n",
       "4926                0.0                0.0                    1.0   \n",
       "4927                0.0                0.0                    0.0   \n",
       "4928                0.0                1.0                    0.0   \n",
       "4929                0.0                0.0                    1.0   \n",
       "\n",
       "      Payment_Method_Credit_card_(automatic)  Payment_Method_Electronic_check  \\\n",
       "4925                                     1.0                              0.0   \n",
       "4926                                     1.0                              0.0   \n",
       "4927                                     0.0                              0.0   \n",
       "4928                                     1.0                              0.0   \n",
       "4929                                     0.0                              1.0   \n",
       "\n",
       "      Payment_Method_Mailed_check  \n",
       "4925                          0.0  \n",
       "4926                          0.0  \n",
       "4927                          1.0  \n",
       "4928                          0.0  \n",
       "4929                          0.0  \n",
       "\n",
       "[5 rows x 1145 columns]"
      ]
     },
     "execution_count": 437,
     "metadata": {},
     "output_type": "execute_result"
    }
   ],
   "source": [
    "tmp_train.tail()"
   ]
  },
  {
   "cell_type": "code",
   "execution_count": 431,
   "id": "47ef4988",
   "metadata": {},
   "outputs": [
    {
     "data": {
      "text/plain": [
       "(4930, 23)"
      ]
     },
     "execution_count": 431,
     "metadata": {},
     "output_type": "execute_result"
    }
   ],
   "source": [
    "X_train.shape"
   ]
  },
  {
   "cell_type": "code",
   "execution_count": 439,
   "id": "1de1150a",
   "metadata": {},
   "outputs": [
    {
     "data": {
      "text/html": [
       "<div>\n",
       "<style scoped>\n",
       "    .dataframe tbody tr th:only-of-type {\n",
       "        vertical-align: middle;\n",
       "    }\n",
       "\n",
       "    .dataframe tbody tr th {\n",
       "        vertical-align: top;\n",
       "    }\n",
       "\n",
       "    .dataframe thead th {\n",
       "        text-align: right;\n",
       "    }\n",
       "</style>\n",
       "<table border=\"1\" class=\"dataframe\">\n",
       "  <thead>\n",
       "    <tr style=\"text-align: right;\">\n",
       "      <th></th>\n",
       "      <th>index</th>\n",
       "      <th>City</th>\n",
       "      <th>Zip_Code</th>\n",
       "      <th>Latitude</th>\n",
       "      <th>Longitude</th>\n",
       "      <th>Gender</th>\n",
       "      <th>Senior_Citizen</th>\n",
       "      <th>Partner</th>\n",
       "      <th>Dependents</th>\n",
       "      <th>Tenure_Months</th>\n",
       "      <th>Phone_Service</th>\n",
       "      <th>Multiple_Lines</th>\n",
       "      <th>Internet_Service</th>\n",
       "      <th>Online_Security</th>\n",
       "      <th>Online_Backup</th>\n",
       "      <th>Device_Protection</th>\n",
       "      <th>Tech_Support</th>\n",
       "      <th>Streaming_TV</th>\n",
       "      <th>Streaming_Movies</th>\n",
       "      <th>Contract</th>\n",
       "      <th>Paperless_Billing</th>\n",
       "      <th>Payment_Method</th>\n",
       "      <th>Monthly_Charges</th>\n",
       "      <th>Total_Charges</th>\n",
       "    </tr>\n",
       "  </thead>\n",
       "  <tbody>\n",
       "    <tr>\n",
       "      <th>0</th>\n",
       "      <td>3580</td>\n",
       "      <td>New_Cuyama</td>\n",
       "      <td>93254</td>\n",
       "      <td>34.956577</td>\n",
       "      <td>-119.750142</td>\n",
       "      <td>Female</td>\n",
       "      <td>No</td>\n",
       "      <td>Yes</td>\n",
       "      <td>Yes</td>\n",
       "      <td>4</td>\n",
       "      <td>Yes</td>\n",
       "      <td>No</td>\n",
       "      <td>No</td>\n",
       "      <td>No_internet_service</td>\n",
       "      <td>No_internet_service</td>\n",
       "      <td>No_internet_service</td>\n",
       "      <td>No_internet_service</td>\n",
       "      <td>No_internet_service</td>\n",
       "      <td>No_internet_service</td>\n",
       "      <td>Month-to-month</td>\n",
       "      <td>Yes</td>\n",
       "      <td>Electronic_check</td>\n",
       "      <td>19.95</td>\n",
       "      <td>82.90</td>\n",
       "    </tr>\n",
       "    <tr>\n",
       "      <th>1</th>\n",
       "      <td>2364</td>\n",
       "      <td>Lake_Isabella</td>\n",
       "      <td>93240</td>\n",
       "      <td>35.607875</td>\n",
       "      <td>-118.466318</td>\n",
       "      <td>Male</td>\n",
       "      <td>No</td>\n",
       "      <td>No</td>\n",
       "      <td>No</td>\n",
       "      <td>1</td>\n",
       "      <td>Yes</td>\n",
       "      <td>No</td>\n",
       "      <td>No</td>\n",
       "      <td>No_internet_service</td>\n",
       "      <td>No_internet_service</td>\n",
       "      <td>No_internet_service</td>\n",
       "      <td>No_internet_service</td>\n",
       "      <td>No_internet_service</td>\n",
       "      <td>No_internet_service</td>\n",
       "      <td>Month-to-month</td>\n",
       "      <td>No</td>\n",
       "      <td>Mailed_check</td>\n",
       "      <td>20.05</td>\n",
       "      <td>20.05</td>\n",
       "    </tr>\n",
       "    <tr>\n",
       "      <th>2</th>\n",
       "      <td>6813</td>\n",
       "      <td>Torrance</td>\n",
       "      <td>90505</td>\n",
       "      <td>33.807882</td>\n",
       "      <td>-118.347957</td>\n",
       "      <td>Male</td>\n",
       "      <td>No</td>\n",
       "      <td>Yes</td>\n",
       "      <td>No</td>\n",
       "      <td>72</td>\n",
       "      <td>Yes</td>\n",
       "      <td>Yes</td>\n",
       "      <td>No</td>\n",
       "      <td>No_internet_service</td>\n",
       "      <td>No_internet_service</td>\n",
       "      <td>No_internet_service</td>\n",
       "      <td>No_internet_service</td>\n",
       "      <td>No_internet_service</td>\n",
       "      <td>No_internet_service</td>\n",
       "      <td>Two_year</td>\n",
       "      <td>No</td>\n",
       "      <td>Credit_card_(automatic)</td>\n",
       "      <td>25.75</td>\n",
       "      <td>1864.20</td>\n",
       "    </tr>\n",
       "    <tr>\n",
       "      <th>3</th>\n",
       "      <td>789</td>\n",
       "      <td>Grizzly_Flats</td>\n",
       "      <td>95636</td>\n",
       "      <td>38.636102</td>\n",
       "      <td>-120.522149</td>\n",
       "      <td>Male</td>\n",
       "      <td>No</td>\n",
       "      <td>Yes</td>\n",
       "      <td>No</td>\n",
       "      <td>23</td>\n",
       "      <td>Yes</td>\n",
       "      <td>Yes</td>\n",
       "      <td>DSL</td>\n",
       "      <td>No</td>\n",
       "      <td>No</td>\n",
       "      <td>No</td>\n",
       "      <td>No</td>\n",
       "      <td>No</td>\n",
       "      <td>No</td>\n",
       "      <td>One_year</td>\n",
       "      <td>Yes</td>\n",
       "      <td>Credit_card_(automatic)</td>\n",
       "      <td>48.35</td>\n",
       "      <td>1067.15</td>\n",
       "    </tr>\n",
       "    <tr>\n",
       "      <th>4</th>\n",
       "      <td>561</td>\n",
       "      <td>Ludlow</td>\n",
       "      <td>92338</td>\n",
       "      <td>34.702766</td>\n",
       "      <td>-116.093376</td>\n",
       "      <td>Female</td>\n",
       "      <td>No</td>\n",
       "      <td>No</td>\n",
       "      <td>No</td>\n",
       "      <td>3</td>\n",
       "      <td>Yes</td>\n",
       "      <td>Yes</td>\n",
       "      <td>Fiber_optic</td>\n",
       "      <td>No</td>\n",
       "      <td>No</td>\n",
       "      <td>No</td>\n",
       "      <td>No</td>\n",
       "      <td>No</td>\n",
       "      <td>No</td>\n",
       "      <td>Month-to-month</td>\n",
       "      <td>No</td>\n",
       "      <td>Electronic_check</td>\n",
       "      <td>75.25</td>\n",
       "      <td>242.00</td>\n",
       "    </tr>\n",
       "    <tr>\n",
       "      <th>...</th>\n",
       "      <td>...</td>\n",
       "      <td>...</td>\n",
       "      <td>...</td>\n",
       "      <td>...</td>\n",
       "      <td>...</td>\n",
       "      <td>...</td>\n",
       "      <td>...</td>\n",
       "      <td>...</td>\n",
       "      <td>...</td>\n",
       "      <td>...</td>\n",
       "      <td>...</td>\n",
       "      <td>...</td>\n",
       "      <td>...</td>\n",
       "      <td>...</td>\n",
       "      <td>...</td>\n",
       "      <td>...</td>\n",
       "      <td>...</td>\n",
       "      <td>...</td>\n",
       "      <td>...</td>\n",
       "      <td>...</td>\n",
       "      <td>...</td>\n",
       "      <td>...</td>\n",
       "      <td>...</td>\n",
       "      <td>...</td>\n",
       "    </tr>\n",
       "    <tr>\n",
       "      <th>4925</th>\n",
       "      <td>4931</td>\n",
       "      <td>Salinas</td>\n",
       "      <td>93905</td>\n",
       "      <td>36.667794</td>\n",
       "      <td>-121.601306</td>\n",
       "      <td>Female</td>\n",
       "      <td>Yes</td>\n",
       "      <td>No</td>\n",
       "      <td>No</td>\n",
       "      <td>72</td>\n",
       "      <td>Yes</td>\n",
       "      <td>Yes</td>\n",
       "      <td>Fiber_optic</td>\n",
       "      <td>Yes</td>\n",
       "      <td>Yes</td>\n",
       "      <td>Yes</td>\n",
       "      <td>Yes</td>\n",
       "      <td>Yes</td>\n",
       "      <td>Yes</td>\n",
       "      <td>Two_year</td>\n",
       "      <td>Yes</td>\n",
       "      <td>Credit_card_(automatic)</td>\n",
       "      <td>117.35</td>\n",
       "      <td>8436.25</td>\n",
       "    </tr>\n",
       "    <tr>\n",
       "      <th>4926</th>\n",
       "      <td>3264</td>\n",
       "      <td>Valley_Village</td>\n",
       "      <td>91607</td>\n",
       "      <td>34.165783</td>\n",
       "      <td>-118.399795</td>\n",
       "      <td>Male</td>\n",
       "      <td>Yes</td>\n",
       "      <td>No</td>\n",
       "      <td>No</td>\n",
       "      <td>4</td>\n",
       "      <td>No</td>\n",
       "      <td>No_phone_service</td>\n",
       "      <td>DSL</td>\n",
       "      <td>No</td>\n",
       "      <td>Yes</td>\n",
       "      <td>No</td>\n",
       "      <td>No</td>\n",
       "      <td>Yes</td>\n",
       "      <td>Yes</td>\n",
       "      <td>Month-to-month</td>\n",
       "      <td>Yes</td>\n",
       "      <td>Credit_card_(automatic)</td>\n",
       "      <td>50.95</td>\n",
       "      <td>207.35</td>\n",
       "    </tr>\n",
       "    <tr>\n",
       "      <th>4927</th>\n",
       "      <td>1653</td>\n",
       "      <td>Yorkville</td>\n",
       "      <td>95494</td>\n",
       "      <td>38.888351</td>\n",
       "      <td>-123.239647</td>\n",
       "      <td>Female</td>\n",
       "      <td>No</td>\n",
       "      <td>No</td>\n",
       "      <td>No</td>\n",
       "      <td>1</td>\n",
       "      <td>No</td>\n",
       "      <td>No_phone_service</td>\n",
       "      <td>DSL</td>\n",
       "      <td>No</td>\n",
       "      <td>No</td>\n",
       "      <td>No</td>\n",
       "      <td>No</td>\n",
       "      <td>No</td>\n",
       "      <td>Yes</td>\n",
       "      <td>Month-to-month</td>\n",
       "      <td>No</td>\n",
       "      <td>Mailed_check</td>\n",
       "      <td>35.05</td>\n",
       "      <td>35.05</td>\n",
       "    </tr>\n",
       "    <tr>\n",
       "      <th>4928</th>\n",
       "      <td>2607</td>\n",
       "      <td>Saint_Helena</td>\n",
       "      <td>94574</td>\n",
       "      <td>38.581354</td>\n",
       "      <td>-122.296283</td>\n",
       "      <td>Female</td>\n",
       "      <td>No</td>\n",
       "      <td>No</td>\n",
       "      <td>No</td>\n",
       "      <td>58</td>\n",
       "      <td>Yes</td>\n",
       "      <td>Yes</td>\n",
       "      <td>No</td>\n",
       "      <td>No_internet_service</td>\n",
       "      <td>No_internet_service</td>\n",
       "      <td>No_internet_service</td>\n",
       "      <td>No_internet_service</td>\n",
       "      <td>No_internet_service</td>\n",
       "      <td>No_internet_service</td>\n",
       "      <td>Two_year</td>\n",
       "      <td>No</td>\n",
       "      <td>Credit_card_(automatic)</td>\n",
       "      <td>24.35</td>\n",
       "      <td>1423.85</td>\n",
       "    </tr>\n",
       "    <tr>\n",
       "      <th>4929</th>\n",
       "      <td>2732</td>\n",
       "      <td>Mountain_Ranch</td>\n",
       "      <td>95246</td>\n",
       "      <td>38.264262</td>\n",
       "      <td>-120.515133</td>\n",
       "      <td>Female</td>\n",
       "      <td>No</td>\n",
       "      <td>No</td>\n",
       "      <td>No</td>\n",
       "      <td>5</td>\n",
       "      <td>Yes</td>\n",
       "      <td>Yes</td>\n",
       "      <td>DSL</td>\n",
       "      <td>Yes</td>\n",
       "      <td>No</td>\n",
       "      <td>No</td>\n",
       "      <td>No</td>\n",
       "      <td>No</td>\n",
       "      <td>No</td>\n",
       "      <td>Month-to-month</td>\n",
       "      <td>Yes</td>\n",
       "      <td>Electronic_check</td>\n",
       "      <td>53.80</td>\n",
       "      <td>283.95</td>\n",
       "    </tr>\n",
       "  </tbody>\n",
       "</table>\n",
       "<p>4930 rows × 24 columns</p>\n",
       "</div>"
      ],
      "text/plain": [
       "      index            City  Zip_Code   Latitude   Longitude  Gender  \\\n",
       "0      3580      New_Cuyama     93254  34.956577 -119.750142  Female   \n",
       "1      2364   Lake_Isabella     93240  35.607875 -118.466318    Male   \n",
       "2      6813        Torrance     90505  33.807882 -118.347957    Male   \n",
       "3       789   Grizzly_Flats     95636  38.636102 -120.522149    Male   \n",
       "4       561          Ludlow     92338  34.702766 -116.093376  Female   \n",
       "...     ...             ...       ...        ...         ...     ...   \n",
       "4925   4931         Salinas     93905  36.667794 -121.601306  Female   \n",
       "4926   3264  Valley_Village     91607  34.165783 -118.399795    Male   \n",
       "4927   1653       Yorkville     95494  38.888351 -123.239647  Female   \n",
       "4928   2607    Saint_Helena     94574  38.581354 -122.296283  Female   \n",
       "4929   2732  Mountain_Ranch     95246  38.264262 -120.515133  Female   \n",
       "\n",
       "     Senior_Citizen Partner Dependents  Tenure_Months Phone_Service  \\\n",
       "0                No     Yes        Yes              4           Yes   \n",
       "1                No      No         No              1           Yes   \n",
       "2                No     Yes         No             72           Yes   \n",
       "3                No     Yes         No             23           Yes   \n",
       "4                No      No         No              3           Yes   \n",
       "...             ...     ...        ...            ...           ...   \n",
       "4925            Yes      No         No             72           Yes   \n",
       "4926            Yes      No         No              4            No   \n",
       "4927             No      No         No              1            No   \n",
       "4928             No      No         No             58           Yes   \n",
       "4929             No      No         No              5           Yes   \n",
       "\n",
       "        Multiple_Lines Internet_Service      Online_Security  \\\n",
       "0                   No               No  No_internet_service   \n",
       "1                   No               No  No_internet_service   \n",
       "2                  Yes               No  No_internet_service   \n",
       "3                  Yes              DSL                   No   \n",
       "4                  Yes      Fiber_optic                   No   \n",
       "...                ...              ...                  ...   \n",
       "4925               Yes      Fiber_optic                  Yes   \n",
       "4926  No_phone_service              DSL                   No   \n",
       "4927  No_phone_service              DSL                   No   \n",
       "4928               Yes               No  No_internet_service   \n",
       "4929               Yes              DSL                  Yes   \n",
       "\n",
       "            Online_Backup    Device_Protection         Tech_Support  \\\n",
       "0     No_internet_service  No_internet_service  No_internet_service   \n",
       "1     No_internet_service  No_internet_service  No_internet_service   \n",
       "2     No_internet_service  No_internet_service  No_internet_service   \n",
       "3                      No                   No                   No   \n",
       "4                      No                   No                   No   \n",
       "...                   ...                  ...                  ...   \n",
       "4925                  Yes                  Yes                  Yes   \n",
       "4926                  Yes                   No                   No   \n",
       "4927                   No                   No                   No   \n",
       "4928  No_internet_service  No_internet_service  No_internet_service   \n",
       "4929                   No                   No                   No   \n",
       "\n",
       "             Streaming_TV     Streaming_Movies        Contract  \\\n",
       "0     No_internet_service  No_internet_service  Month-to-month   \n",
       "1     No_internet_service  No_internet_service  Month-to-month   \n",
       "2     No_internet_service  No_internet_service        Two_year   \n",
       "3                      No                   No        One_year   \n",
       "4                      No                   No  Month-to-month   \n",
       "...                   ...                  ...             ...   \n",
       "4925                  Yes                  Yes        Two_year   \n",
       "4926                  Yes                  Yes  Month-to-month   \n",
       "4927                   No                  Yes  Month-to-month   \n",
       "4928  No_internet_service  No_internet_service        Two_year   \n",
       "4929                   No                   No  Month-to-month   \n",
       "\n",
       "     Paperless_Billing           Payment_Method  Monthly_Charges  \\\n",
       "0                  Yes         Electronic_check            19.95   \n",
       "1                   No             Mailed_check            20.05   \n",
       "2                   No  Credit_card_(automatic)            25.75   \n",
       "3                  Yes  Credit_card_(automatic)            48.35   \n",
       "4                   No         Electronic_check            75.25   \n",
       "...                ...                      ...              ...   \n",
       "4925               Yes  Credit_card_(automatic)           117.35   \n",
       "4926               Yes  Credit_card_(automatic)            50.95   \n",
       "4927                No             Mailed_check            35.05   \n",
       "4928                No  Credit_card_(automatic)            24.35   \n",
       "4929               Yes         Electronic_check            53.80   \n",
       "\n",
       "      Total_Charges  \n",
       "0             82.90  \n",
       "1             20.05  \n",
       "2           1864.20  \n",
       "3           1067.15  \n",
       "4            242.00  \n",
       "...             ...  \n",
       "4925        8436.25  \n",
       "4926         207.35  \n",
       "4927          35.05  \n",
       "4928        1423.85  \n",
       "4929         283.95  \n",
       "\n",
       "[4930 rows x 24 columns]"
      ]
     },
     "execution_count": 439,
     "metadata": {},
     "output_type": "execute_result"
    }
   ],
   "source": [
    "X_train.reset_index()"
   ]
  },
  {
   "cell_type": "code",
   "execution_count": 440,
   "id": "f44617b8",
   "metadata": {},
   "outputs": [],
   "source": [
    "X_train_enc = pd.merge(X_train.reset_index(),tmp_train,left_index=True, right_index=True)"
   ]
  },
  {
   "cell_type": "code",
   "execution_count": 441,
   "id": "ed48a63e",
   "metadata": {},
   "outputs": [
    {
     "data": {
      "text/plain": [
       "(4930, 1169)"
      ]
     },
     "execution_count": 441,
     "metadata": {},
     "output_type": "execute_result"
    }
   ],
   "source": [
    "X_train_enc.shape"
   ]
  },
  {
   "cell_type": "code",
   "execution_count": 442,
   "id": "b3e1ac2d",
   "metadata": {},
   "outputs": [],
   "source": [
    "# X_train_enc = pd.concat([X_train,tmp_train],axis =1)"
   ]
  },
  {
   "cell_type": "code",
   "execution_count": 443,
   "id": "b7f35329",
   "metadata": {},
   "outputs": [
    {
     "data": {
      "text/plain": [
       "(4930, 1169)"
      ]
     },
     "execution_count": 443,
     "metadata": {},
     "output_type": "execute_result"
    }
   ],
   "source": [
    "X_train_enc.shape"
   ]
  },
  {
   "cell_type": "code",
   "execution_count": 444,
   "id": "4a23d155",
   "metadata": {},
   "outputs": [
    {
     "data": {
      "text/plain": [
       "0"
      ]
     },
     "execution_count": 444,
     "metadata": {},
     "output_type": "execute_result"
    }
   ],
   "source": [
    "X_train_enc.isnull().sum().sum()"
   ]
  },
  {
   "cell_type": "code",
   "execution_count": 445,
   "id": "d2ca7c87",
   "metadata": {},
   "outputs": [],
   "source": [
    "X_train_enc.drop(labels=data.select_dtypes(include='O').columns.tolist(), axis = 1, inplace=True)"
   ]
  },
  {
   "cell_type": "code",
   "execution_count": 446,
   "id": "862c3d70",
   "metadata": {},
   "outputs": [
    {
     "data": {
      "text/plain": [
       "(4930, 1152)"
      ]
     },
     "execution_count": 446,
     "metadata": {},
     "output_type": "execute_result"
    }
   ],
   "source": [
    "X_train_enc.shape"
   ]
  },
  {
   "cell_type": "code",
   "execution_count": 448,
   "id": "944bca2a",
   "metadata": {},
   "outputs": [],
   "source": [
    "X_test_enc = pd.merge(X_test.reset_index(),tmp_test,left_index=True, right_index=True)"
   ]
  },
  {
   "cell_type": "code",
   "execution_count": 449,
   "id": "56fe2044",
   "metadata": {},
   "outputs": [],
   "source": [
    "X_test_enc.drop(labels=data.select_dtypes(include='O').columns.tolist(), axis = 1, inplace=True)"
   ]
  },
  {
   "cell_type": "code",
   "execution_count": 450,
   "id": "6b05e288",
   "metadata": {},
   "outputs": [
    {
     "data": {
      "text/plain": [
       "(2113, 1152)"
      ]
     },
     "execution_count": 450,
     "metadata": {},
     "output_type": "execute_result"
    }
   ],
   "source": [
    "X_test_enc.shape"
   ]
  },
  {
   "cell_type": "code",
   "execution_count": 451,
   "id": "03a24cfe",
   "metadata": {},
   "outputs": [
    {
     "data": {
      "text/plain": [
       "array([0, 1], dtype=int64)"
      ]
     },
     "execution_count": 451,
     "metadata": {},
     "output_type": "execute_result"
    }
   ],
   "source": [
    "y_train.unique()"
   ]
  },
  {
   "cell_type": "code",
   "execution_count": 452,
   "id": "ec775e64",
   "metadata": {},
   "outputs": [
    {
     "data": {
      "text/plain": [
       "0.2667342799188641"
      ]
     },
     "execution_count": 452,
     "metadata": {},
     "output_type": "execute_result"
    }
   ],
   "source": [
    "y_train.sum()/y_train.count()"
   ]
  },
  {
   "cell_type": "code",
   "execution_count": 453,
   "id": "942a2d69",
   "metadata": {},
   "outputs": [
    {
     "data": {
      "text/plain": [
       "0.26218646474207286"
      ]
     },
     "execution_count": 453,
     "metadata": {},
     "output_type": "execute_result"
    }
   ],
   "source": [
    "y_test.sum()/y_test.count()"
   ]
  },
  {
   "cell_type": "code",
   "execution_count": 471,
   "id": "ca84ca24",
   "metadata": {},
   "outputs": [],
   "source": [
    "xgb_c =xgb.XGBClassifier(objective='binary:logistic', missing = 1, seed = 42) "
   ]
  },
  {
   "cell_type": "code",
   "execution_count": 472,
   "id": "ad8019c2",
   "metadata": {},
   "outputs": [
    {
     "name": "stdout",
     "output_type": "stream",
     "text": [
      "[0]\tvalidation_0-aucpr:0.99820\n",
      "[1]\tvalidation_0-aucpr:0.99820\n",
      "[2]\tvalidation_0-aucpr:0.99820\n",
      "[3]\tvalidation_0-aucpr:0.99820\n",
      "[4]\tvalidation_0-aucpr:0.99820\n",
      "[5]\tvalidation_0-aucpr:0.99820\n",
      "[6]\tvalidation_0-aucpr:0.99820\n",
      "[7]\tvalidation_0-aucpr:0.99820\n",
      "[8]\tvalidation_0-aucpr:0.99820\n",
      "[9]\tvalidation_0-aucpr:0.99820\n",
      "[10]\tvalidation_0-aucpr:0.99820\n",
      "[11]\tvalidation_0-aucpr:0.99820\n",
      "[12]\tvalidation_0-aucpr:0.99820\n",
      "[13]\tvalidation_0-aucpr:0.99820\n",
      "[14]\tvalidation_0-aucpr:0.99820\n",
      "[15]\tvalidation_0-aucpr:0.99820\n",
      "[16]\tvalidation_0-aucpr:0.99820\n",
      "[17]\tvalidation_0-aucpr:0.99820\n",
      "[18]\tvalidation_0-aucpr:0.99820\n",
      "[19]\tvalidation_0-aucpr:0.99820\n",
      "[20]\tvalidation_0-aucpr:0.99820\n",
      "[21]\tvalidation_0-aucpr:0.99820\n",
      "[22]\tvalidation_0-aucpr:0.99820\n",
      "[23]\tvalidation_0-aucpr:0.99820\n",
      "[24]\tvalidation_0-aucpr:0.99820\n",
      "[25]\tvalidation_0-aucpr:0.99820\n",
      "[26]\tvalidation_0-aucpr:0.99820\n",
      "[27]\tvalidation_0-aucpr:0.99820\n",
      "[28]\tvalidation_0-aucpr:0.99820\n",
      "[29]\tvalidation_0-aucpr:0.99820\n",
      "[30]\tvalidation_0-aucpr:0.99820\n",
      "[31]\tvalidation_0-aucpr:0.99820\n",
      "[32]\tvalidation_0-aucpr:0.99820\n",
      "[33]\tvalidation_0-aucpr:0.99820\n",
      "[34]\tvalidation_0-aucpr:0.99820\n",
      "[35]\tvalidation_0-aucpr:0.99820\n",
      "[36]\tvalidation_0-aucpr:0.99820\n",
      "[37]\tvalidation_0-aucpr:0.99820\n",
      "[38]\tvalidation_0-aucpr:0.99820\n",
      "[39]\tvalidation_0-aucpr:0.99820\n",
      "[40]\tvalidation_0-aucpr:0.99820\n",
      "[41]\tvalidation_0-aucpr:0.99820\n",
      "[42]\tvalidation_0-aucpr:0.99820\n",
      "[43]\tvalidation_0-aucpr:0.99820\n",
      "[44]\tvalidation_0-aucpr:0.99820\n",
      "[45]\tvalidation_0-aucpr:0.99820\n",
      "[46]\tvalidation_0-aucpr:0.99820\n",
      "[47]\tvalidation_0-aucpr:0.99820\n",
      "[48]\tvalidation_0-aucpr:0.99820\n",
      "[49]\tvalidation_0-aucpr:0.99820\n",
      "[50]\tvalidation_0-aucpr:0.99820\n",
      "[51]\tvalidation_0-aucpr:0.99820\n",
      "[52]\tvalidation_0-aucpr:0.99820\n",
      "[53]\tvalidation_0-aucpr:0.99820\n",
      "[54]\tvalidation_0-aucpr:0.99820\n",
      "[55]\tvalidation_0-aucpr:0.99820\n",
      "[56]\tvalidation_0-aucpr:0.99820\n",
      "[57]\tvalidation_0-aucpr:0.99820\n",
      "[58]\tvalidation_0-aucpr:0.99820\n",
      "[59]\tvalidation_0-aucpr:0.99820\n",
      "[60]\tvalidation_0-aucpr:0.99820\n",
      "[61]\tvalidation_0-aucpr:0.99820\n",
      "[62]\tvalidation_0-aucpr:0.99820\n",
      "[63]\tvalidation_0-aucpr:0.99820\n",
      "[64]\tvalidation_0-aucpr:0.99820\n",
      "[65]\tvalidation_0-aucpr:0.99820\n",
      "[66]\tvalidation_0-aucpr:0.99820\n",
      "[67]\tvalidation_0-aucpr:0.99820\n",
      "[68]\tvalidation_0-aucpr:0.99820\n",
      "[69]\tvalidation_0-aucpr:0.99820\n",
      "[70]\tvalidation_0-aucpr:0.99820\n",
      "[71]\tvalidation_0-aucpr:0.99820\n",
      "[72]\tvalidation_0-aucpr:0.99820\n",
      "[73]\tvalidation_0-aucpr:0.99820\n",
      "[74]\tvalidation_0-aucpr:0.99820\n",
      "[75]\tvalidation_0-aucpr:0.99820\n",
      "[76]\tvalidation_0-aucpr:0.99820\n",
      "[77]\tvalidation_0-aucpr:0.99820\n",
      "[78]\tvalidation_0-aucpr:0.99820\n",
      "[79]\tvalidation_0-aucpr:0.99820\n",
      "[80]\tvalidation_0-aucpr:0.99820\n",
      "[81]\tvalidation_0-aucpr:0.99820\n",
      "[82]\tvalidation_0-aucpr:0.99820\n",
      "[83]\tvalidation_0-aucpr:0.99820\n",
      "[84]\tvalidation_0-aucpr:0.99820\n",
      "[85]\tvalidation_0-aucpr:0.99820\n",
      "[86]\tvalidation_0-aucpr:0.99820\n",
      "[87]\tvalidation_0-aucpr:0.99820\n",
      "[88]\tvalidation_0-aucpr:0.99820\n",
      "[89]\tvalidation_0-aucpr:0.99820\n",
      "[90]\tvalidation_0-aucpr:0.99820\n",
      "[91]\tvalidation_0-aucpr:0.99820\n",
      "[92]\tvalidation_0-aucpr:0.99820\n",
      "[93]\tvalidation_0-aucpr:0.99820\n",
      "[94]\tvalidation_0-aucpr:0.99820\n",
      "[95]\tvalidation_0-aucpr:0.99820\n",
      "[96]\tvalidation_0-aucpr:0.99820\n",
      "[97]\tvalidation_0-aucpr:0.99820\n",
      "[98]\tvalidation_0-aucpr:0.99820\n",
      "[99]\tvalidation_0-aucpr:0.99820\n"
     ]
    },
    {
     "data": {
      "text/plain": [
       "XGBClassifier(base_score=0.5, booster='gbtree', colsample_bylevel=1,\n",
       "              colsample_bynode=1, colsample_bytree=1, gamma=0, gpu_id=-1,\n",
       "              importance_type='gain', interaction_constraints='',\n",
       "              learning_rate=0.300000012, max_delta_step=0, max_depth=6,\n",
       "              min_child_weight=1, missing=1, monotone_constraints='()',\n",
       "              n_estimators=100, n_jobs=4, num_parallel_tree=1, random_state=42,\n",
       "              reg_alpha=0, reg_lambda=1, scale_pos_weight=1, seed=42,\n",
       "              subsample=1, tree_method='exact', validate_parameters=1,\n",
       "              verbosity=None)"
      ]
     },
     "execution_count": 472,
     "metadata": {},
     "output_type": "execute_result"
    }
   ],
   "source": [
    "xgb_c.fit(X_train_enc,\n",
    "         y_train,\n",
    "         verbose=True,\n",
    "         #early_stopping_rounds=10,\n",
    "         eval_metric='aucpr',\n",
    "         eval_set=[(X_test_enc,y_test)])"
   ]
  },
  {
   "cell_type": "code",
   "execution_count": 473,
   "id": "02df289e",
   "metadata": {},
   "outputs": [
    {
     "data": {
      "text/plain": [
       "XGBClassifier(base_score=0.5, booster='gbtree', colsample_bylevel=1,\n",
       "              colsample_bynode=1, colsample_bytree=1, gamma=0, gpu_id=-1,\n",
       "              importance_type='gain', interaction_constraints='',\n",
       "              learning_rate=0.300000012, max_delta_step=0, max_depth=6,\n",
       "              min_child_weight=1, missing=1, monotone_constraints='()',\n",
       "              n_estimators=100, n_jobs=4, num_parallel_tree=1, random_state=42,\n",
       "              reg_alpha=0, reg_lambda=1, scale_pos_weight=1, seed=42,\n",
       "              subsample=1, tree_method='exact', validate_parameters=1,\n",
       "              verbosity=None)"
      ]
     },
     "execution_count": 473,
     "metadata": {},
     "output_type": "execute_result"
    }
   ],
   "source": [
    "xgb_c"
   ]
  },
  {
   "cell_type": "code",
   "execution_count": 474,
   "id": "47252bcf",
   "metadata": {},
   "outputs": [],
   "source": [
    "y_pred = xgb_c.predict(X_test_enc)"
   ]
  },
  {
   "cell_type": "code",
   "execution_count": 476,
   "id": "53d3b99c",
   "metadata": {},
   "outputs": [
    {
     "data": {
      "text/plain": [
       "array([[1558,    1],\n",
       "       [   0,  554]], dtype=int64)"
      ]
     },
     "execution_count": 476,
     "metadata": {},
     "output_type": "execute_result"
    }
   ],
   "source": [
    "cm = confusion_matrix(y_test, y_pred)\n",
    "cm"
   ]
  },
  {
   "cell_type": "code",
   "execution_count": 477,
   "id": "1e7edb07",
   "metadata": {},
   "outputs": [
    {
     "data": {
      "text/plain": [
       "0"
      ]
     },
     "execution_count": 477,
     "metadata": {},
     "output_type": "execute_result"
    }
   ],
   "source": [
    "y_test.isnull().sum().sum()"
   ]
  },
  {
   "cell_type": "code",
   "execution_count": 478,
   "id": "b5aebcd5",
   "metadata": {},
   "outputs": [
    {
     "name": "stderr",
     "output_type": "stream",
     "text": [
      "C:\\ProgramData\\Anaconda3\\lib\\site-packages\\sklearn\\utils\\deprecation.py:87: FutureWarning: Function plot_confusion_matrix is deprecated; Function `plot_confusion_matrix` is deprecated in 1.0 and will be removed in 1.2. Use one of the class methods: ConfusionMatrixDisplay.from_predictions or ConfusionMatrixDisplay.from_estimator.\n",
      "  warnings.warn(msg, category=FutureWarning)\n"
     ]
    },
    {
     "data": {
      "text/plain": [
       "<sklearn.metrics._plot.confusion_matrix.ConfusionMatrixDisplay at 0x21944c785e0>"
      ]
     },
     "execution_count": 478,
     "metadata": {},
     "output_type": "execute_result"
    },
    {
     "data": {
      "image/png": "[encoded data removed]",
      "text/plain": [
       "<Figure size 432x288 with 2 Axes>"
      ]
     },
     "metadata": {
      "needs_background": "light"
     },
     "output_type": "display_data"
    }
   ],
   "source": [
    "plot_confusion_matrix(xgb_c,\n",
    "                     X_test_enc,\n",
    "                     y_test,\n",
    "                     values_format='d',\n",
    "                     display_labels=['did not leave','left'])"
   ]
  },
  {
   "cell_type": "code",
   "execution_count": 368,
   "id": "f268fbd0",
   "metadata": {},
   "outputs": [
    {
     "data": {
      "text/plain": [
       "(4930,)"
      ]
     },
     "execution_count": 368,
     "metadata": {},
     "output_type": "execute_result"
    }
   ],
   "source": [
    "y_train.ravel().shape"
   ]
  },
  {
   "cell_type": "code",
   "execution_count": 369,
   "id": "4dacf921",
   "metadata": {},
   "outputs": [
    {
     "data": {
      "text/plain": [
       "numpy.ndarray"
      ]
     },
     "execution_count": 369,
     "metadata": {},
     "output_type": "execute_result"
    }
   ],
   "source": [
    "type(np.array(X_train_enc))"
   ]
  },
  {
   "cell_type": "code",
   "execution_count": 396,
   "id": "545142b5",
   "metadata": {},
   "outputs": [
    {
     "data": {
      "text/plain": [
       "1705782"
      ]
     },
     "execution_count": 396,
     "metadata": {},
     "output_type": "execute_result"
    }
   ],
   "source": [
    "X_test_enc.isnull().sum().sum()"
   ]
  },
  {
   "cell_type": "code",
   "execution_count": null,
   "id": "018428b7",
   "metadata": {},
   "outputs": [],
   "source": []
  }
 ],
 "metadata": {
  "kernelspec": {
   "display_name": "Python 3 (ipykernel)",
   "language": "python",
   "name": "python3"
  },
  "language_info": {
   "codemirror_mode": {
    "name": "ipython",
    "version": 3
   },
   "file_extension": ".py",
   "mimetype": "text/x-python",
   "name": "python",
   "nbconvert_exporter": "python",
   "pygments_lexer": "ipython3",
   "version": "3.9.7"
  }
 },
 "nbformat": 4,
 "nbformat_minor": 5
}
