{
 "cells": [
  {
   "cell_type": "code",
   "execution_count": 1,
   "id": "f3a3e2bd",
   "metadata": {},
   "outputs": [],
   "source": [
    "import pandas as pd\n",
    "import numpy as np\n",
    "\n",
    "import matplotlib.pyplot as plt\n",
    "\n",
    "from sklearn.model_selection import train_test_split\n",
    "\n",
    "from sklearn.preprocessing import StandardScaler\n",
    "from sklearn.linear_model import LogisticRegression\n",
    "from sklearn.feature_selection import SelectFromModel"
   ]
  },
  {
   "cell_type": "code",
   "execution_count": 2,
   "id": "52b69d0b",
   "metadata": {},
   "outputs": [],
   "source": [
    "# Loading dataset\n",
    "data = pd.read_csv('..\\data\\dataset_2.csv')"
   ]
  },
  {
   "cell_type": "code",
   "execution_count": 3,
   "id": "fb4b09f2",
   "metadata": {},
   "outputs": [
    {
     "data": {
      "text/html": [
       "<div>\n",
       "<style scoped>\n",
       "    .dataframe tbody tr th:only-of-type {\n",
       "        vertical-align: middle;\n",
       "    }\n",
       "\n",
       "    .dataframe tbody tr th {\n",
       "        vertical-align: top;\n",
       "    }\n",
       "\n",
       "    .dataframe thead th {\n",
       "        text-align: right;\n",
       "    }\n",
       "</style>\n",
       "<table border=\"1\" class=\"dataframe\">\n",
       "  <thead>\n",
       "    <tr style=\"text-align: right;\">\n",
       "      <th></th>\n",
       "      <th>var_1</th>\n",
       "      <th>var_2</th>\n",
       "      <th>var_3</th>\n",
       "      <th>var_4</th>\n",
       "      <th>var_5</th>\n",
       "      <th>var_6</th>\n",
       "      <th>var_7</th>\n",
       "      <th>var_8</th>\n",
       "      <th>var_9</th>\n",
       "      <th>var_10</th>\n",
       "      <th>var_11</th>\n",
       "      <th>var_12</th>\n",
       "      <th>var_13</th>\n",
       "      <th>var_14</th>\n",
       "      <th>var_15</th>\n",
       "      <th>...</th>\n",
       "      <th>var_95</th>\n",
       "      <th>var_96</th>\n",
       "      <th>var_97</th>\n",
       "      <th>var_98</th>\n",
       "      <th>var_99</th>\n",
       "      <th>var_100</th>\n",
       "      <th>var_101</th>\n",
       "      <th>var_102</th>\n",
       "      <th>var_103</th>\n",
       "      <th>var_104</th>\n",
       "      <th>var_105</th>\n",
       "      <th>var_106</th>\n",
       "      <th>var_107</th>\n",
       "      <th>var_108</th>\n",
       "      <th>var_109</th>\n",
       "    </tr>\n",
       "  </thead>\n",
       "  <tbody>\n",
       "    <tr>\n",
       "      <th>0</th>\n",
       "      <td>4.532710</td>\n",
       "      <td>3.280834</td>\n",
       "      <td>17.982476</td>\n",
       "      <td>4.404259</td>\n",
       "      <td>2.349910</td>\n",
       "      <td>0.603264</td>\n",
       "      <td>2.784655</td>\n",
       "      <td>0.323146</td>\n",
       "      <td>12.009691</td>\n",
       "      <td>0.139346</td>\n",
       "      <td>5.751633</td>\n",
       "      <td>2.808895</td>\n",
       "      <td>1.244055</td>\n",
       "      <td>11.269688</td>\n",
       "      <td>15.866550</td>\n",
       "      <td>...</td>\n",
       "      <td>4.662407e-01</td>\n",
       "      <td>7.273476</td>\n",
       "      <td>0.623398</td>\n",
       "      <td>2.070677</td>\n",
       "      <td>1.108609</td>\n",
       "      <td>2.079066</td>\n",
       "      <td>6.748819</td>\n",
       "      <td>2.941445</td>\n",
       "      <td>18.360496</td>\n",
       "      <td>17.726613</td>\n",
       "      <td>7.774031</td>\n",
       "      <td>1.473441</td>\n",
       "      <td>1.973832</td>\n",
       "      <td>0.976806</td>\n",
       "      <td>2.541417</td>\n",
       "    </tr>\n",
       "    <tr>\n",
       "      <th>1</th>\n",
       "      <td>5.821374</td>\n",
       "      <td>12.098722</td>\n",
       "      <td>13.309151</td>\n",
       "      <td>4.125599</td>\n",
       "      <td>1.045386</td>\n",
       "      <td>1.832035</td>\n",
       "      <td>1.833494</td>\n",
       "      <td>0.709090</td>\n",
       "      <td>8.652883</td>\n",
       "      <td>0.102757</td>\n",
       "      <td>8.225109</td>\n",
       "      <td>2.001220</td>\n",
       "      <td>8.081647</td>\n",
       "      <td>3.933986</td>\n",
       "      <td>14.350374</td>\n",
       "      <td>...</td>\n",
       "      <td>9.585002e-01</td>\n",
       "      <td>6.475936</td>\n",
       "      <td>1.230876</td>\n",
       "      <td>2.249656</td>\n",
       "      <td>0.615216</td>\n",
       "      <td>2.479789</td>\n",
       "      <td>7.795290</td>\n",
       "      <td>3.557890</td>\n",
       "      <td>17.383378</td>\n",
       "      <td>15.193423</td>\n",
       "      <td>8.263673</td>\n",
       "      <td>1.878108</td>\n",
       "      <td>0.567939</td>\n",
       "      <td>1.018818</td>\n",
       "      <td>1.416433</td>\n",
       "    </tr>\n",
       "    <tr>\n",
       "      <th>2</th>\n",
       "      <td>1.938776</td>\n",
       "      <td>7.952752</td>\n",
       "      <td>0.972671</td>\n",
       "      <td>3.459267</td>\n",
       "      <td>1.935782</td>\n",
       "      <td>0.621463</td>\n",
       "      <td>2.338139</td>\n",
       "      <td>0.344948</td>\n",
       "      <td>9.937850</td>\n",
       "      <td>11.691283</td>\n",
       "      <td>8.307318</td>\n",
       "      <td>3.239122</td>\n",
       "      <td>2.699376</td>\n",
       "      <td>10.030416</td>\n",
       "      <td>14.977220</td>\n",
       "      <td>...</td>\n",
       "      <td>1.426163e+00</td>\n",
       "      <td>7.552225</td>\n",
       "      <td>0.599195</td>\n",
       "      <td>1.872145</td>\n",
       "      <td>2.111624</td>\n",
       "      <td>1.861487</td>\n",
       "      <td>6.130886</td>\n",
       "      <td>3.401064</td>\n",
       "      <td>15.850471</td>\n",
       "      <td>14.620599</td>\n",
       "      <td>6.849776</td>\n",
       "      <td>1.098210</td>\n",
       "      <td>1.959183</td>\n",
       "      <td>1.575493</td>\n",
       "      <td>1.857893</td>\n",
       "    </tr>\n",
       "    <tr>\n",
       "      <th>3</th>\n",
       "      <td>6.020690</td>\n",
       "      <td>9.900544</td>\n",
       "      <td>17.869637</td>\n",
       "      <td>4.366715</td>\n",
       "      <td>1.973693</td>\n",
       "      <td>2.026012</td>\n",
       "      <td>2.853025</td>\n",
       "      <td>0.674847</td>\n",
       "      <td>11.816859</td>\n",
       "      <td>0.011151</td>\n",
       "      <td>5.769939</td>\n",
       "      <td>2.760518</td>\n",
       "      <td>4.067190</td>\n",
       "      <td>14.040960</td>\n",
       "      <td>15.363394</td>\n",
       "      <td>...</td>\n",
       "      <td>7.226496e-01</td>\n",
       "      <td>7.237598</td>\n",
       "      <td>0.643228</td>\n",
       "      <td>1.168033</td>\n",
       "      <td>1.222773</td>\n",
       "      <td>1.340944</td>\n",
       "      <td>7.240058</td>\n",
       "      <td>2.417235</td>\n",
       "      <td>15.194609</td>\n",
       "      <td>13.553772</td>\n",
       "      <td>7.229971</td>\n",
       "      <td>0.835158</td>\n",
       "      <td>2.234482</td>\n",
       "      <td>0.946170</td>\n",
       "      <td>2.700606</td>\n",
       "    </tr>\n",
       "    <tr>\n",
       "      <th>4</th>\n",
       "      <td>3.909506</td>\n",
       "      <td>10.576516</td>\n",
       "      <td>0.934191</td>\n",
       "      <td>3.419572</td>\n",
       "      <td>1.871438</td>\n",
       "      <td>3.340811</td>\n",
       "      <td>1.868282</td>\n",
       "      <td>0.439865</td>\n",
       "      <td>13.585620</td>\n",
       "      <td>1.153366</td>\n",
       "      <td>9.297974</td>\n",
       "      <td>1.682118</td>\n",
       "      <td>9.553305</td>\n",
       "      <td>10.341188</td>\n",
       "      <td>9.436362</td>\n",
       "      <td>...</td>\n",
       "      <td>6.676273e-07</td>\n",
       "      <td>5.777892</td>\n",
       "      <td>2.743704</td>\n",
       "      <td>2.700285</td>\n",
       "      <td>1.897730</td>\n",
       "      <td>2.738095</td>\n",
       "      <td>6.565509</td>\n",
       "      <td>4.341414</td>\n",
       "      <td>15.893832</td>\n",
       "      <td>11.929787</td>\n",
       "      <td>6.954033</td>\n",
       "      <td>1.853364</td>\n",
       "      <td>0.511027</td>\n",
       "      <td>2.599562</td>\n",
       "      <td>0.811364</td>\n",
       "    </tr>\n",
       "  </tbody>\n",
       "</table>\n",
       "<p>5 rows × 109 columns</p>\n",
       "</div>"
      ],
      "text/plain": [
       "      var_1      var_2      var_3     var_4     var_5     var_6     var_7  \\\n",
       "0  4.532710   3.280834  17.982476  4.404259  2.349910  0.603264  2.784655   \n",
       "1  5.821374  12.098722  13.309151  4.125599  1.045386  1.832035  1.833494   \n",
       "2  1.938776   7.952752   0.972671  3.459267  1.935782  0.621463  2.338139   \n",
       "3  6.020690   9.900544  17.869637  4.366715  1.973693  2.026012  2.853025   \n",
       "4  3.909506  10.576516   0.934191  3.419572  1.871438  3.340811  1.868282   \n",
       "\n",
       "      var_8      var_9     var_10    var_11    var_12    var_13     var_14  \\\n",
       "0  0.323146  12.009691   0.139346  5.751633  2.808895  1.244055  11.269688   \n",
       "1  0.709090   8.652883   0.102757  8.225109  2.001220  8.081647   3.933986   \n",
       "2  0.344948   9.937850  11.691283  8.307318  3.239122  2.699376  10.030416   \n",
       "3  0.674847  11.816859   0.011151  5.769939  2.760518  4.067190  14.040960   \n",
       "4  0.439865  13.585620   1.153366  9.297974  1.682118  9.553305  10.341188   \n",
       "\n",
       "      var_15  ...        var_95    var_96    var_97    var_98    var_99  \\\n",
       "0  15.866550  ...  4.662407e-01  7.273476  0.623398  2.070677  1.108609   \n",
       "1  14.350374  ...  9.585002e-01  6.475936  1.230876  2.249656  0.615216   \n",
       "2  14.977220  ...  1.426163e+00  7.552225  0.599195  1.872145  2.111624   \n",
       "3  15.363394  ...  7.226496e-01  7.237598  0.643228  1.168033  1.222773   \n",
       "4   9.436362  ...  6.676273e-07  5.777892  2.743704  2.700285  1.897730   \n",
       "\n",
       "    var_100   var_101   var_102    var_103    var_104   var_105   var_106  \\\n",
       "0  2.079066  6.748819  2.941445  18.360496  17.726613  7.774031  1.473441   \n",
       "1  2.479789  7.795290  3.557890  17.383378  15.193423  8.263673  1.878108   \n",
       "2  1.861487  6.130886  3.401064  15.850471  14.620599  6.849776  1.098210   \n",
       "3  1.340944  7.240058  2.417235  15.194609  13.553772  7.229971  0.835158   \n",
       "4  2.738095  6.565509  4.341414  15.893832  11.929787  6.954033  1.853364   \n",
       "\n",
       "    var_107   var_108   var_109  \n",
       "0  1.973832  0.976806  2.541417  \n",
       "1  0.567939  1.018818  1.416433  \n",
       "2  1.959183  1.575493  1.857893  \n",
       "3  2.234482  0.946170  2.700606  \n",
       "4  0.511027  2.599562  0.811364  \n",
       "\n",
       "[5 rows x 109 columns]"
      ]
     },
     "execution_count": 3,
     "metadata": {},
     "output_type": "execute_result"
    }
   ],
   "source": [
    "data.head()"
   ]
  },
  {
   "cell_type": "code",
   "execution_count": 5,
   "id": "77520651",
   "metadata": {},
   "outputs": [
    {
     "data": {
      "text/plain": [
       "((35000, 108), (15000, 108))"
      ]
     },
     "execution_count": 5,
     "metadata": {},
     "output_type": "execute_result"
    }
   ],
   "source": [
    "# In all feature selection procedures, it is good practice to select the features by examining only the training set. And this is to avoid overfit.\n",
    "\n",
    "# separate train and test sets\n",
    "X_train, X_test, y_train, y_test = train_test_split(\n",
    "    data.drop(labels=['target'], axis=1),\n",
    "    data['target'],\n",
    "    test_size=0.3,\n",
    "    random_state=0)\n",
    "\n",
    "X_train.shape, X_test.shape"
   ]
  },
  {
   "cell_type": "code",
   "execution_count": 6,
   "id": "b8d2a32d",
   "metadata": {},
   "outputs": [
    {
     "data": {
      "text/plain": [
       "StandardScaler()"
      ]
     },
     "execution_count": 6,
     "metadata": {},
     "output_type": "execute_result"
    }
   ],
   "source": [
    "# we will scale the variables, so we fit a scaler\n",
    "\n",
    "scaler = StandardScaler()\n",
    "scaler.fit(X_train)"
   ]
  },
  {
   "cell_type": "code",
   "execution_count": 7,
   "id": "2be50d13",
   "metadata": {},
   "outputs": [
    {
     "data": {
      "text/plain": [
       "SelectFromModel(estimator=LogisticRegression(C=1000, max_iter=300,\n",
       "                                             random_state=10))"
      ]
     },
     "execution_count": 7,
     "metadata": {},
     "output_type": "execute_result"
    }
   ],
   "source": [
    "# here I will do the model fitting and feature selection\n",
    "# altogether in 2 lines of code\n",
    "\n",
    "# first I specify the Logistic Regression model, here I\n",
    "# select the Ridge Penalty (l2)(it is the default parameter in sklearn)\n",
    "\n",
    "# remember that here I want to evaluate the coefficient magnitud\n",
    "# itself and not whether lasso shrinks coefficients to zero\n",
    "\n",
    "# ideally, I want to avoid regularisation at all, so the coefficients\n",
    "# are not affected (modified) by the penalty of the regularisation\n",
    "\n",
    "# In order to do this in sklearn, I set the parameter C really high\n",
    "# which is basically like fitting a non-regularised logistic regression\n",
    "\n",
    "# Then I use the selectFromModel object from sklearn\n",
    "# to automatically select the features\n",
    "\n",
    "# set C to 1000, to avoid regularisation\n",
    "sel_ = SelectFromModel(\n",
    "    LogisticRegression(C=1000, penalty='l2', max_iter=300, random_state=10))\n",
    "\n",
    "sel_.fit(scaler.transform(X_train), y_train)"
   ]
  },
  {
   "cell_type": "code",
   "execution_count": 8,
   "id": "83fdf097",
   "metadata": {},
   "outputs": [
    {
     "data": {
      "text/plain": [
       "array([False, False,  True, False, False, False, False, False, False,\n",
       "       False,  True, False, False, False, False, False, False, False,\n",
       "       False, False,  True, False,  True,  True, False,  True, False,\n",
       "       False, False, False, False,  True,  True, False, False, False,\n",
       "       False, False,  True,  True, False, False, False, False, False,\n",
       "       False, False,  True, False,  True, False,  True, False, False,\n",
       "        True,  True, False, False, False,  True, False,  True, False,\n",
       "       False, False, False, False,  True,  True, False,  True, False,\n",
       "        True, False, False,  True, False, False,  True, False, False,\n",
       "        True,  True, False, False, False,  True,  True, False,  True,\n",
       "       False,  True, False, False, False, False,  True, False,  True,\n",
       "       False,  True, False, False, False,  True, False, False, False])"
      ]
     },
     "execution_count": 8,
     "metadata": {},
     "output_type": "execute_result"
    }
   ],
   "source": [
    "# this command let's me visualise those features that were kept.\n",
    "\n",
    "# sklearn will select those features which coefficients are greater\n",
    "# than the mean of all the coefficients.\n",
    "\n",
    "# it compares absolute values of coefficients. More on this in a second.\n",
    "\n",
    "sel_.get_support()"
   ]
  },
  {
   "cell_type": "code",
   "execution_count": 9,
   "id": "dd684417",
   "metadata": {},
   "outputs": [
    {
     "data": {
      "text/plain": [
       "33"
      ]
     },
     "execution_count": 9,
     "metadata": {},
     "output_type": "execute_result"
    }
   ],
   "source": [
    "# let's add the variable names and order it for clearer visualisation\n",
    "# and then let's sum the number of selected features\n",
    "\n",
    "selected_feat = X_train.columns[(sel_.get_support())]\n",
    "len(selected_feat)"
   ]
  },
  {
   "cell_type": "code",
   "execution_count": 10,
   "id": "6ebf86cb",
   "metadata": {},
   "outputs": [
    {
     "data": {
      "text/plain": [
       "array([[ 1.16183614e-02, -1.34072132e-02,  1.09107173e-01,\n",
       "         2.64697804e-02,  4.34679785e-02, -2.46376855e-02,\n",
       "        -3.36582978e-02, -6.56307132e-03,  2.32565908e-02,\n",
       "        -9.76414251e-03,  8.10711566e-02,  5.27534115e-02,\n",
       "        -3.76606793e-02,  1.92490872e-02, -3.86194638e-02,\n",
       "         2.72033943e-02,  1.36828673e-02,  5.40444294e-02,\n",
       "         1.32611602e-02,  1.54676638e-02,  1.41998048e-01,\n",
       "         2.41407302e-02, -1.29050672e-01,  1.26422172e-01,\n",
       "         1.43597823e-02,  6.32941882e-02,  2.76716251e-02,\n",
       "        -1.06386385e-03, -1.45786877e-02, -1.50104414e-02,\n",
       "         6.78709804e-03, -1.86660641e-01, -1.01874444e-01,\n",
       "         3.29250455e-02,  1.19830174e-02,  4.31838483e-02,\n",
       "         1.98487163e-02,  4.50138384e-02,  7.99090659e-02,\n",
       "         7.06069842e-02, -3.61131924e-03, -1.92024695e-03,\n",
       "        -5.33165173e-02,  5.65860545e-02,  3.64960641e-03,\n",
       "         3.07469638e-02,  4.87608070e-03,  4.23320574e-01,\n",
       "         2.14090226e-02,  7.44195848e-02,  1.49351389e-02,\n",
       "         6.84572542e-02,  3.65623717e-04,  8.66114597e-03,\n",
       "         8.26429038e-01, -1.05318274e-01, -5.87806619e-03,\n",
       "         2.89499079e-02,  1.15343227e-02, -6.72981438e-02,\n",
       "         1.73925960e-02, -1.88829547e-01,  1.55981250e-02,\n",
       "        -4.21984011e-03,  2.65852681e-02,  1.92151772e-02,\n",
       "         4.07481415e-03, -3.09606203e-01, -1.69126826e-01,\n",
       "         2.21008714e-03, -7.91919344e-02,  3.54085341e-03,\n",
       "        -7.67738327e-02,  7.31538469e-03, -4.62238531e-02,\n",
       "         9.61003348e-02, -3.34662946e-03, -1.05594807e-03,\n",
       "         1.25650216e-01, -1.35096155e-02,  7.87413868e-03,\n",
       "         1.49904105e-01,  6.29006476e-02,  8.31806635e-03,\n",
       "         3.35519102e-02, -3.90756619e-03, -1.59663707e-01,\n",
       "        -5.75101678e-02, -3.18721731e-02, -7.36224975e-02,\n",
       "        -5.06029992e-03,  5.98705858e-02,  4.94522757e-02,\n",
       "        -4.43329921e-02,  2.31761659e-02,  1.89964090e-02,\n",
       "        -9.34140944e-02,  2.27225149e-03,  5.80748046e-02,\n",
       "         2.68580591e-02,  1.10479669e-01, -6.88063108e-03,\n",
       "        -5.65555153e-02,  1.07135199e-02, -9.04662805e-02,\n",
       "        -2.65113476e-03, -5.54851042e-02,  9.35653264e-03]])"
      ]
     },
     "execution_count": 10,
     "metadata": {},
     "output_type": "execute_result"
    }
   ],
   "source": [
    "# with the parameter coef_ we access the coefficients of the variables\n",
    "# for the linear regression (for all the 108 variables)\n",
    "\n",
    "sel_.estimator_.coef_"
   ]
  },
  {
   "cell_type": "code",
   "execution_count": 11,
   "id": "27b05c8a",
   "metadata": {},
   "outputs": [
    {
     "data": {
      "text/plain": [
       "0.012031678386112141"
      ]
     },
     "execution_count": 11,
     "metadata": {},
     "output_type": "execute_result"
    }
   ],
   "source": [
    "# as SelectFromModel selects coefficients above the mean\n",
    "# of all coefficients, let's calculate first the mean\n",
    "\n",
    "sel_.estimator_.coef_.mean()"
   ]
  },
  {
   "cell_type": "code",
   "execution_count": 12,
   "id": "8d4abcb9",
   "metadata": {},
   "outputs": [
    {
     "data": {
      "image/png": "[encoded data removed]",
      "text/plain": [
       "<Figure size 432x288 with 1 Axes>"
      ]
     },
     "metadata": {
      "needs_background": "light"
     },
     "output_type": "display_data"
    }
   ],
   "source": [
    "# and now let's plot the distribution of coefficients\n",
    "\n",
    "pd.Series(sel_.estimator_.coef_.ravel()).hist(bins=20)\n",
    "plt.xlabel('Coefficients')\n",
    "plt.ylabel('Number of variables')\n",
    "plt.show()"
   ]
  },
  {
   "cell_type": "code",
   "execution_count": 13,
   "id": "dcc6b4a5",
   "metadata": {},
   "outputs": [
    {
     "data": {
      "text/plain": [
       "0.05690572033669929"
      ]
     },
     "execution_count": 13,
     "metadata": {},
     "output_type": "execute_result"
    }
   ],
   "source": [
    "# the feature importance is informed by the absolute value of\n",
    "# the coefficient, and not the sign.\n",
    "# therefore, let's recalculate the mean using the absolute values instead\n",
    "\n",
    "np.abs(sel_.estimator_.coef_).mean()"
   ]
  },
  {
   "cell_type": "code",
   "execution_count": 14,
   "id": "132be46a",
   "metadata": {},
   "outputs": [
    {
     "data": {
      "image/png": "[encoded data removed]",
      "text/plain": [
       "<Figure size 432x288 with 1 Axes>"
      ]
     },
     "metadata": {
      "needs_background": "light"
     },
     "output_type": "display_data"
    }
   ],
   "source": [
    "# and now let's plot the histogram of absolute coefficients\n",
    "\n",
    "pd.Series(np.abs(sel_.estimator_.coef_).ravel()).hist(bins=20)\n",
    "plt.xlabel('Coefficients')\n",
    "plt.ylabel('Number of variables')\n",
    "plt.show()"
   ]
  },
  {
   "cell_type": "code",
   "execution_count": 15,
   "id": "6705b03b",
   "metadata": {},
   "outputs": [
    {
     "name": "stdout",
     "output_type": "stream",
     "text": [
      "total features: 108\n",
      "selected features: 33\n",
      "features with coefficients greater than the mean coefficient: 33\n"
     ]
    }
   ],
   "source": [
    "# and now, let's compare the  number of selected features\n",
    "# with the number of features which coefficient is above the\n",
    "# mean coefficient, to make sure we understand the output of\n",
    "# SelectFromModel\n",
    "\n",
    "print('total features: {}'.format((X_train.shape[1])))\n",
    "\n",
    "print('selected features: {}'.format(len(selected_feat)))\n",
    "\n",
    "print(\n",
    "    'features with coefficients greater than the mean coefficient: {}'.format(\n",
    "        np.sum(\n",
    "            np.abs(sel_.estimator_.coef_) > np.abs(\n",
    "                sel_.estimator_.coef_).mean())))"
   ]
  },
  {
   "cell_type": "code",
   "execution_count": null,
   "id": "01f254ad",
   "metadata": {},
   "outputs": [],
   "source": []
  }
 ],
 "metadata": {
  "kernelspec": {
   "display_name": "Python 3 (ipykernel)",
   "language": "python",
   "name": "python3"
  },
  "language_info": {
   "codemirror_mode": {
    "name": "ipython",
    "version": 3
   },
   "file_extension": ".py",
   "mimetype": "text/x-python",
   "name": "python",
   "nbconvert_exporter": "python",
   "pygments_lexer": "ipython3",
   "version": "3.9.7"
  }
 },
 "nbformat": 4,
 "nbformat_minor": 5
}
