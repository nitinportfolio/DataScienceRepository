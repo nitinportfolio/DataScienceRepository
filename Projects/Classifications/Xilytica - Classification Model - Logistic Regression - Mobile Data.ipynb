{
 "cells": [
  {
   "cell_type": "code",
   "execution_count": 1,
   "metadata": {},
   "outputs": [],
   "source": [
    "# Human Activity REcognitionwith Smart Phones dataset was built from the recordings of study participants\n",
    "# performing activies daily living ADL while carrying a smart phone with an embedded sensors\n",
    "# Classify activities from six activities - Walking, Walking Upstairs, Walking Downstairs, Sitting\n",
    "# Standing, & Laying"
   ]
  },
  {
   "cell_type": "markdown",
   "metadata": {},
   "source": [
    "- For each record it is provided \n",
    "- Triaxial acceleration from accelerometer (total acceleration) & the estimated body acceleration\n",
    "- Triaxial Angular Velocity from gyroscope\n",
    "- A 561 feature vector with time & frequency domian variable\n",
    "- its activity label"
   ]
  },
  {
   "cell_type": "code",
   "execution_count": 45,
   "metadata": {},
   "outputs": [],
   "source": [
    "import pandas as pd, numpy as np, seaborn as sns\n",
    "import matplotlib.pyplot as plt"
   ]
  },
  {
   "cell_type": "code",
   "execution_count": 5,
   "metadata": {},
   "outputs": [],
   "source": [
    "# from colorsetup import colors, palette"
   ]
  },
  {
   "cell_type": "code",
   "execution_count": 6,
   "metadata": {},
   "outputs": [],
   "source": [
    "data = pd.read_csv('C:/Users/Administrator/Portfolio Projects/Datasets/Human_Activity_Smartphones_Data.csv')"
   ]
  },
  {
   "cell_type": "code",
   "execution_count": 7,
   "metadata": {},
   "outputs": [
    {
     "data": {
      "text/html": [
       "<div>\n",
       "<style scoped>\n",
       "    .dataframe tbody tr th:only-of-type {\n",
       "        vertical-align: middle;\n",
       "    }\n",
       "\n",
       "    .dataframe tbody tr th {\n",
       "        vertical-align: top;\n",
       "    }\n",
       "\n",
       "    .dataframe thead th {\n",
       "        text-align: right;\n",
       "    }\n",
       "</style>\n",
       "<table border=\"1\" class=\"dataframe\">\n",
       "  <thead>\n",
       "    <tr style=\"text-align: right;\">\n",
       "      <th></th>\n",
       "      <th>tBodyAcc-mean()-X</th>\n",
       "      <th>tBodyAcc-mean()-Y</th>\n",
       "      <th>tBodyAcc-mean()-Z</th>\n",
       "      <th>tBodyAcc-std()-X</th>\n",
       "      <th>tBodyAcc-std()-Y</th>\n",
       "      <th>tBodyAcc-std()-Z</th>\n",
       "      <th>tBodyAcc-mad()-X</th>\n",
       "      <th>tBodyAcc-mad()-Y</th>\n",
       "      <th>tBodyAcc-mad()-Z</th>\n",
       "      <th>tBodyAcc-max()-X</th>\n",
       "      <th>...</th>\n",
       "      <th>fBodyBodyGyroJerkMag-skewness()</th>\n",
       "      <th>fBodyBodyGyroJerkMag-kurtosis()</th>\n",
       "      <th>angle(tBodyAccMean,gravity)</th>\n",
       "      <th>angle(tBodyAccJerkMean),gravityMean)</th>\n",
       "      <th>angle(tBodyGyroMean,gravityMean)</th>\n",
       "      <th>angle(tBodyGyroJerkMean,gravityMean)</th>\n",
       "      <th>angle(X,gravityMean)</th>\n",
       "      <th>angle(Y,gravityMean)</th>\n",
       "      <th>angle(Z,gravityMean)</th>\n",
       "      <th>Activity</th>\n",
       "    </tr>\n",
       "  </thead>\n",
       "  <tbody>\n",
       "    <tr>\n",
       "      <th>0</th>\n",
       "      <td>0.288585</td>\n",
       "      <td>-0.020294</td>\n",
       "      <td>-0.132905</td>\n",
       "      <td>-0.995279</td>\n",
       "      <td>-0.983111</td>\n",
       "      <td>-0.913526</td>\n",
       "      <td>-0.995112</td>\n",
       "      <td>-0.983185</td>\n",
       "      <td>-0.923527</td>\n",
       "      <td>-0.934724</td>\n",
       "      <td>...</td>\n",
       "      <td>-0.298676</td>\n",
       "      <td>-0.710304</td>\n",
       "      <td>-0.112754</td>\n",
       "      <td>0.030400</td>\n",
       "      <td>-0.464761</td>\n",
       "      <td>-0.018446</td>\n",
       "      <td>-0.841247</td>\n",
       "      <td>0.179941</td>\n",
       "      <td>-0.058627</td>\n",
       "      <td>STANDING</td>\n",
       "    </tr>\n",
       "    <tr>\n",
       "      <th>1</th>\n",
       "      <td>0.278419</td>\n",
       "      <td>-0.016411</td>\n",
       "      <td>-0.123520</td>\n",
       "      <td>-0.998245</td>\n",
       "      <td>-0.975300</td>\n",
       "      <td>-0.960322</td>\n",
       "      <td>-0.998807</td>\n",
       "      <td>-0.974914</td>\n",
       "      <td>-0.957686</td>\n",
       "      <td>-0.943068</td>\n",
       "      <td>...</td>\n",
       "      <td>-0.595051</td>\n",
       "      <td>-0.861499</td>\n",
       "      <td>0.053477</td>\n",
       "      <td>-0.007435</td>\n",
       "      <td>-0.732626</td>\n",
       "      <td>0.703511</td>\n",
       "      <td>-0.844788</td>\n",
       "      <td>0.180289</td>\n",
       "      <td>-0.054317</td>\n",
       "      <td>STANDING</td>\n",
       "    </tr>\n",
       "    <tr>\n",
       "      <th>2</th>\n",
       "      <td>0.279653</td>\n",
       "      <td>-0.019467</td>\n",
       "      <td>-0.113462</td>\n",
       "      <td>-0.995380</td>\n",
       "      <td>-0.967187</td>\n",
       "      <td>-0.978944</td>\n",
       "      <td>-0.996520</td>\n",
       "      <td>-0.963668</td>\n",
       "      <td>-0.977469</td>\n",
       "      <td>-0.938692</td>\n",
       "      <td>...</td>\n",
       "      <td>-0.390748</td>\n",
       "      <td>-0.760104</td>\n",
       "      <td>-0.118559</td>\n",
       "      <td>0.177899</td>\n",
       "      <td>0.100699</td>\n",
       "      <td>0.808529</td>\n",
       "      <td>-0.848933</td>\n",
       "      <td>0.180637</td>\n",
       "      <td>-0.049118</td>\n",
       "      <td>STANDING</td>\n",
       "    </tr>\n",
       "    <tr>\n",
       "      <th>3</th>\n",
       "      <td>0.279174</td>\n",
       "      <td>-0.026201</td>\n",
       "      <td>-0.123283</td>\n",
       "      <td>-0.996091</td>\n",
       "      <td>-0.983403</td>\n",
       "      <td>-0.990675</td>\n",
       "      <td>-0.997099</td>\n",
       "      <td>-0.982750</td>\n",
       "      <td>-0.989302</td>\n",
       "      <td>-0.938692</td>\n",
       "      <td>...</td>\n",
       "      <td>-0.117290</td>\n",
       "      <td>-0.482845</td>\n",
       "      <td>-0.036788</td>\n",
       "      <td>-0.012892</td>\n",
       "      <td>0.640011</td>\n",
       "      <td>-0.485366</td>\n",
       "      <td>-0.848649</td>\n",
       "      <td>0.181935</td>\n",
       "      <td>-0.047663</td>\n",
       "      <td>STANDING</td>\n",
       "    </tr>\n",
       "    <tr>\n",
       "      <th>4</th>\n",
       "      <td>0.276629</td>\n",
       "      <td>-0.016570</td>\n",
       "      <td>-0.115362</td>\n",
       "      <td>-0.998139</td>\n",
       "      <td>-0.980817</td>\n",
       "      <td>-0.990482</td>\n",
       "      <td>-0.998321</td>\n",
       "      <td>-0.979672</td>\n",
       "      <td>-0.990441</td>\n",
       "      <td>-0.942469</td>\n",
       "      <td>...</td>\n",
       "      <td>-0.351471</td>\n",
       "      <td>-0.699205</td>\n",
       "      <td>0.123320</td>\n",
       "      <td>0.122542</td>\n",
       "      <td>0.693578</td>\n",
       "      <td>-0.615971</td>\n",
       "      <td>-0.847865</td>\n",
       "      <td>0.185151</td>\n",
       "      <td>-0.043892</td>\n",
       "      <td>STANDING</td>\n",
       "    </tr>\n",
       "  </tbody>\n",
       "</table>\n",
       "<p>5 rows × 562 columns</p>\n",
       "</div>"
      ],
      "text/plain": [
       "   tBodyAcc-mean()-X  tBodyAcc-mean()-Y  tBodyAcc-mean()-Z  tBodyAcc-std()-X  \\\n",
       "0           0.288585          -0.020294          -0.132905         -0.995279   \n",
       "1           0.278419          -0.016411          -0.123520         -0.998245   \n",
       "2           0.279653          -0.019467          -0.113462         -0.995380   \n",
       "3           0.279174          -0.026201          -0.123283         -0.996091   \n",
       "4           0.276629          -0.016570          -0.115362         -0.998139   \n",
       "\n",
       "   tBodyAcc-std()-Y  tBodyAcc-std()-Z  tBodyAcc-mad()-X  tBodyAcc-mad()-Y  \\\n",
       "0         -0.983111         -0.913526         -0.995112         -0.983185   \n",
       "1         -0.975300         -0.960322         -0.998807         -0.974914   \n",
       "2         -0.967187         -0.978944         -0.996520         -0.963668   \n",
       "3         -0.983403         -0.990675         -0.997099         -0.982750   \n",
       "4         -0.980817         -0.990482         -0.998321         -0.979672   \n",
       "\n",
       "   tBodyAcc-mad()-Z  tBodyAcc-max()-X  ...  fBodyBodyGyroJerkMag-skewness()  \\\n",
       "0         -0.923527         -0.934724  ...                        -0.298676   \n",
       "1         -0.957686         -0.943068  ...                        -0.595051   \n",
       "2         -0.977469         -0.938692  ...                        -0.390748   \n",
       "3         -0.989302         -0.938692  ...                        -0.117290   \n",
       "4         -0.990441         -0.942469  ...                        -0.351471   \n",
       "\n",
       "   fBodyBodyGyroJerkMag-kurtosis()  angle(tBodyAccMean,gravity)  \\\n",
       "0                        -0.710304                    -0.112754   \n",
       "1                        -0.861499                     0.053477   \n",
       "2                        -0.760104                    -0.118559   \n",
       "3                        -0.482845                    -0.036788   \n",
       "4                        -0.699205                     0.123320   \n",
       "\n",
       "   angle(tBodyAccJerkMean),gravityMean)  angle(tBodyGyroMean,gravityMean)  \\\n",
       "0                              0.030400                         -0.464761   \n",
       "1                             -0.007435                         -0.732626   \n",
       "2                              0.177899                          0.100699   \n",
       "3                             -0.012892                          0.640011   \n",
       "4                              0.122542                          0.693578   \n",
       "\n",
       "   angle(tBodyGyroJerkMean,gravityMean)  angle(X,gravityMean)  \\\n",
       "0                             -0.018446             -0.841247   \n",
       "1                              0.703511             -0.844788   \n",
       "2                              0.808529             -0.848933   \n",
       "3                             -0.485366             -0.848649   \n",
       "4                             -0.615971             -0.847865   \n",
       "\n",
       "   angle(Y,gravityMean)  angle(Z,gravityMean)  Activity  \n",
       "0              0.179941             -0.058627  STANDING  \n",
       "1              0.180289             -0.054317  STANDING  \n",
       "2              0.180637             -0.049118  STANDING  \n",
       "3              0.181935             -0.047663  STANDING  \n",
       "4              0.185151             -0.043892  STANDING  \n",
       "\n",
       "[5 rows x 562 columns]"
      ]
     },
     "execution_count": 7,
     "metadata": {},
     "output_type": "execute_result"
    }
   ],
   "source": [
    "data.head()"
   ]
  },
  {
   "cell_type": "code",
   "execution_count": 8,
   "metadata": {},
   "outputs": [
    {
     "data": {
      "text/plain": [
       "(10299, 562)"
      ]
     },
     "execution_count": 8,
     "metadata": {},
     "output_type": "execute_result"
    }
   ],
   "source": [
    "data.shape"
   ]
  },
  {
   "cell_type": "code",
   "execution_count": 10,
   "metadata": {},
   "outputs": [
    {
     "data": {
      "text/plain": [
       "LAYING                1944\n",
       "STANDING              1906\n",
       "SITTING               1777\n",
       "WALKING               1722\n",
       "WALKING_UPSTAIRS      1544\n",
       "WALKING_DOWNSTAIRS    1406\n",
       "Name: Activity, dtype: int64"
      ]
     },
     "execution_count": 10,
     "metadata": {},
     "output_type": "execute_result"
    }
   ],
   "source": [
    "data['Activity'].value_counts()"
   ]
  },
  {
   "cell_type": "code",
   "execution_count": 11,
   "metadata": {},
   "outputs": [
    {
     "data": {
      "text/plain": [
       "count      10299\n",
       "unique         6\n",
       "top       LAYING\n",
       "freq        1944\n",
       "Name: Activity, dtype: object"
      ]
     },
     "execution_count": 11,
     "metadata": {},
     "output_type": "execute_result"
    }
   ],
   "source": [
    "data['Activity'].describe()"
   ]
  },
  {
   "cell_type": "code",
   "execution_count": 12,
   "metadata": {},
   "outputs": [
    {
     "data": {
      "text/plain": [
       "array(['STANDING', 'SITTING', 'LAYING', 'WALKING', 'WALKING_DOWNSTAIRS',\n",
       "       'WALKING_UPSTAIRS'], dtype=object)"
      ]
     },
     "execution_count": 12,
     "metadata": {},
     "output_type": "execute_result"
    }
   ],
   "source": [
    "data['Activity'].unique()"
   ]
  },
  {
   "cell_type": "code",
   "execution_count": 15,
   "metadata": {},
   "outputs": [
    {
     "data": {
      "text/plain": [
       "float64    561\n",
       "object       1\n",
       "dtype: int64"
      ]
     },
     "execution_count": 15,
     "metadata": {},
     "output_type": "execute_result"
    }
   ],
   "source": [
    "# Examining the datatypes as number of columns are huge\n",
    "data.dtypes.value_counts()"
   ]
  },
  {
   "cell_type": "code",
   "execution_count": 16,
   "metadata": {},
   "outputs": [
    {
     "data": {
      "text/plain": [
       "angle(tBodyGyroJerkMean,gravityMean)    float64\n",
       "angle(X,gravityMean)                    float64\n",
       "angle(Y,gravityMean)                    float64\n",
       "angle(Z,gravityMean)                    float64\n",
       "Activity                                 object\n",
       "dtype: object"
      ]
     },
     "execution_count": 16,
     "metadata": {},
     "output_type": "execute_result"
    }
   ],
   "source": [
    "data.dtypes.tail()"
   ]
  },
  {
   "cell_type": "code",
   "execution_count": 19,
   "metadata": {},
   "outputs": [
    {
     "data": {
      "text/plain": [
       "-1.0    561\n",
       "dtype: int64"
      ]
     },
     "execution_count": 19,
     "metadata": {},
     "output_type": "execute_result"
    }
   ],
   "source": [
    "# All rows & all columsn except last columns\n",
    "data.iloc[:,:-1].min().value_counts()"
   ]
  },
  {
   "cell_type": "code",
   "execution_count": 20,
   "metadata": {},
   "outputs": [
    {
     "data": {
      "text/plain": [
       "1.0    561\n",
       "dtype: int64"
      ]
     },
     "execution_count": 20,
     "metadata": {},
     "output_type": "execute_result"
    }
   ],
   "source": [
    "data.iloc[:,:-1].max().value_counts()"
   ]
  },
  {
   "cell_type": "code",
   "execution_count": 22,
   "metadata": {},
   "outputs": [
    {
     "data": {
      "text/plain": [
       "LAYING                1944\n",
       "STANDING              1906\n",
       "SITTING               1777\n",
       "WALKING               1722\n",
       "WALKING_UPSTAIRS      1544\n",
       "WALKING_DOWNSTAIRS    1406\n",
       "Name: Activity, dtype: int64"
      ]
     },
     "execution_count": 22,
     "metadata": {},
     "output_type": "execute_result"
    }
   ],
   "source": [
    "# By looking at the dataset we can say its relatively balanced dataset\n",
    "data.Activity.value_counts()"
   ]
  },
  {
   "cell_type": "code",
   "execution_count": 23,
   "metadata": {},
   "outputs": [],
   "source": [
    "from sklearn.preprocessing import LabelEncoder\n",
    "le = LabelEncoder()\n",
    "data['Activity'] = le.fit_transform(data.Activity)\n"
   ]
  },
  {
   "cell_type": "code",
   "execution_count": 25,
   "metadata": {},
   "outputs": [
    {
     "data": {
      "text/plain": [
       "0    1944\n",
       "2    1906\n",
       "1    1777\n",
       "3    1722\n",
       "5    1544\n",
       "4    1406\n",
       "Name: Activity, dtype: int64"
      ]
     },
     "execution_count": 25,
     "metadata": {},
     "output_type": "execute_result"
    }
   ],
   "source": [
    "data['Activity'].value_counts()"
   ]
  },
  {
   "cell_type": "code",
   "execution_count": 28,
   "metadata": {},
   "outputs": [
    {
     "data": {
      "text/plain": [
       "5649    5\n",
       "92      3\n",
       "84      3\n",
       "9239    2\n",
       "5008    3\n",
       "Name: Activity, dtype: int32"
      ]
     },
     "execution_count": 28,
     "metadata": {},
     "output_type": "execute_result"
    }
   ],
   "source": [
    "data['Activity'].sample(5)"
   ]
  },
  {
   "cell_type": "code",
   "execution_count": 29,
   "metadata": {},
   "outputs": [],
   "source": [
    "# Correlation values among the independent variables\n",
    "feature_cols = data.columns[:-1]"
   ]
  },
  {
   "cell_type": "code",
   "execution_count": 30,
   "metadata": {},
   "outputs": [],
   "source": [
    "corr_values = data[feature_cols].corr()"
   ]
  },
  {
   "cell_type": "code",
   "execution_count": 32,
   "metadata": {},
   "outputs": [],
   "source": [
    "# For beter readability emptying all the data below diagoanl\n",
    "tril_index = np.tril_indices_from(corr_values)"
   ]
  },
  {
   "cell_type": "code",
   "execution_count": 33,
   "metadata": {},
   "outputs": [
    {
     "data": {
      "text/plain": [
       "(array([  0,   1,   1, ..., 560, 560, 560], dtype=int64),\n",
       " array([  0,   0,   1, ..., 558, 559, 560], dtype=int64))"
      ]
     },
     "execution_count": 33,
     "metadata": {},
     "output_type": "execute_result"
    }
   ],
   "source": [
    "tril_index"
   ]
  },
  {
   "cell_type": "code",
   "execution_count": 36,
   "metadata": {},
   "outputs": [],
   "source": [
    "# making the unused values NANs\n",
    "corr_array = np.array(corr_values)\n",
    "corr_array[np.tril_indices_from(corr_values)] = np.nan"
   ]
  },
  {
   "cell_type": "code",
   "execution_count": 37,
   "metadata": {},
   "outputs": [
    {
     "data": {
      "text/plain": [
       "array([nan, nan, nan, ..., nan, nan, nan])"
      ]
     },
     "execution_count": 37,
     "metadata": {},
     "output_type": "execute_result"
    }
   ],
   "source": [
    "corr_array[np.tril_indices_from(corr_values)]"
   ]
  },
  {
   "cell_type": "code",
   "execution_count": 38,
   "metadata": {},
   "outputs": [],
   "source": [
    "corr_values = pd.DataFrame(corr_array, columns=corr_values.columns, index = corr_values.index)"
   ]
  },
  {
   "cell_type": "code",
   "execution_count": 39,
   "metadata": {},
   "outputs": [
    {
     "data": {
      "text/html": [
       "<div>\n",
       "<style scoped>\n",
       "    .dataframe tbody tr th:only-of-type {\n",
       "        vertical-align: middle;\n",
       "    }\n",
       "\n",
       "    .dataframe tbody tr th {\n",
       "        vertical-align: top;\n",
       "    }\n",
       "\n",
       "    .dataframe thead th {\n",
       "        text-align: right;\n",
       "    }\n",
       "</style>\n",
       "<table border=\"1\" class=\"dataframe\">\n",
       "  <thead>\n",
       "    <tr style=\"text-align: right;\">\n",
       "      <th></th>\n",
       "      <th>tBodyAcc-mean()-X</th>\n",
       "      <th>tBodyAcc-mean()-Y</th>\n",
       "      <th>tBodyAcc-mean()-Z</th>\n",
       "      <th>tBodyAcc-std()-X</th>\n",
       "      <th>tBodyAcc-std()-Y</th>\n",
       "      <th>tBodyAcc-std()-Z</th>\n",
       "      <th>tBodyAcc-mad()-X</th>\n",
       "      <th>tBodyAcc-mad()-Y</th>\n",
       "      <th>tBodyAcc-mad()-Z</th>\n",
       "      <th>tBodyAcc-max()-X</th>\n",
       "      <th>...</th>\n",
       "      <th>fBodyBodyGyroJerkMag-meanFreq()</th>\n",
       "      <th>fBodyBodyGyroJerkMag-skewness()</th>\n",
       "      <th>fBodyBodyGyroJerkMag-kurtosis()</th>\n",
       "      <th>angle(tBodyAccMean,gravity)</th>\n",
       "      <th>angle(tBodyAccJerkMean),gravityMean)</th>\n",
       "      <th>angle(tBodyGyroMean,gravityMean)</th>\n",
       "      <th>angle(tBodyGyroJerkMean,gravityMean)</th>\n",
       "      <th>angle(X,gravityMean)</th>\n",
       "      <th>angle(Y,gravityMean)</th>\n",
       "      <th>angle(Z,gravityMean)</th>\n",
       "    </tr>\n",
       "  </thead>\n",
       "  <tbody>\n",
       "    <tr>\n",
       "      <th>tBodyAcc-mean()-X</th>\n",
       "      <td>NaN</td>\n",
       "      <td>0.128037</td>\n",
       "      <td>-0.230302</td>\n",
       "      <td>0.004590</td>\n",
       "      <td>-0.016785</td>\n",
       "      <td>-0.036071</td>\n",
       "      <td>0.010303</td>\n",
       "      <td>-0.017488</td>\n",
       "      <td>-0.038805</td>\n",
       "      <td>0.046943</td>\n",
       "      <td>...</td>\n",
       "      <td>0.029901</td>\n",
       "      <td>-0.006179</td>\n",
       "      <td>-0.002255</td>\n",
       "      <td>-0.552989</td>\n",
       "      <td>0.015754</td>\n",
       "      <td>0.036047</td>\n",
       "      <td>0.034296</td>\n",
       "      <td>-0.041021</td>\n",
       "      <td>0.034053</td>\n",
       "      <td>0.030656</td>\n",
       "    </tr>\n",
       "    <tr>\n",
       "      <th>tBodyAcc-mean()-Y</th>\n",
       "      <td>NaN</td>\n",
       "      <td>NaN</td>\n",
       "      <td>-0.029882</td>\n",
       "      <td>-0.046352</td>\n",
       "      <td>-0.046996</td>\n",
       "      <td>-0.054153</td>\n",
       "      <td>-0.045247</td>\n",
       "      <td>-0.047673</td>\n",
       "      <td>-0.055524</td>\n",
       "      <td>-0.039445</td>\n",
       "      <td>...</td>\n",
       "      <td>-0.014402</td>\n",
       "      <td>-0.000649</td>\n",
       "      <td>-0.002842</td>\n",
       "      <td>0.077750</td>\n",
       "      <td>-0.027567</td>\n",
       "      <td>0.013241</td>\n",
       "      <td>0.077627</td>\n",
       "      <td>-0.007513</td>\n",
       "      <td>-0.005616</td>\n",
       "      <td>-0.016233</td>\n",
       "    </tr>\n",
       "    <tr>\n",
       "      <th>tBodyAcc-mean()-Z</th>\n",
       "      <td>NaN</td>\n",
       "      <td>NaN</td>\n",
       "      <td>NaN</td>\n",
       "      <td>-0.024185</td>\n",
       "      <td>-0.023745</td>\n",
       "      <td>-0.015632</td>\n",
       "      <td>-0.022872</td>\n",
       "      <td>-0.022966</td>\n",
       "      <td>-0.009577</td>\n",
       "      <td>-0.040218</td>\n",
       "      <td>...</td>\n",
       "      <td>-0.015358</td>\n",
       "      <td>0.023050</td>\n",
       "      <td>0.023122</td>\n",
       "      <td>0.055020</td>\n",
       "      <td>-0.042083</td>\n",
       "      <td>-0.066233</td>\n",
       "      <td>-0.030748</td>\n",
       "      <td>0.003215</td>\n",
       "      <td>-0.012986</td>\n",
       "      <td>-0.028406</td>\n",
       "    </tr>\n",
       "    <tr>\n",
       "      <th>tBodyAcc-std()-X</th>\n",
       "      <td>NaN</td>\n",
       "      <td>NaN</td>\n",
       "      <td>NaN</td>\n",
       "      <td>NaN</td>\n",
       "      <td>0.922525</td>\n",
       "      <td>0.861910</td>\n",
       "      <td>0.998662</td>\n",
       "      <td>0.916087</td>\n",
       "      <td>0.856497</td>\n",
       "      <td>0.981226</td>\n",
       "      <td>...</td>\n",
       "      <td>-0.068807</td>\n",
       "      <td>0.165552</td>\n",
       "      <td>0.135171</td>\n",
       "      <td>-0.034334</td>\n",
       "      <td>-0.017096</td>\n",
       "      <td>0.027464</td>\n",
       "      <td>-0.027123</td>\n",
       "      <td>-0.374104</td>\n",
       "      <td>0.449425</td>\n",
       "      <td>0.393063</td>\n",
       "    </tr>\n",
       "    <tr>\n",
       "      <th>tBodyAcc-std()-Y</th>\n",
       "      <td>NaN</td>\n",
       "      <td>NaN</td>\n",
       "      <td>NaN</td>\n",
       "      <td>NaN</td>\n",
       "      <td>NaN</td>\n",
       "      <td>0.888259</td>\n",
       "      <td>0.918561</td>\n",
       "      <td>0.997510</td>\n",
       "      <td>0.887052</td>\n",
       "      <td>0.911137</td>\n",
       "      <td>...</td>\n",
       "      <td>-0.109941</td>\n",
       "      <td>0.220279</td>\n",
       "      <td>0.191164</td>\n",
       "      <td>-0.020806</td>\n",
       "      <td>-0.006605</td>\n",
       "      <td>0.001902</td>\n",
       "      <td>-0.015784</td>\n",
       "      <td>-0.381391</td>\n",
       "      <td>0.506106</td>\n",
       "      <td>0.425511</td>\n",
       "    </tr>\n",
       "    <tr>\n",
       "      <th>...</th>\n",
       "      <td>...</td>\n",
       "      <td>...</td>\n",
       "      <td>...</td>\n",
       "      <td>...</td>\n",
       "      <td>...</td>\n",
       "      <td>...</td>\n",
       "      <td>...</td>\n",
       "      <td>...</td>\n",
       "      <td>...</td>\n",
       "      <td>...</td>\n",
       "      <td>...</td>\n",
       "      <td>...</td>\n",
       "      <td>...</td>\n",
       "      <td>...</td>\n",
       "      <td>...</td>\n",
       "      <td>...</td>\n",
       "      <td>...</td>\n",
       "      <td>...</td>\n",
       "      <td>...</td>\n",
       "      <td>...</td>\n",
       "      <td>...</td>\n",
       "    </tr>\n",
       "    <tr>\n",
       "      <th>angle(tBodyGyroMean,gravityMean)</th>\n",
       "      <td>NaN</td>\n",
       "      <td>NaN</td>\n",
       "      <td>NaN</td>\n",
       "      <td>NaN</td>\n",
       "      <td>NaN</td>\n",
       "      <td>NaN</td>\n",
       "      <td>NaN</td>\n",
       "      <td>NaN</td>\n",
       "      <td>NaN</td>\n",
       "      <td>NaN</td>\n",
       "      <td>...</td>\n",
       "      <td>NaN</td>\n",
       "      <td>NaN</td>\n",
       "      <td>NaN</td>\n",
       "      <td>NaN</td>\n",
       "      <td>NaN</td>\n",
       "      <td>NaN</td>\n",
       "      <td>-0.112454</td>\n",
       "      <td>-0.007095</td>\n",
       "      <td>-0.006444</td>\n",
       "      <td>-0.015380</td>\n",
       "    </tr>\n",
       "    <tr>\n",
       "      <th>angle(tBodyGyroJerkMean,gravityMean)</th>\n",
       "      <td>NaN</td>\n",
       "      <td>NaN</td>\n",
       "      <td>NaN</td>\n",
       "      <td>NaN</td>\n",
       "      <td>NaN</td>\n",
       "      <td>NaN</td>\n",
       "      <td>NaN</td>\n",
       "      <td>NaN</td>\n",
       "      <td>NaN</td>\n",
       "      <td>NaN</td>\n",
       "      <td>...</td>\n",
       "      <td>NaN</td>\n",
       "      <td>NaN</td>\n",
       "      <td>NaN</td>\n",
       "      <td>NaN</td>\n",
       "      <td>NaN</td>\n",
       "      <td>NaN</td>\n",
       "      <td>NaN</td>\n",
       "      <td>0.024822</td>\n",
       "      <td>-0.004582</td>\n",
       "      <td>-0.012549</td>\n",
       "    </tr>\n",
       "    <tr>\n",
       "      <th>angle(X,gravityMean)</th>\n",
       "      <td>NaN</td>\n",
       "      <td>NaN</td>\n",
       "      <td>NaN</td>\n",
       "      <td>NaN</td>\n",
       "      <td>NaN</td>\n",
       "      <td>NaN</td>\n",
       "      <td>NaN</td>\n",
       "      <td>NaN</td>\n",
       "      <td>NaN</td>\n",
       "      <td>NaN</td>\n",
       "      <td>...</td>\n",
       "      <td>NaN</td>\n",
       "      <td>NaN</td>\n",
       "      <td>NaN</td>\n",
       "      <td>NaN</td>\n",
       "      <td>NaN</td>\n",
       "      <td>NaN</td>\n",
       "      <td>NaN</td>\n",
       "      <td>NaN</td>\n",
       "      <td>-0.748249</td>\n",
       "      <td>-0.635231</td>\n",
       "    </tr>\n",
       "    <tr>\n",
       "      <th>angle(Y,gravityMean)</th>\n",
       "      <td>NaN</td>\n",
       "      <td>NaN</td>\n",
       "      <td>NaN</td>\n",
       "      <td>NaN</td>\n",
       "      <td>NaN</td>\n",
       "      <td>NaN</td>\n",
       "      <td>NaN</td>\n",
       "      <td>NaN</td>\n",
       "      <td>NaN</td>\n",
       "      <td>NaN</td>\n",
       "      <td>...</td>\n",
       "      <td>NaN</td>\n",
       "      <td>NaN</td>\n",
       "      <td>NaN</td>\n",
       "      <td>NaN</td>\n",
       "      <td>NaN</td>\n",
       "      <td>NaN</td>\n",
       "      <td>NaN</td>\n",
       "      <td>NaN</td>\n",
       "      <td>NaN</td>\n",
       "      <td>0.545614</td>\n",
       "    </tr>\n",
       "    <tr>\n",
       "      <th>angle(Z,gravityMean)</th>\n",
       "      <td>NaN</td>\n",
       "      <td>NaN</td>\n",
       "      <td>NaN</td>\n",
       "      <td>NaN</td>\n",
       "      <td>NaN</td>\n",
       "      <td>NaN</td>\n",
       "      <td>NaN</td>\n",
       "      <td>NaN</td>\n",
       "      <td>NaN</td>\n",
       "      <td>NaN</td>\n",
       "      <td>...</td>\n",
       "      <td>NaN</td>\n",
       "      <td>NaN</td>\n",
       "      <td>NaN</td>\n",
       "      <td>NaN</td>\n",
       "      <td>NaN</td>\n",
       "      <td>NaN</td>\n",
       "      <td>NaN</td>\n",
       "      <td>NaN</td>\n",
       "      <td>NaN</td>\n",
       "      <td>NaN</td>\n",
       "    </tr>\n",
       "  </tbody>\n",
       "</table>\n",
       "<p>561 rows × 561 columns</p>\n",
       "</div>"
      ],
      "text/plain": [
       "                                      tBodyAcc-mean()-X  tBodyAcc-mean()-Y  \\\n",
       "tBodyAcc-mean()-X                                   NaN           0.128037   \n",
       "tBodyAcc-mean()-Y                                   NaN                NaN   \n",
       "tBodyAcc-mean()-Z                                   NaN                NaN   \n",
       "tBodyAcc-std()-X                                    NaN                NaN   \n",
       "tBodyAcc-std()-Y                                    NaN                NaN   \n",
       "...                                                 ...                ...   \n",
       "angle(tBodyGyroMean,gravityMean)                    NaN                NaN   \n",
       "angle(tBodyGyroJerkMean,gravityMean)                NaN                NaN   \n",
       "angle(X,gravityMean)                                NaN                NaN   \n",
       "angle(Y,gravityMean)                                NaN                NaN   \n",
       "angle(Z,gravityMean)                                NaN                NaN   \n",
       "\n",
       "                                      tBodyAcc-mean()-Z  tBodyAcc-std()-X  \\\n",
       "tBodyAcc-mean()-X                             -0.230302          0.004590   \n",
       "tBodyAcc-mean()-Y                             -0.029882         -0.046352   \n",
       "tBodyAcc-mean()-Z                                   NaN         -0.024185   \n",
       "tBodyAcc-std()-X                                    NaN               NaN   \n",
       "tBodyAcc-std()-Y                                    NaN               NaN   \n",
       "...                                                 ...               ...   \n",
       "angle(tBodyGyroMean,gravityMean)                    NaN               NaN   \n",
       "angle(tBodyGyroJerkMean,gravityMean)                NaN               NaN   \n",
       "angle(X,gravityMean)                                NaN               NaN   \n",
       "angle(Y,gravityMean)                                NaN               NaN   \n",
       "angle(Z,gravityMean)                                NaN               NaN   \n",
       "\n",
       "                                      tBodyAcc-std()-Y  tBodyAcc-std()-Z  \\\n",
       "tBodyAcc-mean()-X                            -0.016785         -0.036071   \n",
       "tBodyAcc-mean()-Y                            -0.046996         -0.054153   \n",
       "tBodyAcc-mean()-Z                            -0.023745         -0.015632   \n",
       "tBodyAcc-std()-X                              0.922525          0.861910   \n",
       "tBodyAcc-std()-Y                                   NaN          0.888259   \n",
       "...                                                ...               ...   \n",
       "angle(tBodyGyroMean,gravityMean)                   NaN               NaN   \n",
       "angle(tBodyGyroJerkMean,gravityMean)               NaN               NaN   \n",
       "angle(X,gravityMean)                               NaN               NaN   \n",
       "angle(Y,gravityMean)                               NaN               NaN   \n",
       "angle(Z,gravityMean)                               NaN               NaN   \n",
       "\n",
       "                                      tBodyAcc-mad()-X  tBodyAcc-mad()-Y  \\\n",
       "tBodyAcc-mean()-X                             0.010303         -0.017488   \n",
       "tBodyAcc-mean()-Y                            -0.045247         -0.047673   \n",
       "tBodyAcc-mean()-Z                            -0.022872         -0.022966   \n",
       "tBodyAcc-std()-X                              0.998662          0.916087   \n",
       "tBodyAcc-std()-Y                              0.918561          0.997510   \n",
       "...                                                ...               ...   \n",
       "angle(tBodyGyroMean,gravityMean)                   NaN               NaN   \n",
       "angle(tBodyGyroJerkMean,gravityMean)               NaN               NaN   \n",
       "angle(X,gravityMean)                               NaN               NaN   \n",
       "angle(Y,gravityMean)                               NaN               NaN   \n",
       "angle(Z,gravityMean)                               NaN               NaN   \n",
       "\n",
       "                                      tBodyAcc-mad()-Z  tBodyAcc-max()-X  ...  \\\n",
       "tBodyAcc-mean()-X                            -0.038805          0.046943  ...   \n",
       "tBodyAcc-mean()-Y                            -0.055524         -0.039445  ...   \n",
       "tBodyAcc-mean()-Z                            -0.009577         -0.040218  ...   \n",
       "tBodyAcc-std()-X                              0.856497          0.981226  ...   \n",
       "tBodyAcc-std()-Y                              0.887052          0.911137  ...   \n",
       "...                                                ...               ...  ...   \n",
       "angle(tBodyGyroMean,gravityMean)                   NaN               NaN  ...   \n",
       "angle(tBodyGyroJerkMean,gravityMean)               NaN               NaN  ...   \n",
       "angle(X,gravityMean)                               NaN               NaN  ...   \n",
       "angle(Y,gravityMean)                               NaN               NaN  ...   \n",
       "angle(Z,gravityMean)                               NaN               NaN  ...   \n",
       "\n",
       "                                      fBodyBodyGyroJerkMag-meanFreq()  \\\n",
       "tBodyAcc-mean()-X                                            0.029901   \n",
       "tBodyAcc-mean()-Y                                           -0.014402   \n",
       "tBodyAcc-mean()-Z                                           -0.015358   \n",
       "tBodyAcc-std()-X                                            -0.068807   \n",
       "tBodyAcc-std()-Y                                            -0.109941   \n",
       "...                                                               ...   \n",
       "angle(tBodyGyroMean,gravityMean)                                  NaN   \n",
       "angle(tBodyGyroJerkMean,gravityMean)                              NaN   \n",
       "angle(X,gravityMean)                                              NaN   \n",
       "angle(Y,gravityMean)                                              NaN   \n",
       "angle(Z,gravityMean)                                              NaN   \n",
       "\n",
       "                                      fBodyBodyGyroJerkMag-skewness()  \\\n",
       "tBodyAcc-mean()-X                                           -0.006179   \n",
       "tBodyAcc-mean()-Y                                           -0.000649   \n",
       "tBodyAcc-mean()-Z                                            0.023050   \n",
       "tBodyAcc-std()-X                                             0.165552   \n",
       "tBodyAcc-std()-Y                                             0.220279   \n",
       "...                                                               ...   \n",
       "angle(tBodyGyroMean,gravityMean)                                  NaN   \n",
       "angle(tBodyGyroJerkMean,gravityMean)                              NaN   \n",
       "angle(X,gravityMean)                                              NaN   \n",
       "angle(Y,gravityMean)                                              NaN   \n",
       "angle(Z,gravityMean)                                              NaN   \n",
       "\n",
       "                                      fBodyBodyGyroJerkMag-kurtosis()  \\\n",
       "tBodyAcc-mean()-X                                           -0.002255   \n",
       "tBodyAcc-mean()-Y                                           -0.002842   \n",
       "tBodyAcc-mean()-Z                                            0.023122   \n",
       "tBodyAcc-std()-X                                             0.135171   \n",
       "tBodyAcc-std()-Y                                             0.191164   \n",
       "...                                                               ...   \n",
       "angle(tBodyGyroMean,gravityMean)                                  NaN   \n",
       "angle(tBodyGyroJerkMean,gravityMean)                              NaN   \n",
       "angle(X,gravityMean)                                              NaN   \n",
       "angle(Y,gravityMean)                                              NaN   \n",
       "angle(Z,gravityMean)                                              NaN   \n",
       "\n",
       "                                      angle(tBodyAccMean,gravity)  \\\n",
       "tBodyAcc-mean()-X                                       -0.552989   \n",
       "tBodyAcc-mean()-Y                                        0.077750   \n",
       "tBodyAcc-mean()-Z                                        0.055020   \n",
       "tBodyAcc-std()-X                                        -0.034334   \n",
       "tBodyAcc-std()-Y                                        -0.020806   \n",
       "...                                                           ...   \n",
       "angle(tBodyGyroMean,gravityMean)                              NaN   \n",
       "angle(tBodyGyroJerkMean,gravityMean)                          NaN   \n",
       "angle(X,gravityMean)                                          NaN   \n",
       "angle(Y,gravityMean)                                          NaN   \n",
       "angle(Z,gravityMean)                                          NaN   \n",
       "\n",
       "                                      angle(tBodyAccJerkMean),gravityMean)  \\\n",
       "tBodyAcc-mean()-X                                                 0.015754   \n",
       "tBodyAcc-mean()-Y                                                -0.027567   \n",
       "tBodyAcc-mean()-Z                                                -0.042083   \n",
       "tBodyAcc-std()-X                                                 -0.017096   \n",
       "tBodyAcc-std()-Y                                                 -0.006605   \n",
       "...                                                                    ...   \n",
       "angle(tBodyGyroMean,gravityMean)                                       NaN   \n",
       "angle(tBodyGyroJerkMean,gravityMean)                                   NaN   \n",
       "angle(X,gravityMean)                                                   NaN   \n",
       "angle(Y,gravityMean)                                                   NaN   \n",
       "angle(Z,gravityMean)                                                   NaN   \n",
       "\n",
       "                                      angle(tBodyGyroMean,gravityMean)  \\\n",
       "tBodyAcc-mean()-X                                             0.036047   \n",
       "tBodyAcc-mean()-Y                                             0.013241   \n",
       "tBodyAcc-mean()-Z                                            -0.066233   \n",
       "tBodyAcc-std()-X                                              0.027464   \n",
       "tBodyAcc-std()-Y                                              0.001902   \n",
       "...                                                                ...   \n",
       "angle(tBodyGyroMean,gravityMean)                                   NaN   \n",
       "angle(tBodyGyroJerkMean,gravityMean)                               NaN   \n",
       "angle(X,gravityMean)                                               NaN   \n",
       "angle(Y,gravityMean)                                               NaN   \n",
       "angle(Z,gravityMean)                                               NaN   \n",
       "\n",
       "                                      angle(tBodyGyroJerkMean,gravityMean)  \\\n",
       "tBodyAcc-mean()-X                                                 0.034296   \n",
       "tBodyAcc-mean()-Y                                                 0.077627   \n",
       "tBodyAcc-mean()-Z                                                -0.030748   \n",
       "tBodyAcc-std()-X                                                 -0.027123   \n",
       "tBodyAcc-std()-Y                                                 -0.015784   \n",
       "...                                                                    ...   \n",
       "angle(tBodyGyroMean,gravityMean)                                 -0.112454   \n",
       "angle(tBodyGyroJerkMean,gravityMean)                                   NaN   \n",
       "angle(X,gravityMean)                                                   NaN   \n",
       "angle(Y,gravityMean)                                                   NaN   \n",
       "angle(Z,gravityMean)                                                   NaN   \n",
       "\n",
       "                                      angle(X,gravityMean)  \\\n",
       "tBodyAcc-mean()-X                                -0.041021   \n",
       "tBodyAcc-mean()-Y                                -0.007513   \n",
       "tBodyAcc-mean()-Z                                 0.003215   \n",
       "tBodyAcc-std()-X                                 -0.374104   \n",
       "tBodyAcc-std()-Y                                 -0.381391   \n",
       "...                                                    ...   \n",
       "angle(tBodyGyroMean,gravityMean)                 -0.007095   \n",
       "angle(tBodyGyroJerkMean,gravityMean)              0.024822   \n",
       "angle(X,gravityMean)                                   NaN   \n",
       "angle(Y,gravityMean)                                   NaN   \n",
       "angle(Z,gravityMean)                                   NaN   \n",
       "\n",
       "                                      angle(Y,gravityMean)  \\\n",
       "tBodyAcc-mean()-X                                 0.034053   \n",
       "tBodyAcc-mean()-Y                                -0.005616   \n",
       "tBodyAcc-mean()-Z                                -0.012986   \n",
       "tBodyAcc-std()-X                                  0.449425   \n",
       "tBodyAcc-std()-Y                                  0.506106   \n",
       "...                                                    ...   \n",
       "angle(tBodyGyroMean,gravityMean)                 -0.006444   \n",
       "angle(tBodyGyroJerkMean,gravityMean)             -0.004582   \n",
       "angle(X,gravityMean)                             -0.748249   \n",
       "angle(Y,gravityMean)                                   NaN   \n",
       "angle(Z,gravityMean)                                   NaN   \n",
       "\n",
       "                                      angle(Z,gravityMean)  \n",
       "tBodyAcc-mean()-X                                 0.030656  \n",
       "tBodyAcc-mean()-Y                                -0.016233  \n",
       "tBodyAcc-mean()-Z                                -0.028406  \n",
       "tBodyAcc-std()-X                                  0.393063  \n",
       "tBodyAcc-std()-Y                                  0.425511  \n",
       "...                                                    ...  \n",
       "angle(tBodyGyroMean,gravityMean)                 -0.015380  \n",
       "angle(tBodyGyroJerkMean,gravityMean)             -0.012549  \n",
       "angle(X,gravityMean)                             -0.635231  \n",
       "angle(Y,gravityMean)                              0.545614  \n",
       "angle(Z,gravityMean)                                   NaN  \n",
       "\n",
       "[561 rows x 561 columns]"
      ]
     },
     "execution_count": 39,
     "metadata": {},
     "output_type": "execute_result"
    }
   ],
   "source": [
    "corr_values"
   ]
  },
  {
   "cell_type": "code",
   "execution_count": 40,
   "metadata": {},
   "outputs": [],
   "source": [
    "# Stack the data & convert to dataframe\n",
    "corr_values = (corr_values \n",
    "              .stack()\n",
    "              .to_frame()\n",
    "              .reset_index()\n",
    "               .rename(columns = {'level_0':'feature1',\n",
    "                                 'level_1':'feature2',\n",
    "                                 0:'correlation'})\n",
    "              )"
   ]
  },
  {
   "cell_type": "code",
   "execution_count": 41,
   "metadata": {},
   "outputs": [
    {
     "data": {
      "text/html": [
       "<div>\n",
       "<style scoped>\n",
       "    .dataframe tbody tr th:only-of-type {\n",
       "        vertical-align: middle;\n",
       "    }\n",
       "\n",
       "    .dataframe tbody tr th {\n",
       "        vertical-align: top;\n",
       "    }\n",
       "\n",
       "    .dataframe thead th {\n",
       "        text-align: right;\n",
       "    }\n",
       "</style>\n",
       "<table border=\"1\" class=\"dataframe\">\n",
       "  <thead>\n",
       "    <tr style=\"text-align: right;\">\n",
       "      <th></th>\n",
       "      <th>feature1</th>\n",
       "      <th>feature2</th>\n",
       "      <th>correlation</th>\n",
       "    </tr>\n",
       "  </thead>\n",
       "  <tbody>\n",
       "    <tr>\n",
       "      <th>0</th>\n",
       "      <td>tBodyAcc-mean()-X</td>\n",
       "      <td>tBodyAcc-mean()-Y</td>\n",
       "      <td>0.128037</td>\n",
       "    </tr>\n",
       "    <tr>\n",
       "      <th>1</th>\n",
       "      <td>tBodyAcc-mean()-X</td>\n",
       "      <td>tBodyAcc-mean()-Z</td>\n",
       "      <td>-0.230302</td>\n",
       "    </tr>\n",
       "    <tr>\n",
       "      <th>2</th>\n",
       "      <td>tBodyAcc-mean()-X</td>\n",
       "      <td>tBodyAcc-std()-X</td>\n",
       "      <td>0.004590</td>\n",
       "    </tr>\n",
       "    <tr>\n",
       "      <th>3</th>\n",
       "      <td>tBodyAcc-mean()-X</td>\n",
       "      <td>tBodyAcc-std()-Y</td>\n",
       "      <td>-0.016785</td>\n",
       "    </tr>\n",
       "    <tr>\n",
       "      <th>4</th>\n",
       "      <td>tBodyAcc-mean()-X</td>\n",
       "      <td>tBodyAcc-std()-Z</td>\n",
       "      <td>-0.036071</td>\n",
       "    </tr>\n",
       "    <tr>\n",
       "      <th>...</th>\n",
       "      <td>...</td>\n",
       "      <td>...</td>\n",
       "      <td>...</td>\n",
       "    </tr>\n",
       "    <tr>\n",
       "      <th>157075</th>\n",
       "      <td>angle(tBodyGyroJerkMean,gravityMean)</td>\n",
       "      <td>angle(Y,gravityMean)</td>\n",
       "      <td>-0.004582</td>\n",
       "    </tr>\n",
       "    <tr>\n",
       "      <th>157076</th>\n",
       "      <td>angle(tBodyGyroJerkMean,gravityMean)</td>\n",
       "      <td>angle(Z,gravityMean)</td>\n",
       "      <td>-0.012549</td>\n",
       "    </tr>\n",
       "    <tr>\n",
       "      <th>157077</th>\n",
       "      <td>angle(X,gravityMean)</td>\n",
       "      <td>angle(Y,gravityMean)</td>\n",
       "      <td>-0.748249</td>\n",
       "    </tr>\n",
       "    <tr>\n",
       "      <th>157078</th>\n",
       "      <td>angle(X,gravityMean)</td>\n",
       "      <td>angle(Z,gravityMean)</td>\n",
       "      <td>-0.635231</td>\n",
       "    </tr>\n",
       "    <tr>\n",
       "      <th>157079</th>\n",
       "      <td>angle(Y,gravityMean)</td>\n",
       "      <td>angle(Z,gravityMean)</td>\n",
       "      <td>0.545614</td>\n",
       "    </tr>\n",
       "  </tbody>\n",
       "</table>\n",
       "<p>157080 rows × 3 columns</p>\n",
       "</div>"
      ],
      "text/plain": [
       "                                    feature1              feature2  \\\n",
       "0                          tBodyAcc-mean()-X     tBodyAcc-mean()-Y   \n",
       "1                          tBodyAcc-mean()-X     tBodyAcc-mean()-Z   \n",
       "2                          tBodyAcc-mean()-X      tBodyAcc-std()-X   \n",
       "3                          tBodyAcc-mean()-X      tBodyAcc-std()-Y   \n",
       "4                          tBodyAcc-mean()-X      tBodyAcc-std()-Z   \n",
       "...                                      ...                   ...   \n",
       "157075  angle(tBodyGyroJerkMean,gravityMean)  angle(Y,gravityMean)   \n",
       "157076  angle(tBodyGyroJerkMean,gravityMean)  angle(Z,gravityMean)   \n",
       "157077                  angle(X,gravityMean)  angle(Y,gravityMean)   \n",
       "157078                  angle(X,gravityMean)  angle(Z,gravityMean)   \n",
       "157079                  angle(Y,gravityMean)  angle(Z,gravityMean)   \n",
       "\n",
       "        correlation  \n",
       "0          0.128037  \n",
       "1         -0.230302  \n",
       "2          0.004590  \n",
       "3         -0.016785  \n",
       "4         -0.036071  \n",
       "...             ...  \n",
       "157075    -0.004582  \n",
       "157076    -0.012549  \n",
       "157077    -0.748249  \n",
       "157078    -0.635231  \n",
       "157079     0.545614  \n",
       "\n",
       "[157080 rows x 3 columns]"
      ]
     },
     "execution_count": 41,
     "metadata": {},
     "output_type": "execute_result"
    }
   ],
   "source": [
    "corr_values"
   ]
  },
  {
   "cell_type": "code",
   "execution_count": 42,
   "metadata": {},
   "outputs": [],
   "source": [
    "corr_values['abs_correlation'] = corr_values.correlation.abs()"
   ]
  },
  {
   "cell_type": "code",
   "execution_count": 43,
   "metadata": {},
   "outputs": [
    {
     "data": {
      "text/html": [
       "<div>\n",
       "<style scoped>\n",
       "    .dataframe tbody tr th:only-of-type {\n",
       "        vertical-align: middle;\n",
       "    }\n",
       "\n",
       "    .dataframe tbody tr th {\n",
       "        vertical-align: top;\n",
       "    }\n",
       "\n",
       "    .dataframe thead th {\n",
       "        text-align: right;\n",
       "    }\n",
       "</style>\n",
       "<table border=\"1\" class=\"dataframe\">\n",
       "  <thead>\n",
       "    <tr style=\"text-align: right;\">\n",
       "      <th></th>\n",
       "      <th>feature1</th>\n",
       "      <th>feature2</th>\n",
       "      <th>correlation</th>\n",
       "      <th>abs_correlation</th>\n",
       "    </tr>\n",
       "  </thead>\n",
       "  <tbody>\n",
       "    <tr>\n",
       "      <th>0</th>\n",
       "      <td>tBodyAcc-mean()-X</td>\n",
       "      <td>tBodyAcc-mean()-Y</td>\n",
       "      <td>0.128037</td>\n",
       "      <td>0.128037</td>\n",
       "    </tr>\n",
       "    <tr>\n",
       "      <th>1</th>\n",
       "      <td>tBodyAcc-mean()-X</td>\n",
       "      <td>tBodyAcc-mean()-Z</td>\n",
       "      <td>-0.230302</td>\n",
       "      <td>0.230302</td>\n",
       "    </tr>\n",
       "    <tr>\n",
       "      <th>2</th>\n",
       "      <td>tBodyAcc-mean()-X</td>\n",
       "      <td>tBodyAcc-std()-X</td>\n",
       "      <td>0.004590</td>\n",
       "      <td>0.004590</td>\n",
       "    </tr>\n",
       "    <tr>\n",
       "      <th>3</th>\n",
       "      <td>tBodyAcc-mean()-X</td>\n",
       "      <td>tBodyAcc-std()-Y</td>\n",
       "      <td>-0.016785</td>\n",
       "      <td>0.016785</td>\n",
       "    </tr>\n",
       "    <tr>\n",
       "      <th>4</th>\n",
       "      <td>tBodyAcc-mean()-X</td>\n",
       "      <td>tBodyAcc-std()-Z</td>\n",
       "      <td>-0.036071</td>\n",
       "      <td>0.036071</td>\n",
       "    </tr>\n",
       "    <tr>\n",
       "      <th>...</th>\n",
       "      <td>...</td>\n",
       "      <td>...</td>\n",
       "      <td>...</td>\n",
       "      <td>...</td>\n",
       "    </tr>\n",
       "    <tr>\n",
       "      <th>157075</th>\n",
       "      <td>angle(tBodyGyroJerkMean,gravityMean)</td>\n",
       "      <td>angle(Y,gravityMean)</td>\n",
       "      <td>-0.004582</td>\n",
       "      <td>0.004582</td>\n",
       "    </tr>\n",
       "    <tr>\n",
       "      <th>157076</th>\n",
       "      <td>angle(tBodyGyroJerkMean,gravityMean)</td>\n",
       "      <td>angle(Z,gravityMean)</td>\n",
       "      <td>-0.012549</td>\n",
       "      <td>0.012549</td>\n",
       "    </tr>\n",
       "    <tr>\n",
       "      <th>157077</th>\n",
       "      <td>angle(X,gravityMean)</td>\n",
       "      <td>angle(Y,gravityMean)</td>\n",
       "      <td>-0.748249</td>\n",
       "      <td>0.748249</td>\n",
       "    </tr>\n",
       "    <tr>\n",
       "      <th>157078</th>\n",
       "      <td>angle(X,gravityMean)</td>\n",
       "      <td>angle(Z,gravityMean)</td>\n",
       "      <td>-0.635231</td>\n",
       "      <td>0.635231</td>\n",
       "    </tr>\n",
       "    <tr>\n",
       "      <th>157079</th>\n",
       "      <td>angle(Y,gravityMean)</td>\n",
       "      <td>angle(Z,gravityMean)</td>\n",
       "      <td>0.545614</td>\n",
       "      <td>0.545614</td>\n",
       "    </tr>\n",
       "  </tbody>\n",
       "</table>\n",
       "<p>157080 rows × 4 columns</p>\n",
       "</div>"
      ],
      "text/plain": [
       "                                    feature1              feature2  \\\n",
       "0                          tBodyAcc-mean()-X     tBodyAcc-mean()-Y   \n",
       "1                          tBodyAcc-mean()-X     tBodyAcc-mean()-Z   \n",
       "2                          tBodyAcc-mean()-X      tBodyAcc-std()-X   \n",
       "3                          tBodyAcc-mean()-X      tBodyAcc-std()-Y   \n",
       "4                          tBodyAcc-mean()-X      tBodyAcc-std()-Z   \n",
       "...                                      ...                   ...   \n",
       "157075  angle(tBodyGyroJerkMean,gravityMean)  angle(Y,gravityMean)   \n",
       "157076  angle(tBodyGyroJerkMean,gravityMean)  angle(Z,gravityMean)   \n",
       "157077                  angle(X,gravityMean)  angle(Y,gravityMean)   \n",
       "157078                  angle(X,gravityMean)  angle(Z,gravityMean)   \n",
       "157079                  angle(Y,gravityMean)  angle(Z,gravityMean)   \n",
       "\n",
       "        correlation  abs_correlation  \n",
       "0          0.128037         0.128037  \n",
       "1         -0.230302         0.230302  \n",
       "2          0.004590         0.004590  \n",
       "3         -0.016785         0.016785  \n",
       "4         -0.036071         0.036071  \n",
       "...             ...              ...  \n",
       "157075    -0.004582         0.004582  \n",
       "157076    -0.012549         0.012549  \n",
       "157077    -0.748249         0.748249  \n",
       "157078    -0.635231         0.635231  \n",
       "157079     0.545614         0.545614  \n",
       "\n",
       "[157080 rows x 4 columns]"
      ]
     },
     "execution_count": 43,
     "metadata": {},
     "output_type": "execute_result"
    }
   ],
   "source": [
    "corr_values"
   ]
  },
  {
   "cell_type": "code",
   "execution_count": 47,
   "metadata": {},
   "outputs": [
    {
     "data": {
      "text/plain": [
       "[Text(0.5, 0, 'Absolut Correlation'), Text(0, 0.5, 'Frequency')]"
      ]
     },
     "execution_count": 47,
     "metadata": {},
     "output_type": "execute_result"
    },
    {
     "data": {
      "image/png": "[encoded data removed]",
      "text/plain": [
       "<Figure size 864x576 with 1 Axes>"
      ]
     },
     "metadata": {},
     "output_type": "display_data"
    }
   ],
   "source": [
    "sns.set_context('talk')\n",
    "sns.set_style('white')\n",
    "\n",
    "ax = corr_values.abs_correlation.hist(bins = 50, figsize = (12,8))\n",
    "ax.set(xlabel = 'Absolut Correlation', ylabel = 'Frequency')"
   ]
  },
  {
   "cell_type": "code",
   "execution_count": 48,
   "metadata": {},
   "outputs": [
    {
     "data": {
      "text/html": [
       "<div>\n",
       "<style scoped>\n",
       "    .dataframe tbody tr th:only-of-type {\n",
       "        vertical-align: middle;\n",
       "    }\n",
       "\n",
       "    .dataframe tbody tr th {\n",
       "        vertical-align: top;\n",
       "    }\n",
       "\n",
       "    .dataframe thead th {\n",
       "        text-align: right;\n",
       "    }\n",
       "</style>\n",
       "<table border=\"1\" class=\"dataframe\">\n",
       "  <thead>\n",
       "    <tr style=\"text-align: right;\">\n",
       "      <th></th>\n",
       "      <th>feature1</th>\n",
       "      <th>feature2</th>\n",
       "      <th>correlation</th>\n",
       "      <th>abs_correlation</th>\n",
       "    </tr>\n",
       "  </thead>\n",
       "  <tbody>\n",
       "    <tr>\n",
       "      <th>156894</th>\n",
       "      <td>fBodyBodyGyroJerkMag-mean()</td>\n",
       "      <td>fBodyBodyGyroJerkMag-sma()</td>\n",
       "      <td>1.000000</td>\n",
       "      <td>1.000000</td>\n",
       "    </tr>\n",
       "    <tr>\n",
       "      <th>93902</th>\n",
       "      <td>tBodyAccMag-sma()</td>\n",
       "      <td>tGravityAccMag-sma()</td>\n",
       "      <td>1.000000</td>\n",
       "      <td>1.000000</td>\n",
       "    </tr>\n",
       "    <tr>\n",
       "      <th>101139</th>\n",
       "      <td>tBodyAccJerkMag-mean()</td>\n",
       "      <td>tBodyAccJerkMag-sma()</td>\n",
       "      <td>1.000000</td>\n",
       "      <td>1.000000</td>\n",
       "    </tr>\n",
       "    <tr>\n",
       "      <th>96706</th>\n",
       "      <td>tGravityAccMag-mean()</td>\n",
       "      <td>tGravityAccMag-sma()</td>\n",
       "      <td>1.000000</td>\n",
       "      <td>1.000000</td>\n",
       "    </tr>\n",
       "    <tr>\n",
       "      <th>94257</th>\n",
       "      <td>tBodyAccMag-energy()</td>\n",
       "      <td>tGravityAccMag-energy()</td>\n",
       "      <td>1.000000</td>\n",
       "      <td>1.000000</td>\n",
       "    </tr>\n",
       "    <tr>\n",
       "      <th>...</th>\n",
       "      <td>...</td>\n",
       "      <td>...</td>\n",
       "      <td>...</td>\n",
       "      <td>...</td>\n",
       "    </tr>\n",
       "    <tr>\n",
       "      <th>22657</th>\n",
       "      <td>tGravityAcc-mean()-Y</td>\n",
       "      <td>angle(Y,gravityMean)</td>\n",
       "      <td>-0.993425</td>\n",
       "      <td>0.993425</td>\n",
       "    </tr>\n",
       "    <tr>\n",
       "      <th>39225</th>\n",
       "      <td>tGravityAcc-arCoeff()-Z,3</td>\n",
       "      <td>tGravityAcc-arCoeff()-Z,4</td>\n",
       "      <td>-0.994267</td>\n",
       "      <td>0.994267</td>\n",
       "    </tr>\n",
       "    <tr>\n",
       "      <th>38739</th>\n",
       "      <td>tGravityAcc-arCoeff()-Z,2</td>\n",
       "      <td>tGravityAcc-arCoeff()-Z,3</td>\n",
       "      <td>-0.994628</td>\n",
       "      <td>0.994628</td>\n",
       "    </tr>\n",
       "    <tr>\n",
       "      <th>23176</th>\n",
       "      <td>tGravityAcc-mean()-Z</td>\n",
       "      <td>angle(Z,gravityMean)</td>\n",
       "      <td>-0.994764</td>\n",
       "      <td>0.994764</td>\n",
       "    </tr>\n",
       "    <tr>\n",
       "      <th>38252</th>\n",
       "      <td>tGravityAcc-arCoeff()-Z,1</td>\n",
       "      <td>tGravityAcc-arCoeff()-Z,2</td>\n",
       "      <td>-0.995195</td>\n",
       "      <td>0.995195</td>\n",
       "    </tr>\n",
       "  </tbody>\n",
       "</table>\n",
       "<p>22815 rows × 4 columns</p>\n",
       "</div>"
      ],
      "text/plain": [
       "                           feature1                    feature2  correlation  \\\n",
       "156894  fBodyBodyGyroJerkMag-mean()  fBodyBodyGyroJerkMag-sma()     1.000000   \n",
       "93902             tBodyAccMag-sma()        tGravityAccMag-sma()     1.000000   \n",
       "101139       tBodyAccJerkMag-mean()       tBodyAccJerkMag-sma()     1.000000   \n",
       "96706         tGravityAccMag-mean()        tGravityAccMag-sma()     1.000000   \n",
       "94257          tBodyAccMag-energy()     tGravityAccMag-energy()     1.000000   \n",
       "...                             ...                         ...          ...   \n",
       "22657          tGravityAcc-mean()-Y        angle(Y,gravityMean)    -0.993425   \n",
       "39225     tGravityAcc-arCoeff()-Z,3   tGravityAcc-arCoeff()-Z,4    -0.994267   \n",
       "38739     tGravityAcc-arCoeff()-Z,2   tGravityAcc-arCoeff()-Z,3    -0.994628   \n",
       "23176          tGravityAcc-mean()-Z        angle(Z,gravityMean)    -0.994764   \n",
       "38252     tGravityAcc-arCoeff()-Z,1   tGravityAcc-arCoeff()-Z,2    -0.995195   \n",
       "\n",
       "        abs_correlation  \n",
       "156894         1.000000  \n",
       "93902          1.000000  \n",
       "101139         1.000000  \n",
       "96706          1.000000  \n",
       "94257          1.000000  \n",
       "...                 ...  \n",
       "22657          0.993425  \n",
       "39225          0.994267  \n",
       "38739          0.994628  \n",
       "23176          0.994764  \n",
       "38252          0.995195  \n",
       "\n",
       "[22815 rows x 4 columns]"
      ]
     },
     "execution_count": 48,
     "metadata": {},
     "output_type": "execute_result"
    }
   ],
   "source": [
    "# The most highly correlated values\n",
    "# Will give values where abs_correlation is greater than 0.8\n",
    "corr_values.sort_values('correlation', ascending=False).query('abs_correlation>0.8')"
   ]
  },
  {
   "cell_type": "code",
   "execution_count": 49,
   "metadata": {},
   "outputs": [
    {
     "data": {
      "text/plain": [
       "(157080, 4)"
      ]
     },
     "execution_count": 49,
     "metadata": {},
     "output_type": "execute_result"
    }
   ],
   "source": [
    "corr_values.shape"
   ]
  },
  {
   "cell_type": "code",
   "execution_count": 51,
   "metadata": {},
   "outputs": [],
   "source": [
    "# Splitting data into train & test set\n",
    "# We can using method for train & test split but \n",
    "# Using this we can maintain the same ratio of predictor classes\n",
    "# Regardless of methods used to split the data, compare the ratio of classes in both train & test split"
   ]
  },
  {
   "cell_type": "code",
   "execution_count": 52,
   "metadata": {},
   "outputs": [],
   "source": [
    "from sklearn.model_selection import StratifiedShuffleSplit\n",
    "\n",
    "# Get the split index\n",
    "strat_shuf_split = StratifiedShuffleSplit(n_splits = 1,\n",
    "                                         test_size = 0.3,\n",
    "                                         random_state = 42)\n"
   ]
  },
  {
   "cell_type": "code",
   "execution_count": 53,
   "metadata": {},
   "outputs": [
    {
     "data": {
      "text/plain": [
       "StratifiedShuffleSplit(n_splits=1, random_state=42, test_size=0.3,\n",
       "            train_size=None)"
      ]
     },
     "execution_count": 53,
     "metadata": {},
     "output_type": "execute_result"
    }
   ],
   "source": [
    "strat_shuf_split"
   ]
  },
  {
   "cell_type": "code",
   "execution_count": 54,
   "metadata": {},
   "outputs": [],
   "source": [
    "train_idx, test_idx = next(strat_shuf_split.split(data[feature_cols], data.Activity))"
   ]
  },
  {
   "cell_type": "code",
   "execution_count": 55,
   "metadata": {},
   "outputs": [
    {
     "data": {
      "text/plain": [
       "array([1575, 1707, 6425, ..., 3037, 3002,  996], dtype=int64)"
      ]
     },
     "execution_count": 55,
     "metadata": {},
     "output_type": "execute_result"
    }
   ],
   "source": [
    "train_idx"
   ]
  },
  {
   "cell_type": "code",
   "execution_count": 56,
   "metadata": {},
   "outputs": [
    {
     "data": {
      "text/plain": [
       "array([7743,  969, 3175, ..., 8914, 8756, 1470], dtype=int64)"
      ]
     },
     "execution_count": 56,
     "metadata": {},
     "output_type": "execute_result"
    }
   ],
   "source": [
    "test_idx"
   ]
  },
  {
   "cell_type": "code",
   "execution_count": 57,
   "metadata": {},
   "outputs": [],
   "source": [
    "X_train = data.loc[train_idx, feature_cols]\n",
    "y_train = data.loc[train_idx, 'Activity']\n",
    "X_test = data.loc[test_idx, feature_cols]\n",
    "y_test = data.loc[test_idx, 'Activity']"
   ]
  },
  {
   "cell_type": "code",
   "execution_count": 62,
   "metadata": {},
   "outputs": [
    {
     "data": {
      "text/plain": [
       "0    0.188792\n",
       "2    0.185046\n",
       "1    0.172562\n",
       "3    0.167152\n",
       "5    0.149951\n",
       "4    0.136496\n",
       "Name: Activity, dtype: float64"
      ]
     },
     "execution_count": 62,
     "metadata": {},
     "output_type": "execute_result"
    }
   ],
   "source": [
    "y_train.value_counts(normalize=True)"
   ]
  },
  {
   "cell_type": "code",
   "execution_count": 64,
   "metadata": {},
   "outputs": [
    {
     "data": {
      "text/plain": [
       "0    0.188673\n",
       "2    0.185113\n",
       "1    0.172492\n",
       "3    0.167314\n",
       "5    0.149838\n",
       "4    0.136570\n",
       "Name: Activity, dtype: float64"
      ]
     },
     "execution_count": 64,
     "metadata": {},
     "output_type": "execute_result"
    }
   ],
   "source": [
    "y_test.value_counts(normalize = True)"
   ]
  },
  {
   "cell_type": "code",
   "execution_count": 68,
   "metadata": {},
   "outputs": [],
   "source": [
    "from sklearn.linear_model import LogisticRegression\n",
    "\n",
    "# Standard Logistic Regression\n",
    "# No Hyper Parameters\n",
    "# No Regularization\n",
    "# For multiclass we use liblinear that is one against the rest class (one vs the rest)\n",
    "# that is certain class vs the rest\n",
    "# We will do this 6 times for 6 different classes\n",
    "lr = LogisticRegression(solver='liblinear').fit(X_train, y_train)"
   ]
  },
  {
   "cell_type": "code",
   "execution_count": 66,
   "metadata": {},
   "outputs": [],
   "source": [
    "from sklearn.linear_model import LogisticRegressionCV\n",
    "\n",
    "# L1 Regularised Logistic Regression\n",
    "lr_l1 = LogisticRegressionCV(Cs = 10, cv = 4, penalty='l1', solver='liblinear' ).fit(X_train, y_train)\n"
   ]
  },
  {
   "cell_type": "code",
   "execution_count": 69,
   "metadata": {},
   "outputs": [],
   "source": [
    "from sklearn.linear_model import LogisticRegressionCV\n",
    "\n",
    "# L2 Regularised Logistic Regression\n",
    "lr_l2 = LogisticRegressionCV(Cs = 10, cv = 4, penalty='l2', solver='liblinear' ).fit(X_train, y_train)\n"
   ]
  },
  {
   "cell_type": "code",
   "execution_count": 70,
   "metadata": {},
   "outputs": [],
   "source": [
    "# Compare the magnitudes of the coefficients for each of the models \n",
    "# if one-vs-rest fitting was used, each set of coefficients can be plotted seprately"
   ]
  },
  {
   "cell_type": "code",
   "execution_count": 107,
   "metadata": {},
   "outputs": [
    {
     "data": {
      "text/html": [
       "<div>\n",
       "<style scoped>\n",
       "    .dataframe tbody tr th:only-of-type {\n",
       "        vertical-align: middle;\n",
       "    }\n",
       "\n",
       "    .dataframe tbody tr th {\n",
       "        vertical-align: top;\n",
       "    }\n",
       "\n",
       "    .dataframe thead tr th {\n",
       "        text-align: left;\n",
       "    }\n",
       "</style>\n",
       "<table border=\"1\" class=\"dataframe\">\n",
       "  <thead>\n",
       "    <tr>\n",
       "      <th></th>\n",
       "      <th colspan=\"6\" halign=\"left\">lr</th>\n",
       "      <th colspan=\"6\" halign=\"left\">lr_l1</th>\n",
       "      <th colspan=\"6\" halign=\"left\">lr_l2</th>\n",
       "    </tr>\n",
       "    <tr>\n",
       "      <th></th>\n",
       "      <th>0</th>\n",
       "      <th>1</th>\n",
       "      <th>2</th>\n",
       "      <th>3</th>\n",
       "      <th>4</th>\n",
       "      <th>5</th>\n",
       "      <th>0</th>\n",
       "      <th>1</th>\n",
       "      <th>2</th>\n",
       "      <th>3</th>\n",
       "      <th>4</th>\n",
       "      <th>5</th>\n",
       "      <th>0</th>\n",
       "      <th>1</th>\n",
       "      <th>2</th>\n",
       "      <th>3</th>\n",
       "      <th>4</th>\n",
       "      <th>5</th>\n",
       "    </tr>\n",
       "  </thead>\n",
       "  <tbody>\n",
       "    <tr>\n",
       "      <th>86</th>\n",
       "      <td>-0.067421</td>\n",
       "      <td>-0.321993</td>\n",
       "      <td>-0.333856</td>\n",
       "      <td>0.055854</td>\n",
       "      <td>-0.141596</td>\n",
       "      <td>0.115792</td>\n",
       "      <td>0.000000</td>\n",
       "      <td>0.000000</td>\n",
       "      <td>0.000000</td>\n",
       "      <td>0.000000</td>\n",
       "      <td>0.000000</td>\n",
       "      <td>0.235867</td>\n",
       "      <td>-0.114100</td>\n",
       "      <td>-1.123427</td>\n",
       "      <td>-0.430046</td>\n",
       "      <td>-0.027770</td>\n",
       "      <td>-0.367056</td>\n",
       "      <td>0.662760</td>\n",
       "    </tr>\n",
       "    <tr>\n",
       "      <th>277</th>\n",
       "      <td>0.086075</td>\n",
       "      <td>-0.250780</td>\n",
       "      <td>0.147541</td>\n",
       "      <td>0.204377</td>\n",
       "      <td>-0.259073</td>\n",
       "      <td>0.084205</td>\n",
       "      <td>0.000000</td>\n",
       "      <td>0.000000</td>\n",
       "      <td>0.000000</td>\n",
       "      <td>0.000000</td>\n",
       "      <td>-0.648155</td>\n",
       "      <td>0.252415</td>\n",
       "      <td>0.152546</td>\n",
       "      <td>0.540418</td>\n",
       "      <td>0.189940</td>\n",
       "      <td>0.477189</td>\n",
       "      <td>-0.548123</td>\n",
       "      <td>0.268521</td>\n",
       "    </tr>\n",
       "    <tr>\n",
       "      <th>378</th>\n",
       "      <td>-0.077083</td>\n",
       "      <td>-0.157725</td>\n",
       "      <td>0.478697</td>\n",
       "      <td>0.676634</td>\n",
       "      <td>-0.087373</td>\n",
       "      <td>-0.029797</td>\n",
       "      <td>-0.046262</td>\n",
       "      <td>0.000000</td>\n",
       "      <td>0.532392</td>\n",
       "      <td>0.871849</td>\n",
       "      <td>0.000000</td>\n",
       "      <td>0.074089</td>\n",
       "      <td>-0.201868</td>\n",
       "      <td>-2.441419</td>\n",
       "      <td>0.937631</td>\n",
       "      <td>1.385272</td>\n",
       "      <td>-0.008617</td>\n",
       "      <td>0.283636</td>\n",
       "    </tr>\n",
       "    <tr>\n",
       "      <th>143</th>\n",
       "      <td>-0.201758</td>\n",
       "      <td>-0.080515</td>\n",
       "      <td>0.147956</td>\n",
       "      <td>-0.714691</td>\n",
       "      <td>0.981977</td>\n",
       "      <td>0.196261</td>\n",
       "      <td>0.000000</td>\n",
       "      <td>-0.711954</td>\n",
       "      <td>0.114831</td>\n",
       "      <td>-0.671728</td>\n",
       "      <td>3.763486</td>\n",
       "      <td>-0.241657</td>\n",
       "      <td>-0.393549</td>\n",
       "      <td>-0.847418</td>\n",
       "      <td>0.224306</td>\n",
       "      <td>-1.913876</td>\n",
       "      <td>2.007572</td>\n",
       "      <td>-0.111681</td>\n",
       "    </tr>\n",
       "    <tr>\n",
       "      <th>387</th>\n",
       "      <td>-0.003746</td>\n",
       "      <td>0.209669</td>\n",
       "      <td>0.250573</td>\n",
       "      <td>0.127880</td>\n",
       "      <td>0.325617</td>\n",
       "      <td>0.099537</td>\n",
       "      <td>-0.003507</td>\n",
       "      <td>0.094277</td>\n",
       "      <td>0.172303</td>\n",
       "      <td>0.000000</td>\n",
       "      <td>0.124200</td>\n",
       "      <td>0.110511</td>\n",
       "      <td>-0.027258</td>\n",
       "      <td>0.502489</td>\n",
       "      <td>0.354069</td>\n",
       "      <td>0.307549</td>\n",
       "      <td>0.514447</td>\n",
       "      <td>0.611881</td>\n",
       "    </tr>\n",
       "    <tr>\n",
       "      <th>144</th>\n",
       "      <td>0.048247</td>\n",
       "      <td>0.192624</td>\n",
       "      <td>-0.252875</td>\n",
       "      <td>0.330677</td>\n",
       "      <td>0.033203</td>\n",
       "      <td>0.151371</td>\n",
       "      <td>0.000000</td>\n",
       "      <td>0.000000</td>\n",
       "      <td>0.030518</td>\n",
       "      <td>0.000000</td>\n",
       "      <td>0.000000</td>\n",
       "      <td>0.043572</td>\n",
       "      <td>0.130266</td>\n",
       "      <td>0.263246</td>\n",
       "      <td>-0.155427</td>\n",
       "      <td>0.476883</td>\n",
       "      <td>0.302570</td>\n",
       "      <td>0.619495</td>\n",
       "    </tr>\n",
       "    <tr>\n",
       "      <th>228</th>\n",
       "      <td>-0.053523</td>\n",
       "      <td>-0.105324</td>\n",
       "      <td>-0.297023</td>\n",
       "      <td>0.305931</td>\n",
       "      <td>0.320824</td>\n",
       "      <td>-0.659763</td>\n",
       "      <td>0.000000</td>\n",
       "      <td>0.000000</td>\n",
       "      <td>0.000000</td>\n",
       "      <td>0.000000</td>\n",
       "      <td>0.246430</td>\n",
       "      <td>-1.532916</td>\n",
       "      <td>-0.093216</td>\n",
       "      <td>-0.232924</td>\n",
       "      <td>-0.444360</td>\n",
       "      <td>0.943191</td>\n",
       "      <td>0.604819</td>\n",
       "      <td>-2.070956</td>\n",
       "    </tr>\n",
       "    <tr>\n",
       "      <th>91</th>\n",
       "      <td>-0.016685</td>\n",
       "      <td>0.178146</td>\n",
       "      <td>-0.020750</td>\n",
       "      <td>-0.196773</td>\n",
       "      <td>0.898128</td>\n",
       "      <td>-0.395121</td>\n",
       "      <td>0.000000</td>\n",
       "      <td>0.000000</td>\n",
       "      <td>0.000000</td>\n",
       "      <td>0.000000</td>\n",
       "      <td>1.287028</td>\n",
       "      <td>-0.519201</td>\n",
       "      <td>-0.037154</td>\n",
       "      <td>1.092019</td>\n",
       "      <td>-0.107200</td>\n",
       "      <td>-0.660364</td>\n",
       "      <td>1.808322</td>\n",
       "      <td>-1.132714</td>\n",
       "    </tr>\n",
       "    <tr>\n",
       "      <th>380</th>\n",
       "      <td>0.010256</td>\n",
       "      <td>-0.373729</td>\n",
       "      <td>0.431299</td>\n",
       "      <td>0.555281</td>\n",
       "      <td>-0.186071</td>\n",
       "      <td>-0.133478</td>\n",
       "      <td>-0.162606</td>\n",
       "      <td>-0.613110</td>\n",
       "      <td>0.918628</td>\n",
       "      <td>0.313878</td>\n",
       "      <td>0.000000</td>\n",
       "      <td>-0.109614</td>\n",
       "      <td>0.019675</td>\n",
       "      <td>-3.314411</td>\n",
       "      <td>0.871269</td>\n",
       "      <td>1.278530</td>\n",
       "      <td>-0.272104</td>\n",
       "      <td>-0.913947</td>\n",
       "    </tr>\n",
       "    <tr>\n",
       "      <th>293</th>\n",
       "      <td>0.168310</td>\n",
       "      <td>-0.119691</td>\n",
       "      <td>-0.097917</td>\n",
       "      <td>-0.204395</td>\n",
       "      <td>-0.708327</td>\n",
       "      <td>-0.555319</td>\n",
       "      <td>0.000000</td>\n",
       "      <td>0.000000</td>\n",
       "      <td>0.000000</td>\n",
       "      <td>0.000000</td>\n",
       "      <td>-1.899976</td>\n",
       "      <td>-1.980780</td>\n",
       "      <td>0.397506</td>\n",
       "      <td>-0.442555</td>\n",
       "      <td>-0.182373</td>\n",
       "      <td>-0.897170</td>\n",
       "      <td>-1.495800</td>\n",
       "      <td>-2.408237</td>\n",
       "    </tr>\n",
       "  </tbody>\n",
       "</table>\n",
       "</div>"
      ],
      "text/plain": [
       "           lr                                                       lr_l1  \\\n",
       "            0         1         2         3         4         5         0   \n",
       "86  -0.067421 -0.321993 -0.333856  0.055854 -0.141596  0.115792  0.000000   \n",
       "277  0.086075 -0.250780  0.147541  0.204377 -0.259073  0.084205  0.000000   \n",
       "378 -0.077083 -0.157725  0.478697  0.676634 -0.087373 -0.029797 -0.046262   \n",
       "143 -0.201758 -0.080515  0.147956 -0.714691  0.981977  0.196261  0.000000   \n",
       "387 -0.003746  0.209669  0.250573  0.127880  0.325617  0.099537 -0.003507   \n",
       "144  0.048247  0.192624 -0.252875  0.330677  0.033203  0.151371  0.000000   \n",
       "228 -0.053523 -0.105324 -0.297023  0.305931  0.320824 -0.659763  0.000000   \n",
       "91  -0.016685  0.178146 -0.020750 -0.196773  0.898128 -0.395121  0.000000   \n",
       "380  0.010256 -0.373729  0.431299  0.555281 -0.186071 -0.133478 -0.162606   \n",
       "293  0.168310 -0.119691 -0.097917 -0.204395 -0.708327 -0.555319  0.000000   \n",
       "\n",
       "                                                          lr_l2            \\\n",
       "            1         2         3         4         5         0         1   \n",
       "86   0.000000  0.000000  0.000000  0.000000  0.235867 -0.114100 -1.123427   \n",
       "277  0.000000  0.000000  0.000000 -0.648155  0.252415  0.152546  0.540418   \n",
       "378  0.000000  0.532392  0.871849  0.000000  0.074089 -0.201868 -2.441419   \n",
       "143 -0.711954  0.114831 -0.671728  3.763486 -0.241657 -0.393549 -0.847418   \n",
       "387  0.094277  0.172303  0.000000  0.124200  0.110511 -0.027258  0.502489   \n",
       "144  0.000000  0.030518  0.000000  0.000000  0.043572  0.130266  0.263246   \n",
       "228  0.000000  0.000000  0.000000  0.246430 -1.532916 -0.093216 -0.232924   \n",
       "91   0.000000  0.000000  0.000000  1.287028 -0.519201 -0.037154  1.092019   \n",
       "380 -0.613110  0.918628  0.313878  0.000000 -0.109614  0.019675 -3.314411   \n",
       "293  0.000000  0.000000  0.000000 -1.899976 -1.980780  0.397506 -0.442555   \n",
       "\n",
       "                                             \n",
       "            2         3         4         5  \n",
       "86  -0.430046 -0.027770 -0.367056  0.662760  \n",
       "277  0.189940  0.477189 -0.548123  0.268521  \n",
       "378  0.937631  1.385272 -0.008617  0.283636  \n",
       "143  0.224306 -1.913876  2.007572 -0.111681  \n",
       "387  0.354069  0.307549  0.514447  0.611881  \n",
       "144 -0.155427  0.476883  0.302570  0.619495  \n",
       "228 -0.444360  0.943191  0.604819 -2.070956  \n",
       "91  -0.107200 -0.660364  1.808322 -1.132714  \n",
       "380  0.871269  1.278530 -0.272104 -0.913947  \n",
       "293 -0.182373 -0.897170 -1.495800 -2.408237  "
      ]
     },
     "execution_count": 107,
     "metadata": {},
     "output_type": "execute_result"
    }
   ],
   "source": [
    "# Combining all the coefficient into dataframes\n",
    "coefficients = list()\n",
    "\n",
    "coeff_labels = ['lr','lr_l1','lr_l2']\n",
    "coeff_models = [lr, lr_l1, lr_l2]\n",
    "\n",
    "\n",
    "for lab,mod in zip(coeff_labels,coeff_models):\n",
    "    coeffs = mod.coef_\n",
    "    coeff_label = pd.MultiIndex(levels = [[lab], [0,1,2,3,4,5]],\n",
    "                               codes = [[0,0,0,0,0,0],[0,1,2,3,4,5]])\n",
    "    coefficients.append(pd.DataFrame(coeffs.T, columns = coeff_label))\n",
    "    \n",
    "coefficients = pd.concat(coefficients, axis = 1)\n",
    "\n",
    "coefficients.sample(10)"
   ]
  },
  {
   "cell_type": "code",
   "execution_count": 133,
   "metadata": {},
   "outputs": [
    {
     "data": {
      "text/plain": [
       "(561, 18)"
      ]
     },
     "execution_count": 133,
     "metadata": {},
     "output_type": "execute_result"
    }
   ],
   "source": [
    "coefficients.shape"
   ]
  },
  {
   "cell_type": "code",
   "execution_count": 73,
   "metadata": {},
   "outputs": [
    {
     "data": {
      "text/plain": [
       "[('lr', LogisticRegression(solver='liblinear')),\n",
       " ('lr_l1', LogisticRegressionCV(cv=4, penalty='l1', solver='liblinear')),\n",
       " ('lr_l2', LogisticRegressionCV(cv=4, solver='liblinear'))]"
      ]
     },
     "execution_count": 73,
     "metadata": {},
     "output_type": "execute_result"
    }
   ],
   "source": [
    "list(zip(coeff_labels,coeff_models))"
   ]
  },
  {
   "cell_type": "code",
   "execution_count": 74,
   "metadata": {},
   "outputs": [
    {
     "name": "stdout",
     "output_type": "stream",
     "text": [
      "lr\n",
      "lr_l1\n",
      "lr_l2\n"
     ]
    }
   ],
   "source": [
    "for a, b in zip(coeff_labels,coeff_models):\n",
    "    print(a)"
   ]
  },
  {
   "cell_type": "code",
   "execution_count": 77,
   "metadata": {},
   "outputs": [
    {
     "name": "stdout",
     "output_type": "stream",
     "text": [
      "[[-0.08750646  0.01449275  0.03018717 ...  1.59910474 -0.3743129\n",
      "  -0.18830925]\n",
      " [-0.44522578 -0.2010464   0.06319646 ... -2.4730943  -0.74039714\n",
      "  -0.29802244]\n",
      " [ 0.25796347  0.06089227  0.24590906 ... -0.85461227  1.77145494\n",
      "   0.41692015]\n",
      " [-0.16928427 -0.02350911  0.0223387  ... -0.31314223 -0.24290398\n",
      "   0.0650466 ]\n",
      " [ 0.76561104  0.10796676  0.05898011 ... -0.71269425 -0.27513871\n",
      "  -0.04236273]\n",
      " [-0.08008379 -0.24719315 -0.40252631 ...  0.41631129  0.876728\n",
      "   0.43881543]]\n",
      "(6, 561)\n",
      "[[ 0.          0.          0.         ...  1.1912869   0.\n",
      "   0.        ]\n",
      " [ 0.          0.          0.         ... -8.18350329  0.\n",
      "   0.        ]\n",
      " [ 0.          0.          0.         ...  0.          0.\n",
      "   0.        ]\n",
      " [ 0.          0.          0.         ...  0.          0.\n",
      "   0.        ]\n",
      " [ 4.29269192  0.          0.         ... -0.79797996  0.\n",
      "   0.        ]\n",
      " [-0.72202105 -8.19505092 -3.09759175 ...  0.44570899  3.59375054\n",
      "   3.86555826]]\n",
      "(6, 561)\n",
      "[[-0.13528255  0.02933412  0.04058132 ...  2.94902873 -0.54305837\n",
      "  -0.23075276]\n",
      " [-1.34788167 -1.13683261 -1.42138857 ... -9.61300941  2.93691284\n",
      "   0.88834986]\n",
      " [ 0.48465804  0.10680756  0.46422496 ... -0.92283484  2.21987163\n",
      "   0.56886719]\n",
      " [-0.47890391 -0.153962    0.13455737 ... -0.83255402 -0.94070991\n",
      "   0.12974854]\n",
      " [ 1.83010779  0.18641839  0.0097976  ... -1.46302159 -0.66046418\n",
      "  -0.08391171]\n",
      " [ 0.27065988 -0.88446834 -1.65202285 ...  1.5699127   3.68974784\n",
      "   1.90593176]]\n",
      "(6, 561)\n"
     ]
    }
   ],
   "source": [
    "for a, b in zip(coeff_labels,coeff_models):\n",
    "    print(b.coef_)\n",
    "    print(b.coef_.shape)"
   ]
  },
  {
   "cell_type": "code",
   "execution_count": 79,
   "metadata": {},
   "outputs": [
    {
     "data": {
      "text/plain": [
       "(6, 561)"
      ]
     },
     "execution_count": 79,
     "metadata": {},
     "output_type": "execute_result"
    }
   ],
   "source": [
    "lr.coef_.shape"
   ]
  },
  {
   "cell_type": "code",
   "execution_count": 89,
   "metadata": {},
   "outputs": [
    {
     "name": "stdout",
     "output_type": "stream",
     "text": [
      "lr\n",
      "lr_l1\n",
      "lr_l2\n"
     ]
    }
   ],
   "source": [
    "coeff_labels = ['lr','lr_l1','lr_l2']\n",
    "for lab in(coeff_labels):\n",
    "    print(lab)\n",
    "    pd.MultiIndex(levels = [[lab], [0,1,2,3,4,5]],\n",
    "                                codes = [[0,0,0,0,0,0],[0,1,2,3,4,5]])"
   ]
  },
  {
   "cell_type": "code",
   "execution_count": 100,
   "metadata": {},
   "outputs": [
    {
     "data": {
      "text/plain": [
       "[           lr                                                  \n",
       "             0         1         2         3         4         5\n",
       " 0   -0.087506 -0.445226  0.257963 -0.169284  0.765611 -0.080084\n",
       " 1    0.014493 -0.201046  0.060892 -0.023509  0.107967 -0.247193\n",
       " 2    0.030187  0.063196  0.245909  0.022339  0.058980 -0.402526\n",
       " 3    0.004590 -0.733963 -0.352732 -0.701328  0.266984  0.696120\n",
       " 4   -0.045407 -0.034154 -0.451850  0.260244 -0.516844  0.106248\n",
       " ..        ...       ...       ...       ...       ...       ...\n",
       " 556 -0.022132 -0.659468  0.550630 -0.234927  0.385178 -0.351492\n",
       " 557  0.058454 -0.246969  0.268995 -0.162010 -0.157603  0.174153\n",
       " 558  1.599105 -2.473094 -0.854612 -0.313142 -0.712694  0.416311\n",
       " 559 -0.374313 -0.740397  1.771455 -0.242904 -0.275139  0.876728\n",
       " 560 -0.188309 -0.298022  0.416920  0.065047 -0.042363  0.438815\n",
       " \n",
       " [561 rows x 6 columns],\n",
       "         lr_l1                                                  \n",
       "             0         1         2         3         4         5\n",
       " 0    0.000000  0.000000  0.000000  0.000000  4.292692 -0.722021\n",
       " 1    0.000000  0.000000  0.000000  0.000000  0.000000 -8.195051\n",
       " 2    0.000000  0.000000  0.000000  0.000000  0.000000 -3.097592\n",
       " 3    0.000000 -1.688391 -0.224748 -0.868697  0.000000  3.548663\n",
       " 4    0.000000  0.000000 -1.327491  0.000000 -1.229174  0.221037\n",
       " ..        ...       ...       ...       ...       ...       ...\n",
       " 556  0.000000 -0.765959  0.488685 -0.146789  0.550447 -0.777601\n",
       " 557  0.000000 -0.666952  0.858994 -0.074794 -0.047429  0.915214\n",
       " 558  1.191287 -8.183503  0.000000  0.000000 -0.797980  0.445709\n",
       " 559  0.000000  0.000000  0.000000  0.000000  0.000000  3.593751\n",
       " 560  0.000000  0.000000  0.000000  0.000000  0.000000  3.865558\n",
       " \n",
       " [561 rows x 6 columns],\n",
       "         lr_l2                                                  \n",
       "             0         1         2         3         4         5\n",
       " 0   -0.135283 -1.347882  0.484658 -0.478904  1.830108  0.270660\n",
       " 1    0.029334 -1.136833  0.106808 -0.153962  0.186418 -0.884468\n",
       " 2    0.040581 -1.421389  0.464225  0.134557  0.009798 -1.652023\n",
       " 3    0.019091 -2.562807 -0.435129 -1.788829  0.278696  3.195553\n",
       " 4   -0.035987  0.604907 -0.665766  0.902873 -0.974665  0.137099\n",
       " ..        ...       ...       ...       ...       ...       ...\n",
       " 556 -0.142627 -0.820564  0.584620 -0.632207  0.642775 -0.983198\n",
       " 557  0.119148 -0.677064  0.456842 -0.486390 -0.148001  0.634879\n",
       " 558  2.949029 -9.613009 -0.922835 -0.832554 -1.463022  1.569913\n",
       " 559 -0.543058  2.936913  2.219872 -0.940710 -0.660464  3.689748\n",
       " 560 -0.230753  0.888350  0.568867  0.129749 -0.083912  1.905932\n",
       " \n",
       " [561 rows x 6 columns]]"
      ]
     },
     "execution_count": 100,
     "metadata": {},
     "output_type": "execute_result"
    }
   ],
   "source": [
    "coefficients"
   ]
  },
  {
   "cell_type": "code",
   "execution_count": 105,
   "metadata": {},
   "outputs": [
    {
     "data": {
      "text/html": [
       "<div>\n",
       "<style scoped>\n",
       "    .dataframe tbody tr th:only-of-type {\n",
       "        vertical-align: middle;\n",
       "    }\n",
       "\n",
       "    .dataframe tbody tr th {\n",
       "        vertical-align: top;\n",
       "    }\n",
       "\n",
       "    .dataframe thead tr th {\n",
       "        text-align: left;\n",
       "    }\n",
       "</style>\n",
       "<table border=\"1\" class=\"dataframe\">\n",
       "  <thead>\n",
       "    <tr>\n",
       "      <th></th>\n",
       "      <th colspan=\"6\" halign=\"left\">lr</th>\n",
       "    </tr>\n",
       "    <tr>\n",
       "      <th></th>\n",
       "      <th>0</th>\n",
       "      <th>1</th>\n",
       "      <th>2</th>\n",
       "      <th>3</th>\n",
       "      <th>4</th>\n",
       "      <th>5</th>\n",
       "    </tr>\n",
       "  </thead>\n",
       "  <tbody>\n",
       "    <tr>\n",
       "      <th>0</th>\n",
       "      <td>-0.087506</td>\n",
       "      <td>-0.445226</td>\n",
       "      <td>0.257963</td>\n",
       "      <td>-0.169284</td>\n",
       "      <td>0.765611</td>\n",
       "      <td>-0.080084</td>\n",
       "    </tr>\n",
       "    <tr>\n",
       "      <th>1</th>\n",
       "      <td>0.014493</td>\n",
       "      <td>-0.201046</td>\n",
       "      <td>0.060892</td>\n",
       "      <td>-0.023509</td>\n",
       "      <td>0.107967</td>\n",
       "      <td>-0.247193</td>\n",
       "    </tr>\n",
       "    <tr>\n",
       "      <th>2</th>\n",
       "      <td>0.030187</td>\n",
       "      <td>0.063196</td>\n",
       "      <td>0.245909</td>\n",
       "      <td>0.022339</td>\n",
       "      <td>0.058980</td>\n",
       "      <td>-0.402526</td>\n",
       "    </tr>\n",
       "    <tr>\n",
       "      <th>3</th>\n",
       "      <td>0.004590</td>\n",
       "      <td>-0.733963</td>\n",
       "      <td>-0.352732</td>\n",
       "      <td>-0.701328</td>\n",
       "      <td>0.266984</td>\n",
       "      <td>0.696120</td>\n",
       "    </tr>\n",
       "    <tr>\n",
       "      <th>4</th>\n",
       "      <td>-0.045407</td>\n",
       "      <td>-0.034154</td>\n",
       "      <td>-0.451850</td>\n",
       "      <td>0.260244</td>\n",
       "      <td>-0.516844</td>\n",
       "      <td>0.106248</td>\n",
       "    </tr>\n",
       "    <tr>\n",
       "      <th>...</th>\n",
       "      <td>...</td>\n",
       "      <td>...</td>\n",
       "      <td>...</td>\n",
       "      <td>...</td>\n",
       "      <td>...</td>\n",
       "      <td>...</td>\n",
       "    </tr>\n",
       "    <tr>\n",
       "      <th>556</th>\n",
       "      <td>-0.022132</td>\n",
       "      <td>-0.659468</td>\n",
       "      <td>0.550630</td>\n",
       "      <td>-0.234927</td>\n",
       "      <td>0.385178</td>\n",
       "      <td>-0.351492</td>\n",
       "    </tr>\n",
       "    <tr>\n",
       "      <th>557</th>\n",
       "      <td>0.058454</td>\n",
       "      <td>-0.246969</td>\n",
       "      <td>0.268995</td>\n",
       "      <td>-0.162010</td>\n",
       "      <td>-0.157603</td>\n",
       "      <td>0.174153</td>\n",
       "    </tr>\n",
       "    <tr>\n",
       "      <th>558</th>\n",
       "      <td>1.599105</td>\n",
       "      <td>-2.473094</td>\n",
       "      <td>-0.854612</td>\n",
       "      <td>-0.313142</td>\n",
       "      <td>-0.712694</td>\n",
       "      <td>0.416311</td>\n",
       "    </tr>\n",
       "    <tr>\n",
       "      <th>559</th>\n",
       "      <td>-0.374313</td>\n",
       "      <td>-0.740397</td>\n",
       "      <td>1.771455</td>\n",
       "      <td>-0.242904</td>\n",
       "      <td>-0.275139</td>\n",
       "      <td>0.876728</td>\n",
       "    </tr>\n",
       "    <tr>\n",
       "      <th>560</th>\n",
       "      <td>-0.188309</td>\n",
       "      <td>-0.298022</td>\n",
       "      <td>0.416920</td>\n",
       "      <td>0.065047</td>\n",
       "      <td>-0.042363</td>\n",
       "      <td>0.438815</td>\n",
       "    </tr>\n",
       "  </tbody>\n",
       "</table>\n",
       "<p>561 rows × 6 columns</p>\n",
       "</div>"
      ],
      "text/plain": [
       "           lr                                                  \n",
       "            0         1         2         3         4         5\n",
       "0   -0.087506 -0.445226  0.257963 -0.169284  0.765611 -0.080084\n",
       "1    0.014493 -0.201046  0.060892 -0.023509  0.107967 -0.247193\n",
       "2    0.030187  0.063196  0.245909  0.022339  0.058980 -0.402526\n",
       "3    0.004590 -0.733963 -0.352732 -0.701328  0.266984  0.696120\n",
       "4   -0.045407 -0.034154 -0.451850  0.260244 -0.516844  0.106248\n",
       "..        ...       ...       ...       ...       ...       ...\n",
       "556 -0.022132 -0.659468  0.550630 -0.234927  0.385178 -0.351492\n",
       "557  0.058454 -0.246969  0.268995 -0.162010 -0.157603  0.174153\n",
       "558  1.599105 -2.473094 -0.854612 -0.313142 -0.712694  0.416311\n",
       "559 -0.374313 -0.740397  1.771455 -0.242904 -0.275139  0.876728\n",
       "560 -0.188309 -0.298022  0.416920  0.065047 -0.042363  0.438815\n",
       "\n",
       "[561 rows x 6 columns]"
      ]
     },
     "execution_count": 105,
     "metadata": {},
     "output_type": "execute_result"
    }
   ],
   "source": [
    "coefficients[0]"
   ]
  },
  {
   "cell_type": "code",
   "execution_count": 103,
   "metadata": {},
   "outputs": [
    {
     "data": {
      "text/plain": [
       "pandas.core.frame.DataFrame"
      ]
     },
     "execution_count": 103,
     "metadata": {},
     "output_type": "execute_result"
    }
   ],
   "source": [
    "type(coefficients[0])"
   ]
  },
  {
   "cell_type": "code",
   "execution_count": 106,
   "metadata": {},
   "outputs": [
    {
     "data": {
      "text/plain": [
       "(10299, 562)"
      ]
     },
     "execution_count": 106,
     "metadata": {},
     "output_type": "execute_result"
    }
   ],
   "source": [
    "data.shape"
   ]
  },
  {
   "cell_type": "code",
   "execution_count": 109,
   "metadata": {},
   "outputs": [
    {
     "data": {
      "text/plain": [
       "(6, 561)"
      ]
     },
     "execution_count": 109,
     "metadata": {},
     "output_type": "execute_result"
    }
   ],
   "source": [
    "lr.coef_.shape"
   ]
  },
  {
   "cell_type": "code",
   "execution_count": 111,
   "metadata": {},
   "outputs": [
    {
     "data": {
      "text/plain": [
       "(561,)"
      ]
     },
     "execution_count": 111,
     "metadata": {},
     "output_type": "execute_result"
    }
   ],
   "source": [
    "lr.coef_[0].shape"
   ]
  },
  {
   "cell_type": "code",
   "execution_count": 113,
   "metadata": {},
   "outputs": [
    {
     "data": {
      "text/plain": [
       "-0.08750645744001681"
      ]
     },
     "execution_count": 113,
     "metadata": {},
     "output_type": "execute_result"
    }
   ],
   "source": [
    "lr.coef_[0][0]"
   ]
  },
  {
   "cell_type": "code",
   "execution_count": 114,
   "metadata": {},
   "outputs": [
    {
     "data": {
      "text/plain": [
       "-0.4452257776957952"
      ]
     },
     "execution_count": 114,
     "metadata": {},
     "output_type": "execute_result"
    }
   ],
   "source": [
    "lr.coef_[1][0]"
   ]
  },
  {
   "cell_type": "code",
   "execution_count": 115,
   "metadata": {},
   "outputs": [
    {
     "data": {
      "text/plain": [
       "0.2579634671091469"
      ]
     },
     "execution_count": 115,
     "metadata": {},
     "output_type": "execute_result"
    }
   ],
   "source": [
    "lr.coef_[2][0]"
   ]
  },
  {
   "cell_type": "code",
   "execution_count": 116,
   "metadata": {},
   "outputs": [
    {
     "data": {
      "text/plain": [
       "-0.16928427185606562"
      ]
     },
     "execution_count": 116,
     "metadata": {},
     "output_type": "execute_result"
    }
   ],
   "source": [
    "lr.coef_[3][0]"
   ]
  },
  {
   "cell_type": "code",
   "execution_count": 117,
   "metadata": {},
   "outputs": [
    {
     "data": {
      "text/plain": [
       "0.7656110352462109"
      ]
     },
     "execution_count": 117,
     "metadata": {},
     "output_type": "execute_result"
    }
   ],
   "source": [
    "lr.coef_[4][0]"
   ]
  },
  {
   "cell_type": "code",
   "execution_count": 118,
   "metadata": {},
   "outputs": [
    {
     "data": {
      "text/plain": [
       "-0.08008379301681715"
      ]
     },
     "execution_count": 118,
     "metadata": {},
     "output_type": "execute_result"
    }
   ],
   "source": [
    "lr.coef_[5][0]"
   ]
  },
  {
   "cell_type": "code",
   "execution_count": 120,
   "metadata": {},
   "outputs": [
    {
     "data": {
      "text/html": [
       "<div>\n",
       "<style scoped>\n",
       "    .dataframe tbody tr th:only-of-type {\n",
       "        vertical-align: middle;\n",
       "    }\n",
       "\n",
       "    .dataframe tbody tr th {\n",
       "        vertical-align: top;\n",
       "    }\n",
       "\n",
       "    .dataframe thead th {\n",
       "        text-align: right;\n",
       "    }\n",
       "</style>\n",
       "<table border=\"1\" class=\"dataframe\">\n",
       "  <thead>\n",
       "    <tr style=\"text-align: right;\">\n",
       "      <th></th>\n",
       "      <th>tBodyAcc-mean()-X</th>\n",
       "      <th>tBodyAcc-mean()-Y</th>\n",
       "      <th>tBodyAcc-mean()-Z</th>\n",
       "      <th>tBodyAcc-std()-X</th>\n",
       "      <th>tBodyAcc-std()-Y</th>\n",
       "      <th>tBodyAcc-std()-Z</th>\n",
       "      <th>tBodyAcc-mad()-X</th>\n",
       "      <th>tBodyAcc-mad()-Y</th>\n",
       "      <th>tBodyAcc-mad()-Z</th>\n",
       "      <th>tBodyAcc-max()-X</th>\n",
       "      <th>...</th>\n",
       "      <th>fBodyBodyGyroJerkMag-skewness()</th>\n",
       "      <th>fBodyBodyGyroJerkMag-kurtosis()</th>\n",
       "      <th>angle(tBodyAccMean,gravity)</th>\n",
       "      <th>angle(tBodyAccJerkMean),gravityMean)</th>\n",
       "      <th>angle(tBodyGyroMean,gravityMean)</th>\n",
       "      <th>angle(tBodyGyroJerkMean,gravityMean)</th>\n",
       "      <th>angle(X,gravityMean)</th>\n",
       "      <th>angle(Y,gravityMean)</th>\n",
       "      <th>angle(Z,gravityMean)</th>\n",
       "      <th>Activity</th>\n",
       "    </tr>\n",
       "  </thead>\n",
       "  <tbody>\n",
       "    <tr>\n",
       "      <th>0</th>\n",
       "      <td>0.288585</td>\n",
       "      <td>-0.020294</td>\n",
       "      <td>-0.132905</td>\n",
       "      <td>-0.995279</td>\n",
       "      <td>-0.983111</td>\n",
       "      <td>-0.913526</td>\n",
       "      <td>-0.995112</td>\n",
       "      <td>-0.983185</td>\n",
       "      <td>-0.923527</td>\n",
       "      <td>-0.934724</td>\n",
       "      <td>...</td>\n",
       "      <td>-0.298676</td>\n",
       "      <td>-0.710304</td>\n",
       "      <td>-0.112754</td>\n",
       "      <td>0.0304</td>\n",
       "      <td>-0.464761</td>\n",
       "      <td>-0.018446</td>\n",
       "      <td>-0.841247</td>\n",
       "      <td>0.179941</td>\n",
       "      <td>-0.058627</td>\n",
       "      <td>2</td>\n",
       "    </tr>\n",
       "  </tbody>\n",
       "</table>\n",
       "<p>1 rows × 562 columns</p>\n",
       "</div>"
      ],
      "text/plain": [
       "   tBodyAcc-mean()-X  tBodyAcc-mean()-Y  tBodyAcc-mean()-Z  tBodyAcc-std()-X  \\\n",
       "0           0.288585          -0.020294          -0.132905         -0.995279   \n",
       "\n",
       "   tBodyAcc-std()-Y  tBodyAcc-std()-Z  tBodyAcc-mad()-X  tBodyAcc-mad()-Y  \\\n",
       "0         -0.983111         -0.913526         -0.995112         -0.983185   \n",
       "\n",
       "   tBodyAcc-mad()-Z  tBodyAcc-max()-X  ...  fBodyBodyGyroJerkMag-skewness()  \\\n",
       "0         -0.923527         -0.934724  ...                        -0.298676   \n",
       "\n",
       "   fBodyBodyGyroJerkMag-kurtosis()  angle(tBodyAccMean,gravity)  \\\n",
       "0                        -0.710304                    -0.112754   \n",
       "\n",
       "   angle(tBodyAccJerkMean),gravityMean)  angle(tBodyGyroMean,gravityMean)  \\\n",
       "0                                0.0304                         -0.464761   \n",
       "\n",
       "   angle(tBodyGyroJerkMean,gravityMean)  angle(X,gravityMean)  \\\n",
       "0                             -0.018446             -0.841247   \n",
       "\n",
       "   angle(Y,gravityMean)  angle(Z,gravityMean)  Activity  \n",
       "0              0.179941             -0.058627         2  \n",
       "\n",
       "[1 rows x 562 columns]"
      ]
     },
     "execution_count": 120,
     "metadata": {},
     "output_type": "execute_result"
    }
   ],
   "source": [
    "data.head(1)"
   ]
  },
  {
   "cell_type": "code",
   "execution_count": 124,
   "metadata": {},
   "outputs": [
    {
     "data": {
      "text/plain": [
       "(561, 6)"
      ]
     },
     "execution_count": 124,
     "metadata": {},
     "output_type": "execute_result"
    }
   ],
   "source": [
    "lr.coef_.T.shape"
   ]
  },
  {
   "cell_type": "code",
   "execution_count": 125,
   "metadata": {},
   "outputs": [
    {
     "data": {
      "image/png": "[encoded data removed]",
      "text/plain": [
       "<Figure size 432x288 with 6 Axes>"
      ]
     },
     "metadata": {},
     "output_type": "display_data"
    }
   ],
   "source": [
    "fig, axList = plt.subplots(nrows = 3, ncols = 2)"
   ]
  },
  {
   "cell_type": "code",
   "execution_count": 126,
   "metadata": {},
   "outputs": [],
   "source": [
    "axList = axList.flatten()"
   ]
  },
  {
   "cell_type": "code",
   "execution_count": 127,
   "metadata": {},
   "outputs": [
    {
     "data": {
      "text/plain": [
       "array([<AxesSubplot:>, <AxesSubplot:>, <AxesSubplot:>, <AxesSubplot:>,\n",
       "       <AxesSubplot:>, <AxesSubplot:>], dtype=object)"
      ]
     },
     "execution_count": 127,
     "metadata": {},
     "output_type": "execute_result"
    }
   ],
   "source": [
    "axList"
   ]
  },
  {
   "cell_type": "code",
   "execution_count": 129,
   "metadata": {},
   "outputs": [],
   "source": [
    "fig.set_size_inches(10,10)"
   ]
  },
  {
   "cell_type": "code",
   "execution_count": 130,
   "metadata": {},
   "outputs": [
    {
     "data": {
      "image/png": "[encoded data removed]",
      "text/plain": [
       "<Figure size 720x720 with 6 Axes>"
      ]
     },
     "execution_count": 130,
     "metadata": {},
     "output_type": "execute_result"
    }
   ],
   "source": [
    "fig"
   ]
  },
  {
   "cell_type": "code",
   "execution_count": 132,
   "metadata": {},
   "outputs": [
    {
     "data": {
      "image/png": "[encoded data removed]",
      "text/plain": [
       "<Figure size 720x720 with 6 Axes>"
      ]
     },
     "metadata": {},
     "output_type": "display_data"
    }
   ],
   "source": [
    "fig, axList = plt.subplots(nrows = 3, ncols = 2)\n",
    "axList = axList.flatten()\n",
    "fig.set_size_inches(10,10)\n",
    "\n",
    "for loc, ax in enumerate(axList):\n",
    "    data = coefficients.xs(loc, level = 1, axis = 1)\n",
    "    data.plot(marker = 'o', ls = '', ms = 2.0, ax = ax, legend = False)\n",
    "    \n",
    "    if ax is axList[0]:\n",
    "        ax.legend(loc = 4)\n",
    "        \n",
    "        ax.set(title = 'Coefficient Set' + str(loc))\n",
    "        \n",
    "        \n",
    "        \n",
    "plt.tight_layout()\n",
    "        "
   ]
  },
  {
   "cell_type": "code",
   "execution_count": null,
   "metadata": {},
   "outputs": [],
   "source": []
  }
 ],
 "metadata": {
  "kernelspec": {
   "display_name": "Python 3",
   "language": "python",
   "name": "python3"
  },
  "language_info": {
   "codemirror_mode": {
    "name": "ipython",
    "version": 3
   },
   "file_extension": ".py",
   "mimetype": "text/x-python",
   "name": "python",
   "nbconvert_exporter": "python",
   "pygments_lexer": "ipython3",
   "version": "3.8.5"
  }
 },
 "nbformat": 4,
 "nbformat_minor": 4
}
